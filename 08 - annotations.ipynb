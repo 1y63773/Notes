{
 "cells": [
  {
   "cell_type": "markdown",
   "metadata": {},
   "source": [
    "<table style=\"float:left; border:none\">\n",
    "   <tr style=\"border:none\">\n",
    "       <td style=\"border:none\">\n",
    "           <a href=\"http://bokeh.pydata.org/\">     \n",
    "           <img \n",
    "               src=\"assets/images/bokeh-transparent.png\" \n",
    "               style=\"width:50px\"\n",
    "           >\n",
    "           </a>    \n",
    "       </td>\n",
    "       <td style=\"border:none\">\n",
    "           <h1>Bokeh Tutorial</h1>\n",
    "       </td>\n",
    "   </tr>\n",
    "</table>\n",
    "\n",
    "<div style=\"float:right;\"><h2>08. Annotations</h2></div>"
   ]
  },
  {
   "cell_type": "code",
   "execution_count": 1,
   "metadata": {
    "collapsed": true
   },
   "outputs": [],
   "source": [
    "from bokeh.io import output_notebook, show\n",
    "from bokeh.plotting import figure"
   ]
  },
  {
   "cell_type": "code",
   "execution_count": 2,
   "metadata": {
    "collapsed": false
   },
   "outputs": [
    {
     "data": {
      "text/html": [
       "\n",
       "    <div class=\"bk-root\">\n",
       "        <a href=\"http://bokeh.pydata.org\" target=\"_blank\" class=\"bk-logo bk-logo-small bk-logo-notebook\"></a>\n",
       "        <span id=\"7b889230-8ec1-421a-9524-42b3cf375d06\">Loading BokehJS ...</span>\n",
       "    </div>"
      ]
     },
     "metadata": {},
     "output_type": "display_data"
    },
    {
     "data": {
      "application/javascript": [
       "\n",
       "(function(global) {\n",
       "  function now() {\n",
       "    return new Date();\n",
       "  }\n",
       "\n",
       "  var force = \"1\";\n",
       "\n",
       "  if (typeof (window._bokeh_onload_callbacks) === \"undefined\" || force !== \"\") {\n",
       "    window._bokeh_onload_callbacks = [];\n",
       "    window._bokeh_is_loading = undefined;\n",
       "  }\n",
       "\n",
       "  function run_callbacks() {\n",
       "    window._bokeh_onload_callbacks.forEach(function(callback) { callback() });\n",
       "    delete window._bokeh_onload_callbacks\n",
       "    console.info(\"Bokeh: all callbacks have finished\");\n",
       "  }\n",
       "\n",
       "  function load_libs(js_urls, callback) {\n",
       "    window._bokeh_onload_callbacks.push(callback);\n",
       "    if (window._bokeh_is_loading > 0) {\n",
       "      console.log(\"Bokeh: BokehJS is being loaded, scheduling callback at\", now());\n",
       "      return null;\n",
       "    }\n",
       "    if (js_urls == null || js_urls.length === 0) {\n",
       "      run_callbacks();\n",
       "      return null;\n",
       "    }\n",
       "    console.log(\"Bokeh: BokehJS not loaded, scheduling load and callback at\", now());\n",
       "    window._bokeh_is_loading = js_urls.length;\n",
       "    for (var i = 0; i < js_urls.length; i++) {\n",
       "      var url = js_urls[i];\n",
       "      var s = document.createElement('script');\n",
       "      s.src = url;\n",
       "      s.async = false;\n",
       "      s.onreadystatechange = s.onload = function() {\n",
       "        window._bokeh_is_loading--;\n",
       "        if (window._bokeh_is_loading === 0) {\n",
       "          console.log(\"Bokeh: all BokehJS libraries loaded\");\n",
       "          run_callbacks()\n",
       "        }\n",
       "      };\n",
       "      s.onerror = function() {\n",
       "        console.warn(\"failed to load library \" + url);\n",
       "      };\n",
       "      console.log(\"Bokeh: injecting script tag for BokehJS library: \", url);\n",
       "      document.getElementsByTagName(\"head\")[0].appendChild(s);\n",
       "    }\n",
       "  };\n",
       "\n",
       "  var js_urls = ['https://cdn.pydata.org/bokeh/release/bokeh-0.12.1.min.js', 'https://cdn.pydata.org/bokeh/release/bokeh-widgets-0.12.1.min.js', 'https://cdn.pydata.org/bokeh/release/bokeh-compiler-0.12.1.min.js'];\n",
       "\n",
       "  var inline_js = [\n",
       "    function(Bokeh) {\n",
       "      Bokeh.set_log_level(\"info\");\n",
       "    },\n",
       "    \n",
       "    function(Bokeh) {\n",
       "      \n",
       "      Bokeh.$(\"#7b889230-8ec1-421a-9524-42b3cf375d06\").text(\"BokehJS successfully loaded\");\n",
       "      var kernel = Jupyter.notebook.kernel\n",
       "      if (kernel.execute !== undefined) {\n",
       "          kernel.execute(\"import bokeh.io; bokeh.io._nb_loaded = True\");\n",
       "      }\n",
       "    },\n",
       "    function(Bokeh) {\n",
       "      console.log(\"Bokeh: injecting CSS: https://cdn.pydata.org/bokeh/release/bokeh-0.12.1.min.css\");\n",
       "      Bokeh.embed.inject_css(\"https://cdn.pydata.org/bokeh/release/bokeh-0.12.1.min.css\");\n",
       "      console.log(\"Bokeh: injecting CSS: https://cdn.pydata.org/bokeh/release/bokeh-widgets-0.12.1.min.css\");\n",
       "      Bokeh.embed.inject_css(\"https://cdn.pydata.org/bokeh/release/bokeh-widgets-0.12.1.min.css\");\n",
       "    }\n",
       "  ];\n",
       "\n",
       "  function run_inline_js() {\n",
       "    for (var i = 0; i < inline_js.length; i++) {\n",
       "      inline_js[i](window.Bokeh);\n",
       "    }\n",
       "  }\n",
       "\n",
       "  if (window._bokeh_is_loading === 0) {\n",
       "    console.log(\"Bokeh: BokehJS loaded, going straight to plotting\");\n",
       "    run_inline_js();\n",
       "  } else {\n",
       "    load_libs(js_urls, function() {\n",
       "      console.log(\"Bokeh: BokehJS plotting callback run at\", now());\n",
       "      run_inline_js();\n",
       "    });\n",
       "  }\n",
       "}(this));"
      ]
     },
     "metadata": {},
     "output_type": "display_data"
    }
   ],
   "source": [
    "output_notebook()"
   ]
  },
  {
   "cell_type": "markdown",
   "metadata": {},
   "source": [
    "# Overview\n",
    "\n",
    "Sometimes we want to add visual cues (boundary lines, shaded regions, labels and arrows, etc.) to our plots to call out some feature or other. Bokeh has several annotation types available for uses like this. Typically to add annotations we create the \"low level\" annotation object directly, and add it to our `Plot`, `Figure` or `Chart` using `add_layout`. Let's take a look at some specific examples."
   ]
  },
  {
   "cell_type": "markdown",
   "metadata": {
    "collapsed": true
   },
   "source": [
    "## Spans\n",
    "\n",
    "`Spans` are \"infinite\" vertical or horizonal lines. When creating them, you specify the `dimension` that should be spanned (i.e., `width` or `height`), any visual line properties for the appearance, and the location along the dimension where the line should be drawn. Let's look at an example that adds two horizontal spans to a simple plot:"
   ]
  },
  {
   "cell_type": "code",
   "execution_count": 3,
   "metadata": {
    "collapsed": false
   },
   "outputs": [
    {
     "data": {
      "text/html": [
       "\n",
       "\n",
       "    <div class=\"bk-root\">\n",
       "        <div class=\"plotdiv\" id=\"5a22fa4b-c731-4239-b4f8-510a12fcafa2\"></div>\n",
       "    </div>\n",
       "<script type=\"text/javascript\">\n",
       "  \n",
       "  (function(global) {\n",
       "    function now() {\n",
       "      return new Date();\n",
       "    }\n",
       "  \n",
       "    var force = \"\";\n",
       "  \n",
       "    if (typeof (window._bokeh_onload_callbacks) === \"undefined\" || force !== \"\") {\n",
       "      window._bokeh_onload_callbacks = [];\n",
       "      window._bokeh_is_loading = undefined;\n",
       "    }\n",
       "  \n",
       "    function run_callbacks() {\n",
       "      window._bokeh_onload_callbacks.forEach(function(callback) { callback() });\n",
       "      delete window._bokeh_onload_callbacks\n",
       "      console.info(\"Bokeh: all callbacks have finished\");\n",
       "    }\n",
       "  \n",
       "    function load_libs(js_urls, callback) {\n",
       "      window._bokeh_onload_callbacks.push(callback);\n",
       "      if (window._bokeh_is_loading > 0) {\n",
       "        console.log(\"Bokeh: BokehJS is being loaded, scheduling callback at\", now());\n",
       "        return null;\n",
       "      }\n",
       "      if (js_urls == null || js_urls.length === 0) {\n",
       "        run_callbacks();\n",
       "        return null;\n",
       "      }\n",
       "      console.log(\"Bokeh: BokehJS not loaded, scheduling load and callback at\", now());\n",
       "      window._bokeh_is_loading = js_urls.length;\n",
       "      for (var i = 0; i < js_urls.length; i++) {\n",
       "        var url = js_urls[i];\n",
       "        var s = document.createElement('script');\n",
       "        s.src = url;\n",
       "        s.async = false;\n",
       "        s.onreadystatechange = s.onload = function() {\n",
       "          window._bokeh_is_loading--;\n",
       "          if (window._bokeh_is_loading === 0) {\n",
       "            console.log(\"Bokeh: all BokehJS libraries loaded\");\n",
       "            run_callbacks()\n",
       "          }\n",
       "        };\n",
       "        s.onerror = function() {\n",
       "          console.warn(\"failed to load library \" + url);\n",
       "        };\n",
       "        console.log(\"Bokeh: injecting script tag for BokehJS library: \", url);\n",
       "        document.getElementsByTagName(\"head\")[0].appendChild(s);\n",
       "      }\n",
       "    };var element = document.getElementById(\"5a22fa4b-c731-4239-b4f8-510a12fcafa2\");\n",
       "    if (element == null) {\n",
       "      console.log(\"Bokeh: ERROR: autoload.js configured with elementid '5a22fa4b-c731-4239-b4f8-510a12fcafa2' but no matching script tag was found. \")\n",
       "      return false;\n",
       "    }\n",
       "  \n",
       "    var js_urls = [];\n",
       "  \n",
       "    var inline_js = [\n",
       "      function(Bokeh) {\n",
       "        Bokeh.$(function() {\n",
       "            var docs_json = {\"5cc8a291-7ad8-4f16-873c-9db37d20b595\":{\"roots\":{\"references\":[{\"attributes\":{\"formatter\":{\"id\":\"8579b953-f14f-4eac-92c9-2e4a447688ee\",\"type\":\"BasicTickFormatter\"},\"plot\":{\"id\":\"25bc8766-d586-4471-bd12-e53153302ea1\",\"subtype\":\"Figure\",\"type\":\"Plot\"},\"ticker\":{\"id\":\"e181cb53-014a-4f78-90ad-bb10b7ca5589\",\"type\":\"BasicTicker\"}},\"id\":\"f47e6a89-cfd1-4f89-b527-ce869df2c235\",\"type\":\"LinearAxis\"},{\"attributes\":{\"below\":[{\"id\":\"f47e6a89-cfd1-4f89-b527-ce869df2c235\",\"type\":\"LinearAxis\"}],\"left\":[{\"id\":\"e65c24b5-8111-48c4-abbc-6fa31fba652f\",\"type\":\"LinearAxis\"}],\"renderers\":[{\"id\":\"f47e6a89-cfd1-4f89-b527-ce869df2c235\",\"type\":\"LinearAxis\"},{\"id\":\"b5180166-baa2-483e-a1f9-09c76a974559\",\"type\":\"Grid\"},{\"id\":\"e65c24b5-8111-48c4-abbc-6fa31fba652f\",\"type\":\"LinearAxis\"},{\"id\":\"a55c7dc1-96d8-4d27-9b92-47015945cbff\",\"type\":\"Grid\"},{\"id\":\"3182bd19-5976-4309-a237-f886070cec06\",\"type\":\"BoxAnnotation\"},{\"id\":\"163d8341-1800-47ac-ab07-5b8c7beb3358\",\"type\":\"GlyphRenderer\"},{\"id\":\"fdc9c145-91cd-4d8c-9568-ec21d0f08a79\",\"type\":\"Span\"},{\"id\":\"639d1ffe-5c3a-42d9-beba-360205625e51\",\"type\":\"Span\"}],\"title\":{\"id\":\"59b31a76-5f2a-4e46-8af8-c6328d490872\",\"type\":\"Title\"},\"tool_events\":{\"id\":\"6afff27e-6770-4c0e-9ff7-d2bec1c92d33\",\"type\":\"ToolEvents\"},\"toolbar\":{\"id\":\"4e526827-e159-4eea-bb43-4dd5b459bb79\",\"type\":\"Toolbar\"},\"x_range\":{\"id\":\"2bb60f13-baf0-4819-8321-ed8f74077c05\",\"type\":\"DataRange1d\"},\"y_range\":{\"id\":\"97f4467a-6026-46ad-8599-c5b0e9eb884c\",\"type\":\"Range1d\"}},\"id\":\"25bc8766-d586-4471-bd12-e53153302ea1\",\"subtype\":\"Figure\",\"type\":\"Plot\"},{\"attributes\":{\"line_alpha\":{\"value\":0.1},\"line_color\":{\"value\":\"#1f77b4\"},\"x\":{\"field\":\"x\"},\"y\":{\"field\":\"y\"}},\"id\":\"4ea72549-179b-4a48-93ef-9c409c251bc9\",\"type\":\"Line\"},{\"attributes\":{\"plot\":{\"id\":\"25bc8766-d586-4471-bd12-e53153302ea1\",\"subtype\":\"Figure\",\"type\":\"Plot\"}},\"id\":\"98a1c8b2-45a1-4662-95f4-38466d8706f3\",\"type\":\"SaveTool\"},{\"attributes\":{},\"id\":\"c21e213d-8f41-4ee1-9258-1f91599bc565\",\"type\":\"BasicTickFormatter\"},{\"attributes\":{\"line_color\":{\"value\":\"firebrick\"},\"line_width\":{\"value\":4},\"location\":-1,\"plot\":{\"id\":\"25bc8766-d586-4471-bd12-e53153302ea1\",\"subtype\":\"Figure\",\"type\":\"Plot\"}},\"id\":\"639d1ffe-5c3a-42d9-beba-360205625e51\",\"type\":\"Span\"},{\"attributes\":{\"overlay\":{\"id\":\"3182bd19-5976-4309-a237-f886070cec06\",\"type\":\"BoxAnnotation\"},\"plot\":{\"id\":\"25bc8766-d586-4471-bd12-e53153302ea1\",\"subtype\":\"Figure\",\"type\":\"Plot\"}},\"id\":\"06dea5fc-bdf9-40ba-8507-6e4d4a21801a\",\"type\":\"BoxZoomTool\"},{\"attributes\":{\"bottom_units\":\"screen\",\"fill_alpha\":{\"value\":0.5},\"fill_color\":{\"value\":\"lightgrey\"},\"left_units\":\"screen\",\"level\":\"overlay\",\"line_alpha\":{\"value\":1.0},\"line_color\":{\"value\":\"black\"},\"line_dash\":[4,4],\"line_width\":{\"value\":2},\"plot\":null,\"render_mode\":\"css\",\"right_units\":\"screen\",\"top_units\":\"screen\"},\"id\":\"3182bd19-5976-4309-a237-f886070cec06\",\"type\":\"BoxAnnotation\"},{\"attributes\":{\"line_color\":{\"value\":\"olive\"},\"line_width\":{\"value\":4},\"location\":1,\"plot\":{\"id\":\"25bc8766-d586-4471-bd12-e53153302ea1\",\"subtype\":\"Figure\",\"type\":\"Plot\"}},\"id\":\"fdc9c145-91cd-4d8c-9568-ec21d0f08a79\",\"type\":\"Span\"},{\"attributes\":{\"callback\":null,\"end\":2,\"start\":-2},\"id\":\"97f4467a-6026-46ad-8599-c5b0e9eb884c\",\"type\":\"Range1d\"},{\"attributes\":{\"callback\":null},\"id\":\"2bb60f13-baf0-4819-8321-ed8f74077c05\",\"type\":\"DataRange1d\"},{\"attributes\":{\"active_drag\":\"auto\",\"active_scroll\":\"auto\",\"active_tap\":\"auto\",\"tools\":[{\"id\":\"c6972765-d3d9-4b79-a2d7-f34c4daa3f22\",\"type\":\"PanTool\"},{\"id\":\"2f84fc9b-4865-47f1-9e52-a916ff48fd54\",\"type\":\"WheelZoomTool\"},{\"id\":\"06dea5fc-bdf9-40ba-8507-6e4d4a21801a\",\"type\":\"BoxZoomTool\"},{\"id\":\"98a1c8b2-45a1-4662-95f4-38466d8706f3\",\"type\":\"SaveTool\"},{\"id\":\"5e13963d-5113-4bd4-9518-5ec417e941b2\",\"type\":\"ResetTool\"},{\"id\":\"f67d3ebd-474a-4564-b7d9-5b809ca7f2bd\",\"type\":\"HelpTool\"}]},\"id\":\"4e526827-e159-4eea-bb43-4dd5b459bb79\",\"type\":\"Toolbar\"},{\"attributes\":{\"formatter\":{\"id\":\"c21e213d-8f41-4ee1-9258-1f91599bc565\",\"type\":\"BasicTickFormatter\"},\"plot\":{\"id\":\"25bc8766-d586-4471-bd12-e53153302ea1\",\"subtype\":\"Figure\",\"type\":\"Plot\"},\"ticker\":{\"id\":\"0ee3ee65-a54f-419a-b142-d8acaeac5e4b\",\"type\":\"BasicTicker\"}},\"id\":\"e65c24b5-8111-48c4-abbc-6fa31fba652f\",\"type\":\"LinearAxis\"},{\"attributes\":{\"plot\":{\"id\":\"25bc8766-d586-4471-bd12-e53153302ea1\",\"subtype\":\"Figure\",\"type\":\"Plot\"},\"ticker\":{\"id\":\"e181cb53-014a-4f78-90ad-bb10b7ca5589\",\"type\":\"BasicTicker\"}},\"id\":\"b5180166-baa2-483e-a1f9-09c76a974559\",\"type\":\"Grid\"},{\"attributes\":{\"plot\":null,\"text\":null},\"id\":\"59b31a76-5f2a-4e46-8af8-c6328d490872\",\"type\":\"Title\"},{\"attributes\":{\"data_source\":{\"id\":\"142ef060-9a2c-468b-941a-4780d114474c\",\"type\":\"ColumnDataSource\"},\"glyph\":{\"id\":\"85046e2f-091f-4a4c-83d7-f756e4eaf1f6\",\"type\":\"Line\"},\"hover_glyph\":null,\"nonselection_glyph\":{\"id\":\"4ea72549-179b-4a48-93ef-9c409c251bc9\",\"type\":\"Line\"},\"selection_glyph\":null},\"id\":\"163d8341-1800-47ac-ab07-5b8c7beb3358\",\"type\":\"GlyphRenderer\"},{\"attributes\":{\"plot\":{\"id\":\"25bc8766-d586-4471-bd12-e53153302ea1\",\"subtype\":\"Figure\",\"type\":\"Plot\"}},\"id\":\"5e13963d-5113-4bd4-9518-5ec417e941b2\",\"type\":\"ResetTool\"},{\"attributes\":{},\"id\":\"0ee3ee65-a54f-419a-b142-d8acaeac5e4b\",\"type\":\"BasicTicker\"},{\"attributes\":{\"plot\":{\"id\":\"25bc8766-d586-4471-bd12-e53153302ea1\",\"subtype\":\"Figure\",\"type\":\"Plot\"}},\"id\":\"f67d3ebd-474a-4564-b7d9-5b809ca7f2bd\",\"type\":\"HelpTool\"},{\"attributes\":{\"line_color\":{\"value\":\"#1f77b4\"},\"x\":{\"field\":\"x\"},\"y\":{\"field\":\"y\"}},\"id\":\"85046e2f-091f-4a4c-83d7-f756e4eaf1f6\",\"type\":\"Line\"},{\"attributes\":{\"plot\":{\"id\":\"25bc8766-d586-4471-bd12-e53153302ea1\",\"subtype\":\"Figure\",\"type\":\"Plot\"}},\"id\":\"c6972765-d3d9-4b79-a2d7-f34c4daa3f22\",\"type\":\"PanTool\"},{\"attributes\":{},\"id\":\"e181cb53-014a-4f78-90ad-bb10b7ca5589\",\"type\":\"BasicTicker\"},{\"attributes\":{\"dimension\":1,\"plot\":{\"id\":\"25bc8766-d586-4471-bd12-e53153302ea1\",\"subtype\":\"Figure\",\"type\":\"Plot\"},\"ticker\":{\"id\":\"0ee3ee65-a54f-419a-b142-d8acaeac5e4b\",\"type\":\"BasicTicker\"}},\"id\":\"a55c7dc1-96d8-4d27-9b92-47015945cbff\",\"type\":\"Grid\"},{\"attributes\":{},\"id\":\"8579b953-f14f-4eac-92c9-2e4a447688ee\",\"type\":\"BasicTickFormatter\"},{\"attributes\":{\"callback\":null,\"column_names\":[\"y\",\"x\"],\"data\":{\"x\":[0.0,0.10050251256281408,0.20100502512562815,0.30150753768844224,0.4020100502512563,0.5025125628140704,0.6030150753768845,0.7035175879396985,0.8040201005025126,0.9045226130653267,1.0050251256281408,1.105527638190955,1.206030150753769,1.306532663316583,1.407035175879397,1.5075376884422111,1.6080402010050252,1.7085427135678393,1.8090452261306533,1.9095477386934674,2.0100502512562817,2.1105527638190957,2.21105527638191,2.311557788944724,2.412060301507538,2.512562814070352,2.613065326633166,2.71356783919598,2.814070351758794,2.9145728643216082,3.0150753768844223,3.1155778894472363,3.2160804020100504,3.3165829145728645,3.4170854271356785,3.5175879396984926,3.6180904522613067,3.7185929648241207,3.819095477386935,3.919597989949749,4.020100502512563,4.120603015075377,4.2211055276381915,4.3216080402010055,4.42211055276382,4.522613065326634,4.623115577889448,4.723618090452262,4.824120603015076,4.92462311557789,5.025125628140704,5.125628140703518,5.226130653266332,5.326633165829146,5.42713567839196,5.527638190954774,5.628140703517588,5.728643216080402,5.8291457286432165,5.9296482412060305,6.030150753768845,6.130653266331659,6.231155778894473,6.331658291457287,6.432160804020101,6.532663316582915,6.633165829145729,6.733668341708543,6.834170854271357,6.934673366834171,7.035175879396985,7.135678391959799,7.236180904522613,7.336683417085427,7.437185929648241,7.5376884422110555,7.63819095477387,7.738693467336684,7.839195979899498,7.939698492462312,8.040201005025127,8.14070351758794,8.241206030150755,8.341708542713569,8.442211055276383,8.542713567839197,8.643216080402011,8.743718592964825,8.84422110552764,8.944723618090453,9.045226130653267,9.145728643216081,9.246231155778895,9.34673366834171,9.447236180904524,9.547738693467338,9.648241206030152,9.748743718592966,9.84924623115578,9.949748743718594,10.050251256281408,10.150753768844222,10.251256281407036,10.35175879396985,10.452261306532664,10.552763819095478,10.653266331658292,10.753768844221106,10.85427135678392,10.954773869346734,11.055276381909549,11.155778894472363,11.256281407035177,11.35678391959799,11.457286432160805,11.557788944723619,11.658291457286433,11.758793969849247,11.859296482412061,11.959798994974875,12.06030150753769,12.160804020100503,12.261306532663317,12.361809045226131,12.462311557788945,12.56281407035176,12.663316582914574,12.763819095477388,12.864321608040202,12.964824120603016,13.06532663316583,13.165829145728644,13.266331658291458,13.366834170854272,13.467336683417086,13.5678391959799,13.668341708542714,13.768844221105528,13.869346733668342,13.969849246231156,14.07035175879397,14.170854271356784,14.271356783919598,14.371859296482413,14.472361809045227,14.57286432160804,14.673366834170855,14.773869346733669,14.874371859296483,14.974874371859297,15.075376884422111,15.175879396984925,15.27638190954774,15.376884422110553,15.477386934673367,15.577889447236181,15.678391959798995,15.77889447236181,15.879396984924623,15.979899497487438,16.080402010050253,16.180904522613066,16.28140703517588,16.381909547738694,16.48241206030151,16.582914572864322,16.683417085427138,16.78391959798995,16.884422110552766,16.984924623115578,17.085427135678394,17.185929648241206,17.286432160804022,17.386934673366834,17.48743718592965,17.587939698492463,17.68844221105528,17.78894472361809,17.889447236180906,17.98994974874372,18.090452261306535,18.190954773869347,18.291457286432163,18.391959798994975,18.49246231155779,18.592964824120603,18.69346733668342,18.79396984924623,18.894472361809047,18.99497487437186,19.095477386934675,19.195979899497488,19.296482412060303,19.396984924623116,19.49748743718593,19.597989949748744,19.69849246231156,19.798994974874372,19.899497487437188,20.0],\"y\":[0.0,0.10033340611397856,0.19965422182925707,0.2969600760684489,0.3912689332607891,0.48162900429630934,0.5671283522249922,0.6469040957577352,0.720151117685035,0.7861301903258074,0.84417543600223,0.8937010472475914,0.9342071989250891,0.9652850925909591,0.9866210821929372,0.9979998394664454,0.9993065270825165,0.9905279576154928,0.9717527266338982,0.9431703185712997,0.9050691944009351,0.8578338804137864,0.8019410874808932,0.737954899965305,0.6665210828384021,0.5883605644546254,0.5042621607581176,0.4150746143504438,0.32169802876315795,0.2250747843827254,0.12618002770661219,0.0260118299154004,-0.07441888591686176,-0.17409854731690658,-0.2720211616449078,-0.3671984688295239,-0.45866991514132416,-0.5455123473467255,-0.6268493294065579,-0.7018599876927554,-0.7697872954549803,-0.8299457129282269,-0.8817281059754842,-0.9246118734407446,-0.9581642213735454,-0.9820465308962223,-0.9960177756322361,-0.9999369542060184,-0.9937645132649188,-0.9775627466617587,-0.9514951667693332,-0.9158248542717212,-0.870911803086728,-0.8172092872151839,-0.7552592861837865,-0.6856870152490829,-0.6091946155651793,-0.5265540679956123,-0.43859940208501036,-0.3462182788195934,-0.250343032125446,-0.15194125951605447,-0.05200605685069962,0.048454004242978146,0.1484250551318267,0.2468981623987645,0.34287951025690017,0.43540043039266096,0.5235271780141882,0.6063703554426186,0.6830938881409576,0.7529234625921657,0.8151543408692327,0.8691584730306023,0.9143908355608308,0.9503949318873145,0.9768073994604692,0.9933616769015238,0.9998906942081381,0.9963285588676023,0.9827112208609282,0.9591761098464471,0.9259607481845431,0.8834003538012378,0.8319244570831352,0.7720525659468906,0.7043889228324319,0.6296164065336967,0.5484896404111711,0.46182737653991096,0.37050423265417287,0.2754418652815221,0.17759966814940648,0.07796508973825697,-0.02245633230115589,-0.12265111929089911,-0.22160807981193167,-0.3183285149065574,-0.41183629720376236,-0.5011877222463261,-0.5854810325975929,-0.6638655186081827,-0.7355501039953746,-0.7998113295873013,-0.8560006546579639,-0.903551002166129,-0.9419824818418809,-0.9709072333619758,-0.990033340735435,-0.9991677783943945,-0.9982183592575101,-0.9871946651055623,-0.966207949879674,-0.9354700168780792,-0.89529108118306,-0.8460766388909868,-0.7883233747419922,-0.7226141494505268,-0.6496121173259396,-0.5700540335495606,-0.4847428186529565,-0.39453945523854783,-0.3003542987229555,-0.203137889797277,-0.103871361327294,-0.0035565365096275887,0.09679418178421749,0.19616802843659367,0.29356209716833237,0.38799346212544567,0.4785090978182669,0.5641954972984655,0.644187891504835,0.7176789767338574,0.7839270621551785,0.8422635551451839,0.8920997088947761,0.932932564192766,0.9643500254188847,0.9860350195181922,0.9977686959834515,0.9994326355504284,0.9910100453153949,0.9725859282134105,0.9443462251469577,0.9065759384227932,0.8596562554357672,0.8040607016281309,0.7403503615496515,0.6691682162488151,0.591232654143619,0.507330220861901,0.41830768122167306,0.32506347346398523,0.2285386419843857,0.12970734007217227,0.029566998506218765,-0.07087174077157724,-0.17059522431328336,-0.26859701721481055,-0.36388806031440185,-0.45550665203067525,-0.5425281541009938,-0.6240743232673008,-0.6993221747317495,-0.7675122879297706,-0.8279564707966822,-0.8800447051780209,-0.9232513032888079,-0.9571402130891266,-0.9813694190328588,-0.9956943937760503,-0.9999705660094207,-0.9941547795089919,-0.978305728679741,-0.9525833661966533,-0.9172472887214079,-0.8726541169864731,-0.8192538966874445,-0.7575855565067815,-0.6882714691076759,-0.6120111699899564,-0.5295742975988719,-0.44179282593705715,-0.3495526680700663,-0.2537847352651319,-0.15545554199651387,-0.05555745163422786,0.04490133874094825,0.14490697332027144,0.2434501696592168,0.3395364046140433,0.4321959513237761,0.5204936659417063,0.6035384253463177,0.680492120583744,0.750578115277733,0.8130890836425904,0.8673941489959544,0.9129452507276277]}},\"id\":\"142ef060-9a2c-468b-941a-4780d114474c\",\"type\":\"ColumnDataSource\"},{\"attributes\":{\"plot\":{\"id\":\"25bc8766-d586-4471-bd12-e53153302ea1\",\"subtype\":\"Figure\",\"type\":\"Plot\"}},\"id\":\"2f84fc9b-4865-47f1-9e52-a916ff48fd54\",\"type\":\"WheelZoomTool\"},{\"attributes\":{},\"id\":\"6afff27e-6770-4c0e-9ff7-d2bec1c92d33\",\"type\":\"ToolEvents\"}],\"root_ids\":[\"25bc8766-d586-4471-bd12-e53153302ea1\"]},\"title\":\"Bokeh Application\",\"version\":\"0.12.1\"}};\n",
       "            var render_items = [{\"docid\":\"5cc8a291-7ad8-4f16-873c-9db37d20b595\",\"elementid\":\"5a22fa4b-c731-4239-b4f8-510a12fcafa2\",\"modelid\":\"25bc8766-d586-4471-bd12-e53153302ea1\",\"notebook_comms_target\":\"c08f4fbf-67e7-46a8-bacc-e0593d164ae3\"}];\n",
       "            \n",
       "            Bokeh.embed.embed_items(docs_json, render_items);\n",
       "        });\n",
       "      },\n",
       "      function(Bokeh) {\n",
       "      }\n",
       "    ];\n",
       "  \n",
       "    function run_inline_js() {\n",
       "      for (var i = 0; i < inline_js.length; i++) {\n",
       "        inline_js[i](window.Bokeh);\n",
       "      }\n",
       "    }\n",
       "  \n",
       "    if (window._bokeh_is_loading === 0) {\n",
       "      console.log(\"Bokeh: BokehJS loaded, going straight to plotting\");\n",
       "      run_inline_js();\n",
       "    } else {\n",
       "      load_libs(js_urls, function() {\n",
       "        console.log(\"Bokeh: BokehJS plotting callback run at\", now());\n",
       "        run_inline_js();\n",
       "      });\n",
       "    }\n",
       "  }(this));\n",
       "</script>"
      ]
     },
     "metadata": {},
     "output_type": "display_data"
    },
    {
     "data": {
      "text/html": [
       "<p><code>&lt;Bokeh Notebook handle for <strong>In[3]</strong>&gt;</code></p>"
      ],
      "text/plain": [
       "<bokeh.io._CommsHandle at 0x1133c4050>"
      ]
     },
     "execution_count": 3,
     "metadata": {},
     "output_type": "execute_result"
    }
   ],
   "source": [
    "import numpy as np\n",
    "from bokeh.models.annotations import Span\n",
    "\n",
    "x = np.linspace(0, 20, 200)\n",
    "y = np.sin(x)\n",
    "\n",
    "p = figure(y_range=(-2, 2))\n",
    "p.line(x, y)\n",
    "\n",
    "upper = Span(location=1, dimension='width', line_color='olive', line_width=4)\n",
    "p.add_layout(upper)\n",
    "\n",
    "lower = Span(location=-1, dimension='width', line_color='firebrick', line_width=4)\n",
    "p.add_layout(lower)\n",
    "\n",
    "show(p)"
   ]
  },
  {
   "cell_type": "markdown",
   "metadata": {
    "collapsed": true
   },
   "source": [
    "## Box Annotations\n",
    "\n",
    "Sometimes you might want to call out some region of the plot by drawing a shaded box. This can be done with the `BoxAnnotation`, which is configured with the coordinate properties:\n",
    "* `top`\n",
    "* `left`\n",
    "* `bottom`\n",
    "* `right`\n",
    "\n",
    "as well as any visual line or fill properties to control the appearance. \n",
    "\n",
    "\"Infinite\" boxes can be made by leaving any of the coordinates unspecified. E.g., if `top` is not given, the box will always extend to the top of the plot area, regardless of any panning or zooming that happens.\n",
    "\n",
    "Let's take a look at an example that adds a few shaded boxes to a plot:"
   ]
  },
  {
   "cell_type": "code",
   "execution_count": 4,
   "metadata": {
    "collapsed": false,
    "scrolled": false
   },
   "outputs": [
    {
     "data": {
      "text/html": [
       "\n",
       "\n",
       "    <div class=\"bk-root\">\n",
       "        <div class=\"plotdiv\" id=\"0397f572-5daa-43e6-ac95-f9139fd6ad69\"></div>\n",
       "    </div>\n",
       "<script type=\"text/javascript\">\n",
       "  \n",
       "  (function(global) {\n",
       "    function now() {\n",
       "      return new Date();\n",
       "    }\n",
       "  \n",
       "    var force = \"\";\n",
       "  \n",
       "    if (typeof (window._bokeh_onload_callbacks) === \"undefined\" || force !== \"\") {\n",
       "      window._bokeh_onload_callbacks = [];\n",
       "      window._bokeh_is_loading = undefined;\n",
       "    }\n",
       "  \n",
       "    function run_callbacks() {\n",
       "      window._bokeh_onload_callbacks.forEach(function(callback) { callback() });\n",
       "      delete window._bokeh_onload_callbacks\n",
       "      console.info(\"Bokeh: all callbacks have finished\");\n",
       "    }\n",
       "  \n",
       "    function load_libs(js_urls, callback) {\n",
       "      window._bokeh_onload_callbacks.push(callback);\n",
       "      if (window._bokeh_is_loading > 0) {\n",
       "        console.log(\"Bokeh: BokehJS is being loaded, scheduling callback at\", now());\n",
       "        return null;\n",
       "      }\n",
       "      if (js_urls == null || js_urls.length === 0) {\n",
       "        run_callbacks();\n",
       "        return null;\n",
       "      }\n",
       "      console.log(\"Bokeh: BokehJS not loaded, scheduling load and callback at\", now());\n",
       "      window._bokeh_is_loading = js_urls.length;\n",
       "      for (var i = 0; i < js_urls.length; i++) {\n",
       "        var url = js_urls[i];\n",
       "        var s = document.createElement('script');\n",
       "        s.src = url;\n",
       "        s.async = false;\n",
       "        s.onreadystatechange = s.onload = function() {\n",
       "          window._bokeh_is_loading--;\n",
       "          if (window._bokeh_is_loading === 0) {\n",
       "            console.log(\"Bokeh: all BokehJS libraries loaded\");\n",
       "            run_callbacks()\n",
       "          }\n",
       "        };\n",
       "        s.onerror = function() {\n",
       "          console.warn(\"failed to load library \" + url);\n",
       "        };\n",
       "        console.log(\"Bokeh: injecting script tag for BokehJS library: \", url);\n",
       "        document.getElementsByTagName(\"head\")[0].appendChild(s);\n",
       "      }\n",
       "    };var element = document.getElementById(\"0397f572-5daa-43e6-ac95-f9139fd6ad69\");\n",
       "    if (element == null) {\n",
       "      console.log(\"Bokeh: ERROR: autoload.js configured with elementid '0397f572-5daa-43e6-ac95-f9139fd6ad69' but no matching script tag was found. \")\n",
       "      return false;\n",
       "    }\n",
       "  \n",
       "    var js_urls = [];\n",
       "  \n",
       "    var inline_js = [\n",
       "      function(Bokeh) {\n",
       "        Bokeh.$(function() {\n",
       "            var docs_json = {\"03deadcc-f478-4f65-994d-6fc0f07b6d76\":{\"roots\":{\"references\":[{\"attributes\":{\"plot\":{\"id\":\"e6995f32-6b52-4d0e-a7fd-122bcb54831c\",\"subtype\":\"Figure\",\"type\":\"Plot\"}},\"id\":\"e5e02e8e-f606-4fdc-a1ec-b5471edeb91f\",\"type\":\"HelpTool\"},{\"attributes\":{},\"id\":\"4c73979e-5109-4bce-a0da-5d3c8b329ec1\",\"type\":\"BasicTickFormatter\"},{\"attributes\":{\"plot\":{\"id\":\"e6995f32-6b52-4d0e-a7fd-122bcb54831c\",\"subtype\":\"Figure\",\"type\":\"Plot\"}},\"id\":\"41c3ccc6-04c3-49ab-b549-03c1a2e6f2ef\",\"type\":\"SaveTool\"},{\"attributes\":{},\"id\":\"f3a0af7d-d653-458e-9b9f-106f8c06a905\",\"type\":\"BasicTicker\"},{\"attributes\":{\"callback\":null},\"id\":\"dc738492-9d73-4e12-9010-ae18f99172f4\",\"type\":\"DataRange1d\"},{\"attributes\":{},\"id\":\"79147b83-f10b-4425-bd54-5cc692a5d59e\",\"type\":\"ToolEvents\"},{\"attributes\":{\"plot\":{\"id\":\"e6995f32-6b52-4d0e-a7fd-122bcb54831c\",\"subtype\":\"Figure\",\"type\":\"Plot\"}},\"id\":\"610abeea-d64d-47a5-9ea9-ea9894175d35\",\"type\":\"WheelZoomTool\"},{\"attributes\":{},\"id\":\"d96fe781-95ea-42f9-8939-dbc92c4c0696\",\"type\":\"BasicTickFormatter\"},{\"attributes\":{\"plot\":{\"id\":\"e6995f32-6b52-4d0e-a7fd-122bcb54831c\",\"subtype\":\"Figure\",\"type\":\"Plot\"}},\"id\":\"951c76b2-3c16-4141-823f-ddadd8d7e03c\",\"type\":\"PanTool\"},{\"attributes\":{\"line_color\":{\"value\":\"#1f77b4\"},\"x\":{\"field\":\"x\"},\"y\":{\"field\":\"y\"}},\"id\":\"e5e37419-a950-4472-807d-619bf17e4ccf\",\"type\":\"Line\"},{\"attributes\":{\"formatter\":{\"id\":\"d96fe781-95ea-42f9-8939-dbc92c4c0696\",\"type\":\"BasicTickFormatter\"},\"plot\":{\"id\":\"e6995f32-6b52-4d0e-a7fd-122bcb54831c\",\"subtype\":\"Figure\",\"type\":\"Plot\"},\"ticker\":{\"id\":\"f3a0af7d-d653-458e-9b9f-106f8c06a905\",\"type\":\"BasicTicker\"}},\"id\":\"eeda151b-19b3-44aa-a82c-2f63baecdcf1\",\"type\":\"LinearAxis\"},{\"attributes\":{\"bottom\":1,\"fill_alpha\":{\"value\":0.1},\"fill_color\":{\"value\":\"olive\"},\"plot\":{\"id\":\"e6995f32-6b52-4d0e-a7fd-122bcb54831c\",\"subtype\":\"Figure\",\"type\":\"Plot\"}},\"id\":\"2362b13a-84fd-47ee-8aa5-cae838273571\",\"type\":\"BoxAnnotation\"},{\"attributes\":{\"active_drag\":\"auto\",\"active_scroll\":\"auto\",\"active_tap\":\"auto\",\"tools\":[{\"id\":\"951c76b2-3c16-4141-823f-ddadd8d7e03c\",\"type\":\"PanTool\"},{\"id\":\"610abeea-d64d-47a5-9ea9-ea9894175d35\",\"type\":\"WheelZoomTool\"},{\"id\":\"b90611f0-8bb2-4d81-9838-566212538d62\",\"type\":\"BoxZoomTool\"},{\"id\":\"41c3ccc6-04c3-49ab-b549-03c1a2e6f2ef\",\"type\":\"SaveTool\"},{\"id\":\"fb52940a-a008-4ea4-b58a-547def1ce1ae\",\"type\":\"ResetTool\"},{\"id\":\"e5e02e8e-f606-4fdc-a1ec-b5471edeb91f\",\"type\":\"HelpTool\"}]},\"id\":\"6122132c-726a-4b2d-b057-05304dcec298\",\"type\":\"Toolbar\"},{\"attributes\":{\"callback\":null,\"column_names\":[\"y\",\"x\"],\"data\":{\"x\":[0.0,0.10050251256281408,0.20100502512562815,0.30150753768844224,0.4020100502512563,0.5025125628140704,0.6030150753768845,0.7035175879396985,0.8040201005025126,0.9045226130653267,1.0050251256281408,1.105527638190955,1.206030150753769,1.306532663316583,1.407035175879397,1.5075376884422111,1.6080402010050252,1.7085427135678393,1.8090452261306533,1.9095477386934674,2.0100502512562817,2.1105527638190957,2.21105527638191,2.311557788944724,2.412060301507538,2.512562814070352,2.613065326633166,2.71356783919598,2.814070351758794,2.9145728643216082,3.0150753768844223,3.1155778894472363,3.2160804020100504,3.3165829145728645,3.4170854271356785,3.5175879396984926,3.6180904522613067,3.7185929648241207,3.819095477386935,3.919597989949749,4.020100502512563,4.120603015075377,4.2211055276381915,4.3216080402010055,4.42211055276382,4.522613065326634,4.623115577889448,4.723618090452262,4.824120603015076,4.92462311557789,5.025125628140704,5.125628140703518,5.226130653266332,5.326633165829146,5.42713567839196,5.527638190954774,5.628140703517588,5.728643216080402,5.8291457286432165,5.9296482412060305,6.030150753768845,6.130653266331659,6.231155778894473,6.331658291457287,6.432160804020101,6.532663316582915,6.633165829145729,6.733668341708543,6.834170854271357,6.934673366834171,7.035175879396985,7.135678391959799,7.236180904522613,7.336683417085427,7.437185929648241,7.5376884422110555,7.63819095477387,7.738693467336684,7.839195979899498,7.939698492462312,8.040201005025127,8.14070351758794,8.241206030150755,8.341708542713569,8.442211055276383,8.542713567839197,8.643216080402011,8.743718592964825,8.84422110552764,8.944723618090453,9.045226130653267,9.145728643216081,9.246231155778895,9.34673366834171,9.447236180904524,9.547738693467338,9.648241206030152,9.748743718592966,9.84924623115578,9.949748743718594,10.050251256281408,10.150753768844222,10.251256281407036,10.35175879396985,10.452261306532664,10.552763819095478,10.653266331658292,10.753768844221106,10.85427135678392,10.954773869346734,11.055276381909549,11.155778894472363,11.256281407035177,11.35678391959799,11.457286432160805,11.557788944723619,11.658291457286433,11.758793969849247,11.859296482412061,11.959798994974875,12.06030150753769,12.160804020100503,12.261306532663317,12.361809045226131,12.462311557788945,12.56281407035176,12.663316582914574,12.763819095477388,12.864321608040202,12.964824120603016,13.06532663316583,13.165829145728644,13.266331658291458,13.366834170854272,13.467336683417086,13.5678391959799,13.668341708542714,13.768844221105528,13.869346733668342,13.969849246231156,14.07035175879397,14.170854271356784,14.271356783919598,14.371859296482413,14.472361809045227,14.57286432160804,14.673366834170855,14.773869346733669,14.874371859296483,14.974874371859297,15.075376884422111,15.175879396984925,15.27638190954774,15.376884422110553,15.477386934673367,15.577889447236181,15.678391959798995,15.77889447236181,15.879396984924623,15.979899497487438,16.080402010050253,16.180904522613066,16.28140703517588,16.381909547738694,16.48241206030151,16.582914572864322,16.683417085427138,16.78391959798995,16.884422110552766,16.984924623115578,17.085427135678394,17.185929648241206,17.286432160804022,17.386934673366834,17.48743718592965,17.587939698492463,17.68844221105528,17.78894472361809,17.889447236180906,17.98994974874372,18.090452261306535,18.190954773869347,18.291457286432163,18.391959798994975,18.49246231155779,18.592964824120603,18.69346733668342,18.79396984924623,18.894472361809047,18.99497487437186,19.095477386934675,19.195979899497488,19.296482412060303,19.396984924623116,19.49748743718593,19.597989949748744,19.69849246231156,19.798994974874372,19.899497487437188,20.0],\"y\":[0.0,0.10033340611397856,0.19965422182925707,0.2969600760684489,0.3912689332607891,0.48162900429630934,0.5671283522249922,0.6469040957577352,0.720151117685035,0.7861301903258074,0.84417543600223,0.8937010472475914,0.9342071989250891,0.9652850925909591,0.9866210821929372,0.9979998394664454,0.9993065270825165,0.9905279576154928,0.9717527266338982,0.9431703185712997,0.9050691944009351,0.8578338804137864,0.8019410874808932,0.737954899965305,0.6665210828384021,0.5883605644546254,0.5042621607581176,0.4150746143504438,0.32169802876315795,0.2250747843827254,0.12618002770661219,0.0260118299154004,-0.07441888591686176,-0.17409854731690658,-0.2720211616449078,-0.3671984688295239,-0.45866991514132416,-0.5455123473467255,-0.6268493294065579,-0.7018599876927554,-0.7697872954549803,-0.8299457129282269,-0.8817281059754842,-0.9246118734407446,-0.9581642213735454,-0.9820465308962223,-0.9960177756322361,-0.9999369542060184,-0.9937645132649188,-0.9775627466617587,-0.9514951667693332,-0.9158248542717212,-0.870911803086728,-0.8172092872151839,-0.7552592861837865,-0.6856870152490829,-0.6091946155651793,-0.5265540679956123,-0.43859940208501036,-0.3462182788195934,-0.250343032125446,-0.15194125951605447,-0.05200605685069962,0.048454004242978146,0.1484250551318267,0.2468981623987645,0.34287951025690017,0.43540043039266096,0.5235271780141882,0.6063703554426186,0.6830938881409576,0.7529234625921657,0.8151543408692327,0.8691584730306023,0.9143908355608308,0.9503949318873145,0.9768073994604692,0.9933616769015238,0.9998906942081381,0.9963285588676023,0.9827112208609282,0.9591761098464471,0.9259607481845431,0.8834003538012378,0.8319244570831352,0.7720525659468906,0.7043889228324319,0.6296164065336967,0.5484896404111711,0.46182737653991096,0.37050423265417287,0.2754418652815221,0.17759966814940648,0.07796508973825697,-0.02245633230115589,-0.12265111929089911,-0.22160807981193167,-0.3183285149065574,-0.41183629720376236,-0.5011877222463261,-0.5854810325975929,-0.6638655186081827,-0.7355501039953746,-0.7998113295873013,-0.8560006546579639,-0.903551002166129,-0.9419824818418809,-0.9709072333619758,-0.990033340735435,-0.9991677783943945,-0.9982183592575101,-0.9871946651055623,-0.966207949879674,-0.9354700168780792,-0.89529108118306,-0.8460766388909868,-0.7883233747419922,-0.7226141494505268,-0.6496121173259396,-0.5700540335495606,-0.4847428186529565,-0.39453945523854783,-0.3003542987229555,-0.203137889797277,-0.103871361327294,-0.0035565365096275887,0.09679418178421749,0.19616802843659367,0.29356209716833237,0.38799346212544567,0.4785090978182669,0.5641954972984655,0.644187891504835,0.7176789767338574,0.7839270621551785,0.8422635551451839,0.8920997088947761,0.932932564192766,0.9643500254188847,0.9860350195181922,0.9977686959834515,0.9994326355504284,0.9910100453153949,0.9725859282134105,0.9443462251469577,0.9065759384227932,0.8596562554357672,0.8040607016281309,0.7403503615496515,0.6691682162488151,0.591232654143619,0.507330220861901,0.41830768122167306,0.32506347346398523,0.2285386419843857,0.12970734007217227,0.029566998506218765,-0.07087174077157724,-0.17059522431328336,-0.26859701721481055,-0.36388806031440185,-0.45550665203067525,-0.5425281541009938,-0.6240743232673008,-0.6993221747317495,-0.7675122879297706,-0.8279564707966822,-0.8800447051780209,-0.9232513032888079,-0.9571402130891266,-0.9813694190328588,-0.9956943937760503,-0.9999705660094207,-0.9941547795089919,-0.978305728679741,-0.9525833661966533,-0.9172472887214079,-0.8726541169864731,-0.8192538966874445,-0.7575855565067815,-0.6882714691076759,-0.6120111699899564,-0.5295742975988719,-0.44179282593705715,-0.3495526680700663,-0.2537847352651319,-0.15545554199651387,-0.05555745163422786,0.04490133874094825,0.14490697332027144,0.2434501696592168,0.3395364046140433,0.4321959513237761,0.5204936659417063,0.6035384253463177,0.680492120583744,0.750578115277733,0.8130890836425904,0.8673941489959544,0.9129452507276277]}},\"id\":\"49b8c237-cb22-4005-a861-0f750af68130\",\"type\":\"ColumnDataSource\"},{\"attributes\":{\"callback\":null,\"end\":2,\"start\":-2},\"id\":\"774742f5-195c-4faa-91d4-49257251a1c6\",\"type\":\"Range1d\"},{\"attributes\":{\"data_source\":{\"id\":\"49b8c237-cb22-4005-a861-0f750af68130\",\"type\":\"ColumnDataSource\"},\"glyph\":{\"id\":\"e5e37419-a950-4472-807d-619bf17e4ccf\",\"type\":\"Line\"},\"hover_glyph\":null,\"nonselection_glyph\":{\"id\":\"802a8a9c-465e-466b-8085-dc31d37006af\",\"type\":\"Line\"},\"selection_glyph\":null},\"id\":\"69bb7371-21bc-4571-9498-686a89d40ea8\",\"type\":\"GlyphRenderer\"},{\"attributes\":{\"fill_alpha\":{\"value\":0.1},\"fill_color\":{\"value\":\"firebrick\"},\"plot\":{\"id\":\"e6995f32-6b52-4d0e-a7fd-122bcb54831c\",\"subtype\":\"Figure\",\"type\":\"Plot\"},\"top\":-1},\"id\":\"f2cdc3a9-27b9-4e7b-8a7e-e8b8a777dc92\",\"type\":\"BoxAnnotation\"},{\"attributes\":{},\"id\":\"4e2e2d7e-d3c5-4264-8ff8-f6e0111ed72f\",\"type\":\"BasicTicker\"},{\"attributes\":{\"line_alpha\":{\"value\":0.1},\"line_color\":{\"value\":\"#1f77b4\"},\"x\":{\"field\":\"x\"},\"y\":{\"field\":\"y\"}},\"id\":\"802a8a9c-465e-466b-8085-dc31d37006af\",\"type\":\"Line\"},{\"attributes\":{\"overlay\":{\"id\":\"247c48ad-c570-4a08-9196-66ed4e00aeda\",\"type\":\"BoxAnnotation\"},\"plot\":{\"id\":\"e6995f32-6b52-4d0e-a7fd-122bcb54831c\",\"subtype\":\"Figure\",\"type\":\"Plot\"}},\"id\":\"b90611f0-8bb2-4d81-9838-566212538d62\",\"type\":\"BoxZoomTool\"},{\"attributes\":{\"plot\":{\"id\":\"e6995f32-6b52-4d0e-a7fd-122bcb54831c\",\"subtype\":\"Figure\",\"type\":\"Plot\"},\"ticker\":{\"id\":\"f3a0af7d-d653-458e-9b9f-106f8c06a905\",\"type\":\"BasicTicker\"}},\"id\":\"f4d6f7c6-3415-4c73-a81c-85ae82f713e5\",\"type\":\"Grid\"},{\"attributes\":{\"bottom_units\":\"screen\",\"fill_alpha\":{\"value\":0.5},\"fill_color\":{\"value\":\"lightgrey\"},\"left_units\":\"screen\",\"level\":\"overlay\",\"line_alpha\":{\"value\":1.0},\"line_color\":{\"value\":\"black\"},\"line_dash\":[4,4],\"line_width\":{\"value\":2},\"plot\":null,\"render_mode\":\"css\",\"right_units\":\"screen\",\"top_units\":\"screen\"},\"id\":\"247c48ad-c570-4a08-9196-66ed4e00aeda\",\"type\":\"BoxAnnotation\"},{\"attributes\":{\"plot\":null,\"text\":null},\"id\":\"87c357c0-5621-4f1c-8785-8d4840d405b2\",\"type\":\"Title\"},{\"attributes\":{\"plot\":{\"id\":\"e6995f32-6b52-4d0e-a7fd-122bcb54831c\",\"subtype\":\"Figure\",\"type\":\"Plot\"}},\"id\":\"fb52940a-a008-4ea4-b58a-547def1ce1ae\",\"type\":\"ResetTool\"},{\"attributes\":{\"formatter\":{\"id\":\"4c73979e-5109-4bce-a0da-5d3c8b329ec1\",\"type\":\"BasicTickFormatter\"},\"plot\":{\"id\":\"e6995f32-6b52-4d0e-a7fd-122bcb54831c\",\"subtype\":\"Figure\",\"type\":\"Plot\"},\"ticker\":{\"id\":\"4e2e2d7e-d3c5-4264-8ff8-f6e0111ed72f\",\"type\":\"BasicTicker\"}},\"id\":\"56511125-0adb-4768-9770-a0ca8cb1a925\",\"type\":\"LinearAxis\"},{\"attributes\":{\"dimension\":1,\"plot\":{\"id\":\"e6995f32-6b52-4d0e-a7fd-122bcb54831c\",\"subtype\":\"Figure\",\"type\":\"Plot\"},\"ticker\":{\"id\":\"4e2e2d7e-d3c5-4264-8ff8-f6e0111ed72f\",\"type\":\"BasicTicker\"}},\"id\":\"7df89157-0d2e-4f12-b633-149ebfb75c9e\",\"type\":\"Grid\"},{\"attributes\":{\"bottom\":-0.3,\"fill_alpha\":{\"value\":0.1},\"fill_color\":{\"value\":\"navy\"},\"left\":7,\"plot\":{\"id\":\"e6995f32-6b52-4d0e-a7fd-122bcb54831c\",\"subtype\":\"Figure\",\"type\":\"Plot\"},\"right\":12,\"top\":0.6},\"id\":\"128dda1f-6502-4181-9bc3-533661f9b2c0\",\"type\":\"BoxAnnotation\"},{\"attributes\":{\"below\":[{\"id\":\"eeda151b-19b3-44aa-a82c-2f63baecdcf1\",\"type\":\"LinearAxis\"}],\"left\":[{\"id\":\"56511125-0adb-4768-9770-a0ca8cb1a925\",\"type\":\"LinearAxis\"}],\"renderers\":[{\"id\":\"eeda151b-19b3-44aa-a82c-2f63baecdcf1\",\"type\":\"LinearAxis\"},{\"id\":\"f4d6f7c6-3415-4c73-a81c-85ae82f713e5\",\"type\":\"Grid\"},{\"id\":\"56511125-0adb-4768-9770-a0ca8cb1a925\",\"type\":\"LinearAxis\"},{\"id\":\"7df89157-0d2e-4f12-b633-149ebfb75c9e\",\"type\":\"Grid\"},{\"id\":\"247c48ad-c570-4a08-9196-66ed4e00aeda\",\"type\":\"BoxAnnotation\"},{\"id\":\"69bb7371-21bc-4571-9498-686a89d40ea8\",\"type\":\"GlyphRenderer\"},{\"id\":\"2362b13a-84fd-47ee-8aa5-cae838273571\",\"type\":\"BoxAnnotation\"},{\"id\":\"f2cdc3a9-27b9-4e7b-8a7e-e8b8a777dc92\",\"type\":\"BoxAnnotation\"},{\"id\":\"128dda1f-6502-4181-9bc3-533661f9b2c0\",\"type\":\"BoxAnnotation\"}],\"title\":{\"id\":\"87c357c0-5621-4f1c-8785-8d4840d405b2\",\"type\":\"Title\"},\"tool_events\":{\"id\":\"79147b83-f10b-4425-bd54-5cc692a5d59e\",\"type\":\"ToolEvents\"},\"toolbar\":{\"id\":\"6122132c-726a-4b2d-b057-05304dcec298\",\"type\":\"Toolbar\"},\"x_range\":{\"id\":\"dc738492-9d73-4e12-9010-ae18f99172f4\",\"type\":\"DataRange1d\"},\"y_range\":{\"id\":\"774742f5-195c-4faa-91d4-49257251a1c6\",\"type\":\"Range1d\"}},\"id\":\"e6995f32-6b52-4d0e-a7fd-122bcb54831c\",\"subtype\":\"Figure\",\"type\":\"Plot\"}],\"root_ids\":[\"e6995f32-6b52-4d0e-a7fd-122bcb54831c\"]},\"title\":\"Bokeh Application\",\"version\":\"0.12.1\"}};\n",
       "            var render_items = [{\"docid\":\"03deadcc-f478-4f65-994d-6fc0f07b6d76\",\"elementid\":\"0397f572-5daa-43e6-ac95-f9139fd6ad69\",\"modelid\":\"e6995f32-6b52-4d0e-a7fd-122bcb54831c\",\"notebook_comms_target\":\"35926ed6-189d-4e25-b857-96cb05ee88f3\"}];\n",
       "            \n",
       "            Bokeh.embed.embed_items(docs_json, render_items);\n",
       "        });\n",
       "      },\n",
       "      function(Bokeh) {\n",
       "      }\n",
       "    ];\n",
       "  \n",
       "    function run_inline_js() {\n",
       "      for (var i = 0; i < inline_js.length; i++) {\n",
       "        inline_js[i](window.Bokeh);\n",
       "      }\n",
       "    }\n",
       "  \n",
       "    if (window._bokeh_is_loading === 0) {\n",
       "      console.log(\"Bokeh: BokehJS loaded, going straight to plotting\");\n",
       "      run_inline_js();\n",
       "    } else {\n",
       "      load_libs(js_urls, function() {\n",
       "        console.log(\"Bokeh: BokehJS plotting callback run at\", now());\n",
       "        run_inline_js();\n",
       "      });\n",
       "    }\n",
       "  }(this));\n",
       "</script>"
      ]
     },
     "metadata": {},
     "output_type": "display_data"
    },
    {
     "data": {
      "text/html": [
       "<p><code>&lt;Bokeh Notebook handle for <strong>In[4]</strong>&gt;</code></p>"
      ],
      "text/plain": [
       "<bokeh.io._CommsHandle at 0x104c6ec90>"
      ]
     },
     "execution_count": 4,
     "metadata": {},
     "output_type": "execute_result"
    }
   ],
   "source": [
    "import numpy as np\n",
    "from bokeh.models.annotations import BoxAnnotation\n",
    "\n",
    "x = np.linspace(0, 20, 200)\n",
    "y = np.sin(x)\n",
    "\n",
    "p = figure(y_range=(-2, 2))\n",
    "p.line(x, y)\n",
    "\n",
    "# region that always fills the top of the plot\n",
    "upper = BoxAnnotation(bottom=1, fill_alpha=0.1, fill_color='olive')\n",
    "p.add_layout(upper)\n",
    "\n",
    "# region that always fills the bottom of the plot\n",
    "lower = BoxAnnotation(top=-1, fill_alpha=0.1, fill_color='firebrick')\n",
    "p.add_layout(lower)\n",
    "\n",
    "# a finite region\n",
    "center = BoxAnnotation(top=0.6, bottom=-0.3, left=7, right=12, fill_alpha=0.1, fill_color='navy')\n",
    "p.add_layout(center)\n",
    "\n",
    "show(p)"
   ]
  },
  {
   "cell_type": "markdown",
   "metadata": {
    "collapsed": true
   },
   "source": [
    "## Label\n",
    "\n",
    "The `Label` annoation allows you to easily attach single text labels to plots. The position and text to display are configured as `x`, `y`, and `text`:\n",
    "\n",
    "```python\n",
    "Label(x=10, y=5, text=\"Some Label\")\n",
    "```\n",
    "\n",
    "By default the units are in \"data space\" but `x_units` and `y_units` maybe set to `\"screen\"` to position the label relative to the canvas. Labels can also accept `x_offset` and `y_offset` to offset the final position from `x` and `y` by a given screen space distance. \n",
    "\n",
    "`Label` objects also have standard text, line (`border_line`) and fill (`background_fill`) properties. The line and fill properties apply to a bounding box around the text:\n",
    "\n",
    "```python\n",
    "Label(x=10, y=5, text=\"Some Label\", text_font_size=\"12pt\", \n",
    "      border_line_color=\"red\", background_fill_color=\"blue\")\n",
    "```"
   ]
  },
  {
   "cell_type": "code",
   "execution_count": 5,
   "metadata": {
    "collapsed": false
   },
   "outputs": [
    {
     "data": {
      "text/html": [
       "\n",
       "\n",
       "    <div class=\"bk-root\">\n",
       "        <div class=\"plotdiv\" id=\"f4b91906-c5af-4688-a7ce-708beceeac25\"></div>\n",
       "    </div>\n",
       "<script type=\"text/javascript\">\n",
       "  \n",
       "  (function(global) {\n",
       "    function now() {\n",
       "      return new Date();\n",
       "    }\n",
       "  \n",
       "    var force = \"\";\n",
       "  \n",
       "    if (typeof (window._bokeh_onload_callbacks) === \"undefined\" || force !== \"\") {\n",
       "      window._bokeh_onload_callbacks = [];\n",
       "      window._bokeh_is_loading = undefined;\n",
       "    }\n",
       "  \n",
       "    function run_callbacks() {\n",
       "      window._bokeh_onload_callbacks.forEach(function(callback) { callback() });\n",
       "      delete window._bokeh_onload_callbacks\n",
       "      console.info(\"Bokeh: all callbacks have finished\");\n",
       "    }\n",
       "  \n",
       "    function load_libs(js_urls, callback) {\n",
       "      window._bokeh_onload_callbacks.push(callback);\n",
       "      if (window._bokeh_is_loading > 0) {\n",
       "        console.log(\"Bokeh: BokehJS is being loaded, scheduling callback at\", now());\n",
       "        return null;\n",
       "      }\n",
       "      if (js_urls == null || js_urls.length === 0) {\n",
       "        run_callbacks();\n",
       "        return null;\n",
       "      }\n",
       "      console.log(\"Bokeh: BokehJS not loaded, scheduling load and callback at\", now());\n",
       "      window._bokeh_is_loading = js_urls.length;\n",
       "      for (var i = 0; i < js_urls.length; i++) {\n",
       "        var url = js_urls[i];\n",
       "        var s = document.createElement('script');\n",
       "        s.src = url;\n",
       "        s.async = false;\n",
       "        s.onreadystatechange = s.onload = function() {\n",
       "          window._bokeh_is_loading--;\n",
       "          if (window._bokeh_is_loading === 0) {\n",
       "            console.log(\"Bokeh: all BokehJS libraries loaded\");\n",
       "            run_callbacks()\n",
       "          }\n",
       "        };\n",
       "        s.onerror = function() {\n",
       "          console.warn(\"failed to load library \" + url);\n",
       "        };\n",
       "        console.log(\"Bokeh: injecting script tag for BokehJS library: \", url);\n",
       "        document.getElementsByTagName(\"head\")[0].appendChild(s);\n",
       "      }\n",
       "    };var element = document.getElementById(\"f4b91906-c5af-4688-a7ce-708beceeac25\");\n",
       "    if (element == null) {\n",
       "      console.log(\"Bokeh: ERROR: autoload.js configured with elementid 'f4b91906-c5af-4688-a7ce-708beceeac25' but no matching script tag was found. \")\n",
       "      return false;\n",
       "    }\n",
       "  \n",
       "    var js_urls = [];\n",
       "  \n",
       "    var inline_js = [\n",
       "      function(Bokeh) {\n",
       "        Bokeh.$(function() {\n",
       "            var docs_json = {\"5265bfae-78cc-4df5-b42f-204e2f75e290\":{\"roots\":{\"references\":[{\"attributes\":{\"callback\":null,\"end\":10},\"id\":\"15d184b2-3acc-4ae6-a698-05fe3c37d14f\",\"type\":\"Range1d\"},{\"attributes\":{\"formatter\":{\"id\":\"5ebadb44-f55f-4d8a-8ca9-3dc810fa262a\",\"type\":\"BasicTickFormatter\"},\"plot\":{\"id\":\"b05a09ac-42a3-480b-81ae-ca78c0f04329\",\"subtype\":\"Figure\",\"type\":\"Plot\"},\"ticker\":{\"id\":\"a85c94e6-7cfe-4344-993c-3318b23fa035\",\"type\":\"BasicTicker\"}},\"id\":\"749f40b2-9946-415b-9b0c-005527496e5f\",\"type\":\"LinearAxis\"},{\"attributes\":{\"plot\":null,\"text\":null},\"id\":\"66300a32-a367-49b0-89aa-53cc3185d12b\",\"type\":\"Title\"},{\"attributes\":{\"below\":[{\"id\":\"90ed5e8c-215c-4908-a5d8-bc088d152962\",\"type\":\"LinearAxis\"}],\"left\":[{\"id\":\"749f40b2-9946-415b-9b0c-005527496e5f\",\"type\":\"LinearAxis\"}],\"renderers\":[{\"id\":\"90ed5e8c-215c-4908-a5d8-bc088d152962\",\"type\":\"LinearAxis\"},{\"id\":\"adb5d83f-a3ec-441c-b2ec-6a83e928daaa\",\"type\":\"Grid\"},{\"id\":\"749f40b2-9946-415b-9b0c-005527496e5f\",\"type\":\"LinearAxis\"},{\"id\":\"959965f2-3e71-485c-932f-e2d0fea1d4a1\",\"type\":\"Grid\"},{\"id\":\"6209fa86-7838-4710-a744-d5879d98b8b1\",\"type\":\"BoxAnnotation\"},{\"id\":\"192594f8-5a0c-42a0-87ff-995ec06439ec\",\"type\":\"GlyphRenderer\"},{\"id\":\"13d426b9-c974-4e23-b1cf-766d7c3c3209\",\"type\":\"Label\"}],\"title\":{\"id\":\"66300a32-a367-49b0-89aa-53cc3185d12b\",\"type\":\"Title\"},\"tool_events\":{\"id\":\"f65a391e-95df-490b-8ac6-082c29483d99\",\"type\":\"ToolEvents\"},\"toolbar\":{\"id\":\"64100fd8-bd8d-4d43-8886-c5d6bd6a8542\",\"type\":\"Toolbar\"},\"x_range\":{\"id\":\"15d184b2-3acc-4ae6-a698-05fe3c37d14f\",\"type\":\"Range1d\"},\"y_range\":{\"id\":\"36ed31c1-3078-4ff2-83ff-41882edc44eb\",\"type\":\"Range1d\"}},\"id\":\"b05a09ac-42a3-480b-81ae-ca78c0f04329\",\"subtype\":\"Figure\",\"type\":\"Plot\"},{\"attributes\":{\"fill_alpha\":{\"value\":0.1},\"fill_color\":{\"value\":\"#1f77b4\"},\"line_alpha\":{\"value\":0.1},\"line_color\":{\"value\":\"#1f77b4\"},\"size\":{\"units\":\"screen\",\"value\":10},\"x\":{\"field\":\"x\"},\"y\":{\"field\":\"y\"}},\"id\":\"2311dd56-4680-4e66-993a-319dff60fb99\",\"type\":\"Circle\"},{\"attributes\":{\"fill_color\":{\"value\":\"olive\"},\"line_color\":{\"value\":\"olive\"},\"size\":{\"units\":\"screen\",\"value\":10},\"x\":{\"field\":\"x\"},\"y\":{\"field\":\"y\"}},\"id\":\"a0354460-85dc-4a1c-bb93-5bc6f15adb5d\",\"type\":\"Circle\"},{\"attributes\":{\"data_source\":{\"id\":\"db91ae3f-3311-4ee2-90c0-c78b0e4f93b4\",\"type\":\"ColumnDataSource\"},\"glyph\":{\"id\":\"a0354460-85dc-4a1c-bb93-5bc6f15adb5d\",\"type\":\"Circle\"},\"hover_glyph\":null,\"nonselection_glyph\":{\"id\":\"2311dd56-4680-4e66-993a-319dff60fb99\",\"type\":\"Circle\"},\"selection_glyph\":null},\"id\":\"192594f8-5a0c-42a0-87ff-995ec06439ec\",\"type\":\"GlyphRenderer\"},{\"attributes\":{\"callback\":null,\"end\":10},\"id\":\"36ed31c1-3078-4ff2-83ff-41882edc44eb\",\"type\":\"Range1d\"},{\"attributes\":{\"active_drag\":\"auto\",\"active_scroll\":\"auto\",\"active_tap\":\"auto\",\"tools\":[{\"id\":\"420a5e9d-2efe-4059-a40e-873bd8178985\",\"type\":\"PanTool\"},{\"id\":\"fc72e2f7-ded2-4438-b6ae-0a381b302796\",\"type\":\"WheelZoomTool\"},{\"id\":\"a3fbcab9-7e39-428b-bddc-996538e48209\",\"type\":\"BoxZoomTool\"},{\"id\":\"bda6c00d-6654-42a0-a82a-38ac201d1ac3\",\"type\":\"SaveTool\"},{\"id\":\"0e4f1997-7d5c-4767-92cc-5f3ef7b72448\",\"type\":\"ResetTool\"},{\"id\":\"4f966ed0-3b74-4735-b329-a092f6df0ff6\",\"type\":\"HelpTool\"}]},\"id\":\"64100fd8-bd8d-4d43-8886-c5d6bd6a8542\",\"type\":\"Toolbar\"},{\"attributes\":{\"overlay\":{\"id\":\"6209fa86-7838-4710-a744-d5879d98b8b1\",\"type\":\"BoxAnnotation\"},\"plot\":{\"id\":\"b05a09ac-42a3-480b-81ae-ca78c0f04329\",\"subtype\":\"Figure\",\"type\":\"Plot\"}},\"id\":\"a3fbcab9-7e39-428b-bddc-996538e48209\",\"type\":\"BoxZoomTool\"},{\"attributes\":{\"plot\":{\"id\":\"b05a09ac-42a3-480b-81ae-ca78c0f04329\",\"subtype\":\"Figure\",\"type\":\"Plot\"},\"text\":\"Second Point\",\"text_baseline\":\"middle\",\"x\":5,\"x_offset\":12,\"y\":7},\"id\":\"13d426b9-c974-4e23-b1cf-766d7c3c3209\",\"type\":\"Label\"},{\"attributes\":{\"plot\":{\"id\":\"b05a09ac-42a3-480b-81ae-ca78c0f04329\",\"subtype\":\"Figure\",\"type\":\"Plot\"},\"ticker\":{\"id\":\"ec5e2f18-d68d-4b9d-af4f-2f5d6f6bc4e4\",\"type\":\"BasicTicker\"}},\"id\":\"adb5d83f-a3ec-441c-b2ec-6a83e928daaa\",\"type\":\"Grid\"},{\"attributes\":{\"plot\":{\"id\":\"b05a09ac-42a3-480b-81ae-ca78c0f04329\",\"subtype\":\"Figure\",\"type\":\"Plot\"}},\"id\":\"420a5e9d-2efe-4059-a40e-873bd8178985\",\"type\":\"PanTool\"},{\"attributes\":{\"bottom_units\":\"screen\",\"fill_alpha\":{\"value\":0.5},\"fill_color\":{\"value\":\"lightgrey\"},\"left_units\":\"screen\",\"level\":\"overlay\",\"line_alpha\":{\"value\":1.0},\"line_color\":{\"value\":\"black\"},\"line_dash\":[4,4],\"line_width\":{\"value\":2},\"plot\":null,\"render_mode\":\"css\",\"right_units\":\"screen\",\"top_units\":\"screen\"},\"id\":\"6209fa86-7838-4710-a744-d5879d98b8b1\",\"type\":\"BoxAnnotation\"},{\"attributes\":{\"plot\":{\"id\":\"b05a09ac-42a3-480b-81ae-ca78c0f04329\",\"subtype\":\"Figure\",\"type\":\"Plot\"}},\"id\":\"fc72e2f7-ded2-4438-b6ae-0a381b302796\",\"type\":\"WheelZoomTool\"},{\"attributes\":{\"plot\":{\"id\":\"b05a09ac-42a3-480b-81ae-ca78c0f04329\",\"subtype\":\"Figure\",\"type\":\"Plot\"}},\"id\":\"bda6c00d-6654-42a0-a82a-38ac201d1ac3\",\"type\":\"SaveTool\"},{\"attributes\":{\"formatter\":{\"id\":\"4a567612-f442-4734-9ad1-eaa3046f03f7\",\"type\":\"BasicTickFormatter\"},\"plot\":{\"id\":\"b05a09ac-42a3-480b-81ae-ca78c0f04329\",\"subtype\":\"Figure\",\"type\":\"Plot\"},\"ticker\":{\"id\":\"ec5e2f18-d68d-4b9d-af4f-2f5d6f6bc4e4\",\"type\":\"BasicTicker\"}},\"id\":\"90ed5e8c-215c-4908-a5d8-bc088d152962\",\"type\":\"LinearAxis\"},{\"attributes\":{},\"id\":\"a85c94e6-7cfe-4344-993c-3318b23fa035\",\"type\":\"BasicTicker\"},{\"attributes\":{\"dimension\":1,\"plot\":{\"id\":\"b05a09ac-42a3-480b-81ae-ca78c0f04329\",\"subtype\":\"Figure\",\"type\":\"Plot\"},\"ticker\":{\"id\":\"a85c94e6-7cfe-4344-993c-3318b23fa035\",\"type\":\"BasicTicker\"}},\"id\":\"959965f2-3e71-485c-932f-e2d0fea1d4a1\",\"type\":\"Grid\"},{\"attributes\":{\"callback\":null,\"column_names\":[\"y\",\"x\"],\"data\":{\"x\":[2,5,8],\"y\":[4,7,6]}},\"id\":\"db91ae3f-3311-4ee2-90c0-c78b0e4f93b4\",\"type\":\"ColumnDataSource\"},{\"attributes\":{},\"id\":\"ec5e2f18-d68d-4b9d-af4f-2f5d6f6bc4e4\",\"type\":\"BasicTicker\"},{\"attributes\":{},\"id\":\"4a567612-f442-4734-9ad1-eaa3046f03f7\",\"type\":\"BasicTickFormatter\"},{\"attributes\":{},\"id\":\"5ebadb44-f55f-4d8a-8ca9-3dc810fa262a\",\"type\":\"BasicTickFormatter\"},{\"attributes\":{\"plot\":{\"id\":\"b05a09ac-42a3-480b-81ae-ca78c0f04329\",\"subtype\":\"Figure\",\"type\":\"Plot\"}},\"id\":\"0e4f1997-7d5c-4767-92cc-5f3ef7b72448\",\"type\":\"ResetTool\"},{\"attributes\":{},\"id\":\"f65a391e-95df-490b-8ac6-082c29483d99\",\"type\":\"ToolEvents\"},{\"attributes\":{\"plot\":{\"id\":\"b05a09ac-42a3-480b-81ae-ca78c0f04329\",\"subtype\":\"Figure\",\"type\":\"Plot\"}},\"id\":\"4f966ed0-3b74-4735-b329-a092f6df0ff6\",\"type\":\"HelpTool\"}],\"root_ids\":[\"b05a09ac-42a3-480b-81ae-ca78c0f04329\"]},\"title\":\"Bokeh Application\",\"version\":\"0.12.1\"}};\n",
       "            var render_items = [{\"docid\":\"5265bfae-78cc-4df5-b42f-204e2f75e290\",\"elementid\":\"f4b91906-c5af-4688-a7ce-708beceeac25\",\"modelid\":\"b05a09ac-42a3-480b-81ae-ca78c0f04329\",\"notebook_comms_target\":\"9ba7d0c5-b48e-4abd-94de-ef9728180c21\"}];\n",
       "            \n",
       "            Bokeh.embed.embed_items(docs_json, render_items);\n",
       "        });\n",
       "      },\n",
       "      function(Bokeh) {\n",
       "      }\n",
       "    ];\n",
       "  \n",
       "    function run_inline_js() {\n",
       "      for (var i = 0; i < inline_js.length; i++) {\n",
       "        inline_js[i](window.Bokeh);\n",
       "      }\n",
       "    }\n",
       "  \n",
       "    if (window._bokeh_is_loading === 0) {\n",
       "      console.log(\"Bokeh: BokehJS loaded, going straight to plotting\");\n",
       "      run_inline_js();\n",
       "    } else {\n",
       "      load_libs(js_urls, function() {\n",
       "        console.log(\"Bokeh: BokehJS plotting callback run at\", now());\n",
       "        run_inline_js();\n",
       "      });\n",
       "    }\n",
       "  }(this));\n",
       "</script>"
      ]
     },
     "metadata": {},
     "output_type": "display_data"
    },
    {
     "data": {
      "text/html": [
       "<p><code>&lt;Bokeh Notebook handle for <strong>In[5]</strong>&gt;</code></p>"
      ],
      "text/plain": [
       "<bokeh.io._CommsHandle at 0x1133e7f10>"
      ]
     },
     "execution_count": 5,
     "metadata": {},
     "output_type": "execute_result"
    }
   ],
   "source": [
    "from bokeh.models.annotations import Label\n",
    "from bokeh.plotting import figure\n",
    "\n",
    "p = figure(x_range=(0,10), y_range=(0,10))\n",
    "p.circle([2, 5, 8], [4, 7, 6], color=\"olive\", size=10)\n",
    "\n",
    "label = Label(x=5, y=7, x_offset=12, text=\"Second Point\", text_baseline=\"middle\")\n",
    "p.add_layout(label)\n",
    "\n",
    "show(p)"
   ]
  },
  {
   "cell_type": "code",
   "execution_count": 6,
   "metadata": {
    "collapsed": true
   },
   "outputs": [],
   "source": [
    "# EXERCISE: experiment with Label\n",
    "\n"
   ]
  },
  {
   "cell_type": "markdown",
   "metadata": {
    "collapsed": true
   },
   "source": [
    "## LabelSet\n",
    "\n",
    "The `LabelSet` annotation allows you to create many labels at once, for instance if you want to label an entire set of scatter markers. They are similar to `Label`, but they can also \n",
    "accept a `ColumnDataSource` as the `source` property, and then `x` and `y` may refer to columns in the data source, e.g. `x=\"col2\"` (but may also still be fixed values, e.g. `x=10`)."
   ]
  },
  {
   "cell_type": "code",
   "execution_count": 6,
   "metadata": {
    "collapsed": false
   },
   "outputs": [
    {
     "data": {
      "text/html": [
       "\n",
       "\n",
       "    <div class=\"bk-root\">\n",
       "        <div class=\"plotdiv\" id=\"8ddb583a-38fb-412d-9243-0c315748776c\"></div>\n",
       "    </div>\n",
       "<script type=\"text/javascript\">\n",
       "  \n",
       "  (function(global) {\n",
       "    function now() {\n",
       "      return new Date();\n",
       "    }\n",
       "  \n",
       "    var force = \"\";\n",
       "  \n",
       "    if (typeof (window._bokeh_onload_callbacks) === \"undefined\" || force !== \"\") {\n",
       "      window._bokeh_onload_callbacks = [];\n",
       "      window._bokeh_is_loading = undefined;\n",
       "    }\n",
       "  \n",
       "    function run_callbacks() {\n",
       "      window._bokeh_onload_callbacks.forEach(function(callback) { callback() });\n",
       "      delete window._bokeh_onload_callbacks\n",
       "      console.info(\"Bokeh: all callbacks have finished\");\n",
       "    }\n",
       "  \n",
       "    function load_libs(js_urls, callback) {\n",
       "      window._bokeh_onload_callbacks.push(callback);\n",
       "      if (window._bokeh_is_loading > 0) {\n",
       "        console.log(\"Bokeh: BokehJS is being loaded, scheduling callback at\", now());\n",
       "        return null;\n",
       "      }\n",
       "      if (js_urls == null || js_urls.length === 0) {\n",
       "        run_callbacks();\n",
       "        return null;\n",
       "      }\n",
       "      console.log(\"Bokeh: BokehJS not loaded, scheduling load and callback at\", now());\n",
       "      window._bokeh_is_loading = js_urls.length;\n",
       "      for (var i = 0; i < js_urls.length; i++) {\n",
       "        var url = js_urls[i];\n",
       "        var s = document.createElement('script');\n",
       "        s.src = url;\n",
       "        s.async = false;\n",
       "        s.onreadystatechange = s.onload = function() {\n",
       "          window._bokeh_is_loading--;\n",
       "          if (window._bokeh_is_loading === 0) {\n",
       "            console.log(\"Bokeh: all BokehJS libraries loaded\");\n",
       "            run_callbacks()\n",
       "          }\n",
       "        };\n",
       "        s.onerror = function() {\n",
       "          console.warn(\"failed to load library \" + url);\n",
       "        };\n",
       "        console.log(\"Bokeh: injecting script tag for BokehJS library: \", url);\n",
       "        document.getElementsByTagName(\"head\")[0].appendChild(s);\n",
       "      }\n",
       "    };var element = document.getElementById(\"8ddb583a-38fb-412d-9243-0c315748776c\");\n",
       "    if (element == null) {\n",
       "      console.log(\"Bokeh: ERROR: autoload.js configured with elementid '8ddb583a-38fb-412d-9243-0c315748776c' but no matching script tag was found. \")\n",
       "      return false;\n",
       "    }\n",
       "  \n",
       "    var js_urls = [];\n",
       "  \n",
       "    var inline_js = [\n",
       "      function(Bokeh) {\n",
       "        Bokeh.$(function() {\n",
       "            var docs_json = {\"ffeffec6-ad78-4648-8c99-488f9310ed3e\":{\"roots\":{\"references\":[{\"attributes\":{\"axis_label\":\"Temperature (C)\",\"formatter\":{\"id\":\"bb107938-ac31-4a40-b42f-342b465931ec\",\"type\":\"BasicTickFormatter\"},\"plot\":{\"id\":\"cca107bc-efe7-4445-8c23-1f079e5e596c\",\"subtype\":\"Figure\",\"type\":\"Plot\"},\"ticker\":{\"id\":\"d862074d-cc31-4cf6-a675-6cde2f41a6b9\",\"type\":\"BasicTicker\"}},\"id\":\"29482805-37f8-4546-ba3f-96f62fe2451b\",\"type\":\"LinearAxis\"},{\"attributes\":{\"dimension\":1,\"plot\":{\"id\":\"cca107bc-efe7-4445-8c23-1f079e5e596c\",\"subtype\":\"Figure\",\"type\":\"Plot\"},\"ticker\":{\"id\":\"c2b46a1a-fdae-45f4-b062-a7403a461f5a\",\"type\":\"BasicTicker\"}},\"id\":\"40a8de06-b998-41a3-978b-19b6ac93daf0\",\"type\":\"Grid\"},{\"attributes\":{\"axis_label\":\"Pressure (lbs)\",\"formatter\":{\"id\":\"b7eb147b-0c78-4db2-a553-92e4eec8512f\",\"type\":\"BasicTickFormatter\"},\"plot\":{\"id\":\"cca107bc-efe7-4445-8c23-1f079e5e596c\",\"subtype\":\"Figure\",\"type\":\"Plot\"},\"ticker\":{\"id\":\"c2b46a1a-fdae-45f4-b062-a7403a461f5a\",\"type\":\"BasicTicker\"}},\"id\":\"07a4cbec-e339-40b3-97cf-b40596bee584\",\"type\":\"LinearAxis\"},{\"attributes\":{\"below\":[{\"id\":\"29482805-37f8-4546-ba3f-96f62fe2451b\",\"type\":\"LinearAxis\"}],\"left\":[{\"id\":\"07a4cbec-e339-40b3-97cf-b40596bee584\",\"type\":\"LinearAxis\"}],\"renderers\":[{\"id\":\"29482805-37f8-4546-ba3f-96f62fe2451b\",\"type\":\"LinearAxis\"},{\"id\":\"1c5004ed-fcfc-4232-a5e2-6303d78e43ee\",\"type\":\"Grid\"},{\"id\":\"07a4cbec-e339-40b3-97cf-b40596bee584\",\"type\":\"LinearAxis\"},{\"id\":\"40a8de06-b998-41a3-978b-19b6ac93daf0\",\"type\":\"Grid\"},{\"id\":\"67340f13-b803-4f8b-98d0-36d01e4b0f15\",\"type\":\"BoxAnnotation\"},{\"id\":\"c1dab0b8-25a8-4a55-ad5a-aba46891ee4e\",\"type\":\"GlyphRenderer\"},{\"id\":\"9d02d2f5-9da9-45c3-96a7-0851f817633c\",\"type\":\"LabelSet\"}],\"title\":{\"id\":\"084f5722-10cd-4d77-af84-a556c36350a6\",\"type\":\"Title\"},\"tool_events\":{\"id\":\"515ed768-8958-4195-b11e-fd4332a5f92b\",\"type\":\"ToolEvents\"},\"toolbar\":{\"id\":\"61bcba4b-d178-44f0-9006-9f61d81aa0be\",\"type\":\"Toolbar\"},\"x_range\":{\"id\":\"e605cb8a-a026-4b1e-9a7e-2e069c8471bf\",\"type\":\"Range1d\"},\"y_range\":{\"id\":\"da51dc81-70bd-4761-8e43-1c98100f1f76\",\"type\":\"DataRange1d\"}},\"id\":\"cca107bc-efe7-4445-8c23-1f079e5e596c\",\"subtype\":\"Figure\",\"type\":\"Plot\"},{\"attributes\":{\"overlay\":{\"id\":\"67340f13-b803-4f8b-98d0-36d01e4b0f15\",\"type\":\"BoxAnnotation\"},\"plot\":{\"id\":\"cca107bc-efe7-4445-8c23-1f079e5e596c\",\"subtype\":\"Figure\",\"type\":\"Plot\"}},\"id\":\"20560fe8-8532-4416-8380-2053e1c1a9bc\",\"type\":\"BoxZoomTool\"},{\"attributes\":{\"plot\":{\"id\":\"cca107bc-efe7-4445-8c23-1f079e5e596c\",\"subtype\":\"Figure\",\"type\":\"Plot\"},\"ticker\":{\"id\":\"d862074d-cc31-4cf6-a675-6cde2f41a6b9\",\"type\":\"BasicTicker\"}},\"id\":\"1c5004ed-fcfc-4232-a5e2-6303d78e43ee\",\"type\":\"Grid\"},{\"attributes\":{},\"id\":\"515ed768-8958-4195-b11e-fd4332a5f92b\",\"type\":\"ToolEvents\"},{\"attributes\":{\"plot\":{\"id\":\"cca107bc-efe7-4445-8c23-1f079e5e596c\",\"subtype\":\"Figure\",\"type\":\"Plot\"}},\"id\":\"a78c5133-6c92-4147-ae8c-aea41cbf5ca3\",\"type\":\"PanTool\"},{\"attributes\":{\"plot\":{\"id\":\"cca107bc-efe7-4445-8c23-1f079e5e596c\",\"subtype\":\"Figure\",\"type\":\"Plot\"}},\"id\":\"04e46972-6f73-49f1-869d-cc4a3f5fe9cf\",\"type\":\"HelpTool\"},{\"attributes\":{\"bottom_units\":\"screen\",\"fill_alpha\":{\"value\":0.5},\"fill_color\":{\"value\":\"lightgrey\"},\"left_units\":\"screen\",\"level\":\"overlay\",\"line_alpha\":{\"value\":1.0},\"line_color\":{\"value\":\"black\"},\"line_dash\":[4,4],\"line_width\":{\"value\":2},\"plot\":null,\"render_mode\":\"css\",\"right_units\":\"screen\",\"top_units\":\"screen\"},\"id\":\"67340f13-b803-4f8b-98d0-36d01e4b0f15\",\"type\":\"BoxAnnotation\"},{\"attributes\":{\"data_source\":{\"id\":\"47d480a6-6a97-4035-99f2-279af7740066\",\"type\":\"ColumnDataSource\"},\"glyph\":{\"id\":\"0156a9c2-acf3-4566-b99f-731d849f42e2\",\"type\":\"Circle\"},\"hover_glyph\":null,\"nonselection_glyph\":{\"id\":\"d610aa83-ed5c-41ba-93bf-7e2a6d4055f6\",\"type\":\"Circle\"},\"selection_glyph\":null},\"id\":\"c1dab0b8-25a8-4a55-ad5a-aba46891ee4e\",\"type\":\"GlyphRenderer\"},{\"attributes\":{\"plot\":{\"id\":\"cca107bc-efe7-4445-8c23-1f079e5e596c\",\"subtype\":\"Figure\",\"type\":\"Plot\"}},\"id\":\"30accfd6-4370-4edd-b557-76ccbfca0fbe\",\"type\":\"SaveTool\"},{\"attributes\":{\"active_drag\":\"auto\",\"active_scroll\":\"auto\",\"active_tap\":\"auto\",\"tools\":[{\"id\":\"a78c5133-6c92-4147-ae8c-aea41cbf5ca3\",\"type\":\"PanTool\"},{\"id\":\"51989961-07c4-4a97-a3b3-739d5a17c4fc\",\"type\":\"WheelZoomTool\"},{\"id\":\"20560fe8-8532-4416-8380-2053e1c1a9bc\",\"type\":\"BoxZoomTool\"},{\"id\":\"30accfd6-4370-4edd-b557-76ccbfca0fbe\",\"type\":\"SaveTool\"},{\"id\":\"e95b6e74-76d5-4d9d-954b-5ea887ec4285\",\"type\":\"ResetTool\"},{\"id\":\"04e46972-6f73-49f1-869d-cc4a3f5fe9cf\",\"type\":\"HelpTool\"}]},\"id\":\"61bcba4b-d178-44f0-9006-9f61d81aa0be\",\"type\":\"Toolbar\"},{\"attributes\":{},\"id\":\"c2b46a1a-fdae-45f4-b062-a7403a461f5a\",\"type\":\"BasicTicker\"},{\"attributes\":{\"plot\":{\"id\":\"cca107bc-efe7-4445-8c23-1f079e5e596c\",\"subtype\":\"Figure\",\"type\":\"Plot\"}},\"id\":\"51989961-07c4-4a97-a3b3-739d5a17c4fc\",\"type\":\"WheelZoomTool\"},{\"attributes\":{\"callback\":null,\"end\":175,\"start\":160},\"id\":\"e605cb8a-a026-4b1e-9a7e-2e069c8471bf\",\"type\":\"Range1d\"},{\"attributes\":{\"plot\":null,\"text\":null},\"id\":\"084f5722-10cd-4d77-af84-a556c36350a6\",\"type\":\"Title\"},{\"attributes\":{},\"id\":\"b7eb147b-0c78-4db2-a553-92e4eec8512f\",\"type\":\"BasicTickFormatter\"},{\"attributes\":{\"fill_alpha\":{\"value\":0.1},\"fill_color\":{\"value\":\"#1f77b4\"},\"line_alpha\":{\"value\":0.1},\"line_color\":{\"value\":\"#1f77b4\"},\"size\":{\"units\":\"screen\",\"value\":8},\"x\":{\"field\":\"temp\"},\"y\":{\"field\":\"pressure\"}},\"id\":\"d610aa83-ed5c-41ba-93bf-7e2a6d4055f6\",\"type\":\"Circle\"},{\"attributes\":{},\"id\":\"d862074d-cc31-4cf6-a675-6cde2f41a6b9\",\"type\":\"BasicTicker\"},{\"attributes\":{\"callback\":null},\"id\":\"da51dc81-70bd-4761-8e43-1c98100f1f76\",\"type\":\"DataRange1d\"},{\"attributes\":{},\"id\":\"bb107938-ac31-4a40-b42f-342b465931ec\",\"type\":\"BasicTickFormatter\"},{\"attributes\":{\"plot\":{\"id\":\"cca107bc-efe7-4445-8c23-1f079e5e596c\",\"subtype\":\"Figure\",\"type\":\"Plot\"}},\"id\":\"e95b6e74-76d5-4d9d-954b-5ea887ec4285\",\"type\":\"ResetTool\"},{\"attributes\":{\"level\":\"glyph\",\"plot\":{\"id\":\"cca107bc-efe7-4445-8c23-1f079e5e596c\",\"subtype\":\"Figure\",\"type\":\"Plot\"},\"source\":{\"id\":\"47d480a6-6a97-4035-99f2-279af7740066\",\"type\":\"ColumnDataSource\"},\"text\":{\"field\":\"names\"},\"x\":{\"field\":\"temp\"},\"x_offset\":{\"value\":5},\"y\":{\"field\":\"pressure\"},\"y_offset\":{\"value\":5}},\"id\":\"9d02d2f5-9da9-45c3-96a7-0851f817633c\",\"type\":\"LabelSet\"},{\"attributes\":{\"callback\":null,\"column_names\":[\"pressure\",\"names\",\"temp\"],\"data\":{\"names\":[\"A\",\"B\",\"C\",\"D\",\"E\",\"F\"],\"pressure\":[165,189,220,141,260,174],\"temp\":[166,171,172,168,174,162]}},\"id\":\"47d480a6-6a97-4035-99f2-279af7740066\",\"type\":\"ColumnDataSource\"},{\"attributes\":{\"fill_color\":{\"value\":\"#1f77b4\"},\"line_color\":{\"value\":\"#1f77b4\"},\"size\":{\"units\":\"screen\",\"value\":8},\"x\":{\"field\":\"temp\"},\"y\":{\"field\":\"pressure\"}},\"id\":\"0156a9c2-acf3-4566-b99f-731d849f42e2\",\"type\":\"Circle\"}],\"root_ids\":[\"cca107bc-efe7-4445-8c23-1f079e5e596c\"]},\"title\":\"Bokeh Application\",\"version\":\"0.12.1\"}};\n",
       "            var render_items = [{\"docid\":\"ffeffec6-ad78-4648-8c99-488f9310ed3e\",\"elementid\":\"8ddb583a-38fb-412d-9243-0c315748776c\",\"modelid\":\"cca107bc-efe7-4445-8c23-1f079e5e596c\",\"notebook_comms_target\":\"a7c63326-119f-4e16-bee8-497d520d7802\"}];\n",
       "            \n",
       "            Bokeh.embed.embed_items(docs_json, render_items);\n",
       "        });\n",
       "      },\n",
       "      function(Bokeh) {\n",
       "      }\n",
       "    ];\n",
       "  \n",
       "    function run_inline_js() {\n",
       "      for (var i = 0; i < inline_js.length; i++) {\n",
       "        inline_js[i](window.Bokeh);\n",
       "      }\n",
       "    }\n",
       "  \n",
       "    if (window._bokeh_is_loading === 0) {\n",
       "      console.log(\"Bokeh: BokehJS loaded, going straight to plotting\");\n",
       "      run_inline_js();\n",
       "    } else {\n",
       "      load_libs(js_urls, function() {\n",
       "        console.log(\"Bokeh: BokehJS plotting callback run at\", now());\n",
       "        run_inline_js();\n",
       "      });\n",
       "    }\n",
       "  }(this));\n",
       "</script>"
      ]
     },
     "metadata": {},
     "output_type": "display_data"
    },
    {
     "data": {
      "text/html": [
       "<p><code>&lt;Bokeh Notebook handle for <strong>In[6]</strong>&gt;</code></p>"
      ],
      "text/plain": [
       "<bokeh.io._CommsHandle at 0x1133e7490>"
      ]
     },
     "execution_count": 6,
     "metadata": {},
     "output_type": "execute_result"
    }
   ],
   "source": [
    "from bokeh.plotting import figure\n",
    "from bokeh.models import ColumnDataSource, LabelSet\n",
    "\n",
    "\n",
    "source = ColumnDataSource(data=dict(\n",
    "    temp=[166, 171, 172, 168, 174, 162],\n",
    "    pressure=[165, 189, 220, 141, 260, 174],\n",
    "    names=['A', 'B', 'C', 'D', 'E', 'F']))\n",
    "\n",
    "p = figure(x_range=(160, 175))\n",
    "p.scatter(x='temp', y='pressure', size=8, source=source)\n",
    "p.xaxis.axis_label = 'Temperature (C)'\n",
    "p.yaxis.axis_label = 'Pressure (lbs)'\n",
    "\n",
    "labels = LabelSet(x='temp', y='pressure', text='names', level='glyph',\n",
    "                  x_offset=5, y_offset=5, source=source, render_mode='canvas')\n",
    "\n",
    "\n",
    "p.add_layout(labels)\n",
    "\n",
    "show(p)"
   ]
  },
  {
   "cell_type": "code",
   "execution_count": 8,
   "metadata": {
    "collapsed": true
   },
   "outputs": [],
   "source": [
    "# EXERCISE: experiment with LabelSet\n",
    "\n"
   ]
  },
  {
   "cell_type": "markdown",
   "metadata": {
    "collapsed": true
   },
   "source": [
    "## Arrows\n",
    "\n",
    "The `Arrow` annotation allows you to \"point\" at different things on your plot, and can be especially useful in conjuction with labels. \n",
    "\n",
    "For example, to create an arrow that points from `(0,0)` to `(1,1)`:\n",
    "\n",
    "```python\n",
    "p.add_layout(Arrow(x_start=0, y_start=0, x_end=1, y_end=0))\n",
    "```\n",
    "\n",
    "This arrow will have the default [`OpenHead`](http://bokeh.pydata.org/en/latest/docs/reference/models/arrow_heads.html#bokeh.models.arrow_heads.OpenHead) arrow head at the end of the arrow. Other kinds of arrow heads include [`NormalHead`](http://bokeh.pydata.org/en/latest/docs/reference/models/arrow_heads.html#bokeh.models.arrow_heads.NormalHead) and [`VeeHead`](http://bokeh.pydata.org/en/latest/docs/reference/models/arrow_heads.html#bokeh.models.arrow_heads.VeeHead). The arrow head type can be controlled by setting the `start` and `end` properties of `Arrow` objects:\n",
    "\n",
    "```python\n",
    "p.add_layout(Arrow(start=OpenHead(), end=VeeHead(), \n",
    "             x_start=0, y_start=0, x_end=1, y_end=0))\n",
    "```\n",
    "\n",
    "This will create a double-ended arrow with an \"open\" head at the start, and a \"vee\" head at the end. Arrowheads have the standard set of line and fill properties to control their appearance. As an example\n",
    "\n",
    "```python\n",
    "OpenHead(line_color=\"firebrick\", line_width=4)\n",
    "```\n",
    "\n",
    "The code and plot below shows several of these configurations together."
   ]
  },
  {
   "cell_type": "code",
   "execution_count": 7,
   "metadata": {
    "collapsed": false
   },
   "outputs": [
    {
     "data": {
      "text/html": [
       "\n",
       "\n",
       "    <div class=\"bk-root\">\n",
       "        <div class=\"plotdiv\" id=\"fbee39da-e713-41f1-b4f1-7348b0faa6d4\"></div>\n",
       "    </div>\n",
       "<script type=\"text/javascript\">\n",
       "  \n",
       "  (function(global) {\n",
       "    function now() {\n",
       "      return new Date();\n",
       "    }\n",
       "  \n",
       "    var force = \"\";\n",
       "  \n",
       "    if (typeof (window._bokeh_onload_callbacks) === \"undefined\" || force !== \"\") {\n",
       "      window._bokeh_onload_callbacks = [];\n",
       "      window._bokeh_is_loading = undefined;\n",
       "    }\n",
       "  \n",
       "    function run_callbacks() {\n",
       "      window._bokeh_onload_callbacks.forEach(function(callback) { callback() });\n",
       "      delete window._bokeh_onload_callbacks\n",
       "      console.info(\"Bokeh: all callbacks have finished\");\n",
       "    }\n",
       "  \n",
       "    function load_libs(js_urls, callback) {\n",
       "      window._bokeh_onload_callbacks.push(callback);\n",
       "      if (window._bokeh_is_loading > 0) {\n",
       "        console.log(\"Bokeh: BokehJS is being loaded, scheduling callback at\", now());\n",
       "        return null;\n",
       "      }\n",
       "      if (js_urls == null || js_urls.length === 0) {\n",
       "        run_callbacks();\n",
       "        return null;\n",
       "      }\n",
       "      console.log(\"Bokeh: BokehJS not loaded, scheduling load and callback at\", now());\n",
       "      window._bokeh_is_loading = js_urls.length;\n",
       "      for (var i = 0; i < js_urls.length; i++) {\n",
       "        var url = js_urls[i];\n",
       "        var s = document.createElement('script');\n",
       "        s.src = url;\n",
       "        s.async = false;\n",
       "        s.onreadystatechange = s.onload = function() {\n",
       "          window._bokeh_is_loading--;\n",
       "          if (window._bokeh_is_loading === 0) {\n",
       "            console.log(\"Bokeh: all BokehJS libraries loaded\");\n",
       "            run_callbacks()\n",
       "          }\n",
       "        };\n",
       "        s.onerror = function() {\n",
       "          console.warn(\"failed to load library \" + url);\n",
       "        };\n",
       "        console.log(\"Bokeh: injecting script tag for BokehJS library: \", url);\n",
       "        document.getElementsByTagName(\"head\")[0].appendChild(s);\n",
       "      }\n",
       "    };var element = document.getElementById(\"fbee39da-e713-41f1-b4f1-7348b0faa6d4\");\n",
       "    if (element == null) {\n",
       "      console.log(\"Bokeh: ERROR: autoload.js configured with elementid 'fbee39da-e713-41f1-b4f1-7348b0faa6d4' but no matching script tag was found. \")\n",
       "      return false;\n",
       "    }\n",
       "  \n",
       "    var js_urls = [];\n",
       "  \n",
       "    var inline_js = [\n",
       "      function(Bokeh) {\n",
       "        Bokeh.$(function() {\n",
       "            var docs_json = {\"846bf2c3-111d-40f2-96d2-facc82dc86fa\":{\"roots\":{\"references\":[{\"attributes\":{},\"id\":\"995c726c-a134-4295-9875-369476e5a1dc\",\"type\":\"ToolEvents\"},{\"attributes\":{\"plot\":{\"id\":\"79508f74-6585-44d1-b127-8426ed5070d3\",\"subtype\":\"Figure\",\"type\":\"Plot\"},\"ticker\":{\"id\":\"882638bb-8099-4578-a8ca-784c8b05f8a0\",\"type\":\"BasicTicker\"}},\"id\":\"66e1bc51-d022-463e-a348-130fb258d410\",\"type\":\"Grid\"},{\"attributes\":{\"end\":{\"id\":\"00c520ba-100a-44cf-999c-9990dd10c009\",\"type\":\"VeeHead\"},\"line_color\":{\"value\":\"red\"},\"plot\":{\"id\":\"79508f74-6585-44d1-b127-8426ed5070d3\",\"subtype\":\"Figure\",\"type\":\"Plot\"},\"source\":null,\"start\":null,\"x_end\":{\"value\":0},\"x_start\":{\"value\":0.5},\"y_end\":{\"value\":0},\"y_start\":{\"value\":0.7}},\"id\":\"db4b247e-9a11-4207-b7b7-ffb22f09b077\",\"type\":\"Arrow\"},{\"attributes\":{\"end\":{\"id\":\"be43f191-315b-4e37-805d-10bf08992a10\",\"type\":\"NormalHead\"},\"plot\":{\"id\":\"79508f74-6585-44d1-b127-8426ed5070d3\",\"subtype\":\"Figure\",\"type\":\"Plot\"},\"source\":null,\"start\":null,\"x_end\":{\"value\":0.5},\"x_start\":{\"value\":1},\"y_end\":{\"value\":0.7},\"y_start\":{\"value\":0}},\"id\":\"df831982-9552-4615-8372-794dad172df1\",\"type\":\"Arrow\"},{\"attributes\":{\"line_color\":{\"value\":\"firebrick\"},\"line_width\":{\"value\":4},\"plot\":null},\"id\":\"9d432ed8-8010-45fb-baf6-43a30982fb2f\",\"type\":\"OpenHead\"},{\"attributes\":{},\"id\":\"447090f4-8d53-48c6-a4c8-6a48a998a368\",\"type\":\"BasicTickFormatter\"},{\"attributes\":{},\"id\":\"e19e9550-4872-468d-a872-ed5fe230c634\",\"type\":\"BasicTickFormatter\"},{\"attributes\":{\"end\":{\"id\":\"9d432ed8-8010-45fb-baf6-43a30982fb2f\",\"type\":\"OpenHead\"},\"plot\":{\"id\":\"79508f74-6585-44d1-b127-8426ed5070d3\",\"subtype\":\"Figure\",\"type\":\"Plot\"},\"source\":null,\"start\":null,\"x_end\":{\"value\":1},\"x_start\":{\"value\":0},\"y_end\":{\"value\":0},\"y_start\":{\"value\":0}},\"id\":\"6fe79181-ec65-48e3-be43-a08c7fd7da95\",\"type\":\"Arrow\"},{\"attributes\":{\"plot\":{\"id\":\"79508f74-6585-44d1-b127-8426ed5070d3\",\"subtype\":\"Figure\",\"type\":\"Plot\"}},\"id\":\"732a4e7d-e30f-4919-82d0-8ebae926ed58\",\"type\":\"ResetTool\"},{\"attributes\":{\"bottom_units\":\"screen\",\"fill_alpha\":{\"value\":0.5},\"fill_color\":{\"value\":\"lightgrey\"},\"left_units\":\"screen\",\"level\":\"overlay\",\"line_alpha\":{\"value\":1.0},\"line_color\":{\"value\":\"black\"},\"line_dash\":[4,4],\"line_width\":{\"value\":2},\"plot\":null,\"render_mode\":\"css\",\"right_units\":\"screen\",\"top_units\":\"screen\"},\"id\":\"3150d3c9-4c2d-4875-b3b3-7b61dacceab9\",\"type\":\"BoxAnnotation\"},{\"attributes\":{\"plot\":null,\"text\":null},\"id\":\"c99aae62-6cda-45d4-a8ff-b25821dba5d3\",\"type\":\"Title\"},{\"attributes\":{\"overlay\":{\"id\":\"3150d3c9-4c2d-4875-b3b3-7b61dacceab9\",\"type\":\"BoxAnnotation\"},\"plot\":{\"id\":\"79508f74-6585-44d1-b127-8426ed5070d3\",\"subtype\":\"Figure\",\"type\":\"Plot\"}},\"id\":\"f2c6cf11-3c01-4328-8206-7089351591a9\",\"type\":\"BoxZoomTool\"},{\"attributes\":{\"dimension\":1,\"plot\":{\"id\":\"79508f74-6585-44d1-b127-8426ed5070d3\",\"subtype\":\"Figure\",\"type\":\"Plot\"},\"ticker\":{\"id\":\"8df683de-df71-4f75-9549-46e8783fa827\",\"type\":\"BasicTicker\"}},\"id\":\"e5da9b82-e8a3-4fbe-a16b-8fec8285d5ee\",\"type\":\"Grid\"},{\"attributes\":{\"data_source\":{\"id\":\"562ac9e3-21a7-4d04-aa85-552bb6699824\",\"type\":\"ColumnDataSource\"},\"glyph\":{\"id\":\"52d78c84-4f24-4b5d-a2e1-0c0bd34f3460\",\"type\":\"Circle\"},\"hover_glyph\":null,\"nonselection_glyph\":{\"id\":\"e447001f-49bc-403e-981f-69455bf28b95\",\"type\":\"Circle\"},\"selection_glyph\":null},\"id\":\"5ee5ddef-e681-49ba-9fed-42fe77ed82ae\",\"type\":\"GlyphRenderer\"},{\"attributes\":{\"fill_alpha\":{\"value\":0.1},\"fill_color\":{\"field\":\"fill_color\"},\"line_color\":{\"field\":\"line_color\"},\"radius\":{\"units\":\"data\",\"value\":0.1},\"x\":{\"field\":\"x\"},\"y\":{\"field\":\"y\"}},\"id\":\"52d78c84-4f24-4b5d-a2e1-0c0bd34f3460\",\"type\":\"Circle\"},{\"attributes\":{\"fill_alpha\":{\"value\":0.1},\"fill_color\":{\"value\":\"#1f77b4\"},\"line_alpha\":{\"value\":0.1},\"line_color\":{\"value\":\"#1f77b4\"},\"radius\":{\"units\":\"data\",\"value\":0.1},\"x\":{\"field\":\"x\"},\"y\":{\"field\":\"y\"}},\"id\":\"e447001f-49bc-403e-981f-69455bf28b95\",\"type\":\"Circle\"},{\"attributes\":{},\"id\":\"8df683de-df71-4f75-9549-46e8783fa827\",\"type\":\"BasicTicker\"},{\"attributes\":{\"callback\":null},\"id\":\"980e895a-409f-4eda-95ca-b2fd80e4660e\",\"type\":\"DataRange1d\"},{\"attributes\":{\"plot\":null,\"size\":35},\"id\":\"00c520ba-100a-44cf-999c-9990dd10c009\",\"type\":\"VeeHead\"},{\"attributes\":{\"plot\":{\"id\":\"79508f74-6585-44d1-b127-8426ed5070d3\",\"subtype\":\"Figure\",\"type\":\"Plot\"}},\"id\":\"389e97c9-0dc1-4089-9e7f-5efd4ec4e9fa\",\"type\":\"HelpTool\"},{\"attributes\":{\"callback\":null,\"column_names\":[\"y\",\"x\",\"line_color\",\"fill_color\"],\"data\":{\"fill_color\":[\"navy\",\"yellow\",\"red\"],\"line_color\":[\"navy\",\"yellow\",\"red\"],\"x\":[0.0,1.0,0.5],\"y\":[0.0,0.0,0.7]}},\"id\":\"562ac9e3-21a7-4d04-aa85-552bb6699824\",\"type\":\"ColumnDataSource\"},{\"attributes\":{\"fill_color\":{\"value\":\"orange\"},\"plot\":null},\"id\":\"be43f191-315b-4e37-805d-10bf08992a10\",\"type\":\"NormalHead\"},{\"attributes\":{\"callback\":null},\"id\":\"bafa1d2b-29dd-4a9d-b5d5-858bf128cd40\",\"type\":\"DataRange1d\"},{\"attributes\":{\"plot\":{\"id\":\"79508f74-6585-44d1-b127-8426ed5070d3\",\"subtype\":\"Figure\",\"type\":\"Plot\"}},\"id\":\"9ea478ec-2f81-4048-878d-e2ae3baa53f5\",\"type\":\"WheelZoomTool\"},{\"attributes\":{},\"id\":\"882638bb-8099-4578-a8ca-784c8b05f8a0\",\"type\":\"BasicTicker\"},{\"attributes\":{\"active_drag\":\"auto\",\"active_scroll\":\"auto\",\"active_tap\":\"auto\",\"tools\":[{\"id\":\"21173167-9eb4-4d16-9ea8-da8a3ed8cb2a\",\"type\":\"PanTool\"},{\"id\":\"9ea478ec-2f81-4048-878d-e2ae3baa53f5\",\"type\":\"WheelZoomTool\"},{\"id\":\"f2c6cf11-3c01-4328-8206-7089351591a9\",\"type\":\"BoxZoomTool\"},{\"id\":\"fb17129c-67b7-42cf-87b8-4b98db0be0e7\",\"type\":\"SaveTool\"},{\"id\":\"732a4e7d-e30f-4919-82d0-8ebae926ed58\",\"type\":\"ResetTool\"},{\"id\":\"389e97c9-0dc1-4089-9e7f-5efd4ec4e9fa\",\"type\":\"HelpTool\"}]},\"id\":\"7095db74-e480-4eeb-91b1-e9aa3498ae12\",\"type\":\"Toolbar\"},{\"attributes\":{\"formatter\":{\"id\":\"e19e9550-4872-468d-a872-ed5fe230c634\",\"type\":\"BasicTickFormatter\"},\"plot\":{\"id\":\"79508f74-6585-44d1-b127-8426ed5070d3\",\"subtype\":\"Figure\",\"type\":\"Plot\"},\"ticker\":{\"id\":\"882638bb-8099-4578-a8ca-784c8b05f8a0\",\"type\":\"BasicTicker\"}},\"id\":\"6304dcc3-82cb-49f2-a75b-361f18aa1b9d\",\"type\":\"LinearAxis\"},{\"attributes\":{\"below\":[{\"id\":\"6304dcc3-82cb-49f2-a75b-361f18aa1b9d\",\"type\":\"LinearAxis\"}],\"left\":[{\"id\":\"fca69bd1-1d1d-440e-97a4-456d2036f41b\",\"type\":\"LinearAxis\"}],\"renderers\":[{\"id\":\"6304dcc3-82cb-49f2-a75b-361f18aa1b9d\",\"type\":\"LinearAxis\"},{\"id\":\"66e1bc51-d022-463e-a348-130fb258d410\",\"type\":\"Grid\"},{\"id\":\"fca69bd1-1d1d-440e-97a4-456d2036f41b\",\"type\":\"LinearAxis\"},{\"id\":\"e5da9b82-e8a3-4fbe-a16b-8fec8285d5ee\",\"type\":\"Grid\"},{\"id\":\"3150d3c9-4c2d-4875-b3b3-7b61dacceab9\",\"type\":\"BoxAnnotation\"},{\"id\":\"5ee5ddef-e681-49ba-9fed-42fe77ed82ae\",\"type\":\"GlyphRenderer\"},{\"id\":\"6fe79181-ec65-48e3-be43-a08c7fd7da95\",\"type\":\"Arrow\"},{\"id\":\"df831982-9552-4615-8372-794dad172df1\",\"type\":\"Arrow\"},{\"id\":\"db4b247e-9a11-4207-b7b7-ffb22f09b077\",\"type\":\"Arrow\"}],\"title\":{\"id\":\"c99aae62-6cda-45d4-a8ff-b25821dba5d3\",\"type\":\"Title\"},\"tool_events\":{\"id\":\"995c726c-a134-4295-9875-369476e5a1dc\",\"type\":\"ToolEvents\"},\"toolbar\":{\"id\":\"7095db74-e480-4eeb-91b1-e9aa3498ae12\",\"type\":\"Toolbar\"},\"x_range\":{\"id\":\"bafa1d2b-29dd-4a9d-b5d5-858bf128cd40\",\"type\":\"DataRange1d\"},\"y_range\":{\"id\":\"980e895a-409f-4eda-95ca-b2fd80e4660e\",\"type\":\"DataRange1d\"}},\"id\":\"79508f74-6585-44d1-b127-8426ed5070d3\",\"subtype\":\"Figure\",\"type\":\"Plot\"},{\"attributes\":{\"plot\":{\"id\":\"79508f74-6585-44d1-b127-8426ed5070d3\",\"subtype\":\"Figure\",\"type\":\"Plot\"}},\"id\":\"21173167-9eb4-4d16-9ea8-da8a3ed8cb2a\",\"type\":\"PanTool\"},{\"attributes\":{\"formatter\":{\"id\":\"447090f4-8d53-48c6-a4c8-6a48a998a368\",\"type\":\"BasicTickFormatter\"},\"plot\":{\"id\":\"79508f74-6585-44d1-b127-8426ed5070d3\",\"subtype\":\"Figure\",\"type\":\"Plot\"},\"ticker\":{\"id\":\"8df683de-df71-4f75-9549-46e8783fa827\",\"type\":\"BasicTicker\"}},\"id\":\"fca69bd1-1d1d-440e-97a4-456d2036f41b\",\"type\":\"LinearAxis\"},{\"attributes\":{\"plot\":{\"id\":\"79508f74-6585-44d1-b127-8426ed5070d3\",\"subtype\":\"Figure\",\"type\":\"Plot\"}},\"id\":\"fb17129c-67b7-42cf-87b8-4b98db0be0e7\",\"type\":\"SaveTool\"}],\"root_ids\":[\"79508f74-6585-44d1-b127-8426ed5070d3\"]},\"title\":\"Bokeh Application\",\"version\":\"0.12.1\"}};\n",
       "            var render_items = [{\"docid\":\"846bf2c3-111d-40f2-96d2-facc82dc86fa\",\"elementid\":\"fbee39da-e713-41f1-b4f1-7348b0faa6d4\",\"modelid\":\"79508f74-6585-44d1-b127-8426ed5070d3\",\"notebook_comms_target\":\"1c76916e-ed6f-44d9-a139-53ac59961b20\"}];\n",
       "            \n",
       "            Bokeh.embed.embed_items(docs_json, render_items);\n",
       "        });\n",
       "      },\n",
       "      function(Bokeh) {\n",
       "      }\n",
       "    ];\n",
       "  \n",
       "    function run_inline_js() {\n",
       "      for (var i = 0; i < inline_js.length; i++) {\n",
       "        inline_js[i](window.Bokeh);\n",
       "      }\n",
       "    }\n",
       "  \n",
       "    if (window._bokeh_is_loading === 0) {\n",
       "      console.log(\"Bokeh: BokehJS loaded, going straight to plotting\");\n",
       "      run_inline_js();\n",
       "    } else {\n",
       "      load_libs(js_urls, function() {\n",
       "        console.log(\"Bokeh: BokehJS plotting callback run at\", now());\n",
       "        run_inline_js();\n",
       "      });\n",
       "    }\n",
       "  }(this));\n",
       "</script>"
      ]
     },
     "metadata": {},
     "output_type": "display_data"
    },
    {
     "data": {
      "text/html": [
       "<p><code>&lt;Bokeh Notebook handle for <strong>In[7]</strong>&gt;</code></p>"
      ],
      "text/plain": [
       "<bokeh.io._CommsHandle at 0x1134399d0>"
      ]
     },
     "execution_count": 7,
     "metadata": {},
     "output_type": "execute_result"
    }
   ],
   "source": [
    "from bokeh.models.annotations import Arrow\n",
    "from bokeh.models.arrow_heads import OpenHead, NormalHead, VeeHead\n",
    "\n",
    "p = figure(plot_width=600, plot_height=600)\n",
    "\n",
    "p.circle(x=[0, 1, 0.5], y=[0, 0, 0.7], radius=0.1,\n",
    "         color=[\"navy\", \"yellow\", \"red\"], fill_alpha=0.1)\n",
    "\n",
    "p.add_layout(Arrow(end=OpenHead(line_color=\"firebrick\", line_width=4),\n",
    "                   x_start=0, y_start=0, x_end=1, y_end=0))\n",
    "\n",
    "p.add_layout(Arrow(end=NormalHead(fill_color=\"orange\"),\n",
    "                   x_start=1, y_start=0, x_end=0.5, y_end=0.7))\n",
    "\n",
    "p.add_layout(Arrow(end=VeeHead(size=35), line_color=\"red\",\n",
    "                   x_start=0.5, y_start=0.7, x_end=0, y_end=0))\n",
    "\n",
    "show(p)"
   ]
  },
  {
   "cell_type": "code",
   "execution_count": 10,
   "metadata": {
    "collapsed": true
   },
   "outputs": [],
   "source": [
    "# EXERCISE: experiment with arrows and arrow heads\n",
    "\n"
   ]
  },
  {
   "cell_type": "markdown",
   "metadata": {},
   "source": [
    "## Legends"
   ]
  },
  {
   "cell_type": "code",
   "execution_count": 8,
   "metadata": {
    "collapsed": false
   },
   "outputs": [
    {
     "data": {
      "text/html": [
       "\n",
       "\n",
       "    <div class=\"bk-root\">\n",
       "        <div class=\"plotdiv\" id=\"132522e8-beca-4871-924e-ae1389b73667\"></div>\n",
       "    </div>\n",
       "<script type=\"text/javascript\">\n",
       "  \n",
       "  (function(global) {\n",
       "    function now() {\n",
       "      return new Date();\n",
       "    }\n",
       "  \n",
       "    var force = \"\";\n",
       "  \n",
       "    if (typeof (window._bokeh_onload_callbacks) === \"undefined\" || force !== \"\") {\n",
       "      window._bokeh_onload_callbacks = [];\n",
       "      window._bokeh_is_loading = undefined;\n",
       "    }\n",
       "  \n",
       "    function run_callbacks() {\n",
       "      window._bokeh_onload_callbacks.forEach(function(callback) { callback() });\n",
       "      delete window._bokeh_onload_callbacks\n",
       "      console.info(\"Bokeh: all callbacks have finished\");\n",
       "    }\n",
       "  \n",
       "    function load_libs(js_urls, callback) {\n",
       "      window._bokeh_onload_callbacks.push(callback);\n",
       "      if (window._bokeh_is_loading > 0) {\n",
       "        console.log(\"Bokeh: BokehJS is being loaded, scheduling callback at\", now());\n",
       "        return null;\n",
       "      }\n",
       "      if (js_urls == null || js_urls.length === 0) {\n",
       "        run_callbacks();\n",
       "        return null;\n",
       "      }\n",
       "      console.log(\"Bokeh: BokehJS not loaded, scheduling load and callback at\", now());\n",
       "      window._bokeh_is_loading = js_urls.length;\n",
       "      for (var i = 0; i < js_urls.length; i++) {\n",
       "        var url = js_urls[i];\n",
       "        var s = document.createElement('script');\n",
       "        s.src = url;\n",
       "        s.async = false;\n",
       "        s.onreadystatechange = s.onload = function() {\n",
       "          window._bokeh_is_loading--;\n",
       "          if (window._bokeh_is_loading === 0) {\n",
       "            console.log(\"Bokeh: all BokehJS libraries loaded\");\n",
       "            run_callbacks()\n",
       "          }\n",
       "        };\n",
       "        s.onerror = function() {\n",
       "          console.warn(\"failed to load library \" + url);\n",
       "        };\n",
       "        console.log(\"Bokeh: injecting script tag for BokehJS library: \", url);\n",
       "        document.getElementsByTagName(\"head\")[0].appendChild(s);\n",
       "      }\n",
       "    };var element = document.getElementById(\"132522e8-beca-4871-924e-ae1389b73667\");\n",
       "    if (element == null) {\n",
       "      console.log(\"Bokeh: ERROR: autoload.js configured with elementid '132522e8-beca-4871-924e-ae1389b73667' but no matching script tag was found. \")\n",
       "      return false;\n",
       "    }\n",
       "  \n",
       "    var js_urls = [];\n",
       "  \n",
       "    var inline_js = [\n",
       "      function(Bokeh) {\n",
       "        Bokeh.$(function() {\n",
       "            var docs_json = {\"0e3a66ee-43c7-44ec-a775-dfdad6d02fce\":{\"roots\":{\"references\":[{\"attributes\":{\"plot\":{\"id\":\"0d5c5640-7add-4110-ad60-052db49aebe0\",\"subtype\":\"Figure\",\"type\":\"Plot\"}},\"id\":\"dd51f031-2d65-422b-8454-997a29ed6c95\",\"type\":\"HelpTool\"},{\"attributes\":{\"callback\":null},\"id\":\"2b17cbb1-f1bd-48a3-8cdc-517645e60aa1\",\"type\":\"DataRange1d\"},{\"attributes\":{\"line_color\":{\"value\":\"orange\"},\"line_dash\":[4,4],\"line_width\":{\"value\":2},\"x\":{\"field\":\"x\"},\"y\":{\"field\":\"y\"}},\"id\":\"00290958-c2c8-4569-8771-e799698359f3\",\"type\":\"Line\"},{\"attributes\":{\"data_source\":{\"id\":\"b2ec3fc5-4025-4186-9768-19125e4ad0c8\",\"type\":\"ColumnDataSource\"},\"glyph\":{\"id\":\"00290958-c2c8-4569-8771-e799698359f3\",\"type\":\"Line\"},\"hover_glyph\":null,\"nonselection_glyph\":{\"id\":\"ac156be6-f9c6-4c27-8e27-8171301b6671\",\"type\":\"Line\"},\"selection_glyph\":null},\"id\":\"6472b479-4a25-4df2-8f3a-60ce5671db74\",\"type\":\"GlyphRenderer\"},{\"attributes\":{\"callback\":null,\"column_names\":[\"y\",\"x\"],\"data\":{\"x\":[0.0,0.12693303650867852,0.25386607301735703,0.3807991095260356,0.5077321460347141,0.6346651825433925,0.7615982190520711,0.8885312555607496,1.0154642920694281,1.1423973285781066,1.269330365086785,1.3962634015954636,1.5231964381041423,1.6501294746128208,1.7770625111214993,1.9039955476301778,2.0309285841388562,2.1578616206475347,2.284794657156213,2.4117276936648917,2.53866073017357,2.6655937666822487,2.792526803190927,2.9194598396996057,3.0463928762082846,3.173325912716963,3.3002589492256416,3.42719198573432,3.5541250222429985,3.681058058751677,3.8079910952603555,3.934924131769034,4.0618571682777125,4.188790204786391,4.3157232412950695,4.442656277803748,4.569589314312426,4.696522350821105,4.823455387329783,4.950388423838462,5.07732146034714,5.204254496855819,5.331187533364497,5.458120569873176,5.585053606381854,5.711986642890533,5.838919679399211,5.96585271590789,6.092785752416569,6.219718788925247,6.346651825433926,6.473584861942604,6.600517898451283,6.727450934959961,6.85438397146864,6.981317007977318,7.108250044485997,7.235183080994675,7.362116117503354,7.489049154012032,7.615982190520711,7.742915227029389,7.869848263538068,7.996781300046746,8.123714336555425,8.250647373064103,8.377580409572783,8.50451344608146,8.631446482590139,8.758379519098817,8.885312555607497,9.012245592116175,9.139178628624853,9.266111665133531,9.39304470164221,9.519977738150889,9.646910774659567,9.773843811168245,9.900776847676925,10.027709884185603,10.15464292069428,10.28157595720296,10.408508993711639,10.535442030220317,10.662375066728995,10.789308103237675,10.916241139746353,11.04317417625503,11.170107212763709,11.297040249272388,11.423973285781067,11.550906322289745,11.677839358798423,11.804772395307102,11.93170543181578,12.058638468324459,12.185571504833138,12.312504541341816,12.439437577850494,12.566370614359172],\"y\":[0.0,0.25318490714749853,0.5022959743621584,0.7433249113206551,0.9723934722009374,1.1858158581092808,1.380158022964224,1.5522929285835136,1.6994508598990288,1.8192639907090367,1.9098044828881477,1.969615506024416,1.997734678366016,1.9937095519038848,1.9576048924295575,1.890001637429337,1.7919875485826717,1.6651397092695428,1.5114991487085168,1.3335380010325832,1.1341197277255417,0.916453043454821,0.6840402866513378,0.4406210655730816,0.19011208660836487,-0.0634558669961357,-0.31600279194670017,-0.5634651136828597,-0.8018610708132277,-1.0273547831468128,-1.2363179724412106,-1.4253883427577256,-1.5915236810616642,-1.7320508075688776,-1.8447085882091627,-1.9276843171198843,-1.9796428837618654,-1.9997482553477501,-1.9876769289225082,-1.9436231366470833,-1.8682957205302135,-1.762906726895164,-1.629151904100672,-1.4691834173150662,-1.2855752193730792,-1.0812816349111949,-0.8595898241783438,-0.6240668913969741,-0.3785024887208195,-0.12684783931312904,0.12684783931312982,0.37850248872082026,0.6240668913969749,0.8595898241783431,1.0812816349111958,1.2855752193730785,1.4691834173150669,1.629151904100671,1.7629067268951641,1.8682957205302133,1.9436231366470835,1.9876769289225082,1.9997482553477501,1.9796428837618656,1.927684317119884,1.8447085882091632,1.7320508075688765,1.5915236810616638,1.4253883427577259,1.2363179724412112,1.0273547831468113,0.8018610708132269,0.5634651136828598,0.3160027919467011,0.06345586699613402,-0.19011208660836568,-0.4406210655730807,-0.684040286651336,-0.9164530434548217,-1.1341197277255417,-1.3335380010325826,-1.5114991487085176,-1.6651397092695432,-1.7919875485826717,-1.8900016374293367,-1.9576048924295577,-1.9937095519038848,-1.997734678366016,-1.9696155060244163,-1.9098044828881473,-1.8192639907090367,-1.699450859899029,-1.5522929285835145,-1.3801580229642232,-1.1858158581092808,-0.972393472200938,-0.7433249113206534,-0.5022959743621576,-0.2531849071474986,-9.797174393178826e-16]}},\"id\":\"b2ec3fc5-4025-4186-9768-19125e4ad0c8\",\"type\":\"ColumnDataSource\"},{\"attributes\":{\"line_alpha\":{\"value\":0.1},\"line_color\":{\"value\":\"#1f77b4\"},\"line_dash\":[4,4],\"line_width\":{\"value\":2},\"x\":{\"field\":\"x\"},\"y\":{\"field\":\"y\"}},\"id\":\"ac156be6-f9c6-4c27-8e27-8171301b6671\",\"type\":\"Line\"},{\"attributes\":{\"plot\":{\"id\":\"0d5c5640-7add-4110-ad60-052db49aebe0\",\"subtype\":\"Figure\",\"type\":\"Plot\"},\"ticker\":{\"id\":\"c6115ea5-4509-4dec-9c38-a3d46dc3fa84\",\"type\":\"BasicTicker\"}},\"id\":\"9a904fed-a205-45b9-a545-89b685786a28\",\"type\":\"Grid\"},{\"attributes\":{\"plot\":{\"id\":\"0d5c5640-7add-4110-ad60-052db49aebe0\",\"subtype\":\"Figure\",\"type\":\"Plot\"}},\"id\":\"350358a6-edca-46e5-90f7-54c74c194ef2\",\"type\":\"PanTool\"},{\"attributes\":{},\"id\":\"c2bee09b-7541-4d21-99c4-f60fbe2dc9da\",\"type\":\"BasicTickFormatter\"},{\"attributes\":{\"data_source\":{\"id\":\"7b95896f-1b08-47cc-882e-6006868edd2b\",\"type\":\"ColumnDataSource\"},\"glyph\":{\"id\":\"be6e38fd-377b-4ffd-b112-c69d27e21558\",\"type\":\"Circle\"},\"hover_glyph\":null,\"nonselection_glyph\":{\"id\":\"89607173-d4f9-4675-b7c2-646ef3e35bd5\",\"type\":\"Circle\"},\"selection_glyph\":null},\"id\":\"a68bce45-afec-4ebb-b2fb-870cc4a3f3be\",\"type\":\"GlyphRenderer\"},{\"attributes\":{\"legends\":[[\"sin(x)\",[{\"id\":\"a68bce45-afec-4ebb-b2fb-870cc4a3f3be\",\"type\":\"GlyphRenderer\"}]],[\"2*sin(x)\",[{\"id\":\"6472b479-4a25-4df2-8f3a-60ce5671db74\",\"type\":\"GlyphRenderer\"}]]],\"plot\":{\"id\":\"0d5c5640-7add-4110-ad60-052db49aebe0\",\"subtype\":\"Figure\",\"type\":\"Plot\"}},\"id\":\"095a906e-d2d5-49c6-b6f2-8bc84db9d63d\",\"type\":\"Legend\"},{\"attributes\":{\"bottom_units\":\"screen\",\"fill_alpha\":{\"value\":0.5},\"fill_color\":{\"value\":\"lightgrey\"},\"left_units\":\"screen\",\"level\":\"overlay\",\"line_alpha\":{\"value\":1.0},\"line_color\":{\"value\":\"black\"},\"line_dash\":[4,4],\"line_width\":{\"value\":2},\"plot\":null,\"render_mode\":\"css\",\"right_units\":\"screen\",\"top_units\":\"screen\"},\"id\":\"c6a7a564-4917-41d5-9783-06325262b2dc\",\"type\":\"BoxAnnotation\"},{\"attributes\":{\"callback\":null},\"id\":\"1c25bbb3-2821-4102-b1eb-7008471fef01\",\"type\":\"DataRange1d\"},{\"attributes\":{\"plot\":{\"id\":\"0d5c5640-7add-4110-ad60-052db49aebe0\",\"subtype\":\"Figure\",\"type\":\"Plot\"}},\"id\":\"8cbc756b-aa3d-4fc5-bff2-dc07235bb61e\",\"type\":\"WheelZoomTool\"},{\"attributes\":{},\"id\":\"af19ba04-2339-4d61-9d10-d628dfa42ea9\",\"type\":\"ToolEvents\"},{\"attributes\":{\"active_drag\":\"auto\",\"active_scroll\":\"auto\",\"active_tap\":\"auto\",\"tools\":[{\"id\":\"350358a6-edca-46e5-90f7-54c74c194ef2\",\"type\":\"PanTool\"},{\"id\":\"8cbc756b-aa3d-4fc5-bff2-dc07235bb61e\",\"type\":\"WheelZoomTool\"},{\"id\":\"3a29abe6-e7ed-4cca-8150-81ae204f8967\",\"type\":\"BoxZoomTool\"},{\"id\":\"cf02cd3a-65dd-41ea-8a9b-65e8e9b5e9a9\",\"type\":\"SaveTool\"},{\"id\":\"2b9ce417-dee8-4991-a8f7-e54ce232d6a8\",\"type\":\"ResetTool\"},{\"id\":\"dd51f031-2d65-422b-8454-997a29ed6c95\",\"type\":\"HelpTool\"}]},\"id\":\"90457c41-24ce-42d7-aaab-456f79cff055\",\"type\":\"Toolbar\"},{\"attributes\":{},\"id\":\"2aad7a04-eb05-490f-84d1-d20779888409\",\"type\":\"BasicTicker\"},{\"attributes\":{\"plot\":{\"id\":\"0d5c5640-7add-4110-ad60-052db49aebe0\",\"subtype\":\"Figure\",\"type\":\"Plot\"}},\"id\":\"cf02cd3a-65dd-41ea-8a9b-65e8e9b5e9a9\",\"type\":\"SaveTool\"},{\"attributes\":{\"overlay\":{\"id\":\"c6a7a564-4917-41d5-9783-06325262b2dc\",\"type\":\"BoxAnnotation\"},\"plot\":{\"id\":\"0d5c5640-7add-4110-ad60-052db49aebe0\",\"subtype\":\"Figure\",\"type\":\"Plot\"}},\"id\":\"3a29abe6-e7ed-4cca-8150-81ae204f8967\",\"type\":\"BoxZoomTool\"},{\"attributes\":{},\"id\":\"7f1c1db5-1a9a-4bde-a2f3-37a24d28314a\",\"type\":\"BasicTickFormatter\"},{\"attributes\":{\"plot\":{\"id\":\"0d5c5640-7add-4110-ad60-052db49aebe0\",\"subtype\":\"Figure\",\"type\":\"Plot\"}},\"id\":\"2b9ce417-dee8-4991-a8f7-e54ce232d6a8\",\"type\":\"ResetTool\"},{\"attributes\":{\"formatter\":{\"id\":\"7f1c1db5-1a9a-4bde-a2f3-37a24d28314a\",\"type\":\"BasicTickFormatter\"},\"plot\":{\"id\":\"0d5c5640-7add-4110-ad60-052db49aebe0\",\"subtype\":\"Figure\",\"type\":\"Plot\"},\"ticker\":{\"id\":\"c6115ea5-4509-4dec-9c38-a3d46dc3fa84\",\"type\":\"BasicTicker\"}},\"id\":\"e476d375-3bfc-4f00-b92a-18d2c40a2faf\",\"type\":\"LinearAxis\"},{\"attributes\":{\"fill_alpha\":{\"value\":0.1},\"fill_color\":{\"value\":\"#1f77b4\"},\"line_alpha\":{\"value\":0.1},\"line_color\":{\"value\":\"#1f77b4\"},\"x\":{\"field\":\"x\"},\"y\":{\"field\":\"y\"}},\"id\":\"89607173-d4f9-4675-b7c2-646ef3e35bd5\",\"type\":\"Circle\"},{\"attributes\":{\"fill_color\":{\"value\":\"#1f77b4\"},\"line_color\":{\"value\":\"#1f77b4\"},\"x\":{\"field\":\"x\"},\"y\":{\"field\":\"y\"}},\"id\":\"be6e38fd-377b-4ffd-b112-c69d27e21558\",\"type\":\"Circle\"},{\"attributes\":{\"formatter\":{\"id\":\"c2bee09b-7541-4d21-99c4-f60fbe2dc9da\",\"type\":\"BasicTickFormatter\"},\"plot\":{\"id\":\"0d5c5640-7add-4110-ad60-052db49aebe0\",\"subtype\":\"Figure\",\"type\":\"Plot\"},\"ticker\":{\"id\":\"2aad7a04-eb05-490f-84d1-d20779888409\",\"type\":\"BasicTicker\"}},\"id\":\"b62868bb-6a60-4577-8ef5-6b2da4469682\",\"type\":\"LinearAxis\"},{\"attributes\":{\"dimension\":1,\"plot\":{\"id\":\"0d5c5640-7add-4110-ad60-052db49aebe0\",\"subtype\":\"Figure\",\"type\":\"Plot\"},\"ticker\":{\"id\":\"2aad7a04-eb05-490f-84d1-d20779888409\",\"type\":\"BasicTicker\"}},\"id\":\"1af56f0d-fcc3-4b00-af87-55a0d2a7376c\",\"type\":\"Grid\"},{\"attributes\":{},\"id\":\"c6115ea5-4509-4dec-9c38-a3d46dc3fa84\",\"type\":\"BasicTicker\"},{\"attributes\":{\"plot\":null,\"text\":null},\"id\":\"5c446305-05f5-4fe4-bb3c-c7b76c46d2b0\",\"type\":\"Title\"},{\"attributes\":{\"callback\":null,\"column_names\":[\"y\",\"x\"],\"data\":{\"x\":[0.0,0.12693303650867852,0.25386607301735703,0.3807991095260356,0.5077321460347141,0.6346651825433925,0.7615982190520711,0.8885312555607496,1.0154642920694281,1.1423973285781066,1.269330365086785,1.3962634015954636,1.5231964381041423,1.6501294746128208,1.7770625111214993,1.9039955476301778,2.0309285841388562,2.1578616206475347,2.284794657156213,2.4117276936648917,2.53866073017357,2.6655937666822487,2.792526803190927,2.9194598396996057,3.0463928762082846,3.173325912716963,3.3002589492256416,3.42719198573432,3.5541250222429985,3.681058058751677,3.8079910952603555,3.934924131769034,4.0618571682777125,4.188790204786391,4.3157232412950695,4.442656277803748,4.569589314312426,4.696522350821105,4.823455387329783,4.950388423838462,5.07732146034714,5.204254496855819,5.331187533364497,5.458120569873176,5.585053606381854,5.711986642890533,5.838919679399211,5.96585271590789,6.092785752416569,6.219718788925247,6.346651825433926,6.473584861942604,6.600517898451283,6.727450934959961,6.85438397146864,6.981317007977318,7.108250044485997,7.235183080994675,7.362116117503354,7.489049154012032,7.615982190520711,7.742915227029389,7.869848263538068,7.996781300046746,8.123714336555425,8.250647373064103,8.377580409572783,8.50451344608146,8.631446482590139,8.758379519098817,8.885312555607497,9.012245592116175,9.139178628624853,9.266111665133531,9.39304470164221,9.519977738150889,9.646910774659567,9.773843811168245,9.900776847676925,10.027709884185603,10.15464292069428,10.28157595720296,10.408508993711639,10.535442030220317,10.662375066728995,10.789308103237675,10.916241139746353,11.04317417625503,11.170107212763709,11.297040249272388,11.423973285781067,11.550906322289745,11.677839358798423,11.804772395307102,11.93170543181578,12.058638468324459,12.185571504833138,12.312504541341816,12.439437577850494,12.566370614359172],\"y\":[0.0,0.12659245357374926,0.2511479871810792,0.3716624556603276,0.4861967361004687,0.5929079290546404,0.690079011482112,0.7761464642917568,0.8497254299495144,0.9096319953545183,0.9549022414440739,0.984807753012208,0.998867339183008,0.9968547759519424,0.9788024462147787,0.9450008187146685,0.8959937742913359,0.8325698546347714,0.7557495743542584,0.6667690005162916,0.5670598638627709,0.4582265217274105,0.3420201433256689,0.2203105327865408,0.09505604330418244,-0.03172793349806785,-0.15800139597335008,-0.28173255684142984,-0.40093053540661383,-0.5136773915734064,-0.6181589862206053,-0.7126941713788628,-0.7957618405308321,-0.8660254037844388,-0.9223542941045814,-0.9638421585599422,-0.9898214418809327,-0.9998741276738751,-0.9938384644612541,-0.9718115683235417,-0.9341478602651068,-0.881453363447582,-0.814575952050336,-0.7345917086575331,-0.6427876096865396,-0.5406408174555974,-0.4297949120891719,-0.31203344569848707,-0.18925124436040974,-0.06342391965656452,0.06342391965656491,0.18925124436041013,0.31203344569848745,0.42979491208917153,0.5406408174555979,0.6427876096865393,0.7345917086575334,0.8145759520503355,0.8814533634475821,0.9341478602651067,0.9718115683235418,0.9938384644612541,0.9998741276738751,0.9898214418809328,0.963842158559942,0.9223542941045816,0.8660254037844383,0.7957618405308319,0.7126941713788629,0.6181589862206056,0.5136773915734056,0.40093053540661344,0.2817325568414299,0.15800139597335056,0.03172793349806701,-0.09505604330418284,-0.22031053278654034,-0.342020143325668,-0.45822652172741085,-0.5670598638627709,-0.6667690005162913,-0.7557495743542588,-0.8325698546347716,-0.8959937742913359,-0.9450008187146683,-0.9788024462147789,-0.9968547759519424,-0.998867339183008,-0.9848077530122081,-0.9549022414440737,-0.9096319953545183,-0.8497254299495145,-0.7761464642917573,-0.6900790114821116,-0.5929079290546404,-0.486196736100469,-0.3716624556603267,-0.2511479871810788,-0.1265924535737493,-4.898587196589413e-16]}},\"id\":\"7b95896f-1b08-47cc-882e-6006868edd2b\",\"type\":\"ColumnDataSource\"},{\"attributes\":{\"below\":[{\"id\":\"e476d375-3bfc-4f00-b92a-18d2c40a2faf\",\"type\":\"LinearAxis\"}],\"left\":[{\"id\":\"b62868bb-6a60-4577-8ef5-6b2da4469682\",\"type\":\"LinearAxis\"}],\"plot_height\":400,\"renderers\":[{\"id\":\"e476d375-3bfc-4f00-b92a-18d2c40a2faf\",\"type\":\"LinearAxis\"},{\"id\":\"9a904fed-a205-45b9-a545-89b685786a28\",\"type\":\"Grid\"},{\"id\":\"b62868bb-6a60-4577-8ef5-6b2da4469682\",\"type\":\"LinearAxis\"},{\"id\":\"1af56f0d-fcc3-4b00-af87-55a0d2a7376c\",\"type\":\"Grid\"},{\"id\":\"c6a7a564-4917-41d5-9783-06325262b2dc\",\"type\":\"BoxAnnotation\"},{\"id\":\"095a906e-d2d5-49c6-b6f2-8bc84db9d63d\",\"type\":\"Legend\"},{\"id\":\"a68bce45-afec-4ebb-b2fb-870cc4a3f3be\",\"type\":\"GlyphRenderer\"},{\"id\":\"6472b479-4a25-4df2-8f3a-60ce5671db74\",\"type\":\"GlyphRenderer\"}],\"title\":{\"id\":\"5c446305-05f5-4fe4-bb3c-c7b76c46d2b0\",\"type\":\"Title\"},\"tool_events\":{\"id\":\"af19ba04-2339-4d61-9d10-d628dfa42ea9\",\"type\":\"ToolEvents\"},\"toolbar\":{\"id\":\"90457c41-24ce-42d7-aaab-456f79cff055\",\"type\":\"Toolbar\"},\"x_range\":{\"id\":\"1c25bbb3-2821-4102-b1eb-7008471fef01\",\"type\":\"DataRange1d\"},\"y_range\":{\"id\":\"2b17cbb1-f1bd-48a3-8cdc-517645e60aa1\",\"type\":\"DataRange1d\"}},\"id\":\"0d5c5640-7add-4110-ad60-052db49aebe0\",\"subtype\":\"Figure\",\"type\":\"Plot\"}],\"root_ids\":[\"0d5c5640-7add-4110-ad60-052db49aebe0\"]},\"title\":\"Bokeh Application\",\"version\":\"0.12.1\"}};\n",
       "            var render_items = [{\"docid\":\"0e3a66ee-43c7-44ec-a775-dfdad6d02fce\",\"elementid\":\"132522e8-beca-4871-924e-ae1389b73667\",\"modelid\":\"0d5c5640-7add-4110-ad60-052db49aebe0\",\"notebook_comms_target\":\"40e6b903-8639-4b1b-b7b3-cb7cfa2f4a6e\"}];\n",
       "            \n",
       "            Bokeh.embed.embed_items(docs_json, render_items);\n",
       "        });\n",
       "      },\n",
       "      function(Bokeh) {\n",
       "      }\n",
       "    ];\n",
       "  \n",
       "    function run_inline_js() {\n",
       "      for (var i = 0; i < inline_js.length; i++) {\n",
       "        inline_js[i](window.Bokeh);\n",
       "      }\n",
       "    }\n",
       "  \n",
       "    if (window._bokeh_is_loading === 0) {\n",
       "      console.log(\"Bokeh: BokehJS loaded, going straight to plotting\");\n",
       "      run_inline_js();\n",
       "    } else {\n",
       "      load_libs(js_urls, function() {\n",
       "        console.log(\"Bokeh: BokehJS plotting callback run at\", now());\n",
       "        run_inline_js();\n",
       "      });\n",
       "    }\n",
       "  }(this));\n",
       "</script>"
      ]
     },
     "metadata": {},
     "output_type": "display_data"
    },
    {
     "data": {
      "text/html": [
       "<p><code>&lt;Bokeh Notebook handle for <strong>In[8]</strong>&gt;</code></p>"
      ],
      "text/plain": [
       "<bokeh.io._CommsHandle at 0x1133ce7d0>"
      ]
     },
     "execution_count": 8,
     "metadata": {},
     "output_type": "execute_result"
    }
   ],
   "source": [
    "import numpy as np\n",
    "\n",
    "x = np.linspace(0, 4*np.pi, 100)\n",
    "y = np.sin(x)\n",
    "\n",
    "p = figure(height=400)\n",
    "\n",
    "p.circle(x, y, legend=\"sin(x)\")\n",
    "p.line(x, 2*y, legend=\"2*sin(x)\", line_dash=[4, 4], line_color=\"orange\", line_width=2)\n",
    "\n",
    "show(p)"
   ]
  },
  {
   "cell_type": "markdown",
   "metadata": {},
   "source": [
    "### Compound legends\n",
    "\n",
    "You can make compound legends by specifying the same legend.\n",
    "\n",
    "Exercise: (1) Try making a compound legend (2) Try moving the legend using `p.legend.location`"
   ]
  },
  {
   "cell_type": "markdown",
   "metadata": {},
   "source": [
    "## Color bars"
   ]
  },
  {
   "cell_type": "code",
   "execution_count": 9,
   "metadata": {
    "collapsed": false
   },
   "outputs": [
    {
     "ename": "ImportError",
     "evalue": "cannot import name ColorBar",
     "output_type": "error",
     "traceback": [
      "\u001b[0;31m---------------------------------------------------------------------------\u001b[0m",
      "\u001b[0;31mImportError\u001b[0m                               Traceback (most recent call last)",
      "\u001b[0;32m<ipython-input-9-c80adfbf212f>\u001b[0m in \u001b[0;36m<module>\u001b[0;34m()\u001b[0m\n\u001b[1;32m      1\u001b[0m \u001b[0;32mfrom\u001b[0m \u001b[0mbokeh\u001b[0m\u001b[0;34m.\u001b[0m\u001b[0msampledata\u001b[0m\u001b[0;34m.\u001b[0m\u001b[0mautompg\u001b[0m \u001b[0;32mimport\u001b[0m \u001b[0mautompg\u001b[0m\u001b[0;34m\u001b[0m\u001b[0m\n\u001b[0;32m----> 2\u001b[0;31m \u001b[0;32mfrom\u001b[0m \u001b[0mbokeh\u001b[0m\u001b[0;34m.\u001b[0m\u001b[0mmodels\u001b[0m \u001b[0;32mimport\u001b[0m \u001b[0mLinearColorMapper\u001b[0m\u001b[0;34m,\u001b[0m \u001b[0mColorBar\u001b[0m\u001b[0;34m\u001b[0m\u001b[0m\n\u001b[0m\u001b[1;32m      3\u001b[0m \u001b[0;32mfrom\u001b[0m \u001b[0mbokeh\u001b[0m\u001b[0;34m.\u001b[0m\u001b[0mpalettes\u001b[0m \u001b[0;32mimport\u001b[0m \u001b[0mViridis256\u001b[0m\u001b[0;34m\u001b[0m\u001b[0m\n\u001b[1;32m      4\u001b[0m \u001b[0msource\u001b[0m \u001b[0;34m=\u001b[0m \u001b[0mColumnDataSource\u001b[0m\u001b[0;34m(\u001b[0m\u001b[0mautompg\u001b[0m\u001b[0;34m)\u001b[0m\u001b[0;34m\u001b[0m\u001b[0m\n\u001b[1;32m      5\u001b[0m \u001b[0mcolor_mapper\u001b[0m \u001b[0;34m=\u001b[0m \u001b[0mLinearColorMapper\u001b[0m\u001b[0;34m(\u001b[0m\u001b[0mpalette\u001b[0m\u001b[0;34m=\u001b[0m\u001b[0mViridis256\u001b[0m\u001b[0;34m,\u001b[0m \u001b[0mlow\u001b[0m\u001b[0;34m=\u001b[0m\u001b[0mautompg\u001b[0m\u001b[0;34m.\u001b[0m\u001b[0mweight\u001b[0m\u001b[0;34m.\u001b[0m\u001b[0mmin\u001b[0m\u001b[0;34m(\u001b[0m\u001b[0;34m)\u001b[0m\u001b[0;34m,\u001b[0m \u001b[0mhigh\u001b[0m\u001b[0;34m=\u001b[0m\u001b[0mautompg\u001b[0m\u001b[0;34m.\u001b[0m\u001b[0mweight\u001b[0m\u001b[0;34m.\u001b[0m\u001b[0mmax\u001b[0m\u001b[0;34m(\u001b[0m\u001b[0;34m)\u001b[0m\u001b[0;34m)\u001b[0m\u001b[0;34m\u001b[0m\u001b[0m\n",
      "\u001b[0;31mImportError\u001b[0m: cannot import name ColorBar"
     ]
    }
   ],
   "source": [
    "from bokeh.sampledata.autompg import autompg\n",
    "from bokeh.models import LinearColorMapper, ColorBar\n",
    "from bokeh.palettes import Viridis256\n",
    "source = ColumnDataSource(autompg)\n",
    "color_mapper = LinearColorMapper(palette=Viridis256, low=autompg.weight.min(), high=autompg.weight.max())\n",
    "\n",
    "p = figure(x_axis_label='Year', y_axis_label='MPG', tools='', toolbar_location='above')\n",
    "p.circle(x='yr', y='mpg', color={'field': 'weight', 'transform': color_mapper}, size=20, alpha=0.6, source=source)\n",
    "color_bar = ColorBar(color_mapper=color_mapper, label_standoff=12, location=(0,0), title='Weight')\n",
    "p.add_layout(color_bar, 'right')\n",
    "\n",
    "show(p)"
   ]
  },
  {
   "cell_type": "code",
   "execution_count": null,
   "metadata": {
    "collapsed": true
   },
   "outputs": [],
   "source": []
  }
 ],
 "metadata": {
  "anaconda-cloud": {},
  "kernelspec": {
   "display_name": "Python 2",
   "language": "python",
   "name": "python2"
  },
  "language_info": {
   "codemirror_mode": {
    "name": "ipython",
    "version": 2
   },
   "file_extension": ".py",
   "mimetype": "text/x-python",
   "name": "python",
   "nbconvert_exporter": "python",
   "pygments_lexer": "ipython2",
   "version": "2.7.12"
  }
 },
 "nbformat": 4,
 "nbformat_minor": 0
}
