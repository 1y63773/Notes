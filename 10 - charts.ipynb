{
 "cells": [
  {
   "cell_type": "markdown",
   "metadata": {},
   "source": [
    "<table style=\"float:left; border:none\">\n",
    "   <tr style=\"border:none\">\n",
    "       <td style=\"border:none\">\n",
    "           <a href=\"http://bokeh.pydata.org/\">     \n",
    "           <img \n",
    "               src=\"assets/images/bokeh-transparent.png\" \n",
    "               style=\"width:50px\"\n",
    "           >\n",
    "           </a>    \n",
    "       </td>\n",
    "       <td style=\"border:none\">\n",
    "           <h1>Bokeh Tutorial</h1>\n",
    "       </td>\n",
    "   </tr>\n",
    "</table>\n",
    "\n",
    "<div style=\"float:right;\"><h2>10. High Level Charts</h2></div>"
   ]
  },
  {
   "cell_type": "markdown",
   "metadata": {},
   "source": [
    "This section covers the `bokeh.charts` interface, which is a high-level API that is especially useful for exploratory data analysis (for instance, in a Jupyter notebook). It provides functions for quickly producing many standard chart types, often with a single line of code. We will look at the following types in this notebook:\n",
    "\n",
    "* [Scatter Plot](#Scatter-Plot)\n",
    "* [Bar Chart](#Bar-Chart)\n",
    "* [Histogram](#Histogram)\n",
    "* [Box Plot](#Box-Plot)"
   ]
  },
  {
   "cell_type": "code",
   "execution_count": 1,
   "metadata": {
    "collapsed": false
   },
   "outputs": [
    {
     "data": {
      "text/html": [
       "\n",
       "    <div class=\"bk-root\">\n",
       "        <a href=\"http://bokeh.pydata.org\" target=\"_blank\" class=\"bk-logo bk-logo-small bk-logo-notebook\"></a>\n",
       "        <span id=\"ee5bff96-f342-498a-a2d7-b19e274a8246\">Loading BokehJS ...</span>\n",
       "    </div>"
      ]
     },
     "metadata": {},
     "output_type": "display_data"
    },
    {
     "data": {
      "application/javascript": [
       "\n",
       "(function(global) {\n",
       "  function now() {\n",
       "    return new Date();\n",
       "  }\n",
       "\n",
       "  var force = \"1\";\n",
       "\n",
       "  if (typeof (window._bokeh_onload_callbacks) === \"undefined\" || force !== \"\") {\n",
       "    window._bokeh_onload_callbacks = [];\n",
       "    window._bokeh_is_loading = undefined;\n",
       "  }\n",
       "\n",
       "  function run_callbacks() {\n",
       "    window._bokeh_onload_callbacks.forEach(function(callback) { callback() });\n",
       "    delete window._bokeh_onload_callbacks\n",
       "    console.info(\"Bokeh: all callbacks have finished\");\n",
       "  }\n",
       "\n",
       "  function load_libs(js_urls, callback) {\n",
       "    window._bokeh_onload_callbacks.push(callback);\n",
       "    if (window._bokeh_is_loading > 0) {\n",
       "      console.log(\"Bokeh: BokehJS is being loaded, scheduling callback at\", now());\n",
       "      return null;\n",
       "    }\n",
       "    if (js_urls == null || js_urls.length === 0) {\n",
       "      run_callbacks();\n",
       "      return null;\n",
       "    }\n",
       "    console.log(\"Bokeh: BokehJS not loaded, scheduling load and callback at\", now());\n",
       "    window._bokeh_is_loading = js_urls.length;\n",
       "    for (var i = 0; i < js_urls.length; i++) {\n",
       "      var url = js_urls[i];\n",
       "      var s = document.createElement('script');\n",
       "      s.src = url;\n",
       "      s.async = false;\n",
       "      s.onreadystatechange = s.onload = function() {\n",
       "        window._bokeh_is_loading--;\n",
       "        if (window._bokeh_is_loading === 0) {\n",
       "          console.log(\"Bokeh: all BokehJS libraries loaded\");\n",
       "          run_callbacks()\n",
       "        }\n",
       "      };\n",
       "      s.onerror = function() {\n",
       "        console.warn(\"failed to load library \" + url);\n",
       "      };\n",
       "      console.log(\"Bokeh: injecting script tag for BokehJS library: \", url);\n",
       "      document.getElementsByTagName(\"head\")[0].appendChild(s);\n",
       "    }\n",
       "  };\n",
       "\n",
       "  var js_urls = ['https://cdn.pydata.org/bokeh/release/bokeh-0.12.1.min.js', 'https://cdn.pydata.org/bokeh/release/bokeh-widgets-0.12.1.min.js', 'https://cdn.pydata.org/bokeh/release/bokeh-compiler-0.12.1.min.js'];\n",
       "\n",
       "  var inline_js = [\n",
       "    function(Bokeh) {\n",
       "      Bokeh.set_log_level(\"info\");\n",
       "    },\n",
       "    \n",
       "    function(Bokeh) {\n",
       "      \n",
       "      Bokeh.$(\"#ee5bff96-f342-498a-a2d7-b19e274a8246\").text(\"BokehJS successfully loaded\");\n",
       "      var kernel = Jupyter.notebook.kernel\n",
       "      if (kernel.execute !== undefined) {\n",
       "          kernel.execute(\"import bokeh.io; bokeh.io._nb_loaded = True\");\n",
       "      }\n",
       "    },\n",
       "    function(Bokeh) {\n",
       "      console.log(\"Bokeh: injecting CSS: https://cdn.pydata.org/bokeh/release/bokeh-0.12.1.min.css\");\n",
       "      Bokeh.embed.inject_css(\"https://cdn.pydata.org/bokeh/release/bokeh-0.12.1.min.css\");\n",
       "      console.log(\"Bokeh: injecting CSS: https://cdn.pydata.org/bokeh/release/bokeh-widgets-0.12.1.min.css\");\n",
       "      Bokeh.embed.inject_css(\"https://cdn.pydata.org/bokeh/release/bokeh-widgets-0.12.1.min.css\");\n",
       "    }\n",
       "  ];\n",
       "\n",
       "  function run_inline_js() {\n",
       "    for (var i = 0; i < inline_js.length; i++) {\n",
       "      inline_js[i](window.Bokeh);\n",
       "    }\n",
       "  }\n",
       "\n",
       "  if (window._bokeh_is_loading === 0) {\n",
       "    console.log(\"Bokeh: BokehJS loaded, going straight to plotting\");\n",
       "    run_inline_js();\n",
       "  } else {\n",
       "    load_libs(js_urls, function() {\n",
       "      console.log(\"Bokeh: BokehJS plotting callback run at\", now());\n",
       "      run_inline_js();\n",
       "    });\n",
       "  }\n",
       "}(this));"
      ]
     },
     "metadata": {},
     "output_type": "display_data"
    }
   ],
   "source": [
    "from bokeh.io import output_notebook, show\n",
    "output_notebook()"
   ]
  },
  {
   "cell_type": "markdown",
   "metadata": {},
   "source": [
    "# Scatter Plot\n",
    "\n",
    "A high-level scatter plot is provided by [`bokeh.charts.Scatter`]().\n",
    "\n",
    "For this section will use the \"iris\" data set. First let's import it and take a look at a few rows:"
   ]
  },
  {
   "cell_type": "code",
   "execution_count": 2,
   "metadata": {
    "collapsed": false
   },
   "outputs": [
    {
     "data": {
      "text/html": [
       "<div>\n",
       "<table border=\"1\" class=\"dataframe\">\n",
       "  <thead>\n",
       "    <tr style=\"text-align: right;\">\n",
       "      <th></th>\n",
       "      <th>sepal_length</th>\n",
       "      <th>sepal_width</th>\n",
       "      <th>petal_length</th>\n",
       "      <th>petal_width</th>\n",
       "      <th>species</th>\n",
       "    </tr>\n",
       "  </thead>\n",
       "  <tbody>\n",
       "    <tr>\n",
       "      <th>0</th>\n",
       "      <td>5.1</td>\n",
       "      <td>3.5</td>\n",
       "      <td>1.4</td>\n",
       "      <td>0.2</td>\n",
       "      <td>setosa</td>\n",
       "    </tr>\n",
       "    <tr>\n",
       "      <th>1</th>\n",
       "      <td>4.9</td>\n",
       "      <td>3.0</td>\n",
       "      <td>1.4</td>\n",
       "      <td>0.2</td>\n",
       "      <td>setosa</td>\n",
       "    </tr>\n",
       "    <tr>\n",
       "      <th>2</th>\n",
       "      <td>4.7</td>\n",
       "      <td>3.2</td>\n",
       "      <td>1.3</td>\n",
       "      <td>0.2</td>\n",
       "      <td>setosa</td>\n",
       "    </tr>\n",
       "    <tr>\n",
       "      <th>3</th>\n",
       "      <td>4.6</td>\n",
       "      <td>3.1</td>\n",
       "      <td>1.5</td>\n",
       "      <td>0.2</td>\n",
       "      <td>setosa</td>\n",
       "    </tr>\n",
       "    <tr>\n",
       "      <th>4</th>\n",
       "      <td>5.0</td>\n",
       "      <td>3.6</td>\n",
       "      <td>1.4</td>\n",
       "      <td>0.2</td>\n",
       "      <td>setosa</td>\n",
       "    </tr>\n",
       "  </tbody>\n",
       "</table>\n",
       "</div>"
      ],
      "text/plain": [
       "   sepal_length  sepal_width  petal_length  petal_width species\n",
       "0           5.1          3.5           1.4          0.2  setosa\n",
       "1           4.9          3.0           1.4          0.2  setosa\n",
       "2           4.7          3.2           1.3          0.2  setosa\n",
       "3           4.6          3.1           1.5          0.2  setosa\n",
       "4           5.0          3.6           1.4          0.2  setosa"
      ]
     },
     "execution_count": 2,
     "metadata": {},
     "output_type": "execute_result"
    }
   ],
   "source": [
    "from bokeh.sampledata.iris import flowers\n",
    "flowers.head()"
   ]
  },
  {
   "cell_type": "code",
   "execution_count": 3,
   "metadata": {
    "collapsed": true
   },
   "outputs": [],
   "source": [
    "from bokeh.charts import Scatter"
   ]
  },
  {
   "cell_type": "markdown",
   "metadata": {},
   "source": [
    "A basic scatter chart takes the data (in this case a pandas DataFrame) as the first argument, and specifies the `x` and `y` coordinates for the scatter as the names of columns in the data."
   ]
  },
  {
   "cell_type": "code",
   "execution_count": 17,
   "metadata": {
    "collapsed": false
   },
   "outputs": [
    {
     "data": {
      "text/html": [
       "\n",
       "\n",
       "    <div class=\"bk-root\">\n",
       "        <div class=\"plotdiv\" id=\"c4732db9-9e64-4b85-9350-d87b610806a7\"></div>\n",
       "    </div>\n",
       "<script type=\"text/javascript\">\n",
       "  \n",
       "  (function(global) {\n",
       "    function now() {\n",
       "      return new Date();\n",
       "    }\n",
       "  \n",
       "    var force = \"\";\n",
       "  \n",
       "    if (typeof (window._bokeh_onload_callbacks) === \"undefined\" || force !== \"\") {\n",
       "      window._bokeh_onload_callbacks = [];\n",
       "      window._bokeh_is_loading = undefined;\n",
       "    }\n",
       "  \n",
       "    function run_callbacks() {\n",
       "      window._bokeh_onload_callbacks.forEach(function(callback) { callback() });\n",
       "      delete window._bokeh_onload_callbacks\n",
       "      console.info(\"Bokeh: all callbacks have finished\");\n",
       "    }\n",
       "  \n",
       "    function load_libs(js_urls, callback) {\n",
       "      window._bokeh_onload_callbacks.push(callback);\n",
       "      if (window._bokeh_is_loading > 0) {\n",
       "        console.log(\"Bokeh: BokehJS is being loaded, scheduling callback at\", now());\n",
       "        return null;\n",
       "      }\n",
       "      if (js_urls == null || js_urls.length === 0) {\n",
       "        run_callbacks();\n",
       "        return null;\n",
       "      }\n",
       "      console.log(\"Bokeh: BokehJS not loaded, scheduling load and callback at\", now());\n",
       "      window._bokeh_is_loading = js_urls.length;\n",
       "      for (var i = 0; i < js_urls.length; i++) {\n",
       "        var url = js_urls[i];\n",
       "        var s = document.createElement('script');\n",
       "        s.src = url;\n",
       "        s.async = false;\n",
       "        s.onreadystatechange = s.onload = function() {\n",
       "          window._bokeh_is_loading--;\n",
       "          if (window._bokeh_is_loading === 0) {\n",
       "            console.log(\"Bokeh: all BokehJS libraries loaded\");\n",
       "            run_callbacks()\n",
       "          }\n",
       "        };\n",
       "        s.onerror = function() {\n",
       "          console.warn(\"failed to load library \" + url);\n",
       "        };\n",
       "        console.log(\"Bokeh: injecting script tag for BokehJS library: \", url);\n",
       "        document.getElementsByTagName(\"head\")[0].appendChild(s);\n",
       "      }\n",
       "    };var element = document.getElementById(\"c4732db9-9e64-4b85-9350-d87b610806a7\");\n",
       "    if (element == null) {\n",
       "      console.log(\"Bokeh: ERROR: autoload.js configured with elementid 'c4732db9-9e64-4b85-9350-d87b610806a7' but no matching script tag was found. \")\n",
       "      return false;\n",
       "    }\n",
       "  \n",
       "    var js_urls = [];\n",
       "  \n",
       "    var inline_js = [\n",
       "      function(Bokeh) {\n",
       "        Bokeh.$(function() {\n",
       "            var docs_json = {\"cd245528-4b71-4147-b860-42a6b5f5401c\":{\"roots\":{\"references\":[{\"attributes\":{\"plot\":{\"id\":\"1a30f529-e7ce-4788-b7a3-57085bbf9c2b\",\"subtype\":\"Chart\",\"type\":\"Plot\"}},\"id\":\"aa7e11a2-bd05-414b-aae6-c04f2daca737\",\"type\":\"ResetTool\"},{\"attributes\":{\"callback\":null,\"end\":2.74,\"start\":-0.13999999999999999},\"id\":\"2ccf7bb7-a0f8-4b5d-9d1a-f0aff21981c2\",\"type\":\"Range1d\"},{\"attributes\":{\"data_source\":{\"id\":\"46e3d2bb-64d8-4377-8701-a81f40eaf7c1\",\"type\":\"ColumnDataSource\"},\"glyph\":{\"id\":\"1b0893fb-13d6-4be7-8cf8-00db07b9925f\",\"type\":\"Circle\"},\"hover_glyph\":null,\"nonselection_glyph\":null,\"selection_glyph\":null},\"id\":\"7f710abc-3afe-4286-849e-7fd73680e159\",\"type\":\"GlyphRenderer\"},{\"attributes\":{\"below\":[{\"id\":\"32b471c2-6be4-4837-8c57-0ce0dd475431\",\"type\":\"LinearAxis\"}],\"left\":[{\"id\":\"e7ab46e5-5f05-4130-9597-5438d128c081\",\"type\":\"LinearAxis\"}],\"renderers\":[{\"id\":\"8d0b3188-a1b8-4489-a990-7252f8437ef8\",\"type\":\"BoxAnnotation\"},{\"id\":\"7f710abc-3afe-4286-849e-7fd73680e159\",\"type\":\"GlyphRenderer\"},{\"id\":\"20b4614f-96a8-435d-8a64-b932868779c3\",\"type\":\"Legend\"},{\"id\":\"32b471c2-6be4-4837-8c57-0ce0dd475431\",\"type\":\"LinearAxis\"},{\"id\":\"e7ab46e5-5f05-4130-9597-5438d128c081\",\"type\":\"LinearAxis\"},{\"id\":\"a9a45166-8438-49ef-94dd-46f7b863521c\",\"type\":\"Grid\"},{\"id\":\"1492c925-cfa3-4abe-8682-4f80d7c0f844\",\"type\":\"Grid\"}],\"title\":{\"id\":\"39ba670c-af82-4ff1-8bf2-a8bd59cbcf99\",\"type\":\"Title\"},\"tool_events\":{\"id\":\"22837188-a2bc-4174-a967-f9b289f75304\",\"type\":\"ToolEvents\"},\"toolbar\":{\"id\":\"7a1cf884-f344-4442-ba6a-eabc8f803d0b\",\"type\":\"Toolbar\"},\"x_mapper_type\":\"auto\",\"x_range\":{\"id\":\"c58d1684-d8de-46c2-8bc9-a0c8f049a9fb\",\"type\":\"Range1d\"},\"y_mapper_type\":\"auto\",\"y_range\":{\"id\":\"2ccf7bb7-a0f8-4b5d-9d1a-f0aff21981c2\",\"type\":\"Range1d\"}},\"id\":\"1a30f529-e7ce-4788-b7a3-57085bbf9c2b\",\"subtype\":\"Chart\",\"type\":\"Plot\"},{\"attributes\":{\"callback\":null,\"column_names\":[\"x_values\",\"y_values\"],\"data\":{\"chart_index\":[null,null,null,null,null,null,null,null,null,null,null,null,null,null,null,null,null,null,null,null,null,null,null,null,null,null,null,null,null,null,null,null,null,null,null,null,null,null,null,null,null,null,null,null,null,null,null,null,null,null,null,null,null,null,null,null,null,null,null,null,null,null,null,null,null,null,null,null,null,null,null,null,null,null,null,null,null,null,null,null,null,null,null,null,null,null,null,null,null,null,null,null,null,null,null,null,null,null,null,null,null,null,null,null,null,null,null,null,null,null,null,null,null,null,null,null,null,null,null,null,null,null,null,null,null,null,null,null,null,null,null,null,null,null,null,null,null,null,null,null,null,null,null,null,null,null,null,null,null,null],\"x_values\":[1.4,1.4,1.3,1.5,1.4,1.7,1.4,1.5,1.4,1.5,1.5,1.6,1.4,1.1,1.2,1.5,1.3,1.4,1.7,1.5,1.7,1.5,1.0,1.7,1.9,1.6,1.6,1.5,1.4,1.6,1.6,1.5,1.5,1.4,1.5,1.2,1.3,1.4,1.3,1.5,1.3,1.3,1.3,1.6,1.9,1.4,1.6,1.4,1.5,1.4,4.7,4.5,4.9,4.0,4.6,4.5,4.7,3.3,4.6,3.9,3.5,4.2,4.0,4.7,3.6,4.4,4.5,4.1,4.5,3.9,4.8,4.0,4.9,4.7,4.3,4.4,4.8,5.0,4.5,3.5,3.8,3.7,3.9,5.1,4.5,4.5,4.7,4.4,4.1,4.0,4.4,4.6,4.0,3.3,4.2,4.2,4.2,4.3,3.0,4.1,6.0,5.1,5.9,5.6,5.8,6.6,4.5,6.3,5.8,6.1,5.1,5.3,5.5,5.0,5.1,5.3,5.5,6.7,6.9,5.0,5.7,4.9,6.7,4.9,5.7,6.0,4.8,4.9,5.6,5.8,6.1,6.4,5.6,5.1,5.6,6.1,5.6,5.5,4.8,5.4,5.6,5.1,5.1,5.9,5.7,5.2,5.0,5.2,5.4,5.1],\"y_values\":[0.2,0.2,0.2,0.2,0.2,0.4,0.3,0.2,0.2,0.1,0.2,0.2,0.1,0.1,0.2,0.4,0.4,0.3,0.3,0.3,0.2,0.4,0.2,0.5,0.2,0.2,0.4,0.2,0.2,0.2,0.2,0.4,0.1,0.2,0.2,0.2,0.2,0.1,0.2,0.2,0.3,0.3,0.2,0.6,0.4,0.3,0.2,0.2,0.2,0.2,1.4,1.5,1.5,1.3,1.5,1.3,1.6,1.0,1.3,1.4,1.0,1.5,1.0,1.4,1.3,1.4,1.5,1.0,1.5,1.1,1.8,1.3,1.5,1.2,1.3,1.4,1.4,1.7,1.5,1.0,1.1,1.0,1.2,1.6,1.5,1.6,1.5,1.3,1.3,1.3,1.2,1.4,1.2,1.0,1.3,1.2,1.3,1.3,1.1,1.3,2.5,1.9,2.1,1.8,2.2,2.1,1.7,1.8,1.8,2.5,2.0,1.9,2.1,2.0,2.4,2.3,1.8,2.2,2.3,1.5,2.3,2.0,2.0,1.8,2.1,1.8,1.8,1.8,2.1,1.6,1.9,2.0,2.2,1.5,1.4,2.3,2.4,1.8,1.8,2.1,2.4,2.3,1.9,2.3,2.5,2.3,1.9,2.0,2.3,1.8]}},\"id\":\"46e3d2bb-64d8-4377-8701-a81f40eaf7c1\",\"type\":\"ColumnDataSource\"},{\"attributes\":{},\"id\":\"2cb35494-5f47-4007-913d-ae9568482c77\",\"type\":\"BasicTickFormatter\"},{\"attributes\":{},\"id\":\"9acf715e-1988-4294-86ad-663e651616ca\",\"type\":\"BasicTicker\"},{\"attributes\":{\"axis_label\":\"petal_length\",\"formatter\":{\"id\":\"2cb35494-5f47-4007-913d-ae9568482c77\",\"type\":\"BasicTickFormatter\"},\"plot\":{\"id\":\"1a30f529-e7ce-4788-b7a3-57085bbf9c2b\",\"subtype\":\"Chart\",\"type\":\"Plot\"},\"ticker\":{\"id\":\"f617bb1b-3e53-49c4-a61c-ba5c7b0dfe1b\",\"type\":\"BasicTicker\"}},\"id\":\"32b471c2-6be4-4837-8c57-0ce0dd475431\",\"type\":\"LinearAxis\"},{\"attributes\":{\"plot\":{\"id\":\"1a30f529-e7ce-4788-b7a3-57085bbf9c2b\",\"subtype\":\"Chart\",\"type\":\"Plot\"},\"ticker\":{\"id\":\"f617bb1b-3e53-49c4-a61c-ba5c7b0dfe1b\",\"type\":\"BasicTicker\"}},\"id\":\"a9a45166-8438-49ef-94dd-46f7b863521c\",\"type\":\"Grid\"},{\"attributes\":{\"plot\":{\"id\":\"1a30f529-e7ce-4788-b7a3-57085bbf9c2b\",\"subtype\":\"Chart\",\"type\":\"Plot\"}},\"id\":\"ae601259-ea5f-4d57-b9a5-62e2fd251064\",\"type\":\"SaveTool\"},{\"attributes\":{\"location\":\"top_left\",\"plot\":{\"id\":\"1a30f529-e7ce-4788-b7a3-57085bbf9c2b\",\"subtype\":\"Chart\",\"type\":\"Plot\"}},\"id\":\"20b4614f-96a8-435d-8a64-b932868779c3\",\"type\":\"Legend\"},{\"attributes\":{},\"id\":\"22837188-a2bc-4174-a967-f9b289f75304\",\"type\":\"ToolEvents\"},{\"attributes\":{\"plot\":{\"id\":\"1a30f529-e7ce-4788-b7a3-57085bbf9c2b\",\"subtype\":\"Chart\",\"type\":\"Plot\"}},\"id\":\"b76a5b4d-dbe0-431d-a2c5-019ac0f2c17c\",\"type\":\"HelpTool\"},{\"attributes\":{\"plot\":null,\"text\":null},\"id\":\"39ba670c-af82-4ff1-8bf2-a8bd59cbcf99\",\"type\":\"Title\"},{\"attributes\":{\"overlay\":{\"id\":\"8d0b3188-a1b8-4489-a990-7252f8437ef8\",\"type\":\"BoxAnnotation\"},\"plot\":{\"id\":\"1a30f529-e7ce-4788-b7a3-57085bbf9c2b\",\"subtype\":\"Chart\",\"type\":\"Plot\"}},\"id\":\"0197368c-c3e7-48de-87ca-02c056aabd3c\",\"type\":\"BoxZoomTool\"},{\"attributes\":{\"dimension\":1,\"plot\":{\"id\":\"1a30f529-e7ce-4788-b7a3-57085bbf9c2b\",\"subtype\":\"Chart\",\"type\":\"Plot\"},\"ticker\":{\"id\":\"9acf715e-1988-4294-86ad-663e651616ca\",\"type\":\"BasicTicker\"}},\"id\":\"1492c925-cfa3-4abe-8682-4f80d7c0f844\",\"type\":\"Grid\"},{\"attributes\":{\"fill_alpha\":{\"value\":0.7},\"fill_color\":{\"value\":\"#f22c40\"},\"line_color\":{\"value\":\"#f22c40\"},\"size\":{\"units\":\"screen\",\"value\":8},\"x\":{\"field\":\"x_values\"},\"y\":{\"field\":\"y_values\"}},\"id\":\"1b0893fb-13d6-4be7-8cf8-00db07b9925f\",\"type\":\"Circle\"},{\"attributes\":{\"callback\":null,\"end\":7.49,\"start\":0.4099999999999999},\"id\":\"c58d1684-d8de-46c2-8bc9-a0c8f049a9fb\",\"type\":\"Range1d\"},{\"attributes\":{},\"id\":\"f617bb1b-3e53-49c4-a61c-ba5c7b0dfe1b\",\"type\":\"BasicTicker\"},{\"attributes\":{\"bottom_units\":\"screen\",\"fill_alpha\":{\"value\":0.5},\"fill_color\":{\"value\":\"lightgrey\"},\"left_units\":\"screen\",\"level\":\"overlay\",\"line_alpha\":{\"value\":1.0},\"line_color\":{\"value\":\"black\"},\"line_dash\":[4,4],\"line_width\":{\"value\":2},\"plot\":null,\"render_mode\":\"css\",\"right_units\":\"screen\",\"top_units\":\"screen\"},\"id\":\"8d0b3188-a1b8-4489-a990-7252f8437ef8\",\"type\":\"BoxAnnotation\"},{\"attributes\":{\"plot\":{\"id\":\"1a30f529-e7ce-4788-b7a3-57085bbf9c2b\",\"subtype\":\"Chart\",\"type\":\"Plot\"}},\"id\":\"5d68ed19-4cf3-4edf-8977-e39f86cc5dcc\",\"type\":\"PanTool\"},{\"attributes\":{\"plot\":{\"id\":\"1a30f529-e7ce-4788-b7a3-57085bbf9c2b\",\"subtype\":\"Chart\",\"type\":\"Plot\"}},\"id\":\"65bf395a-7d25-4200-a379-97e0a6cd2d48\",\"type\":\"WheelZoomTool\"},{\"attributes\":{\"active_drag\":\"auto\",\"active_scroll\":\"auto\",\"active_tap\":\"auto\",\"tools\":[{\"id\":\"5d68ed19-4cf3-4edf-8977-e39f86cc5dcc\",\"type\":\"PanTool\"},{\"id\":\"65bf395a-7d25-4200-a379-97e0a6cd2d48\",\"type\":\"WheelZoomTool\"},{\"id\":\"0197368c-c3e7-48de-87ca-02c056aabd3c\",\"type\":\"BoxZoomTool\"},{\"id\":\"ae601259-ea5f-4d57-b9a5-62e2fd251064\",\"type\":\"SaveTool\"},{\"id\":\"aa7e11a2-bd05-414b-aae6-c04f2daca737\",\"type\":\"ResetTool\"},{\"id\":\"b76a5b4d-dbe0-431d-a2c5-019ac0f2c17c\",\"type\":\"HelpTool\"}]},\"id\":\"7a1cf884-f344-4442-ba6a-eabc8f803d0b\",\"type\":\"Toolbar\"},{\"attributes\":{},\"id\":\"efe24505-9679-4772-b5e7-5de95ebee140\",\"type\":\"BasicTickFormatter\"},{\"attributes\":{\"axis_label\":\"petal_width\",\"formatter\":{\"id\":\"efe24505-9679-4772-b5e7-5de95ebee140\",\"type\":\"BasicTickFormatter\"},\"plot\":{\"id\":\"1a30f529-e7ce-4788-b7a3-57085bbf9c2b\",\"subtype\":\"Chart\",\"type\":\"Plot\"},\"ticker\":{\"id\":\"9acf715e-1988-4294-86ad-663e651616ca\",\"type\":\"BasicTicker\"}},\"id\":\"e7ab46e5-5f05-4130-9597-5438d128c081\",\"type\":\"LinearAxis\"}],\"root_ids\":[\"1a30f529-e7ce-4788-b7a3-57085bbf9c2b\"]},\"title\":\"Bokeh Application\",\"version\":\"0.12.1\"}};\n",
       "            var render_items = [{\"docid\":\"cd245528-4b71-4147-b860-42a6b5f5401c\",\"elementid\":\"c4732db9-9e64-4b85-9350-d87b610806a7\",\"modelid\":\"1a30f529-e7ce-4788-b7a3-57085bbf9c2b\",\"notebook_comms_target\":\"31ae0db3-7e09-4c27-9763-0c60abf4f030\"}];\n",
       "            \n",
       "            Bokeh.embed.embed_items(docs_json, render_items);\n",
       "        });\n",
       "      },\n",
       "      function(Bokeh) {\n",
       "      }\n",
       "    ];\n",
       "  \n",
       "    function run_inline_js() {\n",
       "      for (var i = 0; i < inline_js.length; i++) {\n",
       "        inline_js[i](window.Bokeh);\n",
       "      }\n",
       "    }\n",
       "  \n",
       "    if (window._bokeh_is_loading === 0) {\n",
       "      console.log(\"Bokeh: BokehJS loaded, going straight to plotting\");\n",
       "      run_inline_js();\n",
       "    } else {\n",
       "      load_libs(js_urls, function() {\n",
       "        console.log(\"Bokeh: BokehJS plotting callback run at\", now());\n",
       "        run_inline_js();\n",
       "      });\n",
       "    }\n",
       "  }(this));\n",
       "</script>"
      ]
     },
     "metadata": {},
     "output_type": "display_data"
    },
    {
     "data": {
      "text/html": [
       "<p><code>&lt;Bokeh Notebook handle for <strong>In[17]</strong>&gt;</code></p>"
      ],
      "text/plain": [
       "<bokeh.io._CommsHandle at 0x11365af90>"
      ]
     },
     "execution_count": 17,
     "metadata": {},
     "output_type": "execute_result"
    }
   ],
   "source": [
    "p = Scatter(flowers, x='petal_length', y='petal_width')\n",
    "show (p)"
   ]
  },
  {
   "cell_type": "markdown",
   "metadata": {},
   "source": [
    "By passing a column name for the `color` parameter, you can make `Scatter` automatically color the markers according to the groups in that column. Let's also add a legend by specify its location as the value of a `legend` paramter (in this case `\"top_left\"`)"
   ]
  },
  {
   "cell_type": "code",
   "execution_count": 5,
   "metadata": {
    "collapsed": false
   },
   "outputs": [
    {
     "data": {
      "text/html": [
       "\n",
       "\n",
       "    <div class=\"bk-root\">\n",
       "        <div class=\"plotdiv\" id=\"14f9288e-1c5a-4a3b-83ba-8443db54ebcd\"></div>\n",
       "    </div>\n",
       "<script type=\"text/javascript\">\n",
       "  \n",
       "  (function(global) {\n",
       "    function now() {\n",
       "      return new Date();\n",
       "    }\n",
       "  \n",
       "    var force = \"\";\n",
       "  \n",
       "    if (typeof (window._bokeh_onload_callbacks) === \"undefined\" || force !== \"\") {\n",
       "      window._bokeh_onload_callbacks = [];\n",
       "      window._bokeh_is_loading = undefined;\n",
       "    }\n",
       "  \n",
       "    function run_callbacks() {\n",
       "      window._bokeh_onload_callbacks.forEach(function(callback) { callback() });\n",
       "      delete window._bokeh_onload_callbacks\n",
       "      console.info(\"Bokeh: all callbacks have finished\");\n",
       "    }\n",
       "  \n",
       "    function load_libs(js_urls, callback) {\n",
       "      window._bokeh_onload_callbacks.push(callback);\n",
       "      if (window._bokeh_is_loading > 0) {\n",
       "        console.log(\"Bokeh: BokehJS is being loaded, scheduling callback at\", now());\n",
       "        return null;\n",
       "      }\n",
       "      if (js_urls == null || js_urls.length === 0) {\n",
       "        run_callbacks();\n",
       "        return null;\n",
       "      }\n",
       "      console.log(\"Bokeh: BokehJS not loaded, scheduling load and callback at\", now());\n",
       "      window._bokeh_is_loading = js_urls.length;\n",
       "      for (var i = 0; i < js_urls.length; i++) {\n",
       "        var url = js_urls[i];\n",
       "        var s = document.createElement('script');\n",
       "        s.src = url;\n",
       "        s.async = false;\n",
       "        s.onreadystatechange = s.onload = function() {\n",
       "          window._bokeh_is_loading--;\n",
       "          if (window._bokeh_is_loading === 0) {\n",
       "            console.log(\"Bokeh: all BokehJS libraries loaded\");\n",
       "            run_callbacks()\n",
       "          }\n",
       "        };\n",
       "        s.onerror = function() {\n",
       "          console.warn(\"failed to load library \" + url);\n",
       "        };\n",
       "        console.log(\"Bokeh: injecting script tag for BokehJS library: \", url);\n",
       "        document.getElementsByTagName(\"head\")[0].appendChild(s);\n",
       "      }\n",
       "    };var element = document.getElementById(\"14f9288e-1c5a-4a3b-83ba-8443db54ebcd\");\n",
       "    if (element == null) {\n",
       "      console.log(\"Bokeh: ERROR: autoload.js configured with elementid '14f9288e-1c5a-4a3b-83ba-8443db54ebcd' but no matching script tag was found. \")\n",
       "      return false;\n",
       "    }\n",
       "  \n",
       "    var js_urls = [];\n",
       "  \n",
       "    var inline_js = [\n",
       "      function(Bokeh) {\n",
       "        Bokeh.$(function() {\n",
       "            var docs_json = {\"598f4517-e7f0-4526-aa5b-ba4e1074bd88\":{\"roots\":{\"references\":[{\"attributes\":{},\"id\":\"ff894433-b5a0-4524-b2fc-9454f12a7888\",\"type\":\"BasicTicker\"},{\"attributes\":{\"fill_alpha\":{\"value\":0.7},\"fill_color\":{\"value\":\"#5ab738\"},\"line_color\":{\"value\":\"#5ab738\"},\"size\":{\"units\":\"screen\",\"value\":8},\"x\":{\"field\":\"x_values\"},\"y\":{\"field\":\"y_values\"}},\"id\":\"fda4e79f-50f0-4f86-abb0-a7ff47f97bad\",\"type\":\"Circle\"},{\"attributes\":{\"legends\":[[\"setosa\",[{\"id\":\"03c5a2af-c89e-47ef-806e-514d45a2b6a8\",\"type\":\"GlyphRenderer\"}]],[\"versicolor\",[{\"id\":\"1eb8a8d1-9f95-445c-8220-fd7bca887cf6\",\"type\":\"GlyphRenderer\"}]],[\"virginica\",[{\"id\":\"9b4a949b-feae-4a58-b06e-dc6f1fabab3f\",\"type\":\"GlyphRenderer\"}]]],\"location\":\"top_left\",\"plot\":{\"id\":\"051a62e9-204a-4670-b4b8-a3de79994eb2\",\"subtype\":\"Chart\",\"type\":\"Plot\"}},\"id\":\"73055d48-8512-416f-994d-7b12a89d5d4c\",\"type\":\"Legend\"},{\"attributes\":{\"axis_label\":\"petal_width\",\"formatter\":{\"id\":\"e322b212-e19e-4f38-b4ca-75c50e1847c7\",\"type\":\"BasicTickFormatter\"},\"plot\":{\"id\":\"051a62e9-204a-4670-b4b8-a3de79994eb2\",\"subtype\":\"Chart\",\"type\":\"Plot\"},\"ticker\":{\"id\":\"e214d2f2-1239-4386-90e7-71936eb9b706\",\"type\":\"BasicTicker\"}},\"id\":\"80cdd0db-dc4a-4205-9772-fb0b2a478fc7\",\"type\":\"LinearAxis\"},{\"attributes\":{\"dimension\":1,\"plot\":{\"id\":\"051a62e9-204a-4670-b4b8-a3de79994eb2\",\"subtype\":\"Chart\",\"type\":\"Plot\"},\"ticker\":{\"id\":\"e214d2f2-1239-4386-90e7-71936eb9b706\",\"type\":\"BasicTicker\"}},\"id\":\"d2f070a2-5c41-43c5-a45f-0cb25f3a5344\",\"type\":\"Grid\"},{\"attributes\":{\"callback\":null,\"end\":2.74,\"start\":-0.13999999999999999},\"id\":\"fdefca41-e3cc-4959-b617-2b276ca06ee2\",\"type\":\"Range1d\"},{\"attributes\":{\"plot\":null,\"text\":null},\"id\":\"0568fac3-34e7-472e-b277-ef2941429b0b\",\"type\":\"Title\"},{\"attributes\":{\"plot\":{\"id\":\"051a62e9-204a-4670-b4b8-a3de79994eb2\",\"subtype\":\"Chart\",\"type\":\"Plot\"}},\"id\":\"3db8df91-5e63-45c2-966e-8bdbee639f5f\",\"type\":\"SaveTool\"},{\"attributes\":{\"data_source\":{\"id\":\"6c4e4968-ab89-491e-98e7-20a61ae2f9f9\",\"type\":\"ColumnDataSource\"},\"glyph\":{\"id\":\"fec6ad86-606e-4d22-9e06-02997e90d821\",\"type\":\"Circle\"},\"hover_glyph\":null,\"nonselection_glyph\":null,\"selection_glyph\":null},\"id\":\"9b4a949b-feae-4a58-b06e-dc6f1fabab3f\",\"type\":\"GlyphRenderer\"},{\"attributes\":{\"plot\":{\"id\":\"051a62e9-204a-4670-b4b8-a3de79994eb2\",\"subtype\":\"Chart\",\"type\":\"Plot\"}},\"id\":\"9294cdba-2e6d-4377-a78e-415c9bf39f8a\",\"type\":\"WheelZoomTool\"},{\"attributes\":{\"callback\":null,\"column_names\":[\"x_values\",\"y_values\"],\"data\":{\"chart_index\":[{\"species\":\"virginica\"},{\"species\":\"virginica\"},{\"species\":\"virginica\"},{\"species\":\"virginica\"},{\"species\":\"virginica\"},{\"species\":\"virginica\"},{\"species\":\"virginica\"},{\"species\":\"virginica\"},{\"species\":\"virginica\"},{\"species\":\"virginica\"},{\"species\":\"virginica\"},{\"species\":\"virginica\"},{\"species\":\"virginica\"},{\"species\":\"virginica\"},{\"species\":\"virginica\"},{\"species\":\"virginica\"},{\"species\":\"virginica\"},{\"species\":\"virginica\"},{\"species\":\"virginica\"},{\"species\":\"virginica\"},{\"species\":\"virginica\"},{\"species\":\"virginica\"},{\"species\":\"virginica\"},{\"species\":\"virginica\"},{\"species\":\"virginica\"},{\"species\":\"virginica\"},{\"species\":\"virginica\"},{\"species\":\"virginica\"},{\"species\":\"virginica\"},{\"species\":\"virginica\"},{\"species\":\"virginica\"},{\"species\":\"virginica\"},{\"species\":\"virginica\"},{\"species\":\"virginica\"},{\"species\":\"virginica\"},{\"species\":\"virginica\"},{\"species\":\"virginica\"},{\"species\":\"virginica\"},{\"species\":\"virginica\"},{\"species\":\"virginica\"},{\"species\":\"virginica\"},{\"species\":\"virginica\"},{\"species\":\"virginica\"},{\"species\":\"virginica\"},{\"species\":\"virginica\"},{\"species\":\"virginica\"},{\"species\":\"virginica\"},{\"species\":\"virginica\"},{\"species\":\"virginica\"},{\"species\":\"virginica\"}],\"species\":[\"virginica\",\"virginica\",\"virginica\",\"virginica\",\"virginica\",\"virginica\",\"virginica\",\"virginica\",\"virginica\",\"virginica\",\"virginica\",\"virginica\",\"virginica\",\"virginica\",\"virginica\",\"virginica\",\"virginica\",\"virginica\",\"virginica\",\"virginica\",\"virginica\",\"virginica\",\"virginica\",\"virginica\",\"virginica\",\"virginica\",\"virginica\",\"virginica\",\"virginica\",\"virginica\",\"virginica\",\"virginica\",\"virginica\",\"virginica\",\"virginica\",\"virginica\",\"virginica\",\"virginica\",\"virginica\",\"virginica\",\"virginica\",\"virginica\",\"virginica\",\"virginica\",\"virginica\",\"virginica\",\"virginica\",\"virginica\",\"virginica\",\"virginica\"],\"x_values\":[6.0,5.1,5.9,5.6,5.8,6.6,4.5,6.3,5.8,6.1,5.1,5.3,5.5,5.0,5.1,5.3,5.5,6.7,6.9,5.0,5.7,4.9,6.7,4.9,5.7,6.0,4.8,4.9,5.6,5.8,6.1,6.4,5.6,5.1,5.6,6.1,5.6,5.5,4.8,5.4,5.6,5.1,5.1,5.9,5.7,5.2,5.0,5.2,5.4,5.1],\"y_values\":[2.5,1.9,2.1,1.8,2.2,2.1,1.7,1.8,1.8,2.5,2.0,1.9,2.1,2.0,2.4,2.3,1.8,2.2,2.3,1.5,2.3,2.0,2.0,1.8,2.1,1.8,1.8,1.8,2.1,1.6,1.9,2.0,2.2,1.5,1.4,2.3,2.4,1.8,1.8,2.1,2.4,2.3,1.9,2.3,2.5,2.3,1.9,2.0,2.3,1.8]}},\"id\":\"6c4e4968-ab89-491e-98e7-20a61ae2f9f9\",\"type\":\"ColumnDataSource\"},{\"attributes\":{\"callback\":null,\"column_names\":[\"x_values\",\"y_values\"],\"data\":{\"chart_index\":[{\"species\":\"versicolor\"},{\"species\":\"versicolor\"},{\"species\":\"versicolor\"},{\"species\":\"versicolor\"},{\"species\":\"versicolor\"},{\"species\":\"versicolor\"},{\"species\":\"versicolor\"},{\"species\":\"versicolor\"},{\"species\":\"versicolor\"},{\"species\":\"versicolor\"},{\"species\":\"versicolor\"},{\"species\":\"versicolor\"},{\"species\":\"versicolor\"},{\"species\":\"versicolor\"},{\"species\":\"versicolor\"},{\"species\":\"versicolor\"},{\"species\":\"versicolor\"},{\"species\":\"versicolor\"},{\"species\":\"versicolor\"},{\"species\":\"versicolor\"},{\"species\":\"versicolor\"},{\"species\":\"versicolor\"},{\"species\":\"versicolor\"},{\"species\":\"versicolor\"},{\"species\":\"versicolor\"},{\"species\":\"versicolor\"},{\"species\":\"versicolor\"},{\"species\":\"versicolor\"},{\"species\":\"versicolor\"},{\"species\":\"versicolor\"},{\"species\":\"versicolor\"},{\"species\":\"versicolor\"},{\"species\":\"versicolor\"},{\"species\":\"versicolor\"},{\"species\":\"versicolor\"},{\"species\":\"versicolor\"},{\"species\":\"versicolor\"},{\"species\":\"versicolor\"},{\"species\":\"versicolor\"},{\"species\":\"versicolor\"},{\"species\":\"versicolor\"},{\"species\":\"versicolor\"},{\"species\":\"versicolor\"},{\"species\":\"versicolor\"},{\"species\":\"versicolor\"},{\"species\":\"versicolor\"},{\"species\":\"versicolor\"},{\"species\":\"versicolor\"},{\"species\":\"versicolor\"},{\"species\":\"versicolor\"}],\"species\":[\"versicolor\",\"versicolor\",\"versicolor\",\"versicolor\",\"versicolor\",\"versicolor\",\"versicolor\",\"versicolor\",\"versicolor\",\"versicolor\",\"versicolor\",\"versicolor\",\"versicolor\",\"versicolor\",\"versicolor\",\"versicolor\",\"versicolor\",\"versicolor\",\"versicolor\",\"versicolor\",\"versicolor\",\"versicolor\",\"versicolor\",\"versicolor\",\"versicolor\",\"versicolor\",\"versicolor\",\"versicolor\",\"versicolor\",\"versicolor\",\"versicolor\",\"versicolor\",\"versicolor\",\"versicolor\",\"versicolor\",\"versicolor\",\"versicolor\",\"versicolor\",\"versicolor\",\"versicolor\",\"versicolor\",\"versicolor\",\"versicolor\",\"versicolor\",\"versicolor\",\"versicolor\",\"versicolor\",\"versicolor\",\"versicolor\",\"versicolor\"],\"x_values\":[4.7,4.5,4.9,4.0,4.6,4.5,4.7,3.3,4.6,3.9,3.5,4.2,4.0,4.7,3.6,4.4,4.5,4.1,4.5,3.9,4.8,4.0,4.9,4.7,4.3,4.4,4.8,5.0,4.5,3.5,3.8,3.7,3.9,5.1,4.5,4.5,4.7,4.4,4.1,4.0,4.4,4.6,4.0,3.3,4.2,4.2,4.2,4.3,3.0,4.1],\"y_values\":[1.4,1.5,1.5,1.3,1.5,1.3,1.6,1.0,1.3,1.4,1.0,1.5,1.0,1.4,1.3,1.4,1.5,1.0,1.5,1.1,1.8,1.3,1.5,1.2,1.3,1.4,1.4,1.7,1.5,1.0,1.1,1.0,1.2,1.6,1.5,1.6,1.5,1.3,1.3,1.3,1.2,1.4,1.2,1.0,1.3,1.2,1.3,1.3,1.1,1.3]}},\"id\":\"54fded62-c75b-4436-80a8-6ae3350ad60f\",\"type\":\"ColumnDataSource\"},{\"attributes\":{\"data_source\":{\"id\":\"4d18bcb0-b13c-415d-b3fc-ca42a3189d69\",\"type\":\"ColumnDataSource\"},\"glyph\":{\"id\":\"0058b2de-1a37-42ce-97bf-0d9e60cc581f\",\"type\":\"Circle\"},\"hover_glyph\":null,\"nonselection_glyph\":null,\"selection_glyph\":null},\"id\":\"03c5a2af-c89e-47ef-806e-514d45a2b6a8\",\"type\":\"GlyphRenderer\"},{\"attributes\":{\"active_drag\":\"auto\",\"active_scroll\":\"auto\",\"active_tap\":\"auto\",\"tools\":[{\"id\":\"c207cfd3-7205-4d41-98cc-019c7807abd3\",\"type\":\"PanTool\"},{\"id\":\"9294cdba-2e6d-4377-a78e-415c9bf39f8a\",\"type\":\"WheelZoomTool\"},{\"id\":\"0ce3beed-8262-4c88-a5be-6acdf8cfa1f6\",\"type\":\"BoxZoomTool\"},{\"id\":\"3db8df91-5e63-45c2-966e-8bdbee639f5f\",\"type\":\"SaveTool\"},{\"id\":\"22b51ac3-ae50-426c-9401-3fb14e7d0a8f\",\"type\":\"ResetTool\"},{\"id\":\"be2a82ae-466d-4337-bc19-65169e6f12ea\",\"type\":\"HelpTool\"}]},\"id\":\"5448e393-7eb9-437b-9bb4-6fed72276183\",\"type\":\"Toolbar\"},{\"attributes\":{\"axis_label\":\"petal_length\",\"formatter\":{\"id\":\"fe1e6284-1fb1-4f66-b1f5-f370d42340fd\",\"type\":\"BasicTickFormatter\"},\"plot\":{\"id\":\"051a62e9-204a-4670-b4b8-a3de79994eb2\",\"subtype\":\"Chart\",\"type\":\"Plot\"},\"ticker\":{\"id\":\"ff894433-b5a0-4524-b2fc-9454f12a7888\",\"type\":\"BasicTicker\"}},\"id\":\"888f5510-6d90-4485-b78e-74c1293fd75c\",\"type\":\"LinearAxis\"},{\"attributes\":{},\"id\":\"fe1e6284-1fb1-4f66-b1f5-f370d42340fd\",\"type\":\"BasicTickFormatter\"},{\"attributes\":{\"callback\":null,\"column_names\":[\"x_values\",\"y_values\"],\"data\":{\"chart_index\":[{\"species\":\"setosa\"},{\"species\":\"setosa\"},{\"species\":\"setosa\"},{\"species\":\"setosa\"},{\"species\":\"setosa\"},{\"species\":\"setosa\"},{\"species\":\"setosa\"},{\"species\":\"setosa\"},{\"species\":\"setosa\"},{\"species\":\"setosa\"},{\"species\":\"setosa\"},{\"species\":\"setosa\"},{\"species\":\"setosa\"},{\"species\":\"setosa\"},{\"species\":\"setosa\"},{\"species\":\"setosa\"},{\"species\":\"setosa\"},{\"species\":\"setosa\"},{\"species\":\"setosa\"},{\"species\":\"setosa\"},{\"species\":\"setosa\"},{\"species\":\"setosa\"},{\"species\":\"setosa\"},{\"species\":\"setosa\"},{\"species\":\"setosa\"},{\"species\":\"setosa\"},{\"species\":\"setosa\"},{\"species\":\"setosa\"},{\"species\":\"setosa\"},{\"species\":\"setosa\"},{\"species\":\"setosa\"},{\"species\":\"setosa\"},{\"species\":\"setosa\"},{\"species\":\"setosa\"},{\"species\":\"setosa\"},{\"species\":\"setosa\"},{\"species\":\"setosa\"},{\"species\":\"setosa\"},{\"species\":\"setosa\"},{\"species\":\"setosa\"},{\"species\":\"setosa\"},{\"species\":\"setosa\"},{\"species\":\"setosa\"},{\"species\":\"setosa\"},{\"species\":\"setosa\"},{\"species\":\"setosa\"},{\"species\":\"setosa\"},{\"species\":\"setosa\"},{\"species\":\"setosa\"},{\"species\":\"setosa\"}],\"species\":[\"setosa\",\"setosa\",\"setosa\",\"setosa\",\"setosa\",\"setosa\",\"setosa\",\"setosa\",\"setosa\",\"setosa\",\"setosa\",\"setosa\",\"setosa\",\"setosa\",\"setosa\",\"setosa\",\"setosa\",\"setosa\",\"setosa\",\"setosa\",\"setosa\",\"setosa\",\"setosa\",\"setosa\",\"setosa\",\"setosa\",\"setosa\",\"setosa\",\"setosa\",\"setosa\",\"setosa\",\"setosa\",\"setosa\",\"setosa\",\"setosa\",\"setosa\",\"setosa\",\"setosa\",\"setosa\",\"setosa\",\"setosa\",\"setosa\",\"setosa\",\"setosa\",\"setosa\",\"setosa\",\"setosa\",\"setosa\",\"setosa\",\"setosa\"],\"x_values\":[1.4,1.4,1.3,1.5,1.4,1.7,1.4,1.5,1.4,1.5,1.5,1.6,1.4,1.1,1.2,1.5,1.3,1.4,1.7,1.5,1.7,1.5,1.0,1.7,1.9,1.6,1.6,1.5,1.4,1.6,1.6,1.5,1.5,1.4,1.5,1.2,1.3,1.4,1.3,1.5,1.3,1.3,1.3,1.6,1.9,1.4,1.6,1.4,1.5,1.4],\"y_values\":[0.2,0.2,0.2,0.2,0.2,0.4,0.3,0.2,0.2,0.1,0.2,0.2,0.1,0.1,0.2,0.4,0.4,0.3,0.3,0.3,0.2,0.4,0.2,0.5,0.2,0.2,0.4,0.2,0.2,0.2,0.2,0.4,0.1,0.2,0.2,0.2,0.2,0.1,0.2,0.2,0.3,0.3,0.2,0.6,0.4,0.3,0.2,0.2,0.2,0.2]}},\"id\":\"4d18bcb0-b13c-415d-b3fc-ca42a3189d69\",\"type\":\"ColumnDataSource\"},{\"attributes\":{\"below\":[{\"id\":\"888f5510-6d90-4485-b78e-74c1293fd75c\",\"type\":\"LinearAxis\"}],\"left\":[{\"id\":\"80cdd0db-dc4a-4205-9772-fb0b2a478fc7\",\"type\":\"LinearAxis\"}],\"renderers\":[{\"id\":\"85a6383f-b204-4d15-aaab-3fa45dfee39c\",\"type\":\"BoxAnnotation\"},{\"id\":\"03c5a2af-c89e-47ef-806e-514d45a2b6a8\",\"type\":\"GlyphRenderer\"},{\"id\":\"1eb8a8d1-9f95-445c-8220-fd7bca887cf6\",\"type\":\"GlyphRenderer\"},{\"id\":\"9b4a949b-feae-4a58-b06e-dc6f1fabab3f\",\"type\":\"GlyphRenderer\"},{\"id\":\"73055d48-8512-416f-994d-7b12a89d5d4c\",\"type\":\"Legend\"},{\"id\":\"888f5510-6d90-4485-b78e-74c1293fd75c\",\"type\":\"LinearAxis\"},{\"id\":\"80cdd0db-dc4a-4205-9772-fb0b2a478fc7\",\"type\":\"LinearAxis\"},{\"id\":\"8c5fb5bd-c28b-44f5-82e7-330146115c6f\",\"type\":\"Grid\"},{\"id\":\"d2f070a2-5c41-43c5-a45f-0cb25f3a5344\",\"type\":\"Grid\"}],\"title\":{\"id\":\"0568fac3-34e7-472e-b277-ef2941429b0b\",\"type\":\"Title\"},\"tool_events\":{\"id\":\"01ddca7f-8c5e-4263-a59c-7f5f5b3090fa\",\"type\":\"ToolEvents\"},\"toolbar\":{\"id\":\"5448e393-7eb9-437b-9bb4-6fed72276183\",\"type\":\"Toolbar\"},\"x_mapper_type\":\"auto\",\"x_range\":{\"id\":\"4c35cdd9-116e-415f-b869-1cba90351503\",\"type\":\"Range1d\"},\"y_mapper_type\":\"auto\",\"y_range\":{\"id\":\"fdefca41-e3cc-4959-b617-2b276ca06ee2\",\"type\":\"Range1d\"}},\"id\":\"051a62e9-204a-4670-b4b8-a3de79994eb2\",\"subtype\":\"Chart\",\"type\":\"Plot\"},{\"attributes\":{\"plot\":{\"id\":\"051a62e9-204a-4670-b4b8-a3de79994eb2\",\"subtype\":\"Chart\",\"type\":\"Plot\"}},\"id\":\"22b51ac3-ae50-426c-9401-3fb14e7d0a8f\",\"type\":\"ResetTool\"},{\"attributes\":{},\"id\":\"e214d2f2-1239-4386-90e7-71936eb9b706\",\"type\":\"BasicTicker\"},{\"attributes\":{\"fill_alpha\":{\"value\":0.7},\"fill_color\":{\"value\":\"#407ee7\"},\"line_color\":{\"value\":\"#407ee7\"},\"size\":{\"units\":\"screen\",\"value\":8},\"x\":{\"field\":\"x_values\"},\"y\":{\"field\":\"y_values\"}},\"id\":\"fec6ad86-606e-4d22-9e06-02997e90d821\",\"type\":\"Circle\"},{\"attributes\":{\"data_source\":{\"id\":\"54fded62-c75b-4436-80a8-6ae3350ad60f\",\"type\":\"ColumnDataSource\"},\"glyph\":{\"id\":\"fda4e79f-50f0-4f86-abb0-a7ff47f97bad\",\"type\":\"Circle\"},\"hover_glyph\":null,\"nonselection_glyph\":null,\"selection_glyph\":null},\"id\":\"1eb8a8d1-9f95-445c-8220-fd7bca887cf6\",\"type\":\"GlyphRenderer\"},{\"attributes\":{\"callback\":null,\"end\":7.49,\"start\":0.4099999999999999},\"id\":\"4c35cdd9-116e-415f-b869-1cba90351503\",\"type\":\"Range1d\"},{\"attributes\":{\"fill_alpha\":{\"value\":0.7},\"fill_color\":{\"value\":\"#f22c40\"},\"line_color\":{\"value\":\"#f22c40\"},\"size\":{\"units\":\"screen\",\"value\":8},\"x\":{\"field\":\"x_values\"},\"y\":{\"field\":\"y_values\"}},\"id\":\"0058b2de-1a37-42ce-97bf-0d9e60cc581f\",\"type\":\"Circle\"},{\"attributes\":{\"bottom_units\":\"screen\",\"fill_alpha\":{\"value\":0.5},\"fill_color\":{\"value\":\"lightgrey\"},\"left_units\":\"screen\",\"level\":\"overlay\",\"line_alpha\":{\"value\":1.0},\"line_color\":{\"value\":\"black\"},\"line_dash\":[4,4],\"line_width\":{\"value\":2},\"plot\":null,\"render_mode\":\"css\",\"right_units\":\"screen\",\"top_units\":\"screen\"},\"id\":\"85a6383f-b204-4d15-aaab-3fa45dfee39c\",\"type\":\"BoxAnnotation\"},{\"attributes\":{\"overlay\":{\"id\":\"85a6383f-b204-4d15-aaab-3fa45dfee39c\",\"type\":\"BoxAnnotation\"},\"plot\":{\"id\":\"051a62e9-204a-4670-b4b8-a3de79994eb2\",\"subtype\":\"Chart\",\"type\":\"Plot\"}},\"id\":\"0ce3beed-8262-4c88-a5be-6acdf8cfa1f6\",\"type\":\"BoxZoomTool\"},{\"attributes\":{\"plot\":{\"id\":\"051a62e9-204a-4670-b4b8-a3de79994eb2\",\"subtype\":\"Chart\",\"type\":\"Plot\"},\"ticker\":{\"id\":\"ff894433-b5a0-4524-b2fc-9454f12a7888\",\"type\":\"BasicTicker\"}},\"id\":\"8c5fb5bd-c28b-44f5-82e7-330146115c6f\",\"type\":\"Grid\"},{\"attributes\":{},\"id\":\"e322b212-e19e-4f38-b4ca-75c50e1847c7\",\"type\":\"BasicTickFormatter\"},{\"attributes\":{\"plot\":{\"id\":\"051a62e9-204a-4670-b4b8-a3de79994eb2\",\"subtype\":\"Chart\",\"type\":\"Plot\"}},\"id\":\"c207cfd3-7205-4d41-98cc-019c7807abd3\",\"type\":\"PanTool\"},{\"attributes\":{},\"id\":\"01ddca7f-8c5e-4263-a59c-7f5f5b3090fa\",\"type\":\"ToolEvents\"},{\"attributes\":{\"plot\":{\"id\":\"051a62e9-204a-4670-b4b8-a3de79994eb2\",\"subtype\":\"Chart\",\"type\":\"Plot\"}},\"id\":\"be2a82ae-466d-4337-bc19-65169e6f12ea\",\"type\":\"HelpTool\"}],\"root_ids\":[\"051a62e9-204a-4670-b4b8-a3de79994eb2\"]},\"title\":\"Bokeh Application\",\"version\":\"0.12.1\"}};\n",
       "            var render_items = [{\"docid\":\"598f4517-e7f0-4526-aa5b-ba4e1074bd88\",\"elementid\":\"14f9288e-1c5a-4a3b-83ba-8443db54ebcd\",\"modelid\":\"051a62e9-204a-4670-b4b8-a3de79994eb2\",\"notebook_comms_target\":\"da8c27dd-0350-441b-9e6d-276ed4e91639\"}];\n",
       "            \n",
       "            Bokeh.embed.embed_items(docs_json, render_items);\n",
       "        });\n",
       "      },\n",
       "      function(Bokeh) {\n",
       "      }\n",
       "    ];\n",
       "  \n",
       "    function run_inline_js() {\n",
       "      for (var i = 0; i < inline_js.length; i++) {\n",
       "        inline_js[i](window.Bokeh);\n",
       "      }\n",
       "    }\n",
       "  \n",
       "    if (window._bokeh_is_loading === 0) {\n",
       "      console.log(\"Bokeh: BokehJS loaded, going straight to plotting\");\n",
       "      run_inline_js();\n",
       "    } else {\n",
       "      load_libs(js_urls, function() {\n",
       "        console.log(\"Bokeh: BokehJS plotting callback run at\", now());\n",
       "        run_inline_js();\n",
       "      });\n",
       "    }\n",
       "  }(this));\n",
       "</script>"
      ]
     },
     "metadata": {},
     "output_type": "display_data"
    },
    {
     "data": {
      "text/html": [
       "<p><code>&lt;Bokeh Notebook handle for <strong>In[5]</strong>&gt;</code></p>"
      ],
      "text/plain": [
       "<bokeh.io._CommsHandle at 0x1134d8fd0>"
      ]
     },
     "execution_count": 5,
     "metadata": {},
     "output_type": "execute_result"
    }
   ],
   "source": [
    "p = Scatter(flowers, x='petal_length', y='petal_width', color='species', legend='top_left')\n",
    "show(p)"
   ]
  },
  {
   "cell_type": "markdown",
   "metadata": {},
   "source": [
    "By passing a column name for the `marker` parameter, you can make `Scatter` automatically vary the marker shapes according to the groups in that column. Let's try that as an exercise."
   ]
  },
  {
   "cell_type": "code",
   "execution_count": 21,
   "metadata": {
    "collapsed": false
   },
   "outputs": [
    {
     "data": {
      "text/html": [
       "\n",
       "\n",
       "    <div class=\"bk-root\">\n",
       "        <div class=\"plotdiv\" id=\"c5f2c8ca-8b66-4a9c-b8bd-f566eb535dd2\"></div>\n",
       "    </div>\n",
       "<script type=\"text/javascript\">\n",
       "  \n",
       "  (function(global) {\n",
       "    function now() {\n",
       "      return new Date();\n",
       "    }\n",
       "  \n",
       "    var force = \"\";\n",
       "  \n",
       "    if (typeof (window._bokeh_onload_callbacks) === \"undefined\" || force !== \"\") {\n",
       "      window._bokeh_onload_callbacks = [];\n",
       "      window._bokeh_is_loading = undefined;\n",
       "    }\n",
       "  \n",
       "    function run_callbacks() {\n",
       "      window._bokeh_onload_callbacks.forEach(function(callback) { callback() });\n",
       "      delete window._bokeh_onload_callbacks\n",
       "      console.info(\"Bokeh: all callbacks have finished\");\n",
       "    }\n",
       "  \n",
       "    function load_libs(js_urls, callback) {\n",
       "      window._bokeh_onload_callbacks.push(callback);\n",
       "      if (window._bokeh_is_loading > 0) {\n",
       "        console.log(\"Bokeh: BokehJS is being loaded, scheduling callback at\", now());\n",
       "        return null;\n",
       "      }\n",
       "      if (js_urls == null || js_urls.length === 0) {\n",
       "        run_callbacks();\n",
       "        return null;\n",
       "      }\n",
       "      console.log(\"Bokeh: BokehJS not loaded, scheduling load and callback at\", now());\n",
       "      window._bokeh_is_loading = js_urls.length;\n",
       "      for (var i = 0; i < js_urls.length; i++) {\n",
       "        var url = js_urls[i];\n",
       "        var s = document.createElement('script');\n",
       "        s.src = url;\n",
       "        s.async = false;\n",
       "        s.onreadystatechange = s.onload = function() {\n",
       "          window._bokeh_is_loading--;\n",
       "          if (window._bokeh_is_loading === 0) {\n",
       "            console.log(\"Bokeh: all BokehJS libraries loaded\");\n",
       "            run_callbacks()\n",
       "          }\n",
       "        };\n",
       "        s.onerror = function() {\n",
       "          console.warn(\"failed to load library \" + url);\n",
       "        };\n",
       "        console.log(\"Bokeh: injecting script tag for BokehJS library: \", url);\n",
       "        document.getElementsByTagName(\"head\")[0].appendChild(s);\n",
       "      }\n",
       "    };var element = document.getElementById(\"c5f2c8ca-8b66-4a9c-b8bd-f566eb535dd2\");\n",
       "    if (element == null) {\n",
       "      console.log(\"Bokeh: ERROR: autoload.js configured with elementid 'c5f2c8ca-8b66-4a9c-b8bd-f566eb535dd2' but no matching script tag was found. \")\n",
       "      return false;\n",
       "    }\n",
       "  \n",
       "    var js_urls = [];\n",
       "  \n",
       "    var inline_js = [\n",
       "      function(Bokeh) {\n",
       "        Bokeh.$(function() {\n",
       "            var docs_json = {\"c32df18e-0a18-4fa7-a1cd-10d9169e4ce0\":{\"roots\":{\"references\":[{\"attributes\":{},\"id\":\"01f701d6-6dc1-438a-8d21-3e1d5726e4a1\",\"type\":\"BasicTicker\"},{\"attributes\":{\"data_source\":{\"id\":\"bf5f8896-a8d6-4ed0-9d12-5881ae4fe31b\",\"type\":\"ColumnDataSource\"},\"glyph\":{\"id\":\"891b0d75-def1-4298-8798-f4489ee8fdd2\",\"type\":\"Triangle\"},\"hover_glyph\":null,\"nonselection_glyph\":null,\"selection_glyph\":null},\"id\":\"c21a7544-d97e-48d3-9199-5117b6cdf046\",\"type\":\"GlyphRenderer\"},{\"attributes\":{\"data_source\":{\"id\":\"6e059e8b-c789-4e31-8b45-17c7f2b73fc5\",\"type\":\"ColumnDataSource\"},\"glyph\":{\"id\":\"f2b7065f-fa46-40e2-904e-d7c965ef7d0e\",\"type\":\"Square\"},\"hover_glyph\":null,\"nonselection_glyph\":null,\"selection_glyph\":null},\"id\":\"13237343-5416-4dd0-a422-7e2bf7432f6f\",\"type\":\"GlyphRenderer\"},{\"attributes\":{\"axis_label\":\"petal_length\",\"formatter\":{\"id\":\"8d8f1375-0dc2-4b11-b3d5-542a8ca2cc40\",\"type\":\"BasicTickFormatter\"},\"plot\":{\"id\":\"52447a79-75ef-45f2-8bd7-d47c544905e2\",\"subtype\":\"Chart\",\"type\":\"Plot\"},\"ticker\":{\"id\":\"61837c38-8383-4bca-8bfe-fdaf38cb32c5\",\"type\":\"BasicTicker\"}},\"id\":\"868b8d63-1e5d-4171-b054-dcbc280b5d1a\",\"type\":\"LinearAxis\"},{\"attributes\":{\"data_source\":{\"id\":\"056543b0-58a3-471d-bf75-3bfad31c28c9\",\"type\":\"ColumnDataSource\"},\"glyph\":{\"id\":\"00ac6aeb-6eb9-4d94-bb8c-f5fafd70124d\",\"type\":\"Circle\"},\"hover_glyph\":null,\"nonselection_glyph\":null,\"selection_glyph\":null},\"id\":\"7d8fc0e0-8f9b-42fd-b147-26b9b1592f16\",\"type\":\"GlyphRenderer\"},{\"attributes\":{\"plot\":null,\"text\":null},\"id\":\"0d9b1e3f-63cf-4222-882c-facc6d5876cb\",\"type\":\"Title\"},{\"attributes\":{\"legends\":[[\"setosa\",[{\"id\":\"7d8fc0e0-8f9b-42fd-b147-26b9b1592f16\",\"type\":\"GlyphRenderer\"}]],[\"versicolor\",[{\"id\":\"13237343-5416-4dd0-a422-7e2bf7432f6f\",\"type\":\"GlyphRenderer\"}]],[\"virginica\",[{\"id\":\"c21a7544-d97e-48d3-9199-5117b6cdf046\",\"type\":\"GlyphRenderer\"}]]],\"location\":\"top_left\",\"plot\":{\"id\":\"52447a79-75ef-45f2-8bd7-d47c544905e2\",\"subtype\":\"Chart\",\"type\":\"Plot\"}},\"id\":\"7fe5cf9b-d1a6-4fe7-861b-68ca783cec13\",\"type\":\"Legend\"},{\"attributes\":{\"plot\":{\"id\":\"52447a79-75ef-45f2-8bd7-d47c544905e2\",\"subtype\":\"Chart\",\"type\":\"Plot\"}},\"id\":\"1a2b7686-5bdc-4bf4-98e9-d291b9f1c886\",\"type\":\"SaveTool\"},{\"attributes\":{\"callback\":null,\"column_names\":[\"x_values\",\"y_values\"],\"data\":{\"chart_index\":[{\"species\":\"virginica\"},{\"species\":\"virginica\"},{\"species\":\"virginica\"},{\"species\":\"virginica\"},{\"species\":\"virginica\"},{\"species\":\"virginica\"},{\"species\":\"virginica\"},{\"species\":\"virginica\"},{\"species\":\"virginica\"},{\"species\":\"virginica\"},{\"species\":\"virginica\"},{\"species\":\"virginica\"},{\"species\":\"virginica\"},{\"species\":\"virginica\"},{\"species\":\"virginica\"},{\"species\":\"virginica\"},{\"species\":\"virginica\"},{\"species\":\"virginica\"},{\"species\":\"virginica\"},{\"species\":\"virginica\"},{\"species\":\"virginica\"},{\"species\":\"virginica\"},{\"species\":\"virginica\"},{\"species\":\"virginica\"},{\"species\":\"virginica\"},{\"species\":\"virginica\"},{\"species\":\"virginica\"},{\"species\":\"virginica\"},{\"species\":\"virginica\"},{\"species\":\"virginica\"},{\"species\":\"virginica\"},{\"species\":\"virginica\"},{\"species\":\"virginica\"},{\"species\":\"virginica\"},{\"species\":\"virginica\"},{\"species\":\"virginica\"},{\"species\":\"virginica\"},{\"species\":\"virginica\"},{\"species\":\"virginica\"},{\"species\":\"virginica\"},{\"species\":\"virginica\"},{\"species\":\"virginica\"},{\"species\":\"virginica\"},{\"species\":\"virginica\"},{\"species\":\"virginica\"},{\"species\":\"virginica\"},{\"species\":\"virginica\"},{\"species\":\"virginica\"},{\"species\":\"virginica\"},{\"species\":\"virginica\"}],\"species\":[\"virginica\",\"virginica\",\"virginica\",\"virginica\",\"virginica\",\"virginica\",\"virginica\",\"virginica\",\"virginica\",\"virginica\",\"virginica\",\"virginica\",\"virginica\",\"virginica\",\"virginica\",\"virginica\",\"virginica\",\"virginica\",\"virginica\",\"virginica\",\"virginica\",\"virginica\",\"virginica\",\"virginica\",\"virginica\",\"virginica\",\"virginica\",\"virginica\",\"virginica\",\"virginica\",\"virginica\",\"virginica\",\"virginica\",\"virginica\",\"virginica\",\"virginica\",\"virginica\",\"virginica\",\"virginica\",\"virginica\",\"virginica\",\"virginica\",\"virginica\",\"virginica\",\"virginica\",\"virginica\",\"virginica\",\"virginica\",\"virginica\",\"virginica\"],\"x_values\":[6.0,5.1,5.9,5.6,5.8,6.6,4.5,6.3,5.8,6.1,5.1,5.3,5.5,5.0,5.1,5.3,5.5,6.7,6.9,5.0,5.7,4.9,6.7,4.9,5.7,6.0,4.8,4.9,5.6,5.8,6.1,6.4,5.6,5.1,5.6,6.1,5.6,5.5,4.8,5.4,5.6,5.1,5.1,5.9,5.7,5.2,5.0,5.2,5.4,5.1],\"y_values\":[2.5,1.9,2.1,1.8,2.2,2.1,1.7,1.8,1.8,2.5,2.0,1.9,2.1,2.0,2.4,2.3,1.8,2.2,2.3,1.5,2.3,2.0,2.0,1.8,2.1,1.8,1.8,1.8,2.1,1.6,1.9,2.0,2.2,1.5,1.4,2.3,2.4,1.8,1.8,2.1,2.4,2.3,1.9,2.3,2.5,2.3,1.9,2.0,2.3,1.8]}},\"id\":\"bf5f8896-a8d6-4ed0-9d12-5881ae4fe31b\",\"type\":\"ColumnDataSource\"},{\"attributes\":{\"below\":[{\"id\":\"868b8d63-1e5d-4171-b054-dcbc280b5d1a\",\"type\":\"LinearAxis\"}],\"left\":[{\"id\":\"0bb96423-c792-4f08-8457-93cb4d50dca0\",\"type\":\"LinearAxis\"}],\"renderers\":[{\"id\":\"3a0fde3d-853f-4b44-baab-89935351cd85\",\"type\":\"BoxAnnotation\"},{\"id\":\"7d8fc0e0-8f9b-42fd-b147-26b9b1592f16\",\"type\":\"GlyphRenderer\"},{\"id\":\"13237343-5416-4dd0-a422-7e2bf7432f6f\",\"type\":\"GlyphRenderer\"},{\"id\":\"c21a7544-d97e-48d3-9199-5117b6cdf046\",\"type\":\"GlyphRenderer\"},{\"id\":\"7fe5cf9b-d1a6-4fe7-861b-68ca783cec13\",\"type\":\"Legend\"},{\"id\":\"868b8d63-1e5d-4171-b054-dcbc280b5d1a\",\"type\":\"LinearAxis\"},{\"id\":\"0bb96423-c792-4f08-8457-93cb4d50dca0\",\"type\":\"LinearAxis\"},{\"id\":\"c6baa865-6c82-452e-afeb-e77b6c622986\",\"type\":\"Grid\"},{\"id\":\"30bd8f3c-d534-4206-a9fa-0a93fc2ff378\",\"type\":\"Grid\"}],\"title\":{\"id\":\"0d9b1e3f-63cf-4222-882c-facc6d5876cb\",\"type\":\"Title\"},\"tool_events\":{\"id\":\"2192b915-ed7c-4e36-9034-069492b91f64\",\"type\":\"ToolEvents\"},\"toolbar\":{\"id\":\"409d666a-f03d-421b-b723-a4b2b0693866\",\"type\":\"Toolbar\"},\"x_mapper_type\":\"auto\",\"x_range\":{\"id\":\"4ae27ce0-bc82-4365-8c15-8e2dc1de4876\",\"type\":\"Range1d\"},\"y_mapper_type\":\"auto\",\"y_range\":{\"id\":\"6821fe5e-1fb5-4843-8d4a-2d0d0f65fcb2\",\"type\":\"Range1d\"}},\"id\":\"52447a79-75ef-45f2-8bd7-d47c544905e2\",\"subtype\":\"Chart\",\"type\":\"Plot\"},{\"attributes\":{\"active_drag\":\"auto\",\"active_scroll\":\"auto\",\"active_tap\":\"auto\",\"tools\":[{\"id\":\"626bbf23-231e-40d0-99fe-a7b48b646b2e\",\"type\":\"PanTool\"},{\"id\":\"95ca3b6e-e84d-4d0c-99dc-ce77e766657b\",\"type\":\"WheelZoomTool\"},{\"id\":\"103216a8-9b08-49f2-a945-fd9631c30df7\",\"type\":\"BoxZoomTool\"},{\"id\":\"1a2b7686-5bdc-4bf4-98e9-d291b9f1c886\",\"type\":\"SaveTool\"},{\"id\":\"84684cc9-9acc-4d4c-9b27-ff9d3d89dd6f\",\"type\":\"ResetTool\"},{\"id\":\"0d4402a4-8966-42a9-b1b2-7ed5a818ee4e\",\"type\":\"HelpTool\"}]},\"id\":\"409d666a-f03d-421b-b723-a4b2b0693866\",\"type\":\"Toolbar\"},{\"attributes\":{\"fill_alpha\":{\"value\":0.7},\"fill_color\":{\"value\":\"#5ab738\"},\"line_color\":{\"value\":\"#5ab738\"},\"size\":{\"units\":\"screen\",\"value\":8},\"x\":{\"field\":\"x_values\"},\"y\":{\"field\":\"y_values\"}},\"id\":\"f2b7065f-fa46-40e2-904e-d7c965ef7d0e\",\"type\":\"Square\"},{\"attributes\":{},\"id\":\"2192b915-ed7c-4e36-9034-069492b91f64\",\"type\":\"ToolEvents\"},{\"attributes\":{},\"id\":\"8d8f1375-0dc2-4b11-b3d5-542a8ca2cc40\",\"type\":\"BasicTickFormatter\"},{\"attributes\":{\"callback\":null,\"end\":2.74,\"start\":-0.13999999999999999},\"id\":\"6821fe5e-1fb5-4843-8d4a-2d0d0f65fcb2\",\"type\":\"Range1d\"},{\"attributes\":{\"plot\":{\"id\":\"52447a79-75ef-45f2-8bd7-d47c544905e2\",\"subtype\":\"Chart\",\"type\":\"Plot\"},\"ticker\":{\"id\":\"61837c38-8383-4bca-8bfe-fdaf38cb32c5\",\"type\":\"BasicTicker\"}},\"id\":\"c6baa865-6c82-452e-afeb-e77b6c622986\",\"type\":\"Grid\"},{\"attributes\":{\"fill_alpha\":{\"value\":0.7},\"fill_color\":{\"value\":\"#407ee7\"},\"line_color\":{\"value\":\"#407ee7\"},\"size\":{\"units\":\"screen\",\"value\":8},\"x\":{\"field\":\"x_values\"},\"y\":{\"field\":\"y_values\"}},\"id\":\"891b0d75-def1-4298-8798-f4489ee8fdd2\",\"type\":\"Triangle\"},{\"attributes\":{\"axis_label\":\"petal_width\",\"formatter\":{\"id\":\"0d80c79b-de1c-4288-aee7-6832365f3549\",\"type\":\"BasicTickFormatter\"},\"plot\":{\"id\":\"52447a79-75ef-45f2-8bd7-d47c544905e2\",\"subtype\":\"Chart\",\"type\":\"Plot\"},\"ticker\":{\"id\":\"01f701d6-6dc1-438a-8d21-3e1d5726e4a1\",\"type\":\"BasicTicker\"}},\"id\":\"0bb96423-c792-4f08-8457-93cb4d50dca0\",\"type\":\"LinearAxis\"},{\"attributes\":{\"bottom_units\":\"screen\",\"fill_alpha\":{\"value\":0.5},\"fill_color\":{\"value\":\"lightgrey\"},\"left_units\":\"screen\",\"level\":\"overlay\",\"line_alpha\":{\"value\":1.0},\"line_color\":{\"value\":\"black\"},\"line_dash\":[4,4],\"line_width\":{\"value\":2},\"plot\":null,\"render_mode\":\"css\",\"right_units\":\"screen\",\"top_units\":\"screen\"},\"id\":\"3a0fde3d-853f-4b44-baab-89935351cd85\",\"type\":\"BoxAnnotation\"},{\"attributes\":{\"plot\":{\"id\":\"52447a79-75ef-45f2-8bd7-d47c544905e2\",\"subtype\":\"Chart\",\"type\":\"Plot\"}},\"id\":\"626bbf23-231e-40d0-99fe-a7b48b646b2e\",\"type\":\"PanTool\"},{\"attributes\":{\"fill_alpha\":{\"value\":0.7},\"fill_color\":{\"value\":\"#f22c40\"},\"line_color\":{\"value\":\"#f22c40\"},\"size\":{\"units\":\"screen\",\"value\":8},\"x\":{\"field\":\"x_values\"},\"y\":{\"field\":\"y_values\"}},\"id\":\"00ac6aeb-6eb9-4d94-bb8c-f5fafd70124d\",\"type\":\"Circle\"},{\"attributes\":{\"callback\":null,\"column_names\":[\"x_values\",\"y_values\"],\"data\":{\"chart_index\":[{\"species\":\"setosa\"},{\"species\":\"setosa\"},{\"species\":\"setosa\"},{\"species\":\"setosa\"},{\"species\":\"setosa\"},{\"species\":\"setosa\"},{\"species\":\"setosa\"},{\"species\":\"setosa\"},{\"species\":\"setosa\"},{\"species\":\"setosa\"},{\"species\":\"setosa\"},{\"species\":\"setosa\"},{\"species\":\"setosa\"},{\"species\":\"setosa\"},{\"species\":\"setosa\"},{\"species\":\"setosa\"},{\"species\":\"setosa\"},{\"species\":\"setosa\"},{\"species\":\"setosa\"},{\"species\":\"setosa\"},{\"species\":\"setosa\"},{\"species\":\"setosa\"},{\"species\":\"setosa\"},{\"species\":\"setosa\"},{\"species\":\"setosa\"},{\"species\":\"setosa\"},{\"species\":\"setosa\"},{\"species\":\"setosa\"},{\"species\":\"setosa\"},{\"species\":\"setosa\"},{\"species\":\"setosa\"},{\"species\":\"setosa\"},{\"species\":\"setosa\"},{\"species\":\"setosa\"},{\"species\":\"setosa\"},{\"species\":\"setosa\"},{\"species\":\"setosa\"},{\"species\":\"setosa\"},{\"species\":\"setosa\"},{\"species\":\"setosa\"},{\"species\":\"setosa\"},{\"species\":\"setosa\"},{\"species\":\"setosa\"},{\"species\":\"setosa\"},{\"species\":\"setosa\"},{\"species\":\"setosa\"},{\"species\":\"setosa\"},{\"species\":\"setosa\"},{\"species\":\"setosa\"},{\"species\":\"setosa\"}],\"species\":[\"setosa\",\"setosa\",\"setosa\",\"setosa\",\"setosa\",\"setosa\",\"setosa\",\"setosa\",\"setosa\",\"setosa\",\"setosa\",\"setosa\",\"setosa\",\"setosa\",\"setosa\",\"setosa\",\"setosa\",\"setosa\",\"setosa\",\"setosa\",\"setosa\",\"setosa\",\"setosa\",\"setosa\",\"setosa\",\"setosa\",\"setosa\",\"setosa\",\"setosa\",\"setosa\",\"setosa\",\"setosa\",\"setosa\",\"setosa\",\"setosa\",\"setosa\",\"setosa\",\"setosa\",\"setosa\",\"setosa\",\"setosa\",\"setosa\",\"setosa\",\"setosa\",\"setosa\",\"setosa\",\"setosa\",\"setosa\",\"setosa\",\"setosa\"],\"x_values\":[1.4,1.4,1.3,1.5,1.4,1.7,1.4,1.5,1.4,1.5,1.5,1.6,1.4,1.1,1.2,1.5,1.3,1.4,1.7,1.5,1.7,1.5,1.0,1.7,1.9,1.6,1.6,1.5,1.4,1.6,1.6,1.5,1.5,1.4,1.5,1.2,1.3,1.4,1.3,1.5,1.3,1.3,1.3,1.6,1.9,1.4,1.6,1.4,1.5,1.4],\"y_values\":[0.2,0.2,0.2,0.2,0.2,0.4,0.3,0.2,0.2,0.1,0.2,0.2,0.1,0.1,0.2,0.4,0.4,0.3,0.3,0.3,0.2,0.4,0.2,0.5,0.2,0.2,0.4,0.2,0.2,0.2,0.2,0.4,0.1,0.2,0.2,0.2,0.2,0.1,0.2,0.2,0.3,0.3,0.2,0.6,0.4,0.3,0.2,0.2,0.2,0.2]}},\"id\":\"056543b0-58a3-471d-bf75-3bfad31c28c9\",\"type\":\"ColumnDataSource\"},{\"attributes\":{},\"id\":\"61837c38-8383-4bca-8bfe-fdaf38cb32c5\",\"type\":\"BasicTicker\"},{\"attributes\":{\"callback\":null,\"end\":7.49,\"start\":0.4099999999999999},\"id\":\"4ae27ce0-bc82-4365-8c15-8e2dc1de4876\",\"type\":\"Range1d\"},{\"attributes\":{\"overlay\":{\"id\":\"3a0fde3d-853f-4b44-baab-89935351cd85\",\"type\":\"BoxAnnotation\"},\"plot\":{\"id\":\"52447a79-75ef-45f2-8bd7-d47c544905e2\",\"subtype\":\"Chart\",\"type\":\"Plot\"}},\"id\":\"103216a8-9b08-49f2-a945-fd9631c30df7\",\"type\":\"BoxZoomTool\"},{\"attributes\":{\"plot\":{\"id\":\"52447a79-75ef-45f2-8bd7-d47c544905e2\",\"subtype\":\"Chart\",\"type\":\"Plot\"}},\"id\":\"0d4402a4-8966-42a9-b1b2-7ed5a818ee4e\",\"type\":\"HelpTool\"},{\"attributes\":{\"plot\":{\"id\":\"52447a79-75ef-45f2-8bd7-d47c544905e2\",\"subtype\":\"Chart\",\"type\":\"Plot\"}},\"id\":\"95ca3b6e-e84d-4d0c-99dc-ce77e766657b\",\"type\":\"WheelZoomTool\"},{\"attributes\":{\"dimension\":1,\"plot\":{\"id\":\"52447a79-75ef-45f2-8bd7-d47c544905e2\",\"subtype\":\"Chart\",\"type\":\"Plot\"},\"ticker\":{\"id\":\"01f701d6-6dc1-438a-8d21-3e1d5726e4a1\",\"type\":\"BasicTicker\"}},\"id\":\"30bd8f3c-d534-4206-a9fa-0a93fc2ff378\",\"type\":\"Grid\"},{\"attributes\":{},\"id\":\"0d80c79b-de1c-4288-aee7-6832365f3549\",\"type\":\"BasicTickFormatter\"},{\"attributes\":{\"callback\":null,\"column_names\":[\"x_values\",\"y_values\"],\"data\":{\"chart_index\":[{\"species\":\"versicolor\"},{\"species\":\"versicolor\"},{\"species\":\"versicolor\"},{\"species\":\"versicolor\"},{\"species\":\"versicolor\"},{\"species\":\"versicolor\"},{\"species\":\"versicolor\"},{\"species\":\"versicolor\"},{\"species\":\"versicolor\"},{\"species\":\"versicolor\"},{\"species\":\"versicolor\"},{\"species\":\"versicolor\"},{\"species\":\"versicolor\"},{\"species\":\"versicolor\"},{\"species\":\"versicolor\"},{\"species\":\"versicolor\"},{\"species\":\"versicolor\"},{\"species\":\"versicolor\"},{\"species\":\"versicolor\"},{\"species\":\"versicolor\"},{\"species\":\"versicolor\"},{\"species\":\"versicolor\"},{\"species\":\"versicolor\"},{\"species\":\"versicolor\"},{\"species\":\"versicolor\"},{\"species\":\"versicolor\"},{\"species\":\"versicolor\"},{\"species\":\"versicolor\"},{\"species\":\"versicolor\"},{\"species\":\"versicolor\"},{\"species\":\"versicolor\"},{\"species\":\"versicolor\"},{\"species\":\"versicolor\"},{\"species\":\"versicolor\"},{\"species\":\"versicolor\"},{\"species\":\"versicolor\"},{\"species\":\"versicolor\"},{\"species\":\"versicolor\"},{\"species\":\"versicolor\"},{\"species\":\"versicolor\"},{\"species\":\"versicolor\"},{\"species\":\"versicolor\"},{\"species\":\"versicolor\"},{\"species\":\"versicolor\"},{\"species\":\"versicolor\"},{\"species\":\"versicolor\"},{\"species\":\"versicolor\"},{\"species\":\"versicolor\"},{\"species\":\"versicolor\"},{\"species\":\"versicolor\"}],\"species\":[\"versicolor\",\"versicolor\",\"versicolor\",\"versicolor\",\"versicolor\",\"versicolor\",\"versicolor\",\"versicolor\",\"versicolor\",\"versicolor\",\"versicolor\",\"versicolor\",\"versicolor\",\"versicolor\",\"versicolor\",\"versicolor\",\"versicolor\",\"versicolor\",\"versicolor\",\"versicolor\",\"versicolor\",\"versicolor\",\"versicolor\",\"versicolor\",\"versicolor\",\"versicolor\",\"versicolor\",\"versicolor\",\"versicolor\",\"versicolor\",\"versicolor\",\"versicolor\",\"versicolor\",\"versicolor\",\"versicolor\",\"versicolor\",\"versicolor\",\"versicolor\",\"versicolor\",\"versicolor\",\"versicolor\",\"versicolor\",\"versicolor\",\"versicolor\",\"versicolor\",\"versicolor\",\"versicolor\",\"versicolor\",\"versicolor\",\"versicolor\"],\"x_values\":[4.7,4.5,4.9,4.0,4.6,4.5,4.7,3.3,4.6,3.9,3.5,4.2,4.0,4.7,3.6,4.4,4.5,4.1,4.5,3.9,4.8,4.0,4.9,4.7,4.3,4.4,4.8,5.0,4.5,3.5,3.8,3.7,3.9,5.1,4.5,4.5,4.7,4.4,4.1,4.0,4.4,4.6,4.0,3.3,4.2,4.2,4.2,4.3,3.0,4.1],\"y_values\":[1.4,1.5,1.5,1.3,1.5,1.3,1.6,1.0,1.3,1.4,1.0,1.5,1.0,1.4,1.3,1.4,1.5,1.0,1.5,1.1,1.8,1.3,1.5,1.2,1.3,1.4,1.4,1.7,1.5,1.0,1.1,1.0,1.2,1.6,1.5,1.6,1.5,1.3,1.3,1.3,1.2,1.4,1.2,1.0,1.3,1.2,1.3,1.3,1.1,1.3]}},\"id\":\"6e059e8b-c789-4e31-8b45-17c7f2b73fc5\",\"type\":\"ColumnDataSource\"},{\"attributes\":{\"plot\":{\"id\":\"52447a79-75ef-45f2-8bd7-d47c544905e2\",\"subtype\":\"Chart\",\"type\":\"Plot\"}},\"id\":\"84684cc9-9acc-4d4c-9b27-ff9d3d89dd6f\",\"type\":\"ResetTool\"}],\"root_ids\":[\"52447a79-75ef-45f2-8bd7-d47c544905e2\"]},\"title\":\"Bokeh Application\",\"version\":\"0.12.1\"}};\n",
       "            var render_items = [{\"docid\":\"c32df18e-0a18-4fa7-a1cd-10d9169e4ce0\",\"elementid\":\"c5f2c8ca-8b66-4a9c-b8bd-f566eb535dd2\",\"modelid\":\"52447a79-75ef-45f2-8bd7-d47c544905e2\",\"notebook_comms_target\":\"a36e5363-8197-4ba7-b924-5f6adcb5f14a\"}];\n",
       "            \n",
       "            Bokeh.embed.embed_items(docs_json, render_items);\n",
       "        });\n",
       "      },\n",
       "      function(Bokeh) {\n",
       "      }\n",
       "    ];\n",
       "  \n",
       "    function run_inline_js() {\n",
       "      for (var i = 0; i < inline_js.length; i++) {\n",
       "        inline_js[i](window.Bokeh);\n",
       "      }\n",
       "    }\n",
       "  \n",
       "    if (window._bokeh_is_loading === 0) {\n",
       "      console.log(\"Bokeh: BokehJS loaded, going straight to plotting\");\n",
       "      run_inline_js();\n",
       "    } else {\n",
       "      load_libs(js_urls, function() {\n",
       "        console.log(\"Bokeh: BokehJS plotting callback run at\", now());\n",
       "        run_inline_js();\n",
       "      });\n",
       "    }\n",
       "  }(this));\n",
       "</script>"
      ]
     },
     "metadata": {},
     "output_type": "display_data"
    },
    {
     "data": {
      "text/html": [
       "<p><code>&lt;Bokeh Notebook handle for <strong>In[21]</strong>&gt;</code></p>"
      ],
      "text/plain": [
       "<bokeh.io._CommsHandle at 0x113c87e90>"
      ]
     },
     "execution_count": 21,
     "metadata": {},
     "output_type": "execute_result"
    }
   ],
   "source": [
    "# EXERCISE: vary the marker shape by passing a column name as the `marker` keyword argument\n",
    "p = Scatter(flowers, x='petal_length', y='petal_width', color='species', marker='species',\\\n",
    "            legend='top_left')\n",
    "show(p)"
   ]
  },
  {
   "cell_type": "markdown",
   "metadata": {},
   "source": [
    "# Bar Chart\n",
    "\n",
    "A high-level bar chart is provided by [`bokeh.charts.Bar`]()\n",
    "\n",
    "For this section, we will use the \"autompg\" data set. Let's import it and take a quick look:"
   ]
  },
  {
   "cell_type": "code",
   "execution_count": 22,
   "metadata": {
    "collapsed": false
   },
   "outputs": [
    {
     "data": {
      "text/html": [
       "<div>\n",
       "<table border=\"1\" class=\"dataframe\">\n",
       "  <thead>\n",
       "    <tr style=\"text-align: right;\">\n",
       "      <th></th>\n",
       "      <th>mpg</th>\n",
       "      <th>cyl</th>\n",
       "      <th>displ</th>\n",
       "      <th>hp</th>\n",
       "      <th>weight</th>\n",
       "      <th>accel</th>\n",
       "      <th>yr</th>\n",
       "      <th>origin</th>\n",
       "      <th>name</th>\n",
       "    </tr>\n",
       "  </thead>\n",
       "  <tbody>\n",
       "    <tr>\n",
       "      <th>0</th>\n",
       "      <td>18.0</td>\n",
       "      <td>8</td>\n",
       "      <td>307.0</td>\n",
       "      <td>130</td>\n",
       "      <td>3504</td>\n",
       "      <td>12.0</td>\n",
       "      <td>70</td>\n",
       "      <td>1</td>\n",
       "      <td>chevrolet chevelle malibu</td>\n",
       "    </tr>\n",
       "    <tr>\n",
       "      <th>1</th>\n",
       "      <td>15.0</td>\n",
       "      <td>8</td>\n",
       "      <td>350.0</td>\n",
       "      <td>165</td>\n",
       "      <td>3693</td>\n",
       "      <td>11.5</td>\n",
       "      <td>70</td>\n",
       "      <td>1</td>\n",
       "      <td>buick skylark 320</td>\n",
       "    </tr>\n",
       "    <tr>\n",
       "      <th>2</th>\n",
       "      <td>18.0</td>\n",
       "      <td>8</td>\n",
       "      <td>318.0</td>\n",
       "      <td>150</td>\n",
       "      <td>3436</td>\n",
       "      <td>11.0</td>\n",
       "      <td>70</td>\n",
       "      <td>1</td>\n",
       "      <td>plymouth satellite</td>\n",
       "    </tr>\n",
       "    <tr>\n",
       "      <th>3</th>\n",
       "      <td>16.0</td>\n",
       "      <td>8</td>\n",
       "      <td>304.0</td>\n",
       "      <td>150</td>\n",
       "      <td>3433</td>\n",
       "      <td>12.0</td>\n",
       "      <td>70</td>\n",
       "      <td>1</td>\n",
       "      <td>amc rebel sst</td>\n",
       "    </tr>\n",
       "    <tr>\n",
       "      <th>4</th>\n",
       "      <td>17.0</td>\n",
       "      <td>8</td>\n",
       "      <td>302.0</td>\n",
       "      <td>140</td>\n",
       "      <td>3449</td>\n",
       "      <td>10.5</td>\n",
       "      <td>70</td>\n",
       "      <td>1</td>\n",
       "      <td>ford torino</td>\n",
       "    </tr>\n",
       "  </tbody>\n",
       "</table>\n",
       "</div>"
      ],
      "text/plain": [
       "    mpg  cyl  displ   hp  weight  accel  yr  origin                       name\n",
       "0  18.0    8  307.0  130    3504   12.0  70       1  chevrolet chevelle malibu\n",
       "1  15.0    8  350.0  165    3693   11.5  70       1          buick skylark 320\n",
       "2  18.0    8  318.0  150    3436   11.0  70       1         plymouth satellite\n",
       "3  16.0    8  304.0  150    3433   12.0  70       1              amc rebel sst\n",
       "4  17.0    8  302.0  140    3449   10.5  70       1                ford torino"
      ]
     },
     "execution_count": 22,
     "metadata": {},
     "output_type": "execute_result"
    }
   ],
   "source": [
    "from bokeh.sampledata.autompg import autompg\n",
    "autompg.head()"
   ]
  },
  {
   "cell_type": "code",
   "execution_count": 8,
   "metadata": {
    "collapsed": true
   },
   "outputs": [],
   "source": [
    "from bokeh.charts import Bar"
   ]
  },
  {
   "cell_type": "markdown",
   "metadata": {},
   "source": [
    "A basic bar chart takes the data (again a DataFrame) as the first value, as well as column names for:\n",
    "\n",
    "* `label` - a column to group to label the x-axis\n",
    "* `values` - a column to aggregate values for each group, to give the bar heights\n",
    "* `agg` - the name of an aggregation to perform over the values (e.g., `\"mean\"`, `\"max\"`, etc.)\n",
    "\n",
    "A simple example that also specifies some other properties such as `title` and `legend` is shown below:"
   ]
  },
  {
   "cell_type": "code",
   "execution_count": 25,
   "metadata": {
    "collapsed": false
   },
   "outputs": [
    {
     "data": {
      "text/html": [
       "\n",
       "\n",
       "    <div class=\"bk-root\">\n",
       "        <div class=\"plotdiv\" id=\"31078687-ea24-489f-8553-b7f7864ccb49\"></div>\n",
       "    </div>\n",
       "<script type=\"text/javascript\">\n",
       "  \n",
       "  (function(global) {\n",
       "    function now() {\n",
       "      return new Date();\n",
       "    }\n",
       "  \n",
       "    var force = \"\";\n",
       "  \n",
       "    if (typeof (window._bokeh_onload_callbacks) === \"undefined\" || force !== \"\") {\n",
       "      window._bokeh_onload_callbacks = [];\n",
       "      window._bokeh_is_loading = undefined;\n",
       "    }\n",
       "  \n",
       "    function run_callbacks() {\n",
       "      window._bokeh_onload_callbacks.forEach(function(callback) { callback() });\n",
       "      delete window._bokeh_onload_callbacks\n",
       "      console.info(\"Bokeh: all callbacks have finished\");\n",
       "    }\n",
       "  \n",
       "    function load_libs(js_urls, callback) {\n",
       "      window._bokeh_onload_callbacks.push(callback);\n",
       "      if (window._bokeh_is_loading > 0) {\n",
       "        console.log(\"Bokeh: BokehJS is being loaded, scheduling callback at\", now());\n",
       "        return null;\n",
       "      }\n",
       "      if (js_urls == null || js_urls.length === 0) {\n",
       "        run_callbacks();\n",
       "        return null;\n",
       "      }\n",
       "      console.log(\"Bokeh: BokehJS not loaded, scheduling load and callback at\", now());\n",
       "      window._bokeh_is_loading = js_urls.length;\n",
       "      for (var i = 0; i < js_urls.length; i++) {\n",
       "        var url = js_urls[i];\n",
       "        var s = document.createElement('script');\n",
       "        s.src = url;\n",
       "        s.async = false;\n",
       "        s.onreadystatechange = s.onload = function() {\n",
       "          window._bokeh_is_loading--;\n",
       "          if (window._bokeh_is_loading === 0) {\n",
       "            console.log(\"Bokeh: all BokehJS libraries loaded\");\n",
       "            run_callbacks()\n",
       "          }\n",
       "        };\n",
       "        s.onerror = function() {\n",
       "          console.warn(\"failed to load library \" + url);\n",
       "        };\n",
       "        console.log(\"Bokeh: injecting script tag for BokehJS library: \", url);\n",
       "        document.getElementsByTagName(\"head\")[0].appendChild(s);\n",
       "      }\n",
       "    };var element = document.getElementById(\"31078687-ea24-489f-8553-b7f7864ccb49\");\n",
       "    if (element == null) {\n",
       "      console.log(\"Bokeh: ERROR: autoload.js configured with elementid '31078687-ea24-489f-8553-b7f7864ccb49' but no matching script tag was found. \")\n",
       "      return false;\n",
       "    }\n",
       "  \n",
       "    var js_urls = [];\n",
       "  \n",
       "    var inline_js = [\n",
       "      function(Bokeh) {\n",
       "        Bokeh.$(function() {\n",
       "            var docs_json = {\"7ceee0ce-fdf9-4be7-b422-1b3b80820e82\":{\"roots\":{\"references\":[{\"attributes\":{\"plot\":null,\"text\":\"Max MPG by CYL\"},\"id\":\"43119bdd-6c34-4f91-ab06-f0e02266afa5\",\"type\":\"Title\"},{\"attributes\":{\"fill_alpha\":{\"field\":\"fill_alpha\"},\"fill_color\":{\"field\":\"color\"},\"height\":{\"field\":\"height\",\"units\":\"data\"},\"line_color\":{\"field\":\"line_color\"},\"width\":{\"field\":\"width\",\"units\":\"data\"},\"x\":{\"field\":\"x\"},\"y\":{\"field\":\"y\"}},\"id\":\"f03c79c7-b146-42d2-8ea5-653268193b47\",\"type\":\"Rect\"},{\"attributes\":{\"fill_alpha\":{\"field\":\"fill_alpha\"},\"fill_color\":{\"field\":\"color\"},\"height\":{\"field\":\"height\",\"units\":\"data\"},\"line_color\":{\"field\":\"line_color\"},\"width\":{\"field\":\"width\",\"units\":\"data\"},\"x\":{\"field\":\"x\"},\"y\":{\"field\":\"y\"}},\"id\":\"80b803f6-02f0-463e-b5fb-7ae565615123\",\"type\":\"Rect\"},{\"attributes\":{\"callback\":null,\"column_names\":[\"line_color\",\"line_alpha\",\"color\",\"fill_alpha\",\"height\",\"width\",\"y\",\"x\",\"label\"],\"data\":{\"chart_index\":[{\"cyl\":4}],\"color\":[\"#f22c40\"],\"cyl\":[4],\"fill_alpha\":[0.8],\"height\":[46.6],\"label\":[{\"cyl\":4}],\"line_alpha\":[1.0],\"line_color\":[\"white\"],\"width\":[0.8],\"x\":[\"4\"],\"y\":[23.3]}},\"id\":\"4b8e128f-84f2-4c52-b142-f50364aa2929\",\"type\":\"ColumnDataSource\"},{\"attributes\":{\"fill_alpha\":{\"field\":\"fill_alpha\"},\"fill_color\":{\"field\":\"color\"},\"height\":{\"field\":\"height\",\"units\":\"data\"},\"line_color\":{\"field\":\"line_color\"},\"width\":{\"field\":\"width\",\"units\":\"data\"},\"x\":{\"field\":\"x\"},\"y\":{\"field\":\"y\"}},\"id\":\"b4df56e3-a4c9-4b9d-aa93-57a6b958c961\",\"type\":\"Rect\"},{\"attributes\":{\"below\":[{\"id\":\"9d1f276d-62d3-4c2f-a6b3-536e1c513f25\",\"type\":\"CategoricalAxis\"}],\"left\":[{\"id\":\"e6e0586c-84d6-481e-a6e5-f95f40b9e8d6\",\"type\":\"LinearAxis\"}],\"renderers\":[{\"id\":\"e83d5c1b-65df-4e8e-8991-c160e520aa6f\",\"type\":\"GlyphRenderer\"},{\"id\":\"73222c91-f3e8-40dc-9da2-7f3be2ded2d3\",\"type\":\"GlyphRenderer\"},{\"id\":\"a5ed18d8-ccad-47d0-a675-406555494d3b\",\"type\":\"GlyphRenderer\"},{\"id\":\"81f25053-42c4-4915-a733-cd87d55f8359\",\"type\":\"GlyphRenderer\"},{\"id\":\"4cd9ed79-8e06-42e5-9849-86d76a6a3a9c\",\"type\":\"GlyphRenderer\"},{\"id\":\"9d1f276d-62d3-4c2f-a6b3-536e1c513f25\",\"type\":\"CategoricalAxis\"},{\"id\":\"e6e0586c-84d6-481e-a6e5-f95f40b9e8d6\",\"type\":\"LinearAxis\"},{\"id\":\"510ba707-89de-4834-92f8-cd060f46d157\",\"type\":\"Grid\"}],\"title\":{\"id\":\"43119bdd-6c34-4f91-ab06-f0e02266afa5\",\"type\":\"Title\"},\"tool_events\":{\"id\":\"8c02b658-be58-4038-bc52-a4cd0ae8e357\",\"type\":\"ToolEvents\"},\"toolbar\":{\"id\":\"ef0d2129-595f-46cb-9e48-32e1578a5f43\",\"type\":\"Toolbar\"},\"x_mapper_type\":\"auto\",\"x_range\":{\"id\":\"05243d7c-903c-42a5-8a63-5ed044e28c28\",\"type\":\"FactorRange\"},\"y_mapper_type\":\"auto\",\"y_range\":{\"id\":\"d2e3cacf-6ad6-4d0e-a59f-3713b4491303\",\"type\":\"Range1d\"}},\"id\":\"60b5843b-45e7-4ab7-99d3-cd2a761f324c\",\"subtype\":\"Chart\",\"type\":\"Plot\"},{\"attributes\":{\"data_source\":{\"id\":\"4b8e128f-84f2-4c52-b142-f50364aa2929\",\"type\":\"ColumnDataSource\"},\"glyph\":{\"id\":\"80b803f6-02f0-463e-b5fb-7ae565615123\",\"type\":\"Rect\"},\"hover_glyph\":null,\"nonselection_glyph\":null,\"selection_glyph\":null},\"id\":\"73222c91-f3e8-40dc-9da2-7f3be2ded2d3\",\"type\":\"GlyphRenderer\"},{\"attributes\":{\"plot\":{\"id\":\"60b5843b-45e7-4ab7-99d3-cd2a761f324c\",\"subtype\":\"Chart\",\"type\":\"Plot\"}},\"id\":\"3a89f6e0-2d95-42df-b787-1e5491064570\",\"type\":\"CrosshairTool\"},{\"attributes\":{},\"id\":\"8c02b658-be58-4038-bc52-a4cd0ae8e357\",\"type\":\"ToolEvents\"},{\"attributes\":{\"fill_alpha\":{\"field\":\"fill_alpha\"},\"fill_color\":{\"field\":\"color\"},\"height\":{\"field\":\"height\",\"units\":\"data\"},\"line_color\":{\"field\":\"line_color\"},\"width\":{\"field\":\"width\",\"units\":\"data\"},\"x\":{\"field\":\"x\"},\"y\":{\"field\":\"y\"}},\"id\":\"f3cc6d35-8994-4603-b95a-b067fc92d478\",\"type\":\"Rect\"},{\"attributes\":{\"axis_label\":\"Cyl\",\"formatter\":{\"id\":\"32da1982-67b6-462f-b8e5-e40e6147212a\",\"type\":\"CategoricalTickFormatter\"},\"major_label_orientation\":0.7853981633974483,\"plot\":{\"id\":\"60b5843b-45e7-4ab7-99d3-cd2a761f324c\",\"subtype\":\"Chart\",\"type\":\"Plot\"},\"ticker\":{\"id\":\"1ad476eb-19d3-4579-8ac9-a783eac5378a\",\"type\":\"CategoricalTicker\"}},\"id\":\"9d1f276d-62d3-4c2f-a6b3-536e1c513f25\",\"type\":\"CategoricalAxis\"},{\"attributes\":{\"active_drag\":\"auto\",\"active_scroll\":\"auto\",\"active_tap\":\"auto\",\"tools\":[{\"id\":\"3a89f6e0-2d95-42df-b787-1e5491064570\",\"type\":\"CrosshairTool\"}]},\"id\":\"ef0d2129-595f-46cb-9e48-32e1578a5f43\",\"type\":\"Toolbar\"},{\"attributes\":{},\"id\":\"9f85a336-cda0-4eaa-a4e1-0cadc2fe33c5\",\"type\":\"BasicTicker\"},{\"attributes\":{\"callback\":null,\"end\":48.93},\"id\":\"d2e3cacf-6ad6-4d0e-a59f-3713b4491303\",\"type\":\"Range1d\"},{\"attributes\":{},\"id\":\"32da1982-67b6-462f-b8e5-e40e6147212a\",\"type\":\"CategoricalTickFormatter\"},{\"attributes\":{\"data_source\":{\"id\":\"3d6b8d32-3480-4fd7-bac5-c417be0a9d6d\",\"type\":\"ColumnDataSource\"},\"glyph\":{\"id\":\"f3cc6d35-8994-4603-b95a-b067fc92d478\",\"type\":\"Rect\"},\"hover_glyph\":null,\"nonselection_glyph\":null,\"selection_glyph\":null},\"id\":\"a5ed18d8-ccad-47d0-a675-406555494d3b\",\"type\":\"GlyphRenderer\"},{\"attributes\":{\"fill_alpha\":{\"field\":\"fill_alpha\"},\"fill_color\":{\"field\":\"color\"},\"height\":{\"field\":\"height\",\"units\":\"data\"},\"line_color\":{\"field\":\"line_color\"},\"width\":{\"field\":\"width\",\"units\":\"data\"},\"x\":{\"field\":\"x\"},\"y\":{\"field\":\"y\"}},\"id\":\"95580c39-c355-4bbc-91f4-cf7e1065daa0\",\"type\":\"Rect\"},{\"attributes\":{\"callback\":null,\"column_names\":[\"line_color\",\"line_alpha\",\"color\",\"fill_alpha\",\"height\",\"width\",\"y\",\"x\",\"label\"],\"data\":{\"chart_index\":[{\"cyl\":8}],\"color\":[\"#f22c40\"],\"cyl\":[8],\"fill_alpha\":[0.8],\"height\":[26.6],\"label\":[{\"cyl\":8}],\"line_alpha\":[1.0],\"line_color\":[\"white\"],\"width\":[0.8],\"x\":[\"8\"],\"y\":[13.3]}},\"id\":\"f3593a3a-6140-4662-9f44-de91224a0e72\",\"type\":\"ColumnDataSource\"},{\"attributes\":{},\"id\":\"d16b2edd-8c65-4f57-95f9-ed94ace01c39\",\"type\":\"BasicTickFormatter\"},{\"attributes\":{},\"id\":\"1ad476eb-19d3-4579-8ac9-a783eac5378a\",\"type\":\"CategoricalTicker\"},{\"attributes\":{\"axis_label\":\"Max( Mpg )\",\"formatter\":{\"id\":\"d16b2edd-8c65-4f57-95f9-ed94ace01c39\",\"type\":\"BasicTickFormatter\"},\"plot\":{\"id\":\"60b5843b-45e7-4ab7-99d3-cd2a761f324c\",\"subtype\":\"Chart\",\"type\":\"Plot\"},\"ticker\":{\"id\":\"9f85a336-cda0-4eaa-a4e1-0cadc2fe33c5\",\"type\":\"BasicTicker\"}},\"id\":\"e6e0586c-84d6-481e-a6e5-f95f40b9e8d6\",\"type\":\"LinearAxis\"},{\"attributes\":{\"data_source\":{\"id\":\"f3593a3a-6140-4662-9f44-de91224a0e72\",\"type\":\"ColumnDataSource\"},\"glyph\":{\"id\":\"95580c39-c355-4bbc-91f4-cf7e1065daa0\",\"type\":\"Rect\"},\"hover_glyph\":null,\"nonselection_glyph\":null,\"selection_glyph\":null},\"id\":\"e83d5c1b-65df-4e8e-8991-c160e520aa6f\",\"type\":\"GlyphRenderer\"},{\"attributes\":{\"callback\":null,\"column_names\":[\"line_color\",\"line_alpha\",\"color\",\"fill_alpha\",\"height\",\"width\",\"y\",\"x\",\"label\"],\"data\":{\"chart_index\":[{\"cyl\":5}],\"color\":[\"#f22c40\"],\"cyl\":[5],\"fill_alpha\":[0.8],\"height\":[36.4],\"label\":[{\"cyl\":5}],\"line_alpha\":[1.0],\"line_color\":[\"white\"],\"width\":[0.8],\"x\":[\"5\"],\"y\":[18.2]}},\"id\":\"16df93c3-451e-4bd4-a217-4c99287d6d84\",\"type\":\"ColumnDataSource\"},{\"attributes\":{\"dimension\":1,\"plot\":{\"id\":\"60b5843b-45e7-4ab7-99d3-cd2a761f324c\",\"subtype\":\"Chart\",\"type\":\"Plot\"},\"ticker\":{\"id\":\"9f85a336-cda0-4eaa-a4e1-0cadc2fe33c5\",\"type\":\"BasicTicker\"}},\"id\":\"510ba707-89de-4834-92f8-cd060f46d157\",\"type\":\"Grid\"},{\"attributes\":{\"callback\":null,\"column_names\":[\"line_color\",\"line_alpha\",\"color\",\"fill_alpha\",\"height\",\"width\",\"y\",\"x\",\"label\"],\"data\":{\"chart_index\":[{\"cyl\":6}],\"color\":[\"#f22c40\"],\"cyl\":[6],\"fill_alpha\":[0.8],\"height\":[38.0],\"label\":[{\"cyl\":6}],\"line_alpha\":[1.0],\"line_color\":[\"white\"],\"width\":[0.8],\"x\":[\"6\"],\"y\":[19.0]}},\"id\":\"3d6b8d32-3480-4fd7-bac5-c417be0a9d6d\",\"type\":\"ColumnDataSource\"},{\"attributes\":{\"callback\":null,\"column_names\":[\"line_color\",\"line_alpha\",\"color\",\"fill_alpha\",\"height\",\"width\",\"y\",\"x\",\"label\"],\"data\":{\"chart_index\":[{\"cyl\":3}],\"color\":[\"#f22c40\"],\"cyl\":[3],\"fill_alpha\":[0.8],\"height\":[23.7],\"label\":[{\"cyl\":3}],\"line_alpha\":[1.0],\"line_color\":[\"white\"],\"width\":[0.8],\"x\":[\"3\"],\"y\":[11.85]}},\"id\":\"ff1f32d4-876d-4f9a-a453-f78d439c4330\",\"type\":\"ColumnDataSource\"},{\"attributes\":{\"data_source\":{\"id\":\"ff1f32d4-876d-4f9a-a453-f78d439c4330\",\"type\":\"ColumnDataSource\"},\"glyph\":{\"id\":\"f03c79c7-b146-42d2-8ea5-653268193b47\",\"type\":\"Rect\"},\"hover_glyph\":null,\"nonselection_glyph\":null,\"selection_glyph\":null},\"id\":\"81f25053-42c4-4915-a733-cd87d55f8359\",\"type\":\"GlyphRenderer\"},{\"attributes\":{\"data_source\":{\"id\":\"16df93c3-451e-4bd4-a217-4c99287d6d84\",\"type\":\"ColumnDataSource\"},\"glyph\":{\"id\":\"b4df56e3-a4c9-4b9d-aa93-57a6b958c961\",\"type\":\"Rect\"},\"hover_glyph\":null,\"nonselection_glyph\":null,\"selection_glyph\":null},\"id\":\"4cd9ed79-8e06-42e5-9849-86d76a6a3a9c\",\"type\":\"GlyphRenderer\"},{\"attributes\":{\"callback\":null,\"factors\":[\"3\",\"4\",\"5\",\"6\",\"8\"]},\"id\":\"05243d7c-903c-42a5-8a63-5ed044e28c28\",\"type\":\"FactorRange\"}],\"root_ids\":[\"60b5843b-45e7-4ab7-99d3-cd2a761f324c\"]},\"title\":\"Bokeh Application\",\"version\":\"0.12.1\"}};\n",
       "            var render_items = [{\"docid\":\"7ceee0ce-fdf9-4be7-b422-1b3b80820e82\",\"elementid\":\"31078687-ea24-489f-8553-b7f7864ccb49\",\"modelid\":\"60b5843b-45e7-4ab7-99d3-cd2a761f324c\",\"notebook_comms_target\":\"69ffffa4-ac4c-41da-962d-01a8aed1b8bd\"}];\n",
       "            \n",
       "            Bokeh.embed.embed_items(docs_json, render_items);\n",
       "        });\n",
       "      },\n",
       "      function(Bokeh) {\n",
       "      }\n",
       "    ];\n",
       "  \n",
       "    function run_inline_js() {\n",
       "      for (var i = 0; i < inline_js.length; i++) {\n",
       "        inline_js[i](window.Bokeh);\n",
       "      }\n",
       "    }\n",
       "  \n",
       "    if (window._bokeh_is_loading === 0) {\n",
       "      console.log(\"Bokeh: BokehJS loaded, going straight to plotting\");\n",
       "      run_inline_js();\n",
       "    } else {\n",
       "      load_libs(js_urls, function() {\n",
       "        console.log(\"Bokeh: BokehJS plotting callback run at\", now());\n",
       "        run_inline_js();\n",
       "      });\n",
       "    }\n",
       "  }(this));\n",
       "</script>"
      ]
     },
     "metadata": {},
     "output_type": "display_data"
    },
    {
     "data": {
      "text/html": [
       "<p><code>&lt;Bokeh Notebook handle for <strong>In[25]</strong>&gt;</code></p>"
      ],
      "text/plain": [
       "<bokeh.io._CommsHandle at 0x113f10a10>"
      ]
     },
     "execution_count": 25,
     "metadata": {},
     "output_type": "execute_result"
    }
   ],
   "source": [
    "p = Bar(autompg, label='cyl', values='mpg', agg='max', \n",
    "        title=\"Max MPG by CYL\", legend=None, tools='crosshair')\n",
    "show (p)"
   ]
  },
  {
   "cell_type": "markdown",
   "metadata": {},
   "source": [
    "By passing another column name as the `group` parameter, the aggregations can be further subdivided by the groups in that column, and the bars grouped visually. The example below demonstrates this, as well as adding a legend by specifying its location:"
   ]
  },
  {
   "cell_type": "code",
   "execution_count": 10,
   "metadata": {
    "collapsed": false
   },
   "outputs": [
    {
     "data": {
      "text/html": [
       "\n",
       "\n",
       "    <div class=\"bk-root\">\n",
       "        <div class=\"plotdiv\" id=\"d53277fb-668b-482d-bc0c-9e4b81d2277d\"></div>\n",
       "    </div>\n",
       "<script type=\"text/javascript\">\n",
       "  \n",
       "  (function(global) {\n",
       "    function now() {\n",
       "      return new Date();\n",
       "    }\n",
       "  \n",
       "    var force = \"\";\n",
       "  \n",
       "    if (typeof (window._bokeh_onload_callbacks) === \"undefined\" || force !== \"\") {\n",
       "      window._bokeh_onload_callbacks = [];\n",
       "      window._bokeh_is_loading = undefined;\n",
       "    }\n",
       "  \n",
       "    function run_callbacks() {\n",
       "      window._bokeh_onload_callbacks.forEach(function(callback) { callback() });\n",
       "      delete window._bokeh_onload_callbacks\n",
       "      console.info(\"Bokeh: all callbacks have finished\");\n",
       "    }\n",
       "  \n",
       "    function load_libs(js_urls, callback) {\n",
       "      window._bokeh_onload_callbacks.push(callback);\n",
       "      if (window._bokeh_is_loading > 0) {\n",
       "        console.log(\"Bokeh: BokehJS is being loaded, scheduling callback at\", now());\n",
       "        return null;\n",
       "      }\n",
       "      if (js_urls == null || js_urls.length === 0) {\n",
       "        run_callbacks();\n",
       "        return null;\n",
       "      }\n",
       "      console.log(\"Bokeh: BokehJS not loaded, scheduling load and callback at\", now());\n",
       "      window._bokeh_is_loading = js_urls.length;\n",
       "      for (var i = 0; i < js_urls.length; i++) {\n",
       "        var url = js_urls[i];\n",
       "        var s = document.createElement('script');\n",
       "        s.src = url;\n",
       "        s.async = false;\n",
       "        s.onreadystatechange = s.onload = function() {\n",
       "          window._bokeh_is_loading--;\n",
       "          if (window._bokeh_is_loading === 0) {\n",
       "            console.log(\"Bokeh: all BokehJS libraries loaded\");\n",
       "            run_callbacks()\n",
       "          }\n",
       "        };\n",
       "        s.onerror = function() {\n",
       "          console.warn(\"failed to load library \" + url);\n",
       "        };\n",
       "        console.log(\"Bokeh: injecting script tag for BokehJS library: \", url);\n",
       "        document.getElementsByTagName(\"head\")[0].appendChild(s);\n",
       "      }\n",
       "    };var element = document.getElementById(\"d53277fb-668b-482d-bc0c-9e4b81d2277d\");\n",
       "    if (element == null) {\n",
       "      console.log(\"Bokeh: ERROR: autoload.js configured with elementid 'd53277fb-668b-482d-bc0c-9e4b81d2277d' but no matching script tag was found. \")\n",
       "      return false;\n",
       "    }\n",
       "  \n",
       "    var js_urls = [];\n",
       "  \n",
       "    var inline_js = [\n",
       "      function(Bokeh) {\n",
       "        Bokeh.$(function() {\n",
       "            var docs_json = {\"19160490-28dd-49e9-b0ad-93a17ca739db\":{\"roots\":{\"references\":[{\"attributes\":{\"callback\":null,\"column_names\":[\"line_color\",\"line_alpha\",\"color\",\"fill_alpha\",\"height\",\"width\",\"y\",\"x\",\"label\"],\"data\":{\"chart_index\":[{\"origin\":3,\"yr\":75}],\"color\":[\"#407ee7\"],\"fill_alpha\":[0.8],\"height\":[26.5],\"label\":[{\"origin\":3,\"yr\":75}],\"line_alpha\":[1.0],\"line_color\":[\"white\"],\"origin\":[3],\"width\":[0.2],\"x\":[\"75:0.5\"],\"y\":[13.25],\"yr\":[75]}},\"id\":\"daf83a47-c784-4e4b-a49b-5aa492fec216\",\"type\":\"ColumnDataSource\"},{\"attributes\":{\"fill_alpha\":{\"field\":\"fill_alpha\"},\"fill_color\":{\"field\":\"color\"},\"height\":{\"field\":\"height\",\"units\":\"data\"},\"line_color\":{\"field\":\"line_color\"},\"width\":{\"field\":\"width\",\"units\":\"data\"},\"x\":{\"field\":\"x\"},\"y\":{\"field\":\"y\"}},\"id\":\"4a29230e-e52a-4b16-95fd-a6b05b005eed\",\"type\":\"Rect\"},{\"attributes\":{\"callback\":null,\"column_names\":[\"line_color\",\"line_alpha\",\"color\",\"fill_alpha\",\"height\",\"width\",\"y\",\"x\",\"label\"],\"data\":{\"chart_index\":[{\"origin\":3,\"yr\":79}],\"color\":[\"#407ee7\"],\"fill_alpha\":[0.8],\"height\":[32.95],\"label\":[{\"origin\":3,\"yr\":79}],\"line_alpha\":[1.0],\"line_color\":[\"white\"],\"origin\":[3],\"width\":[0.2],\"x\":[\"79:0.5\"],\"y\":[16.475],\"yr\":[79]}},\"id\":\"069fd98a-66c9-4356-81e2-0785df5e596c\",\"type\":\"ColumnDataSource\"},{\"attributes\":{\"callback\":null,\"column_names\":[\"line_color\",\"line_alpha\",\"color\",\"fill_alpha\",\"height\",\"width\",\"y\",\"x\",\"label\"],\"data\":{\"chart_index\":[{\"origin\":3,\"yr\":70}],\"color\":[\"#407ee7\"],\"fill_alpha\":[0.8],\"height\":[25.5],\"label\":[{\"origin\":3,\"yr\":70}],\"line_alpha\":[1.0],\"line_color\":[\"white\"],\"origin\":[3],\"width\":[0.2],\"x\":[\"70:0.5\"],\"y\":[12.75],\"yr\":[70]}},\"id\":\"c2e96a6b-d290-4d26-8751-c86bfaf903d5\",\"type\":\"ColumnDataSource\"},{\"attributes\":{\"fill_alpha\":{\"field\":\"fill_alpha\"},\"fill_color\":{\"field\":\"color\"},\"height\":{\"field\":\"height\",\"units\":\"data\"},\"line_color\":{\"field\":\"line_color\"},\"width\":{\"field\":\"width\",\"units\":\"data\"},\"x\":{\"field\":\"x\"},\"y\":{\"field\":\"y\"}},\"id\":\"582fcc92-08a3-4acb-b03f-e0ebaa41f9dd\",\"type\":\"Rect\"},{\"attributes\":{\"fill_alpha\":{\"field\":\"fill_alpha\"},\"fill_color\":{\"field\":\"color\"},\"height\":{\"field\":\"height\",\"units\":\"data\"},\"line_color\":{\"field\":\"line_color\"},\"width\":{\"field\":\"width\",\"units\":\"data\"},\"x\":{\"field\":\"x\"},\"y\":{\"field\":\"y\"}},\"id\":\"16119002-75a0-4c84-9b0c-51f3898d57ff\",\"type\":\"Rect\"},{\"attributes\":{\"data_source\":{\"id\":\"58b58ed5-053c-42c3-b6f9-62fe58126161\",\"type\":\"ColumnDataSource\"},\"glyph\":{\"id\":\"2bdfd52b-52f1-4b00-8dc2-2f2ac8f7aa76\",\"type\":\"Rect\"},\"hover_glyph\":null,\"nonselection_glyph\":null,\"selection_glyph\":null},\"id\":\"3be65700-8f1f-41f9-8e88-fa5e79fe212c\",\"type\":\"GlyphRenderer\"},{\"attributes\":{\"callback\":null,\"column_names\":[\"line_color\",\"line_alpha\",\"color\",\"fill_alpha\",\"height\",\"width\",\"y\",\"x\",\"label\"],\"data\":{\"chart_index\":[{\"origin\":3,\"yr\":74}],\"color\":[\"#407ee7\"],\"fill_alpha\":[0.8],\"height\":[31.0],\"label\":[{\"origin\":3,\"yr\":74}],\"line_alpha\":[1.0],\"line_color\":[\"white\"],\"origin\":[3],\"width\":[0.2],\"x\":[\"74:0.5\"],\"y\":[15.5],\"yr\":[74]}},\"id\":\"8bdd2f45-f83e-4017-ade0-68fdb5126034\",\"type\":\"ColumnDataSource\"},{\"attributes\":{\"data_source\":{\"id\":\"92459153-cb36-41c5-a485-ec9f4715648e\",\"type\":\"ColumnDataSource\"},\"glyph\":{\"id\":\"14e4bcf9-0551-4d33-b9b5-d6f1675cf53f\",\"type\":\"Rect\"},\"hover_glyph\":null,\"nonselection_glyph\":null,\"selection_glyph\":null},\"id\":\"da168c8a-145e-4b0a-ba77-8ef68dc80c8b\",\"type\":\"GlyphRenderer\"},{\"attributes\":{\"fill_alpha\":{\"field\":\"fill_alpha\"},\"fill_color\":{\"field\":\"color\"},\"height\":{\"field\":\"height\",\"units\":\"data\"},\"line_color\":{\"field\":\"line_color\"},\"width\":{\"field\":\"width\",\"units\":\"data\"},\"x\":{\"field\":\"x\"},\"y\":{\"field\":\"y\"}},\"id\":\"2900348c-121b-45e8-8552-1900ce1119bd\",\"type\":\"Rect\"},{\"attributes\":{\"callback\":null,\"column_names\":[\"line_color\",\"line_alpha\",\"color\",\"fill_alpha\",\"height\",\"width\",\"y\",\"x\",\"label\"],\"data\":{\"chart_index\":[{\"origin\":3,\"yr\":77}],\"color\":[\"#407ee7\"],\"fill_alpha\":[0.8],\"height\":[28.0],\"label\":[{\"origin\":3,\"yr\":77}],\"line_alpha\":[1.0],\"line_color\":[\"white\"],\"origin\":[3],\"width\":[0.2],\"x\":[\"77:0.5\"],\"y\":[14.0],\"yr\":[77]}},\"id\":\"3721a17b-d7b8-4c12-bb12-262c5b3479cf\",\"type\":\"ColumnDataSource\"},{\"attributes\":{\"callback\":null,\"end\":42.0},\"id\":\"5d8f2195-ce08-47ad-a8ba-10843dd78438\",\"type\":\"Range1d\"},{\"attributes\":{\"fill_alpha\":{\"field\":\"fill_alpha\"},\"fill_color\":{\"field\":\"color\"},\"height\":{\"field\":\"height\",\"units\":\"data\"},\"line_color\":{\"field\":\"line_color\"},\"width\":{\"field\":\"width\",\"units\":\"data\"},\"x\":{\"field\":\"x\"},\"y\":{\"field\":\"y\"}},\"id\":\"63030852-644a-44f4-a3a5-050a3a04fbe0\",\"type\":\"Rect\"},{\"attributes\":{\"data_source\":{\"id\":\"793b067e-bfee-4345-807b-8b27bef77e8f\",\"type\":\"ColumnDataSource\"},\"glyph\":{\"id\":\"889d8f23-d1bd-47c3-b747-14a4e2f93e5b\",\"type\":\"Rect\"},\"hover_glyph\":null,\"nonselection_glyph\":null,\"selection_glyph\":null},\"id\":\"e8a496a2-6070-46f6-b82b-bc0829e586c9\",\"type\":\"GlyphRenderer\"},{\"attributes\":{\"callback\":null,\"column_names\":[\"line_color\",\"line_alpha\",\"color\",\"fill_alpha\",\"height\",\"width\",\"y\",\"x\",\"label\"],\"data\":{\"chart_index\":[{\"origin\":1,\"yr\":73}],\"color\":[\"#f22c40\"],\"fill_alpha\":[0.8],\"height\":[14.0],\"label\":[{\"origin\":1,\"yr\":73}],\"line_alpha\":[1.0],\"line_color\":[\"white\"],\"origin\":[1],\"width\":[0.2],\"x\":[\"73:0.25\"],\"y\":[7.0],\"yr\":[73]}},\"id\":\"003dd500-1d95-425e-8974-b455f63be00c\",\"type\":\"ColumnDataSource\"},{\"attributes\":{\"data_source\":{\"id\":\"2e755f13-6d2d-46cd-bf15-43a0904f826e\",\"type\":\"ColumnDataSource\"},\"glyph\":{\"id\":\"582fcc92-08a3-4acb-b03f-e0ebaa41f9dd\",\"type\":\"Rect\"},\"hover_glyph\":null,\"nonselection_glyph\":null,\"selection_glyph\":null},\"id\":\"208d325e-96a8-4238-8851-5ca9e7ebf3d8\",\"type\":\"GlyphRenderer\"},{\"attributes\":{\"fill_alpha\":{\"field\":\"fill_alpha\"},\"fill_color\":{\"field\":\"color\"},\"height\":{\"field\":\"height\",\"units\":\"data\"},\"line_color\":{\"field\":\"line_color\"},\"width\":{\"field\":\"width\",\"units\":\"data\"},\"x\":{\"field\":\"x\"},\"y\":{\"field\":\"y\"}},\"id\":\"efcf7271-045e-400e-8720-9645a570b4e2\",\"type\":\"Rect\"},{\"attributes\":{\"fill_alpha\":{\"field\":\"fill_alpha\"},\"fill_color\":{\"field\":\"color\"},\"height\":{\"field\":\"height\",\"units\":\"data\"},\"line_color\":{\"field\":\"line_color\"},\"width\":{\"field\":\"width\",\"units\":\"data\"},\"x\":{\"field\":\"x\"},\"y\":{\"field\":\"y\"}},\"id\":\"dd5d6738-1589-439d-be8a-a4ce9234401c\",\"type\":\"Rect\"},{\"attributes\":{\"data_source\":{\"id\":\"8bdd2f45-f83e-4017-ade0-68fdb5126034\",\"type\":\"ColumnDataSource\"},\"glyph\":{\"id\":\"2900348c-121b-45e8-8552-1900ce1119bd\",\"type\":\"Rect\"},\"hover_glyph\":null,\"nonselection_glyph\":null,\"selection_glyph\":null},\"id\":\"096a1da2-a109-4fd8-8f5a-09a240b4268b\",\"type\":\"GlyphRenderer\"},{\"attributes\":{\"fill_alpha\":{\"field\":\"fill_alpha\"},\"fill_color\":{\"field\":\"color\"},\"height\":{\"field\":\"height\",\"units\":\"data\"},\"line_color\":{\"field\":\"line_color\"},\"width\":{\"field\":\"width\",\"units\":\"data\"},\"x\":{\"field\":\"x\"},\"y\":{\"field\":\"y\"}},\"id\":\"dd350ab2-83c8-4cd2-bbe6-8af5cf7acc7d\",\"type\":\"Rect\"},{\"attributes\":{\"data_source\":{\"id\":\"1481d607-a39e-4bd7-b14c-83c3c5b22794\",\"type\":\"ColumnDataSource\"},\"glyph\":{\"id\":\"63030852-644a-44f4-a3a5-050a3a04fbe0\",\"type\":\"Rect\"},\"hover_glyph\":null,\"nonselection_glyph\":null,\"selection_glyph\":null},\"id\":\"938a3650-4d89-4c33-99cf-06147342ff26\",\"type\":\"GlyphRenderer\"},{\"attributes\":{\"callback\":null,\"factors\":[\"70\",\"71\",\"72\",\"73\",\"74\",\"75\",\"76\",\"77\",\"78\",\"79\",\"80\",\"81\",\"82\"]},\"id\":\"5bf5ad49-4953-48ba-9d79-550ff8bf0ccf\",\"type\":\"FactorRange\"},{\"attributes\":{\"data_source\":{\"id\":\"bb6a04d2-be71-420f-ba82-e763e7a55f03\",\"type\":\"ColumnDataSource\"},\"glyph\":{\"id\":\"538190d4-43e4-486a-8a1b-56444933d9dc\",\"type\":\"Rect\"},\"hover_glyph\":null,\"nonselection_glyph\":null,\"selection_glyph\":null},\"id\":\"d9ab5d73-2be8-431b-9a27-a6d8de45e4ef\",\"type\":\"GlyphRenderer\"},{\"attributes\":{\"data_source\":{\"id\":\"a0aed7e0-2496-4166-b67e-f5739765cf3b\",\"type\":\"ColumnDataSource\"},\"glyph\":{\"id\":\"0007c5c8-5850-4210-b583-7285fe7a3b98\",\"type\":\"Rect\"},\"hover_glyph\":null,\"nonselection_glyph\":null,\"selection_glyph\":null},\"id\":\"e989e300-f0b1-4fc7-bebb-eab7578c78f7\",\"type\":\"GlyphRenderer\"},{\"attributes\":{\"fill_alpha\":{\"field\":\"fill_alpha\"},\"fill_color\":{\"field\":\"color\"},\"height\":{\"field\":\"height\",\"units\":\"data\"},\"line_color\":{\"field\":\"line_color\"},\"width\":{\"field\":\"width\",\"units\":\"data\"},\"x\":{\"field\":\"x\"},\"y\":{\"field\":\"y\"}},\"id\":\"4e3a36eb-b809-49f6-97cc-2cf681c06dae\",\"type\":\"Rect\"},{\"attributes\":{\"callback\":null,\"column_names\":[\"line_color\",\"line_alpha\",\"color\",\"fill_alpha\",\"height\",\"width\",\"y\",\"x\",\"label\"],\"data\":{\"chart_index\":[{\"origin\":3,\"yr\":81}],\"color\":[\"#407ee7\"],\"fill_alpha\":[0.8],\"height\":[33.3],\"label\":[{\"origin\":3,\"yr\":81}],\"line_alpha\":[1.0],\"line_color\":[\"white\"],\"origin\":[3],\"width\":[0.2],\"x\":[\"81:0.5\"],\"y\":[16.65],\"yr\":[81]}},\"id\":\"dafe99dd-21b8-4b02-983c-a28fcc4be418\",\"type\":\"ColumnDataSource\"},{\"attributes\":{\"fill_alpha\":{\"field\":\"fill_alpha\"},\"fill_color\":{\"field\":\"color\"},\"height\":{\"field\":\"height\",\"units\":\"data\"},\"line_color\":{\"field\":\"line_color\"},\"width\":{\"field\":\"width\",\"units\":\"data\"},\"x\":{\"field\":\"x\"},\"y\":{\"field\":\"y\"}},\"id\":\"1861d4c7-39bd-45ef-bc9d-9372665f3b89\",\"type\":\"Rect\"},{\"attributes\":{\"fill_alpha\":{\"field\":\"fill_alpha\"},\"fill_color\":{\"field\":\"color\"},\"height\":{\"field\":\"height\",\"units\":\"data\"},\"line_color\":{\"field\":\"line_color\"},\"width\":{\"field\":\"width\",\"units\":\"data\"},\"x\":{\"field\":\"x\"},\"y\":{\"field\":\"y\"}},\"id\":\"5284127d-7ce1-4fdb-9232-4b35dfa281ae\",\"type\":\"Rect\"},{\"attributes\":{\"data_source\":{\"id\":\"4589fcc3-27d0-4fad-acc5-85e885271dc9\",\"type\":\"ColumnDataSource\"},\"glyph\":{\"id\":\"a16d344a-4151-44fa-897c-48572c3b5e9e\",\"type\":\"Rect\"},\"hover_glyph\":null,\"nonselection_glyph\":null,\"selection_glyph\":null},\"id\":\"2736eda2-92cb-4704-9d31-b13333afde80\",\"type\":\"GlyphRenderer\"},{\"attributes\":{\"data_source\":{\"id\":\"c53fb898-938f-4caf-b33d-6dc14187798f\",\"type\":\"ColumnDataSource\"},\"glyph\":{\"id\":\"88d0b0cb-caf7-48d1-a1c8-03a5c6d74a81\",\"type\":\"Rect\"},\"hover_glyph\":null,\"nonselection_glyph\":null,\"selection_glyph\":null},\"id\":\"936bd165-484c-4623-990f-d5584f7f14f5\",\"type\":\"GlyphRenderer\"},{\"attributes\":{\"callback\":null,\"column_names\":[\"line_color\",\"line_alpha\",\"color\",\"fill_alpha\",\"height\",\"width\",\"y\",\"x\",\"label\"],\"data\":{\"chart_index\":[{\"origin\":2,\"yr\":72}],\"color\":[\"#5ab738\"],\"fill_alpha\":[0.8],\"height\":[22.0],\"label\":[{\"origin\":2,\"yr\":72}],\"line_alpha\":[1.0],\"line_color\":[\"white\"],\"origin\":[2],\"width\":[0.2],\"x\":[\"72:0.75\"],\"y\":[11.0],\"yr\":[72]}},\"id\":\"db83baff-43d0-43b1-925f-25fdc628c428\",\"type\":\"ColumnDataSource\"},{\"attributes\":{\"axis_label\":\"Yr\",\"formatter\":{\"id\":\"6a8930f7-7dad-4bce-8ee8-c22d6ea4f167\",\"type\":\"CategoricalTickFormatter\"},\"major_label_orientation\":0.7853981633974483,\"plot\":{\"id\":\"9ba7a689-ec61-4f8c-9f09-ebbe3733fdd5\",\"subtype\":\"Chart\",\"type\":\"Plot\"},\"ticker\":{\"id\":\"e74a42d0-0383-4b2d-8cdf-29fd0ae081b5\",\"type\":\"CategoricalTicker\"}},\"id\":\"a83552f8-88cd-420c-a151-72ef140b1192\",\"type\":\"CategoricalAxis\"},{\"attributes\":{\"callback\":null,\"column_names\":[\"line_color\",\"line_alpha\",\"color\",\"fill_alpha\",\"height\",\"width\",\"y\",\"x\",\"label\"],\"data\":{\"chart_index\":[{\"origin\":2,\"yr\":79}],\"color\":[\"#5ab738\"],\"fill_alpha\":[0.8],\"height\":[29.549999999999997],\"label\":[{\"origin\":2,\"yr\":79}],\"line_alpha\":[1.0],\"line_color\":[\"white\"],\"origin\":[2],\"width\":[0.2],\"x\":[\"79:0.75\"],\"y\":[14.774999999999999],\"yr\":[79]}},\"id\":\"793b067e-bfee-4345-807b-8b27bef77e8f\",\"type\":\"ColumnDataSource\"},{\"attributes\":{\"data_source\":{\"id\":\"7d98443c-6473-4083-bdda-3d7036b9f55a\",\"type\":\"ColumnDataSource\"},\"glyph\":{\"id\":\"d7d58c26-862e-49a6-9116-d4f2f03c15c9\",\"type\":\"Rect\"},\"hover_glyph\":null,\"nonselection_glyph\":null,\"selection_glyph\":null},\"id\":\"641e3771-8c47-4fb2-8d6f-94ea70e8b6cd\",\"type\":\"GlyphRenderer\"},{\"attributes\":{\"data_source\":{\"id\":\"52537f5d-d858-445a-94a3-0a815729d3cf\",\"type\":\"ColumnDataSource\"},\"glyph\":{\"id\":\"a29e289e-802e-43cd-a82b-234d23f881ba\",\"type\":\"Rect\"},\"hover_glyph\":null,\"nonselection_glyph\":null,\"selection_glyph\":null},\"id\":\"99194cb3-2e8f-487d-8d74-dab2d9a61940\",\"type\":\"GlyphRenderer\"},{\"attributes\":{\"fill_alpha\":{\"field\":\"fill_alpha\"},\"fill_color\":{\"field\":\"color\"},\"height\":{\"field\":\"height\",\"units\":\"data\"},\"line_color\":{\"field\":\"line_color\"},\"width\":{\"field\":\"width\",\"units\":\"data\"},\"x\":{\"field\":\"x\"},\"y\":{\"field\":\"y\"}},\"id\":\"d7d58c26-862e-49a6-9116-d4f2f03c15c9\",\"type\":\"Rect\"},{\"attributes\":{\"fill_alpha\":{\"field\":\"fill_alpha\"},\"fill_color\":{\"field\":\"color\"},\"height\":{\"field\":\"height\",\"units\":\"data\"},\"line_color\":{\"field\":\"line_color\"},\"width\":{\"field\":\"width\",\"units\":\"data\"},\"x\":{\"field\":\"x\"},\"y\":{\"field\":\"y\"}},\"id\":\"9ada4288-abed-48ab-aa3c-7b51332a3ee1\",\"type\":\"Rect\"},{\"attributes\":{\"callback\":null,\"column_names\":[\"line_color\",\"line_alpha\",\"color\",\"fill_alpha\",\"height\",\"width\",\"y\",\"x\",\"label\"],\"data\":{\"chart_index\":[{\"origin\":1,\"yr\":78}],\"color\":[\"#f22c40\"],\"fill_alpha\":[0.8],\"height\":[20.2],\"label\":[{\"origin\":1,\"yr\":78}],\"line_alpha\":[1.0],\"line_color\":[\"white\"],\"origin\":[1],\"width\":[0.2],\"x\":[\"78:0.25\"],\"y\":[10.1],\"yr\":[78]}},\"id\":\"7caff0dc-89a1-44df-b8d9-0674ecc0f64d\",\"type\":\"ColumnDataSource\"},{\"attributes\":{\"plot\":null,\"text\":\"Median MPG by YR, grouped by ORIGIN\"},\"id\":\"8e16736e-9c05-48f7-8bb7-90645423fe73\",\"type\":\"Title\"},{\"attributes\":{\"callback\":null,\"column_names\":[\"line_color\",\"line_alpha\",\"color\",\"fill_alpha\",\"height\",\"width\",\"y\",\"x\",\"label\"],\"data\":{\"chart_index\":[{\"origin\":3,\"yr\":78}],\"color\":[\"#407ee7\"],\"fill_alpha\":[0.8],\"height\":[28.5],\"label\":[{\"origin\":3,\"yr\":78}],\"line_alpha\":[1.0],\"line_color\":[\"white\"],\"origin\":[3],\"width\":[0.2],\"x\":[\"78:0.5\"],\"y\":[14.25],\"yr\":[78]}},\"id\":\"1481d607-a39e-4bd7-b14c-83c3c5b22794\",\"type\":\"ColumnDataSource\"},{\"attributes\":{},\"id\":\"6a8930f7-7dad-4bce-8ee8-c22d6ea4f167\",\"type\":\"CategoricalTickFormatter\"},{\"attributes\":{\"data_source\":{\"id\":\"063a19cf-49dc-4fa8-913e-04e8e7eee5ca\",\"type\":\"ColumnDataSource\"},\"glyph\":{\"id\":\"79a50608-0e95-4d62-bb71-cc54a657d908\",\"type\":\"Rect\"},\"hover_glyph\":null,\"nonselection_glyph\":null,\"selection_glyph\":null},\"id\":\"f06844ec-6ff7-426a-b681-45e6c50ae109\",\"type\":\"GlyphRenderer\"},{\"attributes\":{\"fill_alpha\":{\"field\":\"fill_alpha\"},\"fill_color\":{\"field\":\"color\"},\"height\":{\"field\":\"height\",\"units\":\"data\"},\"line_color\":{\"field\":\"line_color\"},\"width\":{\"field\":\"width\",\"units\":\"data\"},\"x\":{\"field\":\"x\"},\"y\":{\"field\":\"y\"}},\"id\":\"014fcd4a-b39a-4074-81c0-05bde494bcc1\",\"type\":\"Rect\"},{\"attributes\":{\"data_source\":{\"id\":\"4469ff95-77e5-49af-a0a2-55e67203f5fd\",\"type\":\"ColumnDataSource\"},\"glyph\":{\"id\":\"c08a955f-ea3a-436e-a937-334fe9515ffd\",\"type\":\"Rect\"},\"hover_glyph\":null,\"nonselection_glyph\":null,\"selection_glyph\":null},\"id\":\"179d88ad-ee89-4e77-8bf0-79db1870dd5a\",\"type\":\"GlyphRenderer\"},{\"attributes\":{\"fill_alpha\":{\"field\":\"fill_alpha\"},\"fill_color\":{\"field\":\"color\"},\"height\":{\"field\":\"height\",\"units\":\"data\"},\"line_color\":{\"field\":\"line_color\"},\"width\":{\"field\":\"width\",\"units\":\"data\"},\"x\":{\"field\":\"x\"},\"y\":{\"field\":\"y\"}},\"id\":\"7d1d9ddc-ba09-484a-9785-942a6b6c5202\",\"type\":\"Rect\"},{\"attributes\":{\"callback\":null,\"column_names\":[\"line_color\",\"line_alpha\",\"color\",\"fill_alpha\",\"height\",\"width\",\"y\",\"x\",\"label\"],\"data\":{\"chart_index\":[{\"origin\":2,\"yr\":81}],\"color\":[\"#5ab738\"],\"fill_alpha\":[0.8],\"height\":[30.7],\"label\":[{\"origin\":2,\"yr\":81}],\"line_alpha\":[1.0],\"line_color\":[\"white\"],\"origin\":[2],\"width\":[0.2],\"x\":[\"81:0.75\"],\"y\":[15.35],\"yr\":[81]}},\"id\":\"58b58ed5-053c-42c3-b6f9-62fe58126161\",\"type\":\"ColumnDataSource\"},{\"attributes\":{\"data_source\":{\"id\":\"37917fca-a109-4360-a8a5-0b369a2358d9\",\"type\":\"ColumnDataSource\"},\"glyph\":{\"id\":\"a20156fc-9a8f-47c0-8fe6-b1ce14993883\",\"type\":\"Rect\"},\"hover_glyph\":null,\"nonselection_glyph\":null,\"selection_glyph\":null},\"id\":\"0c544241-98f2-40e8-aa0c-939fb1efe304\",\"type\":\"GlyphRenderer\"},{\"attributes\":{\"callback\":null,\"column_names\":[\"line_color\",\"line_alpha\",\"color\",\"fill_alpha\",\"height\",\"width\",\"y\",\"x\",\"label\"],\"data\":{\"chart_index\":[{\"origin\":1,\"yr\":77}],\"color\":[\"#f22c40\"],\"fill_alpha\":[0.8],\"height\":[18.0],\"label\":[{\"origin\":1,\"yr\":77}],\"line_alpha\":[1.0],\"line_color\":[\"white\"],\"origin\":[1],\"width\":[0.2],\"x\":[\"77:0.25\"],\"y\":[9.0],\"yr\":[77]}},\"id\":\"53705757-70b8-4290-9655-527c5c4bb385\",\"type\":\"ColumnDataSource\"},{\"attributes\":{\"fill_alpha\":{\"field\":\"fill_alpha\"},\"fill_color\":{\"field\":\"color\"},\"height\":{\"field\":\"height\",\"units\":\"data\"},\"line_color\":{\"field\":\"line_color\"},\"width\":{\"field\":\"width\",\"units\":\"data\"},\"x\":{\"field\":\"x\"},\"y\":{\"field\":\"y\"}},\"id\":\"c08a955f-ea3a-436e-a937-334fe9515ffd\",\"type\":\"Rect\"},{\"attributes\":{\"data_source\":{\"id\":\"dafe99dd-21b8-4b02-983c-a28fcc4be418\",\"type\":\"ColumnDataSource\"},\"glyph\":{\"id\":\"4c0c4212-6aa7-418a-a0e0-24a78875e3f5\",\"type\":\"Rect\"},\"hover_glyph\":null,\"nonselection_glyph\":null,\"selection_glyph\":null},\"id\":\"236f5e54-5e33-4f65-b8ad-710c5a005d90\",\"type\":\"GlyphRenderer\"},{\"attributes\":{\"callback\":null,\"column_names\":[\"line_color\",\"line_alpha\",\"color\",\"fill_alpha\",\"height\",\"width\",\"y\",\"x\",\"label\"],\"data\":{\"chart_index\":[{\"origin\":1,\"yr\":82}],\"color\":[\"#f22c40\"],\"fill_alpha\":[0.8],\"height\":[28.0],\"label\":[{\"origin\":1,\"yr\":82}],\"line_alpha\":[1.0],\"line_color\":[\"white\"],\"origin\":[1],\"width\":[0.2],\"x\":[\"82:0.25\"],\"y\":[14.0],\"yr\":[82]}},\"id\":\"52537f5d-d858-445a-94a3-0a815729d3cf\",\"type\":\"ColumnDataSource\"},{\"attributes\":{\"data_source\":{\"id\":\"e24397bb-50ad-470f-a7ec-81c50038d017\",\"type\":\"ColumnDataSource\"},\"glyph\":{\"id\":\"8ee3d12d-b88e-48b5-941d-8699a4233179\",\"type\":\"Rect\"},\"hover_glyph\":null,\"nonselection_glyph\":null,\"selection_glyph\":null},\"id\":\"3324529d-24d6-4793-8852-776ad6eac655\",\"type\":\"GlyphRenderer\"},{\"attributes\":{\"callback\":null,\"column_names\":[\"line_color\",\"line_alpha\",\"color\",\"fill_alpha\",\"height\",\"width\",\"y\",\"x\",\"label\"],\"data\":{\"chart_index\":[{\"origin\":2,\"yr\":70}],\"color\":[\"#5ab738\"],\"fill_alpha\":[0.8],\"height\":[25.0],\"label\":[{\"origin\":2,\"yr\":70}],\"line_alpha\":[1.0],\"line_color\":[\"white\"],\"origin\":[2],\"width\":[0.2],\"x\":[\"70:0.75\"],\"y\":[12.5],\"yr\":[70]}},\"id\":\"bb6a04d2-be71-420f-ba82-e763e7a55f03\",\"type\":\"ColumnDataSource\"},{\"attributes\":{\"data_source\":{\"id\":\"8115d93b-4879-4665-bafa-eab84c4a4137\",\"type\":\"ColumnDataSource\"},\"glyph\":{\"id\":\"f1b1f9eb-92da-4c5f-bd58-423c37505ba0\",\"type\":\"Rect\"},\"hover_glyph\":null,\"nonselection_glyph\":null,\"selection_glyph\":null},\"id\":\"651bce3d-6dfd-4d92-bc1d-4f09e229ae0b\",\"type\":\"GlyphRenderer\"},{\"attributes\":{\"fill_alpha\":{\"field\":\"fill_alpha\"},\"fill_color\":{\"field\":\"color\"},\"height\":{\"field\":\"height\",\"units\":\"data\"},\"line_color\":{\"field\":\"line_color\"},\"width\":{\"field\":\"width\",\"units\":\"data\"},\"x\":{\"field\":\"x\"},\"y\":{\"field\":\"y\"}},\"id\":\"2bdfd52b-52f1-4b00-8dc2-2f2ac8f7aa76\",\"type\":\"Rect\"},{\"attributes\":{\"data_source\":{\"id\":\"53705757-70b8-4290-9655-527c5c4bb385\",\"type\":\"ColumnDataSource\"},\"glyph\":{\"id\":\"ec2914f2-3fb9-4609-8018-6e59ce33b24a\",\"type\":\"Rect\"},\"hover_glyph\":null,\"nonselection_glyph\":null,\"selection_glyph\":null},\"id\":\"1919df6a-7392-47a5-9b57-4370113924de\",\"type\":\"GlyphRenderer\"},{\"attributes\":{},\"id\":\"ff62b034-97ed-47e9-972e-aae7be5206ac\",\"type\":\"BasicTicker\"},{\"attributes\":{\"fill_alpha\":{\"field\":\"fill_alpha\"},\"fill_color\":{\"field\":\"color\"},\"height\":{\"field\":\"height\",\"units\":\"data\"},\"line_color\":{\"field\":\"line_color\"},\"width\":{\"field\":\"width\",\"units\":\"data\"},\"x\":{\"field\":\"x\"},\"y\":{\"field\":\"y\"}},\"id\":\"d00d17ab-4458-4e99-af12-17ba6a96b426\",\"type\":\"Rect\"},{\"attributes\":{\"data_source\":{\"id\":\"7caff0dc-89a1-44df-b8d9-0674ecc0f64d\",\"type\":\"ColumnDataSource\"},\"glyph\":{\"id\":\"014fcd4a-b39a-4074-81c0-05bde494bcc1\",\"type\":\"Rect\"},\"hover_glyph\":null,\"nonselection_glyph\":null,\"selection_glyph\":null},\"id\":\"f711958e-f903-42f1-9054-3601585c9877\",\"type\":\"GlyphRenderer\"},{\"attributes\":{\"callback\":null,\"column_names\":[\"line_color\",\"line_alpha\",\"color\",\"fill_alpha\",\"height\",\"width\",\"y\",\"x\",\"label\"],\"data\":{\"chart_index\":[{\"origin\":2,\"yr\":71}],\"color\":[\"#5ab738\"],\"fill_alpha\":[0.8],\"height\":[29.0],\"label\":[{\"origin\":2,\"yr\":71}],\"line_alpha\":[1.0],\"line_color\":[\"white\"],\"origin\":[2],\"width\":[0.2],\"x\":[\"71:0.75\"],\"y\":[14.5],\"yr\":[71]}},\"id\":\"6480a946-6eb6-42d0-82ae-83a444a7fa3e\",\"type\":\"ColumnDataSource\"},{\"attributes\":{\"callback\":null,\"column_names\":[\"line_color\",\"line_alpha\",\"color\",\"fill_alpha\",\"height\",\"width\",\"y\",\"x\",\"label\"],\"data\":{\"chart_index\":[{\"origin\":1,\"yr\":80}],\"color\":[\"#f22c40\"],\"fill_alpha\":[0.8],\"height\":[27.15],\"label\":[{\"origin\":1,\"yr\":80}],\"line_alpha\":[1.0],\"line_color\":[\"white\"],\"origin\":[1],\"width\":[0.2],\"x\":[\"80:0.25\"],\"y\":[13.575],\"yr\":[80]}},\"id\":\"c53fb898-938f-4caf-b33d-6dc14187798f\",\"type\":\"ColumnDataSource\"},{\"attributes\":{\"data_source\":{\"id\":\"003dd500-1d95-425e-8974-b455f63be00c\",\"type\":\"ColumnDataSource\"},\"glyph\":{\"id\":\"16119002-75a0-4c84-9b0c-51f3898d57ff\",\"type\":\"Rect\"},\"hover_glyph\":null,\"nonselection_glyph\":null,\"selection_glyph\":null},\"id\":\"dca0c009-cb82-4eb6-b527-ff9eaf596296\",\"type\":\"GlyphRenderer\"},{\"attributes\":{\"callback\":null,\"column_names\":[\"line_color\",\"line_alpha\",\"color\",\"fill_alpha\",\"height\",\"width\",\"y\",\"x\",\"label\"],\"data\":{\"chart_index\":[{\"origin\":2,\"yr\":80}],\"color\":[\"#5ab738\"],\"fill_alpha\":[0.8],\"height\":[35.7],\"label\":[{\"origin\":2,\"yr\":80}],\"line_alpha\":[1.0],\"line_color\":[\"white\"],\"origin\":[2],\"width\":[0.2],\"x\":[\"80:0.75\"],\"y\":[17.85],\"yr\":[80]}},\"id\":\"7bc403c0-5692-4031-b5d7-39df80334455\",\"type\":\"ColumnDataSource\"},{\"attributes\":{\"callback\":null,\"column_names\":[\"line_color\",\"line_alpha\",\"color\",\"fill_alpha\",\"height\",\"width\",\"y\",\"x\",\"label\"],\"data\":{\"chart_index\":[{\"origin\":3,\"yr\":82}],\"color\":[\"#407ee7\"],\"fill_alpha\":[0.8],\"height\":[36.0],\"label\":[{\"origin\":3,\"yr\":82}],\"line_alpha\":[1.0],\"line_color\":[\"white\"],\"origin\":[3],\"width\":[0.2],\"x\":[\"82:0.5\"],\"y\":[18.0],\"yr\":[82]}},\"id\":\"92459153-cb36-41c5-a485-ec9f4715648e\",\"type\":\"ColumnDataSource\"},{\"attributes\":{\"callback\":null,\"column_names\":[\"line_color\",\"line_alpha\",\"color\",\"fill_alpha\",\"height\",\"width\",\"y\",\"x\",\"label\"],\"data\":{\"chart_index\":[{\"origin\":2,\"yr\":73}],\"color\":[\"#5ab738\"],\"fill_alpha\":[0.8],\"height\":[24.0],\"label\":[{\"origin\":2,\"yr\":73}],\"line_alpha\":[1.0],\"line_color\":[\"white\"],\"origin\":[2],\"width\":[0.2],\"x\":[\"73:0.75\"],\"y\":[12.0],\"yr\":[73]}},\"id\":\"063a19cf-49dc-4fa8-913e-04e8e7eee5ca\",\"type\":\"ColumnDataSource\"},{\"attributes\":{\"callback\":null,\"column_names\":[\"line_color\",\"line_alpha\",\"color\",\"fill_alpha\",\"height\",\"width\",\"y\",\"x\",\"label\"],\"data\":{\"chart_index\":[{\"origin\":3,\"yr\":80}],\"color\":[\"#407ee7\"],\"fill_alpha\":[0.8],\"height\":[33.8],\"label\":[{\"origin\":3,\"yr\":80}],\"line_alpha\":[1.0],\"line_color\":[\"white\"],\"origin\":[3],\"width\":[0.2],\"x\":[\"80:0.5\"],\"y\":[16.9],\"yr\":[80]}},\"id\":\"b119aae1-39d9-4a04-a209-6ef988436800\",\"type\":\"ColumnDataSource\"},{\"attributes\":{\"below\":[{\"id\":\"a83552f8-88cd-420c-a151-72ef140b1192\",\"type\":\"CategoricalAxis\"}],\"left\":[{\"id\":\"8048990c-8f21-4693-ba35-60a6df8d2865\",\"type\":\"LinearAxis\"}],\"renderers\":[{\"id\":\"bd694fcd-3130-4791-a1ab-aea76b2a2399\",\"type\":\"GlyphRenderer\"},{\"id\":\"2bd8a8c2-03db-491d-8a48-428c4784cc6a\",\"type\":\"GlyphRenderer\"},{\"id\":\"d9ab5d73-2be8-431b-9a27-a6d8de45e4ef\",\"type\":\"GlyphRenderer\"},{\"id\":\"e73c5c72-e4eb-48f0-ba88-f7d7afb7aac1\",\"type\":\"GlyphRenderer\"},{\"id\":\"81dcb8fe-9543-4356-ae7e-814169c73658\",\"type\":\"GlyphRenderer\"},{\"id\":\"af596c66-0aac-4ead-951b-2a51c3a5fed4\",\"type\":\"GlyphRenderer\"},{\"id\":\"208d325e-96a8-4238-8851-5ca9e7ebf3d8\",\"type\":\"GlyphRenderer\"},{\"id\":\"bcfb7718-7c08-40a7-8892-29615165cc35\",\"type\":\"GlyphRenderer\"},{\"id\":\"a4e0cb8a-f2ce-468c-abea-4f148d130fdb\",\"type\":\"GlyphRenderer\"},{\"id\":\"dca0c009-cb82-4eb6-b527-ff9eaf596296\",\"type\":\"GlyphRenderer\"},{\"id\":\"f06844ec-6ff7-426a-b681-45e6c50ae109\",\"type\":\"GlyphRenderer\"},{\"id\":\"0c544241-98f2-40e8-aa0c-939fb1efe304\",\"type\":\"GlyphRenderer\"},{\"id\":\"fe6f393f-2cb9-43b4-b273-778085b9c4af\",\"type\":\"GlyphRenderer\"},{\"id\":\"096a1da2-a109-4fd8-8f5a-09a240b4268b\",\"type\":\"GlyphRenderer\"},{\"id\":\"1e41b146-e54e-496f-b614-53f401899631\",\"type\":\"GlyphRenderer\"},{\"id\":\"179d88ad-ee89-4e77-8bf0-79db1870dd5a\",\"type\":\"GlyphRenderer\"},{\"id\":\"f2f2515a-5745-4a4e-af98-f37d0b3ba11d\",\"type\":\"GlyphRenderer\"},{\"id\":\"2736eda2-92cb-4704-9d31-b13333afde80\",\"type\":\"GlyphRenderer\"},{\"id\":\"e6d3cb60-2649-4943-8220-71da850e44a4\",\"type\":\"GlyphRenderer\"},{\"id\":\"e989e300-f0b1-4fc7-bebb-eab7578c78f7\",\"type\":\"GlyphRenderer\"},{\"id\":\"3324529d-24d6-4793-8852-776ad6eac655\",\"type\":\"GlyphRenderer\"},{\"id\":\"253b0e06-408d-48fb-9057-70f6910f01ea\",\"type\":\"GlyphRenderer\"},{\"id\":\"1919df6a-7392-47a5-9b57-4370113924de\",\"type\":\"GlyphRenderer\"},{\"id\":\"2540bc34-34c6-4862-95d7-2afe5182e0a1\",\"type\":\"GlyphRenderer\"},{\"id\":\"651bce3d-6dfd-4d92-bc1d-4f09e229ae0b\",\"type\":\"GlyphRenderer\"},{\"id\":\"f711958e-f903-42f1-9054-3601585c9877\",\"type\":\"GlyphRenderer\"},{\"id\":\"938a3650-4d89-4c33-99cf-06147342ff26\",\"type\":\"GlyphRenderer\"},{\"id\":\"641e3771-8c47-4fb2-8d6f-94ea70e8b6cd\",\"type\":\"GlyphRenderer\"},{\"id\":\"e8a496a2-6070-46f6-b82b-bc0829e586c9\",\"type\":\"GlyphRenderer\"},{\"id\":\"21151838-5a5e-469b-8568-ce01a1292795\",\"type\":\"GlyphRenderer\"},{\"id\":\"5b207603-664e-4c1d-9589-3e9a9e5a7a4e\",\"type\":\"GlyphRenderer\"},{\"id\":\"1325c695-9514-45c8-9a42-c93e558a8f25\",\"type\":\"GlyphRenderer\"},{\"id\":\"936bd165-484c-4623-990f-d5584f7f14f5\",\"type\":\"GlyphRenderer\"},{\"id\":\"8026a001-279c-49a2-8645-60a235d0bff5\",\"type\":\"GlyphRenderer\"},{\"id\":\"236f5e54-5e33-4f65-b8ad-710c5a005d90\",\"type\":\"GlyphRenderer\"},{\"id\":\"3be65700-8f1f-41f9-8e88-fa5e79fe212c\",\"type\":\"GlyphRenderer\"},{\"id\":\"99194cb3-2e8f-487d-8d74-dab2d9a61940\",\"type\":\"GlyphRenderer\"},{\"id\":\"e7e3f815-ed87-4cfd-816d-7c71f2903da4\",\"type\":\"GlyphRenderer\"},{\"id\":\"da168c8a-145e-4b0a-ba77-8ef68dc80c8b\",\"type\":\"GlyphRenderer\"},{\"id\":\"efc58f17-4c29-4a2d-b9d4-3bee5b0fb625\",\"type\":\"Legend\"},{\"id\":\"a83552f8-88cd-420c-a151-72ef140b1192\",\"type\":\"CategoricalAxis\"},{\"id\":\"8048990c-8f21-4693-ba35-60a6df8d2865\",\"type\":\"LinearAxis\"},{\"id\":\"2b18a4de-43d5-41cb-8658-ce826de5d308\",\"type\":\"Grid\"}],\"title\":{\"id\":\"8e16736e-9c05-48f7-8bb7-90645423fe73\",\"type\":\"Title\"},\"tool_events\":{\"id\":\"f46151f3-1f87-4c68-be7f-0561505f14e7\",\"type\":\"ToolEvents\"},\"toolbar\":{\"id\":\"8c1130b0-290c-48d4-9e91-ec3ded55006c\",\"type\":\"Toolbar\"},\"x_mapper_type\":\"auto\",\"x_range\":{\"id\":\"5bf5ad49-4953-48ba-9d79-550ff8bf0ccf\",\"type\":\"FactorRange\"},\"y_mapper_type\":\"auto\",\"y_range\":{\"id\":\"5d8f2195-ce08-47ad-a8ba-10843dd78438\",\"type\":\"Range1d\"}},\"id\":\"9ba7a689-ec61-4f8c-9f09-ebbe3733fdd5\",\"subtype\":\"Chart\",\"type\":\"Plot\"},{\"attributes\":{\"fill_alpha\":{\"field\":\"fill_alpha\"},\"fill_color\":{\"field\":\"color\"},\"height\":{\"field\":\"height\",\"units\":\"data\"},\"line_color\":{\"field\":\"line_color\"},\"width\":{\"field\":\"width\",\"units\":\"data\"},\"x\":{\"field\":\"x\"},\"y\":{\"field\":\"y\"}},\"id\":\"c2bd7df0-6ae1-47f1-9000-46fe884facdb\",\"type\":\"Rect\"},{\"attributes\":{\"data_source\":{\"id\":\"ca012dd8-cd28-4fbe-81b3-cddd1f59335c\",\"type\":\"ColumnDataSource\"},\"glyph\":{\"id\":\"9ada4288-abed-48ab-aa3c-7b51332a3ee1\",\"type\":\"Rect\"},\"hover_glyph\":null,\"nonselection_glyph\":null,\"selection_glyph\":null},\"id\":\"e7e3f815-ed87-4cfd-816d-7c71f2903da4\",\"type\":\"GlyphRenderer\"},{\"attributes\":{\"legends\":[[\"1\",[{\"id\":\"bd694fcd-3130-4791-a1ab-aea76b2a2399\",\"type\":\"GlyphRenderer\"}]],[\"3\",[{\"id\":\"2bd8a8c2-03db-491d-8a48-428c4784cc6a\",\"type\":\"GlyphRenderer\"}]],[\"2\",[{\"id\":\"d9ab5d73-2be8-431b-9a27-a6d8de45e4ef\",\"type\":\"GlyphRenderer\"}]]],\"location\":\"top_left\",\"plot\":{\"id\":\"9ba7a689-ec61-4f8c-9f09-ebbe3733fdd5\",\"subtype\":\"Chart\",\"type\":\"Plot\"}},\"id\":\"efc58f17-4c29-4a2d-b9d4-3bee5b0fb625\",\"type\":\"Legend\"},{\"attributes\":{\"fill_alpha\":{\"field\":\"fill_alpha\"},\"fill_color\":{\"field\":\"color\"},\"height\":{\"field\":\"height\",\"units\":\"data\"},\"line_color\":{\"field\":\"line_color\"},\"width\":{\"field\":\"width\",\"units\":\"data\"},\"x\":{\"field\":\"x\"},\"y\":{\"field\":\"y\"}},\"id\":\"c11d3386-6a1e-4715-ab2e-5a510ba0e0b4\",\"type\":\"Rect\"},{\"attributes\":{},\"id\":\"3416c74c-3dd9-4af8-ba09-ad4f458612d5\",\"type\":\"BasicTickFormatter\"},{\"attributes\":{},\"id\":\"e74a42d0-0383-4b2d-8cdf-29fd0ae081b5\",\"type\":\"CategoricalTicker\"},{\"attributes\":{\"fill_alpha\":{\"field\":\"fill_alpha\"},\"fill_color\":{\"field\":\"color\"},\"height\":{\"field\":\"height\",\"units\":\"data\"},\"line_color\":{\"field\":\"line_color\"},\"width\":{\"field\":\"width\",\"units\":\"data\"},\"x\":{\"field\":\"x\"},\"y\":{\"field\":\"y\"}},\"id\":\"f1b1f9eb-92da-4c5f-bd58-423c37505ba0\",\"type\":\"Rect\"},{\"attributes\":{\"data_source\":{\"id\":\"dceea90d-dc86-4e10-af55-bc69b9da0141\",\"type\":\"ColumnDataSource\"},\"glyph\":{\"id\":\"efcf7271-045e-400e-8720-9645a570b4e2\",\"type\":\"Rect\"},\"hover_glyph\":null,\"nonselection_glyph\":null,\"selection_glyph\":null},\"id\":\"81dcb8fe-9543-4356-ae7e-814169c73658\",\"type\":\"GlyphRenderer\"},{\"attributes\":{\"plot\":{\"id\":\"9ba7a689-ec61-4f8c-9f09-ebbe3733fdd5\",\"subtype\":\"Chart\",\"type\":\"Plot\"}},\"id\":\"e0f581db-d981-4fae-9ed4-e2491d2b210f\",\"type\":\"CrosshairTool\"},{\"attributes\":{\"data_source\":{\"id\":\"2526bb0a-236c-45e8-a177-2424c98d0266\",\"type\":\"ColumnDataSource\"},\"glyph\":{\"id\":\"4a29230e-e52a-4b16-95fd-a6b05b005eed\",\"type\":\"Rect\"},\"hover_glyph\":null,\"nonselection_glyph\":null,\"selection_glyph\":null},\"id\":\"bd694fcd-3130-4791-a1ab-aea76b2a2399\",\"type\":\"GlyphRenderer\"},{\"attributes\":{\"callback\":null,\"column_names\":[\"line_color\",\"line_alpha\",\"color\",\"fill_alpha\",\"height\",\"width\",\"y\",\"x\",\"label\"],\"data\":{\"chart_index\":[{\"origin\":1,\"yr\":76}],\"color\":[\"#f22c40\"],\"fill_alpha\":[0.8],\"height\":[18.25],\"label\":[{\"origin\":1,\"yr\":76}],\"line_alpha\":[1.0],\"line_color\":[\"white\"],\"origin\":[1],\"width\":[0.2],\"x\":[\"76:0.25\"],\"y\":[9.125],\"yr\":[76]}},\"id\":\"a0aed7e0-2496-4166-b67e-f5739765cf3b\",\"type\":\"ColumnDataSource\"},{\"attributes\":{\"callback\":null,\"column_names\":[\"line_color\",\"line_alpha\",\"color\",\"fill_alpha\",\"height\",\"width\",\"y\",\"x\",\"label\"],\"data\":{\"chart_index\":[{\"origin\":1,\"yr\":75}],\"color\":[\"#f22c40\"],\"fill_alpha\":[0.8],\"height\":[17.5],\"label\":[{\"origin\":1,\"yr\":75}],\"line_alpha\":[1.0],\"line_color\":[\"white\"],\"origin\":[1],\"width\":[0.2],\"x\":[\"75:0.25\"],\"y\":[8.75],\"yr\":[75]}},\"id\":\"4469ff95-77e5-49af-a0a2-55e67203f5fd\",\"type\":\"ColumnDataSource\"},{\"attributes\":{\"fill_alpha\":{\"field\":\"fill_alpha\"},\"fill_color\":{\"field\":\"color\"},\"height\":{\"field\":\"height\",\"units\":\"data\"},\"line_color\":{\"field\":\"line_color\"},\"width\":{\"field\":\"width\",\"units\":\"data\"},\"x\":{\"field\":\"x\"},\"y\":{\"field\":\"y\"}},\"id\":\"0007c5c8-5850-4210-b583-7285fe7a3b98\",\"type\":\"Rect\"},{\"attributes\":{\"fill_alpha\":{\"field\":\"fill_alpha\"},\"fill_color\":{\"field\":\"color\"},\"height\":{\"field\":\"height\",\"units\":\"data\"},\"line_color\":{\"field\":\"line_color\"},\"width\":{\"field\":\"width\",\"units\":\"data\"},\"x\":{\"field\":\"x\"},\"y\":{\"field\":\"y\"}},\"id\":\"d6218b3c-6e17-4681-b4c1-4a6eb50e5b12\",\"type\":\"Rect\"},{\"attributes\":{\"callback\":null,\"column_names\":[\"line_color\",\"line_alpha\",\"color\",\"fill_alpha\",\"height\",\"width\",\"y\",\"x\",\"label\"],\"data\":{\"chart_index\":[{\"origin\":2,\"yr\":77}],\"color\":[\"#5ab738\"],\"fill_alpha\":[0.8],\"height\":[29.75],\"label\":[{\"origin\":2,\"yr\":77}],\"line_alpha\":[1.0],\"line_color\":[\"white\"],\"origin\":[2],\"width\":[0.2],\"x\":[\"77:0.75\"],\"y\":[14.875],\"yr\":[77]}},\"id\":\"605bc1ae-66de-4ba1-9013-1d6b8a6b7c93\",\"type\":\"ColumnDataSource\"},{\"attributes\":{\"data_source\":{\"id\":\"3e565413-3a9c-4f8a-9e06-ea63a41a438f\",\"type\":\"ColumnDataSource\"},\"glyph\":{\"id\":\"4e3a36eb-b809-49f6-97cc-2cf681c06dae\",\"type\":\"Rect\"},\"hover_glyph\":null,\"nonselection_glyph\":null,\"selection_glyph\":null},\"id\":\"1e41b146-e54e-496f-b614-53f401899631\",\"type\":\"GlyphRenderer\"},{\"attributes\":{\"axis_label\":\"Median( Mpg )\",\"formatter\":{\"id\":\"3416c74c-3dd9-4af8-ba09-ad4f458612d5\",\"type\":\"BasicTickFormatter\"},\"plot\":{\"id\":\"9ba7a689-ec61-4f8c-9f09-ebbe3733fdd5\",\"subtype\":\"Chart\",\"type\":\"Plot\"},\"ticker\":{\"id\":\"ff62b034-97ed-47e9-972e-aae7be5206ac\",\"type\":\"BasicTicker\"}},\"id\":\"8048990c-8f21-4693-ba35-60a6df8d2865\",\"type\":\"LinearAxis\"},{\"attributes\":{},\"id\":\"f46151f3-1f87-4c68-be7f-0561505f14e7\",\"type\":\"ToolEvents\"},{\"attributes\":{\"fill_alpha\":{\"field\":\"fill_alpha\"},\"fill_color\":{\"field\":\"color\"},\"height\":{\"field\":\"height\",\"units\":\"data\"},\"line_color\":{\"field\":\"line_color\"},\"width\":{\"field\":\"width\",\"units\":\"data\"},\"x\":{\"field\":\"x\"},\"y\":{\"field\":\"y\"}},\"id\":\"88d0b0cb-caf7-48d1-a1c8-03a5c6d74a81\",\"type\":\"Rect\"},{\"attributes\":{\"data_source\":{\"id\":\"605bc1ae-66de-4ba1-9013-1d6b8a6b7c93\",\"type\":\"ColumnDataSource\"},\"glyph\":{\"id\":\"d00d17ab-4458-4e99-af12-17ba6a96b426\",\"type\":\"Rect\"},\"hover_glyph\":null,\"nonselection_glyph\":null,\"selection_glyph\":null},\"id\":\"2540bc34-34c6-4862-95d7-2afe5182e0a1\",\"type\":\"GlyphRenderer\"},{\"attributes\":{\"data_source\":{\"id\":\"daf83a47-c784-4e4b-a49b-5aa492fec216\",\"type\":\"ColumnDataSource\"},\"glyph\":{\"id\":\"dd5d6738-1589-439d-be8a-a4ce9234401c\",\"type\":\"Rect\"},\"hover_glyph\":null,\"nonselection_glyph\":null,\"selection_glyph\":null},\"id\":\"f2f2515a-5745-4a4e-af98-f37d0b3ba11d\",\"type\":\"GlyphRenderer\"},{\"attributes\":{\"data_source\":{\"id\":\"6480a946-6eb6-42d0-82ae-83a444a7fa3e\",\"type\":\"ColumnDataSource\"},\"glyph\":{\"id\":\"aaef5b8d-f3f0-44e0-b831-862eefce162d\",\"type\":\"Rect\"},\"hover_glyph\":null,\"nonselection_glyph\":null,\"selection_glyph\":null},\"id\":\"af596c66-0aac-4ead-951b-2a51c3a5fed4\",\"type\":\"GlyphRenderer\"},{\"attributes\":{\"data_source\":{\"id\":\"db83baff-43d0-43b1-925f-25fdc628c428\",\"type\":\"ColumnDataSource\"},\"glyph\":{\"id\":\"4fe1c216-62b2-423b-8712-0725f6337d0b\",\"type\":\"Rect\"},\"hover_glyph\":null,\"nonselection_glyph\":null,\"selection_glyph\":null},\"id\":\"a4e0cb8a-f2ce-468c-abea-4f148d130fdb\",\"type\":\"GlyphRenderer\"},{\"attributes\":{\"callback\":null,\"column_names\":[\"line_color\",\"line_alpha\",\"color\",\"fill_alpha\",\"height\",\"width\",\"y\",\"x\",\"label\"],\"data\":{\"chart_index\":[{\"origin\":1,\"yr\":70}],\"color\":[\"#f22c40\"],\"fill_alpha\":[0.8],\"height\":[15.0],\"label\":[{\"origin\":1,\"yr\":70}],\"line_alpha\":[1.0],\"line_color\":[\"white\"],\"origin\":[1],\"width\":[0.2],\"x\":[\"70:0.25\"],\"y\":[7.5],\"yr\":[70]}},\"id\":\"2526bb0a-236c-45e8-a177-2424c98d0266\",\"type\":\"ColumnDataSource\"},{\"attributes\":{\"callback\":null,\"column_names\":[\"line_color\",\"line_alpha\",\"color\",\"fill_alpha\",\"height\",\"width\",\"y\",\"x\",\"label\"],\"data\":{\"chart_index\":[{\"origin\":2,\"yr\":82}],\"color\":[\"#5ab738\"],\"fill_alpha\":[0.8],\"height\":[40.0],\"label\":[{\"origin\":2,\"yr\":82}],\"line_alpha\":[1.0],\"line_color\":[\"white\"],\"origin\":[2],\"width\":[0.2],\"x\":[\"82:0.75\"],\"y\":[20.0],\"yr\":[82]}},\"id\":\"ca012dd8-cd28-4fbe-81b3-cddd1f59335c\",\"type\":\"ColumnDataSource\"},{\"attributes\":{\"fill_alpha\":{\"field\":\"fill_alpha\"},\"fill_color\":{\"field\":\"color\"},\"height\":{\"field\":\"height\",\"units\":\"data\"},\"line_color\":{\"field\":\"line_color\"},\"width\":{\"field\":\"width\",\"units\":\"data\"},\"x\":{\"field\":\"x\"},\"y\":{\"field\":\"y\"}},\"id\":\"a20156fc-9a8f-47c0-8fe6-b1ce14993883\",\"type\":\"Rect\"},{\"attributes\":{\"callback\":null,\"column_names\":[\"line_color\",\"line_alpha\",\"color\",\"fill_alpha\",\"height\",\"width\",\"y\",\"x\",\"label\"],\"data\":{\"chart_index\":[{\"origin\":1,\"yr\":74}],\"color\":[\"#f22c40\"],\"fill_alpha\":[0.8],\"height\":[16.0],\"label\":[{\"origin\":1,\"yr\":74}],\"line_alpha\":[1.0],\"line_color\":[\"white\"],\"origin\":[1],\"width\":[0.2],\"x\":[\"74:0.25\"],\"y\":[8.0],\"yr\":[74]}},\"id\":\"8ae56419-549b-4e7c-9ba5-37b972eb3639\",\"type\":\"ColumnDataSource\"},{\"attributes\":{\"data_source\":{\"id\":\"8ae56419-549b-4e7c-9ba5-37b972eb3639\",\"type\":\"ColumnDataSource\"},\"glyph\":{\"id\":\"1861d4c7-39bd-45ef-bc9d-9372665f3b89\",\"type\":\"Rect\"},\"hover_glyph\":null,\"nonselection_glyph\":null,\"selection_glyph\":null},\"id\":\"fe6f393f-2cb9-43b4-b273-778085b9c4af\",\"type\":\"GlyphRenderer\"},{\"attributes\":{\"callback\":null,\"column_names\":[\"line_color\",\"line_alpha\",\"color\",\"fill_alpha\",\"height\",\"width\",\"y\",\"x\",\"label\"],\"data\":{\"chart_index\":[{\"origin\":2,\"yr\":75}],\"color\":[\"#5ab738\"],\"fill_alpha\":[0.8],\"height\":[24.0],\"label\":[{\"origin\":2,\"yr\":75}],\"line_alpha\":[1.0],\"line_color\":[\"white\"],\"origin\":[2],\"width\":[0.2],\"x\":[\"75:0.75\"],\"y\":[12.0],\"yr\":[75]}},\"id\":\"4589fcc3-27d0-4fad-acc5-85e885271dc9\",\"type\":\"ColumnDataSource\"},{\"attributes\":{\"dimension\":1,\"plot\":{\"id\":\"9ba7a689-ec61-4f8c-9f09-ebbe3733fdd5\",\"subtype\":\"Chart\",\"type\":\"Plot\"},\"ticker\":{\"id\":\"ff62b034-97ed-47e9-972e-aae7be5206ac\",\"type\":\"BasicTicker\"}},\"id\":\"2b18a4de-43d5-41cb-8658-ce826de5d308\",\"type\":\"Grid\"},{\"attributes\":{\"fill_alpha\":{\"field\":\"fill_alpha\"},\"fill_color\":{\"field\":\"color\"},\"height\":{\"field\":\"height\",\"units\":\"data\"},\"line_color\":{\"field\":\"line_color\"},\"width\":{\"field\":\"width\",\"units\":\"data\"},\"x\":{\"field\":\"x\"},\"y\":{\"field\":\"y\"}},\"id\":\"14e4bcf9-0551-4d33-b9b5-d6f1675cf53f\",\"type\":\"Rect\"},{\"attributes\":{\"callback\":null,\"column_names\":[\"line_color\",\"line_alpha\",\"color\",\"fill_alpha\",\"height\",\"width\",\"y\",\"x\",\"label\"],\"data\":{\"chart_index\":[{\"origin\":3,\"yr\":73}],\"color\":[\"#407ee7\"],\"fill_alpha\":[0.8],\"height\":[20.0],\"label\":[{\"origin\":3,\"yr\":73}],\"line_alpha\":[1.0],\"line_color\":[\"white\"],\"origin\":[3],\"width\":[0.2],\"x\":[\"73:0.5\"],\"y\":[10.0],\"yr\":[73]}},\"id\":\"37917fca-a109-4360-a8a5-0b369a2358d9\",\"type\":\"ColumnDataSource\"},{\"attributes\":{\"callback\":null,\"column_names\":[\"line_color\",\"line_alpha\",\"color\",\"fill_alpha\",\"height\",\"width\",\"y\",\"x\",\"label\"],\"data\":{\"chart_index\":[{\"origin\":1,\"yr\":71}],\"color\":[\"#f22c40\"],\"fill_alpha\":[0.8],\"height\":[18.0],\"label\":[{\"origin\":1,\"yr\":71}],\"line_alpha\":[1.0],\"line_color\":[\"white\"],\"origin\":[1],\"width\":[0.2],\"x\":[\"71:0.25\"],\"y\":[9.0],\"yr\":[71]}},\"id\":\"dceea90d-dc86-4e10-af55-bc69b9da0141\",\"type\":\"ColumnDataSource\"},{\"attributes\":{\"fill_alpha\":{\"field\":\"fill_alpha\"},\"fill_color\":{\"field\":\"color\"},\"height\":{\"field\":\"height\",\"units\":\"data\"},\"line_color\":{\"field\":\"line_color\"},\"width\":{\"field\":\"width\",\"units\":\"data\"},\"x\":{\"field\":\"x\"},\"y\":{\"field\":\"y\"}},\"id\":\"a29e289e-802e-43cd-a82b-234d23f881ba\",\"type\":\"Rect\"},{\"attributes\":{\"callback\":null,\"column_names\":[\"line_color\",\"line_alpha\",\"color\",\"fill_alpha\",\"height\",\"width\",\"y\",\"x\",\"label\"],\"data\":{\"chart_index\":[{\"origin\":2,\"yr\":76}],\"color\":[\"#5ab738\"],\"fill_alpha\":[0.8],\"height\":[26.0],\"label\":[{\"origin\":2,\"yr\":76}],\"line_alpha\":[1.0],\"line_color\":[\"white\"],\"origin\":[2],\"width\":[0.2],\"x\":[\"76:0.75\"],\"y\":[13.0],\"yr\":[76]}},\"id\":\"1ab26cda-cbb2-435b-8889-e3808259ac76\",\"type\":\"ColumnDataSource\"},{\"attributes\":{\"callback\":null,\"column_names\":[\"line_color\",\"line_alpha\",\"color\",\"fill_alpha\",\"height\",\"width\",\"y\",\"x\",\"label\"],\"data\":{\"chart_index\":[{\"origin\":3,\"yr\":76}],\"color\":[\"#407ee7\"],\"fill_alpha\":[0.8],\"height\":[30.0],\"label\":[{\"origin\":3,\"yr\":76}],\"line_alpha\":[1.0],\"line_color\":[\"white\"],\"origin\":[3],\"width\":[0.2],\"x\":[\"76:0.5\"],\"y\":[15.0],\"yr\":[76]}},\"id\":\"e24397bb-50ad-470f-a7ec-81c50038d017\",\"type\":\"ColumnDataSource\"},{\"attributes\":{\"data_source\":{\"id\":\"aa1f7301-990d-4ee9-a97b-8f95d328d613\",\"type\":\"ColumnDataSource\"},\"glyph\":{\"id\":\"26847375-f756-4d31-b9a3-09ba57955cc8\",\"type\":\"Rect\"},\"hover_glyph\":null,\"nonselection_glyph\":null,\"selection_glyph\":null},\"id\":\"e73c5c72-e4eb-48f0-ba88-f7d7afb7aac1\",\"type\":\"GlyphRenderer\"},{\"attributes\":{\"active_drag\":\"auto\",\"active_scroll\":\"auto\",\"active_tap\":\"auto\",\"tools\":[{\"id\":\"e0f581db-d981-4fae-9ed4-e2491d2b210f\",\"type\":\"CrosshairTool\"}]},\"id\":\"8c1130b0-290c-48d4-9e91-ec3ded55006c\",\"type\":\"Toolbar\"},{\"attributes\":{\"callback\":null,\"column_names\":[\"line_color\",\"line_alpha\",\"color\",\"fill_alpha\",\"height\",\"width\",\"y\",\"x\",\"label\"],\"data\":{\"chart_index\":[{\"origin\":1,\"yr\":81}],\"color\":[\"#f22c40\"],\"fill_alpha\":[0.8],\"height\":[26.6],\"label\":[{\"origin\":1,\"yr\":81}],\"line_alpha\":[1.0],\"line_color\":[\"white\"],\"origin\":[1],\"width\":[0.2],\"x\":[\"81:0.25\"],\"y\":[13.3],\"yr\":[81]}},\"id\":\"e7d1f11f-c0ea-468e-bc59-4b1d2013b695\",\"type\":\"ColumnDataSource\"},{\"attributes\":{\"fill_alpha\":{\"field\":\"fill_alpha\"},\"fill_color\":{\"field\":\"color\"},\"height\":{\"field\":\"height\",\"units\":\"data\"},\"line_color\":{\"field\":\"line_color\"},\"width\":{\"field\":\"width\",\"units\":\"data\"},\"x\":{\"field\":\"x\"},\"y\":{\"field\":\"y\"}},\"id\":\"4c0c4212-6aa7-418a-a0e0-24a78875e3f5\",\"type\":\"Rect\"},{\"attributes\":{\"callback\":null,\"column_names\":[\"line_color\",\"line_alpha\",\"color\",\"fill_alpha\",\"height\",\"width\",\"y\",\"x\",\"label\"],\"data\":{\"chart_index\":[{\"origin\":2,\"yr\":78}],\"color\":[\"#5ab738\"],\"fill_alpha\":[0.8],\"height\":[20.950000000000003],\"label\":[{\"origin\":2,\"yr\":78}],\"line_alpha\":[1.0],\"line_color\":[\"white\"],\"origin\":[2],\"width\":[0.2],\"x\":[\"78:0.75\"],\"y\":[10.475000000000001],\"yr\":[78]}},\"id\":\"8115d93b-4879-4665-bafa-eab84c4a4137\",\"type\":\"ColumnDataSource\"},{\"attributes\":{\"data_source\":{\"id\":\"b119aae1-39d9-4a04-a209-6ef988436800\",\"type\":\"ColumnDataSource\"},\"glyph\":{\"id\":\"ea6d8586-f6ff-45a0-8e79-80e7998baece\",\"type\":\"Rect\"},\"hover_glyph\":null,\"nonselection_glyph\":null,\"selection_glyph\":null},\"id\":\"1325c695-9514-45c8-9a42-c93e558a8f25\",\"type\":\"GlyphRenderer\"},{\"attributes\":{\"fill_alpha\":{\"field\":\"fill_alpha\"},\"fill_color\":{\"field\":\"color\"},\"height\":{\"field\":\"height\",\"units\":\"data\"},\"line_color\":{\"field\":\"line_color\"},\"width\":{\"field\":\"width\",\"units\":\"data\"},\"x\":{\"field\":\"x\"},\"y\":{\"field\":\"y\"}},\"id\":\"79a50608-0e95-4d62-bb71-cc54a657d908\",\"type\":\"Rect\"},{\"attributes\":{\"callback\":null,\"column_names\":[\"line_color\",\"line_alpha\",\"color\",\"fill_alpha\",\"height\",\"width\",\"y\",\"x\",\"label\"],\"data\":{\"chart_index\":[{\"origin\":3,\"yr\":72}],\"color\":[\"#407ee7\"],\"fill_alpha\":[0.8],\"height\":[24.0],\"label\":[{\"origin\":3,\"yr\":72}],\"line_alpha\":[1.0],\"line_color\":[\"white\"],\"origin\":[3],\"width\":[0.2],\"x\":[\"72:0.5\"],\"y\":[12.0],\"yr\":[72]}},\"id\":\"2e755f13-6d2d-46cd-bf15-43a0904f826e\",\"type\":\"ColumnDataSource\"},{\"attributes\":{\"fill_alpha\":{\"field\":\"fill_alpha\"},\"fill_color\":{\"field\":\"color\"},\"height\":{\"field\":\"height\",\"units\":\"data\"},\"line_color\":{\"field\":\"line_color\"},\"width\":{\"field\":\"width\",\"units\":\"data\"},\"x\":{\"field\":\"x\"},\"y\":{\"field\":\"y\"}},\"id\":\"4fe1c216-62b2-423b-8712-0725f6337d0b\",\"type\":\"Rect\"},{\"attributes\":{\"fill_alpha\":{\"field\":\"fill_alpha\"},\"fill_color\":{\"field\":\"color\"},\"height\":{\"field\":\"height\",\"units\":\"data\"},\"line_color\":{\"field\":\"line_color\"},\"width\":{\"field\":\"width\",\"units\":\"data\"},\"x\":{\"field\":\"x\"},\"y\":{\"field\":\"y\"}},\"id\":\"889d8f23-d1bd-47c3-b747-14a4e2f93e5b\",\"type\":\"Rect\"},{\"attributes\":{\"fill_alpha\":{\"field\":\"fill_alpha\"},\"fill_color\":{\"field\":\"color\"},\"height\":{\"field\":\"height\",\"units\":\"data\"},\"line_color\":{\"field\":\"line_color\"},\"width\":{\"field\":\"width\",\"units\":\"data\"},\"x\":{\"field\":\"x\"},\"y\":{\"field\":\"y\"}},\"id\":\"538190d4-43e4-486a-8a1b-56444933d9dc\",\"type\":\"Rect\"},{\"attributes\":{\"data_source\":{\"id\":\"069fd98a-66c9-4356-81e2-0785df5e596c\",\"type\":\"ColumnDataSource\"},\"glyph\":{\"id\":\"d6218b3c-6e17-4681-b4c1-4a6eb50e5b12\",\"type\":\"Rect\"},\"hover_glyph\":null,\"nonselection_glyph\":null,\"selection_glyph\":null},\"id\":\"21151838-5a5e-469b-8568-ce01a1292795\",\"type\":\"GlyphRenderer\"},{\"attributes\":{\"fill_alpha\":{\"field\":\"fill_alpha\"},\"fill_color\":{\"field\":\"color\"},\"height\":{\"field\":\"height\",\"units\":\"data\"},\"line_color\":{\"field\":\"line_color\"},\"width\":{\"field\":\"width\",\"units\":\"data\"},\"x\":{\"field\":\"x\"},\"y\":{\"field\":\"y\"}},\"id\":\"ec2914f2-3fb9-4609-8018-6e59ce33b24a\",\"type\":\"Rect\"},{\"attributes\":{\"fill_alpha\":{\"field\":\"fill_alpha\"},\"fill_color\":{\"field\":\"color\"},\"height\":{\"field\":\"height\",\"units\":\"data\"},\"line_color\":{\"field\":\"line_color\"},\"width\":{\"field\":\"width\",\"units\":\"data\"},\"x\":{\"field\":\"x\"},\"y\":{\"field\":\"y\"}},\"id\":\"ed225364-7c7b-43b7-a85a-e308528c8db4\",\"type\":\"Rect\"},{\"attributes\":{\"data_source\":{\"id\":\"1ab26cda-cbb2-435b-8889-e3808259ac76\",\"type\":\"ColumnDataSource\"},\"glyph\":{\"id\":\"dd350ab2-83c8-4cd2-bbe6-8af5cf7acc7d\",\"type\":\"Rect\"},\"hover_glyph\":null,\"nonselection_glyph\":null,\"selection_glyph\":null},\"id\":\"e6d3cb60-2649-4943-8220-71da850e44a4\",\"type\":\"GlyphRenderer\"},{\"attributes\":{\"fill_alpha\":{\"field\":\"fill_alpha\"},\"fill_color\":{\"field\":\"color\"},\"height\":{\"field\":\"height\",\"units\":\"data\"},\"line_color\":{\"field\":\"line_color\"},\"width\":{\"field\":\"width\",\"units\":\"data\"},\"x\":{\"field\":\"x\"},\"y\":{\"field\":\"y\"}},\"id\":\"a16d344a-4151-44fa-897c-48572c3b5e9e\",\"type\":\"Rect\"},{\"attributes\":{\"callback\":null,\"column_names\":[\"line_color\",\"line_alpha\",\"color\",\"fill_alpha\",\"height\",\"width\",\"y\",\"x\",\"label\"],\"data\":{\"chart_index\":[{\"origin\":1,\"yr\":79}],\"color\":[\"#f22c40\"],\"fill_alpha\":[0.8],\"height\":[21.5],\"label\":[{\"origin\":1,\"yr\":79}],\"line_alpha\":[1.0],\"line_color\":[\"white\"],\"origin\":[1],\"width\":[0.2],\"x\":[\"79:0.25\"],\"y\":[10.75],\"yr\":[79]}},\"id\":\"7d98443c-6473-4083-bdda-3d7036b9f55a\",\"type\":\"ColumnDataSource\"},{\"attributes\":{\"fill_alpha\":{\"field\":\"fill_alpha\"},\"fill_color\":{\"field\":\"color\"},\"height\":{\"field\":\"height\",\"units\":\"data\"},\"line_color\":{\"field\":\"line_color\"},\"width\":{\"field\":\"width\",\"units\":\"data\"},\"x\":{\"field\":\"x\"},\"y\":{\"field\":\"y\"}},\"id\":\"26847375-f756-4d31-b9a3-09ba57955cc8\",\"type\":\"Rect\"},{\"attributes\":{\"data_source\":{\"id\":\"c2e96a6b-d290-4d26-8751-c86bfaf903d5\",\"type\":\"ColumnDataSource\"},\"glyph\":{\"id\":\"ed225364-7c7b-43b7-a85a-e308528c8db4\",\"type\":\"Rect\"},\"hover_glyph\":null,\"nonselection_glyph\":null,\"selection_glyph\":null},\"id\":\"2bd8a8c2-03db-491d-8a48-428c4784cc6a\",\"type\":\"GlyphRenderer\"},{\"attributes\":{\"data_source\":{\"id\":\"5b1db576-6804-4ed0-ac8e-94a8a86e01fa\",\"type\":\"ColumnDataSource\"},\"glyph\":{\"id\":\"7d1d9ddc-ba09-484a-9785-942a6b6c5202\",\"type\":\"Rect\"},\"hover_glyph\":null,\"nonselection_glyph\":null,\"selection_glyph\":null},\"id\":\"bcfb7718-7c08-40a7-8892-29615165cc35\",\"type\":\"GlyphRenderer\"},{\"attributes\":{\"fill_alpha\":{\"field\":\"fill_alpha\"},\"fill_color\":{\"field\":\"color\"},\"height\":{\"field\":\"height\",\"units\":\"data\"},\"line_color\":{\"field\":\"line_color\"},\"width\":{\"field\":\"width\",\"units\":\"data\"},\"x\":{\"field\":\"x\"},\"y\":{\"field\":\"y\"}},\"id\":\"8ee3d12d-b88e-48b5-941d-8699a4233179\",\"type\":\"Rect\"},{\"attributes\":{\"callback\":null,\"column_names\":[\"line_color\",\"line_alpha\",\"color\",\"fill_alpha\",\"height\",\"width\",\"y\",\"x\",\"label\"],\"data\":{\"chart_index\":[{\"origin\":1,\"yr\":72}],\"color\":[\"#f22c40\"],\"fill_alpha\":[0.8],\"height\":[14.0],\"label\":[{\"origin\":1,\"yr\":72}],\"line_alpha\":[1.0],\"line_color\":[\"white\"],\"origin\":[1],\"width\":[0.2],\"x\":[\"72:0.25\"],\"y\":[7.0],\"yr\":[72]}},\"id\":\"5b1db576-6804-4ed0-ac8e-94a8a86e01fa\",\"type\":\"ColumnDataSource\"},{\"attributes\":{\"fill_alpha\":{\"field\":\"fill_alpha\"},\"fill_color\":{\"field\":\"color\"},\"height\":{\"field\":\"height\",\"units\":\"data\"},\"line_color\":{\"field\":\"line_color\"},\"width\":{\"field\":\"width\",\"units\":\"data\"},\"x\":{\"field\":\"x\"},\"y\":{\"field\":\"y\"}},\"id\":\"ea6d8586-f6ff-45a0-8e79-80e7998baece\",\"type\":\"Rect\"},{\"attributes\":{\"callback\":null,\"column_names\":[\"line_color\",\"line_alpha\",\"color\",\"fill_alpha\",\"height\",\"width\",\"y\",\"x\",\"label\"],\"data\":{\"chart_index\":[{\"origin\":2,\"yr\":74}],\"color\":[\"#5ab738\"],\"fill_alpha\":[0.8],\"height\":[26.0],\"label\":[{\"origin\":2,\"yr\":74}],\"line_alpha\":[1.0],\"line_color\":[\"white\"],\"origin\":[2],\"width\":[0.2],\"x\":[\"74:0.75\"],\"y\":[13.0],\"yr\":[74]}},\"id\":\"3e565413-3a9c-4f8a-9e06-ea63a41a438f\",\"type\":\"ColumnDataSource\"},{\"attributes\":{\"data_source\":{\"id\":\"3721a17b-d7b8-4c12-bb12-262c5b3479cf\",\"type\":\"ColumnDataSource\"},\"glyph\":{\"id\":\"c2bd7df0-6ae1-47f1-9000-46fe884facdb\",\"type\":\"Rect\"},\"hover_glyph\":null,\"nonselection_glyph\":null,\"selection_glyph\":null},\"id\":\"253b0e06-408d-48fb-9057-70f6910f01ea\",\"type\":\"GlyphRenderer\"},{\"attributes\":{\"callback\":null,\"column_names\":[\"line_color\",\"line_alpha\",\"color\",\"fill_alpha\",\"height\",\"width\",\"y\",\"x\",\"label\"],\"data\":{\"chart_index\":[{\"origin\":3,\"yr\":71}],\"color\":[\"#407ee7\"],\"fill_alpha\":[0.8],\"height\":[29.0],\"label\":[{\"origin\":3,\"yr\":71}],\"line_alpha\":[1.0],\"line_color\":[\"white\"],\"origin\":[3],\"width\":[0.2],\"x\":[\"71:0.5\"],\"y\":[14.5],\"yr\":[71]}},\"id\":\"aa1f7301-990d-4ee9-a97b-8f95d328d613\",\"type\":\"ColumnDataSource\"},{\"attributes\":{\"data_source\":{\"id\":\"7bc403c0-5692-4031-b5d7-39df80334455\",\"type\":\"ColumnDataSource\"},\"glyph\":{\"id\":\"5284127d-7ce1-4fdb-9232-4b35dfa281ae\",\"type\":\"Rect\"},\"hover_glyph\":null,\"nonselection_glyph\":null,\"selection_glyph\":null},\"id\":\"5b207603-664e-4c1d-9589-3e9a9e5a7a4e\",\"type\":\"GlyphRenderer\"},{\"attributes\":{\"data_source\":{\"id\":\"e7d1f11f-c0ea-468e-bc59-4b1d2013b695\",\"type\":\"ColumnDataSource\"},\"glyph\":{\"id\":\"c11d3386-6a1e-4715-ab2e-5a510ba0e0b4\",\"type\":\"Rect\"},\"hover_glyph\":null,\"nonselection_glyph\":null,\"selection_glyph\":null},\"id\":\"8026a001-279c-49a2-8645-60a235d0bff5\",\"type\":\"GlyphRenderer\"},{\"attributes\":{\"fill_alpha\":{\"field\":\"fill_alpha\"},\"fill_color\":{\"field\":\"color\"},\"height\":{\"field\":\"height\",\"units\":\"data\"},\"line_color\":{\"field\":\"line_color\"},\"width\":{\"field\":\"width\",\"units\":\"data\"},\"x\":{\"field\":\"x\"},\"y\":{\"field\":\"y\"}},\"id\":\"aaef5b8d-f3f0-44e0-b831-862eefce162d\",\"type\":\"Rect\"}],\"root_ids\":[\"9ba7a689-ec61-4f8c-9f09-ebbe3733fdd5\"]},\"title\":\"Bokeh Application\",\"version\":\"0.12.1\"}};\n",
       "            var render_items = [{\"docid\":\"19160490-28dd-49e9-b0ad-93a17ca739db\",\"elementid\":\"d53277fb-668b-482d-bc0c-9e4b81d2277d\",\"modelid\":\"9ba7a689-ec61-4f8c-9f09-ebbe3733fdd5\",\"notebook_comms_target\":\"2b86de19-00a3-4d96-8f9d-f228c4277c2e\"}];\n",
       "            \n",
       "            Bokeh.embed.embed_items(docs_json, render_items);\n",
       "        });\n",
       "      },\n",
       "      function(Bokeh) {\n",
       "      }\n",
       "    ];\n",
       "  \n",
       "    function run_inline_js() {\n",
       "      for (var i = 0; i < inline_js.length; i++) {\n",
       "        inline_js[i](window.Bokeh);\n",
       "      }\n",
       "    }\n",
       "  \n",
       "    if (window._bokeh_is_loading === 0) {\n",
       "      console.log(\"Bokeh: BokehJS loaded, going straight to plotting\");\n",
       "      run_inline_js();\n",
       "    } else {\n",
       "      load_libs(js_urls, function() {\n",
       "        console.log(\"Bokeh: BokehJS plotting callback run at\", now());\n",
       "        run_inline_js();\n",
       "      });\n",
       "    }\n",
       "  }(this));\n",
       "</script>"
      ]
     },
     "metadata": {},
     "output_type": "display_data"
    },
    {
     "data": {
      "text/html": [
       "<p><code>&lt;Bokeh Notebook handle for <strong>In[10]</strong>&gt;</code></p>"
      ],
      "text/plain": [
       "<bokeh.io._CommsHandle at 0x113587610>"
      ]
     },
     "execution_count": 10,
     "metadata": {},
     "output_type": "execute_result"
    }
   ],
   "source": [
    "p = Bar(autompg, label='yr', values='mpg', agg='median', group='origin', \n",
    "        title=\"Median MPG by YR, grouped by ORIGIN\", legend='top_left', tools='crosshair')\n",
    "show(p)"
   ]
  },
  {
   "cell_type": "markdown",
   "metadata": {},
   "source": [
    "Similarly, bars for subgroups can be stacked visually, by providing a column name for the `stack` parameter. Let's try that as an exercise."
   ]
  },
  {
   "cell_type": "code",
   "execution_count": 11,
   "metadata": {
    "collapsed": false
   },
   "outputs": [],
   "source": [
    "# EXERCISE: change the chart above to stack the bars with title \"Median MPG by YR, stacked by ORIGIN\"\n"
   ]
  },
  {
   "cell_type": "markdown",
   "metadata": {},
   "source": [
    "# Histogram\n",
    "\n",
    "A high-level Histogram is provided by [`bokeh.charts.Histogram`]()\n",
    "\n",
    "For this section, we will construct our own synthetic data set that has values generated from two different probability distributions. "
   ]
  },
  {
   "cell_type": "code",
   "execution_count": 11,
   "metadata": {
    "collapsed": false
   },
   "outputs": [
    {
     "data": {
      "text/html": [
       "<div>\n",
       "<table border=\"1\" class=\"dataframe\">\n",
       "  <thead>\n",
       "    <tr style=\"text-align: right;\">\n",
       "      <th></th>\n",
       "      <th>type</th>\n",
       "      <th>value</th>\n",
       "    </tr>\n",
       "  </thead>\n",
       "  <tbody>\n",
       "    <tr>\n",
       "      <th>995</th>\n",
       "      <td>normal</td>\n",
       "      <td>-0.072839</td>\n",
       "    </tr>\n",
       "    <tr>\n",
       "      <th>996</th>\n",
       "      <td>normal</td>\n",
       "      <td>0.364335</td>\n",
       "    </tr>\n",
       "    <tr>\n",
       "      <th>997</th>\n",
       "      <td>normal</td>\n",
       "      <td>0.596417</td>\n",
       "    </tr>\n",
       "    <tr>\n",
       "      <th>998</th>\n",
       "      <td>normal</td>\n",
       "      <td>-0.666363</td>\n",
       "    </tr>\n",
       "    <tr>\n",
       "      <th>999</th>\n",
       "      <td>normal</td>\n",
       "      <td>-0.659997</td>\n",
       "    </tr>\n",
       "    <tr>\n",
       "      <th>0</th>\n",
       "      <td>lognormal</td>\n",
       "      <td>0.211202</td>\n",
       "    </tr>\n",
       "    <tr>\n",
       "      <th>1</th>\n",
       "      <td>lognormal</td>\n",
       "      <td>1.045986</td>\n",
       "    </tr>\n",
       "    <tr>\n",
       "      <th>2</th>\n",
       "      <td>lognormal</td>\n",
       "      <td>0.969053</td>\n",
       "    </tr>\n",
       "    <tr>\n",
       "      <th>3</th>\n",
       "      <td>lognormal</td>\n",
       "      <td>0.625760</td>\n",
       "    </tr>\n",
       "    <tr>\n",
       "      <th>4</th>\n",
       "      <td>lognormal</td>\n",
       "      <td>1.637631</td>\n",
       "    </tr>\n",
       "  </tbody>\n",
       "</table>\n",
       "</div>"
      ],
      "text/plain": [
       "          type     value\n",
       "995     normal -0.072839\n",
       "996     normal  0.364335\n",
       "997     normal  0.596417\n",
       "998     normal -0.666363\n",
       "999     normal -0.659997\n",
       "0    lognormal  0.211202\n",
       "1    lognormal  1.045986\n",
       "2    lognormal  0.969053\n",
       "3    lognormal  0.625760\n",
       "4    lognormal  1.637631"
      ]
     },
     "execution_count": 11,
     "metadata": {},
     "output_type": "execute_result"
    }
   ],
   "source": [
    "import pandas as pd\n",
    "import numpy as np\n",
    "\n",
    "# build some distributions\n",
    "mu, sigma = 0, 0.5\n",
    "normal = pd.DataFrame({'value': np.random.normal(mu, sigma, 1000), 'type': 'normal'})\n",
    "lognormal = pd.DataFrame({'value': np.random.lognormal(mu, sigma, 1000), 'type': 'lognormal'})\n",
    "\n",
    "# create a pandas data frame\n",
    "df = pd.concat([normal, lognormal])\n",
    "df[995:1005]"
   ]
  },
  {
   "cell_type": "code",
   "execution_count": 12,
   "metadata": {
    "collapsed": true
   },
   "outputs": [],
   "source": [
    "from bokeh.charts import Histogram"
   ]
  },
  {
   "cell_type": "markdown",
   "metadata": {},
   "source": [
    "A basic histogram takes the data as the first parameter, and a column name as the `values` parameter. Optionally, you can also specify the number of bins to use by giving a value for the `bins` parameter. The example below shows the distribution of ***all*** the values (both the \"normal\" and \"lognormal\" values). "
   ]
  },
  {
   "cell_type": "code",
   "execution_count": 13,
   "metadata": {
    "collapsed": false
   },
   "outputs": [
    {
     "data": {
      "text/html": [
       "\n",
       "\n",
       "    <div class=\"bk-root\">\n",
       "        <div class=\"plotdiv\" id=\"00700043-8198-4f4d-99cb-e22821156dbe\"></div>\n",
       "    </div>\n",
       "<script type=\"text/javascript\">\n",
       "  \n",
       "  (function(global) {\n",
       "    function now() {\n",
       "      return new Date();\n",
       "    }\n",
       "  \n",
       "    var force = \"\";\n",
       "  \n",
       "    if (typeof (window._bokeh_onload_callbacks) === \"undefined\" || force !== \"\") {\n",
       "      window._bokeh_onload_callbacks = [];\n",
       "      window._bokeh_is_loading = undefined;\n",
       "    }\n",
       "  \n",
       "    function run_callbacks() {\n",
       "      window._bokeh_onload_callbacks.forEach(function(callback) { callback() });\n",
       "      delete window._bokeh_onload_callbacks\n",
       "      console.info(\"Bokeh: all callbacks have finished\");\n",
       "    }\n",
       "  \n",
       "    function load_libs(js_urls, callback) {\n",
       "      window._bokeh_onload_callbacks.push(callback);\n",
       "      if (window._bokeh_is_loading > 0) {\n",
       "        console.log(\"Bokeh: BokehJS is being loaded, scheduling callback at\", now());\n",
       "        return null;\n",
       "      }\n",
       "      if (js_urls == null || js_urls.length === 0) {\n",
       "        run_callbacks();\n",
       "        return null;\n",
       "      }\n",
       "      console.log(\"Bokeh: BokehJS not loaded, scheduling load and callback at\", now());\n",
       "      window._bokeh_is_loading = js_urls.length;\n",
       "      for (var i = 0; i < js_urls.length; i++) {\n",
       "        var url = js_urls[i];\n",
       "        var s = document.createElement('script');\n",
       "        s.src = url;\n",
       "        s.async = false;\n",
       "        s.onreadystatechange = s.onload = function() {\n",
       "          window._bokeh_is_loading--;\n",
       "          if (window._bokeh_is_loading === 0) {\n",
       "            console.log(\"Bokeh: all BokehJS libraries loaded\");\n",
       "            run_callbacks()\n",
       "          }\n",
       "        };\n",
       "        s.onerror = function() {\n",
       "          console.warn(\"failed to load library \" + url);\n",
       "        };\n",
       "        console.log(\"Bokeh: injecting script tag for BokehJS library: \", url);\n",
       "        document.getElementsByTagName(\"head\")[0].appendChild(s);\n",
       "      }\n",
       "    };var element = document.getElementById(\"00700043-8198-4f4d-99cb-e22821156dbe\");\n",
       "    if (element == null) {\n",
       "      console.log(\"Bokeh: ERROR: autoload.js configured with elementid '00700043-8198-4f4d-99cb-e22821156dbe' but no matching script tag was found. \")\n",
       "      return false;\n",
       "    }\n",
       "  \n",
       "    var js_urls = [];\n",
       "  \n",
       "    var inline_js = [\n",
       "      function(Bokeh) {\n",
       "        Bokeh.$(function() {\n",
       "            var docs_json = {\"54e72aed-d20f-49f1-ae23-c98431c8fc80\":{\"roots\":{\"references\":[{\"attributes\":{\"fill_alpha\":{\"field\":\"fill_alpha\"},\"fill_color\":{\"field\":\"color\"},\"height\":{\"field\":\"height\",\"units\":\"data\"},\"line_color\":{\"field\":\"line_color\"},\"width\":{\"field\":\"width\",\"units\":\"data\"},\"x\":{\"field\":\"x\"},\"y\":{\"field\":\"y\"}},\"id\":\"9fb5e71c-f803-4970-9813-684702a93bd9\",\"type\":\"Rect\"},{\"attributes\":{\"data_source\":{\"id\":\"de3a10c8-54fe-49b5-9973-241cabc5b0a4\",\"type\":\"ColumnDataSource\"},\"glyph\":{\"id\":\"5b396f40-bd9b-44f5-b901-7301bc5018d2\",\"type\":\"Rect\"},\"hover_glyph\":null,\"nonselection_glyph\":null,\"selection_glyph\":null},\"id\":\"51ba138d-e4e0-4d51-897f-eeb8513fc62c\",\"type\":\"GlyphRenderer\"},{\"attributes\":{\"data_source\":{\"id\":\"1ba773a1-c37b-4261-bbfe-b3e9b7e0c94f\",\"type\":\"ColumnDataSource\"},\"glyph\":{\"id\":\"b3dd6bc6-0906-46c3-a02d-9b0f6cacb9de\",\"type\":\"Rect\"},\"hover_glyph\":null,\"nonselection_glyph\":null,\"selection_glyph\":null},\"id\":\"efb5beec-0f28-4a9e-8dfa-6ceb04eee05e\",\"type\":\"GlyphRenderer\"},{\"attributes\":{\"callback\":null,\"column_names\":[\"line_color\",\"line_alpha\",\"color\",\"fill_alpha\",\"height\",\"width\",\"y\",\"x\",\"label\"],\"data\":{\"chart_index\":[\"(-1.0, -0.8]\"],\"color\":[\"#f22c40\"],\"fill_alpha\":[0.8],\"height\":[26.0],\"label\":[\"(-1.0, -0.8]\"],\"line_alpha\":[1.0],\"line_color\":[\"black\"],\"width\":[0.18749339910030915],\"x\":[\"-0.9\"],\"y\":[13.0]}},\"id\":\"348da8dd-0875-465c-bd53-cf73585abdfb\",\"type\":\"ColumnDataSource\"},{\"attributes\":{},\"id\":\"215ce090-d92c-4ce9-b51a-56c1a1981586\",\"type\":\"BasicTickFormatter\"},{\"attributes\":{\"data_source\":{\"id\":\"0e8ad5cf-5fda-497c-88fe-544b369d1936\",\"type\":\"ColumnDataSource\"},\"glyph\":{\"id\":\"da640568-6f10-4e3d-a601-c383c9473391\",\"type\":\"Rect\"},\"hover_glyph\":null,\"nonselection_glyph\":null,\"selection_glyph\":null},\"id\":\"caa67795-7fc2-44d7-b9a4-0a393a5f0d92\",\"type\":\"GlyphRenderer\"},{\"attributes\":{\"fill_alpha\":{\"field\":\"fill_alpha\"},\"fill_color\":{\"field\":\"color\"},\"height\":{\"field\":\"height\",\"units\":\"data\"},\"line_color\":{\"field\":\"line_color\"},\"width\":{\"field\":\"width\",\"units\":\"data\"},\"x\":{\"field\":\"x\"},\"y\":{\"field\":\"y\"}},\"id\":\"c34eb59d-bcb9-419d-911a-67605903583c\",\"type\":\"Rect\"},{\"attributes\":{\"data_source\":{\"id\":\"87f87330-a5fe-4dd9-85de-b0f196da9ed1\",\"type\":\"ColumnDataSource\"},\"glyph\":{\"id\":\"757f9e03-6725-464a-a31d-cd9ca0ad5f10\",\"type\":\"Rect\"},\"hover_glyph\":null,\"nonselection_glyph\":null,\"selection_glyph\":null},\"id\":\"87822da5-6dc2-40da-968c-9c0abed17a4e\",\"type\":\"GlyphRenderer\"},{\"attributes\":{\"fill_alpha\":{\"field\":\"fill_alpha\"},\"fill_color\":{\"field\":\"color\"},\"height\":{\"field\":\"height\",\"units\":\"data\"},\"line_color\":{\"field\":\"line_color\"},\"width\":{\"field\":\"width\",\"units\":\"data\"},\"x\":{\"field\":\"x\"},\"y\":{\"field\":\"y\"}},\"id\":\"7d645188-ed90-489b-9f23-67306bed080d\",\"type\":\"Rect\"},{\"attributes\":{\"data_source\":{\"id\":\"44b46416-a520-4d3a-8d34-c04ab3c81868\",\"type\":\"ColumnDataSource\"},\"glyph\":{\"id\":\"be5af6c7-027d-404b-948b-29fef43b5f5a\",\"type\":\"Rect\"},\"hover_glyph\":null,\"nonselection_glyph\":null,\"selection_glyph\":null},\"id\":\"8f40ce09-1246-4895-8abc-8ea963be7b8e\",\"type\":\"GlyphRenderer\"},{\"attributes\":{\"data_source\":{\"id\":\"7b8f1cd4-f6d5-4244-9380-ae3ed3aa2dd1\",\"type\":\"ColumnDataSource\"},\"glyph\":{\"id\":\"3214e59f-cc0e-4a6e-b917-07b0650669cc\",\"type\":\"Rect\"},\"hover_glyph\":null,\"nonselection_glyph\":null,\"selection_glyph\":null},\"id\":\"dd697ee3-6c10-4347-b108-932134ca329f\",\"type\":\"GlyphRenderer\"},{\"attributes\":{\"callback\":null,\"end\":258.5},\"id\":\"d4878e70-559e-4195-8ec5-24df6211718d\",\"type\":\"Range1d\"},{\"attributes\":{\"callback\":null,\"column_names\":[\"line_color\",\"line_alpha\",\"color\",\"fill_alpha\",\"height\",\"width\",\"y\",\"x\",\"label\"],\"data\":{\"chart_index\":[\"(1.3, 1.5]\"],\"color\":[\"#f22c40\"],\"fill_alpha\":[0.8],\"height\":[99.0],\"label\":[\"(1.3, 1.5]\"],\"line_alpha\":[1.0],\"line_color\":[\"black\"],\"width\":[0.18749339910030915],\"x\":[\"1.4\"],\"y\":[49.5]}},\"id\":\"d0570a1a-19e7-41e5-88cf-baf9a106cebd\",\"type\":\"ColumnDataSource\"},{\"attributes\":{\"data_source\":{\"id\":\"15506c52-bbea-4dd8-b84c-e032862b6345\",\"type\":\"ColumnDataSource\"},\"glyph\":{\"id\":\"45a27661-7a13-4a7d-be22-84d895e3d1fc\",\"type\":\"Rect\"},\"hover_glyph\":null,\"nonselection_glyph\":null,\"selection_glyph\":null},\"id\":\"25e4bb31-4461-43f2-ab7b-4026f07b58a3\",\"type\":\"GlyphRenderer\"},{\"attributes\":{\"data_source\":{\"id\":\"9134b1e5-598e-4466-ac8d-e69d62aa3f21\",\"type\":\"ColumnDataSource\"},\"glyph\":{\"id\":\"7d645188-ed90-489b-9f23-67306bed080d\",\"type\":\"Rect\"},\"hover_glyph\":null,\"nonselection_glyph\":null,\"selection_glyph\":null},\"id\":\"9ff3c780-56f0-4938-bb63-867933b179c2\",\"type\":\"GlyphRenderer\"},{\"attributes\":{\"callback\":null,\"column_names\":[\"line_color\",\"line_alpha\",\"color\",\"fill_alpha\",\"height\",\"width\",\"y\",\"x\",\"label\"],\"data\":{\"chart_index\":[\"(3.5, 3.7]\"],\"color\":[\"#f22c40\"],\"fill_alpha\":[0.8],\"height\":[1.0],\"label\":[\"(3.5, 3.7]\"],\"line_alpha\":[1.0],\"line_color\":[\"black\"],\"width\":[0.18749339910030915],\"x\":[\"3.6\"],\"y\":[0.5]}},\"id\":\"ad2d0e7a-b4b2-49a0-910e-96aed5b34776\",\"type\":\"ColumnDataSource\"},{\"attributes\":{},\"id\":\"5ed8068f-b368-4372-931b-3965b192a836\",\"type\":\"BasicTicker\"},{\"attributes\":{\"data_source\":{\"id\":\"405d4d97-40d2-4a72-a7d8-6ff55a82e9cc\",\"type\":\"ColumnDataSource\"},\"glyph\":{\"id\":\"9f68acea-553e-4181-9afc-cfb7c2ed72fb\",\"type\":\"Rect\"},\"hover_glyph\":null,\"nonselection_glyph\":null,\"selection_glyph\":null},\"id\":\"fa18b48c-827a-424e-85dd-a5c51d32bd98\",\"type\":\"GlyphRenderer\"},{\"attributes\":{\"callback\":null,\"column_names\":[\"line_color\",\"line_alpha\",\"color\",\"fill_alpha\",\"height\",\"width\",\"y\",\"x\",\"label\"],\"data\":{\"chart_index\":[\"(2.8, 3.0]\"],\"color\":[\"#f22c40\"],\"fill_alpha\":[0.8],\"height\":[5.0],\"label\":[\"(2.8, 3.0]\"],\"line_alpha\":[1.0],\"line_color\":[\"black\"],\"width\":[0.18749339910030827],\"x\":[\"2.9\"],\"y\":[2.5]}},\"id\":\"cfcb3a5a-4920-4760-8990-b5dbfa646642\",\"type\":\"ColumnDataSource\"},{\"attributes\":{\"callback\":null,\"column_names\":[\"line_color\",\"line_alpha\",\"color\",\"fill_alpha\",\"height\",\"width\",\"y\",\"x\",\"label\"],\"data\":{\"chart_index\":[\"(0.2, 0.4]\"],\"color\":[\"#f22c40\"],\"fill_alpha\":[0.8],\"height\":[161.0],\"label\":[\"(0.2, 0.4]\"],\"line_alpha\":[1.0],\"line_color\":[\"black\"],\"width\":[0.18749339910030915],\"x\":[\"0.3\"],\"y\":[80.5]}},\"id\":\"f81fc0c3-1e31-44cc-a7c7-5cdc7693b560\",\"type\":\"ColumnDataSource\"},{\"attributes\":{\"fill_alpha\":{\"field\":\"fill_alpha\"},\"fill_color\":{\"field\":\"color\"},\"height\":{\"field\":\"height\",\"units\":\"data\"},\"line_color\":{\"field\":\"line_color\"},\"width\":{\"field\":\"width\",\"units\":\"data\"},\"x\":{\"field\":\"x\"},\"y\":{\"field\":\"y\"}},\"id\":\"b53a9800-754b-4308-8aae-9d462f6df044\",\"type\":\"Rect\"},{\"attributes\":{\"fill_alpha\":{\"field\":\"fill_alpha\"},\"fill_color\":{\"field\":\"color\"},\"height\":{\"field\":\"height\",\"units\":\"data\"},\"line_color\":{\"field\":\"line_color\"},\"width\":{\"field\":\"width\",\"units\":\"data\"},\"x\":{\"field\":\"x\"},\"y\":{\"field\":\"y\"}},\"id\":\"967fee8b-78ed-4a78-8781-d712d4839d9c\",\"type\":\"Rect\"},{\"attributes\":{\"callback\":null,\"column_names\":[\"line_color\",\"line_alpha\",\"color\",\"fill_alpha\",\"height\",\"width\",\"y\",\"x\",\"label\"],\"data\":{\"chart_index\":[\"(-1.3, -1.1]\"],\"color\":[\"#f22c40\"],\"fill_alpha\":[0.8],\"height\":[11.0],\"label\":[\"(-1.3, -1.1]\"],\"line_alpha\":[1.0],\"line_color\":[\"black\"],\"width\":[0.18749339910030893],\"x\":[\"-1.2\"],\"y\":[5.5]}},\"id\":\"fd4a0cf0-d841-45c9-b4cc-4401a3fb95be\",\"type\":\"ColumnDataSource\"},{\"attributes\":{},\"id\":\"9770e5ab-59ac-4878-8b76-a9c6712f3515\",\"type\":\"ToolEvents\"},{\"attributes\":{\"data_source\":{\"id\":\"2bd09b8a-43ef-47da-a771-7ac0c5308cfe\",\"type\":\"ColumnDataSource\"},\"glyph\":{\"id\":\"f90efb66-58d3-42ed-8b14-77c45886f53e\",\"type\":\"Rect\"},\"hover_glyph\":null,\"nonselection_glyph\":null,\"selection_glyph\":null},\"id\":\"209dc564-5ee2-4fee-b141-67109b2e4b57\",\"type\":\"GlyphRenderer\"},{\"attributes\":{\"dimension\":1,\"plot\":{\"id\":\"7c6720fe-ad08-44c9-8db8-3204a5d9bce9\",\"subtype\":\"Chart\",\"type\":\"Plot\"},\"ticker\":{\"id\":\"5ed8068f-b368-4372-931b-3965b192a836\",\"type\":\"BasicTicker\"}},\"id\":\"a7b9d91b-c2d1-4c82-90b0-dbfef9a3464f\",\"type\":\"Grid\"},{\"attributes\":{\"callback\":null,\"column_names\":[\"line_color\",\"line_alpha\",\"color\",\"fill_alpha\",\"height\",\"width\",\"y\",\"x\",\"label\"],\"data\":{\"chart_index\":[\"(1.5, 1.7]\"],\"color\":[\"#f22c40\"],\"fill_alpha\":[0.8],\"height\":[62.0],\"label\":[\"(1.5, 1.7]\"],\"line_alpha\":[1.0],\"line_color\":[\"black\"],\"width\":[0.18749339910030915],\"x\":[\"1.6\"],\"y\":[31.0]}},\"id\":\"2bd09b8a-43ef-47da-a771-7ac0c5308cfe\",\"type\":\"ColumnDataSource\"},{\"attributes\":{\"fill_alpha\":{\"field\":\"fill_alpha\"},\"fill_color\":{\"field\":\"color\"},\"height\":{\"field\":\"height\",\"units\":\"data\"},\"line_color\":{\"field\":\"line_color\"},\"width\":{\"field\":\"width\",\"units\":\"data\"},\"x\":{\"field\":\"x\"},\"y\":{\"field\":\"y\"}},\"id\":\"ebc3084a-929f-4c0f-8f24-cbc69c610e08\",\"type\":\"Rect\"},{\"attributes\":{\"callback\":null,\"column_names\":[\"line_color\",\"line_alpha\",\"color\",\"fill_alpha\",\"height\",\"width\",\"y\",\"x\",\"label\"],\"data\":{\"chart_index\":[\"(2.6, 2.8]\"],\"color\":[\"#f22c40\"],\"fill_alpha\":[0.8],\"height\":[6.0],\"label\":[\"(2.6, 2.8]\"],\"line_alpha\":[1.0],\"line_color\":[\"black\"],\"width\":[0.18749339910030915],\"x\":[\"2.7\"],\"y\":[3.0]}},\"id\":\"35e71608-6515-4ad6-923b-4a04ed3ef6dc\",\"type\":\"ColumnDataSource\"},{\"attributes\":{\"fill_alpha\":{\"field\":\"fill_alpha\"},\"fill_color\":{\"field\":\"color\"},\"height\":{\"field\":\"height\",\"units\":\"data\"},\"line_color\":{\"field\":\"line_color\"},\"width\":{\"field\":\"width\",\"units\":\"data\"},\"x\":{\"field\":\"x\"},\"y\":{\"field\":\"y\"}},\"id\":\"3214e59f-cc0e-4a6e-b917-07b0650669cc\",\"type\":\"Rect\"},{\"attributes\":{\"data_source\":{\"id\":\"f81fc0c3-1e31-44cc-a7c7-5cdc7693b560\",\"type\":\"ColumnDataSource\"},\"glyph\":{\"id\":\"95f1c327-5650-47f3-8727-f568fc072164\",\"type\":\"Rect\"},\"hover_glyph\":null,\"nonselection_glyph\":null,\"selection_glyph\":null},\"id\":\"02604de8-36c7-406a-bb08-6277afe21706\",\"type\":\"GlyphRenderer\"},{\"attributes\":{\"fill_alpha\":{\"field\":\"fill_alpha\"},\"fill_color\":{\"field\":\"color\"},\"height\":{\"field\":\"height\",\"units\":\"data\"},\"line_color\":{\"field\":\"line_color\"},\"width\":{\"field\":\"width\",\"units\":\"data\"},\"x\":{\"field\":\"x\"},\"y\":{\"field\":\"y\"}},\"id\":\"c4a1f809-ae2c-423d-856b-c8f5cf1bc18a\",\"type\":\"Rect\"},{\"attributes\":{},\"id\":\"1b8ecaed-c4d6-40d9-9360-c08ea70efbf7\",\"type\":\"BasicTicker\"},{\"attributes\":{\"fill_alpha\":{\"field\":\"fill_alpha\"},\"fill_color\":{\"field\":\"color\"},\"height\":{\"field\":\"height\",\"units\":\"data\"},\"line_color\":{\"field\":\"line_color\"},\"width\":{\"field\":\"width\",\"units\":\"data\"},\"x\":{\"field\":\"x\"},\"y\":{\"field\":\"y\"}},\"id\":\"3e1fa4c9-413f-4ebb-bca5-04faff495ecb\",\"type\":\"Rect\"},{\"attributes\":{\"fill_alpha\":{\"field\":\"fill_alpha\"},\"fill_color\":{\"field\":\"color\"},\"height\":{\"field\":\"height\",\"units\":\"data\"},\"line_color\":{\"field\":\"line_color\"},\"width\":{\"field\":\"width\",\"units\":\"data\"},\"x\":{\"field\":\"x\"},\"y\":{\"field\":\"y\"}},\"id\":\"0f8da50d-2d25-455a-b1b9-576910540ac7\",\"type\":\"Rect\"},{\"attributes\":{\"callback\":null,\"column_names\":[\"line_color\",\"line_alpha\",\"color\",\"fill_alpha\",\"height\",\"width\",\"y\",\"x\",\"label\"],\"data\":{\"chart_index\":[\"(1.1, 1.3]\"],\"color\":[\"#f22c40\"],\"fill_alpha\":[0.8],\"height\":[131.0],\"label\":[\"(1.1, 1.3]\"],\"line_alpha\":[1.0],\"line_color\":[\"black\"],\"width\":[0.18749339910030915],\"x\":[\"1.2\"],\"y\":[65.5]}},\"id\":\"0c2447f8-ec2f-49f3-af9b-bed61235510c\",\"type\":\"ColumnDataSource\"},{\"attributes\":{\"fill_alpha\":{\"field\":\"fill_alpha\"},\"fill_color\":{\"field\":\"color\"},\"height\":{\"field\":\"height\",\"units\":\"data\"},\"line_color\":{\"field\":\"line_color\"},\"width\":{\"field\":\"width\",\"units\":\"data\"},\"x\":{\"field\":\"x\"},\"y\":{\"field\":\"y\"}},\"id\":\"63481e4e-3bf5-4901-97a2-6ffa0ec1dff9\",\"type\":\"Rect\"},{\"attributes\":{\"callback\":null,\"column_names\":[\"line_color\",\"line_alpha\",\"color\",\"fill_alpha\",\"height\",\"width\",\"y\",\"x\",\"label\"],\"data\":{\"chart_index\":[\"(0.9, 1.1]\"],\"color\":[\"#f22c40\"],\"fill_alpha\":[0.8],\"height\":[170.0],\"label\":[\"(0.9, 1.1]\"],\"line_alpha\":[1.0],\"line_color\":[\"black\"],\"width\":[0.18749339910030915],\"x\":[\"1.0\"],\"y\":[85.0]}},\"id\":\"44b46416-a520-4d3a-8d34-c04ab3c81868\",\"type\":\"ColumnDataSource\"},{\"attributes\":{\"callback\":null,\"column_names\":[\"line_color\",\"line_alpha\",\"color\",\"fill_alpha\",\"height\",\"width\",\"y\",\"x\",\"label\"],\"data\":{\"chart_index\":[\"(0.4, 0.5]\"],\"color\":[\"#f22c40\"],\"fill_alpha\":[0.8],\"height\":[191.0],\"label\":[\"(0.4, 0.5]\"],\"line_alpha\":[1.0],\"line_color\":[\"black\"],\"width\":[0.18749339910030915],\"x\":[\"0.45\"],\"y\":[95.5]}},\"id\":\"ec2cdfd6-10e3-482c-abde-ec88f058fc39\",\"type\":\"ColumnDataSource\"},{\"attributes\":{\"data_source\":{\"id\":\"0740e4d5-f566-4845-9290-500b5930129e\",\"type\":\"ColumnDataSource\"},\"glyph\":{\"id\":\"ebc3084a-929f-4c0f-8f24-cbc69c610e08\",\"type\":\"Rect\"},\"hover_glyph\":null,\"nonselection_glyph\":null,\"selection_glyph\":null},\"id\":\"ab6046a6-b3cd-4f62-beda-b03b5cbbe587\",\"type\":\"GlyphRenderer\"},{\"attributes\":{\"callback\":null,\"end\":4.1587466995501545,\"start\":-1.5587466995501544},\"id\":\"bd9067d6-1777-4df7-9df6-7570c09817b8\",\"type\":\"Range1d\"},{\"attributes\":{\"fill_alpha\":{\"field\":\"fill_alpha\"},\"fill_color\":{\"field\":\"color\"},\"height\":{\"field\":\"height\",\"units\":\"data\"},\"line_color\":{\"field\":\"line_color\"},\"width\":{\"field\":\"width\",\"units\":\"data\"},\"x\":{\"field\":\"x\"},\"y\":{\"field\":\"y\"}},\"id\":\"260c6035-4be5-4c99-bdb2-ec4f6544512b\",\"type\":\"Rect\"},{\"attributes\":{\"fill_alpha\":{\"field\":\"fill_alpha\"},\"fill_color\":{\"field\":\"color\"},\"height\":{\"field\":\"height\",\"units\":\"data\"},\"line_color\":{\"field\":\"line_color\"},\"width\":{\"field\":\"width\",\"units\":\"data\"},\"x\":{\"field\":\"x\"},\"y\":{\"field\":\"y\"}},\"id\":\"15f385ca-19d6-47b1-a794-81167a058649\",\"type\":\"Rect\"},{\"attributes\":{\"callback\":null,\"column_names\":[\"line_color\",\"line_alpha\",\"color\",\"fill_alpha\",\"height\",\"width\",\"y\",\"x\",\"label\"],\"data\":{\"chart_index\":[\"(0.7, 0.9]\"],\"color\":[\"#f22c40\"],\"fill_alpha\":[0.8],\"height\":[176.0],\"label\":[\"(0.7, 0.9]\"],\"line_alpha\":[1.0],\"line_color\":[\"black\"],\"width\":[0.18749339910030915],\"x\":[\"0.8\"],\"y\":[88.0]}},\"id\":\"065d5da7-e57e-4b9d-9f39-26b08d76eb69\",\"type\":\"ColumnDataSource\"},{\"attributes\":{\"fill_alpha\":{\"field\":\"fill_alpha\"},\"fill_color\":{\"field\":\"color\"},\"height\":{\"field\":\"height\",\"units\":\"data\"},\"line_color\":{\"field\":\"line_color\"},\"width\":{\"field\":\"width\",\"units\":\"data\"},\"x\":{\"field\":\"x\"},\"y\":{\"field\":\"y\"}},\"id\":\"b3dd6bc6-0906-46c3-a02d-9b0f6cacb9de\",\"type\":\"Rect\"},{\"attributes\":{\"callback\":null,\"column_names\":[\"line_color\",\"line_alpha\",\"color\",\"fill_alpha\",\"height\",\"width\",\"y\",\"x\",\"label\"],\"data\":{\"chart_index\":[\"(-0.4, -0.2]\"],\"color\":[\"#f22c40\"],\"fill_alpha\":[0.8],\"height\":[123.0],\"label\":[\"(-0.4, -0.2]\"],\"line_alpha\":[1.0],\"line_color\":[\"black\"],\"width\":[0.18749339910030915],\"x\":[\"-0.3\"],\"y\":[61.5]}},\"id\":\"4ace09cf-15a2-47dc-a9df-6a5fed4cef69\",\"type\":\"ColumnDataSource\"},{\"attributes\":{\"callback\":null,\"column_names\":[\"line_color\",\"line_alpha\",\"color\",\"fill_alpha\",\"height\",\"width\",\"y\",\"x\",\"label\"],\"data\":{\"chart_index\":[\"[-1.5, -1.3]\"],\"color\":[\"#f22c40\"],\"fill_alpha\":[0.8],\"height\":[2.0],\"label\":[\"[-1.5, -1.3]\"],\"line_alpha\":[1.0],\"line_color\":[\"black\"],\"width\":[0.18749339910030915],\"x\":[\"-1.4\"],\"y\":[1.0]}},\"id\":\"15506c52-bbea-4dd8-b84c-e032862b6345\",\"type\":\"ColumnDataSource\"},{\"attributes\":{\"plot\":{\"id\":\"7c6720fe-ad08-44c9-8db8-3204a5d9bce9\",\"subtype\":\"Chart\",\"type\":\"Plot\"}},\"id\":\"df7a09e6-b638-4e70-9396-d28f1b973abe\",\"type\":\"PanTool\"},{\"attributes\":{\"fill_alpha\":{\"field\":\"fill_alpha\"},\"fill_color\":{\"field\":\"color\"},\"height\":{\"field\":\"height\",\"units\":\"data\"},\"line_color\":{\"field\":\"line_color\"},\"width\":{\"field\":\"width\",\"units\":\"data\"},\"x\":{\"field\":\"x\"},\"y\":{\"field\":\"y\"}},\"id\":\"be5af6c7-027d-404b-948b-29fef43b5f5a\",\"type\":\"Rect\"},{\"attributes\":{\"fill_alpha\":{\"field\":\"fill_alpha\"},\"fill_color\":{\"field\":\"color\"},\"height\":{\"field\":\"height\",\"units\":\"data\"},\"line_color\":{\"field\":\"line_color\"},\"width\":{\"field\":\"width\",\"units\":\"data\"},\"x\":{\"field\":\"x\"},\"y\":{\"field\":\"y\"}},\"id\":\"99ba119c-cf5e-47e7-86d8-b9afcde35e2b\",\"type\":\"Rect\"},{\"attributes\":{\"data_source\":{\"id\":\"4ace09cf-15a2-47dc-a9df-6a5fed4cef69\",\"type\":\"ColumnDataSource\"},\"glyph\":{\"id\":\"15f385ca-19d6-47b1-a794-81167a058649\",\"type\":\"Rect\"},\"hover_glyph\":null,\"nonselection_glyph\":null,\"selection_glyph\":null},\"id\":\"6013437a-a330-4a7c-8b4f-dd19b70ee514\",\"type\":\"GlyphRenderer\"},{\"attributes\":{\"fill_alpha\":{\"field\":\"fill_alpha\"},\"fill_color\":{\"field\":\"color\"},\"height\":{\"field\":\"height\",\"units\":\"data\"},\"line_color\":{\"field\":\"line_color\"},\"width\":{\"field\":\"width\",\"units\":\"data\"},\"x\":{\"field\":\"x\"},\"y\":{\"field\":\"y\"}},\"id\":\"13b1f5c0-647d-4102-85c2-e35279fc3acc\",\"type\":\"Rect\"},{\"attributes\":{\"callback\":null,\"column_names\":[\"line_color\",\"line_alpha\",\"color\",\"fill_alpha\",\"height\",\"width\",\"y\",\"x\",\"label\"],\"data\":{\"chart_index\":[\"(1.9, 2.0]\"],\"color\":[\"#f22c40\"],\"fill_alpha\":[0.8],\"height\":[38.0],\"label\":[\"(1.9, 2.0]\"],\"line_alpha\":[1.0],\"line_color\":[\"black\"],\"width\":[0.18749339910030938],\"x\":[\"1.95\"],\"y\":[19.0]}},\"id\":\"7b8f1cd4-f6d5-4244-9380-ae3ed3aa2dd1\",\"type\":\"ColumnDataSource\"},{\"attributes\":{\"callback\":null,\"column_names\":[\"line_color\",\"line_alpha\",\"color\",\"fill_alpha\",\"height\",\"width\",\"y\",\"x\",\"label\"],\"data\":{\"chart_index\":[\"(3.2, 3.4]\"],\"color\":[\"#f22c40\"],\"fill_alpha\":[0.8],\"height\":[2.0],\"label\":[\"(3.2, 3.4]\"],\"line_alpha\":[1.0],\"line_color\":[\"black\"],\"width\":[0.18749339910030915],\"x\":[\"3.3\"],\"y\":[1.0]}},\"id\":\"a2412930-7bd5-4bb8-830b-ceb850a0d07c\",\"type\":\"ColumnDataSource\"},{\"attributes\":{\"fill_alpha\":{\"field\":\"fill_alpha\"},\"fill_color\":{\"field\":\"color\"},\"height\":{\"field\":\"height\",\"units\":\"data\"},\"line_color\":{\"field\":\"line_color\"},\"width\":{\"field\":\"width\",\"units\":\"data\"},\"x\":{\"field\":\"x\"},\"y\":{\"field\":\"y\"}},\"id\":\"be198fa1-3b6f-4460-a0c6-7dbf27bbb8bd\",\"type\":\"Rect\"},{\"attributes\":{\"data_source\":{\"id\":\"ac3c1d14-ac59-48a5-89fb-4828db133a60\",\"type\":\"ColumnDataSource\"},\"glyph\":{\"id\":\"0d22d577-3c8a-4c79-b26c-f6c7ab47712b\",\"type\":\"Rect\"},\"hover_glyph\":null,\"nonselection_glyph\":null,\"selection_glyph\":null},\"id\":\"800471ca-00d2-4565-8d97-e5ce90272815\",\"type\":\"GlyphRenderer\"},{\"attributes\":{\"data_source\":{\"id\":\"0c2447f8-ec2f-49f3-af9b-bed61235510c\",\"type\":\"ColumnDataSource\"},\"glyph\":{\"id\":\"99ba119c-cf5e-47e7-86d8-b9afcde35e2b\",\"type\":\"Rect\"},\"hover_glyph\":null,\"nonselection_glyph\":null,\"selection_glyph\":null},\"id\":\"4cc6e359-08eb-4c34-9555-92031bf28b26\",\"type\":\"GlyphRenderer\"},{\"attributes\":{\"fill_alpha\":{\"field\":\"fill_alpha\"},\"fill_color\":{\"field\":\"color\"},\"height\":{\"field\":\"height\",\"units\":\"data\"},\"line_color\":{\"field\":\"line_color\"},\"width\":{\"field\":\"width\",\"units\":\"data\"},\"x\":{\"field\":\"x\"},\"y\":{\"field\":\"y\"}},\"id\":\"757f9e03-6725-464a-a31d-cd9ca0ad5f10\",\"type\":\"Rect\"},{\"attributes\":{\"data_source\":{\"id\":\"ec2cdfd6-10e3-482c-abde-ec88f058fc39\",\"type\":\"ColumnDataSource\"},\"glyph\":{\"id\":\"0f26b0bd-fe57-4bfe-9034-cc1990d7bbd4\",\"type\":\"Rect\"},\"hover_glyph\":null,\"nonselection_glyph\":null,\"selection_glyph\":null},\"id\":\"b7f1ff6d-9070-417c-8157-2aedc493b4c4\",\"type\":\"GlyphRenderer\"},{\"attributes\":{\"fill_alpha\":{\"field\":\"fill_alpha\"},\"fill_color\":{\"field\":\"color\"},\"height\":{\"field\":\"height\",\"units\":\"data\"},\"line_color\":{\"field\":\"line_color\"},\"width\":{\"field\":\"width\",\"units\":\"data\"},\"x\":{\"field\":\"x\"},\"y\":{\"field\":\"y\"}},\"id\":\"a1f7d4dc-fe75-425a-a00f-eb0b78c6d6c5\",\"type\":\"Rect\"},{\"attributes\":{\"data_source\":{\"id\":\"ad2d0e7a-b4b2-49a0-910e-96aed5b34776\",\"type\":\"ColumnDataSource\"},\"glyph\":{\"id\":\"c4a1f809-ae2c-423d-856b-c8f5cf1bc18a\",\"type\":\"Rect\"},\"hover_glyph\":null,\"nonselection_glyph\":null,\"selection_glyph\":null},\"id\":\"16ea556d-bbe4-4387-98de-1407959f0c97\",\"type\":\"GlyphRenderer\"},{\"attributes\":{\"data_source\":{\"id\":\"a2412930-7bd5-4bb8-830b-ceb850a0d07c\",\"type\":\"ColumnDataSource\"},\"glyph\":{\"id\":\"d62ffc67-6d20-473c-b3f2-f1f6b87bf6df\",\"type\":\"Rect\"},\"hover_glyph\":null,\"nonselection_glyph\":null,\"selection_glyph\":null},\"id\":\"b253fed8-380f-43c1-8b44-51ac4a848c8c\",\"type\":\"GlyphRenderer\"},{\"attributes\":{\"data_source\":{\"id\":\"d0570a1a-19e7-41e5-88cf-baf9a106cebd\",\"type\":\"ColumnDataSource\"},\"glyph\":{\"id\":\"967fee8b-78ed-4a78-8781-d712d4839d9c\",\"type\":\"Rect\"},\"hover_glyph\":null,\"nonselection_glyph\":null,\"selection_glyph\":null},\"id\":\"183e4a8d-efdd-479d-ade2-2e6d205994db\",\"type\":\"GlyphRenderer\"},{\"attributes\":{\"active_drag\":\"auto\",\"active_scroll\":\"auto\",\"active_tap\":\"auto\",\"tools\":[{\"id\":\"df7a09e6-b638-4e70-9396-d28f1b973abe\",\"type\":\"PanTool\"},{\"id\":\"4e73942b-b9ea-4c91-b9cb-d4c1822c619f\",\"type\":\"WheelZoomTool\"},{\"id\":\"1266497b-e52c-445d-8c2e-3dc974788bce\",\"type\":\"BoxZoomTool\"},{\"id\":\"3cbbb333-4f90-4d4f-bbba-b59251d68306\",\"type\":\"SaveTool\"},{\"id\":\"de38bfad-4b8e-4b80-b004-107f03afbb4f\",\"type\":\"ResetTool\"},{\"id\":\"6272d691-a05a-42e8-a10f-ae26cdb24f23\",\"type\":\"HelpTool\"}]},\"id\":\"23f97be6-74dd-4f8f-8466-4148f500bac4\",\"type\":\"Toolbar\"},{\"attributes\":{\"data_source\":{\"id\":\"348da8dd-0875-465c-bd53-cf73585abdfb\",\"type\":\"ColumnDataSource\"},\"glyph\":{\"id\":\"0f8da50d-2d25-455a-b1b9-576910540ac7\",\"type\":\"Rect\"},\"hover_glyph\":null,\"nonselection_glyph\":null,\"selection_glyph\":null},\"id\":\"800fc4d9-bcb8-4d5d-b9e9-0b3e68f4959b\",\"type\":\"GlyphRenderer\"},{\"attributes\":{\"data_source\":{\"id\":\"40f564cf-02e8-48c8-9cbc-e210abfed137\",\"type\":\"ColumnDataSource\"},\"glyph\":{\"id\":\"a1f7d4dc-fe75-425a-a00f-eb0b78c6d6c5\",\"type\":\"Rect\"},\"hover_glyph\":null,\"nonselection_glyph\":null,\"selection_glyph\":null},\"id\":\"638944f0-84f1-435b-9343-52ee3b5c4610\",\"type\":\"GlyphRenderer\"},{\"attributes\":{\"data_source\":{\"id\":\"35e71608-6515-4ad6-923b-4a04ed3ef6dc\",\"type\":\"ColumnDataSource\"},\"glyph\":{\"id\":\"be198fa1-3b6f-4460-a0c6-7dbf27bbb8bd\",\"type\":\"Rect\"},\"hover_glyph\":null,\"nonselection_glyph\":null,\"selection_glyph\":null},\"id\":\"2c93db6e-008c-4cd9-9dcd-85a0707f0d64\",\"type\":\"GlyphRenderer\"},{\"attributes\":{\"plot\":{\"id\":\"7c6720fe-ad08-44c9-8db8-3204a5d9bce9\",\"subtype\":\"Chart\",\"type\":\"Plot\"}},\"id\":\"de38bfad-4b8e-4b80-b004-107f03afbb4f\",\"type\":\"ResetTool\"},{\"attributes\":{\"data_source\":{\"id\":\"cfcb3a5a-4920-4760-8990-b5dbfa646642\",\"type\":\"ColumnDataSource\"},\"glyph\":{\"id\":\"13b1f5c0-647d-4102-85c2-e35279fc3acc\",\"type\":\"Rect\"},\"hover_glyph\":null,\"nonselection_glyph\":null,\"selection_glyph\":null},\"id\":\"90760174-6e76-4f67-aa84-47b756bfca6b\",\"type\":\"GlyphRenderer\"},{\"attributes\":{\"fill_alpha\":{\"field\":\"fill_alpha\"},\"fill_color\":{\"field\":\"color\"},\"height\":{\"field\":\"height\",\"units\":\"data\"},\"line_color\":{\"field\":\"line_color\"},\"width\":{\"field\":\"width\",\"units\":\"data\"},\"x\":{\"field\":\"x\"},\"y\":{\"field\":\"y\"}},\"id\":\"45a27661-7a13-4a7d-be22-84d895e3d1fc\",\"type\":\"Rect\"},{\"attributes\":{\"plot\":{\"id\":\"7c6720fe-ad08-44c9-8db8-3204a5d9bce9\",\"subtype\":\"Chart\",\"type\":\"Plot\"}},\"id\":\"6272d691-a05a-42e8-a10f-ae26cdb24f23\",\"type\":\"HelpTool\"},{\"attributes\":{\"callback\":null,\"column_names\":[\"line_color\",\"line_alpha\",\"color\",\"fill_alpha\",\"height\",\"width\",\"y\",\"x\",\"label\"],\"data\":{\"chart_index\":[\"(2.0, 2.2]\"],\"color\":[\"#f22c40\"],\"fill_alpha\":[0.8],\"height\":[28.0],\"label\":[\"(2.0, 2.2]\"],\"line_alpha\":[1.0],\"line_color\":[\"black\"],\"width\":[0.18749339910030915],\"x\":[\"2.1\"],\"y\":[14.0]}},\"id\":\"87f87330-a5fe-4dd9-85de-b0f196da9ed1\",\"type\":\"ColumnDataSource\"},{\"attributes\":{\"callback\":null,\"column_names\":[\"line_color\",\"line_alpha\",\"color\",\"fill_alpha\",\"height\",\"width\",\"y\",\"x\",\"label\"],\"data\":{\"chart_index\":[\"(3.9, 4.1]\"],\"color\":[\"#f22c40\"],\"fill_alpha\":[0.8],\"height\":[2.0],\"label\":[\"(3.9, 4.1]\"],\"line_alpha\":[1.0],\"line_color\":[\"black\"],\"width\":[0.18749339910030915],\"x\":[\"4.0\"],\"y\":[1.0]}},\"id\":\"ac3c1d14-ac59-48a5-89fb-4828db133a60\",\"type\":\"ColumnDataSource\"},{\"attributes\":{\"location\":\"top_left\",\"plot\":{\"id\":\"7c6720fe-ad08-44c9-8db8-3204a5d9bce9\",\"subtype\":\"Chart\",\"type\":\"Plot\"}},\"id\":\"d390efbd-114c-4e47-bbe3-5891f4ed50cd\",\"type\":\"Legend\"},{\"attributes\":{\"data_source\":{\"id\":\"065d5da7-e57e-4b9d-9f39-26b08d76eb69\",\"type\":\"ColumnDataSource\"},\"glyph\":{\"id\":\"c0a2767e-bfdd-481d-94f4-a626b83a83fe\",\"type\":\"Rect\"},\"hover_glyph\":null,\"nonselection_glyph\":null,\"selection_glyph\":null},\"id\":\"cf6a8fef-81aa-46da-9c2c-ef8c3a527e2f\",\"type\":\"GlyphRenderer\"},{\"attributes\":{\"below\":[{\"id\":\"20c1642c-566c-4743-a06c-88d80e2d9221\",\"type\":\"LinearAxis\"}],\"left\":[{\"id\":\"063f65c3-3834-442c-bb38-665dae71da2e\",\"type\":\"LinearAxis\"}],\"renderers\":[{\"id\":\"ccc32636-6311-4894-b999-3522872a1fee\",\"type\":\"BoxAnnotation\"},{\"id\":\"25e4bb31-4461-43f2-ab7b-4026f07b58a3\",\"type\":\"GlyphRenderer\"},{\"id\":\"95eb718f-d9cd-4f92-b521-fcc6dd14a18d\",\"type\":\"GlyphRenderer\"},{\"id\":\"51ba138d-e4e0-4d51-897f-eeb8513fc62c\",\"type\":\"GlyphRenderer\"},{\"id\":\"800fc4d9-bcb8-4d5d-b9e9-0b3e68f4959b\",\"type\":\"GlyphRenderer\"},{\"id\":\"76a548a1-87c0-48f8-a583-7549af7a0a3a\",\"type\":\"GlyphRenderer\"},{\"id\":\"c6c2293a-56bd-494a-9299-6e90002823c1\",\"type\":\"GlyphRenderer\"},{\"id\":\"6013437a-a330-4a7c-8b4f-dd19b70ee514\",\"type\":\"GlyphRenderer\"},{\"id\":\"f350943c-59f9-481c-a417-959e13748807\",\"type\":\"GlyphRenderer\"},{\"id\":\"638944f0-84f1-435b-9343-52ee3b5c4610\",\"type\":\"GlyphRenderer\"},{\"id\":\"02604de8-36c7-406a-bb08-6277afe21706\",\"type\":\"GlyphRenderer\"},{\"id\":\"b7f1ff6d-9070-417c-8157-2aedc493b4c4\",\"type\":\"GlyphRenderer\"},{\"id\":\"8338acca-ea7b-449f-a539-a5b12d82e5b1\",\"type\":\"GlyphRenderer\"},{\"id\":\"cf6a8fef-81aa-46da-9c2c-ef8c3a527e2f\",\"type\":\"GlyphRenderer\"},{\"id\":\"8f40ce09-1246-4895-8abc-8ea963be7b8e\",\"type\":\"GlyphRenderer\"},{\"id\":\"4cc6e359-08eb-4c34-9555-92031bf28b26\",\"type\":\"GlyphRenderer\"},{\"id\":\"183e4a8d-efdd-479d-ade2-2e6d205994db\",\"type\":\"GlyphRenderer\"},{\"id\":\"209dc564-5ee2-4fee-b141-67109b2e4b57\",\"type\":\"GlyphRenderer\"},{\"id\":\"ab6046a6-b3cd-4f62-beda-b03b5cbbe587\",\"type\":\"GlyphRenderer\"},{\"id\":\"dd697ee3-6c10-4347-b108-932134ca329f\",\"type\":\"GlyphRenderer\"},{\"id\":\"87822da5-6dc2-40da-968c-9c0abed17a4e\",\"type\":\"GlyphRenderer\"},{\"id\":\"fa18b48c-827a-424e-85dd-a5c51d32bd98\",\"type\":\"GlyphRenderer\"},{\"id\":\"954ae545-0aa2-4ad2-bdee-73a97d07cfc3\",\"type\":\"GlyphRenderer\"},{\"id\":\"2c93db6e-008c-4cd9-9dcd-85a0707f0d64\",\"type\":\"GlyphRenderer\"},{\"id\":\"90760174-6e76-4f67-aa84-47b756bfca6b\",\"type\":\"GlyphRenderer\"},{\"id\":\"9ff3c780-56f0-4938-bb63-867933b179c2\",\"type\":\"GlyphRenderer\"},{\"id\":\"b253fed8-380f-43c1-8b44-51ac4a848c8c\",\"type\":\"GlyphRenderer\"},{\"id\":\"efb5beec-0f28-4a9e-8dfa-6ceb04eee05e\",\"type\":\"GlyphRenderer\"},{\"id\":\"16ea556d-bbe4-4387-98de-1407959f0c97\",\"type\":\"GlyphRenderer\"},{\"id\":\"caa67795-7fc2-44d7-b9a4-0a393a5f0d92\",\"type\":\"GlyphRenderer\"},{\"id\":\"800471ca-00d2-4565-8d97-e5ce90272815\",\"type\":\"GlyphRenderer\"},{\"id\":\"d390efbd-114c-4e47-bbe3-5891f4ed50cd\",\"type\":\"Legend\"},{\"id\":\"20c1642c-566c-4743-a06c-88d80e2d9221\",\"type\":\"LinearAxis\"},{\"id\":\"063f65c3-3834-442c-bb38-665dae71da2e\",\"type\":\"LinearAxis\"},{\"id\":\"a7b9d91b-c2d1-4c82-90b0-dbfef9a3464f\",\"type\":\"Grid\"}],\"title\":{\"id\":\"b85924fc-8f06-4ba6-b320-96afd44086da\",\"type\":\"Title\"},\"tool_events\":{\"id\":\"9770e5ab-59ac-4878-8b76-a9c6712f3515\",\"type\":\"ToolEvents\"},\"toolbar\":{\"id\":\"23f97be6-74dd-4f8f-8466-4148f500bac4\",\"type\":\"Toolbar\"},\"x_mapper_type\":\"auto\",\"x_range\":{\"id\":\"bd9067d6-1777-4df7-9df6-7570c09817b8\",\"type\":\"Range1d\"},\"y_mapper_type\":\"auto\",\"y_range\":{\"id\":\"d4878e70-559e-4195-8ec5-24df6211718d\",\"type\":\"Range1d\"}},\"id\":\"7c6720fe-ad08-44c9-8db8-3204a5d9bce9\",\"subtype\":\"Chart\",\"type\":\"Plot\"},{\"attributes\":{\"data_source\":{\"id\":\"c2547eda-79c8-4fae-a5b4-f7c87d8f06b9\",\"type\":\"ColumnDataSource\"},\"glyph\":{\"id\":\"b53a9800-754b-4308-8aae-9d462f6df044\",\"type\":\"Rect\"},\"hover_glyph\":null,\"nonselection_glyph\":null,\"selection_glyph\":null},\"id\":\"76a548a1-87c0-48f8-a583-7549af7a0a3a\",\"type\":\"GlyphRenderer\"},{\"attributes\":{\"data_source\":{\"id\":\"ad284037-a908-45eb-b32f-5f40b06f7fda\",\"type\":\"ColumnDataSource\"},\"glyph\":{\"id\":\"9fb5e71c-f803-4970-9813-684702a93bd9\",\"type\":\"Rect\"},\"hover_glyph\":null,\"nonselection_glyph\":null,\"selection_glyph\":null},\"id\":\"8338acca-ea7b-449f-a539-a5b12d82e5b1\",\"type\":\"GlyphRenderer\"},{\"attributes\":{\"fill_alpha\":{\"field\":\"fill_alpha\"},\"fill_color\":{\"field\":\"color\"},\"height\":{\"field\":\"height\",\"units\":\"data\"},\"line_color\":{\"field\":\"line_color\"},\"width\":{\"field\":\"width\",\"units\":\"data\"},\"x\":{\"field\":\"x\"},\"y\":{\"field\":\"y\"}},\"id\":\"c0a2767e-bfdd-481d-94f4-a626b83a83fe\",\"type\":\"Rect\"},{\"attributes\":{\"plot\":{\"id\":\"7c6720fe-ad08-44c9-8db8-3204a5d9bce9\",\"subtype\":\"Chart\",\"type\":\"Plot\"}},\"id\":\"4e73942b-b9ea-4c91-b9cb-d4c1822c619f\",\"type\":\"WheelZoomTool\"},{\"attributes\":{\"axis_label\":\"Count( Value )\",\"formatter\":{\"id\":\"215ce090-d92c-4ce9-b51a-56c1a1981586\",\"type\":\"BasicTickFormatter\"},\"plot\":{\"id\":\"7c6720fe-ad08-44c9-8db8-3204a5d9bce9\",\"subtype\":\"Chart\",\"type\":\"Plot\"},\"ticker\":{\"id\":\"5ed8068f-b368-4372-931b-3965b192a836\",\"type\":\"BasicTicker\"}},\"id\":\"063f65c3-3834-442c-bb38-665dae71da2e\",\"type\":\"LinearAxis\"},{\"attributes\":{},\"id\":\"8ffaef41-1129-4ff1-b589-7918dc577d9a\",\"type\":\"BasicTickFormatter\"},{\"attributes\":{\"callback\":null,\"column_names\":[\"line_color\",\"line_alpha\",\"color\",\"fill_alpha\",\"height\",\"width\",\"y\",\"x\",\"label\"],\"data\":{\"chart_index\":[\"(0.5, 0.7]\"],\"color\":[\"#f22c40\"],\"fill_alpha\":[0.8],\"height\":[235.0],\"label\":[\"(0.5, 0.7]\"],\"line_alpha\":[1.0],\"line_color\":[\"black\"],\"width\":[0.1874933991003087],\"x\":[\"0.6\"],\"y\":[117.5]}},\"id\":\"ad284037-a908-45eb-b32f-5f40b06f7fda\",\"type\":\"ColumnDataSource\"},{\"attributes\":{\"callback\":null,\"column_names\":[\"line_color\",\"line_alpha\",\"color\",\"fill_alpha\",\"height\",\"width\",\"y\",\"x\",\"label\"],\"data\":{\"chart_index\":[\"(-1.1, -1.0]\"],\"color\":[\"#f22c40\"],\"fill_alpha\":[0.8],\"height\":[14.0],\"label\":[\"(-1.1, -1.0]\"],\"line_alpha\":[1.0],\"line_color\":[\"black\"],\"width\":[0.18749339910030915],\"x\":[\"-1.05\"],\"y\":[7.0]}},\"id\":\"de3a10c8-54fe-49b5-9973-241cabc5b0a4\",\"type\":\"ColumnDataSource\"},{\"attributes\":{\"callback\":null,\"column_names\":[\"line_color\",\"line_alpha\",\"color\",\"fill_alpha\",\"height\",\"width\",\"y\",\"x\",\"label\"],\"data\":{\"chart_index\":[\"(3.7, 3.9]\"],\"color\":[\"#f22c40\"],\"fill_alpha\":[0.8],\"height\":[0.0],\"label\":[\"(3.7, 3.9]\"],\"line_alpha\":[1.0],\"line_color\":[\"black\"],\"width\":[0.18749339910030915],\"x\":[\"3.8\"],\"y\":[0.0]}},\"id\":\"0e8ad5cf-5fda-497c-88fe-544b369d1936\",\"type\":\"ColumnDataSource\"},{\"attributes\":{\"callback\":null,\"column_names\":[\"line_color\",\"line_alpha\",\"color\",\"fill_alpha\",\"height\",\"width\",\"y\",\"x\",\"label\"],\"data\":{\"chart_index\":[\"(-0.6, -0.4]\"],\"color\":[\"#f22c40\"],\"fill_alpha\":[0.8],\"height\":[85.0],\"label\":[\"(-0.6, -0.4]\"],\"line_alpha\":[1.0],\"line_color\":[\"black\"],\"width\":[0.18749339910030893],\"x\":[\"-0.5\"],\"y\":[42.5]}},\"id\":\"7e5e2362-2df6-4867-be78-c0cdd95dfa73\",\"type\":\"ColumnDataSource\"},{\"attributes\":{\"overlay\":{\"id\":\"ccc32636-6311-4894-b999-3522872a1fee\",\"type\":\"BoxAnnotation\"},\"plot\":{\"id\":\"7c6720fe-ad08-44c9-8db8-3204a5d9bce9\",\"subtype\":\"Chart\",\"type\":\"Plot\"}},\"id\":\"1266497b-e52c-445d-8c2e-3dc974788bce\",\"type\":\"BoxZoomTool\"},{\"attributes\":{\"data_source\":{\"id\":\"fd4a0cf0-d841-45c9-b4cc-4401a3fb95be\",\"type\":\"ColumnDataSource\"},\"glyph\":{\"id\":\"260c6035-4be5-4c99-bdb2-ec4f6544512b\",\"type\":\"Rect\"},\"hover_glyph\":null,\"nonselection_glyph\":null,\"selection_glyph\":null},\"id\":\"95eb718f-d9cd-4f92-b521-fcc6dd14a18d\",\"type\":\"GlyphRenderer\"},{\"attributes\":{\"fill_alpha\":{\"field\":\"fill_alpha\"},\"fill_color\":{\"field\":\"color\"},\"height\":{\"field\":\"height\",\"units\":\"data\"},\"line_color\":{\"field\":\"line_color\"},\"width\":{\"field\":\"width\",\"units\":\"data\"},\"x\":{\"field\":\"x\"},\"y\":{\"field\":\"y\"}},\"id\":\"f90efb66-58d3-42ed-8b14-77c45886f53e\",\"type\":\"Rect\"},{\"attributes\":{\"callback\":null,\"column_names\":[\"line_color\",\"line_alpha\",\"color\",\"fill_alpha\",\"height\",\"width\",\"y\",\"x\",\"label\"],\"data\":{\"chart_index\":[\"(-0.8, -0.6]\"],\"color\":[\"#f22c40\"],\"fill_alpha\":[0.8],\"height\":[55.0],\"label\":[\"(-0.8, -0.6]\"],\"line_alpha\":[1.0],\"line_color\":[\"black\"],\"width\":[0.18749339910030915],\"x\":[\"-0.7\"],\"y\":[27.5]}},\"id\":\"c2547eda-79c8-4fae-a5b4-f7c87d8f06b9\",\"type\":\"ColumnDataSource\"},{\"attributes\":{\"fill_alpha\":{\"field\":\"fill_alpha\"},\"fill_color\":{\"field\":\"color\"},\"height\":{\"field\":\"height\",\"units\":\"data\"},\"line_color\":{\"field\":\"line_color\"},\"width\":{\"field\":\"width\",\"units\":\"data\"},\"x\":{\"field\":\"x\"},\"y\":{\"field\":\"y\"}},\"id\":\"da640568-6f10-4e3d-a601-c383c9473391\",\"type\":\"Rect\"},{\"attributes\":{\"data_source\":{\"id\":\"afad02fa-6081-460f-a553-8e49c7c6d650\",\"type\":\"ColumnDataSource\"},\"glyph\":{\"id\":\"3e1fa4c9-413f-4ebb-bca5-04faff495ecb\",\"type\":\"Rect\"},\"hover_glyph\":null,\"nonselection_glyph\":null,\"selection_glyph\":null},\"id\":\"954ae545-0aa2-4ad2-bdee-73a97d07cfc3\",\"type\":\"GlyphRenderer\"},{\"attributes\":{\"fill_alpha\":{\"field\":\"fill_alpha\"},\"fill_color\":{\"field\":\"color\"},\"height\":{\"field\":\"height\",\"units\":\"data\"},\"line_color\":{\"field\":\"line_color\"},\"width\":{\"field\":\"width\",\"units\":\"data\"},\"x\":{\"field\":\"x\"},\"y\":{\"field\":\"y\"}},\"id\":\"5b396f40-bd9b-44f5-b901-7301bc5018d2\",\"type\":\"Rect\"},{\"attributes\":{\"fill_alpha\":{\"field\":\"fill_alpha\"},\"fill_color\":{\"field\":\"color\"},\"height\":{\"field\":\"height\",\"units\":\"data\"},\"line_color\":{\"field\":\"line_color\"},\"width\":{\"field\":\"width\",\"units\":\"data\"},\"x\":{\"field\":\"x\"},\"y\":{\"field\":\"y\"}},\"id\":\"0f26b0bd-fe57-4bfe-9034-cc1990d7bbd4\",\"type\":\"Rect\"},{\"attributes\":{\"callback\":null,\"column_names\":[\"line_color\",\"line_alpha\",\"color\",\"fill_alpha\",\"height\",\"width\",\"y\",\"x\",\"label\"],\"data\":{\"chart_index\":[\"(3.4, 3.5]\"],\"color\":[\"#f22c40\"],\"fill_alpha\":[0.8],\"height\":[3.0],\"label\":[\"(3.4, 3.5]\"],\"line_alpha\":[1.0],\"line_color\":[\"black\"],\"width\":[0.18749339910030915],\"x\":[\"3.45\"],\"y\":[1.5]}},\"id\":\"1ba773a1-c37b-4261-bbfe-b3e9b7e0c94f\",\"type\":\"ColumnDataSource\"},{\"attributes\":{\"callback\":null,\"column_names\":[\"line_color\",\"line_alpha\",\"color\",\"fill_alpha\",\"height\",\"width\",\"y\",\"x\",\"label\"],\"data\":{\"chart_index\":[\"(1.7, 1.9]\"],\"color\":[\"#f22c40\"],\"fill_alpha\":[0.8],\"height\":[39.0],\"label\":[\"(1.7, 1.9]\"],\"line_alpha\":[1.0],\"line_color\":[\"black\"],\"width\":[0.18749339910030915],\"x\":[\"1.8\"],\"y\":[19.5]}},\"id\":\"0740e4d5-f566-4845-9290-500b5930129e\",\"type\":\"ColumnDataSource\"},{\"attributes\":{\"axis_label\":\"value\",\"formatter\":{\"id\":\"8ffaef41-1129-4ff1-b589-7918dc577d9a\",\"type\":\"BasicTickFormatter\"},\"plot\":{\"id\":\"7c6720fe-ad08-44c9-8db8-3204a5d9bce9\",\"subtype\":\"Chart\",\"type\":\"Plot\"},\"ticker\":{\"id\":\"1b8ecaed-c4d6-40d9-9360-c08ea70efbf7\",\"type\":\"BasicTicker\"}},\"id\":\"20c1642c-566c-4743-a06c-88d80e2d9221\",\"type\":\"LinearAxis\"},{\"attributes\":{\"fill_alpha\":{\"field\":\"fill_alpha\"},\"fill_color\":{\"field\":\"color\"},\"height\":{\"field\":\"height\",\"units\":\"data\"},\"line_color\":{\"field\":\"line_color\"},\"width\":{\"field\":\"width\",\"units\":\"data\"},\"x\":{\"field\":\"x\"},\"y\":{\"field\":\"y\"}},\"id\":\"9f68acea-553e-4181-9afc-cfb7c2ed72fb\",\"type\":\"Rect\"},{\"attributes\":{\"fill_alpha\":{\"field\":\"fill_alpha\"},\"fill_color\":{\"field\":\"color\"},\"height\":{\"field\":\"height\",\"units\":\"data\"},\"line_color\":{\"field\":\"line_color\"},\"width\":{\"field\":\"width\",\"units\":\"data\"},\"x\":{\"field\":\"x\"},\"y\":{\"field\":\"y\"}},\"id\":\"d62ffc67-6d20-473c-b3f2-f1f6b87bf6df\",\"type\":\"Rect\"},{\"attributes\":{\"bottom_units\":\"screen\",\"fill_alpha\":{\"value\":0.5},\"fill_color\":{\"value\":\"lightgrey\"},\"left_units\":\"screen\",\"level\":\"overlay\",\"line_alpha\":{\"value\":1.0},\"line_color\":{\"value\":\"black\"},\"line_dash\":[4,4],\"line_width\":{\"value\":2},\"plot\":null,\"render_mode\":\"css\",\"right_units\":\"screen\",\"top_units\":\"screen\"},\"id\":\"ccc32636-6311-4894-b999-3522872a1fee\",\"type\":\"BoxAnnotation\"},{\"attributes\":{\"data_source\":{\"id\":\"7e5e2362-2df6-4867-be78-c0cdd95dfa73\",\"type\":\"ColumnDataSource\"},\"glyph\":{\"id\":\"63481e4e-3bf5-4901-97a2-6ffa0ec1dff9\",\"type\":\"Rect\"},\"hover_glyph\":null,\"nonselection_glyph\":null,\"selection_glyph\":null},\"id\":\"c6c2293a-56bd-494a-9299-6e90002823c1\",\"type\":\"GlyphRenderer\"},{\"attributes\":{\"callback\":null,\"column_names\":[\"line_color\",\"line_alpha\",\"color\",\"fill_alpha\",\"height\",\"width\",\"y\",\"x\",\"label\"],\"data\":{\"chart_index\":[\"(3.0, 3.2]\"],\"color\":[\"#f22c40\"],\"fill_alpha\":[0.8],\"height\":[4.0],\"label\":[\"(3.0, 3.2]\"],\"line_alpha\":[1.0],\"line_color\":[\"black\"],\"width\":[0.18749339910030915],\"x\":[\"3.1\"],\"y\":[2.0]}},\"id\":\"9134b1e5-598e-4466-ac8d-e69d62aa3f21\",\"type\":\"ColumnDataSource\"},{\"attributes\":{\"fill_alpha\":{\"field\":\"fill_alpha\"},\"fill_color\":{\"field\":\"color\"},\"height\":{\"field\":\"height\",\"units\":\"data\"},\"line_color\":{\"field\":\"line_color\"},\"width\":{\"field\":\"width\",\"units\":\"data\"},\"x\":{\"field\":\"x\"},\"y\":{\"field\":\"y\"}},\"id\":\"0d22d577-3c8a-4c79-b26c-f6c7ab47712b\",\"type\":\"Rect\"},{\"attributes\":{\"plot\":null,\"text\":null},\"id\":\"b85924fc-8f06-4ba6-b320-96afd44086da\",\"type\":\"Title\"},{\"attributes\":{\"data_source\":{\"id\":\"af06ec50-2872-4ec9-9409-b24ee75e193d\",\"type\":\"ColumnDataSource\"},\"glyph\":{\"id\":\"c34eb59d-bcb9-419d-911a-67605903583c\",\"type\":\"Rect\"},\"hover_glyph\":null,\"nonselection_glyph\":null,\"selection_glyph\":null},\"id\":\"f350943c-59f9-481c-a417-959e13748807\",\"type\":\"GlyphRenderer\"},{\"attributes\":{\"callback\":null,\"column_names\":[\"line_color\",\"line_alpha\",\"color\",\"fill_alpha\",\"height\",\"width\",\"y\",\"x\",\"label\"],\"data\":{\"chart_index\":[\"(2.2, 2.4]\"],\"color\":[\"#f22c40\"],\"fill_alpha\":[0.8],\"height\":[12.0],\"label\":[\"(2.2, 2.4]\"],\"line_alpha\":[1.0],\"line_color\":[\"black\"],\"width\":[0.18749339910030827],\"x\":[\"2.3\"],\"y\":[6.0]}},\"id\":\"405d4d97-40d2-4a72-a7d8-6ff55a82e9cc\",\"type\":\"ColumnDataSource\"},{\"attributes\":{\"callback\":null,\"column_names\":[\"line_color\",\"line_alpha\",\"color\",\"fill_alpha\",\"height\",\"width\",\"y\",\"x\",\"label\"],\"data\":{\"chart_index\":[\"(-0.0, 0.2]\"],\"color\":[\"#f22c40\"],\"fill_alpha\":[0.8],\"height\":[143.0],\"label\":[\"(-0.0, 0.2]\"],\"line_alpha\":[1.0],\"line_color\":[\"black\"],\"width\":[0.18749339910030915],\"x\":[\"0.1\"],\"y\":[71.5]}},\"id\":\"40f564cf-02e8-48c8-9cbc-e210abfed137\",\"type\":\"ColumnDataSource\"},{\"attributes\":{\"callback\":null,\"column_names\":[\"line_color\",\"line_alpha\",\"color\",\"fill_alpha\",\"height\",\"width\",\"y\",\"x\",\"label\"],\"data\":{\"chart_index\":[\"(2.4, 2.6]\"],\"color\":[\"#f22c40\"],\"fill_alpha\":[0.8],\"height\":[15.0],\"label\":[\"(2.4, 2.6]\"],\"line_alpha\":[1.0],\"line_color\":[\"black\"],\"width\":[0.18749339910031004],\"x\":[\"2.5\"],\"y\":[7.5]}},\"id\":\"afad02fa-6081-460f-a553-8e49c7c6d650\",\"type\":\"ColumnDataSource\"},{\"attributes\":{\"callback\":null,\"column_names\":[\"line_color\",\"line_alpha\",\"color\",\"fill_alpha\",\"height\",\"width\",\"y\",\"x\",\"label\"],\"data\":{\"chart_index\":[\"(-0.2, -0.0]\"],\"color\":[\"#f22c40\"],\"fill_alpha\":[0.8],\"height\":[161.0],\"label\":[\"(-0.2, -0.0]\"],\"line_alpha\":[1.0],\"line_color\":[\"black\"],\"width\":[0.18749339910030915],\"x\":[\"-0.1\"],\"y\":[80.5]}},\"id\":\"af06ec50-2872-4ec9-9409-b24ee75e193d\",\"type\":\"ColumnDataSource\"},{\"attributes\":{\"fill_alpha\":{\"field\":\"fill_alpha\"},\"fill_color\":{\"field\":\"color\"},\"height\":{\"field\":\"height\",\"units\":\"data\"},\"line_color\":{\"field\":\"line_color\"},\"width\":{\"field\":\"width\",\"units\":\"data\"},\"x\":{\"field\":\"x\"},\"y\":{\"field\":\"y\"}},\"id\":\"95f1c327-5650-47f3-8727-f568fc072164\",\"type\":\"Rect\"},{\"attributes\":{\"plot\":{\"id\":\"7c6720fe-ad08-44c9-8db8-3204a5d9bce9\",\"subtype\":\"Chart\",\"type\":\"Plot\"}},\"id\":\"3cbbb333-4f90-4d4f-bbba-b59251d68306\",\"type\":\"SaveTool\"}],\"root_ids\":[\"7c6720fe-ad08-44c9-8db8-3204a5d9bce9\"]},\"title\":\"Bokeh Application\",\"version\":\"0.12.1\"}};\n",
       "            var render_items = [{\"docid\":\"54e72aed-d20f-49f1-ae23-c98431c8fc80\",\"elementid\":\"00700043-8198-4f4d-99cb-e22821156dbe\",\"modelid\":\"7c6720fe-ad08-44c9-8db8-3204a5d9bce9\",\"notebook_comms_target\":\"4354543d-20f4-4bfd-9594-cb227bb36f34\"}];\n",
       "            \n",
       "            Bokeh.embed.embed_items(docs_json, render_items);\n",
       "        });\n",
       "      },\n",
       "      function(Bokeh) {\n",
       "      }\n",
       "    ];\n",
       "  \n",
       "    function run_inline_js() {\n",
       "      for (var i = 0; i < inline_js.length; i++) {\n",
       "        inline_js[i](window.Bokeh);\n",
       "      }\n",
       "    }\n",
       "  \n",
       "    if (window._bokeh_is_loading === 0) {\n",
       "      console.log(\"Bokeh: BokehJS loaded, going straight to plotting\");\n",
       "      run_inline_js();\n",
       "    } else {\n",
       "      load_libs(js_urls, function() {\n",
       "        console.log(\"Bokeh: BokehJS plotting callback run at\", now());\n",
       "        run_inline_js();\n",
       "      });\n",
       "    }\n",
       "  }(this));\n",
       "</script>"
      ]
     },
     "metadata": {},
     "output_type": "display_data"
    },
    {
     "data": {
      "text/html": [
       "<p><code>&lt;Bokeh Notebook handle for <strong>In[13]</strong>&gt;</code></p>"
      ],
      "text/plain": [
       "<bokeh.io._CommsHandle at 0x1137c67d0>"
      ]
     },
     "execution_count": 13,
     "metadata": {},
     "output_type": "execute_result"
    }
   ],
   "source": [
    "hist = Histogram(df, values='value', bins=30)\n",
    "show(hist)"
   ]
  },
  {
   "cell_type": "markdown",
   "metadata": {},
   "source": [
    "It's also possible to generate multiple histograms at once by grouping the data. The column to group by is specified by the `color` parameter (and the histogram for each group is colored differently automatically). Let's try that as an exercise."
   ]
  },
  {
   "cell_type": "code",
   "execution_count": 28,
   "metadata": {
    "collapsed": false
   },
   "outputs": [
    {
     "data": {
      "text/html": [
       "\n",
       "\n",
       "    <div class=\"bk-root\">\n",
       "        <div class=\"plotdiv\" id=\"70b6ccd0-6963-4f7c-868c-ec23ba7051a7\"></div>\n",
       "    </div>\n",
       "<script type=\"text/javascript\">\n",
       "  \n",
       "  (function(global) {\n",
       "    function now() {\n",
       "      return new Date();\n",
       "    }\n",
       "  \n",
       "    var force = \"\";\n",
       "  \n",
       "    if (typeof (window._bokeh_onload_callbacks) === \"undefined\" || force !== \"\") {\n",
       "      window._bokeh_onload_callbacks = [];\n",
       "      window._bokeh_is_loading = undefined;\n",
       "    }\n",
       "  \n",
       "    function run_callbacks() {\n",
       "      window._bokeh_onload_callbacks.forEach(function(callback) { callback() });\n",
       "      delete window._bokeh_onload_callbacks\n",
       "      console.info(\"Bokeh: all callbacks have finished\");\n",
       "    }\n",
       "  \n",
       "    function load_libs(js_urls, callback) {\n",
       "      window._bokeh_onload_callbacks.push(callback);\n",
       "      if (window._bokeh_is_loading > 0) {\n",
       "        console.log(\"Bokeh: BokehJS is being loaded, scheduling callback at\", now());\n",
       "        return null;\n",
       "      }\n",
       "      if (js_urls == null || js_urls.length === 0) {\n",
       "        run_callbacks();\n",
       "        return null;\n",
       "      }\n",
       "      console.log(\"Bokeh: BokehJS not loaded, scheduling load and callback at\", now());\n",
       "      window._bokeh_is_loading = js_urls.length;\n",
       "      for (var i = 0; i < js_urls.length; i++) {\n",
       "        var url = js_urls[i];\n",
       "        var s = document.createElement('script');\n",
       "        s.src = url;\n",
       "        s.async = false;\n",
       "        s.onreadystatechange = s.onload = function() {\n",
       "          window._bokeh_is_loading--;\n",
       "          if (window._bokeh_is_loading === 0) {\n",
       "            console.log(\"Bokeh: all BokehJS libraries loaded\");\n",
       "            run_callbacks()\n",
       "          }\n",
       "        };\n",
       "        s.onerror = function() {\n",
       "          console.warn(\"failed to load library \" + url);\n",
       "        };\n",
       "        console.log(\"Bokeh: injecting script tag for BokehJS library: \", url);\n",
       "        document.getElementsByTagName(\"head\")[0].appendChild(s);\n",
       "      }\n",
       "    };var element = document.getElementById(\"70b6ccd0-6963-4f7c-868c-ec23ba7051a7\");\n",
       "    if (element == null) {\n",
       "      console.log(\"Bokeh: ERROR: autoload.js configured with elementid '70b6ccd0-6963-4f7c-868c-ec23ba7051a7' but no matching script tag was found. \")\n",
       "      return false;\n",
       "    }\n",
       "  \n",
       "    var js_urls = [];\n",
       "  \n",
       "    var inline_js = [\n",
       "      function(Bokeh) {\n",
       "        Bokeh.$(function() {\n",
       "            var docs_json = {\"1369a9ec-02df-4a68-80c2-d131d1d662fd\":{\"roots\":{\"references\":[{\"attributes\":{\"plot\":{\"id\":\"ef7fe3e3-03a9-466d-b456-b01378486f13\",\"subtype\":\"Chart\",\"type\":\"Plot\"}},\"id\":\"6530869b-ea07-4bea-9b3e-c4c9e3994afa\",\"type\":\"PanTool\"},{\"attributes\":{\"fill_alpha\":{\"field\":\"fill_alpha\"},\"fill_color\":{\"field\":\"color\"},\"height\":{\"field\":\"height\",\"units\":\"data\"},\"line_color\":{\"field\":\"line_color\"},\"width\":{\"field\":\"width\",\"units\":\"data\"},\"x\":{\"field\":\"x\"},\"y\":{\"field\":\"y\"}},\"id\":\"58bc1884-5c2b-41c4-9157-971e2084339c\",\"type\":\"Rect\"},{\"attributes\":{\"callback\":null,\"column_names\":[\"line_color\",\"line_alpha\",\"color\",\"fill_alpha\",\"height\",\"width\",\"y\",\"x\",\"label\"],\"data\":{\"chart_index\":[\"(0.6, 0.7]\"],\"color\":[\"#f22c40\"],\"fill_alpha\":[0.6],\"height\":[125.0],\"label\":[\"(0.6, 0.7]\"],\"line_alpha\":[1.0],\"line_color\":[\"black\"],\"width\":[0.13015985795467244],\"x\":[\"0.65\"],\"y\":[62.5]}},\"id\":\"d5b7437a-a4dc-406a-90fc-87bd7008a330\",\"type\":\"ColumnDataSource\"},{\"attributes\":{\"callback\":null,\"column_names\":[\"line_color\",\"line_alpha\",\"color\",\"fill_alpha\",\"height\",\"width\",\"y\",\"x\",\"label\"],\"data\":{\"chart_index\":[\"(3.8, 4.0]\"],\"color\":[\"#f22c40\"],\"fill_alpha\":[0.6],\"height\":[0.0],\"label\":[\"(3.8, 4.0]\"],\"line_alpha\":[1.0],\"line_color\":[\"black\"],\"width\":[0.13015985795467255],\"x\":[\"3.9\"],\"y\":[0.0]}},\"id\":\"6e7a4df4-4d79-4004-9869-aac003f1a391\",\"type\":\"ColumnDataSource\"},{\"attributes\":{\"fill_alpha\":{\"field\":\"fill_alpha\"},\"fill_color\":{\"field\":\"color\"},\"height\":{\"field\":\"height\",\"units\":\"data\"},\"line_color\":{\"field\":\"line_color\"},\"width\":{\"field\":\"width\",\"units\":\"data\"},\"x\":{\"field\":\"x\"},\"y\":{\"field\":\"y\"}},\"id\":\"7f66ac64-bafa-4fa6-aee5-31a7e73f52b5\",\"type\":\"Rect\"},{\"attributes\":{\"plot\":{\"id\":\"ef7fe3e3-03a9-466d-b456-b01378486f13\",\"subtype\":\"Chart\",\"type\":\"Plot\"}},\"id\":\"4e83be35-2083-4846-8e90-3efe176001dd\",\"type\":\"SaveTool\"},{\"attributes\":{\"data_source\":{\"id\":\"86b9f2c1-cab4-48f9-8293-a262fb1be79b\",\"type\":\"ColumnDataSource\"},\"glyph\":{\"id\":\"27d2f4e2-1b04-4814-9e07-e8c239e6bbf2\",\"type\":\"Rect\"},\"hover_glyph\":null,\"nonselection_glyph\":null,\"selection_glyph\":null},\"id\":\"58241372-eec7-453c-91cb-dbe870650c01\",\"type\":\"GlyphRenderer\"},{\"attributes\":{\"plot\":{\"id\":\"ef7fe3e3-03a9-466d-b456-b01378486f13\",\"subtype\":\"Chart\",\"type\":\"Plot\"}},\"id\":\"eeb32fc8-eb62-48c6-88bf-4e60dc8498cd\",\"type\":\"WheelZoomTool\"},{\"attributes\":{\"callback\":null,\"column_names\":[\"line_color\",\"line_alpha\",\"color\",\"fill_alpha\",\"height\",\"width\",\"y\",\"x\",\"label\"],\"data\":{\"chart_index\":[\"(0.1, 0.2]\"],\"color\":[\"#5ab738\"],\"fill_alpha\":[0.6],\"height\":[78.0],\"label\":[\"(0.1, 0.2]\"],\"line_alpha\":[1.0],\"line_color\":[\"black\"],\"width\":[0.10166313017110129],\"x\":[\"0.15\"],\"y\":[39.0]}},\"id\":\"163eceaf-2444-432d-bd0a-dc4b442b4b50\",\"type\":\"ColumnDataSource\"},{\"attributes\":{\"data_source\":{\"id\":\"163eceaf-2444-432d-bd0a-dc4b442b4b50\",\"type\":\"ColumnDataSource\"},\"glyph\":{\"id\":\"37fd88b0-7ff6-4f8e-a20c-3045104f3fa3\",\"type\":\"Rect\"},\"hover_glyph\":null,\"nonselection_glyph\":null,\"selection_glyph\":null},\"id\":\"a6ea23d8-3de3-4e1a-9694-421a4fcb53ea\",\"type\":\"GlyphRenderer\"},{\"attributes\":{\"data_source\":{\"id\":\"e7626363-d9a5-4c3f-9191-a8fa8272c51f\",\"type\":\"ColumnDataSource\"},\"glyph\":{\"id\":\"72825d9e-d36d-43ca-926a-3d91ce3fc053\",\"type\":\"Rect\"},\"hover_glyph\":null,\"nonselection_glyph\":null,\"selection_glyph\":null},\"id\":\"8522eac9-2127-4bc1-9e9d-c323b965db52\",\"type\":\"GlyphRenderer\"},{\"attributes\":{\"data_source\":{\"id\":\"8ac5d919-8780-4319-b90b-d52e7a8b9f42\",\"type\":\"ColumnDataSource\"},\"glyph\":{\"id\":\"854bcc74-cff0-4899-9978-20a3b9c689f7\",\"type\":\"Rect\"},\"hover_glyph\":null,\"nonselection_glyph\":null,\"selection_glyph\":null},\"id\":\"beefda06-81de-4020-b042-25097b8598fc\",\"type\":\"GlyphRenderer\"},{\"attributes\":{\"data_source\":{\"id\":\"303cd07f-cf71-4725-bc2a-7b3554f07d57\",\"type\":\"ColumnDataSource\"},\"glyph\":{\"id\":\"96f3d703-337a-42fa-92cc-3c272a0021a5\",\"type\":\"Rect\"},\"hover_glyph\":null,\"nonselection_glyph\":null,\"selection_glyph\":null},\"id\":\"f26ec25d-b2c5-4bff-b35c-d7cd996a72fe\",\"type\":\"GlyphRenderer\"},{\"attributes\":{\"callback\":null,\"column_names\":[\"line_color\",\"line_alpha\",\"color\",\"fill_alpha\",\"height\",\"width\",\"y\",\"x\",\"label\"],\"data\":{\"chart_index\":[\"(0.7, 0.9]\"],\"color\":[\"#f22c40\"],\"fill_alpha\":[0.6],\"height\":[95.0],\"label\":[\"(0.7, 0.9]\"],\"line_alpha\":[1.0],\"line_color\":[\"black\"],\"width\":[0.13015985795467244],\"x\":[\"0.8\"],\"y\":[47.5]}},\"id\":\"ce43cb5c-9756-4344-8bef-1ee6cc13a4fb\",\"type\":\"ColumnDataSource\"},{\"attributes\":{\"callback\":null,\"column_names\":[\"line_color\",\"line_alpha\",\"color\",\"fill_alpha\",\"height\",\"width\",\"y\",\"x\",\"label\"],\"data\":{\"chart_index\":[\"(1.4, 1.5]\"],\"color\":[\"#f22c40\"],\"fill_alpha\":[0.6],\"height\":[65.0],\"label\":[\"(1.4, 1.5]\"],\"line_alpha\":[1.0],\"line_color\":[\"black\"],\"width\":[0.13015985795467233],\"x\":[\"1.45\"],\"y\":[32.5]}},\"id\":\"a3b4c284-0019-4fad-9bde-a9629251cec4\",\"type\":\"ColumnDataSource\"},{\"attributes\":{\"plot\":null,\"text\":null},\"id\":\"18c8cc59-15b4-4374-8d09-003843578d81\",\"type\":\"Title\"},{\"attributes\":{\"fill_alpha\":{\"field\":\"fill_alpha\"},\"fill_color\":{\"field\":\"color\"},\"height\":{\"field\":\"height\",\"units\":\"data\"},\"line_color\":{\"field\":\"line_color\"},\"width\":{\"field\":\"width\",\"units\":\"data\"},\"x\":{\"field\":\"x\"},\"y\":{\"field\":\"y\"}},\"id\":\"898b29e2-31e4-45e4-9570-fd436076a2d6\",\"type\":\"Rect\"},{\"attributes\":{\"fill_alpha\":{\"field\":\"fill_alpha\"},\"fill_color\":{\"field\":\"color\"},\"height\":{\"field\":\"height\",\"units\":\"data\"},\"line_color\":{\"field\":\"line_color\"},\"width\":{\"field\":\"width\",\"units\":\"data\"},\"x\":{\"field\":\"x\"},\"y\":{\"field\":\"y\"}},\"id\":\"37fd88b0-7ff6-4f8e-a20c-3045104f3fa3\",\"type\":\"Rect\"},{\"attributes\":{\"callback\":null,\"column_names\":[\"line_color\",\"line_alpha\",\"color\",\"fill_alpha\",\"height\",\"width\",\"y\",\"x\",\"label\"],\"data\":{\"chart_index\":[\"(1.1, 1.2]\"],\"color\":[\"#f22c40\"],\"fill_alpha\":[0.6],\"height\":[82.0],\"label\":[\"(1.1, 1.2]\"],\"line_alpha\":[1.0],\"line_color\":[\"black\"],\"width\":[0.13015985795467255],\"x\":[\"1.15\"],\"y\":[41.0]}},\"id\":\"4eddbf28-8693-4470-91f4-f507b3e49a56\",\"type\":\"ColumnDataSource\"},{\"attributes\":{\"axis_label\":\"value\",\"formatter\":{\"id\":\"2f27c7ea-c6ef-4050-a99f-6e1908789dc9\",\"type\":\"BasicTickFormatter\"},\"plot\":{\"id\":\"ef7fe3e3-03a9-466d-b456-b01378486f13\",\"subtype\":\"Chart\",\"type\":\"Plot\"},\"ticker\":{\"id\":\"8da29395-5172-49ae-a80a-75efbbf830ff\",\"type\":\"BasicTicker\"}},\"id\":\"9cb74e71-b063-4906-8630-67aa7c651cb9\",\"type\":\"LinearAxis\"},{\"attributes\":{\"callback\":null,\"column_names\":[\"line_color\",\"line_alpha\",\"color\",\"fill_alpha\",\"height\",\"width\",\"y\",\"x\",\"label\"],\"data\":{\"chart_index\":[\"(1.0, 1.1]\"],\"color\":[\"#5ab738\"],\"fill_alpha\":[0.6],\"height\":[5.0],\"label\":[\"(1.0, 1.1]\"],\"line_alpha\":[1.0],\"line_color\":[\"black\"],\"width\":[0.10166313017110129],\"x\":[\"1.05\"],\"y\":[2.5]}},\"id\":\"2e4e9337-75e6-49b1-92fd-c5a280af3598\",\"type\":\"ColumnDataSource\"},{\"attributes\":{\"callback\":null,\"column_names\":[\"line_color\",\"line_alpha\",\"color\",\"fill_alpha\",\"height\",\"width\",\"y\",\"x\",\"label\"],\"data\":{\"chart_index\":[\"(2.5, 2.7]\"],\"color\":[\"#f22c40\"],\"fill_alpha\":[0.6],\"height\":[7.0],\"label\":[\"(2.5, 2.7]\"],\"line_alpha\":[1.0],\"line_color\":[\"black\"],\"width\":[0.13015985795467255],\"x\":[\"2.6\"],\"y\":[3.5]}},\"id\":\"50bb27a4-9012-4cb8-8672-0633e500b134\",\"type\":\"ColumnDataSource\"},{\"attributes\":{\"callback\":null,\"column_names\":[\"line_color\",\"line_alpha\",\"color\",\"fill_alpha\",\"height\",\"width\",\"y\",\"x\",\"label\"],\"data\":{\"chart_index\":[\"(3.1, 3.2]\"],\"color\":[\"#f22c40\"],\"fill_alpha\":[0.6],\"height\":[3.0],\"label\":[\"(3.1, 3.2]\"],\"line_alpha\":[1.0],\"line_color\":[\"black\"],\"width\":[0.13015985795467255],\"x\":[\"3.15\"],\"y\":[1.5]}},\"id\":\"621531e0-1656-438e-916f-fbee460bb1e8\",\"type\":\"ColumnDataSource\"},{\"attributes\":{\"data_source\":{\"id\":\"f931f2a8-b48e-40a9-9104-8f3ee7197006\",\"type\":\"ColumnDataSource\"},\"glyph\":{\"id\":\"273707a6-345b-4618-8979-ffbbebb8ae68\",\"type\":\"Rect\"},\"hover_glyph\":null,\"nonselection_glyph\":null,\"selection_glyph\":null},\"id\":\"ee572d57-1684-4f05-aaf8-c47ab229e78b\",\"type\":\"GlyphRenderer\"},{\"attributes\":{\"fill_alpha\":{\"field\":\"fill_alpha\"},\"fill_color\":{\"field\":\"color\"},\"height\":{\"field\":\"height\",\"units\":\"data\"},\"line_color\":{\"field\":\"line_color\"},\"width\":{\"field\":\"width\",\"units\":\"data\"},\"x\":{\"field\":\"x\"},\"y\":{\"field\":\"y\"}},\"id\":\"23aa7660-58f3-4e8f-866f-7a4b30ab8d1b\",\"type\":\"Rect\"},{\"attributes\":{\"callback\":null,\"column_names\":[\"line_color\",\"line_alpha\",\"color\",\"fill_alpha\",\"height\",\"width\",\"y\",\"x\",\"label\"],\"data\":{\"chart_index\":[\"(-0.8, -0.7]\"],\"color\":[\"#5ab738\"],\"fill_alpha\":[0.6],\"height\":[16.0],\"label\":[\"(-0.8, -0.7]\"],\"line_alpha\":[1.0],\"line_color\":[\"black\"],\"width\":[0.10166313017110118],\"x\":[\"-0.75\"],\"y\":[8.0]}},\"id\":\"73b99c79-2415-4efc-9771-9730d086dc96\",\"type\":\"ColumnDataSource\"},{\"attributes\":{\"fill_alpha\":{\"field\":\"fill_alpha\"},\"fill_color\":{\"field\":\"color\"},\"height\":{\"field\":\"height\",\"units\":\"data\"},\"line_color\":{\"field\":\"line_color\"},\"width\":{\"field\":\"width\",\"units\":\"data\"},\"x\":{\"field\":\"x\"},\"y\":{\"field\":\"y\"}},\"id\":\"f5b7c8e4-6b7a-4fcd-89ba-ede58b298668\",\"type\":\"Rect\"},{\"attributes\":{\"data_source\":{\"id\":\"33870f1f-e01b-4ef3-8d20-8ba728a0f832\",\"type\":\"ColumnDataSource\"},\"glyph\":{\"id\":\"9d1c007e-64fb-40e7-a039-e7c071623402\",\"type\":\"Rect\"},\"hover_glyph\":null,\"nonselection_glyph\":null,\"selection_glyph\":null},\"id\":\"96298b7e-b978-43ad-abcd-54b37bd8b1c8\",\"type\":\"GlyphRenderer\"},{\"attributes\":{\"data_source\":{\"id\":\"46a7e87b-748d-4e11-bba2-a8e0e47de785\",\"type\":\"ColumnDataSource\"},\"glyph\":{\"id\":\"58bc1884-5c2b-41c4-9157-971e2084339c\",\"type\":\"Rect\"},\"hover_glyph\":null,\"nonselection_glyph\":null,\"selection_glyph\":null},\"id\":\"75818565-3747-40b6-94b7-08eacaf605e0\",\"type\":\"GlyphRenderer\"},{\"attributes\":{\"data_source\":{\"id\":\"d0e36e35-57fe-4fe8-8f87-53524689278a\",\"type\":\"ColumnDataSource\"},\"glyph\":{\"id\":\"84c41ee3-d21f-4000-9586-fd166feab4c8\",\"type\":\"Rect\"},\"hover_glyph\":null,\"nonselection_glyph\":null,\"selection_glyph\":null},\"id\":\"f47bb8ea-000f-478b-8c2f-374f5211c195\",\"type\":\"GlyphRenderer\"},{\"attributes\":{\"callback\":null,\"column_names\":[\"line_color\",\"line_alpha\",\"color\",\"fill_alpha\",\"height\",\"width\",\"y\",\"x\",\"label\"],\"data\":{\"chart_index\":[\"(1.9, 2.0]\"],\"color\":[\"#f22c40\"],\"fill_alpha\":[0.6],\"height\":[28.0],\"label\":[\"(1.9, 2.0]\"],\"line_alpha\":[1.0],\"line_color\":[\"black\"],\"width\":[0.13015985795467255],\"x\":[\"1.95\"],\"y\":[14.0]}},\"id\":\"86b9f2c1-cab4-48f9-8293-a262fb1be79b\",\"type\":\"ColumnDataSource\"},{\"attributes\":{\"callback\":null,\"column_names\":[\"line_color\",\"line_alpha\",\"color\",\"fill_alpha\",\"height\",\"width\",\"y\",\"x\",\"label\"],\"data\":{\"chart_index\":[\"(-1.3, -1.2]\"],\"color\":[\"#5ab738\"],\"fill_alpha\":[0.6],\"height\":[5.0],\"label\":[\"(-1.3, -1.2]\"],\"line_alpha\":[1.0],\"line_color\":[\"black\"],\"width\":[0.10166313017110129],\"x\":[\"-1.25\"],\"y\":[2.5]}},\"id\":\"c16a0579-bc0d-4b1e-b6a5-db758bee32fe\",\"type\":\"ColumnDataSource\"},{\"attributes\":{\"callback\":null,\"column_names\":[\"line_color\",\"line_alpha\",\"color\",\"fill_alpha\",\"height\",\"width\",\"y\",\"x\",\"label\"],\"data\":{\"chart_index\":[\"(1.0, 1.1]\"],\"color\":[\"#f22c40\"],\"fill_alpha\":[0.6],\"height\":[93.0],\"label\":[\"(1.0, 1.1]\"],\"line_alpha\":[1.0],\"line_color\":[\"black\"],\"width\":[0.13015985795467233],\"x\":[\"1.05\"],\"y\":[46.5]}},\"id\":\"a6abf371-4a0e-43f6-8f87-8c9708fc128d\",\"type\":\"ColumnDataSource\"},{\"attributes\":{\"plot\":{\"id\":\"ef7fe3e3-03a9-466d-b456-b01378486f13\",\"subtype\":\"Chart\",\"type\":\"Plot\"}},\"id\":\"421dfc0f-6382-4bad-822f-d2bf85ddd72b\",\"type\":\"ResetTool\"},{\"attributes\":{\"data_source\":{\"id\":\"621531e0-1656-438e-916f-fbee460bb1e8\",\"type\":\"ColumnDataSource\"},\"glyph\":{\"id\":\"7f66ac64-bafa-4fa6-aee5-31a7e73f52b5\",\"type\":\"Rect\"},\"hover_glyph\":null,\"nonselection_glyph\":null,\"selection_glyph\":null},\"id\":\"73c2b6da-630e-43b7-927d-3059a2d47442\",\"type\":\"GlyphRenderer\"},{\"attributes\":{\"fill_alpha\":{\"field\":\"fill_alpha\"},\"fill_color\":{\"field\":\"color\"},\"height\":{\"field\":\"height\",\"units\":\"data\"},\"line_color\":{\"field\":\"line_color\"},\"width\":{\"field\":\"width\",\"units\":\"data\"},\"x\":{\"field\":\"x\"},\"y\":{\"field\":\"y\"}},\"id\":\"d4f84add-9801-4df6-8e7e-ba773ce08cf9\",\"type\":\"Rect\"},{\"attributes\":{\"fill_alpha\":{\"field\":\"fill_alpha\"},\"fill_color\":{\"field\":\"color\"},\"height\":{\"field\":\"height\",\"units\":\"data\"},\"line_color\":{\"field\":\"line_color\"},\"width\":{\"field\":\"width\",\"units\":\"data\"},\"x\":{\"field\":\"x\"},\"y\":{\"field\":\"y\"}},\"id\":\"4aa58cab-92c4-4c51-b2f3-46fa05281ed2\",\"type\":\"Rect\"},{\"attributes\":{\"callback\":null,\"column_names\":[\"line_color\",\"line_alpha\",\"color\",\"fill_alpha\",\"height\",\"width\",\"y\",\"x\",\"label\"],\"data\":{\"chart_index\":[\"(-0.1, 0.0]\"],\"color\":[\"#5ab738\"],\"fill_alpha\":[0.6],\"height\":[71.0],\"label\":[\"(-0.1, 0.0]\"],\"line_alpha\":[1.0],\"line_color\":[\"black\"],\"width\":[0.10166313017110107],\"x\":[\"-0.05\"],\"y\":[35.5]}},\"id\":\"e6e2741d-e012-4b7a-8482-dc510f252349\",\"type\":\"ColumnDataSource\"},{\"attributes\":{\"fill_alpha\":{\"field\":\"fill_alpha\"},\"fill_color\":{\"field\":\"color\"},\"height\":{\"field\":\"height\",\"units\":\"data\"},\"line_color\":{\"field\":\"line_color\"},\"width\":{\"field\":\"width\",\"units\":\"data\"},\"x\":{\"field\":\"x\"},\"y\":{\"field\":\"y\"}},\"id\":\"47b04bfc-68df-4417-b1b0-6c0d4590dc66\",\"type\":\"Rect\"},{\"attributes\":{\"data_source\":{\"id\":\"e0e197e6-0ac5-4a2e-b062-e8d87804ee64\",\"type\":\"ColumnDataSource\"},\"glyph\":{\"id\":\"2f91b013-5a32-4348-a378-8742b726fb57\",\"type\":\"Rect\"},\"hover_glyph\":null,\"nonselection_glyph\":null,\"selection_glyph\":null},\"id\":\"dcba0a04-2981-46b6-8e78-d7e167024629\",\"type\":\"GlyphRenderer\"},{\"attributes\":{\"fill_alpha\":{\"field\":\"fill_alpha\"},\"fill_color\":{\"field\":\"color\"},\"height\":{\"field\":\"height\",\"units\":\"data\"},\"line_color\":{\"field\":\"line_color\"},\"width\":{\"field\":\"width\",\"units\":\"data\"},\"x\":{\"field\":\"x\"},\"y\":{\"field\":\"y\"}},\"id\":\"49447163-6e88-4f90-a011-cc8ba8754888\",\"type\":\"Rect\"},{\"attributes\":{\"data_source\":{\"id\":\"a689dd94-45dd-4152-b650-17fb5330b08c\",\"type\":\"ColumnDataSource\"},\"glyph\":{\"id\":\"7570e3c0-5f3d-4d47-b82b-ffe7fdc2412b\",\"type\":\"Rect\"},\"hover_glyph\":null,\"nonselection_glyph\":null,\"selection_glyph\":null},\"id\":\"d317de9a-4fae-44ad-aa82-6477b83281e4\",\"type\":\"GlyphRenderer\"},{\"attributes\":{\"fill_alpha\":{\"field\":\"fill_alpha\"},\"fill_color\":{\"field\":\"color\"},\"height\":{\"field\":\"height\",\"units\":\"data\"},\"line_color\":{\"field\":\"line_color\"},\"width\":{\"field\":\"width\",\"units\":\"data\"},\"x\":{\"field\":\"x\"},\"y\":{\"field\":\"y\"}},\"id\":\"b476e920-64eb-46c0-9d97-c31f71d13018\",\"type\":\"Rect\"},{\"attributes\":{\"data_source\":{\"id\":\"ccdf3e09-6882-4503-8e82-14da8446972f\",\"type\":\"ColumnDataSource\"},\"glyph\":{\"id\":\"9b034a21-0a52-497e-99a5-6eda093598b0\",\"type\":\"Rect\"},\"hover_glyph\":null,\"nonselection_glyph\":null,\"selection_glyph\":null},\"id\":\"07386b14-8648-4143-819c-72208b046e09\",\"type\":\"GlyphRenderer\"},{\"attributes\":{\"fill_alpha\":{\"field\":\"fill_alpha\"},\"fill_color\":{\"field\":\"color\"},\"height\":{\"field\":\"height\",\"units\":\"data\"},\"line_color\":{\"field\":\"line_color\"},\"width\":{\"field\":\"width\",\"units\":\"data\"},\"x\":{\"field\":\"x\"},\"y\":{\"field\":\"y\"}},\"id\":\"72825d9e-d36d-43ca-926a-3d91ce3fc053\",\"type\":\"Rect\"},{\"attributes\":{\"callback\":null,\"column_names\":[\"line_color\",\"line_alpha\",\"color\",\"fill_alpha\",\"height\",\"width\",\"y\",\"x\",\"label\"],\"data\":{\"chart_index\":[\"(3.7, 3.8]\"],\"color\":[\"#f22c40\"],\"fill_alpha\":[0.6],\"height\":[0.0],\"label\":[\"(3.7, 3.8]\"],\"line_alpha\":[1.0],\"line_color\":[\"black\"],\"width\":[0.13015985795467255],\"x\":[\"3.75\"],\"y\":[0.0]}},\"id\":\"d49106b4-c0cd-4b50-aab7-1e509b026946\",\"type\":\"ColumnDataSource\"},{\"attributes\":{\"plot\":{\"id\":\"ef7fe3e3-03a9-466d-b456-b01378486f13\",\"subtype\":\"Chart\",\"type\":\"Plot\"}},\"id\":\"d38b4509-db14-4fd6-b920-f1a8127fd991\",\"type\":\"HelpTool\"},{\"attributes\":{\"callback\":null,\"column_names\":[\"line_color\",\"line_alpha\",\"color\",\"fill_alpha\",\"height\",\"width\",\"y\",\"x\",\"label\"],\"data\":{\"chart_index\":[\"(-1.0, -0.9]\"],\"color\":[\"#5ab738\"],\"fill_alpha\":[0.6],\"height\":[9.0],\"label\":[\"(-1.0, -0.9]\"],\"line_alpha\":[1.0],\"line_color\":[\"black\"],\"width\":[0.10166313017110129],\"x\":[\"-0.95\"],\"y\":[4.5]}},\"id\":\"7f9d283d-c819-43be-8218-3c3007f20ed1\",\"type\":\"ColumnDataSource\"},{\"attributes\":{\"data_source\":{\"id\":\"d223f5b4-0a72-4cae-a445-76552619cc19\",\"type\":\"ColumnDataSource\"},\"glyph\":{\"id\":\"80ca8e10-90ad-45b6-9afd-66fdcc9dc362\",\"type\":\"Rect\"},\"hover_glyph\":null,\"nonselection_glyph\":null,\"selection_glyph\":null},\"id\":\"1de3a870-6279-4e9e-83f0-b0243bae2871\",\"type\":\"GlyphRenderer\"},{\"attributes\":{\"fill_alpha\":{\"field\":\"fill_alpha\"},\"fill_color\":{\"field\":\"color\"},\"height\":{\"field\":\"height\",\"units\":\"data\"},\"line_color\":{\"field\":\"line_color\"},\"width\":{\"field\":\"width\",\"units\":\"data\"},\"x\":{\"field\":\"x\"},\"y\":{\"field\":\"y\"}},\"id\":\"fdfec208-89a7-46b3-b265-723b25b42bae\",\"type\":\"Rect\"},{\"attributes\":{\"data_source\":{\"id\":\"4f3f5463-c5b0-461f-a282-a4be34181c19\",\"type\":\"ColumnDataSource\"},\"glyph\":{\"id\":\"d42e2014-0704-4eed-9ee3-dfe0b013ec29\",\"type\":\"Rect\"},\"hover_glyph\":null,\"nonselection_glyph\":null,\"selection_glyph\":null},\"id\":\"8eb3cb6a-f20b-492d-be6b-08a36663679a\",\"type\":\"GlyphRenderer\"},{\"attributes\":{\"callback\":null,\"column_names\":[\"line_color\",\"line_alpha\",\"color\",\"fill_alpha\",\"height\",\"width\",\"y\",\"x\",\"label\"],\"data\":{\"chart_index\":[\"(2.8, 2.9]\"],\"color\":[\"#f22c40\"],\"fill_alpha\":[0.6],\"height\":[2.0],\"label\":[\"(2.8, 2.9]\"],\"line_alpha\":[1.0],\"line_color\":[\"black\"],\"width\":[0.13015985795467255],\"x\":[\"2.85\"],\"y\":[1.0]}},\"id\":\"427b31a8-4282-4dce-8286-6fc57dddea40\",\"type\":\"ColumnDataSource\"},{\"attributes\":{\"data_source\":{\"id\":\"3037fd2b-f339-4cd5-a462-3acfd3e2c396\",\"type\":\"ColumnDataSource\"},\"glyph\":{\"id\":\"33bdf1e4-7958-465c-a640-ebf34eb75813\",\"type\":\"Rect\"},\"hover_glyph\":null,\"nonselection_glyph\":null,\"selection_glyph\":null},\"id\":\"67682a08-e2e7-4641-926e-48eba1a52d81\",\"type\":\"GlyphRenderer\"},{\"attributes\":{\"fill_alpha\":{\"field\":\"fill_alpha\"},\"fill_color\":{\"field\":\"color\"},\"height\":{\"field\":\"height\",\"units\":\"data\"},\"line_color\":{\"field\":\"line_color\"},\"width\":{\"field\":\"width\",\"units\":\"data\"},\"x\":{\"field\":\"x\"},\"y\":{\"field\":\"y\"}},\"id\":\"cd188a5b-88e1-49fa-8f10-d4c0b59824ce\",\"type\":\"Rect\"},{\"attributes\":{\"fill_alpha\":{\"field\":\"fill_alpha\"},\"fill_color\":{\"field\":\"color\"},\"height\":{\"field\":\"height\",\"units\":\"data\"},\"line_color\":{\"field\":\"line_color\"},\"width\":{\"field\":\"width\",\"units\":\"data\"},\"x\":{\"field\":\"x\"},\"y\":{\"field\":\"y\"}},\"id\":\"61842af7-7fcc-4d86-a0b7-6ebedec9ff70\",\"type\":\"Rect\"},{\"attributes\":{\"callback\":null,\"column_names\":[\"line_color\",\"line_alpha\",\"color\",\"fill_alpha\",\"height\",\"width\",\"y\",\"x\",\"label\"],\"data\":{\"chart_index\":[\"(0.2, 0.3]\"],\"color\":[\"#5ab738\"],\"fill_alpha\":[0.6],\"height\":[67.0],\"label\":[\"(0.2, 0.3]\"],\"line_alpha\":[1.0],\"line_color\":[\"black\"],\"width\":[0.10166313017110107],\"x\":[\"0.25\"],\"y\":[33.5]}},\"id\":\"008cdc4f-b5dd-4669-819d-17130fa2f9f1\",\"type\":\"ColumnDataSource\"},{\"attributes\":{\"callback\":null,\"column_names\":[\"line_color\",\"line_alpha\",\"color\",\"fill_alpha\",\"height\",\"width\",\"y\",\"x\",\"label\"],\"data\":{\"chart_index\":[\"(0.5, 0.6]\"],\"color\":[\"#5ab738\"],\"fill_alpha\":[0.6],\"height\":[48.0],\"label\":[\"(0.5, 0.6]\"],\"line_alpha\":[1.0],\"line_color\":[\"black\"],\"width\":[0.10166313017110129],\"x\":[\"0.55\"],\"y\":[24.0]}},\"id\":\"60652c01-36d3-4304-af0f-17f144b253d0\",\"type\":\"ColumnDataSource\"},{\"attributes\":{\"callback\":null,\"column_names\":[\"line_color\",\"line_alpha\",\"color\",\"fill_alpha\",\"height\",\"width\",\"y\",\"x\",\"label\"],\"data\":{\"chart_index\":[\"(1.2, 1.4]\"],\"color\":[\"#f22c40\"],\"fill_alpha\":[0.6],\"height\":[74.0],\"label\":[\"(1.2, 1.4]\"],\"line_alpha\":[1.0],\"line_color\":[\"black\"],\"width\":[0.13015985795467255],\"x\":[\"1.3\"],\"y\":[37.0]}},\"id\":\"e0e197e6-0ac5-4a2e-b062-e8d87804ee64\",\"type\":\"ColumnDataSource\"},{\"attributes\":{\"fill_alpha\":{\"field\":\"fill_alpha\"},\"fill_color\":{\"field\":\"color\"},\"height\":{\"field\":\"height\",\"units\":\"data\"},\"line_color\":{\"field\":\"line_color\"},\"width\":{\"field\":\"width\",\"units\":\"data\"},\"x\":{\"field\":\"x\"},\"y\":{\"field\":\"y\"}},\"id\":\"27d2f4e2-1b04-4814-9e07-e8c239e6bbf2\",\"type\":\"Rect\"},{\"attributes\":{\"callback\":null,\"column_names\":[\"line_color\",\"line_alpha\",\"color\",\"fill_alpha\",\"height\",\"width\",\"y\",\"x\",\"label\"],\"data\":{\"chart_index\":[\"(0.4, 0.5]\"],\"color\":[\"#5ab738\"],\"fill_alpha\":[0.6],\"height\":[63.0],\"label\":[\"(0.4, 0.5]\"],\"line_alpha\":[1.0],\"line_color\":[\"black\"],\"width\":[0.10166313017110107],\"x\":[\"0.45\"],\"y\":[31.5]}},\"id\":\"eaac1a5e-32ea-4009-9368-f49580167cdb\",\"type\":\"ColumnDataSource\"},{\"attributes\":{\"callback\":null,\"column_names\":[\"line_color\",\"line_alpha\",\"color\",\"fill_alpha\",\"height\",\"width\",\"y\",\"x\",\"label\"],\"data\":{\"chart_index\":[\"(3.3, 3.5]\"],\"color\":[\"#f22c40\"],\"fill_alpha\":[0.6],\"height\":[1.0],\"label\":[\"(3.3, 3.5]\"],\"line_alpha\":[1.0],\"line_color\":[\"black\"],\"width\":[0.13015985795467166],\"x\":[\"3.4\"],\"y\":[0.5]}},\"id\":\"8de2e296-3ee4-405b-8a8b-b29643b0c84c\",\"type\":\"ColumnDataSource\"},{\"attributes\":{\"data_source\":{\"id\":\"369ae571-4f73-486d-98b7-62c5bb1043f5\",\"type\":\"ColumnDataSource\"},\"glyph\":{\"id\":\"d503fc9f-69cd-415e-87cf-cd82d6bfc383\",\"type\":\"Rect\"},\"hover_glyph\":null,\"nonselection_glyph\":null,\"selection_glyph\":null},\"id\":\"99a094f8-540b-4aae-a1a2-98dfd8b70db2\",\"type\":\"GlyphRenderer\"},{\"attributes\":{\"callback\":null,\"column_names\":[\"line_color\",\"line_alpha\",\"color\",\"fill_alpha\",\"height\",\"width\",\"y\",\"x\",\"label\"],\"data\":{\"chart_index\":[\"(3.6, 3.7]\"],\"color\":[\"#f22c40\"],\"fill_alpha\":[0.6],\"height\":[1.0],\"label\":[\"(3.6, 3.7]\"],\"line_alpha\":[1.0],\"line_color\":[\"black\"],\"width\":[0.13015985795467255],\"x\":[\"3.65\"],\"y\":[0.5]}},\"id\":\"d5b2fb9c-d97a-43a0-8d9b-b7b75dad2aa2\",\"type\":\"ColumnDataSource\"},{\"attributes\":{\"fill_alpha\":{\"field\":\"fill_alpha\"},\"fill_color\":{\"field\":\"color\"},\"height\":{\"field\":\"height\",\"units\":\"data\"},\"line_color\":{\"field\":\"line_color\"},\"width\":{\"field\":\"width\",\"units\":\"data\"},\"x\":{\"field\":\"x\"},\"y\":{\"field\":\"y\"}},\"id\":\"a09a86a4-15e8-4f4b-8a78-1501b458f175\",\"type\":\"Rect\"},{\"attributes\":{\"callback\":null,\"column_names\":[\"line_color\",\"line_alpha\",\"color\",\"fill_alpha\",\"height\",\"width\",\"y\",\"x\",\"label\"],\"data\":{\"chart_index\":[\"(2.7, 2.8]\"],\"color\":[\"#f22c40\"],\"fill_alpha\":[0.6],\"height\":[5.0],\"label\":[\"(2.7, 2.8]\"],\"line_alpha\":[1.0],\"line_color\":[\"black\"],\"width\":[0.13015985795467255],\"x\":[\"2.75\"],\"y\":[2.5]}},\"id\":\"2f8e5bd7-415b-4ba2-9bdb-cd5a45ed43a1\",\"type\":\"ColumnDataSource\"},{\"attributes\":{\"fill_alpha\":{\"field\":\"fill_alpha\"},\"fill_color\":{\"field\":\"color\"},\"height\":{\"field\":\"height\",\"units\":\"data\"},\"line_color\":{\"field\":\"line_color\"},\"width\":{\"field\":\"width\",\"units\":\"data\"},\"x\":{\"field\":\"x\"},\"y\":{\"field\":\"y\"}},\"id\":\"30471ca1-5de4-4dfb-98c9-2813e47f16ea\",\"type\":\"Rect\"},{\"attributes\":{\"callback\":null,\"column_names\":[\"line_color\",\"line_alpha\",\"color\",\"fill_alpha\",\"height\",\"width\",\"y\",\"x\",\"label\"],\"data\":{\"chart_index\":[\"(-1.1, -1.0]\"],\"color\":[\"#5ab738\"],\"fill_alpha\":[0.6],\"height\":[9.0],\"label\":[\"(-1.1, -1.0]\"],\"line_alpha\":[1.0],\"line_color\":[\"black\"],\"width\":[0.10166313017110107],\"x\":[\"-1.05\"],\"y\":[4.5]}},\"id\":\"d0e36e35-57fe-4fe8-8f87-53524689278a\",\"type\":\"ColumnDataSource\"},{\"attributes\":{\"fill_alpha\":{\"field\":\"fill_alpha\"},\"fill_color\":{\"field\":\"color\"},\"height\":{\"field\":\"height\",\"units\":\"data\"},\"line_color\":{\"field\":\"line_color\"},\"width\":{\"field\":\"width\",\"units\":\"data\"},\"x\":{\"field\":\"x\"},\"y\":{\"field\":\"y\"}},\"id\":\"77aad9f7-0414-465c-a762-301b908305bc\",\"type\":\"Rect\"},{\"attributes\":{\"callback\":null,\"column_names\":[\"line_color\",\"line_alpha\",\"color\",\"fill_alpha\",\"height\",\"width\",\"y\",\"x\",\"label\"],\"data\":{\"chart_index\":[\"(1.4, 1.5]\"],\"color\":[\"#5ab738\"],\"fill_alpha\":[0.6],\"height\":[2.0],\"label\":[\"(1.4, 1.5]\"],\"line_alpha\":[1.0],\"line_color\":[\"black\"],\"width\":[0.10166313017110085],\"x\":[\"1.45\"],\"y\":[1.0]}},\"id\":\"f978c2ad-e1cd-4a7d-a810-db5c0e2beb3d\",\"type\":\"ColumnDataSource\"},{\"attributes\":{\"callback\":null,\"column_names\":[\"line_color\",\"line_alpha\",\"color\",\"fill_alpha\",\"height\",\"width\",\"y\",\"x\",\"label\"],\"data\":{\"chart_index\":[\"(2.2, 2.3]\"],\"color\":[\"#f22c40\"],\"fill_alpha\":[0.6],\"height\":[15.0],\"label\":[\"(2.2, 2.3]\"],\"line_alpha\":[1.0],\"line_color\":[\"black\"],\"width\":[0.13015985795467255],\"x\":[\"2.25\"],\"y\":[7.5]}},\"id\":\"8ac5d919-8780-4319-b90b-d52e7a8b9f42\",\"type\":\"ColumnDataSource\"},{\"attributes\":{\"fill_alpha\":{\"field\":\"fill_alpha\"},\"fill_color\":{\"field\":\"color\"},\"height\":{\"field\":\"height\",\"units\":\"data\"},\"line_color\":{\"field\":\"line_color\"},\"width\":{\"field\":\"width\",\"units\":\"data\"},\"x\":{\"field\":\"x\"},\"y\":{\"field\":\"y\"}},\"id\":\"3c9a5fb5-daba-47b1-b66d-75de11170064\",\"type\":\"Rect\"},{\"attributes\":{\"data_source\":{\"id\":\"879884c3-4a3b-4a98-a051-bb6e1b7156ad\",\"type\":\"ColumnDataSource\"},\"glyph\":{\"id\":\"77aad9f7-0414-465c-a762-301b908305bc\",\"type\":\"Rect\"},\"hover_glyph\":null,\"nonselection_glyph\":null,\"selection_glyph\":null},\"id\":\"663621f4-01df-4bc9-aed6-ea40259f6e3b\",\"type\":\"GlyphRenderer\"},{\"attributes\":{\"data_source\":{\"id\":\"dc4885db-cbe7-4465-8f45-a0d73c09bedf\",\"type\":\"ColumnDataSource\"},\"glyph\":{\"id\":\"1c6ae0ca-a81b-4b79-ac10-18d9bd55e451\",\"type\":\"Rect\"},\"hover_glyph\":null,\"nonselection_glyph\":null,\"selection_glyph\":null},\"id\":\"f70b307d-b1fc-46aa-9b63-e2ad316d52db\",\"type\":\"GlyphRenderer\"},{\"attributes\":{\"callback\":null,\"column_names\":[\"line_color\",\"line_alpha\",\"color\",\"fill_alpha\",\"height\",\"width\",\"y\",\"x\",\"label\"],\"data\":{\"chart_index\":[\"(1.8, 1.9]\"],\"color\":[\"#f22c40\"],\"fill_alpha\":[0.6],\"height\":[23.0],\"label\":[\"(1.8, 1.9]\"],\"line_alpha\":[1.0],\"line_color\":[\"black\"],\"width\":[0.13015985795467233],\"x\":[\"1.85\"],\"y\":[11.5]}},\"id\":\"3037fd2b-f339-4cd5-a462-3acfd3e2c396\",\"type\":\"ColumnDataSource\"},{\"attributes\":{\"data_source\":{\"id\":\"fe15408d-3a8d-444a-9c5e-b669eb0f9042\",\"type\":\"ColumnDataSource\"},\"glyph\":{\"id\":\"4d402d0a-fae4-4532-8889-3c86701bde21\",\"type\":\"Rect\"},\"hover_glyph\":null,\"nonselection_glyph\":null,\"selection_glyph\":null},\"id\":\"62252579-ad0e-4f10-8847-d81a4b33d746\",\"type\":\"GlyphRenderer\"},{\"attributes\":{\"fill_alpha\":{\"field\":\"fill_alpha\"},\"fill_color\":{\"field\":\"color\"},\"height\":{\"field\":\"height\",\"units\":\"data\"},\"line_color\":{\"field\":\"line_color\"},\"width\":{\"field\":\"width\",\"units\":\"data\"},\"x\":{\"field\":\"x\"},\"y\":{\"field\":\"y\"}},\"id\":\"96f3d703-337a-42fa-92cc-3c272a0021a5\",\"type\":\"Rect\"},{\"attributes\":{\"fill_alpha\":{\"field\":\"fill_alpha\"},\"fill_color\":{\"field\":\"color\"},\"height\":{\"field\":\"height\",\"units\":\"data\"},\"line_color\":{\"field\":\"line_color\"},\"width\":{\"field\":\"width\",\"units\":\"data\"},\"x\":{\"field\":\"x\"},\"y\":{\"field\":\"y\"}},\"id\":\"383ebf84-1365-4ea0-aabe-df9fa1deae33\",\"type\":\"Rect\"},{\"attributes\":{\"data_source\":{\"id\":\"6e7a4df4-4d79-4004-9869-aac003f1a391\",\"type\":\"ColumnDataSource\"},\"glyph\":{\"id\":\"d5e7bdf0-219d-4058-8190-6ac58d82f795\",\"type\":\"Rect\"},\"hover_glyph\":null,\"nonselection_glyph\":null,\"selection_glyph\":null},\"id\":\"8f6afcc7-e4d5-4238-a9d3-7b19b2f5977a\",\"type\":\"GlyphRenderer\"},{\"attributes\":{\"callback\":null,\"column_names\":[\"line_color\",\"line_alpha\",\"color\",\"fill_alpha\",\"height\",\"width\",\"y\",\"x\",\"label\"],\"data\":{\"chart_index\":[\"(0.9, 1.0]\"],\"color\":[\"#5ab738\"],\"fill_alpha\":[0.6],\"height\":[10.0],\"label\":[\"(0.9, 1.0]\"],\"line_alpha\":[1.0],\"line_color\":[\"black\"],\"width\":[0.10166313017110085],\"x\":[\"0.95\"],\"y\":[5.0]}},\"id\":\"2fb60dd3-b702-4988-b725-f462170c8078\",\"type\":\"ColumnDataSource\"},{\"attributes\":{\"data_source\":{\"id\":\"1637bddf-7933-45e2-b790-a42acf22ab54\",\"type\":\"ColumnDataSource\"},\"glyph\":{\"id\":\"12bb9761-f449-4590-8ec0-1ddf7972a2fd\",\"type\":\"Rect\"},\"hover_glyph\":null,\"nonselection_glyph\":null,\"selection_glyph\":null},\"id\":\"a8553ef8-7e49-4fb5-a7a4-64223d81c16e\",\"type\":\"GlyphRenderer\"},{\"attributes\":{\"fill_alpha\":{\"field\":\"fill_alpha\"},\"fill_color\":{\"field\":\"color\"},\"height\":{\"field\":\"height\",\"units\":\"data\"},\"line_color\":{\"field\":\"line_color\"},\"width\":{\"field\":\"width\",\"units\":\"data\"},\"x\":{\"field\":\"x\"},\"y\":{\"field\":\"y\"}},\"id\":\"d503fc9f-69cd-415e-87cf-cd82d6bfc383\",\"type\":\"Rect\"},{\"attributes\":{\"callback\":null,\"column_names\":[\"line_color\",\"line_alpha\",\"color\",\"fill_alpha\",\"height\",\"width\",\"y\",\"x\",\"label\"],\"data\":{\"chart_index\":[\"(1.3, 1.4]\"],\"color\":[\"#5ab738\"],\"fill_alpha\":[0.6],\"height\":[3.0],\"label\":[\"(1.3, 1.4]\"],\"line_alpha\":[1.0],\"line_color\":[\"black\"],\"width\":[0.10166313017110129],\"x\":[\"1.35\"],\"y\":[1.5]}},\"id\":\"e97732db-9571-4fea-b70c-387bf2c95935\",\"type\":\"ColumnDataSource\"},{\"attributes\":{\"callback\":null,\"column_names\":[\"line_color\",\"line_alpha\",\"color\",\"fill_alpha\",\"height\",\"width\",\"y\",\"x\",\"label\"],\"data\":{\"chart_index\":[\"(2.0, 2.2]\"],\"color\":[\"#f22c40\"],\"fill_alpha\":[0.6],\"height\":[20.0],\"label\":[\"(2.0, 2.2]\"],\"line_alpha\":[1.0],\"line_color\":[\"black\"],\"width\":[0.1301598579546721],\"x\":[\"2.1\"],\"y\":[10.0]}},\"id\":\"f931f2a8-b48e-40a9-9104-8f3ee7197006\",\"type\":\"ColumnDataSource\"},{\"attributes\":{\"fill_alpha\":{\"field\":\"fill_alpha\"},\"fill_color\":{\"field\":\"color\"},\"height\":{\"field\":\"height\",\"units\":\"data\"},\"line_color\":{\"field\":\"line_color\"},\"width\":{\"field\":\"width\",\"units\":\"data\"},\"x\":{\"field\":\"x\"},\"y\":{\"field\":\"y\"}},\"id\":\"812625b4-c585-4032-b753-276937d0de86\",\"type\":\"Rect\"},{\"attributes\":{\"overlay\":{\"id\":\"e3224331-55cf-426e-931d-e68a14b278c6\",\"type\":\"BoxAnnotation\"},\"plot\":{\"id\":\"ef7fe3e3-03a9-466d-b456-b01378486f13\",\"subtype\":\"Chart\",\"type\":\"Plot\"}},\"id\":\"19d46d54-dcbc-4a2e-bcfc-aa2304a7bc32\",\"type\":\"BoxZoomTool\"},{\"attributes\":{\"fill_alpha\":{\"field\":\"fill_alpha\"},\"fill_color\":{\"field\":\"color\"},\"height\":{\"field\":\"height\",\"units\":\"data\"},\"line_color\":{\"field\":\"line_color\"},\"width\":{\"field\":\"width\",\"units\":\"data\"},\"x\":{\"field\":\"x\"},\"y\":{\"field\":\"y\"}},\"id\":\"b3cdb902-0532-4618-807e-b0d32b5adf81\",\"type\":\"Rect\"},{\"attributes\":{\"callback\":null,\"column_names\":[\"line_color\",\"line_alpha\",\"color\",\"fill_alpha\",\"height\",\"width\",\"y\",\"x\",\"label\"],\"data\":{\"chart_index\":[\"(2.3, 2.4]\"],\"color\":[\"#f22c40\"],\"fill_alpha\":[0.6],\"height\":[7.0],\"label\":[\"(2.3, 2.4]\"],\"line_alpha\":[1.0],\"line_color\":[\"black\"],\"width\":[0.13015985795467255],\"x\":[\"2.35\"],\"y\":[3.5]}},\"id\":\"ccdf3e09-6882-4503-8e82-14da8446972f\",\"type\":\"ColumnDataSource\"},{\"attributes\":{\"callback\":null,\"column_names\":[\"line_color\",\"line_alpha\",\"color\",\"fill_alpha\",\"height\",\"width\",\"y\",\"x\",\"label\"],\"data\":{\"chart_index\":[\"[0.2, 0.3]\"],\"color\":[\"#f22c40\"],\"fill_alpha\":[0.6],\"height\":[16.0],\"label\":[\"[0.2, 0.3]\"],\"line_alpha\":[1.0],\"line_color\":[\"black\"],\"width\":[0.13015985795467244],\"x\":[\"0.25\"],\"y\":[8.0]}},\"id\":\"fe15408d-3a8d-444a-9c5e-b669eb0f9042\",\"type\":\"ColumnDataSource\"},{\"attributes\":{\"data_source\":{\"id\":\"c16a0579-bc0d-4b1e-b6a5-db758bee32fe\",\"type\":\"ColumnDataSource\"},\"glyph\":{\"id\":\"3c9a5fb5-daba-47b1-b66d-75de11170064\",\"type\":\"Rect\"},\"hover_glyph\":null,\"nonselection_glyph\":null,\"selection_glyph\":null},\"id\":\"66740310-d62f-4daa-8169-cb61d1dfde74\",\"type\":\"GlyphRenderer\"},{\"attributes\":{\"data_source\":{\"id\":\"d49106b4-c0cd-4b50-aab7-1e509b026946\",\"type\":\"ColumnDataSource\"},\"glyph\":{\"id\":\"457acadf-d9fe-4d52-8cf2-35f746ad2631\",\"type\":\"Rect\"},\"hover_glyph\":null,\"nonselection_glyph\":null,\"selection_glyph\":null},\"id\":\"2db2cb4a-0ac0-4901-b4de-819838d814fb\",\"type\":\"GlyphRenderer\"},{\"attributes\":{\"data_source\":{\"id\":\"008cdc4f-b5dd-4669-819d-17130fa2f9f1\",\"type\":\"ColumnDataSource\"},\"glyph\":{\"id\":\"dfe5193f-d35b-4307-89a9-cca44823fdf2\",\"type\":\"Rect\"},\"hover_glyph\":null,\"nonselection_glyph\":null,\"selection_glyph\":null},\"id\":\"67fe9329-4789-499b-85e3-18fb7c47f604\",\"type\":\"GlyphRenderer\"},{\"attributes\":{\"callback\":null,\"column_names\":[\"line_color\",\"line_alpha\",\"color\",\"fill_alpha\",\"height\",\"width\",\"y\",\"x\",\"label\"],\"data\":{\"chart_index\":[\"(0.9, 1.0]\"],\"color\":[\"#f22c40\"],\"fill_alpha\":[0.6],\"height\":[123.0],\"label\":[\"(0.9, 1.0]\"],\"line_alpha\":[1.0],\"line_color\":[\"black\"],\"width\":[0.13015985795467255],\"x\":[\"0.95\"],\"y\":[61.5]}},\"id\":\"a3f138ac-4b1e-4e28-80d7-f9e5f2f13588\",\"type\":\"ColumnDataSource\"},{\"attributes\":{\"data_source\":{\"id\":\"60652c01-36d3-4304-af0f-17f144b253d0\",\"type\":\"ColumnDataSource\"},\"glyph\":{\"id\":\"61842af7-7fcc-4d86-a0b7-6ebedec9ff70\",\"type\":\"Rect\"},\"hover_glyph\":null,\"nonselection_glyph\":null,\"selection_glyph\":null},\"id\":\"8648441e-20fe-40a0-9d3e-88714bde8fcb\",\"type\":\"GlyphRenderer\"},{\"attributes\":{\"fill_alpha\":{\"field\":\"fill_alpha\"},\"fill_color\":{\"field\":\"color\"},\"height\":{\"field\":\"height\",\"units\":\"data\"},\"line_color\":{\"field\":\"line_color\"},\"width\":{\"field\":\"width\",\"units\":\"data\"},\"x\":{\"field\":\"x\"},\"y\":{\"field\":\"y\"}},\"id\":\"273707a6-345b-4618-8979-ffbbebb8ae68\",\"type\":\"Rect\"},{\"attributes\":{\"callback\":null,\"column_names\":[\"line_color\",\"line_alpha\",\"color\",\"fill_alpha\",\"height\",\"width\",\"y\",\"x\",\"label\"],\"data\":{\"chart_index\":[\"(2.4, 2.5]\"],\"color\":[\"#f22c40\"],\"fill_alpha\":[0.6],\"height\":[11.0],\"label\":[\"(2.4, 2.5]\"],\"line_alpha\":[1.0],\"line_color\":[\"black\"],\"width\":[0.13015985795467255],\"x\":[\"2.45\"],\"y\":[5.5]}},\"id\":\"e2aaf910-14b9-40f4-bb91-eb1dcbb02e76\",\"type\":\"ColumnDataSource\"},{\"attributes\":{\"fill_alpha\":{\"field\":\"fill_alpha\"},\"fill_color\":{\"field\":\"color\"},\"height\":{\"field\":\"height\",\"units\":\"data\"},\"line_color\":{\"field\":\"line_color\"},\"width\":{\"field\":\"width\",\"units\":\"data\"},\"x\":{\"field\":\"x\"},\"y\":{\"field\":\"y\"}},\"id\":\"33bdf1e4-7958-465c-a640-ebf34eb75813\",\"type\":\"Rect\"},{\"attributes\":{\"callback\":null,\"column_names\":[\"line_color\",\"line_alpha\",\"color\",\"fill_alpha\",\"height\",\"width\",\"y\",\"x\",\"label\"],\"data\":{\"chart_index\":[\"(0.7, 0.8]\"],\"color\":[\"#5ab738\"],\"fill_alpha\":[0.6],\"height\":[21.0],\"label\":[\"(0.7, 0.8]\"],\"line_alpha\":[1.0],\"line_color\":[\"black\"],\"width\":[0.10166313017110129],\"x\":[\"0.75\"],\"y\":[10.5]}},\"id\":\"303cd07f-cf71-4725-bc2a-7b3554f07d57\",\"type\":\"ColumnDataSource\"},{\"attributes\":{\"fill_alpha\":{\"field\":\"fill_alpha\"},\"fill_color\":{\"field\":\"color\"},\"height\":{\"field\":\"height\",\"units\":\"data\"},\"line_color\":{\"field\":\"line_color\"},\"width\":{\"field\":\"width\",\"units\":\"data\"},\"x\":{\"field\":\"x\"},\"y\":{\"field\":\"y\"}},\"id\":\"1a48a271-da70-4301-b111-957952c2fe0d\",\"type\":\"Rect\"},{\"attributes\":{},\"id\":\"d1fa94e8-1cb4-4522-b022-6fc3cfb45205\",\"type\":\"BasicTicker\"},{\"attributes\":{\"data_source\":{\"id\":\"d5b7437a-a4dc-406a-90fc-87bd7008a330\",\"type\":\"ColumnDataSource\"},\"glyph\":{\"id\":\"55fce9eb-dd6a-4589-834e-27efb2b8bd51\",\"type\":\"Rect\"},\"hover_glyph\":null,\"nonselection_glyph\":null,\"selection_glyph\":null},\"id\":\"1cf002e9-21ad-4553-a50d-63ee4b64195c\",\"type\":\"GlyphRenderer\"},{\"attributes\":{\"callback\":null,\"column_names\":[\"line_color\",\"line_alpha\",\"color\",\"fill_alpha\",\"height\",\"width\",\"y\",\"x\",\"label\"],\"data\":{\"chart_index\":[\"(-1.4, -1.3]\"],\"color\":[\"#5ab738\"],\"fill_alpha\":[0.6],\"height\":[2.0],\"label\":[\"(-1.4, -1.3]\"],\"line_alpha\":[1.0],\"line_color\":[\"black\"],\"width\":[0.10166313017110107],\"x\":[\"-1.35\"],\"y\":[1.0]}},\"id\":\"097978f7-8e17-4dc7-843b-8028382b81a4\",\"type\":\"ColumnDataSource\"},{\"attributes\":{\"fill_alpha\":{\"field\":\"fill_alpha\"},\"fill_color\":{\"field\":\"color\"},\"height\":{\"field\":\"height\",\"units\":\"data\"},\"line_color\":{\"field\":\"line_color\"},\"width\":{\"field\":\"width\",\"units\":\"data\"},\"x\":{\"field\":\"x\"},\"y\":{\"field\":\"y\"}},\"id\":\"81c125ea-4079-414b-8821-7af9eef107cd\",\"type\":\"Rect\"},{\"attributes\":{},\"id\":\"8da29395-5172-49ae-a80a-75efbbf830ff\",\"type\":\"BasicTicker\"},{\"attributes\":{\"fill_alpha\":{\"field\":\"fill_alpha\"},\"fill_color\":{\"field\":\"color\"},\"height\":{\"field\":\"height\",\"units\":\"data\"},\"line_color\":{\"field\":\"line_color\"},\"width\":{\"field\":\"width\",\"units\":\"data\"},\"x\":{\"field\":\"x\"},\"y\":{\"field\":\"y\"}},\"id\":\"f070ee76-07e3-4140-a8aa-0a8443d9f54a\",\"type\":\"Rect\"},{\"attributes\":{\"callback\":null,\"column_names\":[\"line_color\",\"line_alpha\",\"color\",\"fill_alpha\",\"height\",\"width\",\"y\",\"x\",\"label\"],\"data\":{\"chart_index\":[\"(3.5, 3.6]\"],\"color\":[\"#f22c40\"],\"fill_alpha\":[0.6],\"height\":[2.0],\"label\":[\"(3.5, 3.6]\"],\"line_alpha\":[1.0],\"line_color\":[\"black\"],\"width\":[0.13015985795467255],\"x\":[\"3.55\"],\"y\":[1.0]}},\"id\":\"45af6125-fcf4-4930-82c6-b1f5eb192b13\",\"type\":\"ColumnDataSource\"},{\"attributes\":{\"callback\":null,\"column_names\":[\"line_color\",\"line_alpha\",\"color\",\"fill_alpha\",\"height\",\"width\",\"y\",\"x\",\"label\"],\"data\":{\"chart_index\":[\"(0.3, 0.4]\"],\"color\":[\"#5ab738\"],\"fill_alpha\":[0.6],\"height\":[76.0],\"label\":[\"(0.3, 0.4]\"],\"line_alpha\":[1.0],\"line_color\":[\"black\"],\"width\":[0.10166313017110129],\"x\":[\"0.35\"],\"y\":[38.0]}},\"id\":\"052a743e-5e87-42ef-b222-c67213035c20\",\"type\":\"ColumnDataSource\"},{\"attributes\":{\"fill_alpha\":{\"field\":\"fill_alpha\"},\"fill_color\":{\"field\":\"color\"},\"height\":{\"field\":\"height\",\"units\":\"data\"},\"line_color\":{\"field\":\"line_color\"},\"width\":{\"field\":\"width\",\"units\":\"data\"},\"x\":{\"field\":\"x\"},\"y\":{\"field\":\"y\"}},\"id\":\"96533cd4-a707-4991-a50d-2517eb0fa025\",\"type\":\"Rect\"},{\"attributes\":{\"callback\":null,\"column_names\":[\"line_color\",\"line_alpha\",\"color\",\"fill_alpha\",\"height\",\"width\",\"y\",\"x\",\"label\"],\"data\":{\"chart_index\":[\"(-1.2, -1.1]\"],\"color\":[\"#5ab738\"],\"fill_alpha\":[0.6],\"height\":[5.0],\"label\":[\"(-1.2, -1.1]\"],\"line_alpha\":[1.0],\"line_color\":[\"black\"],\"width\":[0.10166313017110129],\"x\":[\"-1.15\"],\"y\":[2.5]}},\"id\":\"4d002c91-01a7-489d-8324-be6277c5d26a\",\"type\":\"ColumnDataSource\"},{\"attributes\":{\"fill_alpha\":{\"field\":\"fill_alpha\"},\"fill_color\":{\"field\":\"color\"},\"height\":{\"field\":\"height\",\"units\":\"data\"},\"line_color\":{\"field\":\"line_color\"},\"width\":{\"field\":\"width\",\"units\":\"data\"},\"x\":{\"field\":\"x\"},\"y\":{\"field\":\"y\"}},\"id\":\"80ca8e10-90ad-45b6-9afd-66fdcc9dc362\",\"type\":\"Rect\"},{\"attributes\":{\"data_source\":{\"id\":\"4eddbf28-8693-4470-91f4-f507b3e49a56\",\"type\":\"ColumnDataSource\"},\"glyph\":{\"id\":\"55d1b816-3e61-4924-95ec-dc0c6280c8c1\",\"type\":\"Rect\"},\"hover_glyph\":null,\"nonselection_glyph\":null,\"selection_glyph\":null},\"id\":\"bf8d63cb-02c9-439a-834b-b3f90aac6edd\",\"type\":\"GlyphRenderer\"},{\"attributes\":{\"fill_alpha\":{\"field\":\"fill_alpha\"},\"fill_color\":{\"field\":\"color\"},\"height\":{\"field\":\"height\",\"units\":\"data\"},\"line_color\":{\"field\":\"line_color\"},\"width\":{\"field\":\"width\",\"units\":\"data\"},\"x\":{\"field\":\"x\"},\"y\":{\"field\":\"y\"}},\"id\":\"23dac39b-f4a3-4111-a92f-00110a75b0e4\",\"type\":\"Rect\"},{\"attributes\":{\"callback\":null,\"column_names\":[\"line_color\",\"line_alpha\",\"color\",\"fill_alpha\",\"height\",\"width\",\"y\",\"x\",\"label\"],\"data\":{\"chart_index\":[\"(0.5, 0.6]\"],\"color\":[\"#f22c40\"],\"fill_alpha\":[0.6],\"height\":[81.0],\"label\":[\"(0.5, 0.6]\"],\"line_alpha\":[1.0],\"line_color\":[\"black\"],\"width\":[0.1301598579546725],\"x\":[\"0.55\"],\"y\":[40.5]}},\"id\":\"a689dd94-45dd-4152-b650-17fb5330b08c\",\"type\":\"ColumnDataSource\"},{\"attributes\":{\"fill_alpha\":{\"field\":\"fill_alpha\"},\"fill_color\":{\"field\":\"color\"},\"height\":{\"field\":\"height\",\"units\":\"data\"},\"line_color\":{\"field\":\"line_color\"},\"width\":{\"field\":\"width\",\"units\":\"data\"},\"x\":{\"field\":\"x\"},\"y\":{\"field\":\"y\"}},\"id\":\"55fce9eb-dd6a-4589-834e-27efb2b8bd51\",\"type\":\"Rect\"},{\"attributes\":{\"fill_alpha\":{\"field\":\"fill_alpha\"},\"fill_color\":{\"field\":\"color\"},\"height\":{\"field\":\"height\",\"units\":\"data\"},\"line_color\":{\"field\":\"line_color\"},\"width\":{\"field\":\"width\",\"units\":\"data\"},\"x\":{\"field\":\"x\"},\"y\":{\"field\":\"y\"}},\"id\":\"854bcc74-cff0-4899-9978-20a3b9c689f7\",\"type\":\"Rect\"},{\"attributes\":{\"callback\":null,\"column_names\":[\"line_color\",\"line_alpha\",\"color\",\"fill_alpha\",\"height\",\"width\",\"y\",\"x\",\"label\"],\"data\":{\"chart_index\":[\"(1.5, 1.6]\"],\"color\":[\"#f22c40\"],\"fill_alpha\":[0.6],\"height\":[39.0],\"label\":[\"(1.5, 1.6]\"],\"line_alpha\":[1.0],\"line_color\":[\"black\"],\"width\":[0.13015985795467255],\"x\":[\"1.55\"],\"y\":[19.5]}},\"id\":\"d223f5b4-0a72-4cae-a445-76552619cc19\",\"type\":\"ColumnDataSource\"},{\"attributes\":{\"fill_alpha\":{\"field\":\"fill_alpha\"},\"fill_color\":{\"field\":\"color\"},\"height\":{\"field\":\"height\",\"units\":\"data\"},\"line_color\":{\"field\":\"line_color\"},\"width\":{\"field\":\"width\",\"units\":\"data\"},\"x\":{\"field\":\"x\"},\"y\":{\"field\":\"y\"}},\"id\":\"84c41ee3-d21f-4000-9586-fd166feab4c8\",\"type\":\"Rect\"},{\"attributes\":{\"data_source\":{\"id\":\"070ad0c4-86cd-43e5-a84f-aae743411c0f\",\"type\":\"ColumnDataSource\"},\"glyph\":{\"id\":\"f5b7c8e4-6b7a-4fcd-89ba-ede58b298668\",\"type\":\"Rect\"},\"hover_glyph\":null,\"nonselection_glyph\":null,\"selection_glyph\":null},\"id\":\"60da6360-36b1-4ec1-a47a-1951c80bda6c\",\"type\":\"GlyphRenderer\"},{\"attributes\":{\"data_source\":{\"id\":\"2f8e5bd7-415b-4ba2-9bdb-cd5a45ed43a1\",\"type\":\"ColumnDataSource\"},\"glyph\":{\"id\":\"81c125ea-4079-414b-8821-7af9eef107cd\",\"type\":\"Rect\"},\"hover_glyph\":null,\"nonselection_glyph\":null,\"selection_glyph\":null},\"id\":\"0a9d6c96-3727-4237-8036-c507f366b026\",\"type\":\"GlyphRenderer\"},{\"attributes\":{\"legends\":[[\"normal\",[{\"id\":\"96298b7e-b978-43ad-abcd-54b37bd8b1c8\",\"type\":\"GlyphRenderer\"},{\"id\":\"e7a494ac-4bfc-4a9c-a178-e6ca7cb64d4d\",\"type\":\"GlyphRenderer\"},{\"id\":\"66740310-d62f-4daa-8169-cb61d1dfde74\",\"type\":\"GlyphRenderer\"},{\"id\":\"e858385d-5b82-4b19-b531-56cbc2579517\",\"type\":\"GlyphRenderer\"},{\"id\":\"f47bb8ea-000f-478b-8c2f-374f5211c195\",\"type\":\"GlyphRenderer\"},{\"id\":\"5fe2db00-8831-48e0-aabf-7857afca638c\",\"type\":\"GlyphRenderer\"},{\"id\":\"f70b307d-b1fc-46aa-9b63-e2ad316d52db\",\"type\":\"GlyphRenderer\"},{\"id\":\"04ca13e1-afd3-441f-a71d-6d81c8e6f893\",\"type\":\"GlyphRenderer\"},{\"id\":\"a8553ef8-7e49-4fb5-a7a4-64223d81c16e\",\"type\":\"GlyphRenderer\"},{\"id\":\"75818565-3747-40b6-94b7-08eacaf605e0\",\"type\":\"GlyphRenderer\"},{\"id\":\"99a094f8-540b-4aae-a1a2-98dfd8b70db2\",\"type\":\"GlyphRenderer\"},{\"id\":\"3c6184cd-7732-43ae-b485-8ddcd5479551\",\"type\":\"GlyphRenderer\"},{\"id\":\"ce64fa08-2c8b-489c-99c8-e4a25ba0685c\",\"type\":\"GlyphRenderer\"},{\"id\":\"8eb3cb6a-f20b-492d-be6b-08a36663679a\",\"type\":\"GlyphRenderer\"},{\"id\":\"1d0613dc-d184-4c77-9bc8-7a6177005a66\",\"type\":\"GlyphRenderer\"},{\"id\":\"8dc7198c-c62a-4a69-b849-e52c1f1e4aa7\",\"type\":\"GlyphRenderer\"},{\"id\":\"a6ea23d8-3de3-4e1a-9694-421a4fcb53ea\",\"type\":\"GlyphRenderer\"},{\"id\":\"67fe9329-4789-499b-85e3-18fb7c47f604\",\"type\":\"GlyphRenderer\"},{\"id\":\"2b8395ac-db37-40f1-bd68-c4aa875d025c\",\"type\":\"GlyphRenderer\"},{\"id\":\"88073983-d4c6-4f53-b3af-6bab45af9795\",\"type\":\"GlyphRenderer\"},{\"id\":\"8648441e-20fe-40a0-9d3e-88714bde8fcb\",\"type\":\"GlyphRenderer\"},{\"id\":\"b5c5bb41-a8f8-4542-b2a8-f6a76f993a04\",\"type\":\"GlyphRenderer\"},{\"id\":\"f26ec25d-b2c5-4bff-b35c-d7cd996a72fe\",\"type\":\"GlyphRenderer\"},{\"id\":\"9a4709dc-2821-4e66-b753-3a5451b03f02\",\"type\":\"GlyphRenderer\"},{\"id\":\"b7e259b8-5727-4a5a-a629-d370f186fd73\",\"type\":\"GlyphRenderer\"},{\"id\":\"c1ed68e8-dae1-4db2-bd63-bc97dcf1eb46\",\"type\":\"GlyphRenderer\"},{\"id\":\"024c3695-7f17-4ce3-a521-2cb2287d9024\",\"type\":\"GlyphRenderer\"},{\"id\":\"663621f4-01df-4bc9-aed6-ea40259f6e3b\",\"type\":\"GlyphRenderer\"},{\"id\":\"bd5c3d56-445a-41c9-b8c9-f65df1bbffa7\",\"type\":\"GlyphRenderer\"},{\"id\":\"c2450f3e-3e3e-48de-ae8a-afeffcc001f7\",\"type\":\"GlyphRenderer\"}]],[\"lognormal\",[{\"id\":\"62252579-ad0e-4f10-8847-d81a4b33d746\",\"type\":\"GlyphRenderer\"},{\"id\":\"60da6360-36b1-4ec1-a47a-1951c80bda6c\",\"type\":\"GlyphRenderer\"},{\"id\":\"d317de9a-4fae-44ad-aa82-6477b83281e4\",\"type\":\"GlyphRenderer\"},{\"id\":\"1cf002e9-21ad-4553-a50d-63ee4b64195c\",\"type\":\"GlyphRenderer\"},{\"id\":\"a805ffde-0f28-42d6-ae0b-6c8f6443b624\",\"type\":\"GlyphRenderer\"},{\"id\":\"e0405a29-640d-4850-aeac-58b340d0fbbe\",\"type\":\"GlyphRenderer\"},{\"id\":\"8ea6d2a3-a463-4fb8-98a2-fe847fe3e113\",\"type\":\"GlyphRenderer\"},{\"id\":\"bf8d63cb-02c9-439a-834b-b3f90aac6edd\",\"type\":\"GlyphRenderer\"},{\"id\":\"dcba0a04-2981-46b6-8e78-d7e167024629\",\"type\":\"GlyphRenderer\"},{\"id\":\"73930cd3-4738-41d8-9820-44f548246d43\",\"type\":\"GlyphRenderer\"},{\"id\":\"1de3a870-6279-4e9e-83f0-b0243bae2871\",\"type\":\"GlyphRenderer\"},{\"id\":\"8522eac9-2127-4bc1-9e9d-c323b965db52\",\"type\":\"GlyphRenderer\"},{\"id\":\"67682a08-e2e7-4641-926e-48eba1a52d81\",\"type\":\"GlyphRenderer\"},{\"id\":\"58241372-eec7-453c-91cb-dbe870650c01\",\"type\":\"GlyphRenderer\"},{\"id\":\"ee572d57-1684-4f05-aaf8-c47ab229e78b\",\"type\":\"GlyphRenderer\"},{\"id\":\"beefda06-81de-4020-b042-25097b8598fc\",\"type\":\"GlyphRenderer\"},{\"id\":\"07386b14-8648-4143-819c-72208b046e09\",\"type\":\"GlyphRenderer\"},{\"id\":\"e67fa9aa-828b-49ef-8d64-0103f0fec4cc\",\"type\":\"GlyphRenderer\"},{\"id\":\"12dc732a-09b0-4772-aac5-4a8c5e805fea\",\"type\":\"GlyphRenderer\"},{\"id\":\"0a9d6c96-3727-4237-8036-c507f366b026\",\"type\":\"GlyphRenderer\"},{\"id\":\"392c721e-839d-45be-8643-3750d5e44dc2\",\"type\":\"GlyphRenderer\"},{\"id\":\"89703ea7-2850-4d5a-a847-ba3de7c97b19\",\"type\":\"GlyphRenderer\"},{\"id\":\"73c2b6da-630e-43b7-927d-3059a2d47442\",\"type\":\"GlyphRenderer\"},{\"id\":\"bab61ae5-1ae4-4e2c-a557-5dd97b2725ae\",\"type\":\"GlyphRenderer\"},{\"id\":\"298d8ddb-052f-43f6-8a99-4bbccf05cdb0\",\"type\":\"GlyphRenderer\"},{\"id\":\"c4d3e51b-e962-43b5-9834-b443babbaa22\",\"type\":\"GlyphRenderer\"},{\"id\":\"62a11fcc-ccdd-48b6-9d00-18400b90c595\",\"type\":\"GlyphRenderer\"},{\"id\":\"2db2cb4a-0ac0-4901-b4de-819838d814fb\",\"type\":\"GlyphRenderer\"},{\"id\":\"8f6afcc7-e4d5-4238-a9d3-7b19b2f5977a\",\"type\":\"GlyphRenderer\"},{\"id\":\"22d56d30-d9e3-4a17-839d-244a99b021a1\",\"type\":\"GlyphRenderer\"}]]],\"plot\":{\"id\":\"ef7fe3e3-03a9-466d-b456-b01378486f13\",\"subtype\":\"Chart\",\"type\":\"Plot\"}},\"id\":\"59d6bad5-3175-44cd-9e8a-f4b6b3a7e721\",\"type\":\"Legend\"},{\"attributes\":{\"fill_alpha\":{\"field\":\"fill_alpha\"},\"fill_color\":{\"field\":\"color\"},\"height\":{\"field\":\"height\",\"units\":\"data\"},\"line_color\":{\"field\":\"line_color\"},\"width\":{\"field\":\"width\",\"units\":\"data\"},\"x\":{\"field\":\"x\"},\"y\":{\"field\":\"y\"}},\"id\":\"017ceab9-8326-4780-81ab-f6dee3254a5b\",\"type\":\"Rect\"},{\"attributes\":{\"fill_alpha\":{\"field\":\"fill_alpha\"},\"fill_color\":{\"field\":\"color\"},\"height\":{\"field\":\"height\",\"units\":\"data\"},\"line_color\":{\"field\":\"line_color\"},\"width\":{\"field\":\"width\",\"units\":\"data\"},\"x\":{\"field\":\"x\"},\"y\":{\"field\":\"y\"}},\"id\":\"1c6ae0ca-a81b-4b79-ac10-18d9bd55e451\",\"type\":\"Rect\"},{\"attributes\":{\"dimension\":1,\"plot\":{\"id\":\"ef7fe3e3-03a9-466d-b456-b01378486f13\",\"subtype\":\"Chart\",\"type\":\"Plot\"},\"ticker\":{\"id\":\"d1fa94e8-1cb4-4522-b022-6fc3cfb45205\",\"type\":\"BasicTicker\"}},\"id\":\"5378aecc-17f3-4db6-8820-2128c51bdbf8\",\"type\":\"Grid\"},{\"attributes\":{\"bottom_units\":\"screen\",\"fill_alpha\":{\"value\":0.5},\"fill_color\":{\"value\":\"lightgrey\"},\"left_units\":\"screen\",\"level\":\"overlay\",\"line_alpha\":{\"value\":1.0},\"line_color\":{\"value\":\"black\"},\"line_dash\":[4,4],\"line_width\":{\"value\":2},\"plot\":null,\"render_mode\":\"css\",\"right_units\":\"screen\",\"top_units\":\"screen\"},\"id\":\"e3224331-55cf-426e-931d-e68a14b278c6\",\"type\":\"BoxAnnotation\"},{\"attributes\":{\"data_source\":{\"id\":\"a3b4c284-0019-4fad-9bde-a9629251cec4\",\"type\":\"ColumnDataSource\"},\"glyph\":{\"id\":\"383ebf84-1365-4ea0-aabe-df9fa1deae33\",\"type\":\"Rect\"},\"hover_glyph\":null,\"nonselection_glyph\":null,\"selection_glyph\":null},\"id\":\"73930cd3-4738-41d8-9820-44f548246d43\",\"type\":\"GlyphRenderer\"},{\"attributes\":{\"fill_alpha\":{\"field\":\"fill_alpha\"},\"fill_color\":{\"field\":\"color\"},\"height\":{\"field\":\"height\",\"units\":\"data\"},\"line_color\":{\"field\":\"line_color\"},\"width\":{\"field\":\"width\",\"units\":\"data\"},\"x\":{\"field\":\"x\"},\"y\":{\"field\":\"y\"}},\"id\":\"4d402d0a-fae4-4532-8889-3c86701bde21\",\"type\":\"Rect\"},{\"attributes\":{\"fill_alpha\":{\"field\":\"fill_alpha\"},\"fill_color\":{\"field\":\"color\"},\"height\":{\"field\":\"height\",\"units\":\"data\"},\"line_color\":{\"field\":\"line_color\"},\"width\":{\"field\":\"width\",\"units\":\"data\"},\"x\":{\"field\":\"x\"},\"y\":{\"field\":\"y\"}},\"id\":\"adb436ed-13b1-428f-86af-aa10f504a49f\",\"type\":\"Rect\"},{\"attributes\":{\"data_source\":{\"id\":\"08d41ca1-d80a-4e34-8c34-50119fdf5bb9\",\"type\":\"ColumnDataSource\"},\"glyph\":{\"id\":\"f070ee76-07e3-4140-a8aa-0a8443d9f54a\",\"type\":\"Rect\"},\"hover_glyph\":null,\"nonselection_glyph\":null,\"selection_glyph\":null},\"id\":\"bab61ae5-1ae4-4e2c-a557-5dd97b2725ae\",\"type\":\"GlyphRenderer\"},{\"attributes\":{\"data_source\":{\"id\":\"73b99c79-2415-4efc-9771-9730d086dc96\",\"type\":\"ColumnDataSource\"},\"glyph\":{\"id\":\"adb436ed-13b1-428f-86af-aa10f504a49f\",\"type\":\"Rect\"},\"hover_glyph\":null,\"nonselection_glyph\":null,\"selection_glyph\":null},\"id\":\"04ca13e1-afd3-441f-a71d-6d81c8e6f893\",\"type\":\"GlyphRenderer\"},{\"attributes\":{\"callback\":null,\"column_names\":[\"line_color\",\"line_alpha\",\"color\",\"fill_alpha\",\"height\",\"width\",\"y\",\"x\",\"label\"],\"data\":{\"chart_index\":[\"[-1.5, -1.4]\"],\"color\":[\"#5ab738\"],\"fill_alpha\":[0.6],\"height\":[2.0],\"label\":[\"[-1.5, -1.4]\"],\"line_alpha\":[1.0],\"line_color\":[\"black\"],\"width\":[0.10166313017110129],\"x\":[\"-1.45\"],\"y\":[1.0]}},\"id\":\"33870f1f-e01b-4ef3-8d20-8ba728a0f832\",\"type\":\"ColumnDataSource\"},{\"attributes\":{\"callback\":null,\"column_names\":[\"line_color\",\"line_alpha\",\"color\",\"fill_alpha\",\"height\",\"width\",\"y\",\"x\",\"label\"],\"data\":{\"chart_index\":[\"(1.2, 1.3]\"],\"color\":[\"#5ab738\"],\"fill_alpha\":[0.6],\"height\":[7.0],\"label\":[\"(1.2, 1.3]\"],\"line_alpha\":[1.0],\"line_color\":[\"black\"],\"width\":[0.10166313017110129],\"x\":[\"1.25\"],\"y\":[3.5]}},\"id\":\"879884c3-4a3b-4a98-a051-bb6e1b7156ad\",\"type\":\"ColumnDataSource\"},{\"attributes\":{\"data_source\":{\"id\":\"45af6125-fcf4-4930-82c6-b1f5eb192b13\",\"type\":\"ColumnDataSource\"},\"glyph\":{\"id\":\"ed91aa49-d8ef-41a7-9f8e-384200e2ea64\",\"type\":\"Rect\"},\"hover_glyph\":null,\"nonselection_glyph\":null,\"selection_glyph\":null},\"id\":\"c4d3e51b-e962-43b5-9834-b443babbaa22\",\"type\":\"GlyphRenderer\"},{\"attributes\":{\"fill_alpha\":{\"field\":\"fill_alpha\"},\"fill_color\":{\"field\":\"color\"},\"height\":{\"field\":\"height\",\"units\":\"data\"},\"line_color\":{\"field\":\"line_color\"},\"width\":{\"field\":\"width\",\"units\":\"data\"},\"x\":{\"field\":\"x\"},\"y\":{\"field\":\"y\"}},\"id\":\"ed91aa49-d8ef-41a7-9f8e-384200e2ea64\",\"type\":\"Rect\"},{\"attributes\":{\"data_source\":{\"id\":\"1e6bc4b2-37f1-4390-8b21-068bd7fae63f\",\"type\":\"ColumnDataSource\"},\"glyph\":{\"id\":\"1a48a271-da70-4301-b111-957952c2fe0d\",\"type\":\"Rect\"},\"hover_glyph\":null,\"nonselection_glyph\":null,\"selection_glyph\":null},\"id\":\"89703ea7-2850-4d5a-a847-ba3de7c97b19\",\"type\":\"GlyphRenderer\"},{\"attributes\":{\"data_source\":{\"id\":\"052a743e-5e87-42ef-b222-c67213035c20\",\"type\":\"ColumnDataSource\"},\"glyph\":{\"id\":\"cd188a5b-88e1-49fa-8f10-d4c0b59824ce\",\"type\":\"Rect\"},\"hover_glyph\":null,\"nonselection_glyph\":null,\"selection_glyph\":null},\"id\":\"2b8395ac-db37-40f1-bd68-c4aa875d025c\",\"type\":\"GlyphRenderer\"},{\"attributes\":{\"fill_alpha\":{\"field\":\"fill_alpha\"},\"fill_color\":{\"field\":\"color\"},\"height\":{\"field\":\"height\",\"units\":\"data\"},\"line_color\":{\"field\":\"line_color\"},\"width\":{\"field\":\"width\",\"units\":\"data\"},\"x\":{\"field\":\"x\"},\"y\":{\"field\":\"y\"}},\"id\":\"173bb021-237f-436d-9ba8-3aa3f55079b9\",\"type\":\"Rect\"},{\"attributes\":{\"data_source\":{\"id\":\"d5b2fb9c-d97a-43a0-8d9b-b7b75dad2aa2\",\"type\":\"ColumnDataSource\"},\"glyph\":{\"id\":\"898b29e2-31e4-45e4-9570-fd436076a2d6\",\"type\":\"Rect\"},\"hover_glyph\":null,\"nonselection_glyph\":null,\"selection_glyph\":null},\"id\":\"62a11fcc-ccdd-48b6-9d00-18400b90c595\",\"type\":\"GlyphRenderer\"},{\"attributes\":{\"data_source\":{\"id\":\"a3f138ac-4b1e-4e28-80d7-f9e5f2f13588\",\"type\":\"ColumnDataSource\"},\"glyph\":{\"id\":\"812625b4-c585-4032-b753-276937d0de86\",\"type\":\"Rect\"},\"hover_glyph\":null,\"nonselection_glyph\":null,\"selection_glyph\":null},\"id\":\"e0405a29-640d-4850-aeac-58b340d0fbbe\",\"type\":\"GlyphRenderer\"},{\"attributes\":{\"callback\":null,\"end\":4.18043613807463,\"start\":-1.5661877741828452},\"id\":\"9c91c251-8fd9-41bb-b3b4-45251ab50401\",\"type\":\"Range1d\"},{\"attributes\":{\"fill_alpha\":{\"field\":\"fill_alpha\"},\"fill_color\":{\"field\":\"color\"},\"height\":{\"field\":\"height\",\"units\":\"data\"},\"line_color\":{\"field\":\"line_color\"},\"width\":{\"field\":\"width\",\"units\":\"data\"},\"x\":{\"field\":\"x\"},\"y\":{\"field\":\"y\"}},\"id\":\"59de50db-f781-40f8-907f-94036461ad0c\",\"type\":\"Rect\"},{\"attributes\":{\"data_source\":{\"id\":\"5fbf4ab5-8d4d-4b6b-b855-0ca5c6dbb9eb\",\"type\":\"ColumnDataSource\"},\"glyph\":{\"id\":\"23dac39b-f4a3-4111-a92f-00110a75b0e4\",\"type\":\"Rect\"},\"hover_glyph\":null,\"nonselection_glyph\":null,\"selection_glyph\":null},\"id\":\"ce64fa08-2c8b-489c-99c8-e4a25ba0685c\",\"type\":\"GlyphRenderer\"},{\"attributes\":{\"data_source\":{\"id\":\"4d002c91-01a7-489d-8324-be6277c5d26a\",\"type\":\"ColumnDataSource\"},\"glyph\":{\"id\":\"017ceab9-8326-4780-81ab-f6dee3254a5b\",\"type\":\"Rect\"},\"hover_glyph\":null,\"nonselection_glyph\":null,\"selection_glyph\":null},\"id\":\"e858385d-5b82-4b19-b531-56cbc2579517\",\"type\":\"GlyphRenderer\"},{\"attributes\":{\"fill_alpha\":{\"field\":\"fill_alpha\"},\"fill_color\":{\"field\":\"color\"},\"height\":{\"field\":\"height\",\"units\":\"data\"},\"line_color\":{\"field\":\"line_color\"},\"width\":{\"field\":\"width\",\"units\":\"data\"},\"x\":{\"field\":\"x\"},\"y\":{\"field\":\"y\"}},\"id\":\"2b2b8c9e-26ba-40ea-93fa-df7d479cf03b\",\"type\":\"Rect\"},{\"attributes\":{\"callback\":null,\"column_names\":[\"line_color\",\"line_alpha\",\"color\",\"fill_alpha\",\"height\",\"width\",\"y\",\"x\",\"label\"],\"data\":{\"chart_index\":[\"(-0.3, -0.2]\"],\"color\":[\"#5ab738\"],\"fill_alpha\":[0.6],\"height\":[65.0],\"label\":[\"(-0.3, -0.2]\"],\"line_alpha\":[1.0],\"line_color\":[\"black\"],\"width\":[0.10166313017110107],\"x\":[\"-0.25\"],\"y\":[32.5]}},\"id\":\"5fbf4ab5-8d4d-4b6b-b855-0ca5c6dbb9eb\",\"type\":\"ColumnDataSource\"},{\"attributes\":{\"data_source\":{\"id\":\"3f318830-a3c1-4da2-865f-22a7e4ed37ee\",\"type\":\"ColumnDataSource\"},\"glyph\":{\"id\":\"fdfec208-89a7-46b3-b265-723b25b42bae\",\"type\":\"Rect\"},\"hover_glyph\":null,\"nonselection_glyph\":null,\"selection_glyph\":null},\"id\":\"9a4709dc-2821-4e66-b753-3a5451b03f02\",\"type\":\"GlyphRenderer\"},{\"attributes\":{\"fill_alpha\":{\"field\":\"fill_alpha\"},\"fill_color\":{\"field\":\"color\"},\"height\":{\"field\":\"height\",\"units\":\"data\"},\"line_color\":{\"field\":\"line_color\"},\"width\":{\"field\":\"width\",\"units\":\"data\"},\"x\":{\"field\":\"x\"},\"y\":{\"field\":\"y\"}},\"id\":\"457acadf-d9fe-4d52-8cf2-35f746ad2631\",\"type\":\"Rect\"},{\"attributes\":{\"callback\":null,\"column_names\":[\"line_color\",\"line_alpha\",\"color\",\"fill_alpha\",\"height\",\"width\",\"y\",\"x\",\"label\"],\"data\":{\"chart_index\":[\"(0.8, 0.9]\"],\"color\":[\"#5ab738\"],\"fill_alpha\":[0.6],\"height\":[14.0],\"label\":[\"(0.8, 0.9]\"],\"line_alpha\":[1.0],\"line_color\":[\"black\"],\"width\":[0.10166313017110129],\"x\":[\"0.85\"],\"y\":[7.0]}},\"id\":\"3f318830-a3c1-4da2-865f-22a7e4ed37ee\",\"type\":\"ColumnDataSource\"},{\"attributes\":{\"data_source\":{\"id\":\"ce43cb5c-9756-4344-8bef-1ee6cc13a4fb\",\"type\":\"ColumnDataSource\"},\"glyph\":{\"id\":\"d4f84add-9801-4df6-8e7e-ba773ce08cf9\",\"type\":\"Rect\"},\"hover_glyph\":null,\"nonselection_glyph\":null,\"selection_glyph\":null},\"id\":\"a805ffde-0f28-42d6-ae0b-6c8f6443b624\",\"type\":\"GlyphRenderer\"},{\"attributes\":{\"callback\":null,\"column_names\":[\"line_color\",\"line_alpha\",\"color\",\"fill_alpha\",\"height\",\"width\",\"y\",\"x\",\"label\"],\"data\":{\"chart_index\":[\"(2.9, 3.1]\"],\"color\":[\"#f22c40\"],\"fill_alpha\":[0.6],\"height\":[3.0],\"label\":[\"(2.9, 3.1]\"],\"line_alpha\":[1.0],\"line_color\":[\"black\"],\"width\":[0.13015985795467255],\"x\":[\"3.0\"],\"y\":[1.5]}},\"id\":\"1e6bc4b2-37f1-4390-8b21-068bd7fae63f\",\"type\":\"ColumnDataSource\"},{\"attributes\":{\"data_source\":{\"id\":\"e2aaf910-14b9-40f4-bb91-eb1dcbb02e76\",\"type\":\"ColumnDataSource\"},\"glyph\":{\"id\":\"7af38550-71d7-4336-a217-e6d76786414a\",\"type\":\"Rect\"},\"hover_glyph\":null,\"nonselection_glyph\":null,\"selection_glyph\":null},\"id\":\"e67fa9aa-828b-49ef-8d64-0103f0fec4cc\",\"type\":\"GlyphRenderer\"},{\"attributes\":{\"fill_alpha\":{\"field\":\"fill_alpha\"},\"fill_color\":{\"field\":\"color\"},\"height\":{\"field\":\"height\",\"units\":\"data\"},\"line_color\":{\"field\":\"line_color\"},\"width\":{\"field\":\"width\",\"units\":\"data\"},\"x\":{\"field\":\"x\"},\"y\":{\"field\":\"y\"}},\"id\":\"e91f7d72-55c6-489e-a4ca-5766d20e5718\",\"type\":\"Rect\"},{\"attributes\":{\"fill_alpha\":{\"field\":\"fill_alpha\"},\"fill_color\":{\"field\":\"color\"},\"height\":{\"field\":\"height\",\"units\":\"data\"},\"line_color\":{\"field\":\"line_color\"},\"width\":{\"field\":\"width\",\"units\":\"data\"},\"x\":{\"field\":\"x\"},\"y\":{\"field\":\"y\"}},\"id\":\"9d1c007e-64fb-40e7-a039-e7c071623402\",\"type\":\"Rect\"},{\"attributes\":{\"data_source\":{\"id\":\"1a3deb78-fa1b-4077-bee6-d2416b382d31\",\"type\":\"ColumnDataSource\"},\"glyph\":{\"id\":\"173bb021-237f-436d-9ba8-3aa3f55079b9\",\"type\":\"Rect\"},\"hover_glyph\":null,\"nonselection_glyph\":null,\"selection_glyph\":null},\"id\":\"22d56d30-d9e3-4a17-839d-244a99b021a1\",\"type\":\"GlyphRenderer\"},{\"attributes\":{\"callback\":null,\"column_names\":[\"line_color\",\"line_alpha\",\"color\",\"fill_alpha\",\"height\",\"width\",\"y\",\"x\",\"label\"],\"data\":{\"chart_index\":[\"(-0.2, -0.1]\"],\"color\":[\"#5ab738\"],\"fill_alpha\":[0.6],\"height\":[95.0],\"label\":[\"(-0.2, -0.1]\"],\"line_alpha\":[1.0],\"line_color\":[\"black\"],\"width\":[0.10166313017110129],\"x\":[\"-0.15\"],\"y\":[47.5]}},\"id\":\"4f3f5463-c5b0-461f-a282-a4be34181c19\",\"type\":\"ColumnDataSource\"},{\"attributes\":{\"data_source\":{\"id\":\"7f9d283d-c819-43be-8218-3c3007f20ed1\",\"type\":\"ColumnDataSource\"},\"glyph\":{\"id\":\"b3cdb902-0532-4618-807e-b0d32b5adf81\",\"type\":\"Rect\"},\"hover_glyph\":null,\"nonselection_glyph\":null,\"selection_glyph\":null},\"id\":\"5fe2db00-8831-48e0-aabf-7857afca638c\",\"type\":\"GlyphRenderer\"},{\"attributes\":{\"callback\":null,\"column_names\":[\"line_color\",\"line_alpha\",\"color\",\"fill_alpha\",\"height\",\"width\",\"y\",\"x\",\"label\"],\"data\":{\"chart_index\":[\"(0.0, 0.1]\"],\"color\":[\"#5ab738\"],\"fill_alpha\":[0.6],\"height\":[80.0],\"label\":[\"(0.0, 0.1]\"],\"line_alpha\":[1.0],\"line_color\":[\"black\"],\"width\":[0.10166313017110129],\"x\":[\"0.05\"],\"y\":[40.0]}},\"id\":\"49af5b50-f758-48cb-b103-5a329fe9bb26\",\"type\":\"ColumnDataSource\"},{\"attributes\":{\"data_source\":{\"id\":\"ef8dcb64-8c7c-4ead-a416-ae7c9cd3bae6\",\"type\":\"ColumnDataSource\"},\"glyph\":{\"id\":\"dc4e8cee-5c5f-4db6-a9f8-6c71a21bee3e\",\"type\":\"Rect\"},\"hover_glyph\":null,\"nonselection_glyph\":null,\"selection_glyph\":null},\"id\":\"024c3695-7f17-4ce3-a521-2cb2287d9024\",\"type\":\"GlyphRenderer\"},{\"attributes\":{\"below\":[{\"id\":\"9cb74e71-b063-4906-8630-67aa7c651cb9\",\"type\":\"LinearAxis\"}],\"left\":[{\"id\":\"38dfc614-ce1c-48fa-9386-9ea86d55a7ff\",\"type\":\"LinearAxis\"}],\"renderers\":[{\"id\":\"e3224331-55cf-426e-931d-e68a14b278c6\",\"type\":\"BoxAnnotation\"},{\"id\":\"96298b7e-b978-43ad-abcd-54b37bd8b1c8\",\"type\":\"GlyphRenderer\"},{\"id\":\"e7a494ac-4bfc-4a9c-a178-e6ca7cb64d4d\",\"type\":\"GlyphRenderer\"},{\"id\":\"66740310-d62f-4daa-8169-cb61d1dfde74\",\"type\":\"GlyphRenderer\"},{\"id\":\"e858385d-5b82-4b19-b531-56cbc2579517\",\"type\":\"GlyphRenderer\"},{\"id\":\"f47bb8ea-000f-478b-8c2f-374f5211c195\",\"type\":\"GlyphRenderer\"},{\"id\":\"5fe2db00-8831-48e0-aabf-7857afca638c\",\"type\":\"GlyphRenderer\"},{\"id\":\"f70b307d-b1fc-46aa-9b63-e2ad316d52db\",\"type\":\"GlyphRenderer\"},{\"id\":\"04ca13e1-afd3-441f-a71d-6d81c8e6f893\",\"type\":\"GlyphRenderer\"},{\"id\":\"a8553ef8-7e49-4fb5-a7a4-64223d81c16e\",\"type\":\"GlyphRenderer\"},{\"id\":\"75818565-3747-40b6-94b7-08eacaf605e0\",\"type\":\"GlyphRenderer\"},{\"id\":\"99a094f8-540b-4aae-a1a2-98dfd8b70db2\",\"type\":\"GlyphRenderer\"},{\"id\":\"3c6184cd-7732-43ae-b485-8ddcd5479551\",\"type\":\"GlyphRenderer\"},{\"id\":\"ce64fa08-2c8b-489c-99c8-e4a25ba0685c\",\"type\":\"GlyphRenderer\"},{\"id\":\"8eb3cb6a-f20b-492d-be6b-08a36663679a\",\"type\":\"GlyphRenderer\"},{\"id\":\"1d0613dc-d184-4c77-9bc8-7a6177005a66\",\"type\":\"GlyphRenderer\"},{\"id\":\"8dc7198c-c62a-4a69-b849-e52c1f1e4aa7\",\"type\":\"GlyphRenderer\"},{\"id\":\"a6ea23d8-3de3-4e1a-9694-421a4fcb53ea\",\"type\":\"GlyphRenderer\"},{\"id\":\"67fe9329-4789-499b-85e3-18fb7c47f604\",\"type\":\"GlyphRenderer\"},{\"id\":\"2b8395ac-db37-40f1-bd68-c4aa875d025c\",\"type\":\"GlyphRenderer\"},{\"id\":\"88073983-d4c6-4f53-b3af-6bab45af9795\",\"type\":\"GlyphRenderer\"},{\"id\":\"8648441e-20fe-40a0-9d3e-88714bde8fcb\",\"type\":\"GlyphRenderer\"},{\"id\":\"b5c5bb41-a8f8-4542-b2a8-f6a76f993a04\",\"type\":\"GlyphRenderer\"},{\"id\":\"f26ec25d-b2c5-4bff-b35c-d7cd996a72fe\",\"type\":\"GlyphRenderer\"},{\"id\":\"9a4709dc-2821-4e66-b753-3a5451b03f02\",\"type\":\"GlyphRenderer\"},{\"id\":\"b7e259b8-5727-4a5a-a629-d370f186fd73\",\"type\":\"GlyphRenderer\"},{\"id\":\"c1ed68e8-dae1-4db2-bd63-bc97dcf1eb46\",\"type\":\"GlyphRenderer\"},{\"id\":\"024c3695-7f17-4ce3-a521-2cb2287d9024\",\"type\":\"GlyphRenderer\"},{\"id\":\"663621f4-01df-4bc9-aed6-ea40259f6e3b\",\"type\":\"GlyphRenderer\"},{\"id\":\"bd5c3d56-445a-41c9-b8c9-f65df1bbffa7\",\"type\":\"GlyphRenderer\"},{\"id\":\"c2450f3e-3e3e-48de-ae8a-afeffcc001f7\",\"type\":\"GlyphRenderer\"},{\"id\":\"62252579-ad0e-4f10-8847-d81a4b33d746\",\"type\":\"GlyphRenderer\"},{\"id\":\"60da6360-36b1-4ec1-a47a-1951c80bda6c\",\"type\":\"GlyphRenderer\"},{\"id\":\"d317de9a-4fae-44ad-aa82-6477b83281e4\",\"type\":\"GlyphRenderer\"},{\"id\":\"1cf002e9-21ad-4553-a50d-63ee4b64195c\",\"type\":\"GlyphRenderer\"},{\"id\":\"a805ffde-0f28-42d6-ae0b-6c8f6443b624\",\"type\":\"GlyphRenderer\"},{\"id\":\"e0405a29-640d-4850-aeac-58b340d0fbbe\",\"type\":\"GlyphRenderer\"},{\"id\":\"8ea6d2a3-a463-4fb8-98a2-fe847fe3e113\",\"type\":\"GlyphRenderer\"},{\"id\":\"bf8d63cb-02c9-439a-834b-b3f90aac6edd\",\"type\":\"GlyphRenderer\"},{\"id\":\"dcba0a04-2981-46b6-8e78-d7e167024629\",\"type\":\"GlyphRenderer\"},{\"id\":\"73930cd3-4738-41d8-9820-44f548246d43\",\"type\":\"GlyphRenderer\"},{\"id\":\"1de3a870-6279-4e9e-83f0-b0243bae2871\",\"type\":\"GlyphRenderer\"},{\"id\":\"8522eac9-2127-4bc1-9e9d-c323b965db52\",\"type\":\"GlyphRenderer\"},{\"id\":\"67682a08-e2e7-4641-926e-48eba1a52d81\",\"type\":\"GlyphRenderer\"},{\"id\":\"58241372-eec7-453c-91cb-dbe870650c01\",\"type\":\"GlyphRenderer\"},{\"id\":\"ee572d57-1684-4f05-aaf8-c47ab229e78b\",\"type\":\"GlyphRenderer\"},{\"id\":\"beefda06-81de-4020-b042-25097b8598fc\",\"type\":\"GlyphRenderer\"},{\"id\":\"07386b14-8648-4143-819c-72208b046e09\",\"type\":\"GlyphRenderer\"},{\"id\":\"e67fa9aa-828b-49ef-8d64-0103f0fec4cc\",\"type\":\"GlyphRenderer\"},{\"id\":\"12dc732a-09b0-4772-aac5-4a8c5e805fea\",\"type\":\"GlyphRenderer\"},{\"id\":\"0a9d6c96-3727-4237-8036-c507f366b026\",\"type\":\"GlyphRenderer\"},{\"id\":\"392c721e-839d-45be-8643-3750d5e44dc2\",\"type\":\"GlyphRenderer\"},{\"id\":\"89703ea7-2850-4d5a-a847-ba3de7c97b19\",\"type\":\"GlyphRenderer\"},{\"id\":\"73c2b6da-630e-43b7-927d-3059a2d47442\",\"type\":\"GlyphRenderer\"},{\"id\":\"bab61ae5-1ae4-4e2c-a557-5dd97b2725ae\",\"type\":\"GlyphRenderer\"},{\"id\":\"298d8ddb-052f-43f6-8a99-4bbccf05cdb0\",\"type\":\"GlyphRenderer\"},{\"id\":\"c4d3e51b-e962-43b5-9834-b443babbaa22\",\"type\":\"GlyphRenderer\"},{\"id\":\"62a11fcc-ccdd-48b6-9d00-18400b90c595\",\"type\":\"GlyphRenderer\"},{\"id\":\"2db2cb4a-0ac0-4901-b4de-819838d814fb\",\"type\":\"GlyphRenderer\"},{\"id\":\"8f6afcc7-e4d5-4238-a9d3-7b19b2f5977a\",\"type\":\"GlyphRenderer\"},{\"id\":\"22d56d30-d9e3-4a17-839d-244a99b021a1\",\"type\":\"GlyphRenderer\"},{\"id\":\"59d6bad5-3175-44cd-9e8a-f4b6b3a7e721\",\"type\":\"Legend\"},{\"id\":\"9cb74e71-b063-4906-8630-67aa7c651cb9\",\"type\":\"LinearAxis\"},{\"id\":\"38dfc614-ce1c-48fa-9386-9ea86d55a7ff\",\"type\":\"LinearAxis\"},{\"id\":\"5378aecc-17f3-4db6-8820-2128c51bdbf8\",\"type\":\"Grid\"}],\"title\":{\"id\":\"18c8cc59-15b4-4374-8d09-003843578d81\",\"type\":\"Title\"},\"tool_events\":{\"id\":\"cf459c63-18a6-4bee-89e8-47963be3480b\",\"type\":\"ToolEvents\"},\"toolbar\":{\"id\":\"f1bfbf5c-3bb0-4478-a85d-735cf01745f5\",\"type\":\"Toolbar\"},\"x_mapper_type\":\"auto\",\"x_range\":{\"id\":\"9c91c251-8fd9-41bb-b3b4-45251ab50401\",\"type\":\"Range1d\"},\"y_mapper_type\":\"auto\",\"y_range\":{\"id\":\"438a2ecf-c1c2-4f79-88d4-d238da6f0b6f\",\"type\":\"Range1d\"}},\"id\":\"ef7fe3e3-03a9-466d-b456-b01378486f13\",\"subtype\":\"Chart\",\"type\":\"Plot\"},{\"attributes\":{},\"id\":\"cf459c63-18a6-4bee-89e8-47963be3480b\",\"type\":\"ToolEvents\"},{\"attributes\":{\"fill_alpha\":{\"field\":\"fill_alpha\"},\"fill_color\":{\"field\":\"color\"},\"height\":{\"field\":\"height\",\"units\":\"data\"},\"line_color\":{\"field\":\"line_color\"},\"width\":{\"field\":\"width\",\"units\":\"data\"},\"x\":{\"field\":\"x\"},\"y\":{\"field\":\"y\"}},\"id\":\"55d1b816-3e61-4924-95ec-dc0c6280c8c1\",\"type\":\"Rect\"},{\"attributes\":{\"data_source\":{\"id\":\"097978f7-8e17-4dc7-843b-8028382b81a4\",\"type\":\"ColumnDataSource\"},\"glyph\":{\"id\":\"2b2b8c9e-26ba-40ea-93fa-df7d479cf03b\",\"type\":\"Rect\"},\"hover_glyph\":null,\"nonselection_glyph\":null,\"selection_glyph\":null},\"id\":\"e7a494ac-4bfc-4a9c-a178-e6ca7cb64d4d\",\"type\":\"GlyphRenderer\"},{\"attributes\":{\"data_source\":{\"id\":\"e6e2741d-e012-4b7a-8482-dc510f252349\",\"type\":\"ColumnDataSource\"},\"glyph\":{\"id\":\"ffa52eb1-0138-4868-94f0-e095e7049b0a\",\"type\":\"Rect\"},\"hover_glyph\":null,\"nonselection_glyph\":null,\"selection_glyph\":null},\"id\":\"1d0613dc-d184-4c77-9bc8-7a6177005a66\",\"type\":\"GlyphRenderer\"},{\"attributes\":{\"fill_alpha\":{\"field\":\"fill_alpha\"},\"fill_color\":{\"field\":\"color\"},\"height\":{\"field\":\"height\",\"units\":\"data\"},\"line_color\":{\"field\":\"line_color\"},\"width\":{\"field\":\"width\",\"units\":\"data\"},\"x\":{\"field\":\"x\"},\"y\":{\"field\":\"y\"}},\"id\":\"2f91b013-5a32-4348-a378-8742b726fb57\",\"type\":\"Rect\"},{\"attributes\":{\"fill_alpha\":{\"field\":\"fill_alpha\"},\"fill_color\":{\"field\":\"color\"},\"height\":{\"field\":\"height\",\"units\":\"data\"},\"line_color\":{\"field\":\"line_color\"},\"width\":{\"field\":\"width\",\"units\":\"data\"},\"x\":{\"field\":\"x\"},\"y\":{\"field\":\"y\"}},\"id\":\"1f7c553b-aff5-42f6-a18b-ef8c2e88f744\",\"type\":\"Rect\"},{\"attributes\":{\"data_source\":{\"id\":\"f978c2ad-e1cd-4a7d-a810-db5c0e2beb3d\",\"type\":\"ColumnDataSource\"},\"glyph\":{\"id\":\"23aa7660-58f3-4e8f-866f-7a4b30ab8d1b\",\"type\":\"Rect\"},\"hover_glyph\":null,\"nonselection_glyph\":null,\"selection_glyph\":null},\"id\":\"c2450f3e-3e3e-48de-ae8a-afeffcc001f7\",\"type\":\"GlyphRenderer\"},{\"attributes\":{\"data_source\":{\"id\":\"e97732db-9571-4fea-b70c-387bf2c95935\",\"type\":\"ColumnDataSource\"},\"glyph\":{\"id\":\"49447163-6e88-4f90-a011-cc8ba8754888\",\"type\":\"Rect\"},\"hover_glyph\":null,\"nonselection_glyph\":null,\"selection_glyph\":null},\"id\":\"bd5c3d56-445a-41c9-b8c9-f65df1bbffa7\",\"type\":\"GlyphRenderer\"},{\"attributes\":{\"fill_alpha\":{\"field\":\"fill_alpha\"},\"fill_color\":{\"field\":\"color\"},\"height\":{\"field\":\"height\",\"units\":\"data\"},\"line_color\":{\"field\":\"line_color\"},\"width\":{\"field\":\"width\",\"units\":\"data\"},\"x\":{\"field\":\"x\"},\"y\":{\"field\":\"y\"}},\"id\":\"ffa52eb1-0138-4868-94f0-e095e7049b0a\",\"type\":\"Rect\"},{\"attributes\":{\"data_source\":{\"id\":\"50bb27a4-9012-4cb8-8672-0633e500b134\",\"type\":\"ColumnDataSource\"},\"glyph\":{\"id\":\"47b04bfc-68df-4417-b1b0-6c0d4590dc66\",\"type\":\"Rect\"},\"hover_glyph\":null,\"nonselection_glyph\":null,\"selection_glyph\":null},\"id\":\"12dc732a-09b0-4772-aac5-4a8c5e805fea\",\"type\":\"GlyphRenderer\"},{\"attributes\":{\"data_source\":{\"id\":\"eaac1a5e-32ea-4009-9368-f49580167cdb\",\"type\":\"ColumnDataSource\"},\"glyph\":{\"id\":\"96533cd4-a707-4991-a50d-2517eb0fa025\",\"type\":\"Rect\"},\"hover_glyph\":null,\"nonselection_glyph\":null,\"selection_glyph\":null},\"id\":\"88073983-d4c6-4f53-b3af-6bab45af9795\",\"type\":\"GlyphRenderer\"},{\"attributes\":{\"callback\":null,\"column_names\":[\"line_color\",\"line_alpha\",\"color\",\"fill_alpha\",\"height\",\"width\",\"y\",\"x\",\"label\"],\"data\":{\"chart_index\":[\"(-0.9, -0.8]\"],\"color\":[\"#5ab738\"],\"fill_alpha\":[0.6],\"height\":[17.0],\"label\":[\"(-0.9, -0.8]\"],\"line_alpha\":[1.0],\"line_color\":[\"black\"],\"width\":[0.10166313017110118],\"x\":[\"-0.85\"],\"y\":[8.5]}},\"id\":\"dc4885db-cbe7-4465-8f45-a0d73c09bedf\",\"type\":\"ColumnDataSource\"},{\"attributes\":{\"callback\":null,\"column_names\":[\"line_color\",\"line_alpha\",\"color\",\"fill_alpha\",\"height\",\"width\",\"y\",\"x\",\"label\"],\"data\":{\"chart_index\":[\"(-0.6, -0.5]\"],\"color\":[\"#5ab738\"],\"fill_alpha\":[0.6],\"height\":[38.0],\"label\":[\"(-0.6, -0.5]\"],\"line_alpha\":[1.0],\"line_color\":[\"black\"],\"width\":[0.10166313017110118],\"x\":[\"-0.55\"],\"y\":[19.0]}},\"id\":\"46a7e87b-748d-4e11-bba2-a8e0e47de785\",\"type\":\"ColumnDataSource\"},{\"attributes\":{\"callback\":null,\"end\":137.5},\"id\":\"438a2ecf-c1c2-4f79-88d4-d238da6f0b6f\",\"type\":\"Range1d\"},{\"attributes\":{\"fill_alpha\":{\"field\":\"fill_alpha\"},\"fill_color\":{\"field\":\"color\"},\"height\":{\"field\":\"height\",\"units\":\"data\"},\"line_color\":{\"field\":\"line_color\"},\"width\":{\"field\":\"width\",\"units\":\"data\"},\"x\":{\"field\":\"x\"},\"y\":{\"field\":\"y\"}},\"id\":\"dddb19ae-4724-4b2b-995a-c0772768962d\",\"type\":\"Rect\"},{\"attributes\":{\"fill_alpha\":{\"field\":\"fill_alpha\"},\"fill_color\":{\"field\":\"color\"},\"height\":{\"field\":\"height\",\"units\":\"data\"},\"line_color\":{\"field\":\"line_color\"},\"width\":{\"field\":\"width\",\"units\":\"data\"},\"x\":{\"field\":\"x\"},\"y\":{\"field\":\"y\"}},\"id\":\"12bb9761-f449-4590-8ec0-1ddf7972a2fd\",\"type\":\"Rect\"},{\"attributes\":{\"callback\":null,\"column_names\":[\"line_color\",\"line_alpha\",\"color\",\"fill_alpha\",\"height\",\"width\",\"y\",\"x\",\"label\"],\"data\":{\"chart_index\":[\"(-0.7, -0.6]\"],\"color\":[\"#5ab738\"],\"fill_alpha\":[0.6],\"height\":[33.0],\"label\":[\"(-0.7, -0.6]\"],\"line_alpha\":[1.0],\"line_color\":[\"black\"],\"width\":[0.10166313017110118],\"x\":[\"-0.65\"],\"y\":[16.5]}},\"id\":\"1637bddf-7933-45e2-b790-a42acf22ab54\",\"type\":\"ColumnDataSource\"},{\"attributes\":{\"fill_alpha\":{\"field\":\"fill_alpha\"},\"fill_color\":{\"field\":\"color\"},\"height\":{\"field\":\"height\",\"units\":\"data\"},\"line_color\":{\"field\":\"line_color\"},\"width\":{\"field\":\"width\",\"units\":\"data\"},\"x\":{\"field\":\"x\"},\"y\":{\"field\":\"y\"}},\"id\":\"7570e3c0-5f3d-4d47-b82b-ffe7fdc2412b\",\"type\":\"Rect\"},{\"attributes\":{\"callback\":null,\"column_names\":[\"line_color\",\"line_alpha\",\"color\",\"fill_alpha\",\"height\",\"width\",\"y\",\"x\",\"label\"],\"data\":{\"chart_index\":[\"(0.6, 0.7]\"],\"color\":[\"#5ab738\"],\"fill_alpha\":[0.6],\"height\":[30.0],\"label\":[\"(0.6, 0.7]\"],\"line_alpha\":[1.0],\"line_color\":[\"black\"],\"width\":[0.10166313017110129],\"x\":[\"0.65\"],\"y\":[15.0]}},\"id\":\"9ead619d-c0a9-4d8f-b2d1-e633aeb7899b\",\"type\":\"ColumnDataSource\"},{\"attributes\":{\"fill_alpha\":{\"field\":\"fill_alpha\"},\"fill_color\":{\"field\":\"color\"},\"height\":{\"field\":\"height\",\"units\":\"data\"},\"line_color\":{\"field\":\"line_color\"},\"width\":{\"field\":\"width\",\"units\":\"data\"},\"x\":{\"field\":\"x\"},\"y\":{\"field\":\"y\"}},\"id\":\"dc4e8cee-5c5f-4db6-a9f8-6c71a21bee3e\",\"type\":\"Rect\"},{\"attributes\":{\"data_source\":{\"id\":\"9ead619d-c0a9-4d8f-b2d1-e633aeb7899b\",\"type\":\"ColumnDataSource\"},\"glyph\":{\"id\":\"1f7c553b-aff5-42f6-a18b-ef8c2e88f744\",\"type\":\"Rect\"},\"hover_glyph\":null,\"nonselection_glyph\":null,\"selection_glyph\":null},\"id\":\"b5c5bb41-a8f8-4542-b2a8-f6a76f993a04\",\"type\":\"GlyphRenderer\"},{\"attributes\":{},\"id\":\"2f27c7ea-c6ef-4050-a99f-6e1908789dc9\",\"type\":\"BasicTickFormatter\"},{\"attributes\":{\"fill_alpha\":{\"field\":\"fill_alpha\"},\"fill_color\":{\"field\":\"color\"},\"height\":{\"field\":\"height\",\"units\":\"data\"},\"line_color\":{\"field\":\"line_color\"},\"width\":{\"field\":\"width\",\"units\":\"data\"},\"x\":{\"field\":\"x\"},\"y\":{\"field\":\"y\"}},\"id\":\"9b034a21-0a52-497e-99a5-6eda093598b0\",\"type\":\"Rect\"},{\"attributes\":{},\"id\":\"4bbb3101-22dc-4da4-bdab-4c1b8b4df5db\",\"type\":\"BasicTickFormatter\"},{\"attributes\":{\"callback\":null,\"column_names\":[\"line_color\",\"line_alpha\",\"color\",\"fill_alpha\",\"height\",\"width\",\"y\",\"x\",\"label\"],\"data\":{\"chart_index\":[\"(3.2, 3.3]\"],\"color\":[\"#f22c40\"],\"fill_alpha\":[0.6],\"height\":[2.0],\"label\":[\"(3.2, 3.3]\"],\"line_alpha\":[1.0],\"line_color\":[\"black\"],\"width\":[0.13015985795467255],\"x\":[\"3.25\"],\"y\":[1.0]}},\"id\":\"08d41ca1-d80a-4e34-8c34-50119fdf5bb9\",\"type\":\"ColumnDataSource\"},{\"attributes\":{\"callback\":null,\"column_names\":[\"line_color\",\"line_alpha\",\"color\",\"fill_alpha\",\"height\",\"width\",\"y\",\"x\",\"label\"],\"data\":{\"chart_index\":[\"(-0.4, -0.3]\"],\"color\":[\"#5ab738\"],\"fill_alpha\":[0.6],\"height\":[71.0],\"label\":[\"(-0.4, -0.3]\"],\"line_alpha\":[1.0],\"line_color\":[\"black\"],\"width\":[0.10166313017110129],\"x\":[\"-0.35\"],\"y\":[35.5]}},\"id\":\"9c08dba6-1a3d-4cef-a70f-18864d1d30f3\",\"type\":\"ColumnDataSource\"},{\"attributes\":{\"data_source\":{\"id\":\"427b31a8-4282-4dce-8286-6fc57dddea40\",\"type\":\"ColumnDataSource\"},\"glyph\":{\"id\":\"30471ca1-5de4-4dfb-98c9-2813e47f16ea\",\"type\":\"Rect\"},\"hover_glyph\":null,\"nonselection_glyph\":null,\"selection_glyph\":null},\"id\":\"392c721e-839d-45be-8643-3750d5e44dc2\",\"type\":\"GlyphRenderer\"},{\"attributes\":{\"active_drag\":\"auto\",\"active_scroll\":\"auto\",\"active_tap\":\"auto\",\"tools\":[{\"id\":\"6530869b-ea07-4bea-9b3e-c4c9e3994afa\",\"type\":\"PanTool\"},{\"id\":\"eeb32fc8-eb62-48c6-88bf-4e60dc8498cd\",\"type\":\"WheelZoomTool\"},{\"id\":\"19d46d54-dcbc-4a2e-bcfc-aa2304a7bc32\",\"type\":\"BoxZoomTool\"},{\"id\":\"4e83be35-2083-4846-8e90-3efe176001dd\",\"type\":\"SaveTool\"},{\"id\":\"421dfc0f-6382-4bad-822f-d2bf85ddd72b\",\"type\":\"ResetTool\"},{\"id\":\"d38b4509-db14-4fd6-b920-f1a8127fd991\",\"type\":\"HelpTool\"}]},\"id\":\"f1bfbf5c-3bb0-4478-a85d-735cf01745f5\",\"type\":\"Toolbar\"},{\"attributes\":{\"fill_alpha\":{\"field\":\"fill_alpha\"},\"fill_color\":{\"field\":\"color\"},\"height\":{\"field\":\"height\",\"units\":\"data\"},\"line_color\":{\"field\":\"line_color\"},\"width\":{\"field\":\"width\",\"units\":\"data\"},\"x\":{\"field\":\"x\"},\"y\":{\"field\":\"y\"}},\"id\":\"dfe5193f-d35b-4307-89a9-cca44823fdf2\",\"type\":\"Rect\"},{\"attributes\":{\"data_source\":{\"id\":\"2fb60dd3-b702-4988-b725-f462170c8078\",\"type\":\"ColumnDataSource\"},\"glyph\":{\"id\":\"59de50db-f781-40f8-907f-94036461ad0c\",\"type\":\"Rect\"},\"hover_glyph\":null,\"nonselection_glyph\":null,\"selection_glyph\":null},\"id\":\"b7e259b8-5727-4a5a-a629-d370f186fd73\",\"type\":\"GlyphRenderer\"},{\"attributes\":{\"callback\":null,\"column_names\":[\"line_color\",\"line_alpha\",\"color\",\"fill_alpha\",\"height\",\"width\",\"y\",\"x\",\"label\"],\"data\":{\"chart_index\":[\"(1.1, 1.2]\"],\"color\":[\"#5ab738\"],\"fill_alpha\":[0.6],\"height\":[5.0],\"label\":[\"(1.1, 1.2]\"],\"line_alpha\":[1.0],\"line_color\":[\"black\"],\"width\":[0.10166313017110129],\"x\":[\"1.15\"],\"y\":[2.5]}},\"id\":\"ef8dcb64-8c7c-4ead-a416-ae7c9cd3bae6\",\"type\":\"ColumnDataSource\"},{\"attributes\":{\"data_source\":{\"id\":\"2e4e9337-75e6-49b1-92fd-c5a280af3598\",\"type\":\"ColumnDataSource\"},\"glyph\":{\"id\":\"4aa58cab-92c4-4c51-b2f3-46fa05281ed2\",\"type\":\"Rect\"},\"hover_glyph\":null,\"nonselection_glyph\":null,\"selection_glyph\":null},\"id\":\"c1ed68e8-dae1-4db2-bd63-bc97dcf1eb46\",\"type\":\"GlyphRenderer\"},{\"attributes\":{\"fill_alpha\":{\"field\":\"fill_alpha\"},\"fill_color\":{\"field\":\"color\"},\"height\":{\"field\":\"height\",\"units\":\"data\"},\"line_color\":{\"field\":\"line_color\"},\"width\":{\"field\":\"width\",\"units\":\"data\"},\"x\":{\"field\":\"x\"},\"y\":{\"field\":\"y\"}},\"id\":\"d5e7bdf0-219d-4058-8190-6ac58d82f795\",\"type\":\"Rect\"},{\"attributes\":{\"fill_alpha\":{\"field\":\"fill_alpha\"},\"fill_color\":{\"field\":\"color\"},\"height\":{\"field\":\"height\",\"units\":\"data\"},\"line_color\":{\"field\":\"line_color\"},\"width\":{\"field\":\"width\",\"units\":\"data\"},\"x\":{\"field\":\"x\"},\"y\":{\"field\":\"y\"}},\"id\":\"7af38550-71d7-4336-a217-e6d76786414a\",\"type\":\"Rect\"},{\"attributes\":{\"callback\":null,\"column_names\":[\"line_color\",\"line_alpha\",\"color\",\"fill_alpha\",\"height\",\"width\",\"y\",\"x\",\"label\"],\"data\":{\"chart_index\":[\"(0.3, 0.5]\"],\"color\":[\"#f22c40\"],\"fill_alpha\":[0.6],\"height\":[41.0],\"label\":[\"(0.3, 0.5]\"],\"line_alpha\":[1.0],\"line_color\":[\"black\"],\"width\":[0.1301598579546725],\"x\":[\"0.4\"],\"y\":[20.5]}},\"id\":\"070ad0c4-86cd-43e5-a84f-aae743411c0f\",\"type\":\"ColumnDataSource\"},{\"attributes\":{\"data_source\":{\"id\":\"9c08dba6-1a3d-4cef-a70f-18864d1d30f3\",\"type\":\"ColumnDataSource\"},\"glyph\":{\"id\":\"b476e920-64eb-46c0-9d97-c31f71d13018\",\"type\":\"Rect\"},\"hover_glyph\":null,\"nonselection_glyph\":null,\"selection_glyph\":null},\"id\":\"3c6184cd-7732-43ae-b485-8ddcd5479551\",\"type\":\"GlyphRenderer\"},{\"attributes\":{\"fill_alpha\":{\"field\":\"fill_alpha\"},\"fill_color\":{\"field\":\"color\"},\"height\":{\"field\":\"height\",\"units\":\"data\"},\"line_color\":{\"field\":\"line_color\"},\"width\":{\"field\":\"width\",\"units\":\"data\"},\"x\":{\"field\":\"x\"},\"y\":{\"field\":\"y\"}},\"id\":\"d42e2014-0704-4eed-9ee3-dfe0b013ec29\",\"type\":\"Rect\"},{\"attributes\":{\"data_source\":{\"id\":\"49af5b50-f758-48cb-b103-5a329fe9bb26\",\"type\":\"ColumnDataSource\"},\"glyph\":{\"id\":\"e91f7d72-55c6-489e-a4ca-5766d20e5718\",\"type\":\"Rect\"},\"hover_glyph\":null,\"nonselection_glyph\":null,\"selection_glyph\":null},\"id\":\"8dc7198c-c62a-4a69-b849-e52c1f1e4aa7\",\"type\":\"GlyphRenderer\"},{\"attributes\":{\"axis_label\":\"Count( Value )\",\"formatter\":{\"id\":\"4bbb3101-22dc-4da4-bdab-4c1b8b4df5db\",\"type\":\"BasicTickFormatter\"},\"plot\":{\"id\":\"ef7fe3e3-03a9-466d-b456-b01378486f13\",\"subtype\":\"Chart\",\"type\":\"Plot\"},\"ticker\":{\"id\":\"d1fa94e8-1cb4-4522-b022-6fc3cfb45205\",\"type\":\"BasicTicker\"}},\"id\":\"38dfc614-ce1c-48fa-9386-9ea86d55a7ff\",\"type\":\"LinearAxis\"},{\"attributes\":{\"callback\":null,\"column_names\":[\"line_color\",\"line_alpha\",\"color\",\"fill_alpha\",\"height\",\"width\",\"y\",\"x\",\"label\"],\"data\":{\"chart_index\":[\"(-0.5, -0.4]\"],\"color\":[\"#5ab738\"],\"fill_alpha\":[0.6],\"height\":[53.0],\"label\":[\"(-0.5, -0.4]\"],\"line_alpha\":[1.0],\"line_color\":[\"black\"],\"width\":[0.10166313017110129],\"x\":[\"-0.45\"],\"y\":[26.5]}},\"id\":\"369ae571-4f73-486d-98b7-62c5bb1043f5\",\"type\":\"ColumnDataSource\"},{\"attributes\":{\"data_source\":{\"id\":\"a6abf371-4a0e-43f6-8f87-8c9708fc128d\",\"type\":\"ColumnDataSource\"},\"glyph\":{\"id\":\"a09a86a4-15e8-4f4b-8a78-1501b458f175\",\"type\":\"Rect\"},\"hover_glyph\":null,\"nonselection_glyph\":null,\"selection_glyph\":null},\"id\":\"8ea6d2a3-a463-4fb8-98a2-fe847fe3e113\",\"type\":\"GlyphRenderer\"},{\"attributes\":{\"data_source\":{\"id\":\"8de2e296-3ee4-405b-8a8b-b29643b0c84c\",\"type\":\"ColumnDataSource\"},\"glyph\":{\"id\":\"dddb19ae-4724-4b2b-995a-c0772768962d\",\"type\":\"Rect\"},\"hover_glyph\":null,\"nonselection_glyph\":null,\"selection_glyph\":null},\"id\":\"298d8ddb-052f-43f6-8a99-4bbccf05cdb0\",\"type\":\"GlyphRenderer\"},{\"attributes\":{\"callback\":null,\"column_names\":[\"line_color\",\"line_alpha\",\"color\",\"fill_alpha\",\"height\",\"width\",\"y\",\"x\",\"label\"],\"data\":{\"chart_index\":[\"(4.0, 4.1]\"],\"color\":[\"#f22c40\"],\"fill_alpha\":[0.6],\"height\":[2.0],\"label\":[\"(4.0, 4.1]\"],\"line_alpha\":[1.0],\"line_color\":[\"black\"],\"width\":[0.13015985795467255],\"x\":[\"4.05\"],\"y\":[1.0]}},\"id\":\"1a3deb78-fa1b-4077-bee6-d2416b382d31\",\"type\":\"ColumnDataSource\"},{\"attributes\":{\"callback\":null,\"column_names\":[\"line_color\",\"line_alpha\",\"color\",\"fill_alpha\",\"height\",\"width\",\"y\",\"x\",\"label\"],\"data\":{\"chart_index\":[\"(1.6, 1.8]\"],\"color\":[\"#f22c40\"],\"fill_alpha\":[0.6],\"height\":[34.0],\"label\":[\"(1.6, 1.8]\"],\"line_alpha\":[1.0],\"line_color\":[\"black\"],\"width\":[0.13015985795467255],\"x\":[\"1.7\"],\"y\":[17.0]}},\"id\":\"e7626363-d9a5-4c3f-9191-a8fa8272c51f\",\"type\":\"ColumnDataSource\"}],\"root_ids\":[\"ef7fe3e3-03a9-466d-b456-b01378486f13\"]},\"title\":\"Bokeh Application\",\"version\":\"0.12.1\"}};\n",
       "            var render_items = [{\"docid\":\"1369a9ec-02df-4a68-80c2-d131d1d662fd\",\"elementid\":\"70b6ccd0-6963-4f7c-868c-ec23ba7051a7\",\"modelid\":\"ef7fe3e3-03a9-466d-b456-b01378486f13\",\"notebook_comms_target\":\"2debb482-520d-4904-9b89-58fe81cfbede\"}];\n",
       "            \n",
       "            Bokeh.embed.embed_items(docs_json, render_items);\n",
       "        });\n",
       "      },\n",
       "      function(Bokeh) {\n",
       "      }\n",
       "    ];\n",
       "  \n",
       "    function run_inline_js() {\n",
       "      for (var i = 0; i < inline_js.length; i++) {\n",
       "        inline_js[i](window.Bokeh);\n",
       "      }\n",
       "    }\n",
       "  \n",
       "    if (window._bokeh_is_loading === 0) {\n",
       "      console.log(\"Bokeh: BokehJS loaded, going straight to plotting\");\n",
       "      run_inline_js();\n",
       "    } else {\n",
       "      load_libs(js_urls, function() {\n",
       "        console.log(\"Bokeh: BokehJS plotting callback run at\", now());\n",
       "        run_inline_js();\n",
       "      });\n",
       "    }\n",
       "  }(this));\n",
       "</script>"
      ]
     },
     "metadata": {},
     "output_type": "display_data"
    },
    {
     "data": {
      "text/html": [
       "<p><code>&lt;Bokeh Notebook handle for <strong>In[28]</strong>&gt;</code></p>"
      ],
      "text/plain": [
       "<bokeh.io._CommsHandle at 0x1139c3a50>"
      ]
     },
     "execution_count": 28,
     "metadata": {},
     "output_type": "execute_result"
    }
   ],
   "source": [
    "# EXERCISE: generate histograms for each \"type\" of distribution, and add a legend to the top left.\n",
    "hist = Histogram(df, values='value', bins=30, color='type', legend='top_right')\n",
    "show(hist)"
   ]
  },
  {
   "cell_type": "markdown",
   "metadata": {},
   "source": [
    "# Box Plot\n",
    "\n",
    "A high-level box plot is provided by [`bokeh.charts.BoxPlot`]()\n",
    "\n",
    "For this section we will use the \"iris\" data set again. "
   ]
  },
  {
   "cell_type": "code",
   "execution_count": 14,
   "metadata": {
    "collapsed": true
   },
   "outputs": [],
   "source": [
    "from bokeh.charts import BoxPlot"
   ]
  },
  {
   "cell_type": "markdown",
   "metadata": {},
   "source": [
    "A basic box plot takes the data as the first value, as well as column names for:\n",
    "\n",
    "* `label` - a column to group to label the x-axis\n",
    "* `values` - a column to aggregate values for each group\n",
    "\n",
    "A simple example that also specifies some other properties such as `title` and `legend` is shown below:"
   ]
  },
  {
   "cell_type": "code",
   "execution_count": 15,
   "metadata": {
    "collapsed": false
   },
   "outputs": [
    {
     "data": {
      "text/html": [
       "\n",
       "\n",
       "    <div class=\"bk-root\">\n",
       "        <div class=\"plotdiv\" id=\"90f53963-74e8-40f9-b903-4a4e9be767cc\"></div>\n",
       "    </div>\n",
       "<script type=\"text/javascript\">\n",
       "  \n",
       "  (function(global) {\n",
       "    function now() {\n",
       "      return new Date();\n",
       "    }\n",
       "  \n",
       "    var force = \"\";\n",
       "  \n",
       "    if (typeof (window._bokeh_onload_callbacks) === \"undefined\" || force !== \"\") {\n",
       "      window._bokeh_onload_callbacks = [];\n",
       "      window._bokeh_is_loading = undefined;\n",
       "    }\n",
       "  \n",
       "    function run_callbacks() {\n",
       "      window._bokeh_onload_callbacks.forEach(function(callback) { callback() });\n",
       "      delete window._bokeh_onload_callbacks\n",
       "      console.info(\"Bokeh: all callbacks have finished\");\n",
       "    }\n",
       "  \n",
       "    function load_libs(js_urls, callback) {\n",
       "      window._bokeh_onload_callbacks.push(callback);\n",
       "      if (window._bokeh_is_loading > 0) {\n",
       "        console.log(\"Bokeh: BokehJS is being loaded, scheduling callback at\", now());\n",
       "        return null;\n",
       "      }\n",
       "      if (js_urls == null || js_urls.length === 0) {\n",
       "        run_callbacks();\n",
       "        return null;\n",
       "      }\n",
       "      console.log(\"Bokeh: BokehJS not loaded, scheduling load and callback at\", now());\n",
       "      window._bokeh_is_loading = js_urls.length;\n",
       "      for (var i = 0; i < js_urls.length; i++) {\n",
       "        var url = js_urls[i];\n",
       "        var s = document.createElement('script');\n",
       "        s.src = url;\n",
       "        s.async = false;\n",
       "        s.onreadystatechange = s.onload = function() {\n",
       "          window._bokeh_is_loading--;\n",
       "          if (window._bokeh_is_loading === 0) {\n",
       "            console.log(\"Bokeh: all BokehJS libraries loaded\");\n",
       "            run_callbacks()\n",
       "          }\n",
       "        };\n",
       "        s.onerror = function() {\n",
       "          console.warn(\"failed to load library \" + url);\n",
       "        };\n",
       "        console.log(\"Bokeh: injecting script tag for BokehJS library: \", url);\n",
       "        document.getElementsByTagName(\"head\")[0].appendChild(s);\n",
       "      }\n",
       "    };var element = document.getElementById(\"90f53963-74e8-40f9-b903-4a4e9be767cc\");\n",
       "    if (element == null) {\n",
       "      console.log(\"Bokeh: ERROR: autoload.js configured with elementid '90f53963-74e8-40f9-b903-4a4e9be767cc' but no matching script tag was found. \")\n",
       "      return false;\n",
       "    }\n",
       "  \n",
       "    var js_urls = [];\n",
       "  \n",
       "    var inline_js = [\n",
       "      function(Bokeh) {\n",
       "        Bokeh.$(function() {\n",
       "            var docs_json = {\"21d3b4e4-aba6-4319-b760-1076ab39050f\":{\"roots\":{\"references\":[{\"attributes\":{\"fill_alpha\":{\"field\":\"fill_alpha\"},\"fill_color\":{\"field\":\"color\"},\"height\":{\"field\":\"height\",\"units\":\"data\"},\"line_color\":{\"field\":\"line_color\"},\"width\":{\"field\":\"width\",\"units\":\"data\"},\"x\":{\"field\":\"x\"},\"y\":{\"field\":\"y\"}},\"id\":\"a4e92cf2-870d-4af4-9666-749ecf960438\",\"type\":\"Rect\"},{\"attributes\":{\"data_source\":{\"id\":\"932fa542-92d4-4755-a147-38567befd70a\",\"type\":\"ColumnDataSource\"},\"glyph\":{\"id\":\"60554486-c70d-4d82-8c38-be8ed59a0b43\",\"type\":\"Segment\"},\"hover_glyph\":null,\"nonselection_glyph\":null,\"selection_glyph\":null},\"id\":\"0d8a663a-cd1d-4fff-a586-49dc3352b00d\",\"type\":\"GlyphRenderer\"},{\"attributes\":{},\"id\":\"46f23bf0-a9f7-41bc-b976-8c4c9bbc1a24\",\"type\":\"CategoricalTicker\"},{\"attributes\":{\"fill_alpha\":{\"field\":\"fill_alpha\"},\"fill_color\":{\"field\":\"color\"},\"height\":{\"field\":\"height\",\"units\":\"data\"},\"line_color\":{\"field\":\"line_color\"},\"width\":{\"field\":\"width\",\"units\":\"data\"},\"x\":{\"field\":\"x\"},\"y\":{\"field\":\"y\"}},\"id\":\"8079ffaf-1549-477b-ac45-f6c5a75971ea\",\"type\":\"Rect\"},{\"attributes\":{\"fill_alpha\":{\"field\":\"fill_alpha\"},\"fill_color\":{\"field\":\"color\"},\"height\":{\"field\":\"height\",\"units\":\"data\"},\"line_color\":{\"field\":\"line_color\"},\"width\":{\"field\":\"width\",\"units\":\"data\"},\"x\":{\"field\":\"x\"},\"y\":{\"field\":\"y\"}},\"id\":\"28b24362-b32e-4810-903e-46283b3389b3\",\"type\":\"Rect\"},{\"attributes\":{\"callback\":null,\"column_names\":[\"line_color\",\"line_alpha\",\"color\",\"fill_alpha\",\"height\",\"width\",\"y\",\"x\",\"label\"],\"data\":{\"chart_index\":[{\"species\":\"setosa\"}],\"color\":[\"#aa4444\"],\"fill_alpha\":[0.8],\"height\":[0.0],\"label\":[{\"species\":\"setosa\"}],\"line_alpha\":[1.0],\"line_color\":[\"black\"],\"species\":[\"setosa\"],\"width\":[0.8],\"x\":[\"setosa\"],\"y\":[0.2]}},\"id\":\"fe45840d-0410-4ff0-b1c2-a8b11f56f202\",\"type\":\"ColumnDataSource\"},{\"attributes\":{\"line_width\":{\"value\":2},\"x0\":{\"field\":\"x0s\"},\"x1\":{\"field\":\"x1s\"},\"y0\":{\"field\":\"y0s\"},\"y1\":{\"field\":\"y1s\"}},\"id\":\"60554486-c70d-4d82-8c38-be8ed59a0b43\",\"type\":\"Segment\"},{\"attributes\":{\"plot\":null,\"text\":\"Distributions of petal widths\"},\"id\":\"de4ba925-a2c5-45ec-9f1d-ebd79ee999cf\",\"type\":\"Title\"},{\"attributes\":{\"callback\":null,\"column_names\":[\"x0s\",\"y0s\",\"x1s\",\"y1s\"],\"data\":{\"chart_index\":[{\"species\":\"setosa\"},{\"species\":\"setosa\"},{\"species\":\"setosa\"},{\"species\":\"setosa\"}],\"species\":[\"setosa\",\"setosa\",\"setosa\",\"setosa\"],\"x0s\":[\"setosa:0.5\",\"setosa:0.65\",\"setosa:0.5\",\"setosa:0.65\"],\"x1s\":[\"setosa:0.5\",\"setosa:0.35\",\"setosa:0.5\",\"setosa:0.35\"],\"y0s\":[0.1,0.1,0.3,0.44999999999999996],\"y1s\":[0.2,0.1,0.44999999999999996,0.44999999999999996]}},\"id\":\"8f88e55b-c11f-4fa7-a8a4-02a778de915b\",\"type\":\"ColumnDataSource\"},{\"attributes\":{\"fill_alpha\":{\"field\":\"fill_alpha\"},\"fill_color\":{\"field\":\"color\"},\"height\":{\"field\":\"height\",\"units\":\"data\"},\"line_color\":{\"field\":\"line_color\"},\"width\":{\"field\":\"width\",\"units\":\"data\"},\"x\":{\"field\":\"x\"},\"y\":{\"field\":\"y\"}},\"id\":\"a13d6e58-3304-49d9-a2fd-95669b74981c\",\"type\":\"Rect\"},{\"attributes\":{\"callback\":null,\"column_names\":[\"line_color\",\"line_alpha\",\"color\",\"fill_alpha\",\"height\",\"width\",\"y\",\"x\",\"label\"],\"data\":{\"chart_index\":[{\"species\":\"virginica\"}],\"color\":[\"#aa4444\"],\"fill_alpha\":[0.8],\"height\":[0.19999999999999996],\"label\":[{\"species\":\"virginica\"}],\"line_alpha\":[1.0],\"line_color\":[\"black\"],\"species\":[\"virginica\"],\"width\":[0.8],\"x\":[\"virginica\"],\"y\":[1.9]}},\"id\":\"fa1b0eb5-1499-4a62-8003-ca62334549f3\",\"type\":\"ColumnDataSource\"},{\"attributes\":{\"callback\":null,\"column_names\":[\"x0s\",\"y0s\",\"x1s\",\"y1s\"],\"data\":{\"chart_index\":[{\"species\":\"virginica\"},{\"species\":\"virginica\"},{\"species\":\"virginica\"},{\"species\":\"virginica\"}],\"species\":[\"virginica\",\"virginica\",\"virginica\",\"virginica\"],\"x0s\":[\"virginica:0.5\",\"virginica:0.65\",\"virginica:0.5\",\"virginica:0.65\"],\"x1s\":[\"virginica:0.5\",\"virginica:0.35\",\"virginica:0.5\",\"virginica:0.35\"],\"y0s\":[1.4,1.4,2.3,2.5],\"y1s\":[1.8,1.4,2.5,2.5]}},\"id\":\"932fa542-92d4-4755-a147-38567befd70a\",\"type\":\"ColumnDataSource\"},{\"attributes\":{},\"id\":\"c99fef4a-6c5c-4fdc-a88e-c6b2c81a698f\",\"type\":\"BasicTicker\"},{\"attributes\":{\"data_source\":{\"id\":\"2a659dc9-c96c-4e83-9787-ae8397943d9a\",\"type\":\"ColumnDataSource\"},\"glyph\":{\"id\":\"a13d6e58-3304-49d9-a2fd-95669b74981c\",\"type\":\"Rect\"},\"hover_glyph\":null,\"nonselection_glyph\":null,\"selection_glyph\":null},\"id\":\"5d77e757-f7ff-45ee-bb69-65ded8b8b735\",\"type\":\"GlyphRenderer\"},{\"attributes\":{\"fill_alpha\":{\"field\":\"fill_alpha\"},\"fill_color\":{\"field\":\"color\"},\"height\":{\"field\":\"height\",\"units\":\"data\"},\"line_color\":{\"field\":\"line_color\"},\"width\":{\"field\":\"width\",\"units\":\"data\"},\"x\":{\"field\":\"x\"},\"y\":{\"field\":\"y\"}},\"id\":\"477c95ba-c454-4896-b11a-460f91ef14bd\",\"type\":\"Rect\"},{\"attributes\":{\"data_source\":{\"id\":\"8f88e55b-c11f-4fa7-a8a4-02a778de915b\",\"type\":\"ColumnDataSource\"},\"glyph\":{\"id\":\"49a1ccd3-04d4-47f0-bd06-78ec45193a57\",\"type\":\"Segment\"},\"hover_glyph\":null,\"nonselection_glyph\":null,\"selection_glyph\":null},\"id\":\"6ee92574-3501-4816-98e7-d0ba5f10037d\",\"type\":\"GlyphRenderer\"},{\"attributes\":{\"axis_label\":\"petal width, mm\",\"formatter\":{\"id\":\"86b6ce2f-f772-4418-961b-aeff87c676d2\",\"type\":\"BasicTickFormatter\"},\"plot\":{\"id\":\"44e72cb7-2710-495f-be1f-ce25cee736b6\",\"subtype\":\"Chart\",\"type\":\"Plot\"},\"ticker\":{\"id\":\"c99fef4a-6c5c-4fdc-a88e-c6b2c81a698f\",\"type\":\"BasicTicker\"}},\"id\":\"96af13e9-bc3e-4832-866d-1b0f7fefd36c\",\"type\":\"LinearAxis\"},{\"attributes\":{},\"id\":\"beee2475-2b05-4814-87c9-fa63bd8c62cb\",\"type\":\"ToolEvents\"},{\"attributes\":{\"active_drag\":\"auto\",\"active_scroll\":\"auto\",\"active_tap\":\"auto\",\"tools\":[{\"id\":\"a801383c-a5b6-4ccb-91d5-659a039fd5de\",\"type\":\"CrosshairTool\"}]},\"id\":\"8c7c4bb7-f413-4af0-bb4a-f6bc52780fee\",\"type\":\"Toolbar\"},{\"attributes\":{\"data_source\":{\"id\":\"c22a8f30-24ff-4167-bc70-30dedc4c17e3\",\"type\":\"ColumnDataSource\"},\"glyph\":{\"id\":\"28b24362-b32e-4810-903e-46283b3389b3\",\"type\":\"Rect\"},\"hover_glyph\":null,\"nonselection_glyph\":null,\"selection_glyph\":null},\"id\":\"82188aac-a385-4722-9e9f-08a1e8c73562\",\"type\":\"GlyphRenderer\"},{\"attributes\":{\"data_source\":{\"id\":\"fa1b0eb5-1499-4a62-8003-ca62334549f3\",\"type\":\"ColumnDataSource\"},\"glyph\":{\"id\":\"477c95ba-c454-4896-b11a-460f91ef14bd\",\"type\":\"Rect\"},\"hover_glyph\":null,\"nonselection_glyph\":null,\"selection_glyph\":null},\"id\":\"f5bf71ca-75b8-4eca-bc45-9c6504a533f2\",\"type\":\"GlyphRenderer\"},{\"attributes\":{\"callback\":null,\"column_names\":[\"line_color\",\"line_alpha\",\"color\",\"fill_alpha\",\"height\",\"width\",\"y\",\"x\",\"label\"],\"data\":{\"chart_index\":[{\"species\":\"versicolor\"}],\"color\":[\"#aa4444\"],\"fill_alpha\":[0.8],\"height\":[0.19999999999999996],\"label\":[{\"species\":\"versicolor\"}],\"line_alpha\":[1.0],\"line_color\":[\"black\"],\"species\":[\"versicolor\"],\"width\":[0.8],\"x\":[\"versicolor\"],\"y\":[1.4]}},\"id\":\"c22a8f30-24ff-4167-bc70-30dedc4c17e3\",\"type\":\"ColumnDataSource\"},{\"attributes\":{\"data_source\":{\"id\":\"5fab3fa1-eab2-473e-8eb8-3e588fe666fd\",\"type\":\"ColumnDataSource\"},\"glyph\":{\"id\":\"22d68211-50de-4695-ad0f-434593b4f7f1\",\"type\":\"Rect\"},\"hover_glyph\":null,\"nonselection_glyph\":null,\"selection_glyph\":null},\"id\":\"25ce3f8a-aca5-4592-b1e3-71ff2cc4d6e4\",\"type\":\"GlyphRenderer\"},{\"attributes\":{\"callback\":null,\"factors\":[\"setosa\",\"versicolor\",\"virginica\"]},\"id\":\"7953b6e5-3d06-44fe-b711-125a94220b47\",\"type\":\"FactorRange\"},{\"attributes\":{\"callback\":null,\"column_names\":[\"line_color\",\"line_alpha\",\"color\",\"fill_alpha\",\"height\",\"width\",\"y\",\"x\",\"label\"],\"data\":{\"chart_index\":[{\"species\":\"virginica\"}],\"color\":[\"#aa4444\"],\"fill_alpha\":[0.8],\"height\":[0.2999999999999998],\"label\":[{\"species\":\"virginica\"}],\"line_alpha\":[1.0],\"line_color\":[\"black\"],\"species\":[\"virginica\"],\"width\":[0.8],\"x\":[\"virginica\"],\"y\":[2.15]}},\"id\":\"2a659dc9-c96c-4e83-9787-ae8397943d9a\",\"type\":\"ColumnDataSource\"},{\"attributes\":{\"callback\":null,\"column_names\":[\"line_color\",\"line_alpha\",\"color\",\"fill_alpha\",\"height\",\"width\",\"y\",\"x\",\"label\"],\"data\":{\"chart_index\":[{\"species\":\"setosa\"}],\"color\":[\"#aa4444\"],\"fill_alpha\":[0.8],\"height\":[0.09999999999999998],\"label\":[{\"species\":\"setosa\"}],\"line_alpha\":[1.0],\"line_color\":[\"black\"],\"species\":[\"setosa\"],\"width\":[0.8],\"x\":[\"setosa\"],\"y\":[0.25]}},\"id\":\"5fab3fa1-eab2-473e-8eb8-3e588fe666fd\",\"type\":\"ColumnDataSource\"},{\"attributes\":{\"data_source\":{\"id\":\"dff71c8d-103e-45df-bd5e-9926bbe54a9a\",\"type\":\"ColumnDataSource\"},\"glyph\":{\"id\":\"a4e92cf2-870d-4af4-9666-749ecf960438\",\"type\":\"Rect\"},\"hover_glyph\":null,\"nonselection_glyph\":null,\"selection_glyph\":null},\"id\":\"cccd0044-9d8c-4d05-955a-f912b1fa678e\",\"type\":\"GlyphRenderer\"},{\"attributes\":{\"data_source\":{\"id\":\"3d38ba73-b0d5-4989-ac50-adc17b7c1265\",\"type\":\"ColumnDataSource\"},\"glyph\":{\"id\":\"0a7c8bd1-2c52-4f85-88af-30105861a4c1\",\"type\":\"Circle\"},\"hover_glyph\":null,\"nonselection_glyph\":null,\"selection_glyph\":null},\"id\":\"56ca0db2-e0d0-4d03-81b0-0467bf3f2c29\",\"type\":\"GlyphRenderer\"},{\"attributes\":{\"line_width\":{\"value\":2},\"x0\":{\"field\":\"x0s\"},\"x1\":{\"field\":\"x1s\"},\"y0\":{\"field\":\"y0s\"},\"y1\":{\"field\":\"y1s\"}},\"id\":\"4e2ab6e7-241f-4e9e-b210-dbbb3aae8b27\",\"type\":\"Segment\"},{\"attributes\":{\"callback\":null,\"column_names\":[\"x0s\",\"y0s\",\"x1s\",\"y1s\"],\"data\":{\"chart_index\":[{\"species\":\"versicolor\"},{\"species\":\"versicolor\"},{\"species\":\"versicolor\"},{\"species\":\"versicolor\"}],\"species\":[\"versicolor\",\"versicolor\",\"versicolor\",\"versicolor\"],\"x0s\":[\"versicolor:0.5\",\"versicolor:0.65\",\"versicolor:0.5\",\"versicolor:0.65\"],\"x1s\":[\"versicolor:0.5\",\"versicolor:0.35\",\"versicolor:0.5\",\"versicolor:0.35\"],\"y0s\":[1.0,1.0,1.5,1.8],\"y1s\":[1.2,1.0,1.8,1.8]}},\"id\":\"df3c4c52-7a09-465a-abf6-f4093c486a07\",\"type\":\"ColumnDataSource\"},{\"attributes\":{},\"id\":\"86b6ce2f-f772-4418-961b-aeff87c676d2\",\"type\":\"BasicTickFormatter\"},{\"attributes\":{\"dimension\":1,\"plot\":{\"id\":\"44e72cb7-2710-495f-be1f-ce25cee736b6\",\"subtype\":\"Chart\",\"type\":\"Plot\"},\"ticker\":{\"id\":\"c99fef4a-6c5c-4fdc-a88e-c6b2c81a698f\",\"type\":\"BasicTicker\"}},\"id\":\"0e003177-4fea-4b48-acd3-d006b1032c78\",\"type\":\"Grid\"},{\"attributes\":{\"formatter\":{\"id\":\"b3c0add0-c44b-4ca3-8579-fee4b7ffcebc\",\"type\":\"CategoricalTickFormatter\"},\"major_label_orientation\":0.7853981633974483,\"plot\":{\"id\":\"44e72cb7-2710-495f-be1f-ce25cee736b6\",\"subtype\":\"Chart\",\"type\":\"Plot\"},\"ticker\":{\"id\":\"46f23bf0-a9f7-41bc-b976-8c4c9bbc1a24\",\"type\":\"CategoricalTicker\"}},\"id\":\"aa33a687-1933-47ae-9472-5693627e002d\",\"type\":\"CategoricalAxis\"},{\"attributes\":{\"callback\":null,\"end\":2.63},\"id\":\"55ead874-1261-4073-b797-4686954c5935\",\"type\":\"Range1d\"},{\"attributes\":{\"callback\":null,\"column_names\":[\"line_color\",\"line_alpha\",\"color\",\"fill_alpha\",\"height\",\"width\",\"y\",\"x\",\"label\"],\"data\":{\"chart_index\":[{\"species\":\"versicolor\"}],\"color\":[\"#aa4444\"],\"fill_alpha\":[0.8],\"height\":[0.10000000000000009],\"label\":[{\"species\":\"versicolor\"}],\"line_alpha\":[1.0],\"line_color\":[\"black\"],\"species\":[\"versicolor\"],\"width\":[0.8],\"x\":[\"versicolor\"],\"y\":[1.25]}},\"id\":\"dff71c8d-103e-45df-bd5e-9926bbe54a9a\",\"type\":\"ColumnDataSource\"},{\"attributes\":{\"fill_alpha\":{\"field\":\"fill_alpha\"},\"fill_color\":{\"field\":\"color\"},\"height\":{\"field\":\"height\",\"units\":\"data\"},\"line_color\":{\"field\":\"line_color\"},\"width\":{\"field\":\"width\",\"units\":\"data\"},\"x\":{\"field\":\"x\"},\"y\":{\"field\":\"y\"}},\"id\":\"22d68211-50de-4695-ad0f-434593b4f7f1\",\"type\":\"Rect\"},{\"attributes\":{\"data_source\":{\"id\":\"fe45840d-0410-4ff0-b1c2-a8b11f56f202\",\"type\":\"ColumnDataSource\"},\"glyph\":{\"id\":\"8079ffaf-1549-477b-ac45-f6c5a75971ea\",\"type\":\"Rect\"},\"hover_glyph\":null,\"nonselection_glyph\":null,\"selection_glyph\":null},\"id\":\"6cb57644-67f7-4d9e-995f-65b5e1b27576\",\"type\":\"GlyphRenderer\"},{\"attributes\":{\"plot\":{\"id\":\"44e72cb7-2710-495f-be1f-ce25cee736b6\",\"subtype\":\"Chart\",\"type\":\"Plot\"}},\"id\":\"a801383c-a5b6-4ccb-91d5-659a039fd5de\",\"type\":\"CrosshairTool\"},{\"attributes\":{\"line_width\":{\"value\":2},\"x0\":{\"field\":\"x0s\"},\"x1\":{\"field\":\"x1s\"},\"y0\":{\"field\":\"y0s\"},\"y1\":{\"field\":\"y1s\"}},\"id\":\"49a1ccd3-04d4-47f0-bd06-78ec45193a57\",\"type\":\"Segment\"},{\"attributes\":{\"below\":[{\"id\":\"aa33a687-1933-47ae-9472-5693627e002d\",\"type\":\"CategoricalAxis\"}],\"left\":[{\"id\":\"96af13e9-bc3e-4832-866d-1b0f7fefd36c\",\"type\":\"LinearAxis\"}],\"renderers\":[{\"id\":\"6cb57644-67f7-4d9e-995f-65b5e1b27576\",\"type\":\"GlyphRenderer\"},{\"id\":\"25ce3f8a-aca5-4592-b1e3-71ff2cc4d6e4\",\"type\":\"GlyphRenderer\"},{\"id\":\"56ca0db2-e0d0-4d03-81b0-0467bf3f2c29\",\"type\":\"GlyphRenderer\"},{\"id\":\"6ee92574-3501-4816-98e7-d0ba5f10037d\",\"type\":\"GlyphRenderer\"},{\"id\":\"cccd0044-9d8c-4d05-955a-f912b1fa678e\",\"type\":\"GlyphRenderer\"},{\"id\":\"82188aac-a385-4722-9e9f-08a1e8c73562\",\"type\":\"GlyphRenderer\"},{\"id\":\"1f437af0-872e-4452-a054-63d6ef8f3671\",\"type\":\"GlyphRenderer\"},{\"id\":\"f5bf71ca-75b8-4eca-bc45-9c6504a533f2\",\"type\":\"GlyphRenderer\"},{\"id\":\"5d77e757-f7ff-45ee-bb69-65ded8b8b735\",\"type\":\"GlyphRenderer\"},{\"id\":\"0d8a663a-cd1d-4fff-a586-49dc3352b00d\",\"type\":\"GlyphRenderer\"},{\"id\":\"b5656516-8065-4173-8641-3aac4cd8add7\",\"type\":\"Legend\"},{\"id\":\"aa33a687-1933-47ae-9472-5693627e002d\",\"type\":\"CategoricalAxis\"},{\"id\":\"96af13e9-bc3e-4832-866d-1b0f7fefd36c\",\"type\":\"LinearAxis\"},{\"id\":\"0e003177-4fea-4b48-acd3-d006b1032c78\",\"type\":\"Grid\"}],\"title\":{\"id\":\"de4ba925-a2c5-45ec-9f1d-ebd79ee999cf\",\"type\":\"Title\"},\"tool_events\":{\"id\":\"beee2475-2b05-4814-87c9-fa63bd8c62cb\",\"type\":\"ToolEvents\"},\"toolbar\":{\"id\":\"8c7c4bb7-f413-4af0-bb4a-f6bc52780fee\",\"type\":\"Toolbar\"},\"x_mapper_type\":\"auto\",\"x_range\":{\"id\":\"7953b6e5-3d06-44fe-b711-125a94220b47\",\"type\":\"FactorRange\"},\"y_mapper_type\":\"auto\",\"y_range\":{\"id\":\"55ead874-1261-4073-b797-4686954c5935\",\"type\":\"Range1d\"}},\"id\":\"44e72cb7-2710-495f-be1f-ce25cee736b6\",\"subtype\":\"Chart\",\"type\":\"Plot\"},{\"attributes\":{\"legends\":[[\"setosa\",[{\"id\":\"6cb57644-67f7-4d9e-995f-65b5e1b27576\",\"type\":\"GlyphRenderer\"},{\"id\":\"25ce3f8a-aca5-4592-b1e3-71ff2cc4d6e4\",\"type\":\"GlyphRenderer\"},{\"id\":\"56ca0db2-e0d0-4d03-81b0-0467bf3f2c29\",\"type\":\"GlyphRenderer\"},{\"id\":\"6ee92574-3501-4816-98e7-d0ba5f10037d\",\"type\":\"GlyphRenderer\"}]],[\"versicolor\",[{\"id\":\"cccd0044-9d8c-4d05-955a-f912b1fa678e\",\"type\":\"GlyphRenderer\"},{\"id\":\"82188aac-a385-4722-9e9f-08a1e8c73562\",\"type\":\"GlyphRenderer\"},{\"id\":\"1f437af0-872e-4452-a054-63d6ef8f3671\",\"type\":\"GlyphRenderer\"}]],[\"virginica\",[{\"id\":\"f5bf71ca-75b8-4eca-bc45-9c6504a533f2\",\"type\":\"GlyphRenderer\"},{\"id\":\"5d77e757-f7ff-45ee-bb69-65ded8b8b735\",\"type\":\"GlyphRenderer\"},{\"id\":\"0d8a663a-cd1d-4fff-a586-49dc3352b00d\",\"type\":\"GlyphRenderer\"}]]],\"location\":\"top_left\",\"plot\":{\"id\":\"44e72cb7-2710-495f-be1f-ce25cee736b6\",\"subtype\":\"Chart\",\"type\":\"Plot\"}},\"id\":\"b5656516-8065-4173-8641-3aac4cd8add7\",\"type\":\"Legend\"},{\"attributes\":{},\"id\":\"b3c0add0-c44b-4ca3-8579-fee4b7ffcebc\",\"type\":\"CategoricalTickFormatter\"},{\"attributes\":{\"callback\":null,\"column_names\":[\"x_values\",\"y_values\"],\"data\":{\"chart_index\":[{\"species\":\"setosa\"},{\"species\":\"setosa\"}],\"species\":[\"setosa\",\"setosa\"],\"x_values\":[\"setosa:0.5\",\"setosa:0.5\"],\"y_values\":[0.5,0.6]}},\"id\":\"3d38ba73-b0d5-4989-ac50-adc17b7c1265\",\"type\":\"ColumnDataSource\"},{\"attributes\":{\"data_source\":{\"id\":\"df3c4c52-7a09-465a-abf6-f4093c486a07\",\"type\":\"ColumnDataSource\"},\"glyph\":{\"id\":\"4e2ab6e7-241f-4e9e-b210-dbbb3aae8b27\",\"type\":\"Segment\"},\"hover_glyph\":null,\"nonselection_glyph\":null,\"selection_glyph\":null},\"id\":\"1f437af0-872e-4452-a054-63d6ef8f3671\",\"type\":\"GlyphRenderer\"},{\"attributes\":{\"fill_alpha\":{\"value\":0.7},\"fill_color\":{\"value\":\"red\"},\"line_color\":{\"value\":\"red\"},\"size\":{\"units\":\"screen\",\"value\":5},\"x\":{\"field\":\"x_values\"},\"y\":{\"field\":\"y_values\"}},\"id\":\"0a7c8bd1-2c52-4f85-88af-30105861a4c1\",\"type\":\"Circle\"}],\"root_ids\":[\"44e72cb7-2710-495f-be1f-ce25cee736b6\"]},\"title\":\"Bokeh Application\",\"version\":\"0.12.1\"}};\n",
       "            var render_items = [{\"docid\":\"21d3b4e4-aba6-4319-b760-1076ab39050f\",\"elementid\":\"90f53963-74e8-40f9-b903-4a4e9be767cc\",\"modelid\":\"44e72cb7-2710-495f-be1f-ce25cee736b6\",\"notebook_comms_target\":\"422f9de5-3355-4b61-8937-75ed3d2f909b\"}];\n",
       "            \n",
       "            Bokeh.embed.embed_items(docs_json, render_items);\n",
       "        });\n",
       "      },\n",
       "      function(Bokeh) {\n",
       "      }\n",
       "    ];\n",
       "  \n",
       "    function run_inline_js() {\n",
       "      for (var i = 0; i < inline_js.length; i++) {\n",
       "        inline_js[i](window.Bokeh);\n",
       "      }\n",
       "    }\n",
       "  \n",
       "    if (window._bokeh_is_loading === 0) {\n",
       "      console.log(\"Bokeh: BokehJS loaded, going straight to plotting\");\n",
       "      run_inline_js();\n",
       "    } else {\n",
       "      load_libs(js_urls, function() {\n",
       "        console.log(\"Bokeh: BokehJS plotting callback run at\", now());\n",
       "        run_inline_js();\n",
       "      });\n",
       "    }\n",
       "  }(this));\n",
       "</script>"
      ]
     },
     "metadata": {},
     "output_type": "display_data"
    },
    {
     "data": {
      "text/html": [
       "<p><code>&lt;Bokeh Notebook handle for <strong>In[15]</strong>&gt;</code></p>"
      ],
      "text/plain": [
       "<bokeh.io._CommsHandle at 0x113937c10>"
      ]
     },
     "execution_count": 15,
     "metadata": {},
     "output_type": "execute_result"
    }
   ],
   "source": [
    "p = BoxPlot(flowers, label='species', values='petal_width', tools='crosshair', color='#aa4444',\n",
    "            xlabel='', ylabel='petal width, mm', title='Distributions of petal widths')\n",
    "show(p)"
   ]
  },
  {
   "cell_type": "markdown",
   "metadata": {},
   "source": [
    "Instead of a single color, the box and whiskers groups can be colored by grouping one of the columns. This is done by passing a column name as the `color` parameter. Let's try that as an exercise."
   ]
  },
  {
   "cell_type": "code",
   "execution_count": 31,
   "metadata": {
    "collapsed": false
   },
   "outputs": [
    {
     "data": {
      "text/html": [
       "\n",
       "\n",
       "    <div class=\"bk-root\">\n",
       "        <div class=\"plotdiv\" id=\"865d15d4-e9f0-464e-9f43-084848ebeb76\"></div>\n",
       "    </div>\n",
       "<script type=\"text/javascript\">\n",
       "  \n",
       "  (function(global) {\n",
       "    function now() {\n",
       "      return new Date();\n",
       "    }\n",
       "  \n",
       "    var force = \"\";\n",
       "  \n",
       "    if (typeof (window._bokeh_onload_callbacks) === \"undefined\" || force !== \"\") {\n",
       "      window._bokeh_onload_callbacks = [];\n",
       "      window._bokeh_is_loading = undefined;\n",
       "    }\n",
       "  \n",
       "    function run_callbacks() {\n",
       "      window._bokeh_onload_callbacks.forEach(function(callback) { callback() });\n",
       "      delete window._bokeh_onload_callbacks\n",
       "      console.info(\"Bokeh: all callbacks have finished\");\n",
       "    }\n",
       "  \n",
       "    function load_libs(js_urls, callback) {\n",
       "      window._bokeh_onload_callbacks.push(callback);\n",
       "      if (window._bokeh_is_loading > 0) {\n",
       "        console.log(\"Bokeh: BokehJS is being loaded, scheduling callback at\", now());\n",
       "        return null;\n",
       "      }\n",
       "      if (js_urls == null || js_urls.length === 0) {\n",
       "        run_callbacks();\n",
       "        return null;\n",
       "      }\n",
       "      console.log(\"Bokeh: BokehJS not loaded, scheduling load and callback at\", now());\n",
       "      window._bokeh_is_loading = js_urls.length;\n",
       "      for (var i = 0; i < js_urls.length; i++) {\n",
       "        var url = js_urls[i];\n",
       "        var s = document.createElement('script');\n",
       "        s.src = url;\n",
       "        s.async = false;\n",
       "        s.onreadystatechange = s.onload = function() {\n",
       "          window._bokeh_is_loading--;\n",
       "          if (window._bokeh_is_loading === 0) {\n",
       "            console.log(\"Bokeh: all BokehJS libraries loaded\");\n",
       "            run_callbacks()\n",
       "          }\n",
       "        };\n",
       "        s.onerror = function() {\n",
       "          console.warn(\"failed to load library \" + url);\n",
       "        };\n",
       "        console.log(\"Bokeh: injecting script tag for BokehJS library: \", url);\n",
       "        document.getElementsByTagName(\"head\")[0].appendChild(s);\n",
       "      }\n",
       "    };var element = document.getElementById(\"865d15d4-e9f0-464e-9f43-084848ebeb76\");\n",
       "    if (element == null) {\n",
       "      console.log(\"Bokeh: ERROR: autoload.js configured with elementid '865d15d4-e9f0-464e-9f43-084848ebeb76' but no matching script tag was found. \")\n",
       "      return false;\n",
       "    }\n",
       "  \n",
       "    var js_urls = [];\n",
       "  \n",
       "    var inline_js = [\n",
       "      function(Bokeh) {\n",
       "        Bokeh.$(function() {\n",
       "            var docs_json = {\"e452c59a-a34f-4bd7-b2f9-c56f0591f87a\":{\"roots\":{\"references\":[{\"attributes\":{\"callback\":null,\"column_names\":[\"x0s\",\"y0s\",\"x1s\",\"y1s\"],\"data\":{\"chart_index\":[{\"species\":\"setosa\"},{\"species\":\"setosa\"},{\"species\":\"setosa\"},{\"species\":\"setosa\"}],\"species\":[\"setosa\",\"setosa\",\"setosa\",\"setosa\"],\"x0s\":[\"setosa:0.5\",\"setosa:0.65\",\"setosa:0.5\",\"setosa:0.65\"],\"x1s\":[\"setosa:0.5\",\"setosa:0.35\",\"setosa:0.5\",\"setosa:0.35\"],\"y0s\":[0.1,0.1,0.3,0.44999999999999996],\"y1s\":[0.2,0.1,0.44999999999999996,0.44999999999999996]}},\"id\":\"1bf9b0c1-38c2-41a3-93e7-a9ef76ebd274\",\"type\":\"ColumnDataSource\"},{\"attributes\":{\"data_source\":{\"id\":\"2be70e08-8c83-459f-bebc-18822ffc4702\",\"type\":\"ColumnDataSource\"},\"glyph\":{\"id\":\"d01aa917-5e55-4ed6-b434-8b78617652c3\",\"type\":\"Rect\"},\"hover_glyph\":null,\"nonselection_glyph\":null,\"selection_glyph\":null},\"id\":\"486e4790-7c4a-4aa3-9e49-3f9a9a91a53f\",\"type\":\"GlyphRenderer\"},{\"attributes\":{\"dimension\":1,\"plot\":{\"id\":\"901a3eab-75bd-4986-a0e3-3cce2caa8514\",\"subtype\":\"Chart\",\"type\":\"Plot\"},\"ticker\":{\"id\":\"d42368ea-6c4e-4c19-8589-03864620c937\",\"type\":\"BasicTicker\"}},\"id\":\"c2e25779-c7ad-4254-bec9-704407947495\",\"type\":\"Grid\"},{\"attributes\":{\"callback\":null,\"column_names\":[\"line_color\",\"line_alpha\",\"color\",\"fill_alpha\",\"height\",\"width\",\"y\",\"x\",\"label\"],\"data\":{\"chart_index\":[{\"species\":\"setosa\"}],\"color\":[\"#f22c40\"],\"fill_alpha\":[0.8],\"height\":[0.09999999999999998],\"label\":[{\"species\":\"setosa\"}],\"line_alpha\":[1.0],\"line_color\":[\"black\"],\"species\":[\"setosa\"],\"width\":[0.8],\"x\":[\"setosa\"],\"y\":[0.25]}},\"id\":\"a637e3aa-3615-4485-82b3-af9744818992\",\"type\":\"ColumnDataSource\"},{\"attributes\":{\"data_source\":{\"id\":\"495ea352-07ee-42bd-a106-77ab712c432b\",\"type\":\"ColumnDataSource\"},\"glyph\":{\"id\":\"125903fc-c2ee-4eee-a772-ce2926294eb1\",\"type\":\"Segment\"},\"hover_glyph\":null,\"nonselection_glyph\":null,\"selection_glyph\":null},\"id\":\"26c68c4f-36d4-4b5f-a9f9-74444498c7f0\",\"type\":\"GlyphRenderer\"},{\"attributes\":{},\"id\":\"3965de82-8ee5-4383-8434-f355b4fa57af\",\"type\":\"CategoricalTickFormatter\"},{\"attributes\":{\"callback\":null,\"column_names\":[\"line_color\",\"line_alpha\",\"color\",\"fill_alpha\",\"height\",\"width\",\"y\",\"x\",\"label\"],\"data\":{\"chart_index\":[{\"species\":\"virginica\"}],\"color\":[\"#407ee7\"],\"fill_alpha\":[0.8],\"height\":[0.19999999999999996],\"label\":[{\"species\":\"virginica\"}],\"line_alpha\":[1.0],\"line_color\":[\"black\"],\"species\":[\"virginica\"],\"width\":[0.8],\"x\":[\"virginica\"],\"y\":[1.9]}},\"id\":\"6a866aea-9255-4c97-9ed7-2a5147c62eb2\",\"type\":\"ColumnDataSource\"},{\"attributes\":{\"data_source\":{\"id\":\"0466e26d-25a1-4c13-bc10-f21a207f06f4\",\"type\":\"ColumnDataSource\"},\"glyph\":{\"id\":\"d6d980d3-59d3-4bd4-ae22-97936940ed50\",\"type\":\"Rect\"},\"hover_glyph\":null,\"nonselection_glyph\":null,\"selection_glyph\":null},\"id\":\"f4c2a2aa-db0f-4796-b1d1-b1e47d493509\",\"type\":\"GlyphRenderer\"},{\"attributes\":{\"callback\":null,\"column_names\":[\"x0s\",\"y0s\",\"x1s\",\"y1s\"],\"data\":{\"chart_index\":[{\"species\":\"virginica\"},{\"species\":\"virginica\"},{\"species\":\"virginica\"},{\"species\":\"virginica\"}],\"species\":[\"virginica\",\"virginica\",\"virginica\",\"virginica\"],\"x0s\":[\"virginica:0.5\",\"virginica:0.65\",\"virginica:0.5\",\"virginica:0.65\"],\"x1s\":[\"virginica:0.5\",\"virginica:0.35\",\"virginica:0.5\",\"virginica:0.35\"],\"y0s\":[1.4,1.4,2.3,2.5],\"y1s\":[1.8,1.4,2.5,2.5]}},\"id\":\"60b6c4a4-0f57-4368-b76f-34f50852445a\",\"type\":\"ColumnDataSource\"},{\"attributes\":{\"plot\":null,\"text\":\"Distributions of petal widths\"},\"id\":\"6bb53c9e-575c-43a3-b8b6-5ffe6a562360\",\"type\":\"Title\"},{\"attributes\":{\"data_source\":{\"id\":\"60b6c4a4-0f57-4368-b76f-34f50852445a\",\"type\":\"ColumnDataSource\"},\"glyph\":{\"id\":\"ceb21576-eaf1-4092-8600-fa85ef7dec06\",\"type\":\"Segment\"},\"hover_glyph\":null,\"nonselection_glyph\":null,\"selection_glyph\":null},\"id\":\"0b0e19f3-6ad9-4a66-b0f6-817cf3230b78\",\"type\":\"GlyphRenderer\"},{\"attributes\":{},\"id\":\"d42368ea-6c4e-4c19-8589-03864620c937\",\"type\":\"BasicTicker\"},{\"attributes\":{\"data_source\":{\"id\":\"6a866aea-9255-4c97-9ed7-2a5147c62eb2\",\"type\":\"ColumnDataSource\"},\"glyph\":{\"id\":\"34013f19-ee8a-4762-ab5e-a0d410fe698c\",\"type\":\"Rect\"},\"hover_glyph\":null,\"nonselection_glyph\":null,\"selection_glyph\":null},\"id\":\"b517ab59-fedc-4a90-a43f-1789ffa19752\",\"type\":\"GlyphRenderer\"},{\"attributes\":{\"callback\":null,\"factors\":[\"setosa\",\"versicolor\",\"virginica\"]},\"id\":\"4231caca-37e4-4bbe-89b7-a15987951a2b\",\"type\":\"FactorRange\"},{\"attributes\":{\"plot\":{\"id\":\"901a3eab-75bd-4986-a0e3-3cce2caa8514\",\"subtype\":\"Chart\",\"type\":\"Plot\"}},\"id\":\"15ce847d-24ad-4768-9eaf-996e92f53e4e\",\"type\":\"CrosshairTool\"},{\"attributes\":{\"callback\":null,\"column_names\":[\"x_values\",\"y_values\"],\"data\":{\"chart_index\":[{\"species\":\"setosa\"},{\"species\":\"setosa\"}],\"species\":[\"setosa\",\"setosa\"],\"x_values\":[\"setosa:0.5\",\"setosa:0.5\"],\"y_values\":[0.5,0.6]}},\"id\":\"0873549c-df3f-4e0c-b502-13afb034a324\",\"type\":\"ColumnDataSource\"},{\"attributes\":{\"fill_alpha\":{\"field\":\"fill_alpha\"},\"fill_color\":{\"field\":\"color\"},\"height\":{\"field\":\"height\",\"units\":\"data\"},\"line_color\":{\"field\":\"line_color\"},\"width\":{\"field\":\"width\",\"units\":\"data\"},\"x\":{\"field\":\"x\"},\"y\":{\"field\":\"y\"}},\"id\":\"413c15ab-bcac-478a-a2cd-da16a2ba0544\",\"type\":\"Rect\"},{\"attributes\":{\"data_source\":{\"id\":\"a637e3aa-3615-4485-82b3-af9744818992\",\"type\":\"ColumnDataSource\"},\"glyph\":{\"id\":\"413c15ab-bcac-478a-a2cd-da16a2ba0544\",\"type\":\"Rect\"},\"hover_glyph\":null,\"nonselection_glyph\":null,\"selection_glyph\":null},\"id\":\"beb8a104-d994-4875-8497-e5c3d781ce3b\",\"type\":\"GlyphRenderer\"},{\"attributes\":{\"line_width\":{\"value\":2},\"x0\":{\"field\":\"x0s\"},\"x1\":{\"field\":\"x1s\"},\"y0\":{\"field\":\"y0s\"},\"y1\":{\"field\":\"y1s\"}},\"id\":\"ceb21576-eaf1-4092-8600-fa85ef7dec06\",\"type\":\"Segment\"},{\"attributes\":{\"data_source\":{\"id\":\"1bf9b0c1-38c2-41a3-93e7-a9ef76ebd274\",\"type\":\"ColumnDataSource\"},\"glyph\":{\"id\":\"c8558a1d-aa83-41de-bf88-1b7efdde9971\",\"type\":\"Segment\"},\"hover_glyph\":null,\"nonselection_glyph\":null,\"selection_glyph\":null},\"id\":\"d5f5c589-fe0f-4ac7-a3ea-2a1cd07920bd\",\"type\":\"GlyphRenderer\"},{\"attributes\":{\"callback\":null,\"column_names\":[\"line_color\",\"line_alpha\",\"color\",\"fill_alpha\",\"height\",\"width\",\"y\",\"x\",\"label\"],\"data\":{\"chart_index\":[{\"species\":\"versicolor\"}],\"color\":[\"#5ab738\"],\"fill_alpha\":[0.8],\"height\":[0.19999999999999996],\"label\":[{\"species\":\"versicolor\"}],\"line_alpha\":[1.0],\"line_color\":[\"black\"],\"species\":[\"versicolor\"],\"width\":[0.8],\"x\":[\"versicolor\"],\"y\":[1.4]}},\"id\":\"bdb7c5d8-59ed-47f0-999e-0e0cc5813e63\",\"type\":\"ColumnDataSource\"},{\"attributes\":{\"callback\":null,\"column_names\":[\"line_color\",\"line_alpha\",\"color\",\"fill_alpha\",\"height\",\"width\",\"y\",\"x\",\"label\"],\"data\":{\"chart_index\":[{\"species\":\"versicolor\"}],\"color\":[\"#5ab738\"],\"fill_alpha\":[0.8],\"height\":[0.10000000000000009],\"label\":[{\"species\":\"versicolor\"}],\"line_alpha\":[1.0],\"line_color\":[\"black\"],\"species\":[\"versicolor\"],\"width\":[0.8],\"x\":[\"versicolor\"],\"y\":[1.25]}},\"id\":\"9dfc39f1-f54f-4930-bb97-127ed527702f\",\"type\":\"ColumnDataSource\"},{\"attributes\":{\"fill_alpha\":{\"field\":\"fill_alpha\"},\"fill_color\":{\"field\":\"color\"},\"height\":{\"field\":\"height\",\"units\":\"data\"},\"line_color\":{\"field\":\"line_color\"},\"width\":{\"field\":\"width\",\"units\":\"data\"},\"x\":{\"field\":\"x\"},\"y\":{\"field\":\"y\"}},\"id\":\"2bf28059-101b-40a2-8aa2-117489101733\",\"type\":\"Rect\"},{\"attributes\":{},\"id\":\"5868d221-429f-42de-b385-c1ec3f545dd1\",\"type\":\"CategoricalTicker\"},{\"attributes\":{\"axis_label\":\"petal width, mm\",\"formatter\":{\"id\":\"5c0e80e4-a3bb-4fcd-82ee-6c9c3aa14469\",\"type\":\"BasicTickFormatter\"},\"plot\":{\"id\":\"901a3eab-75bd-4986-a0e3-3cce2caa8514\",\"subtype\":\"Chart\",\"type\":\"Plot\"},\"ticker\":{\"id\":\"d42368ea-6c4e-4c19-8589-03864620c937\",\"type\":\"BasicTicker\"}},\"id\":\"18cc129f-5a16-4f6c-8421-e83dc3b0f60b\",\"type\":\"LinearAxis\"},{\"attributes\":{\"active_drag\":\"auto\",\"active_scroll\":\"auto\",\"active_tap\":\"auto\",\"tools\":[{\"id\":\"15ce847d-24ad-4768-9eaf-996e92f53e4e\",\"type\":\"CrosshairTool\"}]},\"id\":\"c8959ffa-e560-41b8-ae9f-b56ed2cd68e3\",\"type\":\"Toolbar\"},{\"attributes\":{\"callback\":null,\"column_names\":[\"line_color\",\"line_alpha\",\"color\",\"fill_alpha\",\"height\",\"width\",\"y\",\"x\",\"label\"],\"data\":{\"chart_index\":[{\"species\":\"setosa\"}],\"color\":[\"#f22c40\"],\"fill_alpha\":[0.8],\"height\":[0.0],\"label\":[{\"species\":\"setosa\"}],\"line_alpha\":[1.0],\"line_color\":[\"black\"],\"species\":[\"setosa\"],\"width\":[0.8],\"x\":[\"setosa\"],\"y\":[0.2]}},\"id\":\"0466e26d-25a1-4c13-bc10-f21a207f06f4\",\"type\":\"ColumnDataSource\"},{\"attributes\":{\"fill_alpha\":{\"field\":\"fill_alpha\"},\"fill_color\":{\"field\":\"color\"},\"height\":{\"field\":\"height\",\"units\":\"data\"},\"line_color\":{\"field\":\"line_color\"},\"width\":{\"field\":\"width\",\"units\":\"data\"},\"x\":{\"field\":\"x\"},\"y\":{\"field\":\"y\"}},\"id\":\"b23def5a-1ffd-42bd-ba37-ff67e4a366dd\",\"type\":\"Rect\"},{\"attributes\":{\"data_source\":{\"id\":\"9dfc39f1-f54f-4930-bb97-127ed527702f\",\"type\":\"ColumnDataSource\"},\"glyph\":{\"id\":\"b23def5a-1ffd-42bd-ba37-ff67e4a366dd\",\"type\":\"Rect\"},\"hover_glyph\":null,\"nonselection_glyph\":null,\"selection_glyph\":null},\"id\":\"c976074a-457a-4032-aa78-4e5262e3f28f\",\"type\":\"GlyphRenderer\"},{\"attributes\":{\"below\":[{\"id\":\"7eb2fdd8-0b02-4151-94af-4fa43fcab05d\",\"type\":\"CategoricalAxis\"}],\"left\":[{\"id\":\"18cc129f-5a16-4f6c-8421-e83dc3b0f60b\",\"type\":\"LinearAxis\"}],\"renderers\":[{\"id\":\"f4c2a2aa-db0f-4796-b1d1-b1e47d493509\",\"type\":\"GlyphRenderer\"},{\"id\":\"beb8a104-d994-4875-8497-e5c3d781ce3b\",\"type\":\"GlyphRenderer\"},{\"id\":\"f4312b0c-51c7-4707-99d9-08d4f4adccb2\",\"type\":\"GlyphRenderer\"},{\"id\":\"d5f5c589-fe0f-4ac7-a3ea-2a1cd07920bd\",\"type\":\"GlyphRenderer\"},{\"id\":\"c976074a-457a-4032-aa78-4e5262e3f28f\",\"type\":\"GlyphRenderer\"},{\"id\":\"88dd6afe-def5-4eec-8154-7131ced0b067\",\"type\":\"GlyphRenderer\"},{\"id\":\"26c68c4f-36d4-4b5f-a9f9-74444498c7f0\",\"type\":\"GlyphRenderer\"},{\"id\":\"b517ab59-fedc-4a90-a43f-1789ffa19752\",\"type\":\"GlyphRenderer\"},{\"id\":\"486e4790-7c4a-4aa3-9e49-3f9a9a91a53f\",\"type\":\"GlyphRenderer\"},{\"id\":\"0b0e19f3-6ad9-4a66-b0f6-817cf3230b78\",\"type\":\"GlyphRenderer\"},{\"id\":\"b995d3a3-e93b-4fb8-b1f6-b19c38c7d39f\",\"type\":\"Legend\"},{\"id\":\"7eb2fdd8-0b02-4151-94af-4fa43fcab05d\",\"type\":\"CategoricalAxis\"},{\"id\":\"18cc129f-5a16-4f6c-8421-e83dc3b0f60b\",\"type\":\"LinearAxis\"},{\"id\":\"c2e25779-c7ad-4254-bec9-704407947495\",\"type\":\"Grid\"}],\"title\":{\"id\":\"6bb53c9e-575c-43a3-b8b6-5ffe6a562360\",\"type\":\"Title\"},\"tool_events\":{\"id\":\"a56676b1-e6e4-48f0-b0a2-94b48ccb1888\",\"type\":\"ToolEvents\"},\"toolbar\":{\"id\":\"c8959ffa-e560-41b8-ae9f-b56ed2cd68e3\",\"type\":\"Toolbar\"},\"x_mapper_type\":\"auto\",\"x_range\":{\"id\":\"4231caca-37e4-4bbe-89b7-a15987951a2b\",\"type\":\"FactorRange\"},\"y_mapper_type\":\"auto\",\"y_range\":{\"id\":\"1f7f7a0b-1217-4336-8e3e-942a17691efd\",\"type\":\"Range1d\"}},\"id\":\"901a3eab-75bd-4986-a0e3-3cce2caa8514\",\"subtype\":\"Chart\",\"type\":\"Plot\"},{\"attributes\":{\"fill_alpha\":{\"field\":\"fill_alpha\"},\"fill_color\":{\"field\":\"color\"},\"height\":{\"field\":\"height\",\"units\":\"data\"},\"line_color\":{\"field\":\"line_color\"},\"width\":{\"field\":\"width\",\"units\":\"data\"},\"x\":{\"field\":\"x\"},\"y\":{\"field\":\"y\"}},\"id\":\"d6d980d3-59d3-4bd4-ae22-97936940ed50\",\"type\":\"Rect\"},{\"attributes\":{\"line_width\":{\"value\":2},\"x0\":{\"field\":\"x0s\"},\"x1\":{\"field\":\"x1s\"},\"y0\":{\"field\":\"y0s\"},\"y1\":{\"field\":\"y1s\"}},\"id\":\"125903fc-c2ee-4eee-a772-ce2926294eb1\",\"type\":\"Segment\"},{\"attributes\":{\"legends\":[[\"setosa\",[{\"id\":\"f4c2a2aa-db0f-4796-b1d1-b1e47d493509\",\"type\":\"GlyphRenderer\"},{\"id\":\"beb8a104-d994-4875-8497-e5c3d781ce3b\",\"type\":\"GlyphRenderer\"},{\"id\":\"f4312b0c-51c7-4707-99d9-08d4f4adccb2\",\"type\":\"GlyphRenderer\"},{\"id\":\"d5f5c589-fe0f-4ac7-a3ea-2a1cd07920bd\",\"type\":\"GlyphRenderer\"}]],[\"versicolor\",[{\"id\":\"c976074a-457a-4032-aa78-4e5262e3f28f\",\"type\":\"GlyphRenderer\"},{\"id\":\"88dd6afe-def5-4eec-8154-7131ced0b067\",\"type\":\"GlyphRenderer\"},{\"id\":\"26c68c4f-36d4-4b5f-a9f9-74444498c7f0\",\"type\":\"GlyphRenderer\"}]],[\"virginica\",[{\"id\":\"b517ab59-fedc-4a90-a43f-1789ffa19752\",\"type\":\"GlyphRenderer\"},{\"id\":\"486e4790-7c4a-4aa3-9e49-3f9a9a91a53f\",\"type\":\"GlyphRenderer\"},{\"id\":\"0b0e19f3-6ad9-4a66-b0f6-817cf3230b78\",\"type\":\"GlyphRenderer\"}]]],\"location\":\"bottom_right\",\"plot\":{\"id\":\"901a3eab-75bd-4986-a0e3-3cce2caa8514\",\"subtype\":\"Chart\",\"type\":\"Plot\"}},\"id\":\"b995d3a3-e93b-4fb8-b1f6-b19c38c7d39f\",\"type\":\"Legend\"},{\"attributes\":{\"data_source\":{\"id\":\"0873549c-df3f-4e0c-b502-13afb034a324\",\"type\":\"ColumnDataSource\"},\"glyph\":{\"id\":\"dcdba358-078d-4eff-b318-29abe6e078f2\",\"type\":\"Circle\"},\"hover_glyph\":null,\"nonselection_glyph\":null,\"selection_glyph\":null},\"id\":\"f4312b0c-51c7-4707-99d9-08d4f4adccb2\",\"type\":\"GlyphRenderer\"},{\"attributes\":{\"data_source\":{\"id\":\"bdb7c5d8-59ed-47f0-999e-0e0cc5813e63\",\"type\":\"ColumnDataSource\"},\"glyph\":{\"id\":\"2bf28059-101b-40a2-8aa2-117489101733\",\"type\":\"Rect\"},\"hover_glyph\":null,\"nonselection_glyph\":null,\"selection_glyph\":null},\"id\":\"88dd6afe-def5-4eec-8154-7131ced0b067\",\"type\":\"GlyphRenderer\"},{\"attributes\":{\"fill_alpha\":{\"field\":\"fill_alpha\"},\"fill_color\":{\"field\":\"color\"},\"height\":{\"field\":\"height\",\"units\":\"data\"},\"line_color\":{\"field\":\"line_color\"},\"width\":{\"field\":\"width\",\"units\":\"data\"},\"x\":{\"field\":\"x\"},\"y\":{\"field\":\"y\"}},\"id\":\"d01aa917-5e55-4ed6-b434-8b78617652c3\",\"type\":\"Rect\"},{\"attributes\":{},\"id\":\"5c0e80e4-a3bb-4fcd-82ee-6c9c3aa14469\",\"type\":\"BasicTickFormatter\"},{\"attributes\":{\"callback\":null,\"column_names\":[\"line_color\",\"line_alpha\",\"color\",\"fill_alpha\",\"height\",\"width\",\"y\",\"x\",\"label\"],\"data\":{\"chart_index\":[{\"species\":\"virginica\"}],\"color\":[\"#407ee7\"],\"fill_alpha\":[0.8],\"height\":[0.2999999999999998],\"label\":[{\"species\":\"virginica\"}],\"line_alpha\":[1.0],\"line_color\":[\"black\"],\"species\":[\"virginica\"],\"width\":[0.8],\"x\":[\"virginica\"],\"y\":[2.15]}},\"id\":\"2be70e08-8c83-459f-bebc-18822ffc4702\",\"type\":\"ColumnDataSource\"},{\"attributes\":{\"fill_alpha\":{\"field\":\"fill_alpha\"},\"fill_color\":{\"field\":\"color\"},\"height\":{\"field\":\"height\",\"units\":\"data\"},\"line_color\":{\"field\":\"line_color\"},\"width\":{\"field\":\"width\",\"units\":\"data\"},\"x\":{\"field\":\"x\"},\"y\":{\"field\":\"y\"}},\"id\":\"34013f19-ee8a-4762-ab5e-a0d410fe698c\",\"type\":\"Rect\"},{\"attributes\":{\"formatter\":{\"id\":\"3965de82-8ee5-4383-8434-f355b4fa57af\",\"type\":\"CategoricalTickFormatter\"},\"major_label_orientation\":0.7853981633974483,\"plot\":{\"id\":\"901a3eab-75bd-4986-a0e3-3cce2caa8514\",\"subtype\":\"Chart\",\"type\":\"Plot\"},\"ticker\":{\"id\":\"5868d221-429f-42de-b385-c1ec3f545dd1\",\"type\":\"CategoricalTicker\"}},\"id\":\"7eb2fdd8-0b02-4151-94af-4fa43fcab05d\",\"type\":\"CategoricalAxis\"},{\"attributes\":{\"fill_alpha\":{\"value\":0.7},\"fill_color\":{\"value\":\"red\"},\"line_color\":{\"value\":\"red\"},\"size\":{\"units\":\"screen\",\"value\":5},\"x\":{\"field\":\"x_values\"},\"y\":{\"field\":\"y_values\"}},\"id\":\"dcdba358-078d-4eff-b318-29abe6e078f2\",\"type\":\"Circle\"},{\"attributes\":{},\"id\":\"a56676b1-e6e4-48f0-b0a2-94b48ccb1888\",\"type\":\"ToolEvents\"},{\"attributes\":{\"line_width\":{\"value\":2},\"x0\":{\"field\":\"x0s\"},\"x1\":{\"field\":\"x1s\"},\"y0\":{\"field\":\"y0s\"},\"y1\":{\"field\":\"y1s\"}},\"id\":\"c8558a1d-aa83-41de-bf88-1b7efdde9971\",\"type\":\"Segment\"},{\"attributes\":{\"callback\":null,\"end\":2.63},\"id\":\"1f7f7a0b-1217-4336-8e3e-942a17691efd\",\"type\":\"Range1d\"},{\"attributes\":{\"callback\":null,\"column_names\":[\"x0s\",\"y0s\",\"x1s\",\"y1s\"],\"data\":{\"chart_index\":[{\"species\":\"versicolor\"},{\"species\":\"versicolor\"},{\"species\":\"versicolor\"},{\"species\":\"versicolor\"}],\"species\":[\"versicolor\",\"versicolor\",\"versicolor\",\"versicolor\"],\"x0s\":[\"versicolor:0.5\",\"versicolor:0.65\",\"versicolor:0.5\",\"versicolor:0.65\"],\"x1s\":[\"versicolor:0.5\",\"versicolor:0.35\",\"versicolor:0.5\",\"versicolor:0.35\"],\"y0s\":[1.0,1.0,1.5,1.8],\"y1s\":[1.2,1.0,1.8,1.8]}},\"id\":\"495ea352-07ee-42bd-a106-77ab712c432b\",\"type\":\"ColumnDataSource\"}],\"root_ids\":[\"901a3eab-75bd-4986-a0e3-3cce2caa8514\"]},\"title\":\"Bokeh Application\",\"version\":\"0.12.1\"}};\n",
       "            var render_items = [{\"docid\":\"e452c59a-a34f-4bd7-b2f9-c56f0591f87a\",\"elementid\":\"865d15d4-e9f0-464e-9f43-084848ebeb76\",\"modelid\":\"901a3eab-75bd-4986-a0e3-3cce2caa8514\",\"notebook_comms_target\":\"c44800da-52db-4d7e-a6c7-5c7ab0ce4a4c\"}];\n",
       "            \n",
       "            Bokeh.embed.embed_items(docs_json, render_items);\n",
       "        });\n",
       "      },\n",
       "      function(Bokeh) {\n",
       "      }\n",
       "    ];\n",
       "  \n",
       "    function run_inline_js() {\n",
       "      for (var i = 0; i < inline_js.length; i++) {\n",
       "        inline_js[i](window.Bokeh);\n",
       "      }\n",
       "    }\n",
       "  \n",
       "    if (window._bokeh_is_loading === 0) {\n",
       "      console.log(\"Bokeh: BokehJS loaded, going straight to plotting\");\n",
       "      run_inline_js();\n",
       "    } else {\n",
       "      load_libs(js_urls, function() {\n",
       "        console.log(\"Bokeh: BokehJS plotting callback run at\", now());\n",
       "        run_inline_js();\n",
       "      });\n",
       "    }\n",
       "  }(this));\n",
       "</script>"
      ]
     },
     "metadata": {},
     "output_type": "display_data"
    },
    {
     "data": {
      "text/html": [
       "<p><code>&lt;Bokeh Notebook handle for <strong>In[31]</strong>&gt;</code></p>"
      ],
      "text/plain": [
       "<bokeh.io._CommsHandle at 0x114ecd150>"
      ]
     },
     "execution_count": 31,
     "metadata": {},
     "output_type": "execute_result"
    }
   ],
   "source": [
    "# EXERCISE: color the boxes by \"species\" and add a legend to the top left\n",
    "p = BoxPlot(flowers, label='species', values='petal_width', tools='crosshair',\n",
    "            xlabel='', ylabel='petal width, mm', title='Distributions of petal widths',\\\n",
    "           color='species', legend='bottom_right')\n",
    "show(p)"
   ]
  },
  {
   "cell_type": "markdown",
   "metadata": {},
   "source": [
    "---\n",
    "\n",
    "# Further reading\n",
    "\n"
   ]
  },
  {
   "cell_type": "markdown",
   "metadata": {
    "collapsed": true
   },
   "source": [
    "http://nbviewer.jupyter.org/github/bokeh/bokeh/tree/0.11.1/examples/charts/file/\n",
    "\n",
    "http://nbviewer.jupyter.org/github/bokeh/bokeh/tree/0.11.1/examples/howto/charts/\n",
    "\n",
    "http://nbviewer.jupyter.org/github/bokeh/bokeh-demos/blob/master/presentations/2016-03-pydata-strata/notebooks/Charts.ipynb\n",
    "\n",
    "http://nbviewer.jupyter.org/github/bokeh/bokeh-demos/blob/master/presentations/2016-03-pydata-strata/notebooks/Charts%20Demo.ipynb"
   ]
  },
  {
   "cell_type": "code",
   "execution_count": null,
   "metadata": {
    "collapsed": true
   },
   "outputs": [],
   "source": []
  }
 ],
 "metadata": {
  "anaconda-cloud": {},
  "kernelspec": {
   "display_name": "Python 2",
   "language": "python",
   "name": "python2"
  },
  "language_info": {
   "codemirror_mode": {
    "name": "ipython",
    "version": 2
   },
   "file_extension": ".py",
   "mimetype": "text/x-python",
   "name": "python",
   "nbconvert_exporter": "python",
   "pygments_lexer": "ipython2",
   "version": "2.7.12"
  }
 },
 "nbformat": 4,
 "nbformat_minor": 0
}
