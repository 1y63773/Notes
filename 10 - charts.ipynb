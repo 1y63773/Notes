{
 "cells": [
  {
   "cell_type": "markdown",
   "metadata": {},
   "source": [
    "<table style=\"float:left; border:none\">\n",
    "   <tr style=\"border:none\">\n",
    "       <td style=\"border:none\">\n",
    "           <a href=\"http://bokeh.pydata.org/\">     \n",
    "           <img \n",
    "               src=\"assets/images/bokeh-transparent.png\" \n",
    "               style=\"width:50px\"\n",
    "           >\n",
    "           </a>    \n",
    "       </td>\n",
    "       <td style=\"border:none\">\n",
    "           <h1>Bokeh Tutorial</h1>\n",
    "       </td>\n",
    "   </tr>\n",
    "</table>\n",
    "\n",
    "<div style=\"float:right;\"><h2>10. High Level Charts</h2></div>"
   ]
  },
  {
   "cell_type": "markdown",
   "metadata": {},
   "source": [
    "This section covers the `bokeh.charts` interface, which is a high-level API that is especially useful for exploratory data analysis (for instance, in a Jupyter notebook). It provides functions for quickly producing many standard chart types, often with a single line of code. We will look at the following types in this notebook:\n",
    "\n",
    "* [Scatter Plot](#Scatter-Plot)\n",
    "* [Bar Chart](#Bar-Chart)\n",
    "* [Histogram](#Histogram)\n",
    "* [Box Plot](#Box-Plot)"
   ]
  },
  {
   "cell_type": "code",
   "execution_count": 1,
   "metadata": {
    "collapsed": false
   },
   "outputs": [
    {
     "data": {
      "text/html": [
       "\n",
       "    <div class=\"bk-root\">\n",
       "        <a href=\"http://bokeh.pydata.org\" target=\"_blank\" class=\"bk-logo bk-logo-small bk-logo-notebook\"></a>\n",
       "        <span id=\"ee5bff96-f342-498a-a2d7-b19e274a8246\">Loading BokehJS ...</span>\n",
       "    </div>"
      ]
     },
     "metadata": {},
     "output_type": "display_data"
    },
    {
     "data": {
      "application/javascript": [
       "\n",
       "(function(global) {\n",
       "  function now() {\n",
       "    return new Date();\n",
       "  }\n",
       "\n",
       "  var force = \"1\";\n",
       "\n",
       "  if (typeof (window._bokeh_onload_callbacks) === \"undefined\" || force !== \"\") {\n",
       "    window._bokeh_onload_callbacks = [];\n",
       "    window._bokeh_is_loading = undefined;\n",
       "  }\n",
       "\n",
       "  function run_callbacks() {\n",
       "    window._bokeh_onload_callbacks.forEach(function(callback) { callback() });\n",
       "    delete window._bokeh_onload_callbacks\n",
       "    console.info(\"Bokeh: all callbacks have finished\");\n",
       "  }\n",
       "\n",
       "  function load_libs(js_urls, callback) {\n",
       "    window._bokeh_onload_callbacks.push(callback);\n",
       "    if (window._bokeh_is_loading > 0) {\n",
       "      console.log(\"Bokeh: BokehJS is being loaded, scheduling callback at\", now());\n",
       "      return null;\n",
       "    }\n",
       "    if (js_urls == null || js_urls.length === 0) {\n",
       "      run_callbacks();\n",
       "      return null;\n",
       "    }\n",
       "    console.log(\"Bokeh: BokehJS not loaded, scheduling load and callback at\", now());\n",
       "    window._bokeh_is_loading = js_urls.length;\n",
       "    for (var i = 0; i < js_urls.length; i++) {\n",
       "      var url = js_urls[i];\n",
       "      var s = document.createElement('script');\n",
       "      s.src = url;\n",
       "      s.async = false;\n",
       "      s.onreadystatechange = s.onload = function() {\n",
       "        window._bokeh_is_loading--;\n",
       "        if (window._bokeh_is_loading === 0) {\n",
       "          console.log(\"Bokeh: all BokehJS libraries loaded\");\n",
       "          run_callbacks()\n",
       "        }\n",
       "      };\n",
       "      s.onerror = function() {\n",
       "        console.warn(\"failed to load library \" + url);\n",
       "      };\n",
       "      console.log(\"Bokeh: injecting script tag for BokehJS library: \", url);\n",
       "      document.getElementsByTagName(\"head\")[0].appendChild(s);\n",
       "    }\n",
       "  };\n",
       "\n",
       "  var js_urls = ['https://cdn.pydata.org/bokeh/release/bokeh-0.12.1.min.js', 'https://cdn.pydata.org/bokeh/release/bokeh-widgets-0.12.1.min.js', 'https://cdn.pydata.org/bokeh/release/bokeh-compiler-0.12.1.min.js'];\n",
       "\n",
       "  var inline_js = [\n",
       "    function(Bokeh) {\n",
       "      Bokeh.set_log_level(\"info\");\n",
       "    },\n",
       "    \n",
       "    function(Bokeh) {\n",
       "      \n",
       "      Bokeh.$(\"#ee5bff96-f342-498a-a2d7-b19e274a8246\").text(\"BokehJS successfully loaded\");\n",
       "      var kernel = Jupyter.notebook.kernel\n",
       "      if (kernel.execute !== undefined) {\n",
       "          kernel.execute(\"import bokeh.io; bokeh.io._nb_loaded = True\");\n",
       "      }\n",
       "    },\n",
       "    function(Bokeh) {\n",
       "      console.log(\"Bokeh: injecting CSS: https://cdn.pydata.org/bokeh/release/bokeh-0.12.1.min.css\");\n",
       "      Bokeh.embed.inject_css(\"https://cdn.pydata.org/bokeh/release/bokeh-0.12.1.min.css\");\n",
       "      console.log(\"Bokeh: injecting CSS: https://cdn.pydata.org/bokeh/release/bokeh-widgets-0.12.1.min.css\");\n",
       "      Bokeh.embed.inject_css(\"https://cdn.pydata.org/bokeh/release/bokeh-widgets-0.12.1.min.css\");\n",
       "    }\n",
       "  ];\n",
       "\n",
       "  function run_inline_js() {\n",
       "    for (var i = 0; i < inline_js.length; i++) {\n",
       "      inline_js[i](window.Bokeh);\n",
       "    }\n",
       "  }\n",
       "\n",
       "  if (window._bokeh_is_loading === 0) {\n",
       "    console.log(\"Bokeh: BokehJS loaded, going straight to plotting\");\n",
       "    run_inline_js();\n",
       "  } else {\n",
       "    load_libs(js_urls, function() {\n",
       "      console.log(\"Bokeh: BokehJS plotting callback run at\", now());\n",
       "      run_inline_js();\n",
       "    });\n",
       "  }\n",
       "}(this));"
      ]
     },
     "metadata": {},
     "output_type": "display_data"
    }
   ],
   "source": [
    "from bokeh.io import output_notebook, show\n",
    "output_notebook()"
   ]
  },
  {
   "cell_type": "markdown",
   "metadata": {},
   "source": [
    "# Scatter Plot\n",
    "\n",
    "A high-level scatter plot is provided by [`bokeh.charts.Scatter`]().\n",
    "\n",
    "For this section will use the \"iris\" data set. First let's import it and take a look at a few rows:"
   ]
  },
  {
   "cell_type": "code",
   "execution_count": 2,
   "metadata": {
    "collapsed": false
   },
   "outputs": [
    {
     "data": {
      "text/html": [
       "<div>\n",
       "<table border=\"1\" class=\"dataframe\">\n",
       "  <thead>\n",
       "    <tr style=\"text-align: right;\">\n",
       "      <th></th>\n",
       "      <th>sepal_length</th>\n",
       "      <th>sepal_width</th>\n",
       "      <th>petal_length</th>\n",
       "      <th>petal_width</th>\n",
       "      <th>species</th>\n",
       "    </tr>\n",
       "  </thead>\n",
       "  <tbody>\n",
       "    <tr>\n",
       "      <th>0</th>\n",
       "      <td>5.1</td>\n",
       "      <td>3.5</td>\n",
       "      <td>1.4</td>\n",
       "      <td>0.2</td>\n",
       "      <td>setosa</td>\n",
       "    </tr>\n",
       "    <tr>\n",
       "      <th>1</th>\n",
       "      <td>4.9</td>\n",
       "      <td>3.0</td>\n",
       "      <td>1.4</td>\n",
       "      <td>0.2</td>\n",
       "      <td>setosa</td>\n",
       "    </tr>\n",
       "    <tr>\n",
       "      <th>2</th>\n",
       "      <td>4.7</td>\n",
       "      <td>3.2</td>\n",
       "      <td>1.3</td>\n",
       "      <td>0.2</td>\n",
       "      <td>setosa</td>\n",
       "    </tr>\n",
       "    <tr>\n",
       "      <th>3</th>\n",
       "      <td>4.6</td>\n",
       "      <td>3.1</td>\n",
       "      <td>1.5</td>\n",
       "      <td>0.2</td>\n",
       "      <td>setosa</td>\n",
       "    </tr>\n",
       "    <tr>\n",
       "      <th>4</th>\n",
       "      <td>5.0</td>\n",
       "      <td>3.6</td>\n",
       "      <td>1.4</td>\n",
       "      <td>0.2</td>\n",
       "      <td>setosa</td>\n",
       "    </tr>\n",
       "  </tbody>\n",
       "</table>\n",
       "</div>"
      ],
      "text/plain": [
       "   sepal_length  sepal_width  petal_length  petal_width species\n",
       "0           5.1          3.5           1.4          0.2  setosa\n",
       "1           4.9          3.0           1.4          0.2  setosa\n",
       "2           4.7          3.2           1.3          0.2  setosa\n",
       "3           4.6          3.1           1.5          0.2  setosa\n",
       "4           5.0          3.6           1.4          0.2  setosa"
      ]
     },
     "execution_count": 2,
     "metadata": {},
     "output_type": "execute_result"
    }
   ],
   "source": [
    "from bokeh.sampledata.iris import flowers\n",
    "flowers.head()"
   ]
  },
  {
   "cell_type": "code",
   "execution_count": 3,
   "metadata": {
    "collapsed": true
   },
   "outputs": [],
   "source": [
    "from bokeh.charts import Scatter"
   ]
  },
  {
   "cell_type": "markdown",
   "metadata": {},
   "source": [
    "A basic scatter chart takes the data (in this case a pandas DataFrame) as the first argument, and specifies the `x` and `y` coordinates for the scatter as the names of columns in the data."
   ]
  },
  {
   "cell_type": "code",
   "execution_count": 4,
   "metadata": {
    "collapsed": false
   },
   "outputs": [
    {
     "data": {
      "text/html": [
       "\n",
       "\n",
       "    <div class=\"bk-root\">\n",
       "        <div class=\"plotdiv\" id=\"7c916012-410c-4421-99d4-c79be9975c6b\"></div>\n",
       "    </div>\n",
       "<script type=\"text/javascript\">\n",
       "  \n",
       "  (function(global) {\n",
       "    function now() {\n",
       "      return new Date();\n",
       "    }\n",
       "  \n",
       "    var force = \"\";\n",
       "  \n",
       "    if (typeof (window._bokeh_onload_callbacks) === \"undefined\" || force !== \"\") {\n",
       "      window._bokeh_onload_callbacks = [];\n",
       "      window._bokeh_is_loading = undefined;\n",
       "    }\n",
       "  \n",
       "    function run_callbacks() {\n",
       "      window._bokeh_onload_callbacks.forEach(function(callback) { callback() });\n",
       "      delete window._bokeh_onload_callbacks\n",
       "      console.info(\"Bokeh: all callbacks have finished\");\n",
       "    }\n",
       "  \n",
       "    function load_libs(js_urls, callback) {\n",
       "      window._bokeh_onload_callbacks.push(callback);\n",
       "      if (window._bokeh_is_loading > 0) {\n",
       "        console.log(\"Bokeh: BokehJS is being loaded, scheduling callback at\", now());\n",
       "        return null;\n",
       "      }\n",
       "      if (js_urls == null || js_urls.length === 0) {\n",
       "        run_callbacks();\n",
       "        return null;\n",
       "      }\n",
       "      console.log(\"Bokeh: BokehJS not loaded, scheduling load and callback at\", now());\n",
       "      window._bokeh_is_loading = js_urls.length;\n",
       "      for (var i = 0; i < js_urls.length; i++) {\n",
       "        var url = js_urls[i];\n",
       "        var s = document.createElement('script');\n",
       "        s.src = url;\n",
       "        s.async = false;\n",
       "        s.onreadystatechange = s.onload = function() {\n",
       "          window._bokeh_is_loading--;\n",
       "          if (window._bokeh_is_loading === 0) {\n",
       "            console.log(\"Bokeh: all BokehJS libraries loaded\");\n",
       "            run_callbacks()\n",
       "          }\n",
       "        };\n",
       "        s.onerror = function() {\n",
       "          console.warn(\"failed to load library \" + url);\n",
       "        };\n",
       "        console.log(\"Bokeh: injecting script tag for BokehJS library: \", url);\n",
       "        document.getElementsByTagName(\"head\")[0].appendChild(s);\n",
       "      }\n",
       "    };var element = document.getElementById(\"7c916012-410c-4421-99d4-c79be9975c6b\");\n",
       "    if (element == null) {\n",
       "      console.log(\"Bokeh: ERROR: autoload.js configured with elementid '7c916012-410c-4421-99d4-c79be9975c6b' but no matching script tag was found. \")\n",
       "      return false;\n",
       "    }\n",
       "  \n",
       "    var js_urls = [];\n",
       "  \n",
       "    var inline_js = [\n",
       "      function(Bokeh) {\n",
       "        Bokeh.$(function() {\n",
       "            var docs_json = {\"63905332-8b62-4773-bb39-eb2f439ebca4\":{\"roots\":{\"references\":[{\"attributes\":{\"plot\":{\"id\":\"302c3e5f-994d-4bfe-9170-9140cb730ce0\",\"subtype\":\"Chart\",\"type\":\"Plot\"}},\"id\":\"040ba8bd-12d6-40cb-8d61-4adce08ff169\",\"type\":\"SaveTool\"},{\"attributes\":{\"bottom_units\":\"screen\",\"fill_alpha\":{\"value\":0.5},\"fill_color\":{\"value\":\"lightgrey\"},\"left_units\":\"screen\",\"level\":\"overlay\",\"line_alpha\":{\"value\":1.0},\"line_color\":{\"value\":\"black\"},\"line_dash\":[4,4],\"line_width\":{\"value\":2},\"plot\":null,\"render_mode\":\"css\",\"right_units\":\"screen\",\"top_units\":\"screen\"},\"id\":\"4cfb2501-4c85-4ec4-869b-91ffbf363ea2\",\"type\":\"BoxAnnotation\"},{\"attributes\":{\"plot\":{\"id\":\"302c3e5f-994d-4bfe-9170-9140cb730ce0\",\"subtype\":\"Chart\",\"type\":\"Plot\"}},\"id\":\"94e4ee32-bc2d-4489-a48c-2861704c8723\",\"type\":\"PanTool\"},{\"attributes\":{\"plot\":{\"id\":\"302c3e5f-994d-4bfe-9170-9140cb730ce0\",\"subtype\":\"Chart\",\"type\":\"Plot\"}},\"id\":\"217869e1-bdb7-4217-8d47-41e2266b4430\",\"type\":\"HelpTool\"},{\"attributes\":{\"fill_alpha\":{\"value\":0.7},\"fill_color\":{\"value\":\"#f22c40\"},\"line_color\":{\"value\":\"#f22c40\"},\"size\":{\"units\":\"screen\",\"value\":8},\"x\":{\"field\":\"x_values\"},\"y\":{\"field\":\"y_values\"}},\"id\":\"2b7d3f2b-cd8c-487e-8022-ddd8f27925bc\",\"type\":\"Circle\"},{\"attributes\":{},\"id\":\"1e8997f2-b0af-476d-96f1-b16f6f403b2e\",\"type\":\"BasicTicker\"},{\"attributes\":{\"plot\":{\"id\":\"302c3e5f-994d-4bfe-9170-9140cb730ce0\",\"subtype\":\"Chart\",\"type\":\"Plot\"}},\"id\":\"b36d8ed2-7690-4476-af3e-721d4f5b89e9\",\"type\":\"WheelZoomTool\"},{\"attributes\":{\"plot\":null,\"text\":null},\"id\":\"4cfac5eb-9499-4581-9fc5-6d2ad8135464\",\"type\":\"Title\"},{\"attributes\":{\"data_source\":{\"id\":\"7b337d97-f864-406f-b956-cf14129f0c6e\",\"type\":\"ColumnDataSource\"},\"glyph\":{\"id\":\"2b7d3f2b-cd8c-487e-8022-ddd8f27925bc\",\"type\":\"Circle\"},\"hover_glyph\":null,\"nonselection_glyph\":null,\"selection_glyph\":null},\"id\":\"9a6e5fa2-ac41-46c1-bc61-4d436e491c3c\",\"type\":\"GlyphRenderer\"},{\"attributes\":{\"plot\":{\"id\":\"302c3e5f-994d-4bfe-9170-9140cb730ce0\",\"subtype\":\"Chart\",\"type\":\"Plot\"}},\"id\":\"c9e606b0-c0ee-4e1b-b58c-458727458a10\",\"type\":\"ResetTool\"},{\"attributes\":{},\"id\":\"4f14a81f-b817-41ca-9ad9-5d3a7c776030\",\"type\":\"BasicTicker\"},{\"attributes\":{\"callback\":null,\"column_names\":[\"x_values\",\"y_values\"],\"data\":{\"chart_index\":[null,null,null,null,null,null,null,null,null,null,null,null,null,null,null,null,null,null,null,null,null,null,null,null,null,null,null,null,null,null,null,null,null,null,null,null,null,null,null,null,null,null,null,null,null,null,null,null,null,null,null,null,null,null,null,null,null,null,null,null,null,null,null,null,null,null,null,null,null,null,null,null,null,null,null,null,null,null,null,null,null,null,null,null,null,null,null,null,null,null,null,null,null,null,null,null,null,null,null,null,null,null,null,null,null,null,null,null,null,null,null,null,null,null,null,null,null,null,null,null,null,null,null,null,null,null,null,null,null,null,null,null,null,null,null,null,null,null,null,null,null,null,null,null,null,null,null,null,null,null],\"x_values\":[1.4,1.4,1.3,1.5,1.4,1.7,1.4,1.5,1.4,1.5,1.5,1.6,1.4,1.1,1.2,1.5,1.3,1.4,1.7,1.5,1.7,1.5,1.0,1.7,1.9,1.6,1.6,1.5,1.4,1.6,1.6,1.5,1.5,1.4,1.5,1.2,1.3,1.4,1.3,1.5,1.3,1.3,1.3,1.6,1.9,1.4,1.6,1.4,1.5,1.4,4.7,4.5,4.9,4.0,4.6,4.5,4.7,3.3,4.6,3.9,3.5,4.2,4.0,4.7,3.6,4.4,4.5,4.1,4.5,3.9,4.8,4.0,4.9,4.7,4.3,4.4,4.8,5.0,4.5,3.5,3.8,3.7,3.9,5.1,4.5,4.5,4.7,4.4,4.1,4.0,4.4,4.6,4.0,3.3,4.2,4.2,4.2,4.3,3.0,4.1,6.0,5.1,5.9,5.6,5.8,6.6,4.5,6.3,5.8,6.1,5.1,5.3,5.5,5.0,5.1,5.3,5.5,6.7,6.9,5.0,5.7,4.9,6.7,4.9,5.7,6.0,4.8,4.9,5.6,5.8,6.1,6.4,5.6,5.1,5.6,6.1,5.6,5.5,4.8,5.4,5.6,5.1,5.1,5.9,5.7,5.2,5.0,5.2,5.4,5.1],\"y_values\":[0.2,0.2,0.2,0.2,0.2,0.4,0.3,0.2,0.2,0.1,0.2,0.2,0.1,0.1,0.2,0.4,0.4,0.3,0.3,0.3,0.2,0.4,0.2,0.5,0.2,0.2,0.4,0.2,0.2,0.2,0.2,0.4,0.1,0.2,0.2,0.2,0.2,0.1,0.2,0.2,0.3,0.3,0.2,0.6,0.4,0.3,0.2,0.2,0.2,0.2,1.4,1.5,1.5,1.3,1.5,1.3,1.6,1.0,1.3,1.4,1.0,1.5,1.0,1.4,1.3,1.4,1.5,1.0,1.5,1.1,1.8,1.3,1.5,1.2,1.3,1.4,1.4,1.7,1.5,1.0,1.1,1.0,1.2,1.6,1.5,1.6,1.5,1.3,1.3,1.3,1.2,1.4,1.2,1.0,1.3,1.2,1.3,1.3,1.1,1.3,2.5,1.9,2.1,1.8,2.2,2.1,1.7,1.8,1.8,2.5,2.0,1.9,2.1,2.0,2.4,2.3,1.8,2.2,2.3,1.5,2.3,2.0,2.0,1.8,2.1,1.8,1.8,1.8,2.1,1.6,1.9,2.0,2.2,1.5,1.4,2.3,2.4,1.8,1.8,2.1,2.4,2.3,1.9,2.3,2.5,2.3,1.9,2.0,2.3,1.8]}},\"id\":\"7b337d97-f864-406f-b956-cf14129f0c6e\",\"type\":\"ColumnDataSource\"},{\"attributes\":{},\"id\":\"300c462b-a604-415a-9108-80a57c5da529\",\"type\":\"BasicTickFormatter\"},{\"attributes\":{\"callback\":null,\"end\":2.74,\"start\":-0.13999999999999999},\"id\":\"881c3bd6-ec60-42cd-9a6f-ce495cf4848c\",\"type\":\"Range1d\"},{\"attributes\":{\"axis_label\":\"petal_width\",\"formatter\":{\"id\":\"9f34fcad-4d31-42f7-99c7-a8feac75551a\",\"type\":\"BasicTickFormatter\"},\"plot\":{\"id\":\"302c3e5f-994d-4bfe-9170-9140cb730ce0\",\"subtype\":\"Chart\",\"type\":\"Plot\"},\"ticker\":{\"id\":\"4f14a81f-b817-41ca-9ad9-5d3a7c776030\",\"type\":\"BasicTicker\"}},\"id\":\"495c7c7a-5c0f-4132-83aa-43fcb08c9be2\",\"type\":\"LinearAxis\"},{\"attributes\":{\"below\":[{\"id\":\"2d679b4f-d0bb-4e54-910f-c65608f84645\",\"type\":\"LinearAxis\"}],\"left\":[{\"id\":\"495c7c7a-5c0f-4132-83aa-43fcb08c9be2\",\"type\":\"LinearAxis\"}],\"renderers\":[{\"id\":\"4cfb2501-4c85-4ec4-869b-91ffbf363ea2\",\"type\":\"BoxAnnotation\"},{\"id\":\"9a6e5fa2-ac41-46c1-bc61-4d436e491c3c\",\"type\":\"GlyphRenderer\"},{\"id\":\"9305cbe0-7876-48bd-9055-0bf9c9b93a73\",\"type\":\"Legend\"},{\"id\":\"2d679b4f-d0bb-4e54-910f-c65608f84645\",\"type\":\"LinearAxis\"},{\"id\":\"495c7c7a-5c0f-4132-83aa-43fcb08c9be2\",\"type\":\"LinearAxis\"},{\"id\":\"9de69ce8-3aa5-47ac-8b6d-1bb12bb9dc90\",\"type\":\"Grid\"},{\"id\":\"7daab9c3-678b-448f-a175-e815d602c333\",\"type\":\"Grid\"}],\"title\":{\"id\":\"4cfac5eb-9499-4581-9fc5-6d2ad8135464\",\"type\":\"Title\"},\"tool_events\":{\"id\":\"6263b583-31d0-4715-97f9-2cbddfa2af90\",\"type\":\"ToolEvents\"},\"toolbar\":{\"id\":\"23f6bcfe-dc7d-48df-a180-db66e4a270f8\",\"type\":\"Toolbar\"},\"x_mapper_type\":\"auto\",\"x_range\":{\"id\":\"c8890618-cc4c-462a-8468-8961a798640d\",\"type\":\"Range1d\"},\"y_mapper_type\":\"auto\",\"y_range\":{\"id\":\"881c3bd6-ec60-42cd-9a6f-ce495cf4848c\",\"type\":\"Range1d\"}},\"id\":\"302c3e5f-994d-4bfe-9170-9140cb730ce0\",\"subtype\":\"Chart\",\"type\":\"Plot\"},{\"attributes\":{\"location\":\"top_left\",\"plot\":{\"id\":\"302c3e5f-994d-4bfe-9170-9140cb730ce0\",\"subtype\":\"Chart\",\"type\":\"Plot\"}},\"id\":\"9305cbe0-7876-48bd-9055-0bf9c9b93a73\",\"type\":\"Legend\"},{\"attributes\":{\"axis_label\":\"petal_length\",\"formatter\":{\"id\":\"300c462b-a604-415a-9108-80a57c5da529\",\"type\":\"BasicTickFormatter\"},\"plot\":{\"id\":\"302c3e5f-994d-4bfe-9170-9140cb730ce0\",\"subtype\":\"Chart\",\"type\":\"Plot\"},\"ticker\":{\"id\":\"1e8997f2-b0af-476d-96f1-b16f6f403b2e\",\"type\":\"BasicTicker\"}},\"id\":\"2d679b4f-d0bb-4e54-910f-c65608f84645\",\"type\":\"LinearAxis\"},{\"attributes\":{\"callback\":null,\"end\":7.49,\"start\":0.4099999999999999},\"id\":\"c8890618-cc4c-462a-8468-8961a798640d\",\"type\":\"Range1d\"},{\"attributes\":{},\"id\":\"9f34fcad-4d31-42f7-99c7-a8feac75551a\",\"type\":\"BasicTickFormatter\"},{\"attributes\":{\"overlay\":{\"id\":\"4cfb2501-4c85-4ec4-869b-91ffbf363ea2\",\"type\":\"BoxAnnotation\"},\"plot\":{\"id\":\"302c3e5f-994d-4bfe-9170-9140cb730ce0\",\"subtype\":\"Chart\",\"type\":\"Plot\"}},\"id\":\"84cf8237-a978-42e7-82b5-67054271eb1e\",\"type\":\"BoxZoomTool\"},{\"attributes\":{},\"id\":\"6263b583-31d0-4715-97f9-2cbddfa2af90\",\"type\":\"ToolEvents\"},{\"attributes\":{\"active_drag\":\"auto\",\"active_scroll\":\"auto\",\"active_tap\":\"auto\",\"tools\":[{\"id\":\"94e4ee32-bc2d-4489-a48c-2861704c8723\",\"type\":\"PanTool\"},{\"id\":\"b36d8ed2-7690-4476-af3e-721d4f5b89e9\",\"type\":\"WheelZoomTool\"},{\"id\":\"84cf8237-a978-42e7-82b5-67054271eb1e\",\"type\":\"BoxZoomTool\"},{\"id\":\"040ba8bd-12d6-40cb-8d61-4adce08ff169\",\"type\":\"SaveTool\"},{\"id\":\"c9e606b0-c0ee-4e1b-b58c-458727458a10\",\"type\":\"ResetTool\"},{\"id\":\"217869e1-bdb7-4217-8d47-41e2266b4430\",\"type\":\"HelpTool\"}]},\"id\":\"23f6bcfe-dc7d-48df-a180-db66e4a270f8\",\"type\":\"Toolbar\"},{\"attributes\":{\"plot\":{\"id\":\"302c3e5f-994d-4bfe-9170-9140cb730ce0\",\"subtype\":\"Chart\",\"type\":\"Plot\"},\"ticker\":{\"id\":\"1e8997f2-b0af-476d-96f1-b16f6f403b2e\",\"type\":\"BasicTicker\"}},\"id\":\"9de69ce8-3aa5-47ac-8b6d-1bb12bb9dc90\",\"type\":\"Grid\"},{\"attributes\":{\"dimension\":1,\"plot\":{\"id\":\"302c3e5f-994d-4bfe-9170-9140cb730ce0\",\"subtype\":\"Chart\",\"type\":\"Plot\"},\"ticker\":{\"id\":\"4f14a81f-b817-41ca-9ad9-5d3a7c776030\",\"type\":\"BasicTicker\"}},\"id\":\"7daab9c3-678b-448f-a175-e815d602c333\",\"type\":\"Grid\"}],\"root_ids\":[\"302c3e5f-994d-4bfe-9170-9140cb730ce0\"]},\"title\":\"Bokeh Application\",\"version\":\"0.12.1\"}};\n",
       "            var render_items = [{\"docid\":\"63905332-8b62-4773-bb39-eb2f439ebca4\",\"elementid\":\"7c916012-410c-4421-99d4-c79be9975c6b\",\"modelid\":\"302c3e5f-994d-4bfe-9170-9140cb730ce0\",\"notebook_comms_target\":\"5c123653-464f-4007-9487-cebe2425b23d\"}];\n",
       "            \n",
       "            Bokeh.embed.embed_items(docs_json, render_items);\n",
       "        });\n",
       "      },\n",
       "      function(Bokeh) {\n",
       "      }\n",
       "    ];\n",
       "  \n",
       "    function run_inline_js() {\n",
       "      for (var i = 0; i < inline_js.length; i++) {\n",
       "        inline_js[i](window.Bokeh);\n",
       "      }\n",
       "    }\n",
       "  \n",
       "    if (window._bokeh_is_loading === 0) {\n",
       "      console.log(\"Bokeh: BokehJS loaded, going straight to plotting\");\n",
       "      run_inline_js();\n",
       "    } else {\n",
       "      load_libs(js_urls, function() {\n",
       "        console.log(\"Bokeh: BokehJS plotting callback run at\", now());\n",
       "        run_inline_js();\n",
       "      });\n",
       "    }\n",
       "  }(this));\n",
       "</script>"
      ]
     },
     "metadata": {},
     "output_type": "display_data"
    },
    {
     "data": {
      "text/html": [
       "<p><code>&lt;Bokeh Notebook handle for <strong>In[4]</strong>&gt;</code></p>"
      ],
      "text/plain": [
       "<bokeh.io._CommsHandle at 0x1133c3090>"
      ]
     },
     "execution_count": 4,
     "metadata": {},
     "output_type": "execute_result"
    }
   ],
   "source": [
    "p = Scatter(flowers, x='petal_length', y='petal_width')\n",
    "show(p)"
   ]
  },
  {
   "cell_type": "markdown",
   "metadata": {},
   "source": [
    "By passing a column name for the `color` parameter, you can make `Scatter` automatically color the markers according to the groups in that column. Let's also add a legend by specify its location as the value of a `legend` paramter (in this case `\"top_left\"`)"
   ]
  },
  {
   "cell_type": "code",
   "execution_count": 5,
   "metadata": {
    "collapsed": false
   },
   "outputs": [
    {
     "data": {
      "text/html": [
       "\n",
       "\n",
       "    <div class=\"bk-root\">\n",
       "        <div class=\"plotdiv\" id=\"14f9288e-1c5a-4a3b-83ba-8443db54ebcd\"></div>\n",
       "    </div>\n",
       "<script type=\"text/javascript\">\n",
       "  \n",
       "  (function(global) {\n",
       "    function now() {\n",
       "      return new Date();\n",
       "    }\n",
       "  \n",
       "    var force = \"\";\n",
       "  \n",
       "    if (typeof (window._bokeh_onload_callbacks) === \"undefined\" || force !== \"\") {\n",
       "      window._bokeh_onload_callbacks = [];\n",
       "      window._bokeh_is_loading = undefined;\n",
       "    }\n",
       "  \n",
       "    function run_callbacks() {\n",
       "      window._bokeh_onload_callbacks.forEach(function(callback) { callback() });\n",
       "      delete window._bokeh_onload_callbacks\n",
       "      console.info(\"Bokeh: all callbacks have finished\");\n",
       "    }\n",
       "  \n",
       "    function load_libs(js_urls, callback) {\n",
       "      window._bokeh_onload_callbacks.push(callback);\n",
       "      if (window._bokeh_is_loading > 0) {\n",
       "        console.log(\"Bokeh: BokehJS is being loaded, scheduling callback at\", now());\n",
       "        return null;\n",
       "      }\n",
       "      if (js_urls == null || js_urls.length === 0) {\n",
       "        run_callbacks();\n",
       "        return null;\n",
       "      }\n",
       "      console.log(\"Bokeh: BokehJS not loaded, scheduling load and callback at\", now());\n",
       "      window._bokeh_is_loading = js_urls.length;\n",
       "      for (var i = 0; i < js_urls.length; i++) {\n",
       "        var url = js_urls[i];\n",
       "        var s = document.createElement('script');\n",
       "        s.src = url;\n",
       "        s.async = false;\n",
       "        s.onreadystatechange = s.onload = function() {\n",
       "          window._bokeh_is_loading--;\n",
       "          if (window._bokeh_is_loading === 0) {\n",
       "            console.log(\"Bokeh: all BokehJS libraries loaded\");\n",
       "            run_callbacks()\n",
       "          }\n",
       "        };\n",
       "        s.onerror = function() {\n",
       "          console.warn(\"failed to load library \" + url);\n",
       "        };\n",
       "        console.log(\"Bokeh: injecting script tag for BokehJS library: \", url);\n",
       "        document.getElementsByTagName(\"head\")[0].appendChild(s);\n",
       "      }\n",
       "    };var element = document.getElementById(\"14f9288e-1c5a-4a3b-83ba-8443db54ebcd\");\n",
       "    if (element == null) {\n",
       "      console.log(\"Bokeh: ERROR: autoload.js configured with elementid '14f9288e-1c5a-4a3b-83ba-8443db54ebcd' but no matching script tag was found. \")\n",
       "      return false;\n",
       "    }\n",
       "  \n",
       "    var js_urls = [];\n",
       "  \n",
       "    var inline_js = [\n",
       "      function(Bokeh) {\n",
       "        Bokeh.$(function() {\n",
       "            var docs_json = {\"598f4517-e7f0-4526-aa5b-ba4e1074bd88\":{\"roots\":{\"references\":[{\"attributes\":{},\"id\":\"ff894433-b5a0-4524-b2fc-9454f12a7888\",\"type\":\"BasicTicker\"},{\"attributes\":{\"fill_alpha\":{\"value\":0.7},\"fill_color\":{\"value\":\"#5ab738\"},\"line_color\":{\"value\":\"#5ab738\"},\"size\":{\"units\":\"screen\",\"value\":8},\"x\":{\"field\":\"x_values\"},\"y\":{\"field\":\"y_values\"}},\"id\":\"fda4e79f-50f0-4f86-abb0-a7ff47f97bad\",\"type\":\"Circle\"},{\"attributes\":{\"legends\":[[\"setosa\",[{\"id\":\"03c5a2af-c89e-47ef-806e-514d45a2b6a8\",\"type\":\"GlyphRenderer\"}]],[\"versicolor\",[{\"id\":\"1eb8a8d1-9f95-445c-8220-fd7bca887cf6\",\"type\":\"GlyphRenderer\"}]],[\"virginica\",[{\"id\":\"9b4a949b-feae-4a58-b06e-dc6f1fabab3f\",\"type\":\"GlyphRenderer\"}]]],\"location\":\"top_left\",\"plot\":{\"id\":\"051a62e9-204a-4670-b4b8-a3de79994eb2\",\"subtype\":\"Chart\",\"type\":\"Plot\"}},\"id\":\"73055d48-8512-416f-994d-7b12a89d5d4c\",\"type\":\"Legend\"},{\"attributes\":{\"axis_label\":\"petal_width\",\"formatter\":{\"id\":\"e322b212-e19e-4f38-b4ca-75c50e1847c7\",\"type\":\"BasicTickFormatter\"},\"plot\":{\"id\":\"051a62e9-204a-4670-b4b8-a3de79994eb2\",\"subtype\":\"Chart\",\"type\":\"Plot\"},\"ticker\":{\"id\":\"e214d2f2-1239-4386-90e7-71936eb9b706\",\"type\":\"BasicTicker\"}},\"id\":\"80cdd0db-dc4a-4205-9772-fb0b2a478fc7\",\"type\":\"LinearAxis\"},{\"attributes\":{\"dimension\":1,\"plot\":{\"id\":\"051a62e9-204a-4670-b4b8-a3de79994eb2\",\"subtype\":\"Chart\",\"type\":\"Plot\"},\"ticker\":{\"id\":\"e214d2f2-1239-4386-90e7-71936eb9b706\",\"type\":\"BasicTicker\"}},\"id\":\"d2f070a2-5c41-43c5-a45f-0cb25f3a5344\",\"type\":\"Grid\"},{\"attributes\":{\"callback\":null,\"end\":2.74,\"start\":-0.13999999999999999},\"id\":\"fdefca41-e3cc-4959-b617-2b276ca06ee2\",\"type\":\"Range1d\"},{\"attributes\":{\"plot\":null,\"text\":null},\"id\":\"0568fac3-34e7-472e-b277-ef2941429b0b\",\"type\":\"Title\"},{\"attributes\":{\"plot\":{\"id\":\"051a62e9-204a-4670-b4b8-a3de79994eb2\",\"subtype\":\"Chart\",\"type\":\"Plot\"}},\"id\":\"3db8df91-5e63-45c2-966e-8bdbee639f5f\",\"type\":\"SaveTool\"},{\"attributes\":{\"data_source\":{\"id\":\"6c4e4968-ab89-491e-98e7-20a61ae2f9f9\",\"type\":\"ColumnDataSource\"},\"glyph\":{\"id\":\"fec6ad86-606e-4d22-9e06-02997e90d821\",\"type\":\"Circle\"},\"hover_glyph\":null,\"nonselection_glyph\":null,\"selection_glyph\":null},\"id\":\"9b4a949b-feae-4a58-b06e-dc6f1fabab3f\",\"type\":\"GlyphRenderer\"},{\"attributes\":{\"plot\":{\"id\":\"051a62e9-204a-4670-b4b8-a3de79994eb2\",\"subtype\":\"Chart\",\"type\":\"Plot\"}},\"id\":\"9294cdba-2e6d-4377-a78e-415c9bf39f8a\",\"type\":\"WheelZoomTool\"},{\"attributes\":{\"callback\":null,\"column_names\":[\"x_values\",\"y_values\"],\"data\":{\"chart_index\":[{\"species\":\"virginica\"},{\"species\":\"virginica\"},{\"species\":\"virginica\"},{\"species\":\"virginica\"},{\"species\":\"virginica\"},{\"species\":\"virginica\"},{\"species\":\"virginica\"},{\"species\":\"virginica\"},{\"species\":\"virginica\"},{\"species\":\"virginica\"},{\"species\":\"virginica\"},{\"species\":\"virginica\"},{\"species\":\"virginica\"},{\"species\":\"virginica\"},{\"species\":\"virginica\"},{\"species\":\"virginica\"},{\"species\":\"virginica\"},{\"species\":\"virginica\"},{\"species\":\"virginica\"},{\"species\":\"virginica\"},{\"species\":\"virginica\"},{\"species\":\"virginica\"},{\"species\":\"virginica\"},{\"species\":\"virginica\"},{\"species\":\"virginica\"},{\"species\":\"virginica\"},{\"species\":\"virginica\"},{\"species\":\"virginica\"},{\"species\":\"virginica\"},{\"species\":\"virginica\"},{\"species\":\"virginica\"},{\"species\":\"virginica\"},{\"species\":\"virginica\"},{\"species\":\"virginica\"},{\"species\":\"virginica\"},{\"species\":\"virginica\"},{\"species\":\"virginica\"},{\"species\":\"virginica\"},{\"species\":\"virginica\"},{\"species\":\"virginica\"},{\"species\":\"virginica\"},{\"species\":\"virginica\"},{\"species\":\"virginica\"},{\"species\":\"virginica\"},{\"species\":\"virginica\"},{\"species\":\"virginica\"},{\"species\":\"virginica\"},{\"species\":\"virginica\"},{\"species\":\"virginica\"},{\"species\":\"virginica\"}],\"species\":[\"virginica\",\"virginica\",\"virginica\",\"virginica\",\"virginica\",\"virginica\",\"virginica\",\"virginica\",\"virginica\",\"virginica\",\"virginica\",\"virginica\",\"virginica\",\"virginica\",\"virginica\",\"virginica\",\"virginica\",\"virginica\",\"virginica\",\"virginica\",\"virginica\",\"virginica\",\"virginica\",\"virginica\",\"virginica\",\"virginica\",\"virginica\",\"virginica\",\"virginica\",\"virginica\",\"virginica\",\"virginica\",\"virginica\",\"virginica\",\"virginica\",\"virginica\",\"virginica\",\"virginica\",\"virginica\",\"virginica\",\"virginica\",\"virginica\",\"virginica\",\"virginica\",\"virginica\",\"virginica\",\"virginica\",\"virginica\",\"virginica\",\"virginica\"],\"x_values\":[6.0,5.1,5.9,5.6,5.8,6.6,4.5,6.3,5.8,6.1,5.1,5.3,5.5,5.0,5.1,5.3,5.5,6.7,6.9,5.0,5.7,4.9,6.7,4.9,5.7,6.0,4.8,4.9,5.6,5.8,6.1,6.4,5.6,5.1,5.6,6.1,5.6,5.5,4.8,5.4,5.6,5.1,5.1,5.9,5.7,5.2,5.0,5.2,5.4,5.1],\"y_values\":[2.5,1.9,2.1,1.8,2.2,2.1,1.7,1.8,1.8,2.5,2.0,1.9,2.1,2.0,2.4,2.3,1.8,2.2,2.3,1.5,2.3,2.0,2.0,1.8,2.1,1.8,1.8,1.8,2.1,1.6,1.9,2.0,2.2,1.5,1.4,2.3,2.4,1.8,1.8,2.1,2.4,2.3,1.9,2.3,2.5,2.3,1.9,2.0,2.3,1.8]}},\"id\":\"6c4e4968-ab89-491e-98e7-20a61ae2f9f9\",\"type\":\"ColumnDataSource\"},{\"attributes\":{\"callback\":null,\"column_names\":[\"x_values\",\"y_values\"],\"data\":{\"chart_index\":[{\"species\":\"versicolor\"},{\"species\":\"versicolor\"},{\"species\":\"versicolor\"},{\"species\":\"versicolor\"},{\"species\":\"versicolor\"},{\"species\":\"versicolor\"},{\"species\":\"versicolor\"},{\"species\":\"versicolor\"},{\"species\":\"versicolor\"},{\"species\":\"versicolor\"},{\"species\":\"versicolor\"},{\"species\":\"versicolor\"},{\"species\":\"versicolor\"},{\"species\":\"versicolor\"},{\"species\":\"versicolor\"},{\"species\":\"versicolor\"},{\"species\":\"versicolor\"},{\"species\":\"versicolor\"},{\"species\":\"versicolor\"},{\"species\":\"versicolor\"},{\"species\":\"versicolor\"},{\"species\":\"versicolor\"},{\"species\":\"versicolor\"},{\"species\":\"versicolor\"},{\"species\":\"versicolor\"},{\"species\":\"versicolor\"},{\"species\":\"versicolor\"},{\"species\":\"versicolor\"},{\"species\":\"versicolor\"},{\"species\":\"versicolor\"},{\"species\":\"versicolor\"},{\"species\":\"versicolor\"},{\"species\":\"versicolor\"},{\"species\":\"versicolor\"},{\"species\":\"versicolor\"},{\"species\":\"versicolor\"},{\"species\":\"versicolor\"},{\"species\":\"versicolor\"},{\"species\":\"versicolor\"},{\"species\":\"versicolor\"},{\"species\":\"versicolor\"},{\"species\":\"versicolor\"},{\"species\":\"versicolor\"},{\"species\":\"versicolor\"},{\"species\":\"versicolor\"},{\"species\":\"versicolor\"},{\"species\":\"versicolor\"},{\"species\":\"versicolor\"},{\"species\":\"versicolor\"},{\"species\":\"versicolor\"}],\"species\":[\"versicolor\",\"versicolor\",\"versicolor\",\"versicolor\",\"versicolor\",\"versicolor\",\"versicolor\",\"versicolor\",\"versicolor\",\"versicolor\",\"versicolor\",\"versicolor\",\"versicolor\",\"versicolor\",\"versicolor\",\"versicolor\",\"versicolor\",\"versicolor\",\"versicolor\",\"versicolor\",\"versicolor\",\"versicolor\",\"versicolor\",\"versicolor\",\"versicolor\",\"versicolor\",\"versicolor\",\"versicolor\",\"versicolor\",\"versicolor\",\"versicolor\",\"versicolor\",\"versicolor\",\"versicolor\",\"versicolor\",\"versicolor\",\"versicolor\",\"versicolor\",\"versicolor\",\"versicolor\",\"versicolor\",\"versicolor\",\"versicolor\",\"versicolor\",\"versicolor\",\"versicolor\",\"versicolor\",\"versicolor\",\"versicolor\",\"versicolor\"],\"x_values\":[4.7,4.5,4.9,4.0,4.6,4.5,4.7,3.3,4.6,3.9,3.5,4.2,4.0,4.7,3.6,4.4,4.5,4.1,4.5,3.9,4.8,4.0,4.9,4.7,4.3,4.4,4.8,5.0,4.5,3.5,3.8,3.7,3.9,5.1,4.5,4.5,4.7,4.4,4.1,4.0,4.4,4.6,4.0,3.3,4.2,4.2,4.2,4.3,3.0,4.1],\"y_values\":[1.4,1.5,1.5,1.3,1.5,1.3,1.6,1.0,1.3,1.4,1.0,1.5,1.0,1.4,1.3,1.4,1.5,1.0,1.5,1.1,1.8,1.3,1.5,1.2,1.3,1.4,1.4,1.7,1.5,1.0,1.1,1.0,1.2,1.6,1.5,1.6,1.5,1.3,1.3,1.3,1.2,1.4,1.2,1.0,1.3,1.2,1.3,1.3,1.1,1.3]}},\"id\":\"54fded62-c75b-4436-80a8-6ae3350ad60f\",\"type\":\"ColumnDataSource\"},{\"attributes\":{\"data_source\":{\"id\":\"4d18bcb0-b13c-415d-b3fc-ca42a3189d69\",\"type\":\"ColumnDataSource\"},\"glyph\":{\"id\":\"0058b2de-1a37-42ce-97bf-0d9e60cc581f\",\"type\":\"Circle\"},\"hover_glyph\":null,\"nonselection_glyph\":null,\"selection_glyph\":null},\"id\":\"03c5a2af-c89e-47ef-806e-514d45a2b6a8\",\"type\":\"GlyphRenderer\"},{\"attributes\":{\"active_drag\":\"auto\",\"active_scroll\":\"auto\",\"active_tap\":\"auto\",\"tools\":[{\"id\":\"c207cfd3-7205-4d41-98cc-019c7807abd3\",\"type\":\"PanTool\"},{\"id\":\"9294cdba-2e6d-4377-a78e-415c9bf39f8a\",\"type\":\"WheelZoomTool\"},{\"id\":\"0ce3beed-8262-4c88-a5be-6acdf8cfa1f6\",\"type\":\"BoxZoomTool\"},{\"id\":\"3db8df91-5e63-45c2-966e-8bdbee639f5f\",\"type\":\"SaveTool\"},{\"id\":\"22b51ac3-ae50-426c-9401-3fb14e7d0a8f\",\"type\":\"ResetTool\"},{\"id\":\"be2a82ae-466d-4337-bc19-65169e6f12ea\",\"type\":\"HelpTool\"}]},\"id\":\"5448e393-7eb9-437b-9bb4-6fed72276183\",\"type\":\"Toolbar\"},{\"attributes\":{\"axis_label\":\"petal_length\",\"formatter\":{\"id\":\"fe1e6284-1fb1-4f66-b1f5-f370d42340fd\",\"type\":\"BasicTickFormatter\"},\"plot\":{\"id\":\"051a62e9-204a-4670-b4b8-a3de79994eb2\",\"subtype\":\"Chart\",\"type\":\"Plot\"},\"ticker\":{\"id\":\"ff894433-b5a0-4524-b2fc-9454f12a7888\",\"type\":\"BasicTicker\"}},\"id\":\"888f5510-6d90-4485-b78e-74c1293fd75c\",\"type\":\"LinearAxis\"},{\"attributes\":{},\"id\":\"fe1e6284-1fb1-4f66-b1f5-f370d42340fd\",\"type\":\"BasicTickFormatter\"},{\"attributes\":{\"callback\":null,\"column_names\":[\"x_values\",\"y_values\"],\"data\":{\"chart_index\":[{\"species\":\"setosa\"},{\"species\":\"setosa\"},{\"species\":\"setosa\"},{\"species\":\"setosa\"},{\"species\":\"setosa\"},{\"species\":\"setosa\"},{\"species\":\"setosa\"},{\"species\":\"setosa\"},{\"species\":\"setosa\"},{\"species\":\"setosa\"},{\"species\":\"setosa\"},{\"species\":\"setosa\"},{\"species\":\"setosa\"},{\"species\":\"setosa\"},{\"species\":\"setosa\"},{\"species\":\"setosa\"},{\"species\":\"setosa\"},{\"species\":\"setosa\"},{\"species\":\"setosa\"},{\"species\":\"setosa\"},{\"species\":\"setosa\"},{\"species\":\"setosa\"},{\"species\":\"setosa\"},{\"species\":\"setosa\"},{\"species\":\"setosa\"},{\"species\":\"setosa\"},{\"species\":\"setosa\"},{\"species\":\"setosa\"},{\"species\":\"setosa\"},{\"species\":\"setosa\"},{\"species\":\"setosa\"},{\"species\":\"setosa\"},{\"species\":\"setosa\"},{\"species\":\"setosa\"},{\"species\":\"setosa\"},{\"species\":\"setosa\"},{\"species\":\"setosa\"},{\"species\":\"setosa\"},{\"species\":\"setosa\"},{\"species\":\"setosa\"},{\"species\":\"setosa\"},{\"species\":\"setosa\"},{\"species\":\"setosa\"},{\"species\":\"setosa\"},{\"species\":\"setosa\"},{\"species\":\"setosa\"},{\"species\":\"setosa\"},{\"species\":\"setosa\"},{\"species\":\"setosa\"},{\"species\":\"setosa\"}],\"species\":[\"setosa\",\"setosa\",\"setosa\",\"setosa\",\"setosa\",\"setosa\",\"setosa\",\"setosa\",\"setosa\",\"setosa\",\"setosa\",\"setosa\",\"setosa\",\"setosa\",\"setosa\",\"setosa\",\"setosa\",\"setosa\",\"setosa\",\"setosa\",\"setosa\",\"setosa\",\"setosa\",\"setosa\",\"setosa\",\"setosa\",\"setosa\",\"setosa\",\"setosa\",\"setosa\",\"setosa\",\"setosa\",\"setosa\",\"setosa\",\"setosa\",\"setosa\",\"setosa\",\"setosa\",\"setosa\",\"setosa\",\"setosa\",\"setosa\",\"setosa\",\"setosa\",\"setosa\",\"setosa\",\"setosa\",\"setosa\",\"setosa\",\"setosa\"],\"x_values\":[1.4,1.4,1.3,1.5,1.4,1.7,1.4,1.5,1.4,1.5,1.5,1.6,1.4,1.1,1.2,1.5,1.3,1.4,1.7,1.5,1.7,1.5,1.0,1.7,1.9,1.6,1.6,1.5,1.4,1.6,1.6,1.5,1.5,1.4,1.5,1.2,1.3,1.4,1.3,1.5,1.3,1.3,1.3,1.6,1.9,1.4,1.6,1.4,1.5,1.4],\"y_values\":[0.2,0.2,0.2,0.2,0.2,0.4,0.3,0.2,0.2,0.1,0.2,0.2,0.1,0.1,0.2,0.4,0.4,0.3,0.3,0.3,0.2,0.4,0.2,0.5,0.2,0.2,0.4,0.2,0.2,0.2,0.2,0.4,0.1,0.2,0.2,0.2,0.2,0.1,0.2,0.2,0.3,0.3,0.2,0.6,0.4,0.3,0.2,0.2,0.2,0.2]}},\"id\":\"4d18bcb0-b13c-415d-b3fc-ca42a3189d69\",\"type\":\"ColumnDataSource\"},{\"attributes\":{\"below\":[{\"id\":\"888f5510-6d90-4485-b78e-74c1293fd75c\",\"type\":\"LinearAxis\"}],\"left\":[{\"id\":\"80cdd0db-dc4a-4205-9772-fb0b2a478fc7\",\"type\":\"LinearAxis\"}],\"renderers\":[{\"id\":\"85a6383f-b204-4d15-aaab-3fa45dfee39c\",\"type\":\"BoxAnnotation\"},{\"id\":\"03c5a2af-c89e-47ef-806e-514d45a2b6a8\",\"type\":\"GlyphRenderer\"},{\"id\":\"1eb8a8d1-9f95-445c-8220-fd7bca887cf6\",\"type\":\"GlyphRenderer\"},{\"id\":\"9b4a949b-feae-4a58-b06e-dc6f1fabab3f\",\"type\":\"GlyphRenderer\"},{\"id\":\"73055d48-8512-416f-994d-7b12a89d5d4c\",\"type\":\"Legend\"},{\"id\":\"888f5510-6d90-4485-b78e-74c1293fd75c\",\"type\":\"LinearAxis\"},{\"id\":\"80cdd0db-dc4a-4205-9772-fb0b2a478fc7\",\"type\":\"LinearAxis\"},{\"id\":\"8c5fb5bd-c28b-44f5-82e7-330146115c6f\",\"type\":\"Grid\"},{\"id\":\"d2f070a2-5c41-43c5-a45f-0cb25f3a5344\",\"type\":\"Grid\"}],\"title\":{\"id\":\"0568fac3-34e7-472e-b277-ef2941429b0b\",\"type\":\"Title\"},\"tool_events\":{\"id\":\"01ddca7f-8c5e-4263-a59c-7f5f5b3090fa\",\"type\":\"ToolEvents\"},\"toolbar\":{\"id\":\"5448e393-7eb9-437b-9bb4-6fed72276183\",\"type\":\"Toolbar\"},\"x_mapper_type\":\"auto\",\"x_range\":{\"id\":\"4c35cdd9-116e-415f-b869-1cba90351503\",\"type\":\"Range1d\"},\"y_mapper_type\":\"auto\",\"y_range\":{\"id\":\"fdefca41-e3cc-4959-b617-2b276ca06ee2\",\"type\":\"Range1d\"}},\"id\":\"051a62e9-204a-4670-b4b8-a3de79994eb2\",\"subtype\":\"Chart\",\"type\":\"Plot\"},{\"attributes\":{\"plot\":{\"id\":\"051a62e9-204a-4670-b4b8-a3de79994eb2\",\"subtype\":\"Chart\",\"type\":\"Plot\"}},\"id\":\"22b51ac3-ae50-426c-9401-3fb14e7d0a8f\",\"type\":\"ResetTool\"},{\"attributes\":{},\"id\":\"e214d2f2-1239-4386-90e7-71936eb9b706\",\"type\":\"BasicTicker\"},{\"attributes\":{\"fill_alpha\":{\"value\":0.7},\"fill_color\":{\"value\":\"#407ee7\"},\"line_color\":{\"value\":\"#407ee7\"},\"size\":{\"units\":\"screen\",\"value\":8},\"x\":{\"field\":\"x_values\"},\"y\":{\"field\":\"y_values\"}},\"id\":\"fec6ad86-606e-4d22-9e06-02997e90d821\",\"type\":\"Circle\"},{\"attributes\":{\"data_source\":{\"id\":\"54fded62-c75b-4436-80a8-6ae3350ad60f\",\"type\":\"ColumnDataSource\"},\"glyph\":{\"id\":\"fda4e79f-50f0-4f86-abb0-a7ff47f97bad\",\"type\":\"Circle\"},\"hover_glyph\":null,\"nonselection_glyph\":null,\"selection_glyph\":null},\"id\":\"1eb8a8d1-9f95-445c-8220-fd7bca887cf6\",\"type\":\"GlyphRenderer\"},{\"attributes\":{\"callback\":null,\"end\":7.49,\"start\":0.4099999999999999},\"id\":\"4c35cdd9-116e-415f-b869-1cba90351503\",\"type\":\"Range1d\"},{\"attributes\":{\"fill_alpha\":{\"value\":0.7},\"fill_color\":{\"value\":\"#f22c40\"},\"line_color\":{\"value\":\"#f22c40\"},\"size\":{\"units\":\"screen\",\"value\":8},\"x\":{\"field\":\"x_values\"},\"y\":{\"field\":\"y_values\"}},\"id\":\"0058b2de-1a37-42ce-97bf-0d9e60cc581f\",\"type\":\"Circle\"},{\"attributes\":{\"bottom_units\":\"screen\",\"fill_alpha\":{\"value\":0.5},\"fill_color\":{\"value\":\"lightgrey\"},\"left_units\":\"screen\",\"level\":\"overlay\",\"line_alpha\":{\"value\":1.0},\"line_color\":{\"value\":\"black\"},\"line_dash\":[4,4],\"line_width\":{\"value\":2},\"plot\":null,\"render_mode\":\"css\",\"right_units\":\"screen\",\"top_units\":\"screen\"},\"id\":\"85a6383f-b204-4d15-aaab-3fa45dfee39c\",\"type\":\"BoxAnnotation\"},{\"attributes\":{\"overlay\":{\"id\":\"85a6383f-b204-4d15-aaab-3fa45dfee39c\",\"type\":\"BoxAnnotation\"},\"plot\":{\"id\":\"051a62e9-204a-4670-b4b8-a3de79994eb2\",\"subtype\":\"Chart\",\"type\":\"Plot\"}},\"id\":\"0ce3beed-8262-4c88-a5be-6acdf8cfa1f6\",\"type\":\"BoxZoomTool\"},{\"attributes\":{\"plot\":{\"id\":\"051a62e9-204a-4670-b4b8-a3de79994eb2\",\"subtype\":\"Chart\",\"type\":\"Plot\"},\"ticker\":{\"id\":\"ff894433-b5a0-4524-b2fc-9454f12a7888\",\"type\":\"BasicTicker\"}},\"id\":\"8c5fb5bd-c28b-44f5-82e7-330146115c6f\",\"type\":\"Grid\"},{\"attributes\":{},\"id\":\"e322b212-e19e-4f38-b4ca-75c50e1847c7\",\"type\":\"BasicTickFormatter\"},{\"attributes\":{\"plot\":{\"id\":\"051a62e9-204a-4670-b4b8-a3de79994eb2\",\"subtype\":\"Chart\",\"type\":\"Plot\"}},\"id\":\"c207cfd3-7205-4d41-98cc-019c7807abd3\",\"type\":\"PanTool\"},{\"attributes\":{},\"id\":\"01ddca7f-8c5e-4263-a59c-7f5f5b3090fa\",\"type\":\"ToolEvents\"},{\"attributes\":{\"plot\":{\"id\":\"051a62e9-204a-4670-b4b8-a3de79994eb2\",\"subtype\":\"Chart\",\"type\":\"Plot\"}},\"id\":\"be2a82ae-466d-4337-bc19-65169e6f12ea\",\"type\":\"HelpTool\"}],\"root_ids\":[\"051a62e9-204a-4670-b4b8-a3de79994eb2\"]},\"title\":\"Bokeh Application\",\"version\":\"0.12.1\"}};\n",
       "            var render_items = [{\"docid\":\"598f4517-e7f0-4526-aa5b-ba4e1074bd88\",\"elementid\":\"14f9288e-1c5a-4a3b-83ba-8443db54ebcd\",\"modelid\":\"051a62e9-204a-4670-b4b8-a3de79994eb2\",\"notebook_comms_target\":\"da8c27dd-0350-441b-9e6d-276ed4e91639\"}];\n",
       "            \n",
       "            Bokeh.embed.embed_items(docs_json, render_items);\n",
       "        });\n",
       "      },\n",
       "      function(Bokeh) {\n",
       "      }\n",
       "    ];\n",
       "  \n",
       "    function run_inline_js() {\n",
       "      for (var i = 0; i < inline_js.length; i++) {\n",
       "        inline_js[i](window.Bokeh);\n",
       "      }\n",
       "    }\n",
       "  \n",
       "    if (window._bokeh_is_loading === 0) {\n",
       "      console.log(\"Bokeh: BokehJS loaded, going straight to plotting\");\n",
       "      run_inline_js();\n",
       "    } else {\n",
       "      load_libs(js_urls, function() {\n",
       "        console.log(\"Bokeh: BokehJS plotting callback run at\", now());\n",
       "        run_inline_js();\n",
       "      });\n",
       "    }\n",
       "  }(this));\n",
       "</script>"
      ]
     },
     "metadata": {},
     "output_type": "display_data"
    },
    {
     "data": {
      "text/html": [
       "<p><code>&lt;Bokeh Notebook handle for <strong>In[5]</strong>&gt;</code></p>"
      ],
      "text/plain": [
       "<bokeh.io._CommsHandle at 0x1134d8fd0>"
      ]
     },
     "execution_count": 5,
     "metadata": {},
     "output_type": "execute_result"
    }
   ],
   "source": [
    "p = Scatter(flowers, x='petal_length', y='petal_width', color='species', legend='top_left')\n",
    "show(p)"
   ]
  },
  {
   "cell_type": "markdown",
   "metadata": {},
   "source": [
    "By passing a column name for the `marker` parameter, you can make `Scatter` automatically vary the marker shapes according to the groups in that column. Let's try that as an exercise."
   ]
  },
  {
   "cell_type": "code",
   "execution_count": 6,
   "metadata": {
    "collapsed": false
   },
   "outputs": [],
   "source": [
    "# EXERCISE: vary the marker shape by passing a column name as the `marker` keyword argument\n"
   ]
  },
  {
   "cell_type": "markdown",
   "metadata": {},
   "source": [
    "# Bar Chart\n",
    "\n",
    "A high-level bar chart is provided by [`bokeh.charts.Bar`]()\n",
    "\n",
    "For this section, we will use the \"autompg\" data set. Let's import it and take a quick look:"
   ]
  },
  {
   "cell_type": "code",
   "execution_count": 7,
   "metadata": {
    "collapsed": false
   },
   "outputs": [
    {
     "data": {
      "text/html": [
       "<div>\n",
       "<table border=\"1\" class=\"dataframe\">\n",
       "  <thead>\n",
       "    <tr style=\"text-align: right;\">\n",
       "      <th></th>\n",
       "      <th>mpg</th>\n",
       "      <th>cyl</th>\n",
       "      <th>displ</th>\n",
       "      <th>hp</th>\n",
       "      <th>weight</th>\n",
       "      <th>accel</th>\n",
       "      <th>yr</th>\n",
       "      <th>origin</th>\n",
       "      <th>name</th>\n",
       "    </tr>\n",
       "  </thead>\n",
       "  <tbody>\n",
       "    <tr>\n",
       "      <th>0</th>\n",
       "      <td>18.0</td>\n",
       "      <td>8</td>\n",
       "      <td>307.0</td>\n",
       "      <td>130</td>\n",
       "      <td>3504</td>\n",
       "      <td>12.0</td>\n",
       "      <td>70</td>\n",
       "      <td>1</td>\n",
       "      <td>chevrolet chevelle malibu</td>\n",
       "    </tr>\n",
       "    <tr>\n",
       "      <th>1</th>\n",
       "      <td>15.0</td>\n",
       "      <td>8</td>\n",
       "      <td>350.0</td>\n",
       "      <td>165</td>\n",
       "      <td>3693</td>\n",
       "      <td>11.5</td>\n",
       "      <td>70</td>\n",
       "      <td>1</td>\n",
       "      <td>buick skylark 320</td>\n",
       "    </tr>\n",
       "    <tr>\n",
       "      <th>2</th>\n",
       "      <td>18.0</td>\n",
       "      <td>8</td>\n",
       "      <td>318.0</td>\n",
       "      <td>150</td>\n",
       "      <td>3436</td>\n",
       "      <td>11.0</td>\n",
       "      <td>70</td>\n",
       "      <td>1</td>\n",
       "      <td>plymouth satellite</td>\n",
       "    </tr>\n",
       "    <tr>\n",
       "      <th>3</th>\n",
       "      <td>16.0</td>\n",
       "      <td>8</td>\n",
       "      <td>304.0</td>\n",
       "      <td>150</td>\n",
       "      <td>3433</td>\n",
       "      <td>12.0</td>\n",
       "      <td>70</td>\n",
       "      <td>1</td>\n",
       "      <td>amc rebel sst</td>\n",
       "    </tr>\n",
       "    <tr>\n",
       "      <th>4</th>\n",
       "      <td>17.0</td>\n",
       "      <td>8</td>\n",
       "      <td>302.0</td>\n",
       "      <td>140</td>\n",
       "      <td>3449</td>\n",
       "      <td>10.5</td>\n",
       "      <td>70</td>\n",
       "      <td>1</td>\n",
       "      <td>ford torino</td>\n",
       "    </tr>\n",
       "  </tbody>\n",
       "</table>\n",
       "</div>"
      ],
      "text/plain": [
       "    mpg  cyl  displ   hp  weight  accel  yr  origin                       name\n",
       "0  18.0    8  307.0  130    3504   12.0  70       1  chevrolet chevelle malibu\n",
       "1  15.0    8  350.0  165    3693   11.5  70       1          buick skylark 320\n",
       "2  18.0    8  318.0  150    3436   11.0  70       1         plymouth satellite\n",
       "3  16.0    8  304.0  150    3433   12.0  70       1              amc rebel sst\n",
       "4  17.0    8  302.0  140    3449   10.5  70       1                ford torino"
      ]
     },
     "execution_count": 7,
     "metadata": {},
     "output_type": "execute_result"
    }
   ],
   "source": [
    "from bokeh.sampledata.autompg import autompg\n",
    "autompg.head()"
   ]
  },
  {
   "cell_type": "code",
   "execution_count": 8,
   "metadata": {
    "collapsed": true
   },
   "outputs": [],
   "source": [
    "from bokeh.charts import Bar"
   ]
  },
  {
   "cell_type": "markdown",
   "metadata": {},
   "source": [
    "A basic bar chart takes the data (again a DataFrame) as the first value, as well as column names for:\n",
    "\n",
    "* `label` - a column to group to label the x-axis\n",
    "* `values` - a column to aggregate values for each group, to give the bar heights\n",
    "* `agg` - the name of an aggregation to perform over the values (e.g., `\"mean\"`, `\"max\"`, etc.)\n",
    "\n",
    "A simple example that also specifies some other properties such as `title` and `legend` is shown below:"
   ]
  },
  {
   "cell_type": "code",
   "execution_count": 9,
   "metadata": {
    "collapsed": false
   },
   "outputs": [
    {
     "data": {
      "text/html": [
       "\n",
       "\n",
       "    <div class=\"bk-root\">\n",
       "        <div class=\"plotdiv\" id=\"5575db81-b0f2-42f2-9f89-bb0817c1e5d0\"></div>\n",
       "    </div>\n",
       "<script type=\"text/javascript\">\n",
       "  \n",
       "  (function(global) {\n",
       "    function now() {\n",
       "      return new Date();\n",
       "    }\n",
       "  \n",
       "    var force = \"\";\n",
       "  \n",
       "    if (typeof (window._bokeh_onload_callbacks) === \"undefined\" || force !== \"\") {\n",
       "      window._bokeh_onload_callbacks = [];\n",
       "      window._bokeh_is_loading = undefined;\n",
       "    }\n",
       "  \n",
       "    function run_callbacks() {\n",
       "      window._bokeh_onload_callbacks.forEach(function(callback) { callback() });\n",
       "      delete window._bokeh_onload_callbacks\n",
       "      console.info(\"Bokeh: all callbacks have finished\");\n",
       "    }\n",
       "  \n",
       "    function load_libs(js_urls, callback) {\n",
       "      window._bokeh_onload_callbacks.push(callback);\n",
       "      if (window._bokeh_is_loading > 0) {\n",
       "        console.log(\"Bokeh: BokehJS is being loaded, scheduling callback at\", now());\n",
       "        return null;\n",
       "      }\n",
       "      if (js_urls == null || js_urls.length === 0) {\n",
       "        run_callbacks();\n",
       "        return null;\n",
       "      }\n",
       "      console.log(\"Bokeh: BokehJS not loaded, scheduling load and callback at\", now());\n",
       "      window._bokeh_is_loading = js_urls.length;\n",
       "      for (var i = 0; i < js_urls.length; i++) {\n",
       "        var url = js_urls[i];\n",
       "        var s = document.createElement('script');\n",
       "        s.src = url;\n",
       "        s.async = false;\n",
       "        s.onreadystatechange = s.onload = function() {\n",
       "          window._bokeh_is_loading--;\n",
       "          if (window._bokeh_is_loading === 0) {\n",
       "            console.log(\"Bokeh: all BokehJS libraries loaded\");\n",
       "            run_callbacks()\n",
       "          }\n",
       "        };\n",
       "        s.onerror = function() {\n",
       "          console.warn(\"failed to load library \" + url);\n",
       "        };\n",
       "        console.log(\"Bokeh: injecting script tag for BokehJS library: \", url);\n",
       "        document.getElementsByTagName(\"head\")[0].appendChild(s);\n",
       "      }\n",
       "    };var element = document.getElementById(\"5575db81-b0f2-42f2-9f89-bb0817c1e5d0\");\n",
       "    if (element == null) {\n",
       "      console.log(\"Bokeh: ERROR: autoload.js configured with elementid '5575db81-b0f2-42f2-9f89-bb0817c1e5d0' but no matching script tag was found. \")\n",
       "      return false;\n",
       "    }\n",
       "  \n",
       "    var js_urls = [];\n",
       "  \n",
       "    var inline_js = [\n",
       "      function(Bokeh) {\n",
       "        Bokeh.$(function() {\n",
       "            var docs_json = {\"f432c8fb-780f-404d-936c-fb38b87e78c3\":{\"roots\":{\"references\":[{\"attributes\":{\"callback\":null,\"column_names\":[\"line_color\",\"line_alpha\",\"color\",\"fill_alpha\",\"height\",\"width\",\"y\",\"x\",\"label\"],\"data\":{\"chart_index\":[{\"cyl\":6}],\"color\":[\"#f22c40\"],\"cyl\":[6],\"fill_alpha\":[0.8],\"height\":[38.0],\"label\":[{\"cyl\":6}],\"line_alpha\":[1.0],\"line_color\":[\"white\"],\"width\":[0.8],\"x\":[\"6\"],\"y\":[19.0]}},\"id\":\"13d58388-4368-414d-bbd0-2f7f925a0bf4\",\"type\":\"ColumnDataSource\"},{\"attributes\":{\"data_source\":{\"id\":\"d1db61e7-bac8-4634-98b8-1f8fa3e76587\",\"type\":\"ColumnDataSource\"},\"glyph\":{\"id\":\"09415fe2-fc93-480a-9f3e-4dbe4061356b\",\"type\":\"Rect\"},\"hover_glyph\":null,\"nonselection_glyph\":null,\"selection_glyph\":null},\"id\":\"e6503af4-7003-441d-82b4-2c97217f9662\",\"type\":\"GlyphRenderer\"},{\"attributes\":{\"active_drag\":\"auto\",\"active_scroll\":\"auto\",\"active_tap\":\"auto\",\"tools\":[{\"id\":\"60c9fe0a-f2e4-4868-acfa-2d3ebf7a0368\",\"type\":\"CrosshairTool\"}]},\"id\":\"0eb04d3a-9936-4c2c-959d-1b120b38de36\",\"type\":\"Toolbar\"},{\"attributes\":{},\"id\":\"9e0391ee-eaa4-4b75-b29c-48a20e7dcd0f\",\"type\":\"CategoricalTickFormatter\"},{\"attributes\":{\"fill_alpha\":{\"field\":\"fill_alpha\"},\"fill_color\":{\"field\":\"color\"},\"height\":{\"field\":\"height\",\"units\":\"data\"},\"line_color\":{\"field\":\"line_color\"},\"width\":{\"field\":\"width\",\"units\":\"data\"},\"x\":{\"field\":\"x\"},\"y\":{\"field\":\"y\"}},\"id\":\"c478215a-6988-4faf-8aa4-aeec6520d26c\",\"type\":\"Rect\"},{\"attributes\":{},\"id\":\"c79349f3-1108-4103-b4fe-b474a7e32662\",\"type\":\"ToolEvents\"},{\"attributes\":{\"plot\":{\"id\":\"57088457-691a-4dd2-a00d-65225d9bbf10\",\"subtype\":\"Chart\",\"type\":\"Plot\"}},\"id\":\"60c9fe0a-f2e4-4868-acfa-2d3ebf7a0368\",\"type\":\"CrosshairTool\"},{\"attributes\":{\"data_source\":{\"id\":\"33f040c8-1c0a-4f49-8f25-a30c55edce7a\",\"type\":\"ColumnDataSource\"},\"glyph\":{\"id\":\"126c6a02-f664-4358-93af-0d7ecbb10876\",\"type\":\"Rect\"},\"hover_glyph\":null,\"nonselection_glyph\":null,\"selection_glyph\":null},\"id\":\"a632726c-e3c0-4fee-94c0-03c30c4b6282\",\"type\":\"GlyphRenderer\"},{\"attributes\":{\"callback\":null,\"column_names\":[\"line_color\",\"line_alpha\",\"color\",\"fill_alpha\",\"height\",\"width\",\"y\",\"x\",\"label\"],\"data\":{\"chart_index\":[{\"cyl\":3}],\"color\":[\"#f22c40\"],\"cyl\":[3],\"fill_alpha\":[0.8],\"height\":[23.7],\"label\":[{\"cyl\":3}],\"line_alpha\":[1.0],\"line_color\":[\"white\"],\"width\":[0.8],\"x\":[\"3\"],\"y\":[11.85]}},\"id\":\"d1db61e7-bac8-4634-98b8-1f8fa3e76587\",\"type\":\"ColumnDataSource\"},{\"attributes\":{\"fill_alpha\":{\"field\":\"fill_alpha\"},\"fill_color\":{\"field\":\"color\"},\"height\":{\"field\":\"height\",\"units\":\"data\"},\"line_color\":{\"field\":\"line_color\"},\"width\":{\"field\":\"width\",\"units\":\"data\"},\"x\":{\"field\":\"x\"},\"y\":{\"field\":\"y\"}},\"id\":\"8b9c0939-3d04-417c-9886-38b2a1f5e827\",\"type\":\"Rect\"},{\"attributes\":{\"fill_alpha\":{\"field\":\"fill_alpha\"},\"fill_color\":{\"field\":\"color\"},\"height\":{\"field\":\"height\",\"units\":\"data\"},\"line_color\":{\"field\":\"line_color\"},\"width\":{\"field\":\"width\",\"units\":\"data\"},\"x\":{\"field\":\"x\"},\"y\":{\"field\":\"y\"}},\"id\":\"196abed5-0266-407d-adeb-4a18bfacaf48\",\"type\":\"Rect\"},{\"attributes\":{\"axis_label\":\"Cyl\",\"formatter\":{\"id\":\"9e0391ee-eaa4-4b75-b29c-48a20e7dcd0f\",\"type\":\"CategoricalTickFormatter\"},\"major_label_orientation\":0.7853981633974483,\"plot\":{\"id\":\"57088457-691a-4dd2-a00d-65225d9bbf10\",\"subtype\":\"Chart\",\"type\":\"Plot\"},\"ticker\":{\"id\":\"224094f9-db49-4522-8c8c-e4703dfaaef9\",\"type\":\"CategoricalTicker\"}},\"id\":\"127406b8-b834-43d5-bfd7-8644ccdd5d18\",\"type\":\"CategoricalAxis\"},{\"attributes\":{\"callback\":null,\"column_names\":[\"line_color\",\"line_alpha\",\"color\",\"fill_alpha\",\"height\",\"width\",\"y\",\"x\",\"label\"],\"data\":{\"chart_index\":[{\"cyl\":5}],\"color\":[\"#f22c40\"],\"cyl\":[5],\"fill_alpha\":[0.8],\"height\":[36.4],\"label\":[{\"cyl\":5}],\"line_alpha\":[1.0],\"line_color\":[\"white\"],\"width\":[0.8],\"x\":[\"5\"],\"y\":[18.2]}},\"id\":\"5d36e423-4c82-4c7c-a036-02eadf8d5693\",\"type\":\"ColumnDataSource\"},{\"attributes\":{\"below\":[{\"id\":\"127406b8-b834-43d5-bfd7-8644ccdd5d18\",\"type\":\"CategoricalAxis\"}],\"left\":[{\"id\":\"4b115e3a-5079-45ae-aa04-f12ea8dee899\",\"type\":\"LinearAxis\"}],\"renderers\":[{\"id\":\"a632726c-e3c0-4fee-94c0-03c30c4b6282\",\"type\":\"GlyphRenderer\"},{\"id\":\"361ccc73-4bc5-4190-bafe-bbfc75035629\",\"type\":\"GlyphRenderer\"},{\"id\":\"4f196936-e210-44b5-be35-cee429497cc7\",\"type\":\"GlyphRenderer\"},{\"id\":\"e6503af4-7003-441d-82b4-2c97217f9662\",\"type\":\"GlyphRenderer\"},{\"id\":\"731b35e2-123a-4382-8610-c38eb4bf5c7a\",\"type\":\"GlyphRenderer\"},{\"id\":\"127406b8-b834-43d5-bfd7-8644ccdd5d18\",\"type\":\"CategoricalAxis\"},{\"id\":\"4b115e3a-5079-45ae-aa04-f12ea8dee899\",\"type\":\"LinearAxis\"},{\"id\":\"eb5dd0e2-549e-4c3e-afaa-1a33260f6ead\",\"type\":\"Grid\"}],\"title\":{\"id\":\"55e702ad-8ff3-4a08-bd45-5b0e42271a77\",\"type\":\"Title\"},\"tool_events\":{\"id\":\"c79349f3-1108-4103-b4fe-b474a7e32662\",\"type\":\"ToolEvents\"},\"toolbar\":{\"id\":\"0eb04d3a-9936-4c2c-959d-1b120b38de36\",\"type\":\"Toolbar\"},\"x_mapper_type\":\"auto\",\"x_range\":{\"id\":\"9a7cb37f-fe22-43cd-a679-8ff2abc9b9b8\",\"type\":\"FactorRange\"},\"y_mapper_type\":\"auto\",\"y_range\":{\"id\":\"e24f3af0-bf9e-44a9-a7a8-ab77640bdec1\",\"type\":\"Range1d\"}},\"id\":\"57088457-691a-4dd2-a00d-65225d9bbf10\",\"subtype\":\"Chart\",\"type\":\"Plot\"},{\"attributes\":{\"axis_label\":\"Max( Mpg )\",\"formatter\":{\"id\":\"015d8874-9577-484d-a1f5-ce493ceba070\",\"type\":\"BasicTickFormatter\"},\"plot\":{\"id\":\"57088457-691a-4dd2-a00d-65225d9bbf10\",\"subtype\":\"Chart\",\"type\":\"Plot\"},\"ticker\":{\"id\":\"a341a842-2d30-415e-b854-8290e7ba71a5\",\"type\":\"BasicTicker\"}},\"id\":\"4b115e3a-5079-45ae-aa04-f12ea8dee899\",\"type\":\"LinearAxis\"},{\"attributes\":{\"callback\":null,\"end\":48.93},\"id\":\"e24f3af0-bf9e-44a9-a7a8-ab77640bdec1\",\"type\":\"Range1d\"},{\"attributes\":{\"callback\":null,\"column_names\":[\"line_color\",\"line_alpha\",\"color\",\"fill_alpha\",\"height\",\"width\",\"y\",\"x\",\"label\"],\"data\":{\"chart_index\":[{\"cyl\":8}],\"color\":[\"#f22c40\"],\"cyl\":[8],\"fill_alpha\":[0.8],\"height\":[26.6],\"label\":[{\"cyl\":8}],\"line_alpha\":[1.0],\"line_color\":[\"white\"],\"width\":[0.8],\"x\":[\"8\"],\"y\":[13.3]}},\"id\":\"33f040c8-1c0a-4f49-8f25-a30c55edce7a\",\"type\":\"ColumnDataSource\"},{\"attributes\":{},\"id\":\"015d8874-9577-484d-a1f5-ce493ceba070\",\"type\":\"BasicTickFormatter\"},{\"attributes\":{},\"id\":\"a341a842-2d30-415e-b854-8290e7ba71a5\",\"type\":\"BasicTicker\"},{\"attributes\":{},\"id\":\"224094f9-db49-4522-8c8c-e4703dfaaef9\",\"type\":\"CategoricalTicker\"},{\"attributes\":{\"data_source\":{\"id\":\"c9bf69c2-bb4a-4306-bd7b-bafbebd4dbcd\",\"type\":\"ColumnDataSource\"},\"glyph\":{\"id\":\"196abed5-0266-407d-adeb-4a18bfacaf48\",\"type\":\"Rect\"},\"hover_glyph\":null,\"nonselection_glyph\":null,\"selection_glyph\":null},\"id\":\"361ccc73-4bc5-4190-bafe-bbfc75035629\",\"type\":\"GlyphRenderer\"},{\"attributes\":{\"data_source\":{\"id\":\"13d58388-4368-414d-bbd0-2f7f925a0bf4\",\"type\":\"ColumnDataSource\"},\"glyph\":{\"id\":\"c478215a-6988-4faf-8aa4-aeec6520d26c\",\"type\":\"Rect\"},\"hover_glyph\":null,\"nonselection_glyph\":null,\"selection_glyph\":null},\"id\":\"4f196936-e210-44b5-be35-cee429497cc7\",\"type\":\"GlyphRenderer\"},{\"attributes\":{\"callback\":null,\"column_names\":[\"line_color\",\"line_alpha\",\"color\",\"fill_alpha\",\"height\",\"width\",\"y\",\"x\",\"label\"],\"data\":{\"chart_index\":[{\"cyl\":4}],\"color\":[\"#f22c40\"],\"cyl\":[4],\"fill_alpha\":[0.8],\"height\":[46.6],\"label\":[{\"cyl\":4}],\"line_alpha\":[1.0],\"line_color\":[\"white\"],\"width\":[0.8],\"x\":[\"4\"],\"y\":[23.3]}},\"id\":\"c9bf69c2-bb4a-4306-bd7b-bafbebd4dbcd\",\"type\":\"ColumnDataSource\"},{\"attributes\":{\"data_source\":{\"id\":\"5d36e423-4c82-4c7c-a036-02eadf8d5693\",\"type\":\"ColumnDataSource\"},\"glyph\":{\"id\":\"8b9c0939-3d04-417c-9886-38b2a1f5e827\",\"type\":\"Rect\"},\"hover_glyph\":null,\"nonselection_glyph\":null,\"selection_glyph\":null},\"id\":\"731b35e2-123a-4382-8610-c38eb4bf5c7a\",\"type\":\"GlyphRenderer\"},{\"attributes\":{\"callback\":null,\"factors\":[\"3\",\"4\",\"5\",\"6\",\"8\"]},\"id\":\"9a7cb37f-fe22-43cd-a679-8ff2abc9b9b8\",\"type\":\"FactorRange\"},{\"attributes\":{\"dimension\":1,\"plot\":{\"id\":\"57088457-691a-4dd2-a00d-65225d9bbf10\",\"subtype\":\"Chart\",\"type\":\"Plot\"},\"ticker\":{\"id\":\"a341a842-2d30-415e-b854-8290e7ba71a5\",\"type\":\"BasicTicker\"}},\"id\":\"eb5dd0e2-549e-4c3e-afaa-1a33260f6ead\",\"type\":\"Grid\"},{\"attributes\":{\"plot\":null,\"text\":\"Max MPG by CYL\"},\"id\":\"55e702ad-8ff3-4a08-bd45-5b0e42271a77\",\"type\":\"Title\"},{\"attributes\":{\"fill_alpha\":{\"field\":\"fill_alpha\"},\"fill_color\":{\"field\":\"color\"},\"height\":{\"field\":\"height\",\"units\":\"data\"},\"line_color\":{\"field\":\"line_color\"},\"width\":{\"field\":\"width\",\"units\":\"data\"},\"x\":{\"field\":\"x\"},\"y\":{\"field\":\"y\"}},\"id\":\"126c6a02-f664-4358-93af-0d7ecbb10876\",\"type\":\"Rect\"},{\"attributes\":{\"fill_alpha\":{\"field\":\"fill_alpha\"},\"fill_color\":{\"field\":\"color\"},\"height\":{\"field\":\"height\",\"units\":\"data\"},\"line_color\":{\"field\":\"line_color\"},\"width\":{\"field\":\"width\",\"units\":\"data\"},\"x\":{\"field\":\"x\"},\"y\":{\"field\":\"y\"}},\"id\":\"09415fe2-fc93-480a-9f3e-4dbe4061356b\",\"type\":\"Rect\"}],\"root_ids\":[\"57088457-691a-4dd2-a00d-65225d9bbf10\"]},\"title\":\"Bokeh Application\",\"version\":\"0.12.1\"}};\n",
       "            var render_items = [{\"docid\":\"f432c8fb-780f-404d-936c-fb38b87e78c3\",\"elementid\":\"5575db81-b0f2-42f2-9f89-bb0817c1e5d0\",\"modelid\":\"57088457-691a-4dd2-a00d-65225d9bbf10\",\"notebook_comms_target\":\"b9843cb0-c1d1-40fb-9b4b-299e155a1981\"}];\n",
       "            \n",
       "            Bokeh.embed.embed_items(docs_json, render_items);\n",
       "        });\n",
       "      },\n",
       "      function(Bokeh) {\n",
       "      }\n",
       "    ];\n",
       "  \n",
       "    function run_inline_js() {\n",
       "      for (var i = 0; i < inline_js.length; i++) {\n",
       "        inline_js[i](window.Bokeh);\n",
       "      }\n",
       "    }\n",
       "  \n",
       "    if (window._bokeh_is_loading === 0) {\n",
       "      console.log(\"Bokeh: BokehJS loaded, going straight to plotting\");\n",
       "      run_inline_js();\n",
       "    } else {\n",
       "      load_libs(js_urls, function() {\n",
       "        console.log(\"Bokeh: BokehJS plotting callback run at\", now());\n",
       "        run_inline_js();\n",
       "      });\n",
       "    }\n",
       "  }(this));\n",
       "</script>"
      ]
     },
     "metadata": {},
     "output_type": "display_data"
    },
    {
     "data": {
      "text/html": [
       "<p><code>&lt;Bokeh Notebook handle for <strong>In[9]</strong>&gt;</code></p>"
      ],
      "text/plain": [
       "<bokeh.io._CommsHandle at 0x1133c3f90>"
      ]
     },
     "execution_count": 9,
     "metadata": {},
     "output_type": "execute_result"
    }
   ],
   "source": [
    "p = Bar(autompg, label='cyl', values='mpg', agg='max', \n",
    "        title=\"Max MPG by CYL\", legend=None, tools='crosshair')\n",
    "show(p)"
   ]
  },
  {
   "cell_type": "markdown",
   "metadata": {},
   "source": [
    "By passing another column name as the `group` parameter, the aggregations can be further subdivided by the groups in that column, and the bars grouped visually. The example below demonstrates this, as well as adding a legend by specifying its location:"
   ]
  },
  {
   "cell_type": "code",
   "execution_count": 10,
   "metadata": {
    "collapsed": false
   },
   "outputs": [
    {
     "data": {
      "text/html": [
       "\n",
       "\n",
       "    <div class=\"bk-root\">\n",
       "        <div class=\"plotdiv\" id=\"d53277fb-668b-482d-bc0c-9e4b81d2277d\"></div>\n",
       "    </div>\n",
       "<script type=\"text/javascript\">\n",
       "  \n",
       "  (function(global) {\n",
       "    function now() {\n",
       "      return new Date();\n",
       "    }\n",
       "  \n",
       "    var force = \"\";\n",
       "  \n",
       "    if (typeof (window._bokeh_onload_callbacks) === \"undefined\" || force !== \"\") {\n",
       "      window._bokeh_onload_callbacks = [];\n",
       "      window._bokeh_is_loading = undefined;\n",
       "    }\n",
       "  \n",
       "    function run_callbacks() {\n",
       "      window._bokeh_onload_callbacks.forEach(function(callback) { callback() });\n",
       "      delete window._bokeh_onload_callbacks\n",
       "      console.info(\"Bokeh: all callbacks have finished\");\n",
       "    }\n",
       "  \n",
       "    function load_libs(js_urls, callback) {\n",
       "      window._bokeh_onload_callbacks.push(callback);\n",
       "      if (window._bokeh_is_loading > 0) {\n",
       "        console.log(\"Bokeh: BokehJS is being loaded, scheduling callback at\", now());\n",
       "        return null;\n",
       "      }\n",
       "      if (js_urls == null || js_urls.length === 0) {\n",
       "        run_callbacks();\n",
       "        return null;\n",
       "      }\n",
       "      console.log(\"Bokeh: BokehJS not loaded, scheduling load and callback at\", now());\n",
       "      window._bokeh_is_loading = js_urls.length;\n",
       "      for (var i = 0; i < js_urls.length; i++) {\n",
       "        var url = js_urls[i];\n",
       "        var s = document.createElement('script');\n",
       "        s.src = url;\n",
       "        s.async = false;\n",
       "        s.onreadystatechange = s.onload = function() {\n",
       "          window._bokeh_is_loading--;\n",
       "          if (window._bokeh_is_loading === 0) {\n",
       "            console.log(\"Bokeh: all BokehJS libraries loaded\");\n",
       "            run_callbacks()\n",
       "          }\n",
       "        };\n",
       "        s.onerror = function() {\n",
       "          console.warn(\"failed to load library \" + url);\n",
       "        };\n",
       "        console.log(\"Bokeh: injecting script tag for BokehJS library: \", url);\n",
       "        document.getElementsByTagName(\"head\")[0].appendChild(s);\n",
       "      }\n",
       "    };var element = document.getElementById(\"d53277fb-668b-482d-bc0c-9e4b81d2277d\");\n",
       "    if (element == null) {\n",
       "      console.log(\"Bokeh: ERROR: autoload.js configured with elementid 'd53277fb-668b-482d-bc0c-9e4b81d2277d' but no matching script tag was found. \")\n",
       "      return false;\n",
       "    }\n",
       "  \n",
       "    var js_urls = [];\n",
       "  \n",
       "    var inline_js = [\n",
       "      function(Bokeh) {\n",
       "        Bokeh.$(function() {\n",
       "            var docs_json = {\"19160490-28dd-49e9-b0ad-93a17ca739db\":{\"roots\":{\"references\":[{\"attributes\":{\"callback\":null,\"column_names\":[\"line_color\",\"line_alpha\",\"color\",\"fill_alpha\",\"height\",\"width\",\"y\",\"x\",\"label\"],\"data\":{\"chart_index\":[{\"origin\":3,\"yr\":75}],\"color\":[\"#407ee7\"],\"fill_alpha\":[0.8],\"height\":[26.5],\"label\":[{\"origin\":3,\"yr\":75}],\"line_alpha\":[1.0],\"line_color\":[\"white\"],\"origin\":[3],\"width\":[0.2],\"x\":[\"75:0.5\"],\"y\":[13.25],\"yr\":[75]}},\"id\":\"daf83a47-c784-4e4b-a49b-5aa492fec216\",\"type\":\"ColumnDataSource\"},{\"attributes\":{\"fill_alpha\":{\"field\":\"fill_alpha\"},\"fill_color\":{\"field\":\"color\"},\"height\":{\"field\":\"height\",\"units\":\"data\"},\"line_color\":{\"field\":\"line_color\"},\"width\":{\"field\":\"width\",\"units\":\"data\"},\"x\":{\"field\":\"x\"},\"y\":{\"field\":\"y\"}},\"id\":\"4a29230e-e52a-4b16-95fd-a6b05b005eed\",\"type\":\"Rect\"},{\"attributes\":{\"callback\":null,\"column_names\":[\"line_color\",\"line_alpha\",\"color\",\"fill_alpha\",\"height\",\"width\",\"y\",\"x\",\"label\"],\"data\":{\"chart_index\":[{\"origin\":3,\"yr\":79}],\"color\":[\"#407ee7\"],\"fill_alpha\":[0.8],\"height\":[32.95],\"label\":[{\"origin\":3,\"yr\":79}],\"line_alpha\":[1.0],\"line_color\":[\"white\"],\"origin\":[3],\"width\":[0.2],\"x\":[\"79:0.5\"],\"y\":[16.475],\"yr\":[79]}},\"id\":\"069fd98a-66c9-4356-81e2-0785df5e596c\",\"type\":\"ColumnDataSource\"},{\"attributes\":{\"callback\":null,\"column_names\":[\"line_color\",\"line_alpha\",\"color\",\"fill_alpha\",\"height\",\"width\",\"y\",\"x\",\"label\"],\"data\":{\"chart_index\":[{\"origin\":3,\"yr\":70}],\"color\":[\"#407ee7\"],\"fill_alpha\":[0.8],\"height\":[25.5],\"label\":[{\"origin\":3,\"yr\":70}],\"line_alpha\":[1.0],\"line_color\":[\"white\"],\"origin\":[3],\"width\":[0.2],\"x\":[\"70:0.5\"],\"y\":[12.75],\"yr\":[70]}},\"id\":\"c2e96a6b-d290-4d26-8751-c86bfaf903d5\",\"type\":\"ColumnDataSource\"},{\"attributes\":{\"fill_alpha\":{\"field\":\"fill_alpha\"},\"fill_color\":{\"field\":\"color\"},\"height\":{\"field\":\"height\",\"units\":\"data\"},\"line_color\":{\"field\":\"line_color\"},\"width\":{\"field\":\"width\",\"units\":\"data\"},\"x\":{\"field\":\"x\"},\"y\":{\"field\":\"y\"}},\"id\":\"582fcc92-08a3-4acb-b03f-e0ebaa41f9dd\",\"type\":\"Rect\"},{\"attributes\":{\"fill_alpha\":{\"field\":\"fill_alpha\"},\"fill_color\":{\"field\":\"color\"},\"height\":{\"field\":\"height\",\"units\":\"data\"},\"line_color\":{\"field\":\"line_color\"},\"width\":{\"field\":\"width\",\"units\":\"data\"},\"x\":{\"field\":\"x\"},\"y\":{\"field\":\"y\"}},\"id\":\"16119002-75a0-4c84-9b0c-51f3898d57ff\",\"type\":\"Rect\"},{\"attributes\":{\"data_source\":{\"id\":\"58b58ed5-053c-42c3-b6f9-62fe58126161\",\"type\":\"ColumnDataSource\"},\"glyph\":{\"id\":\"2bdfd52b-52f1-4b00-8dc2-2f2ac8f7aa76\",\"type\":\"Rect\"},\"hover_glyph\":null,\"nonselection_glyph\":null,\"selection_glyph\":null},\"id\":\"3be65700-8f1f-41f9-8e88-fa5e79fe212c\",\"type\":\"GlyphRenderer\"},{\"attributes\":{\"callback\":null,\"column_names\":[\"line_color\",\"line_alpha\",\"color\",\"fill_alpha\",\"height\",\"width\",\"y\",\"x\",\"label\"],\"data\":{\"chart_index\":[{\"origin\":3,\"yr\":74}],\"color\":[\"#407ee7\"],\"fill_alpha\":[0.8],\"height\":[31.0],\"label\":[{\"origin\":3,\"yr\":74}],\"line_alpha\":[1.0],\"line_color\":[\"white\"],\"origin\":[3],\"width\":[0.2],\"x\":[\"74:0.5\"],\"y\":[15.5],\"yr\":[74]}},\"id\":\"8bdd2f45-f83e-4017-ade0-68fdb5126034\",\"type\":\"ColumnDataSource\"},{\"attributes\":{\"data_source\":{\"id\":\"92459153-cb36-41c5-a485-ec9f4715648e\",\"type\":\"ColumnDataSource\"},\"glyph\":{\"id\":\"14e4bcf9-0551-4d33-b9b5-d6f1675cf53f\",\"type\":\"Rect\"},\"hover_glyph\":null,\"nonselection_glyph\":null,\"selection_glyph\":null},\"id\":\"da168c8a-145e-4b0a-ba77-8ef68dc80c8b\",\"type\":\"GlyphRenderer\"},{\"attributes\":{\"fill_alpha\":{\"field\":\"fill_alpha\"},\"fill_color\":{\"field\":\"color\"},\"height\":{\"field\":\"height\",\"units\":\"data\"},\"line_color\":{\"field\":\"line_color\"},\"width\":{\"field\":\"width\",\"units\":\"data\"},\"x\":{\"field\":\"x\"},\"y\":{\"field\":\"y\"}},\"id\":\"2900348c-121b-45e8-8552-1900ce1119bd\",\"type\":\"Rect\"},{\"attributes\":{\"callback\":null,\"column_names\":[\"line_color\",\"line_alpha\",\"color\",\"fill_alpha\",\"height\",\"width\",\"y\",\"x\",\"label\"],\"data\":{\"chart_index\":[{\"origin\":3,\"yr\":77}],\"color\":[\"#407ee7\"],\"fill_alpha\":[0.8],\"height\":[28.0],\"label\":[{\"origin\":3,\"yr\":77}],\"line_alpha\":[1.0],\"line_color\":[\"white\"],\"origin\":[3],\"width\":[0.2],\"x\":[\"77:0.5\"],\"y\":[14.0],\"yr\":[77]}},\"id\":\"3721a17b-d7b8-4c12-bb12-262c5b3479cf\",\"type\":\"ColumnDataSource\"},{\"attributes\":{\"callback\":null,\"end\":42.0},\"id\":\"5d8f2195-ce08-47ad-a8ba-10843dd78438\",\"type\":\"Range1d\"},{\"attributes\":{\"fill_alpha\":{\"field\":\"fill_alpha\"},\"fill_color\":{\"field\":\"color\"},\"height\":{\"field\":\"height\",\"units\":\"data\"},\"line_color\":{\"field\":\"line_color\"},\"width\":{\"field\":\"width\",\"units\":\"data\"},\"x\":{\"field\":\"x\"},\"y\":{\"field\":\"y\"}},\"id\":\"63030852-644a-44f4-a3a5-050a3a04fbe0\",\"type\":\"Rect\"},{\"attributes\":{\"data_source\":{\"id\":\"793b067e-bfee-4345-807b-8b27bef77e8f\",\"type\":\"ColumnDataSource\"},\"glyph\":{\"id\":\"889d8f23-d1bd-47c3-b747-14a4e2f93e5b\",\"type\":\"Rect\"},\"hover_glyph\":null,\"nonselection_glyph\":null,\"selection_glyph\":null},\"id\":\"e8a496a2-6070-46f6-b82b-bc0829e586c9\",\"type\":\"GlyphRenderer\"},{\"attributes\":{\"callback\":null,\"column_names\":[\"line_color\",\"line_alpha\",\"color\",\"fill_alpha\",\"height\",\"width\",\"y\",\"x\",\"label\"],\"data\":{\"chart_index\":[{\"origin\":1,\"yr\":73}],\"color\":[\"#f22c40\"],\"fill_alpha\":[0.8],\"height\":[14.0],\"label\":[{\"origin\":1,\"yr\":73}],\"line_alpha\":[1.0],\"line_color\":[\"white\"],\"origin\":[1],\"width\":[0.2],\"x\":[\"73:0.25\"],\"y\":[7.0],\"yr\":[73]}},\"id\":\"003dd500-1d95-425e-8974-b455f63be00c\",\"type\":\"ColumnDataSource\"},{\"attributes\":{\"data_source\":{\"id\":\"2e755f13-6d2d-46cd-bf15-43a0904f826e\",\"type\":\"ColumnDataSource\"},\"glyph\":{\"id\":\"582fcc92-08a3-4acb-b03f-e0ebaa41f9dd\",\"type\":\"Rect\"},\"hover_glyph\":null,\"nonselection_glyph\":null,\"selection_glyph\":null},\"id\":\"208d325e-96a8-4238-8851-5ca9e7ebf3d8\",\"type\":\"GlyphRenderer\"},{\"attributes\":{\"fill_alpha\":{\"field\":\"fill_alpha\"},\"fill_color\":{\"field\":\"color\"},\"height\":{\"field\":\"height\",\"units\":\"data\"},\"line_color\":{\"field\":\"line_color\"},\"width\":{\"field\":\"width\",\"units\":\"data\"},\"x\":{\"field\":\"x\"},\"y\":{\"field\":\"y\"}},\"id\":\"efcf7271-045e-400e-8720-9645a570b4e2\",\"type\":\"Rect\"},{\"attributes\":{\"fill_alpha\":{\"field\":\"fill_alpha\"},\"fill_color\":{\"field\":\"color\"},\"height\":{\"field\":\"height\",\"units\":\"data\"},\"line_color\":{\"field\":\"line_color\"},\"width\":{\"field\":\"width\",\"units\":\"data\"},\"x\":{\"field\":\"x\"},\"y\":{\"field\":\"y\"}},\"id\":\"dd5d6738-1589-439d-be8a-a4ce9234401c\",\"type\":\"Rect\"},{\"attributes\":{\"data_source\":{\"id\":\"8bdd2f45-f83e-4017-ade0-68fdb5126034\",\"type\":\"ColumnDataSource\"},\"glyph\":{\"id\":\"2900348c-121b-45e8-8552-1900ce1119bd\",\"type\":\"Rect\"},\"hover_glyph\":null,\"nonselection_glyph\":null,\"selection_glyph\":null},\"id\":\"096a1da2-a109-4fd8-8f5a-09a240b4268b\",\"type\":\"GlyphRenderer\"},{\"attributes\":{\"fill_alpha\":{\"field\":\"fill_alpha\"},\"fill_color\":{\"field\":\"color\"},\"height\":{\"field\":\"height\",\"units\":\"data\"},\"line_color\":{\"field\":\"line_color\"},\"width\":{\"field\":\"width\",\"units\":\"data\"},\"x\":{\"field\":\"x\"},\"y\":{\"field\":\"y\"}},\"id\":\"dd350ab2-83c8-4cd2-bbe6-8af5cf7acc7d\",\"type\":\"Rect\"},{\"attributes\":{\"data_source\":{\"id\":\"1481d607-a39e-4bd7-b14c-83c3c5b22794\",\"type\":\"ColumnDataSource\"},\"glyph\":{\"id\":\"63030852-644a-44f4-a3a5-050a3a04fbe0\",\"type\":\"Rect\"},\"hover_glyph\":null,\"nonselection_glyph\":null,\"selection_glyph\":null},\"id\":\"938a3650-4d89-4c33-99cf-06147342ff26\",\"type\":\"GlyphRenderer\"},{\"attributes\":{\"callback\":null,\"factors\":[\"70\",\"71\",\"72\",\"73\",\"74\",\"75\",\"76\",\"77\",\"78\",\"79\",\"80\",\"81\",\"82\"]},\"id\":\"5bf5ad49-4953-48ba-9d79-550ff8bf0ccf\",\"type\":\"FactorRange\"},{\"attributes\":{\"data_source\":{\"id\":\"bb6a04d2-be71-420f-ba82-e763e7a55f03\",\"type\":\"ColumnDataSource\"},\"glyph\":{\"id\":\"538190d4-43e4-486a-8a1b-56444933d9dc\",\"type\":\"Rect\"},\"hover_glyph\":null,\"nonselection_glyph\":null,\"selection_glyph\":null},\"id\":\"d9ab5d73-2be8-431b-9a27-a6d8de45e4ef\",\"type\":\"GlyphRenderer\"},{\"attributes\":{\"data_source\":{\"id\":\"a0aed7e0-2496-4166-b67e-f5739765cf3b\",\"type\":\"ColumnDataSource\"},\"glyph\":{\"id\":\"0007c5c8-5850-4210-b583-7285fe7a3b98\",\"type\":\"Rect\"},\"hover_glyph\":null,\"nonselection_glyph\":null,\"selection_glyph\":null},\"id\":\"e989e300-f0b1-4fc7-bebb-eab7578c78f7\",\"type\":\"GlyphRenderer\"},{\"attributes\":{\"fill_alpha\":{\"field\":\"fill_alpha\"},\"fill_color\":{\"field\":\"color\"},\"height\":{\"field\":\"height\",\"units\":\"data\"},\"line_color\":{\"field\":\"line_color\"},\"width\":{\"field\":\"width\",\"units\":\"data\"},\"x\":{\"field\":\"x\"},\"y\":{\"field\":\"y\"}},\"id\":\"4e3a36eb-b809-49f6-97cc-2cf681c06dae\",\"type\":\"Rect\"},{\"attributes\":{\"callback\":null,\"column_names\":[\"line_color\",\"line_alpha\",\"color\",\"fill_alpha\",\"height\",\"width\",\"y\",\"x\",\"label\"],\"data\":{\"chart_index\":[{\"origin\":3,\"yr\":81}],\"color\":[\"#407ee7\"],\"fill_alpha\":[0.8],\"height\":[33.3],\"label\":[{\"origin\":3,\"yr\":81}],\"line_alpha\":[1.0],\"line_color\":[\"white\"],\"origin\":[3],\"width\":[0.2],\"x\":[\"81:0.5\"],\"y\":[16.65],\"yr\":[81]}},\"id\":\"dafe99dd-21b8-4b02-983c-a28fcc4be418\",\"type\":\"ColumnDataSource\"},{\"attributes\":{\"fill_alpha\":{\"field\":\"fill_alpha\"},\"fill_color\":{\"field\":\"color\"},\"height\":{\"field\":\"height\",\"units\":\"data\"},\"line_color\":{\"field\":\"line_color\"},\"width\":{\"field\":\"width\",\"units\":\"data\"},\"x\":{\"field\":\"x\"},\"y\":{\"field\":\"y\"}},\"id\":\"1861d4c7-39bd-45ef-bc9d-9372665f3b89\",\"type\":\"Rect\"},{\"attributes\":{\"fill_alpha\":{\"field\":\"fill_alpha\"},\"fill_color\":{\"field\":\"color\"},\"height\":{\"field\":\"height\",\"units\":\"data\"},\"line_color\":{\"field\":\"line_color\"},\"width\":{\"field\":\"width\",\"units\":\"data\"},\"x\":{\"field\":\"x\"},\"y\":{\"field\":\"y\"}},\"id\":\"5284127d-7ce1-4fdb-9232-4b35dfa281ae\",\"type\":\"Rect\"},{\"attributes\":{\"data_source\":{\"id\":\"4589fcc3-27d0-4fad-acc5-85e885271dc9\",\"type\":\"ColumnDataSource\"},\"glyph\":{\"id\":\"a16d344a-4151-44fa-897c-48572c3b5e9e\",\"type\":\"Rect\"},\"hover_glyph\":null,\"nonselection_glyph\":null,\"selection_glyph\":null},\"id\":\"2736eda2-92cb-4704-9d31-b13333afde80\",\"type\":\"GlyphRenderer\"},{\"attributes\":{\"data_source\":{\"id\":\"c53fb898-938f-4caf-b33d-6dc14187798f\",\"type\":\"ColumnDataSource\"},\"glyph\":{\"id\":\"88d0b0cb-caf7-48d1-a1c8-03a5c6d74a81\",\"type\":\"Rect\"},\"hover_glyph\":null,\"nonselection_glyph\":null,\"selection_glyph\":null},\"id\":\"936bd165-484c-4623-990f-d5584f7f14f5\",\"type\":\"GlyphRenderer\"},{\"attributes\":{\"callback\":null,\"column_names\":[\"line_color\",\"line_alpha\",\"color\",\"fill_alpha\",\"height\",\"width\",\"y\",\"x\",\"label\"],\"data\":{\"chart_index\":[{\"origin\":2,\"yr\":72}],\"color\":[\"#5ab738\"],\"fill_alpha\":[0.8],\"height\":[22.0],\"label\":[{\"origin\":2,\"yr\":72}],\"line_alpha\":[1.0],\"line_color\":[\"white\"],\"origin\":[2],\"width\":[0.2],\"x\":[\"72:0.75\"],\"y\":[11.0],\"yr\":[72]}},\"id\":\"db83baff-43d0-43b1-925f-25fdc628c428\",\"type\":\"ColumnDataSource\"},{\"attributes\":{\"axis_label\":\"Yr\",\"formatter\":{\"id\":\"6a8930f7-7dad-4bce-8ee8-c22d6ea4f167\",\"type\":\"CategoricalTickFormatter\"},\"major_label_orientation\":0.7853981633974483,\"plot\":{\"id\":\"9ba7a689-ec61-4f8c-9f09-ebbe3733fdd5\",\"subtype\":\"Chart\",\"type\":\"Plot\"},\"ticker\":{\"id\":\"e74a42d0-0383-4b2d-8cdf-29fd0ae081b5\",\"type\":\"CategoricalTicker\"}},\"id\":\"a83552f8-88cd-420c-a151-72ef140b1192\",\"type\":\"CategoricalAxis\"},{\"attributes\":{\"callback\":null,\"column_names\":[\"line_color\",\"line_alpha\",\"color\",\"fill_alpha\",\"height\",\"width\",\"y\",\"x\",\"label\"],\"data\":{\"chart_index\":[{\"origin\":2,\"yr\":79}],\"color\":[\"#5ab738\"],\"fill_alpha\":[0.8],\"height\":[29.549999999999997],\"label\":[{\"origin\":2,\"yr\":79}],\"line_alpha\":[1.0],\"line_color\":[\"white\"],\"origin\":[2],\"width\":[0.2],\"x\":[\"79:0.75\"],\"y\":[14.774999999999999],\"yr\":[79]}},\"id\":\"793b067e-bfee-4345-807b-8b27bef77e8f\",\"type\":\"ColumnDataSource\"},{\"attributes\":{\"data_source\":{\"id\":\"7d98443c-6473-4083-bdda-3d7036b9f55a\",\"type\":\"ColumnDataSource\"},\"glyph\":{\"id\":\"d7d58c26-862e-49a6-9116-d4f2f03c15c9\",\"type\":\"Rect\"},\"hover_glyph\":null,\"nonselection_glyph\":null,\"selection_glyph\":null},\"id\":\"641e3771-8c47-4fb2-8d6f-94ea70e8b6cd\",\"type\":\"GlyphRenderer\"},{\"attributes\":{\"data_source\":{\"id\":\"52537f5d-d858-445a-94a3-0a815729d3cf\",\"type\":\"ColumnDataSource\"},\"glyph\":{\"id\":\"a29e289e-802e-43cd-a82b-234d23f881ba\",\"type\":\"Rect\"},\"hover_glyph\":null,\"nonselection_glyph\":null,\"selection_glyph\":null},\"id\":\"99194cb3-2e8f-487d-8d74-dab2d9a61940\",\"type\":\"GlyphRenderer\"},{\"attributes\":{\"fill_alpha\":{\"field\":\"fill_alpha\"},\"fill_color\":{\"field\":\"color\"},\"height\":{\"field\":\"height\",\"units\":\"data\"},\"line_color\":{\"field\":\"line_color\"},\"width\":{\"field\":\"width\",\"units\":\"data\"},\"x\":{\"field\":\"x\"},\"y\":{\"field\":\"y\"}},\"id\":\"d7d58c26-862e-49a6-9116-d4f2f03c15c9\",\"type\":\"Rect\"},{\"attributes\":{\"fill_alpha\":{\"field\":\"fill_alpha\"},\"fill_color\":{\"field\":\"color\"},\"height\":{\"field\":\"height\",\"units\":\"data\"},\"line_color\":{\"field\":\"line_color\"},\"width\":{\"field\":\"width\",\"units\":\"data\"},\"x\":{\"field\":\"x\"},\"y\":{\"field\":\"y\"}},\"id\":\"9ada4288-abed-48ab-aa3c-7b51332a3ee1\",\"type\":\"Rect\"},{\"attributes\":{\"callback\":null,\"column_names\":[\"line_color\",\"line_alpha\",\"color\",\"fill_alpha\",\"height\",\"width\",\"y\",\"x\",\"label\"],\"data\":{\"chart_index\":[{\"origin\":1,\"yr\":78}],\"color\":[\"#f22c40\"],\"fill_alpha\":[0.8],\"height\":[20.2],\"label\":[{\"origin\":1,\"yr\":78}],\"line_alpha\":[1.0],\"line_color\":[\"white\"],\"origin\":[1],\"width\":[0.2],\"x\":[\"78:0.25\"],\"y\":[10.1],\"yr\":[78]}},\"id\":\"7caff0dc-89a1-44df-b8d9-0674ecc0f64d\",\"type\":\"ColumnDataSource\"},{\"attributes\":{\"plot\":null,\"text\":\"Median MPG by YR, grouped by ORIGIN\"},\"id\":\"8e16736e-9c05-48f7-8bb7-90645423fe73\",\"type\":\"Title\"},{\"attributes\":{\"callback\":null,\"column_names\":[\"line_color\",\"line_alpha\",\"color\",\"fill_alpha\",\"height\",\"width\",\"y\",\"x\",\"label\"],\"data\":{\"chart_index\":[{\"origin\":3,\"yr\":78}],\"color\":[\"#407ee7\"],\"fill_alpha\":[0.8],\"height\":[28.5],\"label\":[{\"origin\":3,\"yr\":78}],\"line_alpha\":[1.0],\"line_color\":[\"white\"],\"origin\":[3],\"width\":[0.2],\"x\":[\"78:0.5\"],\"y\":[14.25],\"yr\":[78]}},\"id\":\"1481d607-a39e-4bd7-b14c-83c3c5b22794\",\"type\":\"ColumnDataSource\"},{\"attributes\":{},\"id\":\"6a8930f7-7dad-4bce-8ee8-c22d6ea4f167\",\"type\":\"CategoricalTickFormatter\"},{\"attributes\":{\"data_source\":{\"id\":\"063a19cf-49dc-4fa8-913e-04e8e7eee5ca\",\"type\":\"ColumnDataSource\"},\"glyph\":{\"id\":\"79a50608-0e95-4d62-bb71-cc54a657d908\",\"type\":\"Rect\"},\"hover_glyph\":null,\"nonselection_glyph\":null,\"selection_glyph\":null},\"id\":\"f06844ec-6ff7-426a-b681-45e6c50ae109\",\"type\":\"GlyphRenderer\"},{\"attributes\":{\"fill_alpha\":{\"field\":\"fill_alpha\"},\"fill_color\":{\"field\":\"color\"},\"height\":{\"field\":\"height\",\"units\":\"data\"},\"line_color\":{\"field\":\"line_color\"},\"width\":{\"field\":\"width\",\"units\":\"data\"},\"x\":{\"field\":\"x\"},\"y\":{\"field\":\"y\"}},\"id\":\"014fcd4a-b39a-4074-81c0-05bde494bcc1\",\"type\":\"Rect\"},{\"attributes\":{\"data_source\":{\"id\":\"4469ff95-77e5-49af-a0a2-55e67203f5fd\",\"type\":\"ColumnDataSource\"},\"glyph\":{\"id\":\"c08a955f-ea3a-436e-a937-334fe9515ffd\",\"type\":\"Rect\"},\"hover_glyph\":null,\"nonselection_glyph\":null,\"selection_glyph\":null},\"id\":\"179d88ad-ee89-4e77-8bf0-79db1870dd5a\",\"type\":\"GlyphRenderer\"},{\"attributes\":{\"fill_alpha\":{\"field\":\"fill_alpha\"},\"fill_color\":{\"field\":\"color\"},\"height\":{\"field\":\"height\",\"units\":\"data\"},\"line_color\":{\"field\":\"line_color\"},\"width\":{\"field\":\"width\",\"units\":\"data\"},\"x\":{\"field\":\"x\"},\"y\":{\"field\":\"y\"}},\"id\":\"7d1d9ddc-ba09-484a-9785-942a6b6c5202\",\"type\":\"Rect\"},{\"attributes\":{\"callback\":null,\"column_names\":[\"line_color\",\"line_alpha\",\"color\",\"fill_alpha\",\"height\",\"width\",\"y\",\"x\",\"label\"],\"data\":{\"chart_index\":[{\"origin\":2,\"yr\":81}],\"color\":[\"#5ab738\"],\"fill_alpha\":[0.8],\"height\":[30.7],\"label\":[{\"origin\":2,\"yr\":81}],\"line_alpha\":[1.0],\"line_color\":[\"white\"],\"origin\":[2],\"width\":[0.2],\"x\":[\"81:0.75\"],\"y\":[15.35],\"yr\":[81]}},\"id\":\"58b58ed5-053c-42c3-b6f9-62fe58126161\",\"type\":\"ColumnDataSource\"},{\"attributes\":{\"data_source\":{\"id\":\"37917fca-a109-4360-a8a5-0b369a2358d9\",\"type\":\"ColumnDataSource\"},\"glyph\":{\"id\":\"a20156fc-9a8f-47c0-8fe6-b1ce14993883\",\"type\":\"Rect\"},\"hover_glyph\":null,\"nonselection_glyph\":null,\"selection_glyph\":null},\"id\":\"0c544241-98f2-40e8-aa0c-939fb1efe304\",\"type\":\"GlyphRenderer\"},{\"attributes\":{\"callback\":null,\"column_names\":[\"line_color\",\"line_alpha\",\"color\",\"fill_alpha\",\"height\",\"width\",\"y\",\"x\",\"label\"],\"data\":{\"chart_index\":[{\"origin\":1,\"yr\":77}],\"color\":[\"#f22c40\"],\"fill_alpha\":[0.8],\"height\":[18.0],\"label\":[{\"origin\":1,\"yr\":77}],\"line_alpha\":[1.0],\"line_color\":[\"white\"],\"origin\":[1],\"width\":[0.2],\"x\":[\"77:0.25\"],\"y\":[9.0],\"yr\":[77]}},\"id\":\"53705757-70b8-4290-9655-527c5c4bb385\",\"type\":\"ColumnDataSource\"},{\"attributes\":{\"fill_alpha\":{\"field\":\"fill_alpha\"},\"fill_color\":{\"field\":\"color\"},\"height\":{\"field\":\"height\",\"units\":\"data\"},\"line_color\":{\"field\":\"line_color\"},\"width\":{\"field\":\"width\",\"units\":\"data\"},\"x\":{\"field\":\"x\"},\"y\":{\"field\":\"y\"}},\"id\":\"c08a955f-ea3a-436e-a937-334fe9515ffd\",\"type\":\"Rect\"},{\"attributes\":{\"data_source\":{\"id\":\"dafe99dd-21b8-4b02-983c-a28fcc4be418\",\"type\":\"ColumnDataSource\"},\"glyph\":{\"id\":\"4c0c4212-6aa7-418a-a0e0-24a78875e3f5\",\"type\":\"Rect\"},\"hover_glyph\":null,\"nonselection_glyph\":null,\"selection_glyph\":null},\"id\":\"236f5e54-5e33-4f65-b8ad-710c5a005d90\",\"type\":\"GlyphRenderer\"},{\"attributes\":{\"callback\":null,\"column_names\":[\"line_color\",\"line_alpha\",\"color\",\"fill_alpha\",\"height\",\"width\",\"y\",\"x\",\"label\"],\"data\":{\"chart_index\":[{\"origin\":1,\"yr\":82}],\"color\":[\"#f22c40\"],\"fill_alpha\":[0.8],\"height\":[28.0],\"label\":[{\"origin\":1,\"yr\":82}],\"line_alpha\":[1.0],\"line_color\":[\"white\"],\"origin\":[1],\"width\":[0.2],\"x\":[\"82:0.25\"],\"y\":[14.0],\"yr\":[82]}},\"id\":\"52537f5d-d858-445a-94a3-0a815729d3cf\",\"type\":\"ColumnDataSource\"},{\"attributes\":{\"data_source\":{\"id\":\"e24397bb-50ad-470f-a7ec-81c50038d017\",\"type\":\"ColumnDataSource\"},\"glyph\":{\"id\":\"8ee3d12d-b88e-48b5-941d-8699a4233179\",\"type\":\"Rect\"},\"hover_glyph\":null,\"nonselection_glyph\":null,\"selection_glyph\":null},\"id\":\"3324529d-24d6-4793-8852-776ad6eac655\",\"type\":\"GlyphRenderer\"},{\"attributes\":{\"callback\":null,\"column_names\":[\"line_color\",\"line_alpha\",\"color\",\"fill_alpha\",\"height\",\"width\",\"y\",\"x\",\"label\"],\"data\":{\"chart_index\":[{\"origin\":2,\"yr\":70}],\"color\":[\"#5ab738\"],\"fill_alpha\":[0.8],\"height\":[25.0],\"label\":[{\"origin\":2,\"yr\":70}],\"line_alpha\":[1.0],\"line_color\":[\"white\"],\"origin\":[2],\"width\":[0.2],\"x\":[\"70:0.75\"],\"y\":[12.5],\"yr\":[70]}},\"id\":\"bb6a04d2-be71-420f-ba82-e763e7a55f03\",\"type\":\"ColumnDataSource\"},{\"attributes\":{\"data_source\":{\"id\":\"8115d93b-4879-4665-bafa-eab84c4a4137\",\"type\":\"ColumnDataSource\"},\"glyph\":{\"id\":\"f1b1f9eb-92da-4c5f-bd58-423c37505ba0\",\"type\":\"Rect\"},\"hover_glyph\":null,\"nonselection_glyph\":null,\"selection_glyph\":null},\"id\":\"651bce3d-6dfd-4d92-bc1d-4f09e229ae0b\",\"type\":\"GlyphRenderer\"},{\"attributes\":{\"fill_alpha\":{\"field\":\"fill_alpha\"},\"fill_color\":{\"field\":\"color\"},\"height\":{\"field\":\"height\",\"units\":\"data\"},\"line_color\":{\"field\":\"line_color\"},\"width\":{\"field\":\"width\",\"units\":\"data\"},\"x\":{\"field\":\"x\"},\"y\":{\"field\":\"y\"}},\"id\":\"2bdfd52b-52f1-4b00-8dc2-2f2ac8f7aa76\",\"type\":\"Rect\"},{\"attributes\":{\"data_source\":{\"id\":\"53705757-70b8-4290-9655-527c5c4bb385\",\"type\":\"ColumnDataSource\"},\"glyph\":{\"id\":\"ec2914f2-3fb9-4609-8018-6e59ce33b24a\",\"type\":\"Rect\"},\"hover_glyph\":null,\"nonselection_glyph\":null,\"selection_glyph\":null},\"id\":\"1919df6a-7392-47a5-9b57-4370113924de\",\"type\":\"GlyphRenderer\"},{\"attributes\":{},\"id\":\"ff62b034-97ed-47e9-972e-aae7be5206ac\",\"type\":\"BasicTicker\"},{\"attributes\":{\"fill_alpha\":{\"field\":\"fill_alpha\"},\"fill_color\":{\"field\":\"color\"},\"height\":{\"field\":\"height\",\"units\":\"data\"},\"line_color\":{\"field\":\"line_color\"},\"width\":{\"field\":\"width\",\"units\":\"data\"},\"x\":{\"field\":\"x\"},\"y\":{\"field\":\"y\"}},\"id\":\"d00d17ab-4458-4e99-af12-17ba6a96b426\",\"type\":\"Rect\"},{\"attributes\":{\"data_source\":{\"id\":\"7caff0dc-89a1-44df-b8d9-0674ecc0f64d\",\"type\":\"ColumnDataSource\"},\"glyph\":{\"id\":\"014fcd4a-b39a-4074-81c0-05bde494bcc1\",\"type\":\"Rect\"},\"hover_glyph\":null,\"nonselection_glyph\":null,\"selection_glyph\":null},\"id\":\"f711958e-f903-42f1-9054-3601585c9877\",\"type\":\"GlyphRenderer\"},{\"attributes\":{\"callback\":null,\"column_names\":[\"line_color\",\"line_alpha\",\"color\",\"fill_alpha\",\"height\",\"width\",\"y\",\"x\",\"label\"],\"data\":{\"chart_index\":[{\"origin\":2,\"yr\":71}],\"color\":[\"#5ab738\"],\"fill_alpha\":[0.8],\"height\":[29.0],\"label\":[{\"origin\":2,\"yr\":71}],\"line_alpha\":[1.0],\"line_color\":[\"white\"],\"origin\":[2],\"width\":[0.2],\"x\":[\"71:0.75\"],\"y\":[14.5],\"yr\":[71]}},\"id\":\"6480a946-6eb6-42d0-82ae-83a444a7fa3e\",\"type\":\"ColumnDataSource\"},{\"attributes\":{\"callback\":null,\"column_names\":[\"line_color\",\"line_alpha\",\"color\",\"fill_alpha\",\"height\",\"width\",\"y\",\"x\",\"label\"],\"data\":{\"chart_index\":[{\"origin\":1,\"yr\":80}],\"color\":[\"#f22c40\"],\"fill_alpha\":[0.8],\"height\":[27.15],\"label\":[{\"origin\":1,\"yr\":80}],\"line_alpha\":[1.0],\"line_color\":[\"white\"],\"origin\":[1],\"width\":[0.2],\"x\":[\"80:0.25\"],\"y\":[13.575],\"yr\":[80]}},\"id\":\"c53fb898-938f-4caf-b33d-6dc14187798f\",\"type\":\"ColumnDataSource\"},{\"attributes\":{\"data_source\":{\"id\":\"003dd500-1d95-425e-8974-b455f63be00c\",\"type\":\"ColumnDataSource\"},\"glyph\":{\"id\":\"16119002-75a0-4c84-9b0c-51f3898d57ff\",\"type\":\"Rect\"},\"hover_glyph\":null,\"nonselection_glyph\":null,\"selection_glyph\":null},\"id\":\"dca0c009-cb82-4eb6-b527-ff9eaf596296\",\"type\":\"GlyphRenderer\"},{\"attributes\":{\"callback\":null,\"column_names\":[\"line_color\",\"line_alpha\",\"color\",\"fill_alpha\",\"height\",\"width\",\"y\",\"x\",\"label\"],\"data\":{\"chart_index\":[{\"origin\":2,\"yr\":80}],\"color\":[\"#5ab738\"],\"fill_alpha\":[0.8],\"height\":[35.7],\"label\":[{\"origin\":2,\"yr\":80}],\"line_alpha\":[1.0],\"line_color\":[\"white\"],\"origin\":[2],\"width\":[0.2],\"x\":[\"80:0.75\"],\"y\":[17.85],\"yr\":[80]}},\"id\":\"7bc403c0-5692-4031-b5d7-39df80334455\",\"type\":\"ColumnDataSource\"},{\"attributes\":{\"callback\":null,\"column_names\":[\"line_color\",\"line_alpha\",\"color\",\"fill_alpha\",\"height\",\"width\",\"y\",\"x\",\"label\"],\"data\":{\"chart_index\":[{\"origin\":3,\"yr\":82}],\"color\":[\"#407ee7\"],\"fill_alpha\":[0.8],\"height\":[36.0],\"label\":[{\"origin\":3,\"yr\":82}],\"line_alpha\":[1.0],\"line_color\":[\"white\"],\"origin\":[3],\"width\":[0.2],\"x\":[\"82:0.5\"],\"y\":[18.0],\"yr\":[82]}},\"id\":\"92459153-cb36-41c5-a485-ec9f4715648e\",\"type\":\"ColumnDataSource\"},{\"attributes\":{\"callback\":null,\"column_names\":[\"line_color\",\"line_alpha\",\"color\",\"fill_alpha\",\"height\",\"width\",\"y\",\"x\",\"label\"],\"data\":{\"chart_index\":[{\"origin\":2,\"yr\":73}],\"color\":[\"#5ab738\"],\"fill_alpha\":[0.8],\"height\":[24.0],\"label\":[{\"origin\":2,\"yr\":73}],\"line_alpha\":[1.0],\"line_color\":[\"white\"],\"origin\":[2],\"width\":[0.2],\"x\":[\"73:0.75\"],\"y\":[12.0],\"yr\":[73]}},\"id\":\"063a19cf-49dc-4fa8-913e-04e8e7eee5ca\",\"type\":\"ColumnDataSource\"},{\"attributes\":{\"callback\":null,\"column_names\":[\"line_color\",\"line_alpha\",\"color\",\"fill_alpha\",\"height\",\"width\",\"y\",\"x\",\"label\"],\"data\":{\"chart_index\":[{\"origin\":3,\"yr\":80}],\"color\":[\"#407ee7\"],\"fill_alpha\":[0.8],\"height\":[33.8],\"label\":[{\"origin\":3,\"yr\":80}],\"line_alpha\":[1.0],\"line_color\":[\"white\"],\"origin\":[3],\"width\":[0.2],\"x\":[\"80:0.5\"],\"y\":[16.9],\"yr\":[80]}},\"id\":\"b119aae1-39d9-4a04-a209-6ef988436800\",\"type\":\"ColumnDataSource\"},{\"attributes\":{\"below\":[{\"id\":\"a83552f8-88cd-420c-a151-72ef140b1192\",\"type\":\"CategoricalAxis\"}],\"left\":[{\"id\":\"8048990c-8f21-4693-ba35-60a6df8d2865\",\"type\":\"LinearAxis\"}],\"renderers\":[{\"id\":\"bd694fcd-3130-4791-a1ab-aea76b2a2399\",\"type\":\"GlyphRenderer\"},{\"id\":\"2bd8a8c2-03db-491d-8a48-428c4784cc6a\",\"type\":\"GlyphRenderer\"},{\"id\":\"d9ab5d73-2be8-431b-9a27-a6d8de45e4ef\",\"type\":\"GlyphRenderer\"},{\"id\":\"e73c5c72-e4eb-48f0-ba88-f7d7afb7aac1\",\"type\":\"GlyphRenderer\"},{\"id\":\"81dcb8fe-9543-4356-ae7e-814169c73658\",\"type\":\"GlyphRenderer\"},{\"id\":\"af596c66-0aac-4ead-951b-2a51c3a5fed4\",\"type\":\"GlyphRenderer\"},{\"id\":\"208d325e-96a8-4238-8851-5ca9e7ebf3d8\",\"type\":\"GlyphRenderer\"},{\"id\":\"bcfb7718-7c08-40a7-8892-29615165cc35\",\"type\":\"GlyphRenderer\"},{\"id\":\"a4e0cb8a-f2ce-468c-abea-4f148d130fdb\",\"type\":\"GlyphRenderer\"},{\"id\":\"dca0c009-cb82-4eb6-b527-ff9eaf596296\",\"type\":\"GlyphRenderer\"},{\"id\":\"f06844ec-6ff7-426a-b681-45e6c50ae109\",\"type\":\"GlyphRenderer\"},{\"id\":\"0c544241-98f2-40e8-aa0c-939fb1efe304\",\"type\":\"GlyphRenderer\"},{\"id\":\"fe6f393f-2cb9-43b4-b273-778085b9c4af\",\"type\":\"GlyphRenderer\"},{\"id\":\"096a1da2-a109-4fd8-8f5a-09a240b4268b\",\"type\":\"GlyphRenderer\"},{\"id\":\"1e41b146-e54e-496f-b614-53f401899631\",\"type\":\"GlyphRenderer\"},{\"id\":\"179d88ad-ee89-4e77-8bf0-79db1870dd5a\",\"type\":\"GlyphRenderer\"},{\"id\":\"f2f2515a-5745-4a4e-af98-f37d0b3ba11d\",\"type\":\"GlyphRenderer\"},{\"id\":\"2736eda2-92cb-4704-9d31-b13333afde80\",\"type\":\"GlyphRenderer\"},{\"id\":\"e6d3cb60-2649-4943-8220-71da850e44a4\",\"type\":\"GlyphRenderer\"},{\"id\":\"e989e300-f0b1-4fc7-bebb-eab7578c78f7\",\"type\":\"GlyphRenderer\"},{\"id\":\"3324529d-24d6-4793-8852-776ad6eac655\",\"type\":\"GlyphRenderer\"},{\"id\":\"253b0e06-408d-48fb-9057-70f6910f01ea\",\"type\":\"GlyphRenderer\"},{\"id\":\"1919df6a-7392-47a5-9b57-4370113924de\",\"type\":\"GlyphRenderer\"},{\"id\":\"2540bc34-34c6-4862-95d7-2afe5182e0a1\",\"type\":\"GlyphRenderer\"},{\"id\":\"651bce3d-6dfd-4d92-bc1d-4f09e229ae0b\",\"type\":\"GlyphRenderer\"},{\"id\":\"f711958e-f903-42f1-9054-3601585c9877\",\"type\":\"GlyphRenderer\"},{\"id\":\"938a3650-4d89-4c33-99cf-06147342ff26\",\"type\":\"GlyphRenderer\"},{\"id\":\"641e3771-8c47-4fb2-8d6f-94ea70e8b6cd\",\"type\":\"GlyphRenderer\"},{\"id\":\"e8a496a2-6070-46f6-b82b-bc0829e586c9\",\"type\":\"GlyphRenderer\"},{\"id\":\"21151838-5a5e-469b-8568-ce01a1292795\",\"type\":\"GlyphRenderer\"},{\"id\":\"5b207603-664e-4c1d-9589-3e9a9e5a7a4e\",\"type\":\"GlyphRenderer\"},{\"id\":\"1325c695-9514-45c8-9a42-c93e558a8f25\",\"type\":\"GlyphRenderer\"},{\"id\":\"936bd165-484c-4623-990f-d5584f7f14f5\",\"type\":\"GlyphRenderer\"},{\"id\":\"8026a001-279c-49a2-8645-60a235d0bff5\",\"type\":\"GlyphRenderer\"},{\"id\":\"236f5e54-5e33-4f65-b8ad-710c5a005d90\",\"type\":\"GlyphRenderer\"},{\"id\":\"3be65700-8f1f-41f9-8e88-fa5e79fe212c\",\"type\":\"GlyphRenderer\"},{\"id\":\"99194cb3-2e8f-487d-8d74-dab2d9a61940\",\"type\":\"GlyphRenderer\"},{\"id\":\"e7e3f815-ed87-4cfd-816d-7c71f2903da4\",\"type\":\"GlyphRenderer\"},{\"id\":\"da168c8a-145e-4b0a-ba77-8ef68dc80c8b\",\"type\":\"GlyphRenderer\"},{\"id\":\"efc58f17-4c29-4a2d-b9d4-3bee5b0fb625\",\"type\":\"Legend\"},{\"id\":\"a83552f8-88cd-420c-a151-72ef140b1192\",\"type\":\"CategoricalAxis\"},{\"id\":\"8048990c-8f21-4693-ba35-60a6df8d2865\",\"type\":\"LinearAxis\"},{\"id\":\"2b18a4de-43d5-41cb-8658-ce826de5d308\",\"type\":\"Grid\"}],\"title\":{\"id\":\"8e16736e-9c05-48f7-8bb7-90645423fe73\",\"type\":\"Title\"},\"tool_events\":{\"id\":\"f46151f3-1f87-4c68-be7f-0561505f14e7\",\"type\":\"ToolEvents\"},\"toolbar\":{\"id\":\"8c1130b0-290c-48d4-9e91-ec3ded55006c\",\"type\":\"Toolbar\"},\"x_mapper_type\":\"auto\",\"x_range\":{\"id\":\"5bf5ad49-4953-48ba-9d79-550ff8bf0ccf\",\"type\":\"FactorRange\"},\"y_mapper_type\":\"auto\",\"y_range\":{\"id\":\"5d8f2195-ce08-47ad-a8ba-10843dd78438\",\"type\":\"Range1d\"}},\"id\":\"9ba7a689-ec61-4f8c-9f09-ebbe3733fdd5\",\"subtype\":\"Chart\",\"type\":\"Plot\"},{\"attributes\":{\"fill_alpha\":{\"field\":\"fill_alpha\"},\"fill_color\":{\"field\":\"color\"},\"height\":{\"field\":\"height\",\"units\":\"data\"},\"line_color\":{\"field\":\"line_color\"},\"width\":{\"field\":\"width\",\"units\":\"data\"},\"x\":{\"field\":\"x\"},\"y\":{\"field\":\"y\"}},\"id\":\"c2bd7df0-6ae1-47f1-9000-46fe884facdb\",\"type\":\"Rect\"},{\"attributes\":{\"data_source\":{\"id\":\"ca012dd8-cd28-4fbe-81b3-cddd1f59335c\",\"type\":\"ColumnDataSource\"},\"glyph\":{\"id\":\"9ada4288-abed-48ab-aa3c-7b51332a3ee1\",\"type\":\"Rect\"},\"hover_glyph\":null,\"nonselection_glyph\":null,\"selection_glyph\":null},\"id\":\"e7e3f815-ed87-4cfd-816d-7c71f2903da4\",\"type\":\"GlyphRenderer\"},{\"attributes\":{\"legends\":[[\"1\",[{\"id\":\"bd694fcd-3130-4791-a1ab-aea76b2a2399\",\"type\":\"GlyphRenderer\"}]],[\"3\",[{\"id\":\"2bd8a8c2-03db-491d-8a48-428c4784cc6a\",\"type\":\"GlyphRenderer\"}]],[\"2\",[{\"id\":\"d9ab5d73-2be8-431b-9a27-a6d8de45e4ef\",\"type\":\"GlyphRenderer\"}]]],\"location\":\"top_left\",\"plot\":{\"id\":\"9ba7a689-ec61-4f8c-9f09-ebbe3733fdd5\",\"subtype\":\"Chart\",\"type\":\"Plot\"}},\"id\":\"efc58f17-4c29-4a2d-b9d4-3bee5b0fb625\",\"type\":\"Legend\"},{\"attributes\":{\"fill_alpha\":{\"field\":\"fill_alpha\"},\"fill_color\":{\"field\":\"color\"},\"height\":{\"field\":\"height\",\"units\":\"data\"},\"line_color\":{\"field\":\"line_color\"},\"width\":{\"field\":\"width\",\"units\":\"data\"},\"x\":{\"field\":\"x\"},\"y\":{\"field\":\"y\"}},\"id\":\"c11d3386-6a1e-4715-ab2e-5a510ba0e0b4\",\"type\":\"Rect\"},{\"attributes\":{},\"id\":\"3416c74c-3dd9-4af8-ba09-ad4f458612d5\",\"type\":\"BasicTickFormatter\"},{\"attributes\":{},\"id\":\"e74a42d0-0383-4b2d-8cdf-29fd0ae081b5\",\"type\":\"CategoricalTicker\"},{\"attributes\":{\"fill_alpha\":{\"field\":\"fill_alpha\"},\"fill_color\":{\"field\":\"color\"},\"height\":{\"field\":\"height\",\"units\":\"data\"},\"line_color\":{\"field\":\"line_color\"},\"width\":{\"field\":\"width\",\"units\":\"data\"},\"x\":{\"field\":\"x\"},\"y\":{\"field\":\"y\"}},\"id\":\"f1b1f9eb-92da-4c5f-bd58-423c37505ba0\",\"type\":\"Rect\"},{\"attributes\":{\"data_source\":{\"id\":\"dceea90d-dc86-4e10-af55-bc69b9da0141\",\"type\":\"ColumnDataSource\"},\"glyph\":{\"id\":\"efcf7271-045e-400e-8720-9645a570b4e2\",\"type\":\"Rect\"},\"hover_glyph\":null,\"nonselection_glyph\":null,\"selection_glyph\":null},\"id\":\"81dcb8fe-9543-4356-ae7e-814169c73658\",\"type\":\"GlyphRenderer\"},{\"attributes\":{\"plot\":{\"id\":\"9ba7a689-ec61-4f8c-9f09-ebbe3733fdd5\",\"subtype\":\"Chart\",\"type\":\"Plot\"}},\"id\":\"e0f581db-d981-4fae-9ed4-e2491d2b210f\",\"type\":\"CrosshairTool\"},{\"attributes\":{\"data_source\":{\"id\":\"2526bb0a-236c-45e8-a177-2424c98d0266\",\"type\":\"ColumnDataSource\"},\"glyph\":{\"id\":\"4a29230e-e52a-4b16-95fd-a6b05b005eed\",\"type\":\"Rect\"},\"hover_glyph\":null,\"nonselection_glyph\":null,\"selection_glyph\":null},\"id\":\"bd694fcd-3130-4791-a1ab-aea76b2a2399\",\"type\":\"GlyphRenderer\"},{\"attributes\":{\"callback\":null,\"column_names\":[\"line_color\",\"line_alpha\",\"color\",\"fill_alpha\",\"height\",\"width\",\"y\",\"x\",\"label\"],\"data\":{\"chart_index\":[{\"origin\":1,\"yr\":76}],\"color\":[\"#f22c40\"],\"fill_alpha\":[0.8],\"height\":[18.25],\"label\":[{\"origin\":1,\"yr\":76}],\"line_alpha\":[1.0],\"line_color\":[\"white\"],\"origin\":[1],\"width\":[0.2],\"x\":[\"76:0.25\"],\"y\":[9.125],\"yr\":[76]}},\"id\":\"a0aed7e0-2496-4166-b67e-f5739765cf3b\",\"type\":\"ColumnDataSource\"},{\"attributes\":{\"callback\":null,\"column_names\":[\"line_color\",\"line_alpha\",\"color\",\"fill_alpha\",\"height\",\"width\",\"y\",\"x\",\"label\"],\"data\":{\"chart_index\":[{\"origin\":1,\"yr\":75}],\"color\":[\"#f22c40\"],\"fill_alpha\":[0.8],\"height\":[17.5],\"label\":[{\"origin\":1,\"yr\":75}],\"line_alpha\":[1.0],\"line_color\":[\"white\"],\"origin\":[1],\"width\":[0.2],\"x\":[\"75:0.25\"],\"y\":[8.75],\"yr\":[75]}},\"id\":\"4469ff95-77e5-49af-a0a2-55e67203f5fd\",\"type\":\"ColumnDataSource\"},{\"attributes\":{\"fill_alpha\":{\"field\":\"fill_alpha\"},\"fill_color\":{\"field\":\"color\"},\"height\":{\"field\":\"height\",\"units\":\"data\"},\"line_color\":{\"field\":\"line_color\"},\"width\":{\"field\":\"width\",\"units\":\"data\"},\"x\":{\"field\":\"x\"},\"y\":{\"field\":\"y\"}},\"id\":\"0007c5c8-5850-4210-b583-7285fe7a3b98\",\"type\":\"Rect\"},{\"attributes\":{\"fill_alpha\":{\"field\":\"fill_alpha\"},\"fill_color\":{\"field\":\"color\"},\"height\":{\"field\":\"height\",\"units\":\"data\"},\"line_color\":{\"field\":\"line_color\"},\"width\":{\"field\":\"width\",\"units\":\"data\"},\"x\":{\"field\":\"x\"},\"y\":{\"field\":\"y\"}},\"id\":\"d6218b3c-6e17-4681-b4c1-4a6eb50e5b12\",\"type\":\"Rect\"},{\"attributes\":{\"callback\":null,\"column_names\":[\"line_color\",\"line_alpha\",\"color\",\"fill_alpha\",\"height\",\"width\",\"y\",\"x\",\"label\"],\"data\":{\"chart_index\":[{\"origin\":2,\"yr\":77}],\"color\":[\"#5ab738\"],\"fill_alpha\":[0.8],\"height\":[29.75],\"label\":[{\"origin\":2,\"yr\":77}],\"line_alpha\":[1.0],\"line_color\":[\"white\"],\"origin\":[2],\"width\":[0.2],\"x\":[\"77:0.75\"],\"y\":[14.875],\"yr\":[77]}},\"id\":\"605bc1ae-66de-4ba1-9013-1d6b8a6b7c93\",\"type\":\"ColumnDataSource\"},{\"attributes\":{\"data_source\":{\"id\":\"3e565413-3a9c-4f8a-9e06-ea63a41a438f\",\"type\":\"ColumnDataSource\"},\"glyph\":{\"id\":\"4e3a36eb-b809-49f6-97cc-2cf681c06dae\",\"type\":\"Rect\"},\"hover_glyph\":null,\"nonselection_glyph\":null,\"selection_glyph\":null},\"id\":\"1e41b146-e54e-496f-b614-53f401899631\",\"type\":\"GlyphRenderer\"},{\"attributes\":{\"axis_label\":\"Median( Mpg )\",\"formatter\":{\"id\":\"3416c74c-3dd9-4af8-ba09-ad4f458612d5\",\"type\":\"BasicTickFormatter\"},\"plot\":{\"id\":\"9ba7a689-ec61-4f8c-9f09-ebbe3733fdd5\",\"subtype\":\"Chart\",\"type\":\"Plot\"},\"ticker\":{\"id\":\"ff62b034-97ed-47e9-972e-aae7be5206ac\",\"type\":\"BasicTicker\"}},\"id\":\"8048990c-8f21-4693-ba35-60a6df8d2865\",\"type\":\"LinearAxis\"},{\"attributes\":{},\"id\":\"f46151f3-1f87-4c68-be7f-0561505f14e7\",\"type\":\"ToolEvents\"},{\"attributes\":{\"fill_alpha\":{\"field\":\"fill_alpha\"},\"fill_color\":{\"field\":\"color\"},\"height\":{\"field\":\"height\",\"units\":\"data\"},\"line_color\":{\"field\":\"line_color\"},\"width\":{\"field\":\"width\",\"units\":\"data\"},\"x\":{\"field\":\"x\"},\"y\":{\"field\":\"y\"}},\"id\":\"88d0b0cb-caf7-48d1-a1c8-03a5c6d74a81\",\"type\":\"Rect\"},{\"attributes\":{\"data_source\":{\"id\":\"605bc1ae-66de-4ba1-9013-1d6b8a6b7c93\",\"type\":\"ColumnDataSource\"},\"glyph\":{\"id\":\"d00d17ab-4458-4e99-af12-17ba6a96b426\",\"type\":\"Rect\"},\"hover_glyph\":null,\"nonselection_glyph\":null,\"selection_glyph\":null},\"id\":\"2540bc34-34c6-4862-95d7-2afe5182e0a1\",\"type\":\"GlyphRenderer\"},{\"attributes\":{\"data_source\":{\"id\":\"daf83a47-c784-4e4b-a49b-5aa492fec216\",\"type\":\"ColumnDataSource\"},\"glyph\":{\"id\":\"dd5d6738-1589-439d-be8a-a4ce9234401c\",\"type\":\"Rect\"},\"hover_glyph\":null,\"nonselection_glyph\":null,\"selection_glyph\":null},\"id\":\"f2f2515a-5745-4a4e-af98-f37d0b3ba11d\",\"type\":\"GlyphRenderer\"},{\"attributes\":{\"data_source\":{\"id\":\"6480a946-6eb6-42d0-82ae-83a444a7fa3e\",\"type\":\"ColumnDataSource\"},\"glyph\":{\"id\":\"aaef5b8d-f3f0-44e0-b831-862eefce162d\",\"type\":\"Rect\"},\"hover_glyph\":null,\"nonselection_glyph\":null,\"selection_glyph\":null},\"id\":\"af596c66-0aac-4ead-951b-2a51c3a5fed4\",\"type\":\"GlyphRenderer\"},{\"attributes\":{\"data_source\":{\"id\":\"db83baff-43d0-43b1-925f-25fdc628c428\",\"type\":\"ColumnDataSource\"},\"glyph\":{\"id\":\"4fe1c216-62b2-423b-8712-0725f6337d0b\",\"type\":\"Rect\"},\"hover_glyph\":null,\"nonselection_glyph\":null,\"selection_glyph\":null},\"id\":\"a4e0cb8a-f2ce-468c-abea-4f148d130fdb\",\"type\":\"GlyphRenderer\"},{\"attributes\":{\"callback\":null,\"column_names\":[\"line_color\",\"line_alpha\",\"color\",\"fill_alpha\",\"height\",\"width\",\"y\",\"x\",\"label\"],\"data\":{\"chart_index\":[{\"origin\":1,\"yr\":70}],\"color\":[\"#f22c40\"],\"fill_alpha\":[0.8],\"height\":[15.0],\"label\":[{\"origin\":1,\"yr\":70}],\"line_alpha\":[1.0],\"line_color\":[\"white\"],\"origin\":[1],\"width\":[0.2],\"x\":[\"70:0.25\"],\"y\":[7.5],\"yr\":[70]}},\"id\":\"2526bb0a-236c-45e8-a177-2424c98d0266\",\"type\":\"ColumnDataSource\"},{\"attributes\":{\"callback\":null,\"column_names\":[\"line_color\",\"line_alpha\",\"color\",\"fill_alpha\",\"height\",\"width\",\"y\",\"x\",\"label\"],\"data\":{\"chart_index\":[{\"origin\":2,\"yr\":82}],\"color\":[\"#5ab738\"],\"fill_alpha\":[0.8],\"height\":[40.0],\"label\":[{\"origin\":2,\"yr\":82}],\"line_alpha\":[1.0],\"line_color\":[\"white\"],\"origin\":[2],\"width\":[0.2],\"x\":[\"82:0.75\"],\"y\":[20.0],\"yr\":[82]}},\"id\":\"ca012dd8-cd28-4fbe-81b3-cddd1f59335c\",\"type\":\"ColumnDataSource\"},{\"attributes\":{\"fill_alpha\":{\"field\":\"fill_alpha\"},\"fill_color\":{\"field\":\"color\"},\"height\":{\"field\":\"height\",\"units\":\"data\"},\"line_color\":{\"field\":\"line_color\"},\"width\":{\"field\":\"width\",\"units\":\"data\"},\"x\":{\"field\":\"x\"},\"y\":{\"field\":\"y\"}},\"id\":\"a20156fc-9a8f-47c0-8fe6-b1ce14993883\",\"type\":\"Rect\"},{\"attributes\":{\"callback\":null,\"column_names\":[\"line_color\",\"line_alpha\",\"color\",\"fill_alpha\",\"height\",\"width\",\"y\",\"x\",\"label\"],\"data\":{\"chart_index\":[{\"origin\":1,\"yr\":74}],\"color\":[\"#f22c40\"],\"fill_alpha\":[0.8],\"height\":[16.0],\"label\":[{\"origin\":1,\"yr\":74}],\"line_alpha\":[1.0],\"line_color\":[\"white\"],\"origin\":[1],\"width\":[0.2],\"x\":[\"74:0.25\"],\"y\":[8.0],\"yr\":[74]}},\"id\":\"8ae56419-549b-4e7c-9ba5-37b972eb3639\",\"type\":\"ColumnDataSource\"},{\"attributes\":{\"data_source\":{\"id\":\"8ae56419-549b-4e7c-9ba5-37b972eb3639\",\"type\":\"ColumnDataSource\"},\"glyph\":{\"id\":\"1861d4c7-39bd-45ef-bc9d-9372665f3b89\",\"type\":\"Rect\"},\"hover_glyph\":null,\"nonselection_glyph\":null,\"selection_glyph\":null},\"id\":\"fe6f393f-2cb9-43b4-b273-778085b9c4af\",\"type\":\"GlyphRenderer\"},{\"attributes\":{\"callback\":null,\"column_names\":[\"line_color\",\"line_alpha\",\"color\",\"fill_alpha\",\"height\",\"width\",\"y\",\"x\",\"label\"],\"data\":{\"chart_index\":[{\"origin\":2,\"yr\":75}],\"color\":[\"#5ab738\"],\"fill_alpha\":[0.8],\"height\":[24.0],\"label\":[{\"origin\":2,\"yr\":75}],\"line_alpha\":[1.0],\"line_color\":[\"white\"],\"origin\":[2],\"width\":[0.2],\"x\":[\"75:0.75\"],\"y\":[12.0],\"yr\":[75]}},\"id\":\"4589fcc3-27d0-4fad-acc5-85e885271dc9\",\"type\":\"ColumnDataSource\"},{\"attributes\":{\"dimension\":1,\"plot\":{\"id\":\"9ba7a689-ec61-4f8c-9f09-ebbe3733fdd5\",\"subtype\":\"Chart\",\"type\":\"Plot\"},\"ticker\":{\"id\":\"ff62b034-97ed-47e9-972e-aae7be5206ac\",\"type\":\"BasicTicker\"}},\"id\":\"2b18a4de-43d5-41cb-8658-ce826de5d308\",\"type\":\"Grid\"},{\"attributes\":{\"fill_alpha\":{\"field\":\"fill_alpha\"},\"fill_color\":{\"field\":\"color\"},\"height\":{\"field\":\"height\",\"units\":\"data\"},\"line_color\":{\"field\":\"line_color\"},\"width\":{\"field\":\"width\",\"units\":\"data\"},\"x\":{\"field\":\"x\"},\"y\":{\"field\":\"y\"}},\"id\":\"14e4bcf9-0551-4d33-b9b5-d6f1675cf53f\",\"type\":\"Rect\"},{\"attributes\":{\"callback\":null,\"column_names\":[\"line_color\",\"line_alpha\",\"color\",\"fill_alpha\",\"height\",\"width\",\"y\",\"x\",\"label\"],\"data\":{\"chart_index\":[{\"origin\":3,\"yr\":73}],\"color\":[\"#407ee7\"],\"fill_alpha\":[0.8],\"height\":[20.0],\"label\":[{\"origin\":3,\"yr\":73}],\"line_alpha\":[1.0],\"line_color\":[\"white\"],\"origin\":[3],\"width\":[0.2],\"x\":[\"73:0.5\"],\"y\":[10.0],\"yr\":[73]}},\"id\":\"37917fca-a109-4360-a8a5-0b369a2358d9\",\"type\":\"ColumnDataSource\"},{\"attributes\":{\"callback\":null,\"column_names\":[\"line_color\",\"line_alpha\",\"color\",\"fill_alpha\",\"height\",\"width\",\"y\",\"x\",\"label\"],\"data\":{\"chart_index\":[{\"origin\":1,\"yr\":71}],\"color\":[\"#f22c40\"],\"fill_alpha\":[0.8],\"height\":[18.0],\"label\":[{\"origin\":1,\"yr\":71}],\"line_alpha\":[1.0],\"line_color\":[\"white\"],\"origin\":[1],\"width\":[0.2],\"x\":[\"71:0.25\"],\"y\":[9.0],\"yr\":[71]}},\"id\":\"dceea90d-dc86-4e10-af55-bc69b9da0141\",\"type\":\"ColumnDataSource\"},{\"attributes\":{\"fill_alpha\":{\"field\":\"fill_alpha\"},\"fill_color\":{\"field\":\"color\"},\"height\":{\"field\":\"height\",\"units\":\"data\"},\"line_color\":{\"field\":\"line_color\"},\"width\":{\"field\":\"width\",\"units\":\"data\"},\"x\":{\"field\":\"x\"},\"y\":{\"field\":\"y\"}},\"id\":\"a29e289e-802e-43cd-a82b-234d23f881ba\",\"type\":\"Rect\"},{\"attributes\":{\"callback\":null,\"column_names\":[\"line_color\",\"line_alpha\",\"color\",\"fill_alpha\",\"height\",\"width\",\"y\",\"x\",\"label\"],\"data\":{\"chart_index\":[{\"origin\":2,\"yr\":76}],\"color\":[\"#5ab738\"],\"fill_alpha\":[0.8],\"height\":[26.0],\"label\":[{\"origin\":2,\"yr\":76}],\"line_alpha\":[1.0],\"line_color\":[\"white\"],\"origin\":[2],\"width\":[0.2],\"x\":[\"76:0.75\"],\"y\":[13.0],\"yr\":[76]}},\"id\":\"1ab26cda-cbb2-435b-8889-e3808259ac76\",\"type\":\"ColumnDataSource\"},{\"attributes\":{\"callback\":null,\"column_names\":[\"line_color\",\"line_alpha\",\"color\",\"fill_alpha\",\"height\",\"width\",\"y\",\"x\",\"label\"],\"data\":{\"chart_index\":[{\"origin\":3,\"yr\":76}],\"color\":[\"#407ee7\"],\"fill_alpha\":[0.8],\"height\":[30.0],\"label\":[{\"origin\":3,\"yr\":76}],\"line_alpha\":[1.0],\"line_color\":[\"white\"],\"origin\":[3],\"width\":[0.2],\"x\":[\"76:0.5\"],\"y\":[15.0],\"yr\":[76]}},\"id\":\"e24397bb-50ad-470f-a7ec-81c50038d017\",\"type\":\"ColumnDataSource\"},{\"attributes\":{\"data_source\":{\"id\":\"aa1f7301-990d-4ee9-a97b-8f95d328d613\",\"type\":\"ColumnDataSource\"},\"glyph\":{\"id\":\"26847375-f756-4d31-b9a3-09ba57955cc8\",\"type\":\"Rect\"},\"hover_glyph\":null,\"nonselection_glyph\":null,\"selection_glyph\":null},\"id\":\"e73c5c72-e4eb-48f0-ba88-f7d7afb7aac1\",\"type\":\"GlyphRenderer\"},{\"attributes\":{\"active_drag\":\"auto\",\"active_scroll\":\"auto\",\"active_tap\":\"auto\",\"tools\":[{\"id\":\"e0f581db-d981-4fae-9ed4-e2491d2b210f\",\"type\":\"CrosshairTool\"}]},\"id\":\"8c1130b0-290c-48d4-9e91-ec3ded55006c\",\"type\":\"Toolbar\"},{\"attributes\":{\"callback\":null,\"column_names\":[\"line_color\",\"line_alpha\",\"color\",\"fill_alpha\",\"height\",\"width\",\"y\",\"x\",\"label\"],\"data\":{\"chart_index\":[{\"origin\":1,\"yr\":81}],\"color\":[\"#f22c40\"],\"fill_alpha\":[0.8],\"height\":[26.6],\"label\":[{\"origin\":1,\"yr\":81}],\"line_alpha\":[1.0],\"line_color\":[\"white\"],\"origin\":[1],\"width\":[0.2],\"x\":[\"81:0.25\"],\"y\":[13.3],\"yr\":[81]}},\"id\":\"e7d1f11f-c0ea-468e-bc59-4b1d2013b695\",\"type\":\"ColumnDataSource\"},{\"attributes\":{\"fill_alpha\":{\"field\":\"fill_alpha\"},\"fill_color\":{\"field\":\"color\"},\"height\":{\"field\":\"height\",\"units\":\"data\"},\"line_color\":{\"field\":\"line_color\"},\"width\":{\"field\":\"width\",\"units\":\"data\"},\"x\":{\"field\":\"x\"},\"y\":{\"field\":\"y\"}},\"id\":\"4c0c4212-6aa7-418a-a0e0-24a78875e3f5\",\"type\":\"Rect\"},{\"attributes\":{\"callback\":null,\"column_names\":[\"line_color\",\"line_alpha\",\"color\",\"fill_alpha\",\"height\",\"width\",\"y\",\"x\",\"label\"],\"data\":{\"chart_index\":[{\"origin\":2,\"yr\":78}],\"color\":[\"#5ab738\"],\"fill_alpha\":[0.8],\"height\":[20.950000000000003],\"label\":[{\"origin\":2,\"yr\":78}],\"line_alpha\":[1.0],\"line_color\":[\"white\"],\"origin\":[2],\"width\":[0.2],\"x\":[\"78:0.75\"],\"y\":[10.475000000000001],\"yr\":[78]}},\"id\":\"8115d93b-4879-4665-bafa-eab84c4a4137\",\"type\":\"ColumnDataSource\"},{\"attributes\":{\"data_source\":{\"id\":\"b119aae1-39d9-4a04-a209-6ef988436800\",\"type\":\"ColumnDataSource\"},\"glyph\":{\"id\":\"ea6d8586-f6ff-45a0-8e79-80e7998baece\",\"type\":\"Rect\"},\"hover_glyph\":null,\"nonselection_glyph\":null,\"selection_glyph\":null},\"id\":\"1325c695-9514-45c8-9a42-c93e558a8f25\",\"type\":\"GlyphRenderer\"},{\"attributes\":{\"fill_alpha\":{\"field\":\"fill_alpha\"},\"fill_color\":{\"field\":\"color\"},\"height\":{\"field\":\"height\",\"units\":\"data\"},\"line_color\":{\"field\":\"line_color\"},\"width\":{\"field\":\"width\",\"units\":\"data\"},\"x\":{\"field\":\"x\"},\"y\":{\"field\":\"y\"}},\"id\":\"79a50608-0e95-4d62-bb71-cc54a657d908\",\"type\":\"Rect\"},{\"attributes\":{\"callback\":null,\"column_names\":[\"line_color\",\"line_alpha\",\"color\",\"fill_alpha\",\"height\",\"width\",\"y\",\"x\",\"label\"],\"data\":{\"chart_index\":[{\"origin\":3,\"yr\":72}],\"color\":[\"#407ee7\"],\"fill_alpha\":[0.8],\"height\":[24.0],\"label\":[{\"origin\":3,\"yr\":72}],\"line_alpha\":[1.0],\"line_color\":[\"white\"],\"origin\":[3],\"width\":[0.2],\"x\":[\"72:0.5\"],\"y\":[12.0],\"yr\":[72]}},\"id\":\"2e755f13-6d2d-46cd-bf15-43a0904f826e\",\"type\":\"ColumnDataSource\"},{\"attributes\":{\"fill_alpha\":{\"field\":\"fill_alpha\"},\"fill_color\":{\"field\":\"color\"},\"height\":{\"field\":\"height\",\"units\":\"data\"},\"line_color\":{\"field\":\"line_color\"},\"width\":{\"field\":\"width\",\"units\":\"data\"},\"x\":{\"field\":\"x\"},\"y\":{\"field\":\"y\"}},\"id\":\"4fe1c216-62b2-423b-8712-0725f6337d0b\",\"type\":\"Rect\"},{\"attributes\":{\"fill_alpha\":{\"field\":\"fill_alpha\"},\"fill_color\":{\"field\":\"color\"},\"height\":{\"field\":\"height\",\"units\":\"data\"},\"line_color\":{\"field\":\"line_color\"},\"width\":{\"field\":\"width\",\"units\":\"data\"},\"x\":{\"field\":\"x\"},\"y\":{\"field\":\"y\"}},\"id\":\"889d8f23-d1bd-47c3-b747-14a4e2f93e5b\",\"type\":\"Rect\"},{\"attributes\":{\"fill_alpha\":{\"field\":\"fill_alpha\"},\"fill_color\":{\"field\":\"color\"},\"height\":{\"field\":\"height\",\"units\":\"data\"},\"line_color\":{\"field\":\"line_color\"},\"width\":{\"field\":\"width\",\"units\":\"data\"},\"x\":{\"field\":\"x\"},\"y\":{\"field\":\"y\"}},\"id\":\"538190d4-43e4-486a-8a1b-56444933d9dc\",\"type\":\"Rect\"},{\"attributes\":{\"data_source\":{\"id\":\"069fd98a-66c9-4356-81e2-0785df5e596c\",\"type\":\"ColumnDataSource\"},\"glyph\":{\"id\":\"d6218b3c-6e17-4681-b4c1-4a6eb50e5b12\",\"type\":\"Rect\"},\"hover_glyph\":null,\"nonselection_glyph\":null,\"selection_glyph\":null},\"id\":\"21151838-5a5e-469b-8568-ce01a1292795\",\"type\":\"GlyphRenderer\"},{\"attributes\":{\"fill_alpha\":{\"field\":\"fill_alpha\"},\"fill_color\":{\"field\":\"color\"},\"height\":{\"field\":\"height\",\"units\":\"data\"},\"line_color\":{\"field\":\"line_color\"},\"width\":{\"field\":\"width\",\"units\":\"data\"},\"x\":{\"field\":\"x\"},\"y\":{\"field\":\"y\"}},\"id\":\"ec2914f2-3fb9-4609-8018-6e59ce33b24a\",\"type\":\"Rect\"},{\"attributes\":{\"fill_alpha\":{\"field\":\"fill_alpha\"},\"fill_color\":{\"field\":\"color\"},\"height\":{\"field\":\"height\",\"units\":\"data\"},\"line_color\":{\"field\":\"line_color\"},\"width\":{\"field\":\"width\",\"units\":\"data\"},\"x\":{\"field\":\"x\"},\"y\":{\"field\":\"y\"}},\"id\":\"ed225364-7c7b-43b7-a85a-e308528c8db4\",\"type\":\"Rect\"},{\"attributes\":{\"data_source\":{\"id\":\"1ab26cda-cbb2-435b-8889-e3808259ac76\",\"type\":\"ColumnDataSource\"},\"glyph\":{\"id\":\"dd350ab2-83c8-4cd2-bbe6-8af5cf7acc7d\",\"type\":\"Rect\"},\"hover_glyph\":null,\"nonselection_glyph\":null,\"selection_glyph\":null},\"id\":\"e6d3cb60-2649-4943-8220-71da850e44a4\",\"type\":\"GlyphRenderer\"},{\"attributes\":{\"fill_alpha\":{\"field\":\"fill_alpha\"},\"fill_color\":{\"field\":\"color\"},\"height\":{\"field\":\"height\",\"units\":\"data\"},\"line_color\":{\"field\":\"line_color\"},\"width\":{\"field\":\"width\",\"units\":\"data\"},\"x\":{\"field\":\"x\"},\"y\":{\"field\":\"y\"}},\"id\":\"a16d344a-4151-44fa-897c-48572c3b5e9e\",\"type\":\"Rect\"},{\"attributes\":{\"callback\":null,\"column_names\":[\"line_color\",\"line_alpha\",\"color\",\"fill_alpha\",\"height\",\"width\",\"y\",\"x\",\"label\"],\"data\":{\"chart_index\":[{\"origin\":1,\"yr\":79}],\"color\":[\"#f22c40\"],\"fill_alpha\":[0.8],\"height\":[21.5],\"label\":[{\"origin\":1,\"yr\":79}],\"line_alpha\":[1.0],\"line_color\":[\"white\"],\"origin\":[1],\"width\":[0.2],\"x\":[\"79:0.25\"],\"y\":[10.75],\"yr\":[79]}},\"id\":\"7d98443c-6473-4083-bdda-3d7036b9f55a\",\"type\":\"ColumnDataSource\"},{\"attributes\":{\"fill_alpha\":{\"field\":\"fill_alpha\"},\"fill_color\":{\"field\":\"color\"},\"height\":{\"field\":\"height\",\"units\":\"data\"},\"line_color\":{\"field\":\"line_color\"},\"width\":{\"field\":\"width\",\"units\":\"data\"},\"x\":{\"field\":\"x\"},\"y\":{\"field\":\"y\"}},\"id\":\"26847375-f756-4d31-b9a3-09ba57955cc8\",\"type\":\"Rect\"},{\"attributes\":{\"data_source\":{\"id\":\"c2e96a6b-d290-4d26-8751-c86bfaf903d5\",\"type\":\"ColumnDataSource\"},\"glyph\":{\"id\":\"ed225364-7c7b-43b7-a85a-e308528c8db4\",\"type\":\"Rect\"},\"hover_glyph\":null,\"nonselection_glyph\":null,\"selection_glyph\":null},\"id\":\"2bd8a8c2-03db-491d-8a48-428c4784cc6a\",\"type\":\"GlyphRenderer\"},{\"attributes\":{\"data_source\":{\"id\":\"5b1db576-6804-4ed0-ac8e-94a8a86e01fa\",\"type\":\"ColumnDataSource\"},\"glyph\":{\"id\":\"7d1d9ddc-ba09-484a-9785-942a6b6c5202\",\"type\":\"Rect\"},\"hover_glyph\":null,\"nonselection_glyph\":null,\"selection_glyph\":null},\"id\":\"bcfb7718-7c08-40a7-8892-29615165cc35\",\"type\":\"GlyphRenderer\"},{\"attributes\":{\"fill_alpha\":{\"field\":\"fill_alpha\"},\"fill_color\":{\"field\":\"color\"},\"height\":{\"field\":\"height\",\"units\":\"data\"},\"line_color\":{\"field\":\"line_color\"},\"width\":{\"field\":\"width\",\"units\":\"data\"},\"x\":{\"field\":\"x\"},\"y\":{\"field\":\"y\"}},\"id\":\"8ee3d12d-b88e-48b5-941d-8699a4233179\",\"type\":\"Rect\"},{\"attributes\":{\"callback\":null,\"column_names\":[\"line_color\",\"line_alpha\",\"color\",\"fill_alpha\",\"height\",\"width\",\"y\",\"x\",\"label\"],\"data\":{\"chart_index\":[{\"origin\":1,\"yr\":72}],\"color\":[\"#f22c40\"],\"fill_alpha\":[0.8],\"height\":[14.0],\"label\":[{\"origin\":1,\"yr\":72}],\"line_alpha\":[1.0],\"line_color\":[\"white\"],\"origin\":[1],\"width\":[0.2],\"x\":[\"72:0.25\"],\"y\":[7.0],\"yr\":[72]}},\"id\":\"5b1db576-6804-4ed0-ac8e-94a8a86e01fa\",\"type\":\"ColumnDataSource\"},{\"attributes\":{\"fill_alpha\":{\"field\":\"fill_alpha\"},\"fill_color\":{\"field\":\"color\"},\"height\":{\"field\":\"height\",\"units\":\"data\"},\"line_color\":{\"field\":\"line_color\"},\"width\":{\"field\":\"width\",\"units\":\"data\"},\"x\":{\"field\":\"x\"},\"y\":{\"field\":\"y\"}},\"id\":\"ea6d8586-f6ff-45a0-8e79-80e7998baece\",\"type\":\"Rect\"},{\"attributes\":{\"callback\":null,\"column_names\":[\"line_color\",\"line_alpha\",\"color\",\"fill_alpha\",\"height\",\"width\",\"y\",\"x\",\"label\"],\"data\":{\"chart_index\":[{\"origin\":2,\"yr\":74}],\"color\":[\"#5ab738\"],\"fill_alpha\":[0.8],\"height\":[26.0],\"label\":[{\"origin\":2,\"yr\":74}],\"line_alpha\":[1.0],\"line_color\":[\"white\"],\"origin\":[2],\"width\":[0.2],\"x\":[\"74:0.75\"],\"y\":[13.0],\"yr\":[74]}},\"id\":\"3e565413-3a9c-4f8a-9e06-ea63a41a438f\",\"type\":\"ColumnDataSource\"},{\"attributes\":{\"data_source\":{\"id\":\"3721a17b-d7b8-4c12-bb12-262c5b3479cf\",\"type\":\"ColumnDataSource\"},\"glyph\":{\"id\":\"c2bd7df0-6ae1-47f1-9000-46fe884facdb\",\"type\":\"Rect\"},\"hover_glyph\":null,\"nonselection_glyph\":null,\"selection_glyph\":null},\"id\":\"253b0e06-408d-48fb-9057-70f6910f01ea\",\"type\":\"GlyphRenderer\"},{\"attributes\":{\"callback\":null,\"column_names\":[\"line_color\",\"line_alpha\",\"color\",\"fill_alpha\",\"height\",\"width\",\"y\",\"x\",\"label\"],\"data\":{\"chart_index\":[{\"origin\":3,\"yr\":71}],\"color\":[\"#407ee7\"],\"fill_alpha\":[0.8],\"height\":[29.0],\"label\":[{\"origin\":3,\"yr\":71}],\"line_alpha\":[1.0],\"line_color\":[\"white\"],\"origin\":[3],\"width\":[0.2],\"x\":[\"71:0.5\"],\"y\":[14.5],\"yr\":[71]}},\"id\":\"aa1f7301-990d-4ee9-a97b-8f95d328d613\",\"type\":\"ColumnDataSource\"},{\"attributes\":{\"data_source\":{\"id\":\"7bc403c0-5692-4031-b5d7-39df80334455\",\"type\":\"ColumnDataSource\"},\"glyph\":{\"id\":\"5284127d-7ce1-4fdb-9232-4b35dfa281ae\",\"type\":\"Rect\"},\"hover_glyph\":null,\"nonselection_glyph\":null,\"selection_glyph\":null},\"id\":\"5b207603-664e-4c1d-9589-3e9a9e5a7a4e\",\"type\":\"GlyphRenderer\"},{\"attributes\":{\"data_source\":{\"id\":\"e7d1f11f-c0ea-468e-bc59-4b1d2013b695\",\"type\":\"ColumnDataSource\"},\"glyph\":{\"id\":\"c11d3386-6a1e-4715-ab2e-5a510ba0e0b4\",\"type\":\"Rect\"},\"hover_glyph\":null,\"nonselection_glyph\":null,\"selection_glyph\":null},\"id\":\"8026a001-279c-49a2-8645-60a235d0bff5\",\"type\":\"GlyphRenderer\"},{\"attributes\":{\"fill_alpha\":{\"field\":\"fill_alpha\"},\"fill_color\":{\"field\":\"color\"},\"height\":{\"field\":\"height\",\"units\":\"data\"},\"line_color\":{\"field\":\"line_color\"},\"width\":{\"field\":\"width\",\"units\":\"data\"},\"x\":{\"field\":\"x\"},\"y\":{\"field\":\"y\"}},\"id\":\"aaef5b8d-f3f0-44e0-b831-862eefce162d\",\"type\":\"Rect\"}],\"root_ids\":[\"9ba7a689-ec61-4f8c-9f09-ebbe3733fdd5\"]},\"title\":\"Bokeh Application\",\"version\":\"0.12.1\"}};\n",
       "            var render_items = [{\"docid\":\"19160490-28dd-49e9-b0ad-93a17ca739db\",\"elementid\":\"d53277fb-668b-482d-bc0c-9e4b81d2277d\",\"modelid\":\"9ba7a689-ec61-4f8c-9f09-ebbe3733fdd5\",\"notebook_comms_target\":\"2b86de19-00a3-4d96-8f9d-f228c4277c2e\"}];\n",
       "            \n",
       "            Bokeh.embed.embed_items(docs_json, render_items);\n",
       "        });\n",
       "      },\n",
       "      function(Bokeh) {\n",
       "      }\n",
       "    ];\n",
       "  \n",
       "    function run_inline_js() {\n",
       "      for (var i = 0; i < inline_js.length; i++) {\n",
       "        inline_js[i](window.Bokeh);\n",
       "      }\n",
       "    }\n",
       "  \n",
       "    if (window._bokeh_is_loading === 0) {\n",
       "      console.log(\"Bokeh: BokehJS loaded, going straight to plotting\");\n",
       "      run_inline_js();\n",
       "    } else {\n",
       "      load_libs(js_urls, function() {\n",
       "        console.log(\"Bokeh: BokehJS plotting callback run at\", now());\n",
       "        run_inline_js();\n",
       "      });\n",
       "    }\n",
       "  }(this));\n",
       "</script>"
      ]
     },
     "metadata": {},
     "output_type": "display_data"
    },
    {
     "data": {
      "text/html": [
       "<p><code>&lt;Bokeh Notebook handle for <strong>In[10]</strong>&gt;</code></p>"
      ],
      "text/plain": [
       "<bokeh.io._CommsHandle at 0x113587610>"
      ]
     },
     "execution_count": 10,
     "metadata": {},
     "output_type": "execute_result"
    }
   ],
   "source": [
    "p = Bar(autompg, label='yr', values='mpg', agg='median', group='origin', \n",
    "        title=\"Median MPG by YR, grouped by ORIGIN\", legend='top_left', tools='crosshair')\n",
    "show(p)"
   ]
  },
  {
   "cell_type": "markdown",
   "metadata": {},
   "source": [
    "Similarly, bars for subgroups can be stacked visually, by providing a column name for the `stack` parameter. Let's try that as an exercise."
   ]
  },
  {
   "cell_type": "code",
   "execution_count": 11,
   "metadata": {
    "collapsed": false
   },
   "outputs": [],
   "source": [
    "# EXERCISE: change the chart above to stack the bars with title \"Median MPG by YR, stacked by ORIGIN\"\n"
   ]
  },
  {
   "cell_type": "markdown",
   "metadata": {},
   "source": [
    "# Histogram\n",
    "\n",
    "A high-level Histogram is provided by [`bokeh.charts.Histogram`]()\n",
    "\n",
    "For this section, we will construct our own synthetic data set that has values generated from two different probability distributions. "
   ]
  },
  {
   "cell_type": "code",
   "execution_count": 11,
   "metadata": {
    "collapsed": false
   },
   "outputs": [
    {
     "data": {
      "text/html": [
       "<div>\n",
       "<table border=\"1\" class=\"dataframe\">\n",
       "  <thead>\n",
       "    <tr style=\"text-align: right;\">\n",
       "      <th></th>\n",
       "      <th>type</th>\n",
       "      <th>value</th>\n",
       "    </tr>\n",
       "  </thead>\n",
       "  <tbody>\n",
       "    <tr>\n",
       "      <th>995</th>\n",
       "      <td>normal</td>\n",
       "      <td>-0.072839</td>\n",
       "    </tr>\n",
       "    <tr>\n",
       "      <th>996</th>\n",
       "      <td>normal</td>\n",
       "      <td>0.364335</td>\n",
       "    </tr>\n",
       "    <tr>\n",
       "      <th>997</th>\n",
       "      <td>normal</td>\n",
       "      <td>0.596417</td>\n",
       "    </tr>\n",
       "    <tr>\n",
       "      <th>998</th>\n",
       "      <td>normal</td>\n",
       "      <td>-0.666363</td>\n",
       "    </tr>\n",
       "    <tr>\n",
       "      <th>999</th>\n",
       "      <td>normal</td>\n",
       "      <td>-0.659997</td>\n",
       "    </tr>\n",
       "    <tr>\n",
       "      <th>0</th>\n",
       "      <td>lognormal</td>\n",
       "      <td>0.211202</td>\n",
       "    </tr>\n",
       "    <tr>\n",
       "      <th>1</th>\n",
       "      <td>lognormal</td>\n",
       "      <td>1.045986</td>\n",
       "    </tr>\n",
       "    <tr>\n",
       "      <th>2</th>\n",
       "      <td>lognormal</td>\n",
       "      <td>0.969053</td>\n",
       "    </tr>\n",
       "    <tr>\n",
       "      <th>3</th>\n",
       "      <td>lognormal</td>\n",
       "      <td>0.625760</td>\n",
       "    </tr>\n",
       "    <tr>\n",
       "      <th>4</th>\n",
       "      <td>lognormal</td>\n",
       "      <td>1.637631</td>\n",
       "    </tr>\n",
       "  </tbody>\n",
       "</table>\n",
       "</div>"
      ],
      "text/plain": [
       "          type     value\n",
       "995     normal -0.072839\n",
       "996     normal  0.364335\n",
       "997     normal  0.596417\n",
       "998     normal -0.666363\n",
       "999     normal -0.659997\n",
       "0    lognormal  0.211202\n",
       "1    lognormal  1.045986\n",
       "2    lognormal  0.969053\n",
       "3    lognormal  0.625760\n",
       "4    lognormal  1.637631"
      ]
     },
     "execution_count": 11,
     "metadata": {},
     "output_type": "execute_result"
    }
   ],
   "source": [
    "import pandas as pd\n",
    "import numpy as np\n",
    "\n",
    "# build some distributions\n",
    "mu, sigma = 0, 0.5\n",
    "normal = pd.DataFrame({'value': np.random.normal(mu, sigma, 1000), 'type': 'normal'})\n",
    "lognormal = pd.DataFrame({'value': np.random.lognormal(mu, sigma, 1000), 'type': 'lognormal'})\n",
    "\n",
    "# create a pandas data frame\n",
    "df = pd.concat([normal, lognormal])\n",
    "df[995:1005]"
   ]
  },
  {
   "cell_type": "code",
   "execution_count": 12,
   "metadata": {
    "collapsed": true
   },
   "outputs": [],
   "source": [
    "from bokeh.charts import Histogram"
   ]
  },
  {
   "cell_type": "markdown",
   "metadata": {},
   "source": [
    "A basic histogram takes the data as the first parameter, and a column name as the `values` parameter. Optionally, you can also specify the number of bins to use by giving a value for the `bins` parameter. The example below shows the distribution of ***all*** the values (both the \"normal\" and \"lognormal\" values). "
   ]
  },
  {
   "cell_type": "code",
   "execution_count": 13,
   "metadata": {
    "collapsed": false
   },
   "outputs": [
    {
     "data": {
      "text/html": [
       "\n",
       "\n",
       "    <div class=\"bk-root\">\n",
       "        <div class=\"plotdiv\" id=\"00700043-8198-4f4d-99cb-e22821156dbe\"></div>\n",
       "    </div>\n",
       "<script type=\"text/javascript\">\n",
       "  \n",
       "  (function(global) {\n",
       "    function now() {\n",
       "      return new Date();\n",
       "    }\n",
       "  \n",
       "    var force = \"\";\n",
       "  \n",
       "    if (typeof (window._bokeh_onload_callbacks) === \"undefined\" || force !== \"\") {\n",
       "      window._bokeh_onload_callbacks = [];\n",
       "      window._bokeh_is_loading = undefined;\n",
       "    }\n",
       "  \n",
       "    function run_callbacks() {\n",
       "      window._bokeh_onload_callbacks.forEach(function(callback) { callback() });\n",
       "      delete window._bokeh_onload_callbacks\n",
       "      console.info(\"Bokeh: all callbacks have finished\");\n",
       "    }\n",
       "  \n",
       "    function load_libs(js_urls, callback) {\n",
       "      window._bokeh_onload_callbacks.push(callback);\n",
       "      if (window._bokeh_is_loading > 0) {\n",
       "        console.log(\"Bokeh: BokehJS is being loaded, scheduling callback at\", now());\n",
       "        return null;\n",
       "      }\n",
       "      if (js_urls == null || js_urls.length === 0) {\n",
       "        run_callbacks();\n",
       "        return null;\n",
       "      }\n",
       "      console.log(\"Bokeh: BokehJS not loaded, scheduling load and callback at\", now());\n",
       "      window._bokeh_is_loading = js_urls.length;\n",
       "      for (var i = 0; i < js_urls.length; i++) {\n",
       "        var url = js_urls[i];\n",
       "        var s = document.createElement('script');\n",
       "        s.src = url;\n",
       "        s.async = false;\n",
       "        s.onreadystatechange = s.onload = function() {\n",
       "          window._bokeh_is_loading--;\n",
       "          if (window._bokeh_is_loading === 0) {\n",
       "            console.log(\"Bokeh: all BokehJS libraries loaded\");\n",
       "            run_callbacks()\n",
       "          }\n",
       "        };\n",
       "        s.onerror = function() {\n",
       "          console.warn(\"failed to load library \" + url);\n",
       "        };\n",
       "        console.log(\"Bokeh: injecting script tag for BokehJS library: \", url);\n",
       "        document.getElementsByTagName(\"head\")[0].appendChild(s);\n",
       "      }\n",
       "    };var element = document.getElementById(\"00700043-8198-4f4d-99cb-e22821156dbe\");\n",
       "    if (element == null) {\n",
       "      console.log(\"Bokeh: ERROR: autoload.js configured with elementid '00700043-8198-4f4d-99cb-e22821156dbe' but no matching script tag was found. \")\n",
       "      return false;\n",
       "    }\n",
       "  \n",
       "    var js_urls = [];\n",
       "  \n",
       "    var inline_js = [\n",
       "      function(Bokeh) {\n",
       "        Bokeh.$(function() {\n",
       "            var docs_json = {\"54e72aed-d20f-49f1-ae23-c98431c8fc80\":{\"roots\":{\"references\":[{\"attributes\":{\"fill_alpha\":{\"field\":\"fill_alpha\"},\"fill_color\":{\"field\":\"color\"},\"height\":{\"field\":\"height\",\"units\":\"data\"},\"line_color\":{\"field\":\"line_color\"},\"width\":{\"field\":\"width\",\"units\":\"data\"},\"x\":{\"field\":\"x\"},\"y\":{\"field\":\"y\"}},\"id\":\"9fb5e71c-f803-4970-9813-684702a93bd9\",\"type\":\"Rect\"},{\"attributes\":{\"data_source\":{\"id\":\"de3a10c8-54fe-49b5-9973-241cabc5b0a4\",\"type\":\"ColumnDataSource\"},\"glyph\":{\"id\":\"5b396f40-bd9b-44f5-b901-7301bc5018d2\",\"type\":\"Rect\"},\"hover_glyph\":null,\"nonselection_glyph\":null,\"selection_glyph\":null},\"id\":\"51ba138d-e4e0-4d51-897f-eeb8513fc62c\",\"type\":\"GlyphRenderer\"},{\"attributes\":{\"data_source\":{\"id\":\"1ba773a1-c37b-4261-bbfe-b3e9b7e0c94f\",\"type\":\"ColumnDataSource\"},\"glyph\":{\"id\":\"b3dd6bc6-0906-46c3-a02d-9b0f6cacb9de\",\"type\":\"Rect\"},\"hover_glyph\":null,\"nonselection_glyph\":null,\"selection_glyph\":null},\"id\":\"efb5beec-0f28-4a9e-8dfa-6ceb04eee05e\",\"type\":\"GlyphRenderer\"},{\"attributes\":{\"callback\":null,\"column_names\":[\"line_color\",\"line_alpha\",\"color\",\"fill_alpha\",\"height\",\"width\",\"y\",\"x\",\"label\"],\"data\":{\"chart_index\":[\"(-1.0, -0.8]\"],\"color\":[\"#f22c40\"],\"fill_alpha\":[0.8],\"height\":[26.0],\"label\":[\"(-1.0, -0.8]\"],\"line_alpha\":[1.0],\"line_color\":[\"black\"],\"width\":[0.18749339910030915],\"x\":[\"-0.9\"],\"y\":[13.0]}},\"id\":\"348da8dd-0875-465c-bd53-cf73585abdfb\",\"type\":\"ColumnDataSource\"},{\"attributes\":{},\"id\":\"215ce090-d92c-4ce9-b51a-56c1a1981586\",\"type\":\"BasicTickFormatter\"},{\"attributes\":{\"data_source\":{\"id\":\"0e8ad5cf-5fda-497c-88fe-544b369d1936\",\"type\":\"ColumnDataSource\"},\"glyph\":{\"id\":\"da640568-6f10-4e3d-a601-c383c9473391\",\"type\":\"Rect\"},\"hover_glyph\":null,\"nonselection_glyph\":null,\"selection_glyph\":null},\"id\":\"caa67795-7fc2-44d7-b9a4-0a393a5f0d92\",\"type\":\"GlyphRenderer\"},{\"attributes\":{\"fill_alpha\":{\"field\":\"fill_alpha\"},\"fill_color\":{\"field\":\"color\"},\"height\":{\"field\":\"height\",\"units\":\"data\"},\"line_color\":{\"field\":\"line_color\"},\"width\":{\"field\":\"width\",\"units\":\"data\"},\"x\":{\"field\":\"x\"},\"y\":{\"field\":\"y\"}},\"id\":\"c34eb59d-bcb9-419d-911a-67605903583c\",\"type\":\"Rect\"},{\"attributes\":{\"data_source\":{\"id\":\"87f87330-a5fe-4dd9-85de-b0f196da9ed1\",\"type\":\"ColumnDataSource\"},\"glyph\":{\"id\":\"757f9e03-6725-464a-a31d-cd9ca0ad5f10\",\"type\":\"Rect\"},\"hover_glyph\":null,\"nonselection_glyph\":null,\"selection_glyph\":null},\"id\":\"87822da5-6dc2-40da-968c-9c0abed17a4e\",\"type\":\"GlyphRenderer\"},{\"attributes\":{\"fill_alpha\":{\"field\":\"fill_alpha\"},\"fill_color\":{\"field\":\"color\"},\"height\":{\"field\":\"height\",\"units\":\"data\"},\"line_color\":{\"field\":\"line_color\"},\"width\":{\"field\":\"width\",\"units\":\"data\"},\"x\":{\"field\":\"x\"},\"y\":{\"field\":\"y\"}},\"id\":\"7d645188-ed90-489b-9f23-67306bed080d\",\"type\":\"Rect\"},{\"attributes\":{\"data_source\":{\"id\":\"44b46416-a520-4d3a-8d34-c04ab3c81868\",\"type\":\"ColumnDataSource\"},\"glyph\":{\"id\":\"be5af6c7-027d-404b-948b-29fef43b5f5a\",\"type\":\"Rect\"},\"hover_glyph\":null,\"nonselection_glyph\":null,\"selection_glyph\":null},\"id\":\"8f40ce09-1246-4895-8abc-8ea963be7b8e\",\"type\":\"GlyphRenderer\"},{\"attributes\":{\"data_source\":{\"id\":\"7b8f1cd4-f6d5-4244-9380-ae3ed3aa2dd1\",\"type\":\"ColumnDataSource\"},\"glyph\":{\"id\":\"3214e59f-cc0e-4a6e-b917-07b0650669cc\",\"type\":\"Rect\"},\"hover_glyph\":null,\"nonselection_glyph\":null,\"selection_glyph\":null},\"id\":\"dd697ee3-6c10-4347-b108-932134ca329f\",\"type\":\"GlyphRenderer\"},{\"attributes\":{\"callback\":null,\"end\":258.5},\"id\":\"d4878e70-559e-4195-8ec5-24df6211718d\",\"type\":\"Range1d\"},{\"attributes\":{\"callback\":null,\"column_names\":[\"line_color\",\"line_alpha\",\"color\",\"fill_alpha\",\"height\",\"width\",\"y\",\"x\",\"label\"],\"data\":{\"chart_index\":[\"(1.3, 1.5]\"],\"color\":[\"#f22c40\"],\"fill_alpha\":[0.8],\"height\":[99.0],\"label\":[\"(1.3, 1.5]\"],\"line_alpha\":[1.0],\"line_color\":[\"black\"],\"width\":[0.18749339910030915],\"x\":[\"1.4\"],\"y\":[49.5]}},\"id\":\"d0570a1a-19e7-41e5-88cf-baf9a106cebd\",\"type\":\"ColumnDataSource\"},{\"attributes\":{\"data_source\":{\"id\":\"15506c52-bbea-4dd8-b84c-e032862b6345\",\"type\":\"ColumnDataSource\"},\"glyph\":{\"id\":\"45a27661-7a13-4a7d-be22-84d895e3d1fc\",\"type\":\"Rect\"},\"hover_glyph\":null,\"nonselection_glyph\":null,\"selection_glyph\":null},\"id\":\"25e4bb31-4461-43f2-ab7b-4026f07b58a3\",\"type\":\"GlyphRenderer\"},{\"attributes\":{\"data_source\":{\"id\":\"9134b1e5-598e-4466-ac8d-e69d62aa3f21\",\"type\":\"ColumnDataSource\"},\"glyph\":{\"id\":\"7d645188-ed90-489b-9f23-67306bed080d\",\"type\":\"Rect\"},\"hover_glyph\":null,\"nonselection_glyph\":null,\"selection_glyph\":null},\"id\":\"9ff3c780-56f0-4938-bb63-867933b179c2\",\"type\":\"GlyphRenderer\"},{\"attributes\":{\"callback\":null,\"column_names\":[\"line_color\",\"line_alpha\",\"color\",\"fill_alpha\",\"height\",\"width\",\"y\",\"x\",\"label\"],\"data\":{\"chart_index\":[\"(3.5, 3.7]\"],\"color\":[\"#f22c40\"],\"fill_alpha\":[0.8],\"height\":[1.0],\"label\":[\"(3.5, 3.7]\"],\"line_alpha\":[1.0],\"line_color\":[\"black\"],\"width\":[0.18749339910030915],\"x\":[\"3.6\"],\"y\":[0.5]}},\"id\":\"ad2d0e7a-b4b2-49a0-910e-96aed5b34776\",\"type\":\"ColumnDataSource\"},{\"attributes\":{},\"id\":\"5ed8068f-b368-4372-931b-3965b192a836\",\"type\":\"BasicTicker\"},{\"attributes\":{\"data_source\":{\"id\":\"405d4d97-40d2-4a72-a7d8-6ff55a82e9cc\",\"type\":\"ColumnDataSource\"},\"glyph\":{\"id\":\"9f68acea-553e-4181-9afc-cfb7c2ed72fb\",\"type\":\"Rect\"},\"hover_glyph\":null,\"nonselection_glyph\":null,\"selection_glyph\":null},\"id\":\"fa18b48c-827a-424e-85dd-a5c51d32bd98\",\"type\":\"GlyphRenderer\"},{\"attributes\":{\"callback\":null,\"column_names\":[\"line_color\",\"line_alpha\",\"color\",\"fill_alpha\",\"height\",\"width\",\"y\",\"x\",\"label\"],\"data\":{\"chart_index\":[\"(2.8, 3.0]\"],\"color\":[\"#f22c40\"],\"fill_alpha\":[0.8],\"height\":[5.0],\"label\":[\"(2.8, 3.0]\"],\"line_alpha\":[1.0],\"line_color\":[\"black\"],\"width\":[0.18749339910030827],\"x\":[\"2.9\"],\"y\":[2.5]}},\"id\":\"cfcb3a5a-4920-4760-8990-b5dbfa646642\",\"type\":\"ColumnDataSource\"},{\"attributes\":{\"callback\":null,\"column_names\":[\"line_color\",\"line_alpha\",\"color\",\"fill_alpha\",\"height\",\"width\",\"y\",\"x\",\"label\"],\"data\":{\"chart_index\":[\"(0.2, 0.4]\"],\"color\":[\"#f22c40\"],\"fill_alpha\":[0.8],\"height\":[161.0],\"label\":[\"(0.2, 0.4]\"],\"line_alpha\":[1.0],\"line_color\":[\"black\"],\"width\":[0.18749339910030915],\"x\":[\"0.3\"],\"y\":[80.5]}},\"id\":\"f81fc0c3-1e31-44cc-a7c7-5cdc7693b560\",\"type\":\"ColumnDataSource\"},{\"attributes\":{\"fill_alpha\":{\"field\":\"fill_alpha\"},\"fill_color\":{\"field\":\"color\"},\"height\":{\"field\":\"height\",\"units\":\"data\"},\"line_color\":{\"field\":\"line_color\"},\"width\":{\"field\":\"width\",\"units\":\"data\"},\"x\":{\"field\":\"x\"},\"y\":{\"field\":\"y\"}},\"id\":\"b53a9800-754b-4308-8aae-9d462f6df044\",\"type\":\"Rect\"},{\"attributes\":{\"fill_alpha\":{\"field\":\"fill_alpha\"},\"fill_color\":{\"field\":\"color\"},\"height\":{\"field\":\"height\",\"units\":\"data\"},\"line_color\":{\"field\":\"line_color\"},\"width\":{\"field\":\"width\",\"units\":\"data\"},\"x\":{\"field\":\"x\"},\"y\":{\"field\":\"y\"}},\"id\":\"967fee8b-78ed-4a78-8781-d712d4839d9c\",\"type\":\"Rect\"},{\"attributes\":{\"callback\":null,\"column_names\":[\"line_color\",\"line_alpha\",\"color\",\"fill_alpha\",\"height\",\"width\",\"y\",\"x\",\"label\"],\"data\":{\"chart_index\":[\"(-1.3, -1.1]\"],\"color\":[\"#f22c40\"],\"fill_alpha\":[0.8],\"height\":[11.0],\"label\":[\"(-1.3, -1.1]\"],\"line_alpha\":[1.0],\"line_color\":[\"black\"],\"width\":[0.18749339910030893],\"x\":[\"-1.2\"],\"y\":[5.5]}},\"id\":\"fd4a0cf0-d841-45c9-b4cc-4401a3fb95be\",\"type\":\"ColumnDataSource\"},{\"attributes\":{},\"id\":\"9770e5ab-59ac-4878-8b76-a9c6712f3515\",\"type\":\"ToolEvents\"},{\"attributes\":{\"data_source\":{\"id\":\"2bd09b8a-43ef-47da-a771-7ac0c5308cfe\",\"type\":\"ColumnDataSource\"},\"glyph\":{\"id\":\"f90efb66-58d3-42ed-8b14-77c45886f53e\",\"type\":\"Rect\"},\"hover_glyph\":null,\"nonselection_glyph\":null,\"selection_glyph\":null},\"id\":\"209dc564-5ee2-4fee-b141-67109b2e4b57\",\"type\":\"GlyphRenderer\"},{\"attributes\":{\"dimension\":1,\"plot\":{\"id\":\"7c6720fe-ad08-44c9-8db8-3204a5d9bce9\",\"subtype\":\"Chart\",\"type\":\"Plot\"},\"ticker\":{\"id\":\"5ed8068f-b368-4372-931b-3965b192a836\",\"type\":\"BasicTicker\"}},\"id\":\"a7b9d91b-c2d1-4c82-90b0-dbfef9a3464f\",\"type\":\"Grid\"},{\"attributes\":{\"callback\":null,\"column_names\":[\"line_color\",\"line_alpha\",\"color\",\"fill_alpha\",\"height\",\"width\",\"y\",\"x\",\"label\"],\"data\":{\"chart_index\":[\"(1.5, 1.7]\"],\"color\":[\"#f22c40\"],\"fill_alpha\":[0.8],\"height\":[62.0],\"label\":[\"(1.5, 1.7]\"],\"line_alpha\":[1.0],\"line_color\":[\"black\"],\"width\":[0.18749339910030915],\"x\":[\"1.6\"],\"y\":[31.0]}},\"id\":\"2bd09b8a-43ef-47da-a771-7ac0c5308cfe\",\"type\":\"ColumnDataSource\"},{\"attributes\":{\"fill_alpha\":{\"field\":\"fill_alpha\"},\"fill_color\":{\"field\":\"color\"},\"height\":{\"field\":\"height\",\"units\":\"data\"},\"line_color\":{\"field\":\"line_color\"},\"width\":{\"field\":\"width\",\"units\":\"data\"},\"x\":{\"field\":\"x\"},\"y\":{\"field\":\"y\"}},\"id\":\"ebc3084a-929f-4c0f-8f24-cbc69c610e08\",\"type\":\"Rect\"},{\"attributes\":{\"callback\":null,\"column_names\":[\"line_color\",\"line_alpha\",\"color\",\"fill_alpha\",\"height\",\"width\",\"y\",\"x\",\"label\"],\"data\":{\"chart_index\":[\"(2.6, 2.8]\"],\"color\":[\"#f22c40\"],\"fill_alpha\":[0.8],\"height\":[6.0],\"label\":[\"(2.6, 2.8]\"],\"line_alpha\":[1.0],\"line_color\":[\"black\"],\"width\":[0.18749339910030915],\"x\":[\"2.7\"],\"y\":[3.0]}},\"id\":\"35e71608-6515-4ad6-923b-4a04ed3ef6dc\",\"type\":\"ColumnDataSource\"},{\"attributes\":{\"fill_alpha\":{\"field\":\"fill_alpha\"},\"fill_color\":{\"field\":\"color\"},\"height\":{\"field\":\"height\",\"units\":\"data\"},\"line_color\":{\"field\":\"line_color\"},\"width\":{\"field\":\"width\",\"units\":\"data\"},\"x\":{\"field\":\"x\"},\"y\":{\"field\":\"y\"}},\"id\":\"3214e59f-cc0e-4a6e-b917-07b0650669cc\",\"type\":\"Rect\"},{\"attributes\":{\"data_source\":{\"id\":\"f81fc0c3-1e31-44cc-a7c7-5cdc7693b560\",\"type\":\"ColumnDataSource\"},\"glyph\":{\"id\":\"95f1c327-5650-47f3-8727-f568fc072164\",\"type\":\"Rect\"},\"hover_glyph\":null,\"nonselection_glyph\":null,\"selection_glyph\":null},\"id\":\"02604de8-36c7-406a-bb08-6277afe21706\",\"type\":\"GlyphRenderer\"},{\"attributes\":{\"fill_alpha\":{\"field\":\"fill_alpha\"},\"fill_color\":{\"field\":\"color\"},\"height\":{\"field\":\"height\",\"units\":\"data\"},\"line_color\":{\"field\":\"line_color\"},\"width\":{\"field\":\"width\",\"units\":\"data\"},\"x\":{\"field\":\"x\"},\"y\":{\"field\":\"y\"}},\"id\":\"c4a1f809-ae2c-423d-856b-c8f5cf1bc18a\",\"type\":\"Rect\"},{\"attributes\":{},\"id\":\"1b8ecaed-c4d6-40d9-9360-c08ea70efbf7\",\"type\":\"BasicTicker\"},{\"attributes\":{\"fill_alpha\":{\"field\":\"fill_alpha\"},\"fill_color\":{\"field\":\"color\"},\"height\":{\"field\":\"height\",\"units\":\"data\"},\"line_color\":{\"field\":\"line_color\"},\"width\":{\"field\":\"width\",\"units\":\"data\"},\"x\":{\"field\":\"x\"},\"y\":{\"field\":\"y\"}},\"id\":\"3e1fa4c9-413f-4ebb-bca5-04faff495ecb\",\"type\":\"Rect\"},{\"attributes\":{\"fill_alpha\":{\"field\":\"fill_alpha\"},\"fill_color\":{\"field\":\"color\"},\"height\":{\"field\":\"height\",\"units\":\"data\"},\"line_color\":{\"field\":\"line_color\"},\"width\":{\"field\":\"width\",\"units\":\"data\"},\"x\":{\"field\":\"x\"},\"y\":{\"field\":\"y\"}},\"id\":\"0f8da50d-2d25-455a-b1b9-576910540ac7\",\"type\":\"Rect\"},{\"attributes\":{\"callback\":null,\"column_names\":[\"line_color\",\"line_alpha\",\"color\",\"fill_alpha\",\"height\",\"width\",\"y\",\"x\",\"label\"],\"data\":{\"chart_index\":[\"(1.1, 1.3]\"],\"color\":[\"#f22c40\"],\"fill_alpha\":[0.8],\"height\":[131.0],\"label\":[\"(1.1, 1.3]\"],\"line_alpha\":[1.0],\"line_color\":[\"black\"],\"width\":[0.18749339910030915],\"x\":[\"1.2\"],\"y\":[65.5]}},\"id\":\"0c2447f8-ec2f-49f3-af9b-bed61235510c\",\"type\":\"ColumnDataSource\"},{\"attributes\":{\"fill_alpha\":{\"field\":\"fill_alpha\"},\"fill_color\":{\"field\":\"color\"},\"height\":{\"field\":\"height\",\"units\":\"data\"},\"line_color\":{\"field\":\"line_color\"},\"width\":{\"field\":\"width\",\"units\":\"data\"},\"x\":{\"field\":\"x\"},\"y\":{\"field\":\"y\"}},\"id\":\"63481e4e-3bf5-4901-97a2-6ffa0ec1dff9\",\"type\":\"Rect\"},{\"attributes\":{\"callback\":null,\"column_names\":[\"line_color\",\"line_alpha\",\"color\",\"fill_alpha\",\"height\",\"width\",\"y\",\"x\",\"label\"],\"data\":{\"chart_index\":[\"(0.9, 1.1]\"],\"color\":[\"#f22c40\"],\"fill_alpha\":[0.8],\"height\":[170.0],\"label\":[\"(0.9, 1.1]\"],\"line_alpha\":[1.0],\"line_color\":[\"black\"],\"width\":[0.18749339910030915],\"x\":[\"1.0\"],\"y\":[85.0]}},\"id\":\"44b46416-a520-4d3a-8d34-c04ab3c81868\",\"type\":\"ColumnDataSource\"},{\"attributes\":{\"callback\":null,\"column_names\":[\"line_color\",\"line_alpha\",\"color\",\"fill_alpha\",\"height\",\"width\",\"y\",\"x\",\"label\"],\"data\":{\"chart_index\":[\"(0.4, 0.5]\"],\"color\":[\"#f22c40\"],\"fill_alpha\":[0.8],\"height\":[191.0],\"label\":[\"(0.4, 0.5]\"],\"line_alpha\":[1.0],\"line_color\":[\"black\"],\"width\":[0.18749339910030915],\"x\":[\"0.45\"],\"y\":[95.5]}},\"id\":\"ec2cdfd6-10e3-482c-abde-ec88f058fc39\",\"type\":\"ColumnDataSource\"},{\"attributes\":{\"data_source\":{\"id\":\"0740e4d5-f566-4845-9290-500b5930129e\",\"type\":\"ColumnDataSource\"},\"glyph\":{\"id\":\"ebc3084a-929f-4c0f-8f24-cbc69c610e08\",\"type\":\"Rect\"},\"hover_glyph\":null,\"nonselection_glyph\":null,\"selection_glyph\":null},\"id\":\"ab6046a6-b3cd-4f62-beda-b03b5cbbe587\",\"type\":\"GlyphRenderer\"},{\"attributes\":{\"callback\":null,\"end\":4.1587466995501545,\"start\":-1.5587466995501544},\"id\":\"bd9067d6-1777-4df7-9df6-7570c09817b8\",\"type\":\"Range1d\"},{\"attributes\":{\"fill_alpha\":{\"field\":\"fill_alpha\"},\"fill_color\":{\"field\":\"color\"},\"height\":{\"field\":\"height\",\"units\":\"data\"},\"line_color\":{\"field\":\"line_color\"},\"width\":{\"field\":\"width\",\"units\":\"data\"},\"x\":{\"field\":\"x\"},\"y\":{\"field\":\"y\"}},\"id\":\"260c6035-4be5-4c99-bdb2-ec4f6544512b\",\"type\":\"Rect\"},{\"attributes\":{\"fill_alpha\":{\"field\":\"fill_alpha\"},\"fill_color\":{\"field\":\"color\"},\"height\":{\"field\":\"height\",\"units\":\"data\"},\"line_color\":{\"field\":\"line_color\"},\"width\":{\"field\":\"width\",\"units\":\"data\"},\"x\":{\"field\":\"x\"},\"y\":{\"field\":\"y\"}},\"id\":\"15f385ca-19d6-47b1-a794-81167a058649\",\"type\":\"Rect\"},{\"attributes\":{\"callback\":null,\"column_names\":[\"line_color\",\"line_alpha\",\"color\",\"fill_alpha\",\"height\",\"width\",\"y\",\"x\",\"label\"],\"data\":{\"chart_index\":[\"(0.7, 0.9]\"],\"color\":[\"#f22c40\"],\"fill_alpha\":[0.8],\"height\":[176.0],\"label\":[\"(0.7, 0.9]\"],\"line_alpha\":[1.0],\"line_color\":[\"black\"],\"width\":[0.18749339910030915],\"x\":[\"0.8\"],\"y\":[88.0]}},\"id\":\"065d5da7-e57e-4b9d-9f39-26b08d76eb69\",\"type\":\"ColumnDataSource\"},{\"attributes\":{\"fill_alpha\":{\"field\":\"fill_alpha\"},\"fill_color\":{\"field\":\"color\"},\"height\":{\"field\":\"height\",\"units\":\"data\"},\"line_color\":{\"field\":\"line_color\"},\"width\":{\"field\":\"width\",\"units\":\"data\"},\"x\":{\"field\":\"x\"},\"y\":{\"field\":\"y\"}},\"id\":\"b3dd6bc6-0906-46c3-a02d-9b0f6cacb9de\",\"type\":\"Rect\"},{\"attributes\":{\"callback\":null,\"column_names\":[\"line_color\",\"line_alpha\",\"color\",\"fill_alpha\",\"height\",\"width\",\"y\",\"x\",\"label\"],\"data\":{\"chart_index\":[\"(-0.4, -0.2]\"],\"color\":[\"#f22c40\"],\"fill_alpha\":[0.8],\"height\":[123.0],\"label\":[\"(-0.4, -0.2]\"],\"line_alpha\":[1.0],\"line_color\":[\"black\"],\"width\":[0.18749339910030915],\"x\":[\"-0.3\"],\"y\":[61.5]}},\"id\":\"4ace09cf-15a2-47dc-a9df-6a5fed4cef69\",\"type\":\"ColumnDataSource\"},{\"attributes\":{\"callback\":null,\"column_names\":[\"line_color\",\"line_alpha\",\"color\",\"fill_alpha\",\"height\",\"width\",\"y\",\"x\",\"label\"],\"data\":{\"chart_index\":[\"[-1.5, -1.3]\"],\"color\":[\"#f22c40\"],\"fill_alpha\":[0.8],\"height\":[2.0],\"label\":[\"[-1.5, -1.3]\"],\"line_alpha\":[1.0],\"line_color\":[\"black\"],\"width\":[0.18749339910030915],\"x\":[\"-1.4\"],\"y\":[1.0]}},\"id\":\"15506c52-bbea-4dd8-b84c-e032862b6345\",\"type\":\"ColumnDataSource\"},{\"attributes\":{\"plot\":{\"id\":\"7c6720fe-ad08-44c9-8db8-3204a5d9bce9\",\"subtype\":\"Chart\",\"type\":\"Plot\"}},\"id\":\"df7a09e6-b638-4e70-9396-d28f1b973abe\",\"type\":\"PanTool\"},{\"attributes\":{\"fill_alpha\":{\"field\":\"fill_alpha\"},\"fill_color\":{\"field\":\"color\"},\"height\":{\"field\":\"height\",\"units\":\"data\"},\"line_color\":{\"field\":\"line_color\"},\"width\":{\"field\":\"width\",\"units\":\"data\"},\"x\":{\"field\":\"x\"},\"y\":{\"field\":\"y\"}},\"id\":\"be5af6c7-027d-404b-948b-29fef43b5f5a\",\"type\":\"Rect\"},{\"attributes\":{\"fill_alpha\":{\"field\":\"fill_alpha\"},\"fill_color\":{\"field\":\"color\"},\"height\":{\"field\":\"height\",\"units\":\"data\"},\"line_color\":{\"field\":\"line_color\"},\"width\":{\"field\":\"width\",\"units\":\"data\"},\"x\":{\"field\":\"x\"},\"y\":{\"field\":\"y\"}},\"id\":\"99ba119c-cf5e-47e7-86d8-b9afcde35e2b\",\"type\":\"Rect\"},{\"attributes\":{\"data_source\":{\"id\":\"4ace09cf-15a2-47dc-a9df-6a5fed4cef69\",\"type\":\"ColumnDataSource\"},\"glyph\":{\"id\":\"15f385ca-19d6-47b1-a794-81167a058649\",\"type\":\"Rect\"},\"hover_glyph\":null,\"nonselection_glyph\":null,\"selection_glyph\":null},\"id\":\"6013437a-a330-4a7c-8b4f-dd19b70ee514\",\"type\":\"GlyphRenderer\"},{\"attributes\":{\"fill_alpha\":{\"field\":\"fill_alpha\"},\"fill_color\":{\"field\":\"color\"},\"height\":{\"field\":\"height\",\"units\":\"data\"},\"line_color\":{\"field\":\"line_color\"},\"width\":{\"field\":\"width\",\"units\":\"data\"},\"x\":{\"field\":\"x\"},\"y\":{\"field\":\"y\"}},\"id\":\"13b1f5c0-647d-4102-85c2-e35279fc3acc\",\"type\":\"Rect\"},{\"attributes\":{\"callback\":null,\"column_names\":[\"line_color\",\"line_alpha\",\"color\",\"fill_alpha\",\"height\",\"width\",\"y\",\"x\",\"label\"],\"data\":{\"chart_index\":[\"(1.9, 2.0]\"],\"color\":[\"#f22c40\"],\"fill_alpha\":[0.8],\"height\":[38.0],\"label\":[\"(1.9, 2.0]\"],\"line_alpha\":[1.0],\"line_color\":[\"black\"],\"width\":[0.18749339910030938],\"x\":[\"1.95\"],\"y\":[19.0]}},\"id\":\"7b8f1cd4-f6d5-4244-9380-ae3ed3aa2dd1\",\"type\":\"ColumnDataSource\"},{\"attributes\":{\"callback\":null,\"column_names\":[\"line_color\",\"line_alpha\",\"color\",\"fill_alpha\",\"height\",\"width\",\"y\",\"x\",\"label\"],\"data\":{\"chart_index\":[\"(3.2, 3.4]\"],\"color\":[\"#f22c40\"],\"fill_alpha\":[0.8],\"height\":[2.0],\"label\":[\"(3.2, 3.4]\"],\"line_alpha\":[1.0],\"line_color\":[\"black\"],\"width\":[0.18749339910030915],\"x\":[\"3.3\"],\"y\":[1.0]}},\"id\":\"a2412930-7bd5-4bb8-830b-ceb850a0d07c\",\"type\":\"ColumnDataSource\"},{\"attributes\":{\"fill_alpha\":{\"field\":\"fill_alpha\"},\"fill_color\":{\"field\":\"color\"},\"height\":{\"field\":\"height\",\"units\":\"data\"},\"line_color\":{\"field\":\"line_color\"},\"width\":{\"field\":\"width\",\"units\":\"data\"},\"x\":{\"field\":\"x\"},\"y\":{\"field\":\"y\"}},\"id\":\"be198fa1-3b6f-4460-a0c6-7dbf27bbb8bd\",\"type\":\"Rect\"},{\"attributes\":{\"data_source\":{\"id\":\"ac3c1d14-ac59-48a5-89fb-4828db133a60\",\"type\":\"ColumnDataSource\"},\"glyph\":{\"id\":\"0d22d577-3c8a-4c79-b26c-f6c7ab47712b\",\"type\":\"Rect\"},\"hover_glyph\":null,\"nonselection_glyph\":null,\"selection_glyph\":null},\"id\":\"800471ca-00d2-4565-8d97-e5ce90272815\",\"type\":\"GlyphRenderer\"},{\"attributes\":{\"data_source\":{\"id\":\"0c2447f8-ec2f-49f3-af9b-bed61235510c\",\"type\":\"ColumnDataSource\"},\"glyph\":{\"id\":\"99ba119c-cf5e-47e7-86d8-b9afcde35e2b\",\"type\":\"Rect\"},\"hover_glyph\":null,\"nonselection_glyph\":null,\"selection_glyph\":null},\"id\":\"4cc6e359-08eb-4c34-9555-92031bf28b26\",\"type\":\"GlyphRenderer\"},{\"attributes\":{\"fill_alpha\":{\"field\":\"fill_alpha\"},\"fill_color\":{\"field\":\"color\"},\"height\":{\"field\":\"height\",\"units\":\"data\"},\"line_color\":{\"field\":\"line_color\"},\"width\":{\"field\":\"width\",\"units\":\"data\"},\"x\":{\"field\":\"x\"},\"y\":{\"field\":\"y\"}},\"id\":\"757f9e03-6725-464a-a31d-cd9ca0ad5f10\",\"type\":\"Rect\"},{\"attributes\":{\"data_source\":{\"id\":\"ec2cdfd6-10e3-482c-abde-ec88f058fc39\",\"type\":\"ColumnDataSource\"},\"glyph\":{\"id\":\"0f26b0bd-fe57-4bfe-9034-cc1990d7bbd4\",\"type\":\"Rect\"},\"hover_glyph\":null,\"nonselection_glyph\":null,\"selection_glyph\":null},\"id\":\"b7f1ff6d-9070-417c-8157-2aedc493b4c4\",\"type\":\"GlyphRenderer\"},{\"attributes\":{\"fill_alpha\":{\"field\":\"fill_alpha\"},\"fill_color\":{\"field\":\"color\"},\"height\":{\"field\":\"height\",\"units\":\"data\"},\"line_color\":{\"field\":\"line_color\"},\"width\":{\"field\":\"width\",\"units\":\"data\"},\"x\":{\"field\":\"x\"},\"y\":{\"field\":\"y\"}},\"id\":\"a1f7d4dc-fe75-425a-a00f-eb0b78c6d6c5\",\"type\":\"Rect\"},{\"attributes\":{\"data_source\":{\"id\":\"ad2d0e7a-b4b2-49a0-910e-96aed5b34776\",\"type\":\"ColumnDataSource\"},\"glyph\":{\"id\":\"c4a1f809-ae2c-423d-856b-c8f5cf1bc18a\",\"type\":\"Rect\"},\"hover_glyph\":null,\"nonselection_glyph\":null,\"selection_glyph\":null},\"id\":\"16ea556d-bbe4-4387-98de-1407959f0c97\",\"type\":\"GlyphRenderer\"},{\"attributes\":{\"data_source\":{\"id\":\"a2412930-7bd5-4bb8-830b-ceb850a0d07c\",\"type\":\"ColumnDataSource\"},\"glyph\":{\"id\":\"d62ffc67-6d20-473c-b3f2-f1f6b87bf6df\",\"type\":\"Rect\"},\"hover_glyph\":null,\"nonselection_glyph\":null,\"selection_glyph\":null},\"id\":\"b253fed8-380f-43c1-8b44-51ac4a848c8c\",\"type\":\"GlyphRenderer\"},{\"attributes\":{\"data_source\":{\"id\":\"d0570a1a-19e7-41e5-88cf-baf9a106cebd\",\"type\":\"ColumnDataSource\"},\"glyph\":{\"id\":\"967fee8b-78ed-4a78-8781-d712d4839d9c\",\"type\":\"Rect\"},\"hover_glyph\":null,\"nonselection_glyph\":null,\"selection_glyph\":null},\"id\":\"183e4a8d-efdd-479d-ade2-2e6d205994db\",\"type\":\"GlyphRenderer\"},{\"attributes\":{\"active_drag\":\"auto\",\"active_scroll\":\"auto\",\"active_tap\":\"auto\",\"tools\":[{\"id\":\"df7a09e6-b638-4e70-9396-d28f1b973abe\",\"type\":\"PanTool\"},{\"id\":\"4e73942b-b9ea-4c91-b9cb-d4c1822c619f\",\"type\":\"WheelZoomTool\"},{\"id\":\"1266497b-e52c-445d-8c2e-3dc974788bce\",\"type\":\"BoxZoomTool\"},{\"id\":\"3cbbb333-4f90-4d4f-bbba-b59251d68306\",\"type\":\"SaveTool\"},{\"id\":\"de38bfad-4b8e-4b80-b004-107f03afbb4f\",\"type\":\"ResetTool\"},{\"id\":\"6272d691-a05a-42e8-a10f-ae26cdb24f23\",\"type\":\"HelpTool\"}]},\"id\":\"23f97be6-74dd-4f8f-8466-4148f500bac4\",\"type\":\"Toolbar\"},{\"attributes\":{\"data_source\":{\"id\":\"348da8dd-0875-465c-bd53-cf73585abdfb\",\"type\":\"ColumnDataSource\"},\"glyph\":{\"id\":\"0f8da50d-2d25-455a-b1b9-576910540ac7\",\"type\":\"Rect\"},\"hover_glyph\":null,\"nonselection_glyph\":null,\"selection_glyph\":null},\"id\":\"800fc4d9-bcb8-4d5d-b9e9-0b3e68f4959b\",\"type\":\"GlyphRenderer\"},{\"attributes\":{\"data_source\":{\"id\":\"40f564cf-02e8-48c8-9cbc-e210abfed137\",\"type\":\"ColumnDataSource\"},\"glyph\":{\"id\":\"a1f7d4dc-fe75-425a-a00f-eb0b78c6d6c5\",\"type\":\"Rect\"},\"hover_glyph\":null,\"nonselection_glyph\":null,\"selection_glyph\":null},\"id\":\"638944f0-84f1-435b-9343-52ee3b5c4610\",\"type\":\"GlyphRenderer\"},{\"attributes\":{\"data_source\":{\"id\":\"35e71608-6515-4ad6-923b-4a04ed3ef6dc\",\"type\":\"ColumnDataSource\"},\"glyph\":{\"id\":\"be198fa1-3b6f-4460-a0c6-7dbf27bbb8bd\",\"type\":\"Rect\"},\"hover_glyph\":null,\"nonselection_glyph\":null,\"selection_glyph\":null},\"id\":\"2c93db6e-008c-4cd9-9dcd-85a0707f0d64\",\"type\":\"GlyphRenderer\"},{\"attributes\":{\"plot\":{\"id\":\"7c6720fe-ad08-44c9-8db8-3204a5d9bce9\",\"subtype\":\"Chart\",\"type\":\"Plot\"}},\"id\":\"de38bfad-4b8e-4b80-b004-107f03afbb4f\",\"type\":\"ResetTool\"},{\"attributes\":{\"data_source\":{\"id\":\"cfcb3a5a-4920-4760-8990-b5dbfa646642\",\"type\":\"ColumnDataSource\"},\"glyph\":{\"id\":\"13b1f5c0-647d-4102-85c2-e35279fc3acc\",\"type\":\"Rect\"},\"hover_glyph\":null,\"nonselection_glyph\":null,\"selection_glyph\":null},\"id\":\"90760174-6e76-4f67-aa84-47b756bfca6b\",\"type\":\"GlyphRenderer\"},{\"attributes\":{\"fill_alpha\":{\"field\":\"fill_alpha\"},\"fill_color\":{\"field\":\"color\"},\"height\":{\"field\":\"height\",\"units\":\"data\"},\"line_color\":{\"field\":\"line_color\"},\"width\":{\"field\":\"width\",\"units\":\"data\"},\"x\":{\"field\":\"x\"},\"y\":{\"field\":\"y\"}},\"id\":\"45a27661-7a13-4a7d-be22-84d895e3d1fc\",\"type\":\"Rect\"},{\"attributes\":{\"plot\":{\"id\":\"7c6720fe-ad08-44c9-8db8-3204a5d9bce9\",\"subtype\":\"Chart\",\"type\":\"Plot\"}},\"id\":\"6272d691-a05a-42e8-a10f-ae26cdb24f23\",\"type\":\"HelpTool\"},{\"attributes\":{\"callback\":null,\"column_names\":[\"line_color\",\"line_alpha\",\"color\",\"fill_alpha\",\"height\",\"width\",\"y\",\"x\",\"label\"],\"data\":{\"chart_index\":[\"(2.0, 2.2]\"],\"color\":[\"#f22c40\"],\"fill_alpha\":[0.8],\"height\":[28.0],\"label\":[\"(2.0, 2.2]\"],\"line_alpha\":[1.0],\"line_color\":[\"black\"],\"width\":[0.18749339910030915],\"x\":[\"2.1\"],\"y\":[14.0]}},\"id\":\"87f87330-a5fe-4dd9-85de-b0f196da9ed1\",\"type\":\"ColumnDataSource\"},{\"attributes\":{\"callback\":null,\"column_names\":[\"line_color\",\"line_alpha\",\"color\",\"fill_alpha\",\"height\",\"width\",\"y\",\"x\",\"label\"],\"data\":{\"chart_index\":[\"(3.9, 4.1]\"],\"color\":[\"#f22c40\"],\"fill_alpha\":[0.8],\"height\":[2.0],\"label\":[\"(3.9, 4.1]\"],\"line_alpha\":[1.0],\"line_color\":[\"black\"],\"width\":[0.18749339910030915],\"x\":[\"4.0\"],\"y\":[1.0]}},\"id\":\"ac3c1d14-ac59-48a5-89fb-4828db133a60\",\"type\":\"ColumnDataSource\"},{\"attributes\":{\"location\":\"top_left\",\"plot\":{\"id\":\"7c6720fe-ad08-44c9-8db8-3204a5d9bce9\",\"subtype\":\"Chart\",\"type\":\"Plot\"}},\"id\":\"d390efbd-114c-4e47-bbe3-5891f4ed50cd\",\"type\":\"Legend\"},{\"attributes\":{\"data_source\":{\"id\":\"065d5da7-e57e-4b9d-9f39-26b08d76eb69\",\"type\":\"ColumnDataSource\"},\"glyph\":{\"id\":\"c0a2767e-bfdd-481d-94f4-a626b83a83fe\",\"type\":\"Rect\"},\"hover_glyph\":null,\"nonselection_glyph\":null,\"selection_glyph\":null},\"id\":\"cf6a8fef-81aa-46da-9c2c-ef8c3a527e2f\",\"type\":\"GlyphRenderer\"},{\"attributes\":{\"below\":[{\"id\":\"20c1642c-566c-4743-a06c-88d80e2d9221\",\"type\":\"LinearAxis\"}],\"left\":[{\"id\":\"063f65c3-3834-442c-bb38-665dae71da2e\",\"type\":\"LinearAxis\"}],\"renderers\":[{\"id\":\"ccc32636-6311-4894-b999-3522872a1fee\",\"type\":\"BoxAnnotation\"},{\"id\":\"25e4bb31-4461-43f2-ab7b-4026f07b58a3\",\"type\":\"GlyphRenderer\"},{\"id\":\"95eb718f-d9cd-4f92-b521-fcc6dd14a18d\",\"type\":\"GlyphRenderer\"},{\"id\":\"51ba138d-e4e0-4d51-897f-eeb8513fc62c\",\"type\":\"GlyphRenderer\"},{\"id\":\"800fc4d9-bcb8-4d5d-b9e9-0b3e68f4959b\",\"type\":\"GlyphRenderer\"},{\"id\":\"76a548a1-87c0-48f8-a583-7549af7a0a3a\",\"type\":\"GlyphRenderer\"},{\"id\":\"c6c2293a-56bd-494a-9299-6e90002823c1\",\"type\":\"GlyphRenderer\"},{\"id\":\"6013437a-a330-4a7c-8b4f-dd19b70ee514\",\"type\":\"GlyphRenderer\"},{\"id\":\"f350943c-59f9-481c-a417-959e13748807\",\"type\":\"GlyphRenderer\"},{\"id\":\"638944f0-84f1-435b-9343-52ee3b5c4610\",\"type\":\"GlyphRenderer\"},{\"id\":\"02604de8-36c7-406a-bb08-6277afe21706\",\"type\":\"GlyphRenderer\"},{\"id\":\"b7f1ff6d-9070-417c-8157-2aedc493b4c4\",\"type\":\"GlyphRenderer\"},{\"id\":\"8338acca-ea7b-449f-a539-a5b12d82e5b1\",\"type\":\"GlyphRenderer\"},{\"id\":\"cf6a8fef-81aa-46da-9c2c-ef8c3a527e2f\",\"type\":\"GlyphRenderer\"},{\"id\":\"8f40ce09-1246-4895-8abc-8ea963be7b8e\",\"type\":\"GlyphRenderer\"},{\"id\":\"4cc6e359-08eb-4c34-9555-92031bf28b26\",\"type\":\"GlyphRenderer\"},{\"id\":\"183e4a8d-efdd-479d-ade2-2e6d205994db\",\"type\":\"GlyphRenderer\"},{\"id\":\"209dc564-5ee2-4fee-b141-67109b2e4b57\",\"type\":\"GlyphRenderer\"},{\"id\":\"ab6046a6-b3cd-4f62-beda-b03b5cbbe587\",\"type\":\"GlyphRenderer\"},{\"id\":\"dd697ee3-6c10-4347-b108-932134ca329f\",\"type\":\"GlyphRenderer\"},{\"id\":\"87822da5-6dc2-40da-968c-9c0abed17a4e\",\"type\":\"GlyphRenderer\"},{\"id\":\"fa18b48c-827a-424e-85dd-a5c51d32bd98\",\"type\":\"GlyphRenderer\"},{\"id\":\"954ae545-0aa2-4ad2-bdee-73a97d07cfc3\",\"type\":\"GlyphRenderer\"},{\"id\":\"2c93db6e-008c-4cd9-9dcd-85a0707f0d64\",\"type\":\"GlyphRenderer\"},{\"id\":\"90760174-6e76-4f67-aa84-47b756bfca6b\",\"type\":\"GlyphRenderer\"},{\"id\":\"9ff3c780-56f0-4938-bb63-867933b179c2\",\"type\":\"GlyphRenderer\"},{\"id\":\"b253fed8-380f-43c1-8b44-51ac4a848c8c\",\"type\":\"GlyphRenderer\"},{\"id\":\"efb5beec-0f28-4a9e-8dfa-6ceb04eee05e\",\"type\":\"GlyphRenderer\"},{\"id\":\"16ea556d-bbe4-4387-98de-1407959f0c97\",\"type\":\"GlyphRenderer\"},{\"id\":\"caa67795-7fc2-44d7-b9a4-0a393a5f0d92\",\"type\":\"GlyphRenderer\"},{\"id\":\"800471ca-00d2-4565-8d97-e5ce90272815\",\"type\":\"GlyphRenderer\"},{\"id\":\"d390efbd-114c-4e47-bbe3-5891f4ed50cd\",\"type\":\"Legend\"},{\"id\":\"20c1642c-566c-4743-a06c-88d80e2d9221\",\"type\":\"LinearAxis\"},{\"id\":\"063f65c3-3834-442c-bb38-665dae71da2e\",\"type\":\"LinearAxis\"},{\"id\":\"a7b9d91b-c2d1-4c82-90b0-dbfef9a3464f\",\"type\":\"Grid\"}],\"title\":{\"id\":\"b85924fc-8f06-4ba6-b320-96afd44086da\",\"type\":\"Title\"},\"tool_events\":{\"id\":\"9770e5ab-59ac-4878-8b76-a9c6712f3515\",\"type\":\"ToolEvents\"},\"toolbar\":{\"id\":\"23f97be6-74dd-4f8f-8466-4148f500bac4\",\"type\":\"Toolbar\"},\"x_mapper_type\":\"auto\",\"x_range\":{\"id\":\"bd9067d6-1777-4df7-9df6-7570c09817b8\",\"type\":\"Range1d\"},\"y_mapper_type\":\"auto\",\"y_range\":{\"id\":\"d4878e70-559e-4195-8ec5-24df6211718d\",\"type\":\"Range1d\"}},\"id\":\"7c6720fe-ad08-44c9-8db8-3204a5d9bce9\",\"subtype\":\"Chart\",\"type\":\"Plot\"},{\"attributes\":{\"data_source\":{\"id\":\"c2547eda-79c8-4fae-a5b4-f7c87d8f06b9\",\"type\":\"ColumnDataSource\"},\"glyph\":{\"id\":\"b53a9800-754b-4308-8aae-9d462f6df044\",\"type\":\"Rect\"},\"hover_glyph\":null,\"nonselection_glyph\":null,\"selection_glyph\":null},\"id\":\"76a548a1-87c0-48f8-a583-7549af7a0a3a\",\"type\":\"GlyphRenderer\"},{\"attributes\":{\"data_source\":{\"id\":\"ad284037-a908-45eb-b32f-5f40b06f7fda\",\"type\":\"ColumnDataSource\"},\"glyph\":{\"id\":\"9fb5e71c-f803-4970-9813-684702a93bd9\",\"type\":\"Rect\"},\"hover_glyph\":null,\"nonselection_glyph\":null,\"selection_glyph\":null},\"id\":\"8338acca-ea7b-449f-a539-a5b12d82e5b1\",\"type\":\"GlyphRenderer\"},{\"attributes\":{\"fill_alpha\":{\"field\":\"fill_alpha\"},\"fill_color\":{\"field\":\"color\"},\"height\":{\"field\":\"height\",\"units\":\"data\"},\"line_color\":{\"field\":\"line_color\"},\"width\":{\"field\":\"width\",\"units\":\"data\"},\"x\":{\"field\":\"x\"},\"y\":{\"field\":\"y\"}},\"id\":\"c0a2767e-bfdd-481d-94f4-a626b83a83fe\",\"type\":\"Rect\"},{\"attributes\":{\"plot\":{\"id\":\"7c6720fe-ad08-44c9-8db8-3204a5d9bce9\",\"subtype\":\"Chart\",\"type\":\"Plot\"}},\"id\":\"4e73942b-b9ea-4c91-b9cb-d4c1822c619f\",\"type\":\"WheelZoomTool\"},{\"attributes\":{\"axis_label\":\"Count( Value )\",\"formatter\":{\"id\":\"215ce090-d92c-4ce9-b51a-56c1a1981586\",\"type\":\"BasicTickFormatter\"},\"plot\":{\"id\":\"7c6720fe-ad08-44c9-8db8-3204a5d9bce9\",\"subtype\":\"Chart\",\"type\":\"Plot\"},\"ticker\":{\"id\":\"5ed8068f-b368-4372-931b-3965b192a836\",\"type\":\"BasicTicker\"}},\"id\":\"063f65c3-3834-442c-bb38-665dae71da2e\",\"type\":\"LinearAxis\"},{\"attributes\":{},\"id\":\"8ffaef41-1129-4ff1-b589-7918dc577d9a\",\"type\":\"BasicTickFormatter\"},{\"attributes\":{\"callback\":null,\"column_names\":[\"line_color\",\"line_alpha\",\"color\",\"fill_alpha\",\"height\",\"width\",\"y\",\"x\",\"label\"],\"data\":{\"chart_index\":[\"(0.5, 0.7]\"],\"color\":[\"#f22c40\"],\"fill_alpha\":[0.8],\"height\":[235.0],\"label\":[\"(0.5, 0.7]\"],\"line_alpha\":[1.0],\"line_color\":[\"black\"],\"width\":[0.1874933991003087],\"x\":[\"0.6\"],\"y\":[117.5]}},\"id\":\"ad284037-a908-45eb-b32f-5f40b06f7fda\",\"type\":\"ColumnDataSource\"},{\"attributes\":{\"callback\":null,\"column_names\":[\"line_color\",\"line_alpha\",\"color\",\"fill_alpha\",\"height\",\"width\",\"y\",\"x\",\"label\"],\"data\":{\"chart_index\":[\"(-1.1, -1.0]\"],\"color\":[\"#f22c40\"],\"fill_alpha\":[0.8],\"height\":[14.0],\"label\":[\"(-1.1, -1.0]\"],\"line_alpha\":[1.0],\"line_color\":[\"black\"],\"width\":[0.18749339910030915],\"x\":[\"-1.05\"],\"y\":[7.0]}},\"id\":\"de3a10c8-54fe-49b5-9973-241cabc5b0a4\",\"type\":\"ColumnDataSource\"},{\"attributes\":{\"callback\":null,\"column_names\":[\"line_color\",\"line_alpha\",\"color\",\"fill_alpha\",\"height\",\"width\",\"y\",\"x\",\"label\"],\"data\":{\"chart_index\":[\"(3.7, 3.9]\"],\"color\":[\"#f22c40\"],\"fill_alpha\":[0.8],\"height\":[0.0],\"label\":[\"(3.7, 3.9]\"],\"line_alpha\":[1.0],\"line_color\":[\"black\"],\"width\":[0.18749339910030915],\"x\":[\"3.8\"],\"y\":[0.0]}},\"id\":\"0e8ad5cf-5fda-497c-88fe-544b369d1936\",\"type\":\"ColumnDataSource\"},{\"attributes\":{\"callback\":null,\"column_names\":[\"line_color\",\"line_alpha\",\"color\",\"fill_alpha\",\"height\",\"width\",\"y\",\"x\",\"label\"],\"data\":{\"chart_index\":[\"(-0.6, -0.4]\"],\"color\":[\"#f22c40\"],\"fill_alpha\":[0.8],\"height\":[85.0],\"label\":[\"(-0.6, -0.4]\"],\"line_alpha\":[1.0],\"line_color\":[\"black\"],\"width\":[0.18749339910030893],\"x\":[\"-0.5\"],\"y\":[42.5]}},\"id\":\"7e5e2362-2df6-4867-be78-c0cdd95dfa73\",\"type\":\"ColumnDataSource\"},{\"attributes\":{\"overlay\":{\"id\":\"ccc32636-6311-4894-b999-3522872a1fee\",\"type\":\"BoxAnnotation\"},\"plot\":{\"id\":\"7c6720fe-ad08-44c9-8db8-3204a5d9bce9\",\"subtype\":\"Chart\",\"type\":\"Plot\"}},\"id\":\"1266497b-e52c-445d-8c2e-3dc974788bce\",\"type\":\"BoxZoomTool\"},{\"attributes\":{\"data_source\":{\"id\":\"fd4a0cf0-d841-45c9-b4cc-4401a3fb95be\",\"type\":\"ColumnDataSource\"},\"glyph\":{\"id\":\"260c6035-4be5-4c99-bdb2-ec4f6544512b\",\"type\":\"Rect\"},\"hover_glyph\":null,\"nonselection_glyph\":null,\"selection_glyph\":null},\"id\":\"95eb718f-d9cd-4f92-b521-fcc6dd14a18d\",\"type\":\"GlyphRenderer\"},{\"attributes\":{\"fill_alpha\":{\"field\":\"fill_alpha\"},\"fill_color\":{\"field\":\"color\"},\"height\":{\"field\":\"height\",\"units\":\"data\"},\"line_color\":{\"field\":\"line_color\"},\"width\":{\"field\":\"width\",\"units\":\"data\"},\"x\":{\"field\":\"x\"},\"y\":{\"field\":\"y\"}},\"id\":\"f90efb66-58d3-42ed-8b14-77c45886f53e\",\"type\":\"Rect\"},{\"attributes\":{\"callback\":null,\"column_names\":[\"line_color\",\"line_alpha\",\"color\",\"fill_alpha\",\"height\",\"width\",\"y\",\"x\",\"label\"],\"data\":{\"chart_index\":[\"(-0.8, -0.6]\"],\"color\":[\"#f22c40\"],\"fill_alpha\":[0.8],\"height\":[55.0],\"label\":[\"(-0.8, -0.6]\"],\"line_alpha\":[1.0],\"line_color\":[\"black\"],\"width\":[0.18749339910030915],\"x\":[\"-0.7\"],\"y\":[27.5]}},\"id\":\"c2547eda-79c8-4fae-a5b4-f7c87d8f06b9\",\"type\":\"ColumnDataSource\"},{\"attributes\":{\"fill_alpha\":{\"field\":\"fill_alpha\"},\"fill_color\":{\"field\":\"color\"},\"height\":{\"field\":\"height\",\"units\":\"data\"},\"line_color\":{\"field\":\"line_color\"},\"width\":{\"field\":\"width\",\"units\":\"data\"},\"x\":{\"field\":\"x\"},\"y\":{\"field\":\"y\"}},\"id\":\"da640568-6f10-4e3d-a601-c383c9473391\",\"type\":\"Rect\"},{\"attributes\":{\"data_source\":{\"id\":\"afad02fa-6081-460f-a553-8e49c7c6d650\",\"type\":\"ColumnDataSource\"},\"glyph\":{\"id\":\"3e1fa4c9-413f-4ebb-bca5-04faff495ecb\",\"type\":\"Rect\"},\"hover_glyph\":null,\"nonselection_glyph\":null,\"selection_glyph\":null},\"id\":\"954ae545-0aa2-4ad2-bdee-73a97d07cfc3\",\"type\":\"GlyphRenderer\"},{\"attributes\":{\"fill_alpha\":{\"field\":\"fill_alpha\"},\"fill_color\":{\"field\":\"color\"},\"height\":{\"field\":\"height\",\"units\":\"data\"},\"line_color\":{\"field\":\"line_color\"},\"width\":{\"field\":\"width\",\"units\":\"data\"},\"x\":{\"field\":\"x\"},\"y\":{\"field\":\"y\"}},\"id\":\"5b396f40-bd9b-44f5-b901-7301bc5018d2\",\"type\":\"Rect\"},{\"attributes\":{\"fill_alpha\":{\"field\":\"fill_alpha\"},\"fill_color\":{\"field\":\"color\"},\"height\":{\"field\":\"height\",\"units\":\"data\"},\"line_color\":{\"field\":\"line_color\"},\"width\":{\"field\":\"width\",\"units\":\"data\"},\"x\":{\"field\":\"x\"},\"y\":{\"field\":\"y\"}},\"id\":\"0f26b0bd-fe57-4bfe-9034-cc1990d7bbd4\",\"type\":\"Rect\"},{\"attributes\":{\"callback\":null,\"column_names\":[\"line_color\",\"line_alpha\",\"color\",\"fill_alpha\",\"height\",\"width\",\"y\",\"x\",\"label\"],\"data\":{\"chart_index\":[\"(3.4, 3.5]\"],\"color\":[\"#f22c40\"],\"fill_alpha\":[0.8],\"height\":[3.0],\"label\":[\"(3.4, 3.5]\"],\"line_alpha\":[1.0],\"line_color\":[\"black\"],\"width\":[0.18749339910030915],\"x\":[\"3.45\"],\"y\":[1.5]}},\"id\":\"1ba773a1-c37b-4261-bbfe-b3e9b7e0c94f\",\"type\":\"ColumnDataSource\"},{\"attributes\":{\"callback\":null,\"column_names\":[\"line_color\",\"line_alpha\",\"color\",\"fill_alpha\",\"height\",\"width\",\"y\",\"x\",\"label\"],\"data\":{\"chart_index\":[\"(1.7, 1.9]\"],\"color\":[\"#f22c40\"],\"fill_alpha\":[0.8],\"height\":[39.0],\"label\":[\"(1.7, 1.9]\"],\"line_alpha\":[1.0],\"line_color\":[\"black\"],\"width\":[0.18749339910030915],\"x\":[\"1.8\"],\"y\":[19.5]}},\"id\":\"0740e4d5-f566-4845-9290-500b5930129e\",\"type\":\"ColumnDataSource\"},{\"attributes\":{\"axis_label\":\"value\",\"formatter\":{\"id\":\"8ffaef41-1129-4ff1-b589-7918dc577d9a\",\"type\":\"BasicTickFormatter\"},\"plot\":{\"id\":\"7c6720fe-ad08-44c9-8db8-3204a5d9bce9\",\"subtype\":\"Chart\",\"type\":\"Plot\"},\"ticker\":{\"id\":\"1b8ecaed-c4d6-40d9-9360-c08ea70efbf7\",\"type\":\"BasicTicker\"}},\"id\":\"20c1642c-566c-4743-a06c-88d80e2d9221\",\"type\":\"LinearAxis\"},{\"attributes\":{\"fill_alpha\":{\"field\":\"fill_alpha\"},\"fill_color\":{\"field\":\"color\"},\"height\":{\"field\":\"height\",\"units\":\"data\"},\"line_color\":{\"field\":\"line_color\"},\"width\":{\"field\":\"width\",\"units\":\"data\"},\"x\":{\"field\":\"x\"},\"y\":{\"field\":\"y\"}},\"id\":\"9f68acea-553e-4181-9afc-cfb7c2ed72fb\",\"type\":\"Rect\"},{\"attributes\":{\"fill_alpha\":{\"field\":\"fill_alpha\"},\"fill_color\":{\"field\":\"color\"},\"height\":{\"field\":\"height\",\"units\":\"data\"},\"line_color\":{\"field\":\"line_color\"},\"width\":{\"field\":\"width\",\"units\":\"data\"},\"x\":{\"field\":\"x\"},\"y\":{\"field\":\"y\"}},\"id\":\"d62ffc67-6d20-473c-b3f2-f1f6b87bf6df\",\"type\":\"Rect\"},{\"attributes\":{\"bottom_units\":\"screen\",\"fill_alpha\":{\"value\":0.5},\"fill_color\":{\"value\":\"lightgrey\"},\"left_units\":\"screen\",\"level\":\"overlay\",\"line_alpha\":{\"value\":1.0},\"line_color\":{\"value\":\"black\"},\"line_dash\":[4,4],\"line_width\":{\"value\":2},\"plot\":null,\"render_mode\":\"css\",\"right_units\":\"screen\",\"top_units\":\"screen\"},\"id\":\"ccc32636-6311-4894-b999-3522872a1fee\",\"type\":\"BoxAnnotation\"},{\"attributes\":{\"data_source\":{\"id\":\"7e5e2362-2df6-4867-be78-c0cdd95dfa73\",\"type\":\"ColumnDataSource\"},\"glyph\":{\"id\":\"63481e4e-3bf5-4901-97a2-6ffa0ec1dff9\",\"type\":\"Rect\"},\"hover_glyph\":null,\"nonselection_glyph\":null,\"selection_glyph\":null},\"id\":\"c6c2293a-56bd-494a-9299-6e90002823c1\",\"type\":\"GlyphRenderer\"},{\"attributes\":{\"callback\":null,\"column_names\":[\"line_color\",\"line_alpha\",\"color\",\"fill_alpha\",\"height\",\"width\",\"y\",\"x\",\"label\"],\"data\":{\"chart_index\":[\"(3.0, 3.2]\"],\"color\":[\"#f22c40\"],\"fill_alpha\":[0.8],\"height\":[4.0],\"label\":[\"(3.0, 3.2]\"],\"line_alpha\":[1.0],\"line_color\":[\"black\"],\"width\":[0.18749339910030915],\"x\":[\"3.1\"],\"y\":[2.0]}},\"id\":\"9134b1e5-598e-4466-ac8d-e69d62aa3f21\",\"type\":\"ColumnDataSource\"},{\"attributes\":{\"fill_alpha\":{\"field\":\"fill_alpha\"},\"fill_color\":{\"field\":\"color\"},\"height\":{\"field\":\"height\",\"units\":\"data\"},\"line_color\":{\"field\":\"line_color\"},\"width\":{\"field\":\"width\",\"units\":\"data\"},\"x\":{\"field\":\"x\"},\"y\":{\"field\":\"y\"}},\"id\":\"0d22d577-3c8a-4c79-b26c-f6c7ab47712b\",\"type\":\"Rect\"},{\"attributes\":{\"plot\":null,\"text\":null},\"id\":\"b85924fc-8f06-4ba6-b320-96afd44086da\",\"type\":\"Title\"},{\"attributes\":{\"data_source\":{\"id\":\"af06ec50-2872-4ec9-9409-b24ee75e193d\",\"type\":\"ColumnDataSource\"},\"glyph\":{\"id\":\"c34eb59d-bcb9-419d-911a-67605903583c\",\"type\":\"Rect\"},\"hover_glyph\":null,\"nonselection_glyph\":null,\"selection_glyph\":null},\"id\":\"f350943c-59f9-481c-a417-959e13748807\",\"type\":\"GlyphRenderer\"},{\"attributes\":{\"callback\":null,\"column_names\":[\"line_color\",\"line_alpha\",\"color\",\"fill_alpha\",\"height\",\"width\",\"y\",\"x\",\"label\"],\"data\":{\"chart_index\":[\"(2.2, 2.4]\"],\"color\":[\"#f22c40\"],\"fill_alpha\":[0.8],\"height\":[12.0],\"label\":[\"(2.2, 2.4]\"],\"line_alpha\":[1.0],\"line_color\":[\"black\"],\"width\":[0.18749339910030827],\"x\":[\"2.3\"],\"y\":[6.0]}},\"id\":\"405d4d97-40d2-4a72-a7d8-6ff55a82e9cc\",\"type\":\"ColumnDataSource\"},{\"attributes\":{\"callback\":null,\"column_names\":[\"line_color\",\"line_alpha\",\"color\",\"fill_alpha\",\"height\",\"width\",\"y\",\"x\",\"label\"],\"data\":{\"chart_index\":[\"(-0.0, 0.2]\"],\"color\":[\"#f22c40\"],\"fill_alpha\":[0.8],\"height\":[143.0],\"label\":[\"(-0.0, 0.2]\"],\"line_alpha\":[1.0],\"line_color\":[\"black\"],\"width\":[0.18749339910030915],\"x\":[\"0.1\"],\"y\":[71.5]}},\"id\":\"40f564cf-02e8-48c8-9cbc-e210abfed137\",\"type\":\"ColumnDataSource\"},{\"attributes\":{\"callback\":null,\"column_names\":[\"line_color\",\"line_alpha\",\"color\",\"fill_alpha\",\"height\",\"width\",\"y\",\"x\",\"label\"],\"data\":{\"chart_index\":[\"(2.4, 2.6]\"],\"color\":[\"#f22c40\"],\"fill_alpha\":[0.8],\"height\":[15.0],\"label\":[\"(2.4, 2.6]\"],\"line_alpha\":[1.0],\"line_color\":[\"black\"],\"width\":[0.18749339910031004],\"x\":[\"2.5\"],\"y\":[7.5]}},\"id\":\"afad02fa-6081-460f-a553-8e49c7c6d650\",\"type\":\"ColumnDataSource\"},{\"attributes\":{\"callback\":null,\"column_names\":[\"line_color\",\"line_alpha\",\"color\",\"fill_alpha\",\"height\",\"width\",\"y\",\"x\",\"label\"],\"data\":{\"chart_index\":[\"(-0.2, -0.0]\"],\"color\":[\"#f22c40\"],\"fill_alpha\":[0.8],\"height\":[161.0],\"label\":[\"(-0.2, -0.0]\"],\"line_alpha\":[1.0],\"line_color\":[\"black\"],\"width\":[0.18749339910030915],\"x\":[\"-0.1\"],\"y\":[80.5]}},\"id\":\"af06ec50-2872-4ec9-9409-b24ee75e193d\",\"type\":\"ColumnDataSource\"},{\"attributes\":{\"fill_alpha\":{\"field\":\"fill_alpha\"},\"fill_color\":{\"field\":\"color\"},\"height\":{\"field\":\"height\",\"units\":\"data\"},\"line_color\":{\"field\":\"line_color\"},\"width\":{\"field\":\"width\",\"units\":\"data\"},\"x\":{\"field\":\"x\"},\"y\":{\"field\":\"y\"}},\"id\":\"95f1c327-5650-47f3-8727-f568fc072164\",\"type\":\"Rect\"},{\"attributes\":{\"plot\":{\"id\":\"7c6720fe-ad08-44c9-8db8-3204a5d9bce9\",\"subtype\":\"Chart\",\"type\":\"Plot\"}},\"id\":\"3cbbb333-4f90-4d4f-bbba-b59251d68306\",\"type\":\"SaveTool\"}],\"root_ids\":[\"7c6720fe-ad08-44c9-8db8-3204a5d9bce9\"]},\"title\":\"Bokeh Application\",\"version\":\"0.12.1\"}};\n",
       "            var render_items = [{\"docid\":\"54e72aed-d20f-49f1-ae23-c98431c8fc80\",\"elementid\":\"00700043-8198-4f4d-99cb-e22821156dbe\",\"modelid\":\"7c6720fe-ad08-44c9-8db8-3204a5d9bce9\",\"notebook_comms_target\":\"4354543d-20f4-4bfd-9594-cb227bb36f34\"}];\n",
       "            \n",
       "            Bokeh.embed.embed_items(docs_json, render_items);\n",
       "        });\n",
       "      },\n",
       "      function(Bokeh) {\n",
       "      }\n",
       "    ];\n",
       "  \n",
       "    function run_inline_js() {\n",
       "      for (var i = 0; i < inline_js.length; i++) {\n",
       "        inline_js[i](window.Bokeh);\n",
       "      }\n",
       "    }\n",
       "  \n",
       "    if (window._bokeh_is_loading === 0) {\n",
       "      console.log(\"Bokeh: BokehJS loaded, going straight to plotting\");\n",
       "      run_inline_js();\n",
       "    } else {\n",
       "      load_libs(js_urls, function() {\n",
       "        console.log(\"Bokeh: BokehJS plotting callback run at\", now());\n",
       "        run_inline_js();\n",
       "      });\n",
       "    }\n",
       "  }(this));\n",
       "</script>"
      ]
     },
     "metadata": {},
     "output_type": "display_data"
    },
    {
     "data": {
      "text/html": [
       "<p><code>&lt;Bokeh Notebook handle for <strong>In[13]</strong>&gt;</code></p>"
      ],
      "text/plain": [
       "<bokeh.io._CommsHandle at 0x1137c67d0>"
      ]
     },
     "execution_count": 13,
     "metadata": {},
     "output_type": "execute_result"
    }
   ],
   "source": [
    "hist = Histogram(df, values='value', bins=30)\n",
    "show(hist)"
   ]
  },
  {
   "cell_type": "markdown",
   "metadata": {},
   "source": [
    "It's also possible to generate multiple histograms at once by grouping the data. The column to group by is specified by the `color` parameter (and the histogram for each group is colored differently automatically). Let's try that as an exercise."
   ]
  },
  {
   "cell_type": "code",
   "execution_count": 15,
   "metadata": {
    "collapsed": false
   },
   "outputs": [],
   "source": [
    "# EXERCISE: generate histograms for each \"type\" of distribution, and add a legend to the top left.\n"
   ]
  },
  {
   "cell_type": "markdown",
   "metadata": {},
   "source": [
    "# Box Plot\n",
    "\n",
    "A high-level box plot is provided by [`bokeh.charts.BoxPlot`]()\n",
    "\n",
    "For this section we will use the \"iris\" data set again. "
   ]
  },
  {
   "cell_type": "code",
   "execution_count": 14,
   "metadata": {
    "collapsed": true
   },
   "outputs": [],
   "source": [
    "from bokeh.charts import BoxPlot"
   ]
  },
  {
   "cell_type": "markdown",
   "metadata": {},
   "source": [
    "A basic box plot takes the data as the first value, as well as column names for:\n",
    "\n",
    "* `label` - a column to group to label the x-axis\n",
    "* `values` - a column to aggregate values for each group\n",
    "\n",
    "A simple example that also specifies some other properties such as `title` and `legend` is shown below:"
   ]
  },
  {
   "cell_type": "code",
   "execution_count": 15,
   "metadata": {
    "collapsed": false
   },
   "outputs": [
    {
     "data": {
      "text/html": [
       "\n",
       "\n",
       "    <div class=\"bk-root\">\n",
       "        <div class=\"plotdiv\" id=\"90f53963-74e8-40f9-b903-4a4e9be767cc\"></div>\n",
       "    </div>\n",
       "<script type=\"text/javascript\">\n",
       "  \n",
       "  (function(global) {\n",
       "    function now() {\n",
       "      return new Date();\n",
       "    }\n",
       "  \n",
       "    var force = \"\";\n",
       "  \n",
       "    if (typeof (window._bokeh_onload_callbacks) === \"undefined\" || force !== \"\") {\n",
       "      window._bokeh_onload_callbacks = [];\n",
       "      window._bokeh_is_loading = undefined;\n",
       "    }\n",
       "  \n",
       "    function run_callbacks() {\n",
       "      window._bokeh_onload_callbacks.forEach(function(callback) { callback() });\n",
       "      delete window._bokeh_onload_callbacks\n",
       "      console.info(\"Bokeh: all callbacks have finished\");\n",
       "    }\n",
       "  \n",
       "    function load_libs(js_urls, callback) {\n",
       "      window._bokeh_onload_callbacks.push(callback);\n",
       "      if (window._bokeh_is_loading > 0) {\n",
       "        console.log(\"Bokeh: BokehJS is being loaded, scheduling callback at\", now());\n",
       "        return null;\n",
       "      }\n",
       "      if (js_urls == null || js_urls.length === 0) {\n",
       "        run_callbacks();\n",
       "        return null;\n",
       "      }\n",
       "      console.log(\"Bokeh: BokehJS not loaded, scheduling load and callback at\", now());\n",
       "      window._bokeh_is_loading = js_urls.length;\n",
       "      for (var i = 0; i < js_urls.length; i++) {\n",
       "        var url = js_urls[i];\n",
       "        var s = document.createElement('script');\n",
       "        s.src = url;\n",
       "        s.async = false;\n",
       "        s.onreadystatechange = s.onload = function() {\n",
       "          window._bokeh_is_loading--;\n",
       "          if (window._bokeh_is_loading === 0) {\n",
       "            console.log(\"Bokeh: all BokehJS libraries loaded\");\n",
       "            run_callbacks()\n",
       "          }\n",
       "        };\n",
       "        s.onerror = function() {\n",
       "          console.warn(\"failed to load library \" + url);\n",
       "        };\n",
       "        console.log(\"Bokeh: injecting script tag for BokehJS library: \", url);\n",
       "        document.getElementsByTagName(\"head\")[0].appendChild(s);\n",
       "      }\n",
       "    };var element = document.getElementById(\"90f53963-74e8-40f9-b903-4a4e9be767cc\");\n",
       "    if (element == null) {\n",
       "      console.log(\"Bokeh: ERROR: autoload.js configured with elementid '90f53963-74e8-40f9-b903-4a4e9be767cc' but no matching script tag was found. \")\n",
       "      return false;\n",
       "    }\n",
       "  \n",
       "    var js_urls = [];\n",
       "  \n",
       "    var inline_js = [\n",
       "      function(Bokeh) {\n",
       "        Bokeh.$(function() {\n",
       "            var docs_json = {\"21d3b4e4-aba6-4319-b760-1076ab39050f\":{\"roots\":{\"references\":[{\"attributes\":{\"fill_alpha\":{\"field\":\"fill_alpha\"},\"fill_color\":{\"field\":\"color\"},\"height\":{\"field\":\"height\",\"units\":\"data\"},\"line_color\":{\"field\":\"line_color\"},\"width\":{\"field\":\"width\",\"units\":\"data\"},\"x\":{\"field\":\"x\"},\"y\":{\"field\":\"y\"}},\"id\":\"a4e92cf2-870d-4af4-9666-749ecf960438\",\"type\":\"Rect\"},{\"attributes\":{\"data_source\":{\"id\":\"932fa542-92d4-4755-a147-38567befd70a\",\"type\":\"ColumnDataSource\"},\"glyph\":{\"id\":\"60554486-c70d-4d82-8c38-be8ed59a0b43\",\"type\":\"Segment\"},\"hover_glyph\":null,\"nonselection_glyph\":null,\"selection_glyph\":null},\"id\":\"0d8a663a-cd1d-4fff-a586-49dc3352b00d\",\"type\":\"GlyphRenderer\"},{\"attributes\":{},\"id\":\"46f23bf0-a9f7-41bc-b976-8c4c9bbc1a24\",\"type\":\"CategoricalTicker\"},{\"attributes\":{\"fill_alpha\":{\"field\":\"fill_alpha\"},\"fill_color\":{\"field\":\"color\"},\"height\":{\"field\":\"height\",\"units\":\"data\"},\"line_color\":{\"field\":\"line_color\"},\"width\":{\"field\":\"width\",\"units\":\"data\"},\"x\":{\"field\":\"x\"},\"y\":{\"field\":\"y\"}},\"id\":\"8079ffaf-1549-477b-ac45-f6c5a75971ea\",\"type\":\"Rect\"},{\"attributes\":{\"fill_alpha\":{\"field\":\"fill_alpha\"},\"fill_color\":{\"field\":\"color\"},\"height\":{\"field\":\"height\",\"units\":\"data\"},\"line_color\":{\"field\":\"line_color\"},\"width\":{\"field\":\"width\",\"units\":\"data\"},\"x\":{\"field\":\"x\"},\"y\":{\"field\":\"y\"}},\"id\":\"28b24362-b32e-4810-903e-46283b3389b3\",\"type\":\"Rect\"},{\"attributes\":{\"callback\":null,\"column_names\":[\"line_color\",\"line_alpha\",\"color\",\"fill_alpha\",\"height\",\"width\",\"y\",\"x\",\"label\"],\"data\":{\"chart_index\":[{\"species\":\"setosa\"}],\"color\":[\"#aa4444\"],\"fill_alpha\":[0.8],\"height\":[0.0],\"label\":[{\"species\":\"setosa\"}],\"line_alpha\":[1.0],\"line_color\":[\"black\"],\"species\":[\"setosa\"],\"width\":[0.8],\"x\":[\"setosa\"],\"y\":[0.2]}},\"id\":\"fe45840d-0410-4ff0-b1c2-a8b11f56f202\",\"type\":\"ColumnDataSource\"},{\"attributes\":{\"line_width\":{\"value\":2},\"x0\":{\"field\":\"x0s\"},\"x1\":{\"field\":\"x1s\"},\"y0\":{\"field\":\"y0s\"},\"y1\":{\"field\":\"y1s\"}},\"id\":\"60554486-c70d-4d82-8c38-be8ed59a0b43\",\"type\":\"Segment\"},{\"attributes\":{\"plot\":null,\"text\":\"Distributions of petal widths\"},\"id\":\"de4ba925-a2c5-45ec-9f1d-ebd79ee999cf\",\"type\":\"Title\"},{\"attributes\":{\"callback\":null,\"column_names\":[\"x0s\",\"y0s\",\"x1s\",\"y1s\"],\"data\":{\"chart_index\":[{\"species\":\"setosa\"},{\"species\":\"setosa\"},{\"species\":\"setosa\"},{\"species\":\"setosa\"}],\"species\":[\"setosa\",\"setosa\",\"setosa\",\"setosa\"],\"x0s\":[\"setosa:0.5\",\"setosa:0.65\",\"setosa:0.5\",\"setosa:0.65\"],\"x1s\":[\"setosa:0.5\",\"setosa:0.35\",\"setosa:0.5\",\"setosa:0.35\"],\"y0s\":[0.1,0.1,0.3,0.44999999999999996],\"y1s\":[0.2,0.1,0.44999999999999996,0.44999999999999996]}},\"id\":\"8f88e55b-c11f-4fa7-a8a4-02a778de915b\",\"type\":\"ColumnDataSource\"},{\"attributes\":{\"fill_alpha\":{\"field\":\"fill_alpha\"},\"fill_color\":{\"field\":\"color\"},\"height\":{\"field\":\"height\",\"units\":\"data\"},\"line_color\":{\"field\":\"line_color\"},\"width\":{\"field\":\"width\",\"units\":\"data\"},\"x\":{\"field\":\"x\"},\"y\":{\"field\":\"y\"}},\"id\":\"a13d6e58-3304-49d9-a2fd-95669b74981c\",\"type\":\"Rect\"},{\"attributes\":{\"callback\":null,\"column_names\":[\"line_color\",\"line_alpha\",\"color\",\"fill_alpha\",\"height\",\"width\",\"y\",\"x\",\"label\"],\"data\":{\"chart_index\":[{\"species\":\"virginica\"}],\"color\":[\"#aa4444\"],\"fill_alpha\":[0.8],\"height\":[0.19999999999999996],\"label\":[{\"species\":\"virginica\"}],\"line_alpha\":[1.0],\"line_color\":[\"black\"],\"species\":[\"virginica\"],\"width\":[0.8],\"x\":[\"virginica\"],\"y\":[1.9]}},\"id\":\"fa1b0eb5-1499-4a62-8003-ca62334549f3\",\"type\":\"ColumnDataSource\"},{\"attributes\":{\"callback\":null,\"column_names\":[\"x0s\",\"y0s\",\"x1s\",\"y1s\"],\"data\":{\"chart_index\":[{\"species\":\"virginica\"},{\"species\":\"virginica\"},{\"species\":\"virginica\"},{\"species\":\"virginica\"}],\"species\":[\"virginica\",\"virginica\",\"virginica\",\"virginica\"],\"x0s\":[\"virginica:0.5\",\"virginica:0.65\",\"virginica:0.5\",\"virginica:0.65\"],\"x1s\":[\"virginica:0.5\",\"virginica:0.35\",\"virginica:0.5\",\"virginica:0.35\"],\"y0s\":[1.4,1.4,2.3,2.5],\"y1s\":[1.8,1.4,2.5,2.5]}},\"id\":\"932fa542-92d4-4755-a147-38567befd70a\",\"type\":\"ColumnDataSource\"},{\"attributes\":{},\"id\":\"c99fef4a-6c5c-4fdc-a88e-c6b2c81a698f\",\"type\":\"BasicTicker\"},{\"attributes\":{\"data_source\":{\"id\":\"2a659dc9-c96c-4e83-9787-ae8397943d9a\",\"type\":\"ColumnDataSource\"},\"glyph\":{\"id\":\"a13d6e58-3304-49d9-a2fd-95669b74981c\",\"type\":\"Rect\"},\"hover_glyph\":null,\"nonselection_glyph\":null,\"selection_glyph\":null},\"id\":\"5d77e757-f7ff-45ee-bb69-65ded8b8b735\",\"type\":\"GlyphRenderer\"},{\"attributes\":{\"fill_alpha\":{\"field\":\"fill_alpha\"},\"fill_color\":{\"field\":\"color\"},\"height\":{\"field\":\"height\",\"units\":\"data\"},\"line_color\":{\"field\":\"line_color\"},\"width\":{\"field\":\"width\",\"units\":\"data\"},\"x\":{\"field\":\"x\"},\"y\":{\"field\":\"y\"}},\"id\":\"477c95ba-c454-4896-b11a-460f91ef14bd\",\"type\":\"Rect\"},{\"attributes\":{\"data_source\":{\"id\":\"8f88e55b-c11f-4fa7-a8a4-02a778de915b\",\"type\":\"ColumnDataSource\"},\"glyph\":{\"id\":\"49a1ccd3-04d4-47f0-bd06-78ec45193a57\",\"type\":\"Segment\"},\"hover_glyph\":null,\"nonselection_glyph\":null,\"selection_glyph\":null},\"id\":\"6ee92574-3501-4816-98e7-d0ba5f10037d\",\"type\":\"GlyphRenderer\"},{\"attributes\":{\"axis_label\":\"petal width, mm\",\"formatter\":{\"id\":\"86b6ce2f-f772-4418-961b-aeff87c676d2\",\"type\":\"BasicTickFormatter\"},\"plot\":{\"id\":\"44e72cb7-2710-495f-be1f-ce25cee736b6\",\"subtype\":\"Chart\",\"type\":\"Plot\"},\"ticker\":{\"id\":\"c99fef4a-6c5c-4fdc-a88e-c6b2c81a698f\",\"type\":\"BasicTicker\"}},\"id\":\"96af13e9-bc3e-4832-866d-1b0f7fefd36c\",\"type\":\"LinearAxis\"},{\"attributes\":{},\"id\":\"beee2475-2b05-4814-87c9-fa63bd8c62cb\",\"type\":\"ToolEvents\"},{\"attributes\":{\"active_drag\":\"auto\",\"active_scroll\":\"auto\",\"active_tap\":\"auto\",\"tools\":[{\"id\":\"a801383c-a5b6-4ccb-91d5-659a039fd5de\",\"type\":\"CrosshairTool\"}]},\"id\":\"8c7c4bb7-f413-4af0-bb4a-f6bc52780fee\",\"type\":\"Toolbar\"},{\"attributes\":{\"data_source\":{\"id\":\"c22a8f30-24ff-4167-bc70-30dedc4c17e3\",\"type\":\"ColumnDataSource\"},\"glyph\":{\"id\":\"28b24362-b32e-4810-903e-46283b3389b3\",\"type\":\"Rect\"},\"hover_glyph\":null,\"nonselection_glyph\":null,\"selection_glyph\":null},\"id\":\"82188aac-a385-4722-9e9f-08a1e8c73562\",\"type\":\"GlyphRenderer\"},{\"attributes\":{\"data_source\":{\"id\":\"fa1b0eb5-1499-4a62-8003-ca62334549f3\",\"type\":\"ColumnDataSource\"},\"glyph\":{\"id\":\"477c95ba-c454-4896-b11a-460f91ef14bd\",\"type\":\"Rect\"},\"hover_glyph\":null,\"nonselection_glyph\":null,\"selection_glyph\":null},\"id\":\"f5bf71ca-75b8-4eca-bc45-9c6504a533f2\",\"type\":\"GlyphRenderer\"},{\"attributes\":{\"callback\":null,\"column_names\":[\"line_color\",\"line_alpha\",\"color\",\"fill_alpha\",\"height\",\"width\",\"y\",\"x\",\"label\"],\"data\":{\"chart_index\":[{\"species\":\"versicolor\"}],\"color\":[\"#aa4444\"],\"fill_alpha\":[0.8],\"height\":[0.19999999999999996],\"label\":[{\"species\":\"versicolor\"}],\"line_alpha\":[1.0],\"line_color\":[\"black\"],\"species\":[\"versicolor\"],\"width\":[0.8],\"x\":[\"versicolor\"],\"y\":[1.4]}},\"id\":\"c22a8f30-24ff-4167-bc70-30dedc4c17e3\",\"type\":\"ColumnDataSource\"},{\"attributes\":{\"data_source\":{\"id\":\"5fab3fa1-eab2-473e-8eb8-3e588fe666fd\",\"type\":\"ColumnDataSource\"},\"glyph\":{\"id\":\"22d68211-50de-4695-ad0f-434593b4f7f1\",\"type\":\"Rect\"},\"hover_glyph\":null,\"nonselection_glyph\":null,\"selection_glyph\":null},\"id\":\"25ce3f8a-aca5-4592-b1e3-71ff2cc4d6e4\",\"type\":\"GlyphRenderer\"},{\"attributes\":{\"callback\":null,\"factors\":[\"setosa\",\"versicolor\",\"virginica\"]},\"id\":\"7953b6e5-3d06-44fe-b711-125a94220b47\",\"type\":\"FactorRange\"},{\"attributes\":{\"callback\":null,\"column_names\":[\"line_color\",\"line_alpha\",\"color\",\"fill_alpha\",\"height\",\"width\",\"y\",\"x\",\"label\"],\"data\":{\"chart_index\":[{\"species\":\"virginica\"}],\"color\":[\"#aa4444\"],\"fill_alpha\":[0.8],\"height\":[0.2999999999999998],\"label\":[{\"species\":\"virginica\"}],\"line_alpha\":[1.0],\"line_color\":[\"black\"],\"species\":[\"virginica\"],\"width\":[0.8],\"x\":[\"virginica\"],\"y\":[2.15]}},\"id\":\"2a659dc9-c96c-4e83-9787-ae8397943d9a\",\"type\":\"ColumnDataSource\"},{\"attributes\":{\"callback\":null,\"column_names\":[\"line_color\",\"line_alpha\",\"color\",\"fill_alpha\",\"height\",\"width\",\"y\",\"x\",\"label\"],\"data\":{\"chart_index\":[{\"species\":\"setosa\"}],\"color\":[\"#aa4444\"],\"fill_alpha\":[0.8],\"height\":[0.09999999999999998],\"label\":[{\"species\":\"setosa\"}],\"line_alpha\":[1.0],\"line_color\":[\"black\"],\"species\":[\"setosa\"],\"width\":[0.8],\"x\":[\"setosa\"],\"y\":[0.25]}},\"id\":\"5fab3fa1-eab2-473e-8eb8-3e588fe666fd\",\"type\":\"ColumnDataSource\"},{\"attributes\":{\"data_source\":{\"id\":\"dff71c8d-103e-45df-bd5e-9926bbe54a9a\",\"type\":\"ColumnDataSource\"},\"glyph\":{\"id\":\"a4e92cf2-870d-4af4-9666-749ecf960438\",\"type\":\"Rect\"},\"hover_glyph\":null,\"nonselection_glyph\":null,\"selection_glyph\":null},\"id\":\"cccd0044-9d8c-4d05-955a-f912b1fa678e\",\"type\":\"GlyphRenderer\"},{\"attributes\":{\"data_source\":{\"id\":\"3d38ba73-b0d5-4989-ac50-adc17b7c1265\",\"type\":\"ColumnDataSource\"},\"glyph\":{\"id\":\"0a7c8bd1-2c52-4f85-88af-30105861a4c1\",\"type\":\"Circle\"},\"hover_glyph\":null,\"nonselection_glyph\":null,\"selection_glyph\":null},\"id\":\"56ca0db2-e0d0-4d03-81b0-0467bf3f2c29\",\"type\":\"GlyphRenderer\"},{\"attributes\":{\"line_width\":{\"value\":2},\"x0\":{\"field\":\"x0s\"},\"x1\":{\"field\":\"x1s\"},\"y0\":{\"field\":\"y0s\"},\"y1\":{\"field\":\"y1s\"}},\"id\":\"4e2ab6e7-241f-4e9e-b210-dbbb3aae8b27\",\"type\":\"Segment\"},{\"attributes\":{\"callback\":null,\"column_names\":[\"x0s\",\"y0s\",\"x1s\",\"y1s\"],\"data\":{\"chart_index\":[{\"species\":\"versicolor\"},{\"species\":\"versicolor\"},{\"species\":\"versicolor\"},{\"species\":\"versicolor\"}],\"species\":[\"versicolor\",\"versicolor\",\"versicolor\",\"versicolor\"],\"x0s\":[\"versicolor:0.5\",\"versicolor:0.65\",\"versicolor:0.5\",\"versicolor:0.65\"],\"x1s\":[\"versicolor:0.5\",\"versicolor:0.35\",\"versicolor:0.5\",\"versicolor:0.35\"],\"y0s\":[1.0,1.0,1.5,1.8],\"y1s\":[1.2,1.0,1.8,1.8]}},\"id\":\"df3c4c52-7a09-465a-abf6-f4093c486a07\",\"type\":\"ColumnDataSource\"},{\"attributes\":{},\"id\":\"86b6ce2f-f772-4418-961b-aeff87c676d2\",\"type\":\"BasicTickFormatter\"},{\"attributes\":{\"dimension\":1,\"plot\":{\"id\":\"44e72cb7-2710-495f-be1f-ce25cee736b6\",\"subtype\":\"Chart\",\"type\":\"Plot\"},\"ticker\":{\"id\":\"c99fef4a-6c5c-4fdc-a88e-c6b2c81a698f\",\"type\":\"BasicTicker\"}},\"id\":\"0e003177-4fea-4b48-acd3-d006b1032c78\",\"type\":\"Grid\"},{\"attributes\":{\"formatter\":{\"id\":\"b3c0add0-c44b-4ca3-8579-fee4b7ffcebc\",\"type\":\"CategoricalTickFormatter\"},\"major_label_orientation\":0.7853981633974483,\"plot\":{\"id\":\"44e72cb7-2710-495f-be1f-ce25cee736b6\",\"subtype\":\"Chart\",\"type\":\"Plot\"},\"ticker\":{\"id\":\"46f23bf0-a9f7-41bc-b976-8c4c9bbc1a24\",\"type\":\"CategoricalTicker\"}},\"id\":\"aa33a687-1933-47ae-9472-5693627e002d\",\"type\":\"CategoricalAxis\"},{\"attributes\":{\"callback\":null,\"end\":2.63},\"id\":\"55ead874-1261-4073-b797-4686954c5935\",\"type\":\"Range1d\"},{\"attributes\":{\"callback\":null,\"column_names\":[\"line_color\",\"line_alpha\",\"color\",\"fill_alpha\",\"height\",\"width\",\"y\",\"x\",\"label\"],\"data\":{\"chart_index\":[{\"species\":\"versicolor\"}],\"color\":[\"#aa4444\"],\"fill_alpha\":[0.8],\"height\":[0.10000000000000009],\"label\":[{\"species\":\"versicolor\"}],\"line_alpha\":[1.0],\"line_color\":[\"black\"],\"species\":[\"versicolor\"],\"width\":[0.8],\"x\":[\"versicolor\"],\"y\":[1.25]}},\"id\":\"dff71c8d-103e-45df-bd5e-9926bbe54a9a\",\"type\":\"ColumnDataSource\"},{\"attributes\":{\"fill_alpha\":{\"field\":\"fill_alpha\"},\"fill_color\":{\"field\":\"color\"},\"height\":{\"field\":\"height\",\"units\":\"data\"},\"line_color\":{\"field\":\"line_color\"},\"width\":{\"field\":\"width\",\"units\":\"data\"},\"x\":{\"field\":\"x\"},\"y\":{\"field\":\"y\"}},\"id\":\"22d68211-50de-4695-ad0f-434593b4f7f1\",\"type\":\"Rect\"},{\"attributes\":{\"data_source\":{\"id\":\"fe45840d-0410-4ff0-b1c2-a8b11f56f202\",\"type\":\"ColumnDataSource\"},\"glyph\":{\"id\":\"8079ffaf-1549-477b-ac45-f6c5a75971ea\",\"type\":\"Rect\"},\"hover_glyph\":null,\"nonselection_glyph\":null,\"selection_glyph\":null},\"id\":\"6cb57644-67f7-4d9e-995f-65b5e1b27576\",\"type\":\"GlyphRenderer\"},{\"attributes\":{\"plot\":{\"id\":\"44e72cb7-2710-495f-be1f-ce25cee736b6\",\"subtype\":\"Chart\",\"type\":\"Plot\"}},\"id\":\"a801383c-a5b6-4ccb-91d5-659a039fd5de\",\"type\":\"CrosshairTool\"},{\"attributes\":{\"line_width\":{\"value\":2},\"x0\":{\"field\":\"x0s\"},\"x1\":{\"field\":\"x1s\"},\"y0\":{\"field\":\"y0s\"},\"y1\":{\"field\":\"y1s\"}},\"id\":\"49a1ccd3-04d4-47f0-bd06-78ec45193a57\",\"type\":\"Segment\"},{\"attributes\":{\"below\":[{\"id\":\"aa33a687-1933-47ae-9472-5693627e002d\",\"type\":\"CategoricalAxis\"}],\"left\":[{\"id\":\"96af13e9-bc3e-4832-866d-1b0f7fefd36c\",\"type\":\"LinearAxis\"}],\"renderers\":[{\"id\":\"6cb57644-67f7-4d9e-995f-65b5e1b27576\",\"type\":\"GlyphRenderer\"},{\"id\":\"25ce3f8a-aca5-4592-b1e3-71ff2cc4d6e4\",\"type\":\"GlyphRenderer\"},{\"id\":\"56ca0db2-e0d0-4d03-81b0-0467bf3f2c29\",\"type\":\"GlyphRenderer\"},{\"id\":\"6ee92574-3501-4816-98e7-d0ba5f10037d\",\"type\":\"GlyphRenderer\"},{\"id\":\"cccd0044-9d8c-4d05-955a-f912b1fa678e\",\"type\":\"GlyphRenderer\"},{\"id\":\"82188aac-a385-4722-9e9f-08a1e8c73562\",\"type\":\"GlyphRenderer\"},{\"id\":\"1f437af0-872e-4452-a054-63d6ef8f3671\",\"type\":\"GlyphRenderer\"},{\"id\":\"f5bf71ca-75b8-4eca-bc45-9c6504a533f2\",\"type\":\"GlyphRenderer\"},{\"id\":\"5d77e757-f7ff-45ee-bb69-65ded8b8b735\",\"type\":\"GlyphRenderer\"},{\"id\":\"0d8a663a-cd1d-4fff-a586-49dc3352b00d\",\"type\":\"GlyphRenderer\"},{\"id\":\"b5656516-8065-4173-8641-3aac4cd8add7\",\"type\":\"Legend\"},{\"id\":\"aa33a687-1933-47ae-9472-5693627e002d\",\"type\":\"CategoricalAxis\"},{\"id\":\"96af13e9-bc3e-4832-866d-1b0f7fefd36c\",\"type\":\"LinearAxis\"},{\"id\":\"0e003177-4fea-4b48-acd3-d006b1032c78\",\"type\":\"Grid\"}],\"title\":{\"id\":\"de4ba925-a2c5-45ec-9f1d-ebd79ee999cf\",\"type\":\"Title\"},\"tool_events\":{\"id\":\"beee2475-2b05-4814-87c9-fa63bd8c62cb\",\"type\":\"ToolEvents\"},\"toolbar\":{\"id\":\"8c7c4bb7-f413-4af0-bb4a-f6bc52780fee\",\"type\":\"Toolbar\"},\"x_mapper_type\":\"auto\",\"x_range\":{\"id\":\"7953b6e5-3d06-44fe-b711-125a94220b47\",\"type\":\"FactorRange\"},\"y_mapper_type\":\"auto\",\"y_range\":{\"id\":\"55ead874-1261-4073-b797-4686954c5935\",\"type\":\"Range1d\"}},\"id\":\"44e72cb7-2710-495f-be1f-ce25cee736b6\",\"subtype\":\"Chart\",\"type\":\"Plot\"},{\"attributes\":{\"legends\":[[\"setosa\",[{\"id\":\"6cb57644-67f7-4d9e-995f-65b5e1b27576\",\"type\":\"GlyphRenderer\"},{\"id\":\"25ce3f8a-aca5-4592-b1e3-71ff2cc4d6e4\",\"type\":\"GlyphRenderer\"},{\"id\":\"56ca0db2-e0d0-4d03-81b0-0467bf3f2c29\",\"type\":\"GlyphRenderer\"},{\"id\":\"6ee92574-3501-4816-98e7-d0ba5f10037d\",\"type\":\"GlyphRenderer\"}]],[\"versicolor\",[{\"id\":\"cccd0044-9d8c-4d05-955a-f912b1fa678e\",\"type\":\"GlyphRenderer\"},{\"id\":\"82188aac-a385-4722-9e9f-08a1e8c73562\",\"type\":\"GlyphRenderer\"},{\"id\":\"1f437af0-872e-4452-a054-63d6ef8f3671\",\"type\":\"GlyphRenderer\"}]],[\"virginica\",[{\"id\":\"f5bf71ca-75b8-4eca-bc45-9c6504a533f2\",\"type\":\"GlyphRenderer\"},{\"id\":\"5d77e757-f7ff-45ee-bb69-65ded8b8b735\",\"type\":\"GlyphRenderer\"},{\"id\":\"0d8a663a-cd1d-4fff-a586-49dc3352b00d\",\"type\":\"GlyphRenderer\"}]]],\"location\":\"top_left\",\"plot\":{\"id\":\"44e72cb7-2710-495f-be1f-ce25cee736b6\",\"subtype\":\"Chart\",\"type\":\"Plot\"}},\"id\":\"b5656516-8065-4173-8641-3aac4cd8add7\",\"type\":\"Legend\"},{\"attributes\":{},\"id\":\"b3c0add0-c44b-4ca3-8579-fee4b7ffcebc\",\"type\":\"CategoricalTickFormatter\"},{\"attributes\":{\"callback\":null,\"column_names\":[\"x_values\",\"y_values\"],\"data\":{\"chart_index\":[{\"species\":\"setosa\"},{\"species\":\"setosa\"}],\"species\":[\"setosa\",\"setosa\"],\"x_values\":[\"setosa:0.5\",\"setosa:0.5\"],\"y_values\":[0.5,0.6]}},\"id\":\"3d38ba73-b0d5-4989-ac50-adc17b7c1265\",\"type\":\"ColumnDataSource\"},{\"attributes\":{\"data_source\":{\"id\":\"df3c4c52-7a09-465a-abf6-f4093c486a07\",\"type\":\"ColumnDataSource\"},\"glyph\":{\"id\":\"4e2ab6e7-241f-4e9e-b210-dbbb3aae8b27\",\"type\":\"Segment\"},\"hover_glyph\":null,\"nonselection_glyph\":null,\"selection_glyph\":null},\"id\":\"1f437af0-872e-4452-a054-63d6ef8f3671\",\"type\":\"GlyphRenderer\"},{\"attributes\":{\"fill_alpha\":{\"value\":0.7},\"fill_color\":{\"value\":\"red\"},\"line_color\":{\"value\":\"red\"},\"size\":{\"units\":\"screen\",\"value\":5},\"x\":{\"field\":\"x_values\"},\"y\":{\"field\":\"y_values\"}},\"id\":\"0a7c8bd1-2c52-4f85-88af-30105861a4c1\",\"type\":\"Circle\"}],\"root_ids\":[\"44e72cb7-2710-495f-be1f-ce25cee736b6\"]},\"title\":\"Bokeh Application\",\"version\":\"0.12.1\"}};\n",
       "            var render_items = [{\"docid\":\"21d3b4e4-aba6-4319-b760-1076ab39050f\",\"elementid\":\"90f53963-74e8-40f9-b903-4a4e9be767cc\",\"modelid\":\"44e72cb7-2710-495f-be1f-ce25cee736b6\",\"notebook_comms_target\":\"422f9de5-3355-4b61-8937-75ed3d2f909b\"}];\n",
       "            \n",
       "            Bokeh.embed.embed_items(docs_json, render_items);\n",
       "        });\n",
       "      },\n",
       "      function(Bokeh) {\n",
       "      }\n",
       "    ];\n",
       "  \n",
       "    function run_inline_js() {\n",
       "      for (var i = 0; i < inline_js.length; i++) {\n",
       "        inline_js[i](window.Bokeh);\n",
       "      }\n",
       "    }\n",
       "  \n",
       "    if (window._bokeh_is_loading === 0) {\n",
       "      console.log(\"Bokeh: BokehJS loaded, going straight to plotting\");\n",
       "      run_inline_js();\n",
       "    } else {\n",
       "      load_libs(js_urls, function() {\n",
       "        console.log(\"Bokeh: BokehJS plotting callback run at\", now());\n",
       "        run_inline_js();\n",
       "      });\n",
       "    }\n",
       "  }(this));\n",
       "</script>"
      ]
     },
     "metadata": {},
     "output_type": "display_data"
    },
    {
     "data": {
      "text/html": [
       "<p><code>&lt;Bokeh Notebook handle for <strong>In[15]</strong>&gt;</code></p>"
      ],
      "text/plain": [
       "<bokeh.io._CommsHandle at 0x113937c10>"
      ]
     },
     "execution_count": 15,
     "metadata": {},
     "output_type": "execute_result"
    }
   ],
   "source": [
    "p = BoxPlot(flowers, label='species', values='petal_width', tools='crosshair', color='#aa4444',\n",
    "            xlabel='', ylabel='petal width, mm', title='Distributions of petal widths')\n",
    "show(p)"
   ]
  },
  {
   "cell_type": "markdown",
   "metadata": {},
   "source": [
    "Instead of a single color, the box and whiskers groups can be colored by grouping one of the columns. This is done by passing a column name as the `color` parameter. Let's try that as an exercise."
   ]
  },
  {
   "cell_type": "code",
   "execution_count": 18,
   "metadata": {
    "collapsed": false
   },
   "outputs": [],
   "source": [
    "# EXERCISE: color the boxes by \"species\" and add a legend to the top left\n"
   ]
  },
  {
   "cell_type": "markdown",
   "metadata": {},
   "source": [
    "---\n",
    "\n",
    "# Further reading\n",
    "\n"
   ]
  },
  {
   "cell_type": "markdown",
   "metadata": {
    "collapsed": true
   },
   "source": [
    "http://nbviewer.jupyter.org/github/bokeh/bokeh/tree/0.11.1/examples/charts/file/\n",
    "\n",
    "http://nbviewer.jupyter.org/github/bokeh/bokeh/tree/0.11.1/examples/howto/charts/\n",
    "\n",
    "http://nbviewer.jupyter.org/github/bokeh/bokeh-demos/blob/master/presentations/2016-03-pydata-strata/notebooks/Charts.ipynb\n",
    "\n",
    "http://nbviewer.jupyter.org/github/bokeh/bokeh-demos/blob/master/presentations/2016-03-pydata-strata/notebooks/Charts%20Demo.ipynb"
   ]
  },
  {
   "cell_type": "code",
   "execution_count": null,
   "metadata": {
    "collapsed": true
   },
   "outputs": [],
   "source": []
  }
 ],
 "metadata": {
  "anaconda-cloud": {},
  "kernelspec": {
   "display_name": "Python 2",
   "language": "python",
   "name": "python2"
  },
  "language_info": {
   "codemirror_mode": {
    "name": "ipython",
    "version": 2
   },
   "file_extension": ".py",
   "mimetype": "text/x-python",
   "name": "python",
   "nbconvert_exporter": "python",
   "pygments_lexer": "ipython2",
   "version": "2.7.12"
  }
 },
 "nbformat": 4,
 "nbformat_minor": 0
}
