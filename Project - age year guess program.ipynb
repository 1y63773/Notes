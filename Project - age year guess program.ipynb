{
 "cells": [
  {
   "cell_type": "code",
   "execution_count": 2,
   "metadata": {
    "collapsed": false
   },
   "outputs": [
    {
     "name": "stdout",
     "output_type": "stream",
     "text": [
      "The required password length is: 12\n",
      "The required number of upper case letters is: 2\n",
      "The required number of symbols is: 3\n",
      "The required number of numbers is: 3\n",
      "Your generated password is: T1I&%8g%9lif\n"
     ]
    }
   ],
   "source": [
    "import random\n",
    "\n",
    "#setup required variables \n",
    "\n",
    "lower_letters = \"abcdefghijklmnopqrstuvwxyz\"\n",
    "upper_letters = \"ABCDEFGHIJKLMNOPQRSTUVWXYZ\"\n",
    "symbols = \"!@_$%^&\"\n",
    "\n",
    "pass_len = int(raw_input(\"The required password length is: \"))\n",
    "upper_len = int(raw_input(\"The required number of upper case letters is: \"))\n",
    "symb_len = int(raw_input(\"The required number of symbols is: \"))\n",
    "num_len = int(raw_input(\"The required number of numbers is: \"))\n",
    "\n",
    "num_lower = pass_len - upper_len - symb_len - num_len\n",
    "\n",
    "pw_list = []\n",
    "\n",
    "if num_lower < 0:\n",
    "\tprint(\"Sorry, the numbers you entered don't match up! Please try again ...\")\n",
    "\texit()\n",
    "\t\n",
    "\t\n",
    "#insert lowercase letters\n",
    "i = 0\n",
    "\n",
    "while i < num_lower:\n",
    "\tpw_list.append(str(''.join(random.sample(lower_letters, 1))))\n",
    "\ti += 1\n",
    "\n",
    "\t\n",
    "#insert uppercase \n",
    "j = 0\n",
    "upper_inc = num_lower - 1\n",
    "\n",
    "while j < upper_len:\n",
    "\tpw_list.insert(random.randint(0, upper_inc), str(''.join(random.sample(upper_letters, 1))))\n",
    "\tj += 1\n",
    "\tupper_inc += 1\n",
    "\n",
    "\t\n",
    "#insert symbols \n",
    "k = 0\n",
    "symbol_inc = num_lower + upper_len - 1\n",
    "\n",
    "while k < symb_len:\n",
    "\tpw_list.insert(random.randint(0, symbol_inc), str(''.join(random.sample(symbols, 1))))\n",
    "\tk += 1\n",
    "\tsymbol_inc += 1\n",
    "\n",
    "\t\n",
    "#insert numbers \n",
    "l = 0\n",
    "num_inc = num_lower + upper_len + symb_len - 1\n",
    "\n",
    "while l < num_len:\n",
    "\tpw_list.insert(random.randint(0, num_inc), str(random.randint(0, 9)))\n",
    "\tl += 1\n",
    "\tsymbol_inc += 1\n",
    "\n",
    "\t\n",
    "#print password\t\n",
    "print(\"Your generated password is: \" + str(''.join(pw_list)))"
   ]
  },
  {
   "cell_type": "code",
   "execution_count": 6,
   "metadata": {
    "collapsed": false
   },
   "outputs": [
    {
     "name": "stdout",
     "output_type": "stream",
     "text": [
      "Enter your name now: 90\n",
      "Enter your age now:91\n",
      "you will be 100 in the yr 2015\n"
     ]
    }
   ],
   "source": [
    "#Create a program that asks the user to enter their name\n",
    "#and their age.Then print a message that will them the year \n",
    "#they will turn 90 years old.\n",
    "\n",
    "\n",
    "from datetime import date\n",
    "#capture current yr\n",
    "present_yr = date.today().year\n",
    "name = raw_input(\"Enter your name now: \")\n",
    "age = int(raw_input('Enter your age now:'))\n",
    "\n",
    "future_yr = str(present_yr - age + 90)\n",
    "\n",
    "print ('you will be 100 in the yr %s')%future_yr"
   ]
  },
  {
   "cell_type": "code",
   "execution_count": null,
   "metadata": {
    "collapsed": true
   },
   "outputs": [],
   "source": []
  }
 ],
 "metadata": {
  "kernelspec": {
   "display_name": "Python 2",
   "language": "python",
   "name": "python2"
  },
  "language_info": {
   "codemirror_mode": {
    "name": "ipython",
    "version": 2
   },
   "file_extension": ".py",
   "mimetype": "text/x-python",
   "name": "python",
   "nbconvert_exporter": "python",
   "pygments_lexer": "ipython2",
   "version": "2.7.12"
  }
 },
 "nbformat": 4,
 "nbformat_minor": 0
}
