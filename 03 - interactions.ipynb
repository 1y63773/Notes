{
 "cells": [
  {
   "cell_type": "markdown",
   "metadata": {},
   "source": [
    "<table style=\"float:left; border:none\">\n",
    "   <tr style=\"border:none\">\n",
    "       <td style=\"border:none\">\n",
    "           <a href=\"http://bokeh.pydata.org/\">     \n",
    "           <img \n",
    "               src=\"assets/images/bokeh-transparent.png\" \n",
    "               style=\"width:50px\"\n",
    "           >\n",
    "           </a>    \n",
    "       </td>\n",
    "       <td style=\"border:none\">\n",
    "           <h1>Bokeh Tutorial</h1>\n",
    "       </td>\n",
    "   </tr>\n",
    "</table>\n",
    "\n",
    "<div style=\"float:right;\"><h2>03. Layouts, Widgets, and Interactions</h2></div>"
   ]
  },
  {
   "cell_type": "code",
   "execution_count": 1,
   "metadata": {
    "collapsed": false
   },
   "outputs": [],
   "source": [
    "from bokeh.io import output_notebook, show"
   ]
  },
  {
   "cell_type": "code",
   "execution_count": 2,
   "metadata": {
    "collapsed": false
   },
   "outputs": [
    {
     "data": {
      "text/html": [
       "\n",
       "    <div class=\"bk-root\">\n",
       "        <a href=\"http://bokeh.pydata.org\" target=\"_blank\" class=\"bk-logo bk-logo-small bk-logo-notebook\"></a>\n",
       "        <span id=\"605eed4d-d293-4450-9ca1-63dc7c9ab21c\">Loading BokehJS ...</span>\n",
       "    </div>"
      ]
     },
     "metadata": {},
     "output_type": "display_data"
    },
    {
     "data": {
      "application/javascript": [
       "\n",
       "(function(global) {\n",
       "  function now() {\n",
       "    return new Date();\n",
       "  }\n",
       "\n",
       "  var force = \"1\";\n",
       "\n",
       "  if (typeof (window._bokeh_onload_callbacks) === \"undefined\" || force !== \"\") {\n",
       "    window._bokeh_onload_callbacks = [];\n",
       "    window._bokeh_is_loading = undefined;\n",
       "  }\n",
       "\n",
       "  function run_callbacks() {\n",
       "    window._bokeh_onload_callbacks.forEach(function(callback) { callback() });\n",
       "    delete window._bokeh_onload_callbacks\n",
       "    console.info(\"Bokeh: all callbacks have finished\");\n",
       "  }\n",
       "\n",
       "  function load_libs(js_urls, callback) {\n",
       "    window._bokeh_onload_callbacks.push(callback);\n",
       "    if (window._bokeh_is_loading > 0) {\n",
       "      console.log(\"Bokeh: BokehJS is being loaded, scheduling callback at\", now());\n",
       "      return null;\n",
       "    }\n",
       "    if (js_urls == null || js_urls.length === 0) {\n",
       "      run_callbacks();\n",
       "      return null;\n",
       "    }\n",
       "    console.log(\"Bokeh: BokehJS not loaded, scheduling load and callback at\", now());\n",
       "    window._bokeh_is_loading = js_urls.length;\n",
       "    for (var i = 0; i < js_urls.length; i++) {\n",
       "      var url = js_urls[i];\n",
       "      var s = document.createElement('script');\n",
       "      s.src = url;\n",
       "      s.async = false;\n",
       "      s.onreadystatechange = s.onload = function() {\n",
       "        window._bokeh_is_loading--;\n",
       "        if (window._bokeh_is_loading === 0) {\n",
       "          console.log(\"Bokeh: all BokehJS libraries loaded\");\n",
       "          run_callbacks()\n",
       "        }\n",
       "      };\n",
       "      s.onerror = function() {\n",
       "        console.warn(\"failed to load library \" + url);\n",
       "      };\n",
       "      console.log(\"Bokeh: injecting script tag for BokehJS library: \", url);\n",
       "      document.getElementsByTagName(\"head\")[0].appendChild(s);\n",
       "    }\n",
       "  };\n",
       "\n",
       "  var js_urls = ['https://cdn.pydata.org/bokeh/release/bokeh-0.12.1.min.js', 'https://cdn.pydata.org/bokeh/release/bokeh-widgets-0.12.1.min.js', 'https://cdn.pydata.org/bokeh/release/bokeh-compiler-0.12.1.min.js'];\n",
       "\n",
       "  var inline_js = [\n",
       "    function(Bokeh) {\n",
       "      Bokeh.set_log_level(\"info\");\n",
       "    },\n",
       "    \n",
       "    function(Bokeh) {\n",
       "      \n",
       "      Bokeh.$(\"#605eed4d-d293-4450-9ca1-63dc7c9ab21c\").text(\"BokehJS successfully loaded\");\n",
       "      var kernel = Jupyter.notebook.kernel\n",
       "      if (kernel.execute !== undefined) {\n",
       "          kernel.execute(\"import bokeh.io; bokeh.io._nb_loaded = True\");\n",
       "      }\n",
       "    },\n",
       "    function(Bokeh) {\n",
       "      console.log(\"Bokeh: injecting CSS: https://cdn.pydata.org/bokeh/release/bokeh-0.12.1.min.css\");\n",
       "      Bokeh.embed.inject_css(\"https://cdn.pydata.org/bokeh/release/bokeh-0.12.1.min.css\");\n",
       "      console.log(\"Bokeh: injecting CSS: https://cdn.pydata.org/bokeh/release/bokeh-widgets-0.12.1.min.css\");\n",
       "      Bokeh.embed.inject_css(\"https://cdn.pydata.org/bokeh/release/bokeh-widgets-0.12.1.min.css\");\n",
       "    }\n",
       "  ];\n",
       "\n",
       "  function run_inline_js() {\n",
       "    for (var i = 0; i < inline_js.length; i++) {\n",
       "      inline_js[i](window.Bokeh);\n",
       "    }\n",
       "  }\n",
       "\n",
       "  if (window._bokeh_is_loading === 0) {\n",
       "    console.log(\"Bokeh: BokehJS loaded, going straight to plotting\");\n",
       "    run_inline_js();\n",
       "  } else {\n",
       "    load_libs(js_urls, function() {\n",
       "      console.log(\"Bokeh: BokehJS plotting callback run at\", now());\n",
       "      run_inline_js();\n",
       "    });\n",
       "  }\n",
       "}(this));"
      ]
     },
     "metadata": {},
     "output_type": "display_data"
    }
   ],
   "source": [
    "output_notebook()"
   ]
  },
  {
   "cell_type": "markdown",
   "metadata": {},
   "source": [
    "# Simple Layouts\n",
    "\n",
    "In order to add widgets or have multiple plots that are linked together, you must first be able to create documents that contain these separate objects. It is possible to accomplish this in your own custom templates using ``bokeh.embed.components``. But, Bokeh also provides simple layout capability for rows, columns, and grids. \n",
    "\n",
    "An example using ``gridplot`` is shown below:"
   ]
  },
  {
   "cell_type": "code",
   "execution_count": 3,
   "metadata": {
    "collapsed": false
   },
   "outputs": [
    {
     "data": {
      "text/html": [
       "\n",
       "\n",
       "    <div class=\"bk-root\">\n",
       "        <div class=\"plotdiv\" id=\"7dc0fb91-df29-44fd-892c-ec03c3ac86b8\"></div>\n",
       "    </div>\n",
       "<script type=\"text/javascript\">\n",
       "  \n",
       "  (function(global) {\n",
       "    function now() {\n",
       "      return new Date();\n",
       "    }\n",
       "  \n",
       "    var force = \"\";\n",
       "  \n",
       "    if (typeof (window._bokeh_onload_callbacks) === \"undefined\" || force !== \"\") {\n",
       "      window._bokeh_onload_callbacks = [];\n",
       "      window._bokeh_is_loading = undefined;\n",
       "    }\n",
       "  \n",
       "    function run_callbacks() {\n",
       "      window._bokeh_onload_callbacks.forEach(function(callback) { callback() });\n",
       "      delete window._bokeh_onload_callbacks\n",
       "      console.info(\"Bokeh: all callbacks have finished\");\n",
       "    }\n",
       "  \n",
       "    function load_libs(js_urls, callback) {\n",
       "      window._bokeh_onload_callbacks.push(callback);\n",
       "      if (window._bokeh_is_loading > 0) {\n",
       "        console.log(\"Bokeh: BokehJS is being loaded, scheduling callback at\", now());\n",
       "        return null;\n",
       "      }\n",
       "      if (js_urls == null || js_urls.length === 0) {\n",
       "        run_callbacks();\n",
       "        return null;\n",
       "      }\n",
       "      console.log(\"Bokeh: BokehJS not loaded, scheduling load and callback at\", now());\n",
       "      window._bokeh_is_loading = js_urls.length;\n",
       "      for (var i = 0; i < js_urls.length; i++) {\n",
       "        var url = js_urls[i];\n",
       "        var s = document.createElement('script');\n",
       "        s.src = url;\n",
       "        s.async = false;\n",
       "        s.onreadystatechange = s.onload = function() {\n",
       "          window._bokeh_is_loading--;\n",
       "          if (window._bokeh_is_loading === 0) {\n",
       "            console.log(\"Bokeh: all BokehJS libraries loaded\");\n",
       "            run_callbacks()\n",
       "          }\n",
       "        };\n",
       "        s.onerror = function() {\n",
       "          console.warn(\"failed to load library \" + url);\n",
       "        };\n",
       "        console.log(\"Bokeh: injecting script tag for BokehJS library: \", url);\n",
       "        document.getElementsByTagName(\"head\")[0].appendChild(s);\n",
       "      }\n",
       "    };var element = document.getElementById(\"7dc0fb91-df29-44fd-892c-ec03c3ac86b8\");\n",
       "    if (element == null) {\n",
       "      console.log(\"Bokeh: ERROR: autoload.js configured with elementid '7dc0fb91-df29-44fd-892c-ec03c3ac86b8' but no matching script tag was found. \")\n",
       "      return false;\n",
       "    }\n",
       "  \n",
       "    var js_urls = [];\n",
       "  \n",
       "    var inline_js = [\n",
       "      function(Bokeh) {\n",
       "        Bokeh.$(function() {\n",
       "            var docs_json = {\"76a7b85f-6489-46c2-a521-ffa539afac14\":{\"roots\":{\"references\":[{\"attributes\":{},\"id\":\"c0d5118c-db59-4da5-964a-134f17f08d14\",\"type\":\"BasicTicker\"},{\"attributes\":{\"below\":[{\"id\":\"2d704b34-ec92-496d-bdf6-66b072652bf7\",\"type\":\"LinearAxis\"}],\"left\":[{\"id\":\"1bb86a18-4127-4dde-a962-1339b922f667\",\"type\":\"LinearAxis\"}],\"plot_height\":250,\"plot_width\":250,\"renderers\":[{\"id\":\"2d704b34-ec92-496d-bdf6-66b072652bf7\",\"type\":\"LinearAxis\"},{\"id\":\"b02e25ac-7e7b-484b-bf92-80d45a17b5b7\",\"type\":\"Grid\"},{\"id\":\"1bb86a18-4127-4dde-a962-1339b922f667\",\"type\":\"LinearAxis\"},{\"id\":\"33282d20-eea6-4dbc-a68a-a4fce7b27f5e\",\"type\":\"Grid\"},{\"id\":\"dcaba39d-2c55-4f98-8ee6-986251f63377\",\"type\":\"BoxAnnotation\"},{\"id\":\"49881f3c-7fbc-4e6b-906d-d281f7120e5b\",\"type\":\"GlyphRenderer\"}],\"title\":{\"id\":\"fb638a88-446a-4400-8a40-88870052c421\",\"type\":\"Title\"},\"tool_events\":{\"id\":\"5dd4e978-92ca-4f3f-b911-ad0ea1a37696\",\"type\":\"ToolEvents\"},\"toolbar\":{\"id\":\"0795436f-1aad-426b-a789-bb26261ea307\",\"type\":\"Toolbar\"},\"toolbar_location\":null,\"x_range\":{\"id\":\"f9620343-18db-47ce-9ab4-a37e25b764e9\",\"type\":\"DataRange1d\"},\"y_range\":{\"id\":\"f02efa99-8bda-4cf5-bb42-6c97981158c1\",\"type\":\"DataRange1d\"}},\"id\":\"d2e81aba-1bb1-4c11-a8aa-dc109de7a147\",\"subtype\":\"Figure\",\"type\":\"Plot\"},{\"attributes\":{\"bottom_units\":\"screen\",\"fill_alpha\":{\"value\":0.5},\"fill_color\":{\"value\":\"lightgrey\"},\"left_units\":\"screen\",\"level\":\"overlay\",\"line_alpha\":{\"value\":1.0},\"line_color\":{\"value\":\"black\"},\"line_dash\":[4,4],\"line_width\":{\"value\":2},\"plot\":null,\"render_mode\":\"css\",\"right_units\":\"screen\",\"top_units\":\"screen\"},\"id\":\"f9dabb6d-bc2c-41da-a77e-7ddc7dd85beb\",\"type\":\"BoxAnnotation\"},{\"attributes\":{},\"id\":\"11103c5e-d974-48ed-bc2d-944b3feda6ff\",\"type\":\"BasicTickFormatter\"},{\"attributes\":{\"formatter\":{\"id\":\"46186405-5087-453e-aaec-bf2b984c0d60\",\"type\":\"BasicTickFormatter\"},\"plot\":{\"id\":\"d2e81aba-1bb1-4c11-a8aa-dc109de7a147\",\"subtype\":\"Figure\",\"type\":\"Plot\"},\"ticker\":{\"id\":\"bc01bd79-3f49-497c-9afa-be2268604eff\",\"type\":\"BasicTicker\"}},\"id\":\"1bb86a18-4127-4dde-a962-1339b922f667\",\"type\":\"LinearAxis\"},{\"attributes\":{},\"id\":\"ba240acd-7bad-416f-91f9-8c7bc3252197\",\"type\":\"BasicTickFormatter\"},{\"attributes\":{\"plot\":{\"id\":\"d2e81aba-1bb1-4c11-a8aa-dc109de7a147\",\"subtype\":\"Figure\",\"type\":\"Plot\"}},\"id\":\"8a9bbfd3-96f5-424e-837f-78e5924e7a78\",\"type\":\"PanTool\"},{\"attributes\":{\"plot\":null,\"text\":null},\"id\":\"fb638a88-446a-4400-8a40-88870052c421\",\"type\":\"Title\"},{\"attributes\":{\"below\":[{\"id\":\"bdf061ff-36bf-4073-ab0f-1702c282f7b3\",\"type\":\"LinearAxis\"}],\"left\":[{\"id\":\"11364284-86a5-4c11-be91-63ed53e1ef79\",\"type\":\"LinearAxis\"}],\"plot_height\":250,\"plot_width\":250,\"renderers\":[{\"id\":\"bdf061ff-36bf-4073-ab0f-1702c282f7b3\",\"type\":\"LinearAxis\"},{\"id\":\"fbeddef8-5f48-490e-a28c-8571a7e97065\",\"type\":\"Grid\"},{\"id\":\"11364284-86a5-4c11-be91-63ed53e1ef79\",\"type\":\"LinearAxis\"},{\"id\":\"9b0be704-c262-4a72-94c4-8ef0340dbc8b\",\"type\":\"Grid\"},{\"id\":\"f9dabb6d-bc2c-41da-a77e-7ddc7dd85beb\",\"type\":\"BoxAnnotation\"},{\"id\":\"e8d498e5-7c6a-49c6-a32e-a0a56a915696\",\"type\":\"GlyphRenderer\"}],\"title\":{\"id\":\"2b22dc2f-f65f-43f3-a789-46e2d65fa238\",\"type\":\"Title\"},\"tool_events\":{\"id\":\"ae4a438c-6fd4-4b0d-8753-4fe99a1106a2\",\"type\":\"ToolEvents\"},\"toolbar\":{\"id\":\"fd28e922-a1cc-45b9-ac78-54296e6323ca\",\"type\":\"Toolbar\"},\"toolbar_location\":null,\"x_range\":{\"id\":\"84f781f9-22ce-4002-b4ce-4c01ae3b68ae\",\"type\":\"DataRange1d\"},\"y_range\":{\"id\":\"bf753aa5-9245-49c8-8466-fda04b0dae89\",\"type\":\"DataRange1d\"}},\"id\":\"fb8a11a1-e92d-4597-a226-cdf6f5986a29\",\"subtype\":\"Figure\",\"type\":\"Plot\"},{\"attributes\":{\"plot\":{\"id\":\"fb8a11a1-e92d-4597-a226-cdf6f5986a29\",\"subtype\":\"Figure\",\"type\":\"Plot\"}},\"id\":\"5e61ef87-d58d-40dd-afb5-1b31594910c5\",\"type\":\"HelpTool\"},{\"attributes\":{\"callback\":null},\"id\":\"f9620343-18db-47ce-9ab4-a37e25b764e9\",\"type\":\"DataRange1d\"},{\"attributes\":{\"bottom_units\":\"screen\",\"fill_alpha\":{\"value\":0.5},\"fill_color\":{\"value\":\"lightgrey\"},\"left_units\":\"screen\",\"level\":\"overlay\",\"line_alpha\":{\"value\":1.0},\"line_color\":{\"value\":\"black\"},\"line_dash\":[4,4],\"line_width\":{\"value\":2},\"plot\":null,\"render_mode\":\"css\",\"right_units\":\"screen\",\"top_units\":\"screen\"},\"id\":\"dcaba39d-2c55-4f98-8ee6-986251f63377\",\"type\":\"BoxAnnotation\"},{\"attributes\":{\"overlay\":{\"id\":\"dcaba39d-2c55-4f98-8ee6-986251f63377\",\"type\":\"BoxAnnotation\"},\"plot\":{\"id\":\"d2e81aba-1bb1-4c11-a8aa-dc109de7a147\",\"subtype\":\"Figure\",\"type\":\"Plot\"}},\"id\":\"5e69f131-9783-497d-9e40-d2b00c9db6a7\",\"type\":\"BoxZoomTool\"},{\"attributes\":{\"overlay\":{\"id\":\"f74254f8-9e1d-4b36-aceb-bafa2acbed11\",\"type\":\"BoxAnnotation\"},\"plot\":{\"id\":\"1fb04f97-18d7-4e2c-8ce2-0bb499d44a5c\",\"subtype\":\"Figure\",\"type\":\"Plot\"}},\"id\":\"0803d3c1-2a58-4336-8635-f4567271400e\",\"type\":\"BoxZoomTool\"},{\"attributes\":{\"below\":[{\"id\":\"d0528ba3-ff98-4b6d-99af-1e1f72f6e3a4\",\"type\":\"LinearAxis\"}],\"left\":[{\"id\":\"e4c65dbb-9166-4108-bad7-cf0e2741de24\",\"type\":\"LinearAxis\"}],\"plot_height\":250,\"plot_width\":250,\"renderers\":[{\"id\":\"d0528ba3-ff98-4b6d-99af-1e1f72f6e3a4\",\"type\":\"LinearAxis\"},{\"id\":\"1eb6965f-e8b2-4b6f-b956-51f4927e9489\",\"type\":\"Grid\"},{\"id\":\"e4c65dbb-9166-4108-bad7-cf0e2741de24\",\"type\":\"LinearAxis\"},{\"id\":\"909a903d-e217-4731-8606-bcb27309d321\",\"type\":\"Grid\"},{\"id\":\"f74254f8-9e1d-4b36-aceb-bafa2acbed11\",\"type\":\"BoxAnnotation\"},{\"id\":\"064b111c-d571-479d-893f-fe43be2fdefd\",\"type\":\"GlyphRenderer\"}],\"title\":{\"id\":\"dfbd2e1b-34b4-4346-88b0-bf45a723ae79\",\"type\":\"Title\"},\"tool_events\":{\"id\":\"6835b04d-c0ae-4d7f-b262-68b50072f741\",\"type\":\"ToolEvents\"},\"toolbar\":{\"id\":\"73049407-3903-4d06-aead-4d7dfa739a1e\",\"type\":\"Toolbar\"},\"toolbar_location\":null,\"x_range\":{\"id\":\"984b6663-9d21-48ff-87ee-7e8aa86fb7a8\",\"type\":\"DataRange1d\"},\"y_range\":{\"id\":\"5b8d887c-87ed-447b-bffe-aed52e5f1be5\",\"type\":\"DataRange1d\"}},\"id\":\"1fb04f97-18d7-4e2c-8ce2-0bb499d44a5c\",\"subtype\":\"Figure\",\"type\":\"Plot\"},{\"attributes\":{\"plot\":{\"id\":\"fb8a11a1-e92d-4597-a226-cdf6f5986a29\",\"subtype\":\"Figure\",\"type\":\"Plot\"}},\"id\":\"d5be66bb-bd29-472b-98f4-d16d24773945\",\"type\":\"PanTool\"},{\"attributes\":{\"formatter\":{\"id\":\"d85304ca-827c-40b0-be09-f6cf37a3a9af\",\"type\":\"BasicTickFormatter\"},\"plot\":{\"id\":\"fb8a11a1-e92d-4597-a226-cdf6f5986a29\",\"subtype\":\"Figure\",\"type\":\"Plot\"},\"ticker\":{\"id\":\"06edb18b-e2cc-4677-afca-323737a13744\",\"type\":\"BasicTicker\"}},\"id\":\"11364284-86a5-4c11-be91-63ed53e1ef79\",\"type\":\"LinearAxis\"},{\"attributes\":{\"dimension\":1,\"plot\":{\"id\":\"1fb04f97-18d7-4e2c-8ce2-0bb499d44a5c\",\"subtype\":\"Figure\",\"type\":\"Plot\"},\"ticker\":{\"id\":\"d3fe1ebd-b29e-426a-9b3e-a8194226f285\",\"type\":\"BasicTicker\"}},\"id\":\"909a903d-e217-4731-8606-bcb27309d321\",\"type\":\"Grid\"},{\"attributes\":{\"dimension\":1,\"plot\":{\"id\":\"fb8a11a1-e92d-4597-a226-cdf6f5986a29\",\"subtype\":\"Figure\",\"type\":\"Plot\"},\"ticker\":{\"id\":\"06edb18b-e2cc-4677-afca-323737a13744\",\"type\":\"BasicTicker\"}},\"id\":\"9b0be704-c262-4a72-94c4-8ef0340dbc8b\",\"type\":\"Grid\"},{\"attributes\":{\"plot\":{\"id\":\"fb8a11a1-e92d-4597-a226-cdf6f5986a29\",\"subtype\":\"Figure\",\"type\":\"Plot\"}},\"id\":\"84bd9fd2-b9f3-4755-bd0d-58808bc82004\",\"type\":\"ResetTool\"},{\"attributes\":{\"dimension\":1,\"plot\":{\"id\":\"d2e81aba-1bb1-4c11-a8aa-dc109de7a147\",\"subtype\":\"Figure\",\"type\":\"Plot\"},\"ticker\":{\"id\":\"bc01bd79-3f49-497c-9afa-be2268604eff\",\"type\":\"BasicTicker\"}},\"id\":\"33282d20-eea6-4dbc-a68a-a4fce7b27f5e\",\"type\":\"Grid\"},{\"attributes\":{\"plot\":{\"id\":\"1fb04f97-18d7-4e2c-8ce2-0bb499d44a5c\",\"subtype\":\"Figure\",\"type\":\"Plot\"}},\"id\":\"d2727bbf-1e82-4349-91d8-d8bc230c5e25\",\"type\":\"WheelZoomTool\"},{\"attributes\":{\"active_drag\":\"auto\",\"active_scroll\":\"auto\",\"active_tap\":\"auto\",\"tools\":[{\"id\":\"8a9bbfd3-96f5-424e-837f-78e5924e7a78\",\"type\":\"PanTool\"},{\"id\":\"e90215f4-ed0b-424a-ab4d-5232ff343bb3\",\"type\":\"WheelZoomTool\"},{\"id\":\"5e69f131-9783-497d-9e40-d2b00c9db6a7\",\"type\":\"BoxZoomTool\"},{\"id\":\"33578efd-3c40-4e7f-8079-7a1ec1eeb6b3\",\"type\":\"SaveTool\"},{\"id\":\"2342dae1-f0a5-4993-889b-6dbea92c36c8\",\"type\":\"ResetTool\"},{\"id\":\"efaa1187-0237-4323-8616-b822b48d5dc8\",\"type\":\"HelpTool\"}]},\"id\":\"0795436f-1aad-426b-a789-bb26261ea307\",\"type\":\"Toolbar\"},{\"attributes\":{},\"id\":\"06edb18b-e2cc-4677-afca-323737a13744\",\"type\":\"BasicTicker\"},{\"attributes\":{\"plot\":{\"id\":\"d2e81aba-1bb1-4c11-a8aa-dc109de7a147\",\"subtype\":\"Figure\",\"type\":\"Plot\"}},\"id\":\"e90215f4-ed0b-424a-ab4d-5232ff343bb3\",\"type\":\"WheelZoomTool\"},{\"attributes\":{},\"id\":\"d0dc3d0d-46a0-42dc-9624-2f0d016c3072\",\"type\":\"BasicTickFormatter\"},{\"attributes\":{\"callback\":null,\"column_names\":[\"x\",\"y\"],\"data\":{\"x\":[0,1,2,3,4,5,6,7,8,9,10],\"y\":[10,9,8,7,6,5,4,3,2,1,0]}},\"id\":\"00540fd8-a707-416d-b0c3-a9742131ee81\",\"type\":\"ColumnDataSource\"},{\"attributes\":{\"data_source\":{\"id\":\"71a765d5-383f-4c7f-b36c-51fe1608d13d\",\"type\":\"ColumnDataSource\"},\"glyph\":{\"id\":\"42229e20-9222-43e3-97cf-5e13dbe80ae4\",\"type\":\"Circle\"},\"hover_glyph\":null,\"nonselection_glyph\":{\"id\":\"4baeafc9-e7d3-4640-a152-b5a365938681\",\"type\":\"Circle\"},\"selection_glyph\":null},\"id\":\"49881f3c-7fbc-4e6b-906d-d281f7120e5b\",\"type\":\"GlyphRenderer\"},{\"attributes\":{\"callback\":null},\"id\":\"f02efa99-8bda-4cf5-bb42-6c97981158c1\",\"type\":\"DataRange1d\"},{\"attributes\":{\"data_source\":{\"id\":\"e547a188-feb8-49bd-9d7e-e3e10f4053b0\",\"type\":\"ColumnDataSource\"},\"glyph\":{\"id\":\"7ea125c7-6117-4278-928c-a34b37ce54e4\",\"type\":\"Square\"},\"hover_glyph\":null,\"nonselection_glyph\":{\"id\":\"2d52781e-3530-4e85-a3fd-3f3e98fddd7f\",\"type\":\"Square\"},\"selection_glyph\":null},\"id\":\"e8d498e5-7c6a-49c6-a32e-a0a56a915696\",\"type\":\"GlyphRenderer\"},{\"attributes\":{\"plot\":{\"id\":\"d2e81aba-1bb1-4c11-a8aa-dc109de7a147\",\"subtype\":\"Figure\",\"type\":\"Plot\"},\"ticker\":{\"id\":\"3f9f7d7a-bb89-46a4-96a4-cc2aa6968b65\",\"type\":\"BasicTicker\"}},\"id\":\"b02e25ac-7e7b-484b-bf92-80d45a17b5b7\",\"type\":\"Grid\"},{\"attributes\":{\"plot\":{\"id\":\"1fb04f97-18d7-4e2c-8ce2-0bb499d44a5c\",\"subtype\":\"Figure\",\"type\":\"Plot\"}},\"id\":\"75aff387-29c4-4237-9908-58c302558614\",\"type\":\"PanTool\"},{\"attributes\":{\"plot\":{\"id\":\"fb8a11a1-e92d-4597-a226-cdf6f5986a29\",\"subtype\":\"Figure\",\"type\":\"Plot\"}},\"id\":\"57369746-d784-430a-8cec-af53115a7f3f\",\"type\":\"WheelZoomTool\"},{\"attributes\":{},\"id\":\"5dd4e978-92ca-4f3f-b911-ad0ea1a37696\",\"type\":\"ToolEvents\"},{\"attributes\":{\"fill_alpha\":{\"value\":0.1},\"fill_color\":{\"value\":\"#1f77b4\"},\"line_alpha\":{\"value\":0.1},\"line_color\":{\"value\":\"#1f77b4\"},\"size\":{\"units\":\"screen\",\"value\":10},\"x\":{\"field\":\"x\"},\"y\":{\"field\":\"y\"}},\"id\":\"4baeafc9-e7d3-4640-a152-b5a365938681\",\"type\":\"Circle\"},{\"attributes\":{\"callback\":null},\"id\":\"984b6663-9d21-48ff-87ee-7e8aa86fb7a8\",\"type\":\"DataRange1d\"},{\"attributes\":{\"callback\":null},\"id\":\"84f781f9-22ce-4002-b4ce-4c01ae3b68ae\",\"type\":\"DataRange1d\"},{\"attributes\":{\"formatter\":{\"id\":\"ba240acd-7bad-416f-91f9-8c7bc3252197\",\"type\":\"BasicTickFormatter\"},\"plot\":{\"id\":\"d2e81aba-1bb1-4c11-a8aa-dc109de7a147\",\"subtype\":\"Figure\",\"type\":\"Plot\"},\"ticker\":{\"id\":\"3f9f7d7a-bb89-46a4-96a4-cc2aa6968b65\",\"type\":\"BasicTicker\"}},\"id\":\"2d704b34-ec92-496d-bdf6-66b072652bf7\",\"type\":\"LinearAxis\"},{\"attributes\":{\"active_drag\":\"auto\",\"active_scroll\":\"auto\",\"active_tap\":\"auto\",\"tools\":[{\"id\":\"75aff387-29c4-4237-9908-58c302558614\",\"type\":\"PanTool\"},{\"id\":\"d2727bbf-1e82-4349-91d8-d8bc230c5e25\",\"type\":\"WheelZoomTool\"},{\"id\":\"0803d3c1-2a58-4336-8635-f4567271400e\",\"type\":\"BoxZoomTool\"},{\"id\":\"e84503f4-4edf-4fdf-9f8e-e1cc1b337e53\",\"type\":\"SaveTool\"},{\"id\":\"6da89b7c-0b2f-4e8e-b2b3-28f539310e2f\",\"type\":\"ResetTool\"},{\"id\":\"5ed3998b-2a29-403a-85b8-5aa51d4190ba\",\"type\":\"HelpTool\"}]},\"id\":\"73049407-3903-4d06-aead-4d7dfa739a1e\",\"type\":\"Toolbar\"},{\"attributes\":{\"data_source\":{\"id\":\"00540fd8-a707-416d-b0c3-a9742131ee81\",\"type\":\"ColumnDataSource\"},\"glyph\":{\"id\":\"618b8661-ef19-414c-b58a-0f0b65318361\",\"type\":\"Triangle\"},\"hover_glyph\":null,\"nonselection_glyph\":{\"id\":\"74dc9210-8c02-4484-a1f7-6d44fbae33c7\",\"type\":\"Triangle\"},\"selection_glyph\":null},\"id\":\"064b111c-d571-479d-893f-fe43be2fdefd\",\"type\":\"GlyphRenderer\"},{\"attributes\":{\"plot\":{\"id\":\"1fb04f97-18d7-4e2c-8ce2-0bb499d44a5c\",\"subtype\":\"Figure\",\"type\":\"Plot\"},\"ticker\":{\"id\":\"8fdb9569-8cf3-434b-8358-84f1261c24a7\",\"type\":\"BasicTicker\"}},\"id\":\"1eb6965f-e8b2-4b6f-b956-51f4927e9489\",\"type\":\"Grid\"},{\"attributes\":{\"formatter\":{\"id\":\"0cf8747a-2cce-4b28-8323-8dcb5fe7ed63\",\"type\":\"BasicTickFormatter\"},\"plot\":{\"id\":\"fb8a11a1-e92d-4597-a226-cdf6f5986a29\",\"subtype\":\"Figure\",\"type\":\"Plot\"},\"ticker\":{\"id\":\"c0d5118c-db59-4da5-964a-134f17f08d14\",\"type\":\"BasicTicker\"}},\"id\":\"bdf061ff-36bf-4073-ab0f-1702c282f7b3\",\"type\":\"LinearAxis\"},{\"attributes\":{\"children\":[{\"id\":\"d2e81aba-1bb1-4c11-a8aa-dc109de7a147\",\"subtype\":\"Figure\",\"type\":\"Plot\"},{\"id\":\"1fb04f97-18d7-4e2c-8ce2-0bb499d44a5c\",\"subtype\":\"Figure\",\"type\":\"Plot\"},{\"id\":\"fb8a11a1-e92d-4597-a226-cdf6f5986a29\",\"subtype\":\"Figure\",\"type\":\"Plot\"}]},\"id\":\"926be686-484a-4572-90e0-863e499deda4\",\"type\":\"Row\"},{\"attributes\":{\"fill_alpha\":{\"value\":0.1},\"fill_color\":{\"value\":\"#1f77b4\"},\"line_alpha\":{\"value\":0.1},\"line_color\":{\"value\":\"#1f77b4\"},\"size\":{\"units\":\"screen\",\"value\":10},\"x\":{\"field\":\"x\"},\"y\":{\"field\":\"y\"}},\"id\":\"2d52781e-3530-4e85-a3fd-3f3e98fddd7f\",\"type\":\"Square\"},{\"attributes\":{\"callback\":null,\"column_names\":[\"x\",\"y\"],\"data\":{\"x\":[0,1,2,3,4,5,6,7,8,9,10],\"y\":[5,4,3,2,1,0,1,2,3,4,5]}},\"id\":\"e547a188-feb8-49bd-9d7e-e3e10f4053b0\",\"type\":\"ColumnDataSource\"},{\"attributes\":{\"plot\":{\"id\":\"1fb04f97-18d7-4e2c-8ce2-0bb499d44a5c\",\"subtype\":\"Figure\",\"type\":\"Plot\"}},\"id\":\"5ed3998b-2a29-403a-85b8-5aa51d4190ba\",\"type\":\"HelpTool\"},{\"attributes\":{\"overlay\":{\"id\":\"f9dabb6d-bc2c-41da-a77e-7ddc7dd85beb\",\"type\":\"BoxAnnotation\"},\"plot\":{\"id\":\"fb8a11a1-e92d-4597-a226-cdf6f5986a29\",\"subtype\":\"Figure\",\"type\":\"Plot\"}},\"id\":\"e5356f98-baa4-4ed4-a239-bcc0cb33efb6\",\"type\":\"BoxZoomTool\"},{\"attributes\":{\"plot\":{\"id\":\"fb8a11a1-e92d-4597-a226-cdf6f5986a29\",\"subtype\":\"Figure\",\"type\":\"Plot\"}},\"id\":\"b90e4e53-5384-4a00-b480-027b4baeef8f\",\"type\":\"SaveTool\"},{\"attributes\":{\"plot\":{\"id\":\"1fb04f97-18d7-4e2c-8ce2-0bb499d44a5c\",\"subtype\":\"Figure\",\"type\":\"Plot\"}},\"id\":\"e84503f4-4edf-4fdf-9f8e-e1cc1b337e53\",\"type\":\"SaveTool\"},{\"attributes\":{\"callback\":null,\"column_names\":[\"x\",\"y\"],\"data\":{\"x\":[0,1,2,3,4,5,6,7,8,9,10],\"y\":[0,1,2,3,4,5,6,7,8,9,10]}},\"id\":\"71a765d5-383f-4c7f-b36c-51fe1608d13d\",\"type\":\"ColumnDataSource\"},{\"attributes\":{\"callback\":null},\"id\":\"bf753aa5-9245-49c8-8466-fda04b0dae89\",\"type\":\"DataRange1d\"},{\"attributes\":{\"plot\":{\"id\":\"d2e81aba-1bb1-4c11-a8aa-dc109de7a147\",\"subtype\":\"Figure\",\"type\":\"Plot\"}},\"id\":\"efaa1187-0237-4323-8616-b822b48d5dc8\",\"type\":\"HelpTool\"},{\"attributes\":{},\"id\":\"bc01bd79-3f49-497c-9afa-be2268604eff\",\"type\":\"BasicTicker\"},{\"attributes\":{\"plot\":{\"id\":\"1fb04f97-18d7-4e2c-8ce2-0bb499d44a5c\",\"subtype\":\"Figure\",\"type\":\"Plot\"}},\"id\":\"6da89b7c-0b2f-4e8e-b2b3-28f539310e2f\",\"type\":\"ResetTool\"},{\"attributes\":{\"formatter\":{\"id\":\"d0dc3d0d-46a0-42dc-9624-2f0d016c3072\",\"type\":\"BasicTickFormatter\"},\"plot\":{\"id\":\"1fb04f97-18d7-4e2c-8ce2-0bb499d44a5c\",\"subtype\":\"Figure\",\"type\":\"Plot\"},\"ticker\":{\"id\":\"d3fe1ebd-b29e-426a-9b3e-a8194226f285\",\"type\":\"BasicTicker\"}},\"id\":\"e4c65dbb-9166-4108-bad7-cf0e2741de24\",\"type\":\"LinearAxis\"},{\"attributes\":{\"plot\":{\"id\":\"d2e81aba-1bb1-4c11-a8aa-dc109de7a147\",\"subtype\":\"Figure\",\"type\":\"Plot\"}},\"id\":\"2342dae1-f0a5-4993-889b-6dbea92c36c8\",\"type\":\"ResetTool\"},{\"attributes\":{\"plot\":{\"id\":\"fb8a11a1-e92d-4597-a226-cdf6f5986a29\",\"subtype\":\"Figure\",\"type\":\"Plot\"},\"ticker\":{\"id\":\"c0d5118c-db59-4da5-964a-134f17f08d14\",\"type\":\"BasicTicker\"}},\"id\":\"fbeddef8-5f48-490e-a28c-8571a7e97065\",\"type\":\"Grid\"},{\"attributes\":{},\"id\":\"0cf8747a-2cce-4b28-8323-8dcb5fe7ed63\",\"type\":\"BasicTickFormatter\"},{\"attributes\":{},\"id\":\"8fdb9569-8cf3-434b-8358-84f1261c24a7\",\"type\":\"BasicTicker\"},{\"attributes\":{\"active_drag\":\"auto\",\"active_scroll\":\"auto\",\"active_tap\":\"auto\",\"tools\":[{\"id\":\"d5be66bb-bd29-472b-98f4-d16d24773945\",\"type\":\"PanTool\"},{\"id\":\"57369746-d784-430a-8cec-af53115a7f3f\",\"type\":\"WheelZoomTool\"},{\"id\":\"e5356f98-baa4-4ed4-a239-bcc0cb33efb6\",\"type\":\"BoxZoomTool\"},{\"id\":\"b90e4e53-5384-4a00-b480-027b4baeef8f\",\"type\":\"SaveTool\"},{\"id\":\"84bd9fd2-b9f3-4755-bd0d-58808bc82004\",\"type\":\"ResetTool\"},{\"id\":\"5e61ef87-d58d-40dd-afb5-1b31594910c5\",\"type\":\"HelpTool\"}]},\"id\":\"fd28e922-a1cc-45b9-ac78-54296e6323ca\",\"type\":\"Toolbar\"},{\"attributes\":{\"bottom_units\":\"screen\",\"fill_alpha\":{\"value\":0.5},\"fill_color\":{\"value\":\"lightgrey\"},\"left_units\":\"screen\",\"level\":\"overlay\",\"line_alpha\":{\"value\":1.0},\"line_color\":{\"value\":\"black\"},\"line_dash\":[4,4],\"line_width\":{\"value\":2},\"plot\":null,\"render_mode\":\"css\",\"right_units\":\"screen\",\"top_units\":\"screen\"},\"id\":\"f74254f8-9e1d-4b36-aceb-bafa2acbed11\",\"type\":\"BoxAnnotation\"},{\"attributes\":{},\"id\":\"6835b04d-c0ae-4d7f-b262-68b50072f741\",\"type\":\"ToolEvents\"},{\"attributes\":{\"children\":[{\"id\":\"926be686-484a-4572-90e0-863e499deda4\",\"type\":\"Row\"}]},\"id\":\"9d3ab21f-0190-46c2-9be2-67ca470eea78\",\"type\":\"Column\"},{\"attributes\":{\"plot\":null,\"text\":null},\"id\":\"dfbd2e1b-34b4-4346-88b0-bf45a723ae79\",\"type\":\"Title\"},{\"attributes\":{},\"id\":\"46186405-5087-453e-aaec-bf2b984c0d60\",\"type\":\"BasicTickFormatter\"},{\"attributes\":{\"formatter\":{\"id\":\"11103c5e-d974-48ed-bc2d-944b3feda6ff\",\"type\":\"BasicTickFormatter\"},\"plot\":{\"id\":\"1fb04f97-18d7-4e2c-8ce2-0bb499d44a5c\",\"subtype\":\"Figure\",\"type\":\"Plot\"},\"ticker\":{\"id\":\"8fdb9569-8cf3-434b-8358-84f1261c24a7\",\"type\":\"BasicTicker\"}},\"id\":\"d0528ba3-ff98-4b6d-99af-1e1f72f6e3a4\",\"type\":\"LinearAxis\"},{\"attributes\":{\"fill_alpha\":{\"value\":0.5},\"fill_color\":{\"value\":\"navy\"},\"line_alpha\":{\"value\":0.5},\"line_color\":{\"value\":\"navy\"},\"size\":{\"units\":\"screen\",\"value\":10},\"x\":{\"field\":\"x\"},\"y\":{\"field\":\"y\"}},\"id\":\"42229e20-9222-43e3-97cf-5e13dbe80ae4\",\"type\":\"Circle\"},{\"attributes\":{\"fill_alpha\":{\"value\":0.5},\"fill_color\":{\"value\":\"olive\"},\"line_alpha\":{\"value\":0.5},\"line_color\":{\"value\":\"olive\"},\"size\":{\"units\":\"screen\",\"value\":10},\"x\":{\"field\":\"x\"},\"y\":{\"field\":\"y\"}},\"id\":\"7ea125c7-6117-4278-928c-a34b37ce54e4\",\"type\":\"Square\"},{\"attributes\":{},\"id\":\"d85304ca-827c-40b0-be09-f6cf37a3a9af\",\"type\":\"BasicTickFormatter\"},{\"attributes\":{},\"id\":\"ae4a438c-6fd4-4b0d-8753-4fe99a1106a2\",\"type\":\"ToolEvents\"},{\"attributes\":{},\"id\":\"d3fe1ebd-b29e-426a-9b3e-a8194226f285\",\"type\":\"BasicTicker\"},{\"attributes\":{},\"id\":\"3f9f7d7a-bb89-46a4-96a4-cc2aa6968b65\",\"type\":\"BasicTicker\"},{\"attributes\":{\"plot\":null,\"text\":null},\"id\":\"2b22dc2f-f65f-43f3-a789-46e2d65fa238\",\"type\":\"Title\"},{\"attributes\":{\"fill_alpha\":{\"value\":0.5},\"fill_color\":{\"value\":\"firebrick\"},\"line_alpha\":{\"value\":0.5},\"line_color\":{\"value\":\"firebrick\"},\"size\":{\"units\":\"screen\",\"value\":10},\"x\":{\"field\":\"x\"},\"y\":{\"field\":\"y\"}},\"id\":\"618b8661-ef19-414c-b58a-0f0b65318361\",\"type\":\"Triangle\"},{\"attributes\":{\"callback\":null},\"id\":\"5b8d887c-87ed-447b-bffe-aed52e5f1be5\",\"type\":\"DataRange1d\"},{\"attributes\":{\"plot\":{\"id\":\"d2e81aba-1bb1-4c11-a8aa-dc109de7a147\",\"subtype\":\"Figure\",\"type\":\"Plot\"}},\"id\":\"33578efd-3c40-4e7f-8079-7a1ec1eeb6b3\",\"type\":\"SaveTool\"},{\"attributes\":{\"fill_alpha\":{\"value\":0.1},\"fill_color\":{\"value\":\"#1f77b4\"},\"line_alpha\":{\"value\":0.1},\"line_color\":{\"value\":\"#1f77b4\"},\"size\":{\"units\":\"screen\",\"value\":10},\"x\":{\"field\":\"x\"},\"y\":{\"field\":\"y\"}},\"id\":\"74dc9210-8c02-4484-a1f7-6d44fbae33c7\",\"type\":\"Triangle\"}],\"root_ids\":[\"9d3ab21f-0190-46c2-9be2-67ca470eea78\"]},\"title\":\"Bokeh Application\",\"version\":\"0.12.1\"}};\n",
       "            var render_items = [{\"docid\":\"76a7b85f-6489-46c2-a521-ffa539afac14\",\"elementid\":\"7dc0fb91-df29-44fd-892c-ec03c3ac86b8\",\"modelid\":\"9d3ab21f-0190-46c2-9be2-67ca470eea78\",\"notebook_comms_target\":\"7f109b53-3475-46f2-b40c-8261399ac0fb\"}];\n",
       "            \n",
       "            Bokeh.embed.embed_items(docs_json, render_items);\n",
       "        });\n",
       "      },\n",
       "      function(Bokeh) {\n",
       "      }\n",
       "    ];\n",
       "  \n",
       "    function run_inline_js() {\n",
       "      for (var i = 0; i < inline_js.length; i++) {\n",
       "        inline_js[i](window.Bokeh);\n",
       "      }\n",
       "    }\n",
       "  \n",
       "    if (window._bokeh_is_loading === 0) {\n",
       "      console.log(\"Bokeh: BokehJS loaded, going straight to plotting\");\n",
       "      run_inline_js();\n",
       "    } else {\n",
       "      load_libs(js_urls, function() {\n",
       "        console.log(\"Bokeh: BokehJS plotting callback run at\", now());\n",
       "        run_inline_js();\n",
       "      });\n",
       "    }\n",
       "  }(this));\n",
       "</script>"
      ]
     },
     "metadata": {},
     "output_type": "display_data"
    },
    {
     "data": {
      "text/html": [
       "<p><code>&lt;Bokeh Notebook handle for <strong>In[3]</strong>&gt;</code></p>"
      ],
      "text/plain": [
       "<bokeh.io._CommsHandle at 0x1135143d0>"
      ]
     },
     "execution_count": 3,
     "metadata": {},
     "output_type": "execute_result"
    }
   ],
   "source": [
    "from bokeh.layouts import gridplot\n",
    "from bokeh.plotting import figure\n",
    "\n",
    "x = list(range(11))\n",
    "y0, y1, y2 = x, [10-i for i in x], [abs(i-5) for i in x]\n",
    "\n",
    "# create a new plot\n",
    "s1 = figure(width=250, plot_height=250)\n",
    "s1.circle(x, y0, size=10, color=\"navy\", alpha=0.5)\n",
    "\n",
    "# create another one\n",
    "s2 = figure(width=250, height=250)\n",
    "s2.triangle(x, y1, size=10, color=\"firebrick\", alpha=0.5)\n",
    "\n",
    "# create and another\n",
    "s3 = figure(width=250, height=250)\n",
    "s3.square(x, y2, size=10, color=\"olive\", alpha=0.5)\n",
    "\n",
    "# put all the plots in a gridplot\n",
    "p = gridplot([[s1, s2, s3]], toolbar_location=None)\n",
    "\n",
    "# show the results\n",
    "show(p)"
   ]
  },
  {
   "cell_type": "code",
   "execution_count": 4,
   "metadata": {
    "collapsed": true
   },
   "outputs": [],
   "source": [
    "# EXERCISE: create a gridplot of your own\n"
   ]
  },
  {
   "cell_type": "markdown",
   "metadata": {},
   "source": [
    "The `bokeh.layouts` modules also provides the ``row`` and ``column`` functions to arrange plot objects in vertical or horizontal layouts. "
   ]
  },
  {
   "cell_type": "code",
   "execution_count": 5,
   "metadata": {
    "collapsed": true
   },
   "outputs": [],
   "source": [
    "# EXERCISE: use column to arrange a few plots vertically\n"
   ]
  },
  {
   "cell_type": "markdown",
   "metadata": {
    "collapsed": true
   },
   "source": [
    "# Linked Interactions\n",
    "\n",
    "It is possible to link various interactions between different Bokeh plots. For instance, the ranges of two (or more) plots can be linked, so that when one of the plots is panned (or zoomed, or otherwise has its range changed) the other plots will update in unison. It is also possible to link selections between two plots, so that when items are selected on one plot, the corresponding items on the second plot also become selected. "
   ]
  },
  {
   "cell_type": "markdown",
   "metadata": {},
   "source": [
    "## Linked panning\n",
    "\n",
    "Linked panning (when multiple plots have ranges that stay in sync) is simple to spell with Bokeh. You simply share the appropriate range objects between two (or more) plots. The example below shows how to accomplish this by linking the ranges of three plots in various ways:"
   ]
  },
  {
   "cell_type": "code",
   "execution_count": 4,
   "metadata": {
    "collapsed": false
   },
   "outputs": [
    {
     "data": {
      "text/html": [
       "\n",
       "\n",
       "    <div class=\"bk-root\">\n",
       "        <div class=\"plotdiv\" id=\"1340d8e8-335b-471b-bd3d-3b5205f440e9\"></div>\n",
       "    </div>\n",
       "<script type=\"text/javascript\">\n",
       "  \n",
       "  (function(global) {\n",
       "    function now() {\n",
       "      return new Date();\n",
       "    }\n",
       "  \n",
       "    var force = \"\";\n",
       "  \n",
       "    if (typeof (window._bokeh_onload_callbacks) === \"undefined\" || force !== \"\") {\n",
       "      window._bokeh_onload_callbacks = [];\n",
       "      window._bokeh_is_loading = undefined;\n",
       "    }\n",
       "  \n",
       "    function run_callbacks() {\n",
       "      window._bokeh_onload_callbacks.forEach(function(callback) { callback() });\n",
       "      delete window._bokeh_onload_callbacks\n",
       "      console.info(\"Bokeh: all callbacks have finished\");\n",
       "    }\n",
       "  \n",
       "    function load_libs(js_urls, callback) {\n",
       "      window._bokeh_onload_callbacks.push(callback);\n",
       "      if (window._bokeh_is_loading > 0) {\n",
       "        console.log(\"Bokeh: BokehJS is being loaded, scheduling callback at\", now());\n",
       "        return null;\n",
       "      }\n",
       "      if (js_urls == null || js_urls.length === 0) {\n",
       "        run_callbacks();\n",
       "        return null;\n",
       "      }\n",
       "      console.log(\"Bokeh: BokehJS not loaded, scheduling load and callback at\", now());\n",
       "      window._bokeh_is_loading = js_urls.length;\n",
       "      for (var i = 0; i < js_urls.length; i++) {\n",
       "        var url = js_urls[i];\n",
       "        var s = document.createElement('script');\n",
       "        s.src = url;\n",
       "        s.async = false;\n",
       "        s.onreadystatechange = s.onload = function() {\n",
       "          window._bokeh_is_loading--;\n",
       "          if (window._bokeh_is_loading === 0) {\n",
       "            console.log(\"Bokeh: all BokehJS libraries loaded\");\n",
       "            run_callbacks()\n",
       "          }\n",
       "        };\n",
       "        s.onerror = function() {\n",
       "          console.warn(\"failed to load library \" + url);\n",
       "        };\n",
       "        console.log(\"Bokeh: injecting script tag for BokehJS library: \", url);\n",
       "        document.getElementsByTagName(\"head\")[0].appendChild(s);\n",
       "      }\n",
       "    };var element = document.getElementById(\"1340d8e8-335b-471b-bd3d-3b5205f440e9\");\n",
       "    if (element == null) {\n",
       "      console.log(\"Bokeh: ERROR: autoload.js configured with elementid '1340d8e8-335b-471b-bd3d-3b5205f440e9' but no matching script tag was found. \")\n",
       "      return false;\n",
       "    }\n",
       "  \n",
       "    var js_urls = [];\n",
       "  \n",
       "    var inline_js = [\n",
       "      function(Bokeh) {\n",
       "        Bokeh.$(function() {\n",
       "            var docs_json = {\"ec5f825f-8977-48f9-9925-802ab72a5982\":{\"roots\":{\"references\":[{\"attributes\":{\"below\":[{\"id\":\"48afa391-1efa-45b0-a9b1-e6bbb7b1e8dd\",\"type\":\"LinearAxis\"}],\"left\":[{\"id\":\"8046abb6-b93b-4545-8f76-6d899e33c275\",\"type\":\"LinearAxis\"}],\"plot_height\":250,\"plot_width\":250,\"renderers\":[{\"id\":\"48afa391-1efa-45b0-a9b1-e6bbb7b1e8dd\",\"type\":\"LinearAxis\"},{\"id\":\"fb7c49cd-1fd0-473f-a5f0-8499cd4b6c7a\",\"type\":\"Grid\"},{\"id\":\"8046abb6-b93b-4545-8f76-6d899e33c275\",\"type\":\"LinearAxis\"},{\"id\":\"526a3866-a9bd-4a7f-959a-eea2e5b8e928\",\"type\":\"Grid\"},{\"id\":\"e8e27b97-1340-47be-b0e6-999abc3c5703\",\"type\":\"GlyphRenderer\"}],\"title\":{\"id\":\"9d061ad3-d797-4875-93cc-6f863b1a6987\",\"type\":\"Title\"},\"tool_events\":{\"id\":\"1860cb12-81a2-4f5c-a15a-2db46f16f3d8\",\"type\":\"ToolEvents\"},\"toolbar\":{\"id\":\"3b59d7a1-f8e0-47a9-9468-25e1069c057b\",\"type\":\"Toolbar\"},\"toolbar_location\":null,\"x_range\":{\"id\":\"1fe1ec27-b582-4de8-a5a0-5363f05e2cfb\",\"type\":\"DataRange1d\"},\"y_range\":{\"id\":\"9f35371c-c3ee-41b2-95f0-c5c3c4901993\",\"type\":\"DataRange1d\"}},\"id\":\"a38404da-665f-485a-bb36-1c73f7d19eda\",\"subtype\":\"Figure\",\"type\":\"Plot\"},{\"attributes\":{},\"id\":\"1860cb12-81a2-4f5c-a15a-2db46f16f3d8\",\"type\":\"ToolEvents\"},{\"attributes\":{\"callback\":null,\"column_names\":[\"y\",\"x\"],\"data\":{\"x\":[0,1,2,3,4,5,6,7,8,9,10],\"y\":[0,1,2,3,4,5,6,7,8,9,10]}},\"id\":\"6724711a-dd9f-4cbd-b186-7e71f7c2cbf4\",\"type\":\"ColumnDataSource\"},{\"attributes\":{},\"id\":\"530bcecb-5e96-45ae-b9dc-abd4ea90523a\",\"type\":\"BasicTickFormatter\"},{\"attributes\":{\"fill_alpha\":{\"value\":0.1},\"fill_color\":{\"value\":\"#1f77b4\"},\"line_alpha\":{\"value\":0.1},\"line_color\":{\"value\":\"#1f77b4\"},\"size\":{\"units\":\"screen\",\"value\":10},\"x\":{\"field\":\"x\"},\"y\":{\"field\":\"y\"}},\"id\":\"402fe8e9-67be-4240-9672-240ccb5be222\",\"type\":\"Triangle\"},{\"attributes\":{},\"id\":\"b044a2e7-35ae-46dd-bbd5-57353fb7cf63\",\"type\":\"BasicTicker\"},{\"attributes\":{\"plot\":{\"id\":\"318ddbe0-3863-4df4-9b82-5244a68df4a4\",\"subtype\":\"Figure\",\"type\":\"Plot\"}},\"id\":\"6e2c28b8-e501-47a5-834e-2a61d8cf101a\",\"type\":\"PanTool\"},{\"attributes\":{\"formatter\":{\"id\":\"616036d2-d8c9-4ea3-ad85-513d96dfc62d\",\"type\":\"BasicTickFormatter\"},\"plot\":{\"id\":\"390f328b-c8e8-4ab8-bb15-8e02379d2a85\",\"subtype\":\"Figure\",\"type\":\"Plot\"},\"ticker\":{\"id\":\"453039c1-9dd9-4d32-aa1b-8d71be5499dd\",\"type\":\"BasicTicker\"}},\"id\":\"3b3db83d-f641-40fc-9b7a-c9034f852a2b\",\"type\":\"LinearAxis\"},{\"attributes\":{\"children\":[{\"id\":\"89fddfc0-90a4-4863-a3f0-48679f7e2a81\",\"type\":\"Row\"}]},\"id\":\"31ee3731-2783-44d5-b439-a43e9670d0e5\",\"type\":\"Column\"},{\"attributes\":{\"plot\":{\"id\":\"390f328b-c8e8-4ab8-bb15-8e02379d2a85\",\"subtype\":\"Figure\",\"type\":\"Plot\"}},\"id\":\"7cfec5ca-e404-43e2-b15b-913a05e69aed\",\"type\":\"PanTool\"},{\"attributes\":{\"formatter\":{\"id\":\"04082197-f08b-4b91-a803-47a9a5bde60e\",\"type\":\"BasicTickFormatter\"},\"plot\":{\"id\":\"a38404da-665f-485a-bb36-1c73f7d19eda\",\"subtype\":\"Figure\",\"type\":\"Plot\"},\"ticker\":{\"id\":\"e87477e0-7852-4364-8055-75de7f522929\",\"type\":\"BasicTicker\"}},\"id\":\"48afa391-1efa-45b0-a9b1-e6bbb7b1e8dd\",\"type\":\"LinearAxis\"},{\"attributes\":{\"data_source\":{\"id\":\"0f81b62a-b4af-4a30-b549-6e684420ddd8\",\"type\":\"ColumnDataSource\"},\"glyph\":{\"id\":\"b670eb13-07db-473d-8e1d-c41d357cbd3a\",\"type\":\"Triangle\"},\"hover_glyph\":null,\"nonselection_glyph\":{\"id\":\"402fe8e9-67be-4240-9672-240ccb5be222\",\"type\":\"Triangle\"},\"selection_glyph\":null},\"id\":\"e8e27b97-1340-47be-b0e6-999abc3c5703\",\"type\":\"GlyphRenderer\"},{\"attributes\":{\"callback\":null,\"column_names\":[\"y\",\"x\"],\"data\":{\"x\":[0,1,2,3,4,5,6,7,8,9,10],\"y\":[5,4,3,2,1,0,1,2,3,4,5]}},\"id\":\"fe9b91e4-759d-4ea8-8b34-ee2a734d52bf\",\"type\":\"ColumnDataSource\"},{\"attributes\":{\"formatter\":{\"id\":\"530bcecb-5e96-45ae-b9dc-abd4ea90523a\",\"type\":\"BasicTickFormatter\"},\"plot\":{\"id\":\"a38404da-665f-485a-bb36-1c73f7d19eda\",\"subtype\":\"Figure\",\"type\":\"Plot\"},\"ticker\":{\"id\":\"230cc878-aaa4-49af-adea-0f3f314f799d\",\"type\":\"BasicTicker\"}},\"id\":\"8046abb6-b93b-4545-8f76-6d899e33c275\",\"type\":\"LinearAxis\"},{\"attributes\":{},\"id\":\"81015f99-fc28-4496-8d02-8fb14724d424\",\"type\":\"BasicTickFormatter\"},{\"attributes\":{\"callback\":null,\"column_names\":[\"y\",\"x\"],\"data\":{\"x\":[0,1,2,3,4,5,6,7,8,9,10],\"y\":[10,9,8,7,6,5,4,3,2,1,0]}},\"id\":\"0f81b62a-b4af-4a30-b549-6e684420ddd8\",\"type\":\"ColumnDataSource\"},{\"attributes\":{\"active_drag\":\"auto\",\"active_scroll\":\"auto\",\"active_tap\":\"auto\",\"tools\":[{\"id\":\"6e2c28b8-e501-47a5-834e-2a61d8cf101a\",\"type\":\"PanTool\"},{\"id\":\"3105e8f3-bc62-4f78-a992-20fba6728009\",\"type\":\"WheelZoomTool\"}]},\"id\":\"5a58b90d-0f6f-423a-9559-20953aa226a3\",\"type\":\"Toolbar\"},{\"attributes\":{\"fill_alpha\":{\"value\":0.1},\"fill_color\":{\"value\":\"#1f77b4\"},\"line_alpha\":{\"value\":0.1},\"line_color\":{\"value\":\"#1f77b4\"},\"size\":{\"units\":\"screen\",\"value\":10},\"x\":{\"field\":\"x\"},\"y\":{\"field\":\"y\"}},\"id\":\"b9e7ed2d-2a13-4f36-a2f0-15c190944f30\",\"type\":\"Square\"},{\"attributes\":{\"plot\":{\"id\":\"390f328b-c8e8-4ab8-bb15-8e02379d2a85\",\"subtype\":\"Figure\",\"type\":\"Plot\"},\"ticker\":{\"id\":\"35f1cca9-e814-4690-b33e-3afd5facf661\",\"type\":\"BasicTicker\"}},\"id\":\"3dd10c85-7a23-46c3-a9d2-19c76f9327fe\",\"type\":\"Grid\"},{\"attributes\":{},\"id\":\"e87477e0-7852-4364-8055-75de7f522929\",\"type\":\"BasicTicker\"},{\"attributes\":{\"dimension\":1,\"plot\":{\"id\":\"318ddbe0-3863-4df4-9b82-5244a68df4a4\",\"subtype\":\"Figure\",\"type\":\"Plot\"},\"ticker\":{\"id\":\"8c9b38cb-e2e1-4962-ae9e-08e1780ecad1\",\"type\":\"BasicTicker\"}},\"id\":\"7676b142-6b8e-481d-8b4b-496f26d5e974\",\"type\":\"Grid\"},{\"attributes\":{\"data_source\":{\"id\":\"6724711a-dd9f-4cbd-b186-7e71f7c2cbf4\",\"type\":\"ColumnDataSource\"},\"glyph\":{\"id\":\"380228ce-79ba-4727-8eb0-db2d71f6b87a\",\"type\":\"Circle\"},\"hover_glyph\":null,\"nonselection_glyph\":{\"id\":\"e4e0ad93-246a-45aa-a26a-7d0c9bdc1f58\",\"type\":\"Circle\"},\"selection_glyph\":null},\"id\":\"02a57588-7a16-41c5-9836-4aa63117b438\",\"type\":\"GlyphRenderer\"},{\"attributes\":{\"fill_color\":{\"value\":\"navy\"},\"line_color\":{\"value\":\"navy\"},\"size\":{\"units\":\"screen\",\"value\":10},\"x\":{\"field\":\"x\"},\"y\":{\"field\":\"y\"}},\"id\":\"380228ce-79ba-4727-8eb0-db2d71f6b87a\",\"type\":\"Circle\"},{\"attributes\":{},\"id\":\"230cc878-aaa4-49af-adea-0f3f314f799d\",\"type\":\"BasicTicker\"},{\"attributes\":{\"plot\":{\"id\":\"a38404da-665f-485a-bb36-1c73f7d19eda\",\"subtype\":\"Figure\",\"type\":\"Plot\"},\"ticker\":{\"id\":\"e87477e0-7852-4364-8055-75de7f522929\",\"type\":\"BasicTicker\"}},\"id\":\"fb7c49cd-1fd0-473f-a5f0-8499cd4b6c7a\",\"type\":\"Grid\"},{\"attributes\":{\"formatter\":{\"id\":\"51136362-1967-4833-88f3-b33b69659d38\",\"type\":\"BasicTickFormatter\"},\"plot\":{\"id\":\"318ddbe0-3863-4df4-9b82-5244a68df4a4\",\"subtype\":\"Figure\",\"type\":\"Plot\"},\"ticker\":{\"id\":\"b044a2e7-35ae-46dd-bbd5-57353fb7cf63\",\"type\":\"BasicTicker\"}},\"id\":\"55796f7f-b79e-45ee-b669-2b82ad12ba07\",\"type\":\"LinearAxis\"},{\"attributes\":{\"fill_color\":{\"value\":\"firebrick\"},\"line_color\":{\"value\":\"firebrick\"},\"size\":{\"units\":\"screen\",\"value\":10},\"x\":{\"field\":\"x\"},\"y\":{\"field\":\"y\"}},\"id\":\"b670eb13-07db-473d-8e1d-c41d357cbd3a\",\"type\":\"Triangle\"},{\"attributes\":{\"fill_color\":{\"value\":\"olive\"},\"line_color\":{\"value\":\"olive\"},\"size\":{\"units\":\"screen\",\"value\":10},\"x\":{\"field\":\"x\"},\"y\":{\"field\":\"y\"}},\"id\":\"08873df4-88ee-41e3-bb3f-e058f9185020\",\"type\":\"Square\"},{\"attributes\":{\"callback\":null},\"id\":\"9f35371c-c3ee-41b2-95f0-c5c3c4901993\",\"type\":\"DataRange1d\"},{\"attributes\":{\"callback\":null},\"id\":\"35426c3c-b48f-4556-bd5f-cf20e264f23d\",\"type\":\"DataRange1d\"},{\"attributes\":{\"plot\":null,\"text\":null},\"id\":\"13a06fc0-9109-4bea-886f-978208d8dd06\",\"type\":\"Title\"},{\"attributes\":{\"formatter\":{\"id\":\"c8d59b7b-8573-4a1e-ad0e-a831ee25365d\",\"type\":\"BasicTickFormatter\"},\"plot\":{\"id\":\"318ddbe0-3863-4df4-9b82-5244a68df4a4\",\"subtype\":\"Figure\",\"type\":\"Plot\"},\"ticker\":{\"id\":\"8c9b38cb-e2e1-4962-ae9e-08e1780ecad1\",\"type\":\"BasicTicker\"}},\"id\":\"c53d9b62-a3c3-4a5b-9ae1-e861fb1b9210\",\"type\":\"LinearAxis\"},{\"attributes\":{\"plot\":{\"id\":\"318ddbe0-3863-4df4-9b82-5244a68df4a4\",\"subtype\":\"Figure\",\"type\":\"Plot\"}},\"id\":\"3105e8f3-bc62-4f78-a992-20fba6728009\",\"type\":\"WheelZoomTool\"},{\"attributes\":{\"active_drag\":\"auto\",\"active_scroll\":\"auto\",\"active_tap\":\"auto\",\"tools\":[{\"id\":\"3c51b4b4-81af-4cb2-b134-d033df4328c9\",\"type\":\"PanTool\"},{\"id\":\"ed3a3156-8fa6-43cd-a8a8-bdb42e4bff04\",\"type\":\"WheelZoomTool\"}]},\"id\":\"3b59d7a1-f8e0-47a9-9468-25e1069c057b\",\"type\":\"Toolbar\"},{\"attributes\":{\"data_source\":{\"id\":\"fe9b91e4-759d-4ea8-8b34-ee2a734d52bf\",\"type\":\"ColumnDataSource\"},\"glyph\":{\"id\":\"08873df4-88ee-41e3-bb3f-e058f9185020\",\"type\":\"Square\"},\"hover_glyph\":null,\"nonselection_glyph\":{\"id\":\"b9e7ed2d-2a13-4f36-a2f0-15c190944f30\",\"type\":\"Square\"},\"selection_glyph\":null},\"id\":\"70f473f7-bc09-4659-8134-05686805e3d1\",\"type\":\"GlyphRenderer\"},{\"attributes\":{\"plot\":null,\"text\":null},\"id\":\"8c9d7749-3945-496b-8ed8-91e0e42cc42a\",\"type\":\"Title\"},{\"attributes\":{},\"id\":\"c8d59b7b-8573-4a1e-ad0e-a831ee25365d\",\"type\":\"BasicTickFormatter\"},{\"attributes\":{},\"id\":\"35f1cca9-e814-4690-b33e-3afd5facf661\",\"type\":\"BasicTicker\"},{\"attributes\":{},\"id\":\"453039c1-9dd9-4d32-aa1b-8d71be5499dd\",\"type\":\"BasicTicker\"},{\"attributes\":{\"plot\":{\"id\":\"390f328b-c8e8-4ab8-bb15-8e02379d2a85\",\"subtype\":\"Figure\",\"type\":\"Plot\"}},\"id\":\"e956fda0-9c2f-4257-9092-610d8df1baf4\",\"type\":\"WheelZoomTool\"},{\"attributes\":{\"plot\":{\"id\":\"a38404da-665f-485a-bb36-1c73f7d19eda\",\"subtype\":\"Figure\",\"type\":\"Plot\"}},\"id\":\"3c51b4b4-81af-4cb2-b134-d033df4328c9\",\"type\":\"PanTool\"},{\"attributes\":{\"formatter\":{\"id\":\"81015f99-fc28-4496-8d02-8fb14724d424\",\"type\":\"BasicTickFormatter\"},\"plot\":{\"id\":\"390f328b-c8e8-4ab8-bb15-8e02379d2a85\",\"subtype\":\"Figure\",\"type\":\"Plot\"},\"ticker\":{\"id\":\"35f1cca9-e814-4690-b33e-3afd5facf661\",\"type\":\"BasicTicker\"}},\"id\":\"7f042aa2-2f39-4ea7-9e90-4f9671c84139\",\"type\":\"LinearAxis\"},{\"attributes\":{},\"id\":\"8c9b38cb-e2e1-4962-ae9e-08e1780ecad1\",\"type\":\"BasicTicker\"},{\"attributes\":{\"below\":[{\"id\":\"7f042aa2-2f39-4ea7-9e90-4f9671c84139\",\"type\":\"LinearAxis\"}],\"left\":[{\"id\":\"3b3db83d-f641-40fc-9b7a-c9034f852a2b\",\"type\":\"LinearAxis\"}],\"plot_height\":250,\"plot_width\":250,\"renderers\":[{\"id\":\"7f042aa2-2f39-4ea7-9e90-4f9671c84139\",\"type\":\"LinearAxis\"},{\"id\":\"3dd10c85-7a23-46c3-a9d2-19c76f9327fe\",\"type\":\"Grid\"},{\"id\":\"3b3db83d-f641-40fc-9b7a-c9034f852a2b\",\"type\":\"LinearAxis\"},{\"id\":\"0fca7e8c-9bdb-4f86-9df7-5946e3e7af95\",\"type\":\"Grid\"},{\"id\":\"02a57588-7a16-41c5-9836-4aa63117b438\",\"type\":\"GlyphRenderer\"}],\"title\":{\"id\":\"13a06fc0-9109-4bea-886f-978208d8dd06\",\"type\":\"Title\"},\"tool_events\":{\"id\":\"27f4cd37-e8bb-4f07-b15f-c1deae474dc7\",\"type\":\"ToolEvents\"},\"toolbar\":{\"id\":\"b6db2cb2-5e39-4807-bc98-2e988018c2c2\",\"type\":\"Toolbar\"},\"toolbar_location\":null,\"x_range\":{\"id\":\"1fe1ec27-b582-4de8-a5a0-5363f05e2cfb\",\"type\":\"DataRange1d\"},\"y_range\":{\"id\":\"9f35371c-c3ee-41b2-95f0-c5c3c4901993\",\"type\":\"DataRange1d\"}},\"id\":\"390f328b-c8e8-4ab8-bb15-8e02379d2a85\",\"subtype\":\"Figure\",\"type\":\"Plot\"},{\"attributes\":{},\"id\":\"616036d2-d8c9-4ea3-ad85-513d96dfc62d\",\"type\":\"BasicTickFormatter\"},{\"attributes\":{\"dimension\":1,\"plot\":{\"id\":\"a38404da-665f-485a-bb36-1c73f7d19eda\",\"subtype\":\"Figure\",\"type\":\"Plot\"},\"ticker\":{\"id\":\"230cc878-aaa4-49af-adea-0f3f314f799d\",\"type\":\"BasicTicker\"}},\"id\":\"526a3866-a9bd-4a7f-959a-eea2e5b8e928\",\"type\":\"Grid\"},{\"attributes\":{\"dimension\":1,\"plot\":{\"id\":\"390f328b-c8e8-4ab8-bb15-8e02379d2a85\",\"subtype\":\"Figure\",\"type\":\"Plot\"},\"ticker\":{\"id\":\"453039c1-9dd9-4d32-aa1b-8d71be5499dd\",\"type\":\"BasicTicker\"}},\"id\":\"0fca7e8c-9bdb-4f86-9df7-5946e3e7af95\",\"type\":\"Grid\"},{\"attributes\":{},\"id\":\"04082197-f08b-4b91-a803-47a9a5bde60e\",\"type\":\"BasicTickFormatter\"},{\"attributes\":{\"below\":[{\"id\":\"55796f7f-b79e-45ee-b669-2b82ad12ba07\",\"type\":\"LinearAxis\"}],\"left\":[{\"id\":\"c53d9b62-a3c3-4a5b-9ae1-e861fb1b9210\",\"type\":\"LinearAxis\"}],\"plot_height\":250,\"plot_width\":250,\"renderers\":[{\"id\":\"55796f7f-b79e-45ee-b669-2b82ad12ba07\",\"type\":\"LinearAxis\"},{\"id\":\"8337712a-8dc2-443b-960e-666e53c87ddf\",\"type\":\"Grid\"},{\"id\":\"c53d9b62-a3c3-4a5b-9ae1-e861fb1b9210\",\"type\":\"LinearAxis\"},{\"id\":\"7676b142-6b8e-481d-8b4b-496f26d5e974\",\"type\":\"Grid\"},{\"id\":\"70f473f7-bc09-4659-8134-05686805e3d1\",\"type\":\"GlyphRenderer\"}],\"title\":{\"id\":\"8c9d7749-3945-496b-8ed8-91e0e42cc42a\",\"type\":\"Title\"},\"tool_events\":{\"id\":\"abb04e75-4988-4c4b-afff-4e542b86175c\",\"type\":\"ToolEvents\"},\"toolbar\":{\"id\":\"5a58b90d-0f6f-423a-9559-20953aa226a3\",\"type\":\"Toolbar\"},\"toolbar_location\":null,\"x_range\":{\"id\":\"1fe1ec27-b582-4de8-a5a0-5363f05e2cfb\",\"type\":\"DataRange1d\"},\"y_range\":{\"id\":\"35426c3c-b48f-4556-bd5f-cf20e264f23d\",\"type\":\"DataRange1d\"}},\"id\":\"318ddbe0-3863-4df4-9b82-5244a68df4a4\",\"subtype\":\"Figure\",\"type\":\"Plot\"},{\"attributes\":{\"fill_alpha\":{\"value\":0.1},\"fill_color\":{\"value\":\"#1f77b4\"},\"line_alpha\":{\"value\":0.1},\"line_color\":{\"value\":\"#1f77b4\"},\"size\":{\"units\":\"screen\",\"value\":10},\"x\":{\"field\":\"x\"},\"y\":{\"field\":\"y\"}},\"id\":\"e4e0ad93-246a-45aa-a26a-7d0c9bdc1f58\",\"type\":\"Circle\"},{\"attributes\":{\"plot\":{\"id\":\"a38404da-665f-485a-bb36-1c73f7d19eda\",\"subtype\":\"Figure\",\"type\":\"Plot\"}},\"id\":\"ed3a3156-8fa6-43cd-a8a8-bdb42e4bff04\",\"type\":\"WheelZoomTool\"},{\"attributes\":{\"callback\":null},\"id\":\"1fe1ec27-b582-4de8-a5a0-5363f05e2cfb\",\"type\":\"DataRange1d\"},{\"attributes\":{\"plot\":{\"id\":\"318ddbe0-3863-4df4-9b82-5244a68df4a4\",\"subtype\":\"Figure\",\"type\":\"Plot\"},\"ticker\":{\"id\":\"b044a2e7-35ae-46dd-bbd5-57353fb7cf63\",\"type\":\"BasicTicker\"}},\"id\":\"8337712a-8dc2-443b-960e-666e53c87ddf\",\"type\":\"Grid\"},{\"attributes\":{\"children\":[{\"id\":\"f6d48815-963d-4f2f-99e8-5726cec73150\",\"type\":\"ToolbarBox\"},{\"id\":\"31ee3731-2783-44d5-b439-a43e9670d0e5\",\"type\":\"Column\"}]},\"id\":\"459fa34f-3747-47fc-a4be-a128de733de1\",\"type\":\"Column\"},{\"attributes\":{},\"id\":\"27f4cd37-e8bb-4f07-b15f-c1deae474dc7\",\"type\":\"ToolEvents\"},{\"attributes\":{\"sizing_mode\":\"scale_width\",\"toolbar_location\":\"above\",\"tools\":[{\"id\":\"7cfec5ca-e404-43e2-b15b-913a05e69aed\",\"type\":\"PanTool\"},{\"id\":\"e956fda0-9c2f-4257-9092-610d8df1baf4\",\"type\":\"WheelZoomTool\"},{\"id\":\"3c51b4b4-81af-4cb2-b134-d033df4328c9\",\"type\":\"PanTool\"},{\"id\":\"ed3a3156-8fa6-43cd-a8a8-bdb42e4bff04\",\"type\":\"WheelZoomTool\"},{\"id\":\"6e2c28b8-e501-47a5-834e-2a61d8cf101a\",\"type\":\"PanTool\"},{\"id\":\"3105e8f3-bc62-4f78-a992-20fba6728009\",\"type\":\"WheelZoomTool\"}]},\"id\":\"f6d48815-963d-4f2f-99e8-5726cec73150\",\"type\":\"ToolbarBox\"},{\"attributes\":{\"plot\":null,\"text\":null},\"id\":\"9d061ad3-d797-4875-93cc-6f863b1a6987\",\"type\":\"Title\"},{\"attributes\":{\"children\":[{\"id\":\"390f328b-c8e8-4ab8-bb15-8e02379d2a85\",\"subtype\":\"Figure\",\"type\":\"Plot\"},{\"id\":\"a38404da-665f-485a-bb36-1c73f7d19eda\",\"subtype\":\"Figure\",\"type\":\"Plot\"},{\"id\":\"318ddbe0-3863-4df4-9b82-5244a68df4a4\",\"subtype\":\"Figure\",\"type\":\"Plot\"}]},\"id\":\"89fddfc0-90a4-4863-a3f0-48679f7e2a81\",\"type\":\"Row\"},{\"attributes\":{\"active_drag\":\"auto\",\"active_scroll\":\"auto\",\"active_tap\":\"auto\",\"tools\":[{\"id\":\"7cfec5ca-e404-43e2-b15b-913a05e69aed\",\"type\":\"PanTool\"},{\"id\":\"e956fda0-9c2f-4257-9092-610d8df1baf4\",\"type\":\"WheelZoomTool\"}]},\"id\":\"b6db2cb2-5e39-4807-bc98-2e988018c2c2\",\"type\":\"Toolbar\"},{\"attributes\":{},\"id\":\"abb04e75-4988-4c4b-afff-4e542b86175c\",\"type\":\"ToolEvents\"},{\"attributes\":{},\"id\":\"51136362-1967-4833-88f3-b33b69659d38\",\"type\":\"BasicTickFormatter\"}],\"root_ids\":[\"459fa34f-3747-47fc-a4be-a128de733de1\"]},\"title\":\"Bokeh Application\",\"version\":\"0.12.1\"}};\n",
       "            var render_items = [{\"docid\":\"ec5f825f-8977-48f9-9925-802ab72a5982\",\"elementid\":\"1340d8e8-335b-471b-bd3d-3b5205f440e9\",\"modelid\":\"459fa34f-3747-47fc-a4be-a128de733de1\",\"notebook_comms_target\":\"c8a0d5ec-839b-4e80-a058-ad344175c542\"}];\n",
       "            \n",
       "            Bokeh.embed.embed_items(docs_json, render_items);\n",
       "        });\n",
       "      },\n",
       "      function(Bokeh) {\n",
       "      }\n",
       "    ];\n",
       "  \n",
       "    function run_inline_js() {\n",
       "      for (var i = 0; i < inline_js.length; i++) {\n",
       "        inline_js[i](window.Bokeh);\n",
       "      }\n",
       "    }\n",
       "  \n",
       "    if (window._bokeh_is_loading === 0) {\n",
       "      console.log(\"Bokeh: BokehJS loaded, going straight to plotting\");\n",
       "      run_inline_js();\n",
       "    } else {\n",
       "      load_libs(js_urls, function() {\n",
       "        console.log(\"Bokeh: BokehJS plotting callback run at\", now());\n",
       "        run_inline_js();\n",
       "      });\n",
       "    }\n",
       "  }(this));\n",
       "</script>"
      ]
     },
     "metadata": {},
     "output_type": "display_data"
    },
    {
     "data": {
      "text/html": [
       "<p><code>&lt;Bokeh Notebook handle for <strong>In[4]</strong>&gt;</code></p>"
      ],
      "text/plain": [
       "<bokeh.io._CommsHandle at 0x104c78050>"
      ]
     },
     "execution_count": 4,
     "metadata": {},
     "output_type": "execute_result"
    }
   ],
   "source": [
    "plot_options = dict(width=250, plot_height=250, tools='pan,wheel_zoom')\n",
    "\n",
    "# create a new plot\n",
    "s1 = figure(**plot_options)\n",
    "s1.circle(x, y0, size=10, color=\"navy\")\n",
    "\n",
    "# create a new plot and share both ranges\n",
    "s2 = figure(x_range=s1.x_range, y_range=s1.y_range, **plot_options)\n",
    "s2.triangle(x, y1, size=10, color=\"firebrick\")\n",
    "\n",
    "# create a new plot and share only one range\n",
    "s3 = figure(x_range=s1.x_range, **plot_options)\n",
    "s3.square(x, y2, size=10, color=\"olive\")\n",
    "\n",
    "p = gridplot([[s1, s2, s3]])\n",
    "\n",
    "# show the results\n",
    "show(p)"
   ]
  },
  {
   "cell_type": "code",
   "execution_count": 7,
   "metadata": {
    "collapsed": true
   },
   "outputs": [],
   "source": [
    "# EXERCISE: create two plots in a gridplot, and link their ranges\n",
    "\n"
   ]
  },
  {
   "cell_type": "markdown",
   "metadata": {},
   "source": [
    "## Linked brushing\n",
    "\n",
    "Linking selections is accomplished in a similar way, by sharing data sources between plots. Note that normally with ``bokeh.plotting`` and ``bokeh.charts`` creating a default data source for simple plots is handled automatically. However to share a data source, we must create them by hand and pass them explicitly. This is illustrated in the example below:"
   ]
  },
  {
   "cell_type": "code",
   "execution_count": 5,
   "metadata": {
    "collapsed": false
   },
   "outputs": [
    {
     "data": {
      "text/html": [
       "\n",
       "\n",
       "    <div class=\"bk-root\">\n",
       "        <div class=\"plotdiv\" id=\"2bbc8615-f1c0-4f6e-a383-aaa304806425\"></div>\n",
       "    </div>\n",
       "<script type=\"text/javascript\">\n",
       "  \n",
       "  (function(global) {\n",
       "    function now() {\n",
       "      return new Date();\n",
       "    }\n",
       "  \n",
       "    var force = \"\";\n",
       "  \n",
       "    if (typeof (window._bokeh_onload_callbacks) === \"undefined\" || force !== \"\") {\n",
       "      window._bokeh_onload_callbacks = [];\n",
       "      window._bokeh_is_loading = undefined;\n",
       "    }\n",
       "  \n",
       "    function run_callbacks() {\n",
       "      window._bokeh_onload_callbacks.forEach(function(callback) { callback() });\n",
       "      delete window._bokeh_onload_callbacks\n",
       "      console.info(\"Bokeh: all callbacks have finished\");\n",
       "    }\n",
       "  \n",
       "    function load_libs(js_urls, callback) {\n",
       "      window._bokeh_onload_callbacks.push(callback);\n",
       "      if (window._bokeh_is_loading > 0) {\n",
       "        console.log(\"Bokeh: BokehJS is being loaded, scheduling callback at\", now());\n",
       "        return null;\n",
       "      }\n",
       "      if (js_urls == null || js_urls.length === 0) {\n",
       "        run_callbacks();\n",
       "        return null;\n",
       "      }\n",
       "      console.log(\"Bokeh: BokehJS not loaded, scheduling load and callback at\", now());\n",
       "      window._bokeh_is_loading = js_urls.length;\n",
       "      for (var i = 0; i < js_urls.length; i++) {\n",
       "        var url = js_urls[i];\n",
       "        var s = document.createElement('script');\n",
       "        s.src = url;\n",
       "        s.async = false;\n",
       "        s.onreadystatechange = s.onload = function() {\n",
       "          window._bokeh_is_loading--;\n",
       "          if (window._bokeh_is_loading === 0) {\n",
       "            console.log(\"Bokeh: all BokehJS libraries loaded\");\n",
       "            run_callbacks()\n",
       "          }\n",
       "        };\n",
       "        s.onerror = function() {\n",
       "          console.warn(\"failed to load library \" + url);\n",
       "        };\n",
       "        console.log(\"Bokeh: injecting script tag for BokehJS library: \", url);\n",
       "        document.getElementsByTagName(\"head\")[0].appendChild(s);\n",
       "      }\n",
       "    };var element = document.getElementById(\"2bbc8615-f1c0-4f6e-a383-aaa304806425\");\n",
       "    if (element == null) {\n",
       "      console.log(\"Bokeh: ERROR: autoload.js configured with elementid '2bbc8615-f1c0-4f6e-a383-aaa304806425' but no matching script tag was found. \")\n",
       "      return false;\n",
       "    }\n",
       "  \n",
       "    var js_urls = [];\n",
       "  \n",
       "    var inline_js = [\n",
       "      function(Bokeh) {\n",
       "        Bokeh.$(function() {\n",
       "            var docs_json = {\"9a1dcaf3-9767-42df-8354-d378515b0ba3\":{\"roots\":{\"references\":[{\"attributes\":{},\"id\":\"1a544497-4b15-47aa-a812-1c8b16ec4d71\",\"type\":\"BasicTicker\"},{\"attributes\":{\"callback\":null,\"overlay\":{\"id\":\"fdc1873d-606f-4e01-bb47-e6c1c1ca651a\",\"type\":\"BoxAnnotation\"},\"plot\":{\"id\":\"d1a05aed-0969-4ab1-b122-527854bd40ba\",\"subtype\":\"Figure\",\"type\":\"Plot\"},\"renderers\":[{\"id\":\"226ca134-34b8-431d-a941-7f58accb6aba\",\"type\":\"GlyphRenderer\"}]},\"id\":\"748b05f2-9898-4416-9912-be5daa456f2f\",\"type\":\"BoxSelectTool\"},{\"attributes\":{\"bottom_units\":\"screen\",\"fill_alpha\":{\"value\":0.5},\"fill_color\":{\"value\":\"lightgrey\"},\"left_units\":\"screen\",\"level\":\"overlay\",\"line_alpha\":{\"value\":1.0},\"line_color\":{\"value\":\"black\"},\"line_dash\":[4,4],\"line_width\":{\"value\":2},\"plot\":null,\"render_mode\":\"css\",\"right_units\":\"screen\",\"top_units\":\"screen\"},\"id\":\"4f39f149-046b-4c83-bcf9-ab05d537baef\",\"type\":\"BoxAnnotation\"},{\"attributes\":{},\"id\":\"734ee7b7-a65d-4ee8-9d96-6b85da242b47\",\"type\":\"BasicTickFormatter\"},{\"attributes\":{\"below\":[{\"id\":\"2e61dbce-8366-4258-87b5-e1d51fb8e9eb\",\"type\":\"LinearAxis\"}],\"left\":[{\"id\":\"ac27b229-1ee0-4c3f-a5f9-0163c85adec7\",\"type\":\"LinearAxis\"}],\"plot_height\":300,\"plot_width\":300,\"renderers\":[{\"id\":\"2e61dbce-8366-4258-87b5-e1d51fb8e9eb\",\"type\":\"LinearAxis\"},{\"id\":\"0ec803ad-ce3c-4990-8580-c75860add310\",\"type\":\"Grid\"},{\"id\":\"ac27b229-1ee0-4c3f-a5f9-0163c85adec7\",\"type\":\"LinearAxis\"},{\"id\":\"1a47b241-80bc-4047-969e-0bcca55db3b6\",\"type\":\"Grid\"},{\"id\":\"fdc1873d-606f-4e01-bb47-e6c1c1ca651a\",\"type\":\"BoxAnnotation\"},{\"id\":\"d4bc3cb4-6fdd-4f69-82b8-f01ac2528dce\",\"type\":\"PolyAnnotation\"},{\"id\":\"226ca134-34b8-431d-a941-7f58accb6aba\",\"type\":\"GlyphRenderer\"}],\"title\":{\"id\":\"b9c5d50e-bddc-4406-94c7-e06d2566c6af\",\"type\":\"Title\"},\"tool_events\":{\"id\":\"c1ffe9ff-c932-4077-8e28-2c7d4cda47b4\",\"type\":\"ToolEvents\"},\"toolbar\":{\"id\":\"7d80e095-45d3-40d8-8ddb-f6cb2dba74e8\",\"type\":\"Toolbar\"},\"toolbar_location\":null,\"x_range\":{\"id\":\"f3c23cbc-5f2b-4eb0-a00b-0bd371b65707\",\"type\":\"DataRange1d\"},\"y_range\":{\"id\":\"e0c0d4a6-f597-4fb7-9047-c8760ffe7e35\",\"type\":\"DataRange1d\"}},\"id\":\"d1a05aed-0969-4ab1-b122-527854bd40ba\",\"subtype\":\"Figure\",\"type\":\"Plot\"},{\"attributes\":{},\"id\":\"359822c6-81a5-4ffc-9d85-d3e11ddb2326\",\"type\":\"BasicTicker\"},{\"attributes\":{\"callback\":null},\"id\":\"e0c0d4a6-f597-4fb7-9047-c8760ffe7e35\",\"type\":\"DataRange1d\"},{\"attributes\":{\"dimension\":1,\"plot\":{\"id\":\"d1a05aed-0969-4ab1-b122-527854bd40ba\",\"subtype\":\"Figure\",\"type\":\"Plot\"},\"ticker\":{\"id\":\"17462d8f-fff6-4e32-bea4-0f0d84170cfd\",\"type\":\"BasicTicker\"}},\"id\":\"1a47b241-80bc-4047-969e-0bcca55db3b6\",\"type\":\"Grid\"},{\"attributes\":{\"data_source\":{\"id\":\"f7b88b3a-c7ac-4bca-9da6-f839f11e905f\",\"type\":\"ColumnDataSource\"},\"glyph\":{\"id\":\"cccebb4e-6ea1-4ea1-8c84-6b4716f45fd6\",\"type\":\"Circle\"},\"hover_glyph\":null,\"nonselection_glyph\":{\"id\":\"86d7f6b4-2349-40ee-b8c6-19986044d3c7\",\"type\":\"Circle\"},\"selection_glyph\":null},\"id\":\"a4b3517c-7d28-4f93-b81c-d539fc0e1930\",\"type\":\"GlyphRenderer\"},{\"attributes\":{\"active_drag\":\"auto\",\"active_scroll\":\"auto\",\"active_tap\":\"auto\",\"tools\":[{\"id\":\"36f0f454-52f8-4fea-851e-99ad39c1deac\",\"type\":\"BoxSelectTool\"},{\"id\":\"6da96bd1-5c4c-434c-bc17-14e6998fc2e8\",\"type\":\"LassoSelectTool\"},{\"id\":\"5998369d-4ee7-4724-9feb-4a8db6dc983c\",\"type\":\"HelpTool\"}]},\"id\":\"a08bb686-907d-45ae-8ab2-beaa0e43103f\",\"type\":\"Toolbar\"},{\"attributes\":{\"bottom_units\":\"screen\",\"fill_alpha\":{\"value\":0.5},\"fill_color\":{\"value\":\"lightgrey\"},\"left_units\":\"screen\",\"level\":\"overlay\",\"line_alpha\":{\"value\":1.0},\"line_color\":{\"value\":\"black\"},\"line_dash\":[4,4],\"line_width\":{\"value\":2},\"plot\":null,\"render_mode\":\"css\",\"right_units\":\"screen\",\"top_units\":\"screen\"},\"id\":\"fdc1873d-606f-4e01-bb47-e6c1c1ca651a\",\"type\":\"BoxAnnotation\"},{\"attributes\":{\"formatter\":{\"id\":\"734ee7b7-a65d-4ee8-9d96-6b85da242b47\",\"type\":\"BasicTickFormatter\"},\"plot\":{\"id\":\"051424b9-2b6c-4986-947f-58e62a2fbdb8\",\"subtype\":\"Figure\",\"type\":\"Plot\"},\"ticker\":{\"id\":\"1a544497-4b15-47aa-a812-1c8b16ec4d71\",\"type\":\"BasicTicker\"}},\"id\":\"e985611f-fad3-4e12-bf1d-f2351f702741\",\"type\":\"LinearAxis\"},{\"attributes\":{},\"id\":\"bb880f71-3855-4513-9a55-3299d9e74182\",\"type\":\"BasicTicker\"},{\"attributes\":{\"fill_color\":{\"value\":\"#1f77b4\"},\"line_color\":{\"value\":\"#1f77b4\"},\"x\":{\"field\":\"x\"},\"y\":{\"field\":\"y1\"}},\"id\":\"cccebb4e-6ea1-4ea1-8c84-6b4716f45fd6\",\"type\":\"Circle\"},{\"attributes\":{},\"id\":\"17462d8f-fff6-4e32-bea4-0f0d84170cfd\",\"type\":\"BasicTicker\"},{\"attributes\":{},\"id\":\"7517c063-2c31-45a5-bb31-faad83aaea9a\",\"type\":\"BasicTickFormatter\"},{\"attributes\":{\"below\":[{\"id\":\"1816654b-1686-4dc6-9aa9-2bec1ca96a78\",\"type\":\"LinearAxis\"}],\"left\":[{\"id\":\"e985611f-fad3-4e12-bf1d-f2351f702741\",\"type\":\"LinearAxis\"}],\"plot_height\":300,\"plot_width\":300,\"renderers\":[{\"id\":\"1816654b-1686-4dc6-9aa9-2bec1ca96a78\",\"type\":\"LinearAxis\"},{\"id\":\"655c025e-a508-46d7-b2d1-0618c7f00605\",\"type\":\"Grid\"},{\"id\":\"e985611f-fad3-4e12-bf1d-f2351f702741\",\"type\":\"LinearAxis\"},{\"id\":\"b677c3ce-1985-4ead-9e08-6a865c0d5496\",\"type\":\"Grid\"},{\"id\":\"4f39f149-046b-4c83-bcf9-ab05d537baef\",\"type\":\"BoxAnnotation\"},{\"id\":\"e1267df0-7a12-4e52-a0ce-80e19ccbd4f0\",\"type\":\"PolyAnnotation\"},{\"id\":\"a4b3517c-7d28-4f93-b81c-d539fc0e1930\",\"type\":\"GlyphRenderer\"}],\"title\":{\"id\":\"13a87cc6-c14c-4779-8fb5-0f217753c1a8\",\"type\":\"Title\"},\"tool_events\":{\"id\":\"42b8f689-641c-4ea3-93fa-7cba595d72e9\",\"type\":\"ToolEvents\"},\"toolbar\":{\"id\":\"a08bb686-907d-45ae-8ab2-beaa0e43103f\",\"type\":\"Toolbar\"},\"toolbar_location\":null,\"x_range\":{\"id\":\"a5686b97-dd1a-4e48-8bde-096ae43095bf\",\"type\":\"DataRange1d\"},\"y_range\":{\"id\":\"f27b331e-8768-4f26-8d3b-a1c79971bca5\",\"type\":\"DataRange1d\"}},\"id\":\"051424b9-2b6c-4986-947f-58e62a2fbdb8\",\"subtype\":\"Figure\",\"type\":\"Plot\"},{\"attributes\":{},\"id\":\"3e856268-59b0-4c01-92f2-86371d256696\",\"type\":\"BasicTickFormatter\"},{\"attributes\":{\"callback\":null,\"overlay\":{\"id\":\"e1267df0-7a12-4e52-a0ce-80e19ccbd4f0\",\"type\":\"PolyAnnotation\"},\"plot\":{\"id\":\"051424b9-2b6c-4986-947f-58e62a2fbdb8\",\"subtype\":\"Figure\",\"type\":\"Plot\"}},\"id\":\"6da96bd1-5c4c-434c-bc17-14e6998fc2e8\",\"type\":\"LassoSelectTool\"},{\"attributes\":{\"data_source\":{\"id\":\"f7b88b3a-c7ac-4bca-9da6-f839f11e905f\",\"type\":\"ColumnDataSource\"},\"glyph\":{\"id\":\"8b583d1a-7d23-4120-ad31-1f5b06a78925\",\"type\":\"Circle\"},\"hover_glyph\":null,\"nonselection_glyph\":{\"id\":\"7601b529-5cc8-4617-bebc-7354e059f3f8\",\"type\":\"Circle\"},\"selection_glyph\":null},\"id\":\"226ca134-34b8-431d-a941-7f58accb6aba\",\"type\":\"GlyphRenderer\"},{\"attributes\":{\"formatter\":{\"id\":\"3e856268-59b0-4c01-92f2-86371d256696\",\"type\":\"BasicTickFormatter\"},\"plot\":{\"id\":\"d1a05aed-0969-4ab1-b122-527854bd40ba\",\"subtype\":\"Figure\",\"type\":\"Plot\"},\"ticker\":{\"id\":\"17462d8f-fff6-4e32-bea4-0f0d84170cfd\",\"type\":\"BasicTicker\"}},\"id\":\"ac27b229-1ee0-4c3f-a5f9-0163c85adec7\",\"type\":\"LinearAxis\"},{\"attributes\":{\"fill_alpha\":{\"value\":0.5},\"fill_color\":{\"value\":\"lightgrey\"},\"level\":\"overlay\",\"line_alpha\":{\"value\":1.0},\"line_color\":{\"value\":\"black\"},\"line_dash\":[4,4],\"line_width\":{\"value\":2},\"plot\":null,\"xs_units\":\"screen\",\"ys_units\":\"screen\"},\"id\":\"d4bc3cb4-6fdd-4f69-82b8-f01ac2528dce\",\"type\":\"PolyAnnotation\"},{\"attributes\":{},\"id\":\"c1ffe9ff-c932-4077-8e28-2c7d4cda47b4\",\"type\":\"ToolEvents\"},{\"attributes\":{\"dimension\":1,\"plot\":{\"id\":\"051424b9-2b6c-4986-947f-58e62a2fbdb8\",\"subtype\":\"Figure\",\"type\":\"Plot\"},\"ticker\":{\"id\":\"1a544497-4b15-47aa-a812-1c8b16ec4d71\",\"type\":\"BasicTicker\"}},\"id\":\"b677c3ce-1985-4ead-9e08-6a865c0d5496\",\"type\":\"Grid\"},{\"attributes\":{\"formatter\":{\"id\":\"dbca7fbe-7c57-4ec6-9fa4-50f065a75d39\",\"type\":\"BasicTickFormatter\"},\"plot\":{\"id\":\"051424b9-2b6c-4986-947f-58e62a2fbdb8\",\"subtype\":\"Figure\",\"type\":\"Plot\"},\"ticker\":{\"id\":\"359822c6-81a5-4ffc-9d85-d3e11ddb2326\",\"type\":\"BasicTicker\"}},\"id\":\"1816654b-1686-4dc6-9aa9-2bec1ca96a78\",\"type\":\"LinearAxis\"},{\"attributes\":{\"callback\":null},\"id\":\"f3c23cbc-5f2b-4eb0-a00b-0bd371b65707\",\"type\":\"DataRange1d\"},{\"attributes\":{\"children\":[{\"id\":\"67a622b4-4e07-46fd-aad1-0c91a453a8d0\",\"type\":\"Row\"}]},\"id\":\"f7eac5ca-f9bd-4c5c-baef-c8d2bdac8363\",\"type\":\"Column\"},{\"attributes\":{\"plot\":{\"id\":\"d1a05aed-0969-4ab1-b122-527854bd40ba\",\"subtype\":\"Figure\",\"type\":\"Plot\"},\"ticker\":{\"id\":\"bb880f71-3855-4513-9a55-3299d9e74182\",\"type\":\"BasicTicker\"}},\"id\":\"0ec803ad-ce3c-4990-8580-c75860add310\",\"type\":\"Grid\"},{\"attributes\":{\"plot\":{\"id\":\"051424b9-2b6c-4986-947f-58e62a2fbdb8\",\"subtype\":\"Figure\",\"type\":\"Plot\"}},\"id\":\"5998369d-4ee7-4724-9feb-4a8db6dc983c\",\"type\":\"HelpTool\"},{\"attributes\":{\"plot\":null,\"text\":null},\"id\":\"b9c5d50e-bddc-4406-94c7-e06d2566c6af\",\"type\":\"Title\"},{\"attributes\":{\"plot\":{\"id\":\"d1a05aed-0969-4ab1-b122-527854bd40ba\",\"subtype\":\"Figure\",\"type\":\"Plot\"}},\"id\":\"ec801da8-ffcf-4fa4-8ed2-5b040906229f\",\"type\":\"HelpTool\"},{\"attributes\":{\"formatter\":{\"id\":\"7517c063-2c31-45a5-bb31-faad83aaea9a\",\"type\":\"BasicTickFormatter\"},\"plot\":{\"id\":\"d1a05aed-0969-4ab1-b122-527854bd40ba\",\"subtype\":\"Figure\",\"type\":\"Plot\"},\"ticker\":{\"id\":\"bb880f71-3855-4513-9a55-3299d9e74182\",\"type\":\"BasicTicker\"}},\"id\":\"2e61dbce-8366-4258-87b5-e1d51fb8e9eb\",\"type\":\"LinearAxis\"},{\"attributes\":{\"fill_alpha\":{\"value\":0.5},\"fill_color\":{\"value\":\"lightgrey\"},\"level\":\"overlay\",\"line_alpha\":{\"value\":1.0},\"line_color\":{\"value\":\"black\"},\"line_dash\":[4,4],\"line_width\":{\"value\":2},\"plot\":null,\"xs_units\":\"screen\",\"ys_units\":\"screen\"},\"id\":\"e1267df0-7a12-4e52-a0ce-80e19ccbd4f0\",\"type\":\"PolyAnnotation\"},{\"attributes\":{\"callback\":null,\"overlay\":{\"id\":\"d4bc3cb4-6fdd-4f69-82b8-f01ac2528dce\",\"type\":\"PolyAnnotation\"},\"plot\":{\"id\":\"d1a05aed-0969-4ab1-b122-527854bd40ba\",\"subtype\":\"Figure\",\"type\":\"Plot\"}},\"id\":\"dafd93f0-c856-482c-b25c-5050e8a078c7\",\"type\":\"LassoSelectTool\"},{\"attributes\":{\"children\":[{\"id\":\"f809c4d3-dd47-483e-9bd9-31a0ecebc014\",\"type\":\"ToolbarBox\"},{\"id\":\"f7eac5ca-f9bd-4c5c-baef-c8d2bdac8363\",\"type\":\"Column\"}]},\"id\":\"6f3d39fc-d816-4493-aece-aa6d2d03a386\",\"type\":\"Column\"},{\"attributes\":{\"callback\":null,\"column_names\":[\"y1\",\"y0\",\"x\"],\"data\":{\"x\":[-20,-19,-18,-17,-16,-15,-14,-13,-12,-11,-10,-9,-8,-7,-6,-5,-4,-3,-2,-1,0,1,2,3,4,5,6,7,8,9,10,11,12,13,14,15,16,17,18,19,20],\"y0\":[20,19,18,17,16,15,14,13,12,11,10,9,8,7,6,5,4,3,2,1,0,1,2,3,4,5,6,7,8,9,10,11,12,13,14,15,16,17,18,19,20],\"y1\":[400,361,324,289,256,225,196,169,144,121,100,81,64,49,36,25,16,9,4,1,0,1,4,9,16,25,36,49,64,81,100,121,144,169,196,225,256,289,324,361,400]}},\"id\":\"f7b88b3a-c7ac-4bca-9da6-f839f11e905f\",\"type\":\"ColumnDataSource\"},{\"attributes\":{\"plot\":{\"id\":\"051424b9-2b6c-4986-947f-58e62a2fbdb8\",\"subtype\":\"Figure\",\"type\":\"Plot\"},\"ticker\":{\"id\":\"359822c6-81a5-4ffc-9d85-d3e11ddb2326\",\"type\":\"BasicTicker\"}},\"id\":\"655c025e-a508-46d7-b2d1-0618c7f00605\",\"type\":\"Grid\"},{\"attributes\":{\"plot\":null,\"text\":null},\"id\":\"13a87cc6-c14c-4779-8fb5-0f217753c1a8\",\"type\":\"Title\"},{\"attributes\":{\"fill_alpha\":{\"value\":0.1},\"fill_color\":{\"value\":\"#1f77b4\"},\"line_alpha\":{\"value\":0.1},\"line_color\":{\"value\":\"#1f77b4\"},\"x\":{\"field\":\"x\"},\"y\":{\"field\":\"y1\"}},\"id\":\"86d7f6b4-2349-40ee-b8c6-19986044d3c7\",\"type\":\"Circle\"},{\"attributes\":{\"children\":[{\"id\":\"d1a05aed-0969-4ab1-b122-527854bd40ba\",\"subtype\":\"Figure\",\"type\":\"Plot\"},{\"id\":\"051424b9-2b6c-4986-947f-58e62a2fbdb8\",\"subtype\":\"Figure\",\"type\":\"Plot\"}]},\"id\":\"67a622b4-4e07-46fd-aad1-0c91a453a8d0\",\"type\":\"Row\"},{\"attributes\":{\"callback\":null,\"overlay\":{\"id\":\"4f39f149-046b-4c83-bcf9-ab05d537baef\",\"type\":\"BoxAnnotation\"},\"plot\":{\"id\":\"051424b9-2b6c-4986-947f-58e62a2fbdb8\",\"subtype\":\"Figure\",\"type\":\"Plot\"},\"renderers\":[{\"id\":\"a4b3517c-7d28-4f93-b81c-d539fc0e1930\",\"type\":\"GlyphRenderer\"}]},\"id\":\"36f0f454-52f8-4fea-851e-99ad39c1deac\",\"type\":\"BoxSelectTool\"},{\"attributes\":{\"fill_color\":{\"value\":\"#1f77b4\"},\"line_color\":{\"value\":\"#1f77b4\"},\"x\":{\"field\":\"x\"},\"y\":{\"field\":\"y0\"}},\"id\":\"8b583d1a-7d23-4120-ad31-1f5b06a78925\",\"type\":\"Circle\"},{\"attributes\":{\"callback\":null},\"id\":\"f27b331e-8768-4f26-8d3b-a1c79971bca5\",\"type\":\"DataRange1d\"},{\"attributes\":{},\"id\":\"42b8f689-641c-4ea3-93fa-7cba595d72e9\",\"type\":\"ToolEvents\"},{\"attributes\":{\"active_drag\":\"auto\",\"active_scroll\":\"auto\",\"active_tap\":\"auto\",\"tools\":[{\"id\":\"748b05f2-9898-4416-9912-be5daa456f2f\",\"type\":\"BoxSelectTool\"},{\"id\":\"dafd93f0-c856-482c-b25c-5050e8a078c7\",\"type\":\"LassoSelectTool\"},{\"id\":\"ec801da8-ffcf-4fa4-8ed2-5b040906229f\",\"type\":\"HelpTool\"}]},\"id\":\"7d80e095-45d3-40d8-8ddb-f6cb2dba74e8\",\"type\":\"Toolbar\"},{\"attributes\":{\"sizing_mode\":\"scale_width\",\"toolbar_location\":\"above\",\"tools\":[{\"id\":\"748b05f2-9898-4416-9912-be5daa456f2f\",\"type\":\"BoxSelectTool\"},{\"id\":\"dafd93f0-c856-482c-b25c-5050e8a078c7\",\"type\":\"LassoSelectTool\"},{\"id\":\"ec801da8-ffcf-4fa4-8ed2-5b040906229f\",\"type\":\"HelpTool\"},{\"id\":\"36f0f454-52f8-4fea-851e-99ad39c1deac\",\"type\":\"BoxSelectTool\"},{\"id\":\"6da96bd1-5c4c-434c-bc17-14e6998fc2e8\",\"type\":\"LassoSelectTool\"},{\"id\":\"5998369d-4ee7-4724-9feb-4a8db6dc983c\",\"type\":\"HelpTool\"}]},\"id\":\"f809c4d3-dd47-483e-9bd9-31a0ecebc014\",\"type\":\"ToolbarBox\"},{\"attributes\":{},\"id\":\"dbca7fbe-7c57-4ec6-9fa4-50f065a75d39\",\"type\":\"BasicTickFormatter\"},{\"attributes\":{\"fill_alpha\":{\"value\":0.1},\"fill_color\":{\"value\":\"#1f77b4\"},\"line_alpha\":{\"value\":0.1},\"line_color\":{\"value\":\"#1f77b4\"},\"x\":{\"field\":\"x\"},\"y\":{\"field\":\"y0\"}},\"id\":\"7601b529-5cc8-4617-bebc-7354e059f3f8\",\"type\":\"Circle\"},{\"attributes\":{\"callback\":null},\"id\":\"a5686b97-dd1a-4e48-8bde-096ae43095bf\",\"type\":\"DataRange1d\"}],\"root_ids\":[\"6f3d39fc-d816-4493-aece-aa6d2d03a386\"]},\"title\":\"Bokeh Application\",\"version\":\"0.12.1\"}};\n",
       "            var render_items = [{\"docid\":\"9a1dcaf3-9767-42df-8354-d378515b0ba3\",\"elementid\":\"2bbc8615-f1c0-4f6e-a383-aaa304806425\",\"modelid\":\"6f3d39fc-d816-4493-aece-aa6d2d03a386\",\"notebook_comms_target\":\"b8dad971-cc93-4eae-a832-66f679b836ef\"}];\n",
       "            \n",
       "            Bokeh.embed.embed_items(docs_json, render_items);\n",
       "        });\n",
       "      },\n",
       "      function(Bokeh) {\n",
       "      }\n",
       "    ];\n",
       "  \n",
       "    function run_inline_js() {\n",
       "      for (var i = 0; i < inline_js.length; i++) {\n",
       "        inline_js[i](window.Bokeh);\n",
       "      }\n",
       "    }\n",
       "  \n",
       "    if (window._bokeh_is_loading === 0) {\n",
       "      console.log(\"Bokeh: BokehJS loaded, going straight to plotting\");\n",
       "      run_inline_js();\n",
       "    } else {\n",
       "      load_libs(js_urls, function() {\n",
       "        console.log(\"Bokeh: BokehJS plotting callback run at\", now());\n",
       "        run_inline_js();\n",
       "      });\n",
       "    }\n",
       "  }(this));\n",
       "</script>"
      ]
     },
     "metadata": {},
     "output_type": "display_data"
    },
    {
     "data": {
      "text/html": [
       "<p><code>&lt;Bokeh Notebook handle for <strong>In[5]</strong>&gt;</code></p>"
      ],
      "text/plain": [
       "<bokeh.io._CommsHandle at 0x113579610>"
      ]
     },
     "execution_count": 5,
     "metadata": {},
     "output_type": "execute_result"
    }
   ],
   "source": [
    "from bokeh.models import ColumnDataSource\n",
    "\n",
    "x = list(range(-20, 21))\n",
    "y0, y1 = [abs(xx) for xx in x], [xx**2 for xx in x]\n",
    "\n",
    "# create a column data source for the plots to share\n",
    "source = ColumnDataSource(data=dict(x=x, y0=y0, y1=y1))\n",
    "\n",
    "TOOLS = \"box_select,lasso_select,help\"\n",
    "\n",
    "# create a new plot and add a renderer\n",
    "left = figure(tools=TOOLS, width=300, height=300)\n",
    "left.circle('x', 'y0', source=source)\n",
    "\n",
    "# create another new plot and add a renderer\n",
    "right = figure(tools=TOOLS, width=300, height=300)\n",
    "right.circle('x', 'y1', source=source)\n",
    "\n",
    "p = gridplot([[left, right]])\n",
    "\n",
    "show(p)"
   ]
  },
  {
   "cell_type": "code",
   "execution_count": 9,
   "metadata": {
    "collapsed": true
   },
   "outputs": [],
   "source": [
    "# EXERCISE: create two plots in a gridplot, and link their data sources\n",
    "\n"
   ]
  },
  {
   "cell_type": "markdown",
   "metadata": {},
   "source": [
    "# Hover Tools\n",
    "\n",
    "Bokeh has a Hover Tool that allows additional information to be displayed in a popup whenever the uer howevers over a specific glyph. Basic hover tool configuration amounts to providing a list of ``(name, format)`` tuples. The full details can be found in the User's Guide [here](http://bokeh.pydata.org/en/latest/docs/user_guide/tools.html#hover-tool).\n",
    "\n",
    "The example below shows some basic usage of the Hover tool with a circle glyph, using hover information defined in utils.py:"
   ]
  },
  {
   "cell_type": "code",
   "execution_count": 7,
   "metadata": {
    "collapsed": false
   },
   "outputs": [
    {
     "ename": "ImportError",
     "evalue": "No module named utils",
     "output_type": "error",
     "traceback": [
      "\u001b[0;31m---------------------------------------------------------------------------\u001b[0m",
      "\u001b[0;31mImportError\u001b[0m                               Traceback (most recent call last)",
      "\u001b[0;32m<ipython-input-7-288e9f9df650>\u001b[0m in \u001b[0;36m<module>\u001b[0;34m()\u001b[0m\n\u001b[1;32m     22\u001b[0m \u001b[0;34m\u001b[0m\u001b[0m\n\u001b[1;32m     23\u001b[0m \u001b[0;31m# Also show custom hover\u001b[0m\u001b[0;34m\u001b[0m\u001b[0;34m\u001b[0m\u001b[0m\n\u001b[0;32m---> 24\u001b[0;31m \u001b[0;32mfrom\u001b[0m \u001b[0mutils\u001b[0m \u001b[0;32mimport\u001b[0m \u001b[0mget_custom_hover\u001b[0m\u001b[0;34m\u001b[0m\u001b[0m\n\u001b[0m\u001b[1;32m     25\u001b[0m \u001b[0;34m\u001b[0m\u001b[0m\n\u001b[1;32m     26\u001b[0m \u001b[0mshow\u001b[0m\u001b[0;34m(\u001b[0m\u001b[0mgridplot\u001b[0m\u001b[0;34m(\u001b[0m\u001b[0;34m[\u001b[0m\u001b[0;34m[\u001b[0m\u001b[0mp\u001b[0m\u001b[0;34m,\u001b[0m \u001b[0mget_custom_hover\u001b[0m\u001b[0;34m(\u001b[0m\u001b[0;34m)\u001b[0m\u001b[0;34m]\u001b[0m\u001b[0;34m]\u001b[0m\u001b[0;34m)\u001b[0m\u001b[0;34m)\u001b[0m\u001b[0;34m\u001b[0m\u001b[0m\n",
      "\u001b[0;31mImportError\u001b[0m: No module named utils"
     ]
    }
   ],
   "source": [
    "from bokeh.models import HoverTool\n",
    "\n",
    "source = ColumnDataSource(\n",
    "        data=dict(\n",
    "            x=[1, 2, 3, 4, 5],\n",
    "            y=[2, 5, 8, 2, 7],\n",
    "            desc=['A', 'b', 'C', 'd', 'E'],\n",
    "        )\n",
    "    )\n",
    "\n",
    "hover = HoverTool(\n",
    "        tooltips=[\n",
    "            (\"index\", \"$index\"),\n",
    "            (\"(x,y)\", \"($x, $y)\"),\n",
    "            (\"desc\", \"@desc\"),\n",
    "        ]\n",
    "    )\n",
    "\n",
    "p = figure(plot_width=300, plot_height=300, tools=[hover], title=\"Mouse over the dots\")\n",
    "\n",
    "p.circle('x', 'y', size=20, source=source)\n",
    "\n",
    "# Also show custom hover \n",
    "from utils import get_custom_hover\n",
    "\n",
    "show(gridplot([[p, get_custom_hover()]]))"
   ]
  },
  {
   "cell_type": "markdown",
   "metadata": {},
   "source": [
    "# Jupyter Interactors\n",
    "\n",
    "*** NOTE: The Jupyter widgets below will only work in a live running Jupyter notebook, not is a static saved notebook ***\n",
    "\n",
    "It is possible to use native Jupyter notebook interactors together with Bokeh. In the interactor update function, the ``push_notebook`` function can be used to update a data source or other plot attributes, which will cause the displayed plot to update accordingly. \n",
    "\n",
    "The example below shows a \"trig function\" exporer using IPython interactors:"
   ]
  },
  {
   "cell_type": "code",
   "execution_count": 8,
   "metadata": {
    "collapsed": false
   },
   "outputs": [
    {
     "ename": "TypeError",
     "evalue": "show() got an unexpected keyword argument 'notebook_handle'",
     "output_type": "error",
     "traceback": [
      "\u001b[0;31m---------------------------------------------------------------------------\u001b[0m",
      "\u001b[0;31mTypeError\u001b[0m                                 Traceback (most recent call last)",
      "\u001b[0;32m<ipython-input-8-ba3f5f2f6d76>\u001b[0m in \u001b[0;36m<module>\u001b[0;34m()\u001b[0m\n\u001b[1;32m     17\u001b[0m     \u001b[0mpush_notebook\u001b[0m\u001b[0;34m(\u001b[0m\u001b[0;34m)\u001b[0m\u001b[0;34m\u001b[0m\u001b[0m\n\u001b[1;32m     18\u001b[0m \u001b[0;34m\u001b[0m\u001b[0m\n\u001b[0;32m---> 19\u001b[0;31m \u001b[0mshow\u001b[0m\u001b[0;34m(\u001b[0m\u001b[0mp\u001b[0m\u001b[0;34m,\u001b[0m \u001b[0mnotebook_handle\u001b[0m\u001b[0;34m=\u001b[0m\u001b[0mTrue\u001b[0m\u001b[0;34m)\u001b[0m\u001b[0;34m\u001b[0m\u001b[0m\n\u001b[0m",
      "\u001b[0;31mTypeError\u001b[0m: show() got an unexpected keyword argument 'notebook_handle'"
     ]
    }
   ],
   "source": [
    "import numpy as np\n",
    "from bokeh.io import push_notebook\n",
    "\n",
    "x = np.linspace(0, 2*np.pi, 2000)\n",
    "y = np.sin(x)\n",
    "\n",
    "source = ColumnDataSource(data=dict(x=x, y=y))\n",
    "\n",
    "p = figure(title=\"simple line example\", plot_height=300, plot_width=600, y_range=(-5, 5))\n",
    "p.line(x, y, color=\"#2222aa\", alpha=0.5, line_width=2, source=source, name=\"foo\")\n",
    "\n",
    "def update(f, w=1, A=1, phi=0):\n",
    "    if   f == \"sin\": func = np.sin\n",
    "    elif f == \"cos\": func = np.cos\n",
    "    elif f == \"tan\": func = np.tan\n",
    "    source.data['y'] = A * func(w * x + phi)\n",
    "    push_notebook()\n",
    "    \n",
    "show(p, notebook_handle=True)"
   ]
  },
  {
   "cell_type": "code",
   "execution_count": 9,
   "metadata": {
    "collapsed": false
   },
   "outputs": [],
   "source": [
    "from ipywidgets import interact\n",
    "interact(update, f=[\"sin\", \"cos\", \"tan\"], w=(0,10, 0.1), A=(0,5, 0.1), phi=(0, 10, 0.1))"
   ]
  },
  {
   "cell_type": "markdown",
   "metadata": {},
   "source": [
    "# Widgets"
   ]
  },
  {
   "cell_type": "markdown",
   "metadata": {},
   "source": [
    "Bokeh supports direct integration with a small basic widget set. Thse can be used in conjunction with a Bokeh Server, or with ``CustomJS`` models to add more interactive capability to your documents. You can see a complete list, with example code in the [Adding Widgets](http://bokeh.pydata.org/en/latest/docs/user_guide/interaction.html#adding-widgets) section of the User's Guide. \n",
    "\n",
    "To use the widgets, include them in a layout like you would a plot object:"
   ]
  },
  {
   "cell_type": "code",
   "execution_count": 10,
   "metadata": {
    "collapsed": false
   },
   "outputs": [
    {
     "data": {
      "text/html": [
       "\n",
       "\n",
       "    <div class=\"bk-root\">\n",
       "        <div class=\"plotdiv\" id=\"b5e608c9-223d-4d67-a1ba-e64abb94d897\"></div>\n",
       "    </div>\n",
       "<script type=\"text/javascript\">\n",
       "  \n",
       "  (function(global) {\n",
       "    function now() {\n",
       "      return new Date();\n",
       "    }\n",
       "  \n",
       "    var force = \"\";\n",
       "  \n",
       "    if (typeof (window._bokeh_onload_callbacks) === \"undefined\" || force !== \"\") {\n",
       "      window._bokeh_onload_callbacks = [];\n",
       "      window._bokeh_is_loading = undefined;\n",
       "    }\n",
       "  \n",
       "    function run_callbacks() {\n",
       "      window._bokeh_onload_callbacks.forEach(function(callback) { callback() });\n",
       "      delete window._bokeh_onload_callbacks\n",
       "      console.info(\"Bokeh: all callbacks have finished\");\n",
       "    }\n",
       "  \n",
       "    function load_libs(js_urls, callback) {\n",
       "      window._bokeh_onload_callbacks.push(callback);\n",
       "      if (window._bokeh_is_loading > 0) {\n",
       "        console.log(\"Bokeh: BokehJS is being loaded, scheduling callback at\", now());\n",
       "        return null;\n",
       "      }\n",
       "      if (js_urls == null || js_urls.length === 0) {\n",
       "        run_callbacks();\n",
       "        return null;\n",
       "      }\n",
       "      console.log(\"Bokeh: BokehJS not loaded, scheduling load and callback at\", now());\n",
       "      window._bokeh_is_loading = js_urls.length;\n",
       "      for (var i = 0; i < js_urls.length; i++) {\n",
       "        var url = js_urls[i];\n",
       "        var s = document.createElement('script');\n",
       "        s.src = url;\n",
       "        s.async = false;\n",
       "        s.onreadystatechange = s.onload = function() {\n",
       "          window._bokeh_is_loading--;\n",
       "          if (window._bokeh_is_loading === 0) {\n",
       "            console.log(\"Bokeh: all BokehJS libraries loaded\");\n",
       "            run_callbacks()\n",
       "          }\n",
       "        };\n",
       "        s.onerror = function() {\n",
       "          console.warn(\"failed to load library \" + url);\n",
       "        };\n",
       "        console.log(\"Bokeh: injecting script tag for BokehJS library: \", url);\n",
       "        document.getElementsByTagName(\"head\")[0].appendChild(s);\n",
       "      }\n",
       "    };var element = document.getElementById(\"b5e608c9-223d-4d67-a1ba-e64abb94d897\");\n",
       "    if (element == null) {\n",
       "      console.log(\"Bokeh: ERROR: autoload.js configured with elementid 'b5e608c9-223d-4d67-a1ba-e64abb94d897' but no matching script tag was found. \")\n",
       "      return false;\n",
       "    }\n",
       "  \n",
       "    var js_urls = [];\n",
       "  \n",
       "    var inline_js = [\n",
       "      function(Bokeh) {\n",
       "        Bokeh.$(function() {\n",
       "            var docs_json = {\"2a353a94-0cfc-4b94-aeba-d383d4f4a817\":{\"roots\":{\"references\":[{\"attributes\":{\"children\":[{\"id\":\"d47a1c34-9aa9-4e15-910f-19cea9592dd6\",\"type\":\"Slider\"}]},\"id\":\"1bbae334-463a-46d2-be9c-dbf3cc74a60d\",\"type\":\"WidgetBox\"},{\"attributes\":{\"callback\":null,\"end\":10,\"title\":\"foo\",\"value\":1},\"id\":\"d47a1c34-9aa9-4e15-910f-19cea9592dd6\",\"type\":\"Slider\"}],\"root_ids\":[\"1bbae334-463a-46d2-be9c-dbf3cc74a60d\"]},\"title\":\"Bokeh Application\",\"version\":\"0.12.1\"}};\n",
       "            var render_items = [{\"docid\":\"2a353a94-0cfc-4b94-aeba-d383d4f4a817\",\"elementid\":\"b5e608c9-223d-4d67-a1ba-e64abb94d897\",\"modelid\":\"1bbae334-463a-46d2-be9c-dbf3cc74a60d\",\"notebook_comms_target\":\"60c3be4c-5ddf-40e8-8944-b8f8adf8141e\"}];\n",
       "            \n",
       "            Bokeh.embed.embed_items(docs_json, render_items);\n",
       "        });\n",
       "      },\n",
       "      function(Bokeh) {\n",
       "      }\n",
       "    ];\n",
       "  \n",
       "    function run_inline_js() {\n",
       "      for (var i = 0; i < inline_js.length; i++) {\n",
       "        inline_js[i](window.Bokeh);\n",
       "      }\n",
       "    }\n",
       "  \n",
       "    if (window._bokeh_is_loading === 0) {\n",
       "      console.log(\"Bokeh: BokehJS loaded, going straight to plotting\");\n",
       "      run_inline_js();\n",
       "    } else {\n",
       "      load_libs(js_urls, function() {\n",
       "        console.log(\"Bokeh: BokehJS plotting callback run at\", now());\n",
       "        run_inline_js();\n",
       "      });\n",
       "    }\n",
       "  }(this));\n",
       "</script>"
      ]
     },
     "metadata": {},
     "output_type": "display_data"
    },
    {
     "data": {
      "text/html": [
       "<p><code>&lt;Bokeh Notebook handle for <strong>In[10]</strong>&gt;</code></p>"
      ],
      "text/plain": [
       "<bokeh.io._CommsHandle at 0x11341bdd0>"
      ]
     },
     "execution_count": 10,
     "metadata": {},
     "output_type": "execute_result"
    }
   ],
   "source": [
    "from bokeh.layouts import widgetbox\n",
    "from bokeh.models.widgets import Slider\n",
    "\n",
    "\n",
    "slider = Slider(start=0, end=10, value=1, step=.1, title=\"foo\")\n",
    "\n",
    "show(widgetbox(slider))"
   ]
  },
  {
   "cell_type": "code",
   "execution_count": 14,
   "metadata": {
    "collapsed": false
   },
   "outputs": [],
   "source": [
    "# EXERCISE: create and show a Select widget \n"
   ]
  },
  {
   "cell_type": "markdown",
   "metadata": {},
   "source": [
    "# CustomJS Callbacks"
   ]
  },
  {
   "cell_type": "code",
   "execution_count": 11,
   "metadata": {
    "collapsed": false
   },
   "outputs": [
    {
     "data": {
      "text/html": [
       "\n",
       "\n",
       "    <div class=\"bk-root\">\n",
       "        <div class=\"plotdiv\" id=\"59c83327-09cb-4c08-b10d-ee8f607b7a11\"></div>\n",
       "    </div>\n",
       "<script type=\"text/javascript\">\n",
       "  \n",
       "  (function(global) {\n",
       "    function now() {\n",
       "      return new Date();\n",
       "    }\n",
       "  \n",
       "    var force = \"\";\n",
       "  \n",
       "    if (typeof (window._bokeh_onload_callbacks) === \"undefined\" || force !== \"\") {\n",
       "      window._bokeh_onload_callbacks = [];\n",
       "      window._bokeh_is_loading = undefined;\n",
       "    }\n",
       "  \n",
       "    function run_callbacks() {\n",
       "      window._bokeh_onload_callbacks.forEach(function(callback) { callback() });\n",
       "      delete window._bokeh_onload_callbacks\n",
       "      console.info(\"Bokeh: all callbacks have finished\");\n",
       "    }\n",
       "  \n",
       "    function load_libs(js_urls, callback) {\n",
       "      window._bokeh_onload_callbacks.push(callback);\n",
       "      if (window._bokeh_is_loading > 0) {\n",
       "        console.log(\"Bokeh: BokehJS is being loaded, scheduling callback at\", now());\n",
       "        return null;\n",
       "      }\n",
       "      if (js_urls == null || js_urls.length === 0) {\n",
       "        run_callbacks();\n",
       "        return null;\n",
       "      }\n",
       "      console.log(\"Bokeh: BokehJS not loaded, scheduling load and callback at\", now());\n",
       "      window._bokeh_is_loading = js_urls.length;\n",
       "      for (var i = 0; i < js_urls.length; i++) {\n",
       "        var url = js_urls[i];\n",
       "        var s = document.createElement('script');\n",
       "        s.src = url;\n",
       "        s.async = false;\n",
       "        s.onreadystatechange = s.onload = function() {\n",
       "          window._bokeh_is_loading--;\n",
       "          if (window._bokeh_is_loading === 0) {\n",
       "            console.log(\"Bokeh: all BokehJS libraries loaded\");\n",
       "            run_callbacks()\n",
       "          }\n",
       "        };\n",
       "        s.onerror = function() {\n",
       "          console.warn(\"failed to load library \" + url);\n",
       "        };\n",
       "        console.log(\"Bokeh: injecting script tag for BokehJS library: \", url);\n",
       "        document.getElementsByTagName(\"head\")[0].appendChild(s);\n",
       "      }\n",
       "    };var element = document.getElementById(\"59c83327-09cb-4c08-b10d-ee8f607b7a11\");\n",
       "    if (element == null) {\n",
       "      console.log(\"Bokeh: ERROR: autoload.js configured with elementid '59c83327-09cb-4c08-b10d-ee8f607b7a11' but no matching script tag was found. \")\n",
       "      return false;\n",
       "    }\n",
       "  \n",
       "    var js_urls = [];\n",
       "  \n",
       "    var inline_js = [\n",
       "      function(Bokeh) {\n",
       "        Bokeh.$(function() {\n",
       "            var docs_json = {\"031ad1f5-0059-41ff-9bbe-6f6dab9f40cc\":{\"roots\":{\"references\":[{\"attributes\":{\"active_drag\":\"auto\",\"active_scroll\":\"auto\",\"active_tap\":\"auto\",\"tools\":[{\"id\":\"b5b06747-5ae0-4dce-bec3-de60b991cade\",\"type\":\"TapTool\"}]},\"id\":\"b48f09a0-9ce5-4c08-9dec-32870932cdfa\",\"type\":\"Toolbar\"},{\"attributes\":{\"formatter\":{\"id\":\"024c1847-894c-4aa0-bab3-4dea463e2248\",\"type\":\"BasicTickFormatter\"},\"plot\":{\"id\":\"f4b99651-ebbd-4abe-bcd8-8cdb654bd970\",\"subtype\":\"Figure\",\"type\":\"Plot\"},\"ticker\":{\"id\":\"86fb532d-b1f4-4f15-a8cb-a2e77279df53\",\"type\":\"BasicTicker\"}},\"id\":\"307689a2-160f-4a99-b5ad-e8d0cee5e4c0\",\"type\":\"LinearAxis\"},{\"attributes\":{},\"id\":\"86fb532d-b1f4-4f15-a8cb-a2e77279df53\",\"type\":\"BasicTicker\"},{\"attributes\":{\"dimension\":1,\"plot\":{\"id\":\"f4b99651-ebbd-4abe-bcd8-8cdb654bd970\",\"subtype\":\"Figure\",\"type\":\"Plot\"},\"ticker\":{\"id\":\"0b3e3cc9-fa52-4c26-ab07-a3da9516fb02\",\"type\":\"BasicTicker\"}},\"id\":\"2cf6fca0-3f39-425d-a199-ae1bbe7ae97d\",\"type\":\"Grid\"},{\"attributes\":{\"callback\":null},\"id\":\"efc97b43-4c3d-4dc6-8faf-526f305c2e3f\",\"type\":\"DataRange1d\"},{\"attributes\":{},\"id\":\"024c1847-894c-4aa0-bab3-4dea463e2248\",\"type\":\"BasicTickFormatter\"},{\"attributes\":{\"callback\":null},\"id\":\"a6c463e8-04be-451f-b5be-f8c7055078a4\",\"type\":\"DataRange1d\"},{\"attributes\":{\"fill_color\":{\"value\":\"#1f77b4\"},\"line_color\":{\"value\":\"#1f77b4\"},\"size\":{\"units\":\"screen\",\"value\":20},\"x\":{\"field\":\"x\"},\"y\":{\"field\":\"y\"}},\"id\":\"627a149e-bdcb-49c3-9ae3-e0a169d87fb0\",\"type\":\"Circle\"},{\"attributes\":{\"below\":[{\"id\":\"307689a2-160f-4a99-b5ad-e8d0cee5e4c0\",\"type\":\"LinearAxis\"}],\"left\":[{\"id\":\"6c60f62f-eec5-4ece-b576-b99edc043a21\",\"type\":\"LinearAxis\"}],\"plot_height\":300,\"renderers\":[{\"id\":\"307689a2-160f-4a99-b5ad-e8d0cee5e4c0\",\"type\":\"LinearAxis\"},{\"id\":\"644f4c7e-d255-4a9a-a890-00672cf4c2b0\",\"type\":\"Grid\"},{\"id\":\"6c60f62f-eec5-4ece-b576-b99edc043a21\",\"type\":\"LinearAxis\"},{\"id\":\"2cf6fca0-3f39-425d-a199-ae1bbe7ae97d\",\"type\":\"Grid\"},{\"id\":\"24e6267f-5d5f-4372-89a5-ea2107153093\",\"type\":\"GlyphRenderer\"}],\"title\":{\"id\":\"e4fe8519-7ba6-4cf6-82d1-7281103b2e1e\",\"type\":\"Title\"},\"tool_events\":{\"id\":\"7ff9097c-a5b9-4fd2-8c0f-8162fbfa55ca\",\"type\":\"ToolEvents\"},\"toolbar\":{\"id\":\"b48f09a0-9ce5-4c08-9dec-32870932cdfa\",\"type\":\"Toolbar\"},\"x_range\":{\"id\":\"a6c463e8-04be-451f-b5be-f8c7055078a4\",\"type\":\"DataRange1d\"},\"y_range\":{\"id\":\"efc97b43-4c3d-4dc6-8faf-526f305c2e3f\",\"type\":\"DataRange1d\"}},\"id\":\"f4b99651-ebbd-4abe-bcd8-8cdb654bd970\",\"subtype\":\"Figure\",\"type\":\"Plot\"},{\"attributes\":{\"callback\":{\"id\":\"6e1c26e1-4dbe-4c2d-9475-47340cfc4f19\",\"type\":\"CustomJS\"},\"plot\":{\"id\":\"f4b99651-ebbd-4abe-bcd8-8cdb654bd970\",\"subtype\":\"Figure\",\"type\":\"Plot\"}},\"id\":\"b5b06747-5ae0-4dce-bec3-de60b991cade\",\"type\":\"TapTool\"},{\"attributes\":{\"formatter\":{\"id\":\"7400dc17-ad95-48aa-ae30-359430b2db35\",\"type\":\"BasicTickFormatter\"},\"plot\":{\"id\":\"f4b99651-ebbd-4abe-bcd8-8cdb654bd970\",\"subtype\":\"Figure\",\"type\":\"Plot\"},\"ticker\":{\"id\":\"0b3e3cc9-fa52-4c26-ab07-a3da9516fb02\",\"type\":\"BasicTicker\"}},\"id\":\"6c60f62f-eec5-4ece-b576-b99edc043a21\",\"type\":\"LinearAxis\"},{\"attributes\":{},\"id\":\"0b3e3cc9-fa52-4c26-ab07-a3da9516fb02\",\"type\":\"BasicTicker\"},{\"attributes\":{\"data_source\":{\"id\":\"1d15545b-e2b1-4684-965f-b6c5a364e3db\",\"type\":\"ColumnDataSource\"},\"glyph\":{\"id\":\"627a149e-bdcb-49c3-9ae3-e0a169d87fb0\",\"type\":\"Circle\"},\"hover_glyph\":null,\"nonselection_glyph\":{\"id\":\"4ff98b2a-670b-48f5-a486-a74ff17bde05\",\"type\":\"Circle\"},\"selection_glyph\":null},\"id\":\"24e6267f-5d5f-4372-89a5-ea2107153093\",\"type\":\"GlyphRenderer\"},{\"attributes\":{\"code\":\"alert('hello world')\"},\"id\":\"6e1c26e1-4dbe-4c2d-9475-47340cfc4f19\",\"type\":\"CustomJS\"},{\"attributes\":{\"plot\":{\"id\":\"f4b99651-ebbd-4abe-bcd8-8cdb654bd970\",\"subtype\":\"Figure\",\"type\":\"Plot\"},\"ticker\":{\"id\":\"86fb532d-b1f4-4f15-a8cb-a2e77279df53\",\"type\":\"BasicTicker\"}},\"id\":\"644f4c7e-d255-4a9a-a890-00672cf4c2b0\",\"type\":\"Grid\"},{\"attributes\":{\"callback\":null,\"column_names\":[\"y\",\"x\"],\"data\":{\"x\":[1,2,3,4,5],\"y\":[2,5,8,2,7]}},\"id\":\"1d15545b-e2b1-4684-965f-b6c5a364e3db\",\"type\":\"ColumnDataSource\"},{\"attributes\":{\"plot\":null,\"text\":null},\"id\":\"e4fe8519-7ba6-4cf6-82d1-7281103b2e1e\",\"type\":\"Title\"},{\"attributes\":{\"fill_alpha\":{\"value\":0.1},\"fill_color\":{\"value\":\"#1f77b4\"},\"line_alpha\":{\"value\":0.1},\"line_color\":{\"value\":\"#1f77b4\"},\"size\":{\"units\":\"screen\",\"value\":20},\"x\":{\"field\":\"x\"},\"y\":{\"field\":\"y\"}},\"id\":\"4ff98b2a-670b-48f5-a486-a74ff17bde05\",\"type\":\"Circle\"},{\"attributes\":{},\"id\":\"7400dc17-ad95-48aa-ae30-359430b2db35\",\"type\":\"BasicTickFormatter\"},{\"attributes\":{},\"id\":\"7ff9097c-a5b9-4fd2-8c0f-8162fbfa55ca\",\"type\":\"ToolEvents\"}],\"root_ids\":[\"f4b99651-ebbd-4abe-bcd8-8cdb654bd970\"]},\"title\":\"Bokeh Application\",\"version\":\"0.12.1\"}};\n",
       "            var render_items = [{\"docid\":\"031ad1f5-0059-41ff-9bbe-6f6dab9f40cc\",\"elementid\":\"59c83327-09cb-4c08-b10d-ee8f607b7a11\",\"modelid\":\"f4b99651-ebbd-4abe-bcd8-8cdb654bd970\",\"notebook_comms_target\":\"1526ffe0-54a6-427b-8ab2-e32a6ce61f9c\"}];\n",
       "            \n",
       "            Bokeh.embed.embed_items(docs_json, render_items);\n",
       "        });\n",
       "      },\n",
       "      function(Bokeh) {\n",
       "      }\n",
       "    ];\n",
       "  \n",
       "    function run_inline_js() {\n",
       "      for (var i = 0; i < inline_js.length; i++) {\n",
       "        inline_js[i](window.Bokeh);\n",
       "      }\n",
       "    }\n",
       "  \n",
       "    if (window._bokeh_is_loading === 0) {\n",
       "      console.log(\"Bokeh: BokehJS loaded, going straight to plotting\");\n",
       "      run_inline_js();\n",
       "    } else {\n",
       "      load_libs(js_urls, function() {\n",
       "        console.log(\"Bokeh: BokehJS plotting callback run at\", now());\n",
       "        run_inline_js();\n",
       "      });\n",
       "    }\n",
       "  }(this));\n",
       "</script>"
      ]
     },
     "metadata": {},
     "output_type": "display_data"
    },
    {
     "data": {
      "text/html": [
       "<p><code>&lt;Bokeh Notebook handle for <strong>In[11]</strong>&gt;</code></p>"
      ],
      "text/plain": [
       "<bokeh.io._CommsHandle at 0x10b282cd0>"
      ]
     },
     "execution_count": 11,
     "metadata": {},
     "output_type": "execute_result"
    }
   ],
   "source": [
    "from bokeh.models import TapTool, CustomJS, ColumnDataSource\n",
    "\n",
    "callback = CustomJS(code=\"alert('hello world')\")\n",
    "tap = TapTool(callback=callback)\n",
    "\n",
    "p = figure(plot_width=600, plot_height=300, tools=[tap])\n",
    "\n",
    "p.circle('x', 'y', size=20, source=ColumnDataSource(data=dict(x=[1, 2, 3, 4, 5], y=[2, 5, 8, 2, 7])))\n",
    "\n",
    "show(p)"
   ]
  },
  {
   "cell_type": "markdown",
   "metadata": {},
   "source": [
    "## Lots of places to add callbacks\n",
    "\n",
    "* Widgets - Button, Toggle, Dropdown, TextInput, AutocompleteInput, Select, Multiselect, Slider, (DateRangeSlider), DatePicker,\n",
    "* Tools - TapTool, BoxSelectTool, HoverTool,\n",
    "* Selection - ColumnDataSource, AjaxDataSource, BlazeDataSource, ServerDataSource\n",
    "* Ranges - Range1d, DataRange1d, FactorRange\n"
   ]
  },
  {
   "cell_type": "markdown",
   "metadata": {},
   "source": [
    "## Callbacks for widgets\n",
    "\n",
    "Widgets that have values associated can have small JavaScript actions attached to them. These actions (also referred to as \"callbacks\") are executed whenever the widget's value is changed. In order to make it easier to refer to specific Bokeh models (e.g., a data source, or a glyhph) from JavaScript, the ``CustomJS`` obejct also accepts a dictionary of \"args\" that map names to Python Bokeh models. The corresponding JavaScript models are made available automaticaly to the ``CustomJS`` code. \n",
    "\n",
    "And example below shows an action attached to a slider that updates a data source whenever the slider is moved:"
   ]
  },
  {
   "cell_type": "code",
   "execution_count": 12,
   "metadata": {
    "collapsed": false
   },
   "outputs": [
    {
     "data": {
      "text/html": [
       "\n",
       "\n",
       "    <div class=\"bk-root\">\n",
       "        <div class=\"plotdiv\" id=\"9dc27fd7-48de-47e8-b1b7-56a63fa25ba5\"></div>\n",
       "    </div>\n",
       "<script type=\"text/javascript\">\n",
       "  \n",
       "  (function(global) {\n",
       "    function now() {\n",
       "      return new Date();\n",
       "    }\n",
       "  \n",
       "    var force = \"\";\n",
       "  \n",
       "    if (typeof (window._bokeh_onload_callbacks) === \"undefined\" || force !== \"\") {\n",
       "      window._bokeh_onload_callbacks = [];\n",
       "      window._bokeh_is_loading = undefined;\n",
       "    }\n",
       "  \n",
       "    function run_callbacks() {\n",
       "      window._bokeh_onload_callbacks.forEach(function(callback) { callback() });\n",
       "      delete window._bokeh_onload_callbacks\n",
       "      console.info(\"Bokeh: all callbacks have finished\");\n",
       "    }\n",
       "  \n",
       "    function load_libs(js_urls, callback) {\n",
       "      window._bokeh_onload_callbacks.push(callback);\n",
       "      if (window._bokeh_is_loading > 0) {\n",
       "        console.log(\"Bokeh: BokehJS is being loaded, scheduling callback at\", now());\n",
       "        return null;\n",
       "      }\n",
       "      if (js_urls == null || js_urls.length === 0) {\n",
       "        run_callbacks();\n",
       "        return null;\n",
       "      }\n",
       "      console.log(\"Bokeh: BokehJS not loaded, scheduling load and callback at\", now());\n",
       "      window._bokeh_is_loading = js_urls.length;\n",
       "      for (var i = 0; i < js_urls.length; i++) {\n",
       "        var url = js_urls[i];\n",
       "        var s = document.createElement('script');\n",
       "        s.src = url;\n",
       "        s.async = false;\n",
       "        s.onreadystatechange = s.onload = function() {\n",
       "          window._bokeh_is_loading--;\n",
       "          if (window._bokeh_is_loading === 0) {\n",
       "            console.log(\"Bokeh: all BokehJS libraries loaded\");\n",
       "            run_callbacks()\n",
       "          }\n",
       "        };\n",
       "        s.onerror = function() {\n",
       "          console.warn(\"failed to load library \" + url);\n",
       "        };\n",
       "        console.log(\"Bokeh: injecting script tag for BokehJS library: \", url);\n",
       "        document.getElementsByTagName(\"head\")[0].appendChild(s);\n",
       "      }\n",
       "    };var element = document.getElementById(\"9dc27fd7-48de-47e8-b1b7-56a63fa25ba5\");\n",
       "    if (element == null) {\n",
       "      console.log(\"Bokeh: ERROR: autoload.js configured with elementid '9dc27fd7-48de-47e8-b1b7-56a63fa25ba5' but no matching script tag was found. \")\n",
       "      return false;\n",
       "    }\n",
       "  \n",
       "    var js_urls = [];\n",
       "  \n",
       "    var inline_js = [\n",
       "      function(Bokeh) {\n",
       "        Bokeh.$(function() {\n",
       "            var docs_json = {\"ecea7b62-e61c-4d22-96ba-77b9557c9661\":{\"roots\":{\"references\":[{\"attributes\":{\"data_source\":{\"id\":\"6c90f46e-535a-4135-8e07-fdd353172907\",\"type\":\"ColumnDataSource\"},\"glyph\":{\"id\":\"b4c8ce60-fd21-47ef-ab9d-f6b49cc79e23\",\"type\":\"Line\"},\"hover_glyph\":null,\"nonselection_glyph\":{\"id\":\"af712f01-4e7b-4048-a3f4-51cefb5265e6\",\"type\":\"Line\"},\"selection_glyph\":null},\"id\":\"952baa2e-48d4-46a0-802c-f15592ba5f89\",\"type\":\"GlyphRenderer\"},{\"attributes\":{},\"id\":\"52058d85-97f2-4472-b753-169ba3314e14\",\"type\":\"BasicTicker\"},{\"attributes\":{\"plot\":{\"id\":\"3b5b0276-9496-4d68-a127-6955a69309b6\",\"subtype\":\"Figure\",\"type\":\"Plot\"}},\"id\":\"53f05f78-a43a-492c-aaa8-46e07ca3120c\",\"type\":\"PanTool\"},{\"attributes\":{\"args\":{\"source\":{\"id\":\"6c90f46e-535a-4135-8e07-fdd353172907\",\"type\":\"ColumnDataSource\"}},\"code\":\"\\n    var data = source.get('data');\\n    var f = cb_obj.get('value')\\n    x = data['x']\\n    y = data['y']\\n    for (i = 0; i < x.length; i++) {\\n        y[i] = Math.pow(x[i], f)\\n    }\\n    source.trigger('change');\\n\"},\"id\":\"c314a41a-a548-4305-b194-a941ad828302\",\"type\":\"CustomJS\"},{\"attributes\":{\"formatter\":{\"id\":\"6eda1939-ac9b-40fd-8b00-0f87038c38b0\",\"type\":\"BasicTickFormatter\"},\"plot\":{\"id\":\"3b5b0276-9496-4d68-a127-6955a69309b6\",\"subtype\":\"Figure\",\"type\":\"Plot\"},\"ticker\":{\"id\":\"52058d85-97f2-4472-b753-169ba3314e14\",\"type\":\"BasicTicker\"}},\"id\":\"4193b98b-6146-4479-8a4c-630f5959f7fa\",\"type\":\"LinearAxis\"},{\"attributes\":{\"callback\":null},\"id\":\"6189ba3e-0958-436f-95ad-a99f8407165a\",\"type\":\"DataRange1d\"},{\"attributes\":{\"plot\":{\"id\":\"3b5b0276-9496-4d68-a127-6955a69309b6\",\"subtype\":\"Figure\",\"type\":\"Plot\"}},\"id\":\"026802c3-feb4-4cf6-8e61-abcc15c20723\",\"type\":\"HelpTool\"},{\"attributes\":{\"callback\":null,\"column_names\":[\"y\",\"x\"],\"data\":{\"x\":[0.0,0.005,0.01,0.015,0.02,0.025,0.03,0.035,0.04,0.045,0.05,0.055,0.06,0.065,0.07,0.075,0.08,0.085,0.09,0.095,0.1,0.105,0.11,0.115,0.12,0.125,0.13,0.135,0.14,0.145,0.15,0.155,0.16,0.165,0.17,0.17500000000000002,0.18,0.185,0.19,0.195,0.2,0.20500000000000002,0.21,0.215,0.22,0.225,0.23,0.23500000000000001,0.24,0.245,0.25,0.255,0.26,0.265,0.27,0.275,0.28,0.28500000000000003,0.29,0.295,0.3,0.305,0.31,0.315,0.32,0.325,0.33,0.335,0.34,0.34500000000000003,0.35000000000000003,0.355,0.36,0.365,0.37,0.375,0.38,0.385,0.39,0.395,0.4,0.405,0.41000000000000003,0.41500000000000004,0.42,0.425,0.43,0.435,0.44,0.445,0.45,0.455,0.46,0.465,0.47000000000000003,0.47500000000000003,0.48,0.485,0.49,0.495,0.5,0.505,0.51,0.515,0.52,0.525,0.53,0.535,0.54,0.545,0.55,0.555,0.56,0.5650000000000001,0.5700000000000001,0.5750000000000001,0.58,0.585,0.59,0.595,0.6,0.605,0.61,0.615,0.62,0.625,0.63,0.635,0.64,0.645,0.65,0.655,0.66,0.665,0.67,0.675,0.68,0.685,0.6900000000000001,0.6950000000000001,0.7000000000000001,0.705,0.71,0.715,0.72,0.725,0.73,0.735,0.74,0.745,0.75,0.755,0.76,0.765,0.77,0.775,0.78,0.785,0.79,0.795,0.8,0.805,0.81,0.8150000000000001,0.8200000000000001,0.8250000000000001,0.8300000000000001,0.835,0.84,0.845,0.85,0.855,0.86,0.865,0.87,0.875,0.88,0.885,0.89,0.895,0.9,0.905,0.91,0.915,0.92,0.925,0.93,0.935,0.9400000000000001,0.9450000000000001,0.9500000000000001,0.9550000000000001,0.96,0.965,0.97,0.975,0.98,0.985,0.99,0.995],\"y\":[0.0,0.005,0.01,0.015,0.02,0.025,0.03,0.035,0.04,0.045,0.05,0.055,0.06,0.065,0.07,0.075,0.08,0.085,0.09,0.095,0.1,0.105,0.11,0.115,0.12,0.125,0.13,0.135,0.14,0.145,0.15,0.155,0.16,0.165,0.17,0.17500000000000002,0.18,0.185,0.19,0.195,0.2,0.20500000000000002,0.21,0.215,0.22,0.225,0.23,0.23500000000000001,0.24,0.245,0.25,0.255,0.26,0.265,0.27,0.275,0.28,0.28500000000000003,0.29,0.295,0.3,0.305,0.31,0.315,0.32,0.325,0.33,0.335,0.34,0.34500000000000003,0.35000000000000003,0.355,0.36,0.365,0.37,0.375,0.38,0.385,0.39,0.395,0.4,0.405,0.41000000000000003,0.41500000000000004,0.42,0.425,0.43,0.435,0.44,0.445,0.45,0.455,0.46,0.465,0.47000000000000003,0.47500000000000003,0.48,0.485,0.49,0.495,0.5,0.505,0.51,0.515,0.52,0.525,0.53,0.535,0.54,0.545,0.55,0.555,0.56,0.5650000000000001,0.5700000000000001,0.5750000000000001,0.58,0.585,0.59,0.595,0.6,0.605,0.61,0.615,0.62,0.625,0.63,0.635,0.64,0.645,0.65,0.655,0.66,0.665,0.67,0.675,0.68,0.685,0.6900000000000001,0.6950000000000001,0.7000000000000001,0.705,0.71,0.715,0.72,0.725,0.73,0.735,0.74,0.745,0.75,0.755,0.76,0.765,0.77,0.775,0.78,0.785,0.79,0.795,0.8,0.805,0.81,0.8150000000000001,0.8200000000000001,0.8250000000000001,0.8300000000000001,0.835,0.84,0.845,0.85,0.855,0.86,0.865,0.87,0.875,0.88,0.885,0.89,0.895,0.9,0.905,0.91,0.915,0.92,0.925,0.93,0.935,0.9400000000000001,0.9450000000000001,0.9500000000000001,0.9550000000000001,0.96,0.965,0.97,0.975,0.98,0.985,0.99,0.995]}},\"id\":\"6c90f46e-535a-4135-8e07-fdd353172907\",\"type\":\"ColumnDataSource\"},{\"attributes\":{\"children\":[{\"id\":\"c19184af-2518-4a5f-b7dd-4ce0db5837b2\",\"type\":\"Slider\"}]},\"id\":\"d4ced772-cc3a-4fe9-925b-bb3f63f67686\",\"type\":\"WidgetBox\"},{\"attributes\":{\"plot\":{\"id\":\"3b5b0276-9496-4d68-a127-6955a69309b6\",\"subtype\":\"Figure\",\"type\":\"Plot\"}},\"id\":\"1f95f030-dd96-4ab9-9375-6ea8eb16c753\",\"type\":\"WheelZoomTool\"},{\"attributes\":{\"below\":[{\"id\":\"4193b98b-6146-4479-8a4c-630f5959f7fa\",\"type\":\"LinearAxis\"}],\"left\":[{\"id\":\"54941cc0-b0d7-47c1-865a-fb5c5cc12538\",\"type\":\"LinearAxis\"}],\"plot_height\":400,\"plot_width\":400,\"renderers\":[{\"id\":\"4193b98b-6146-4479-8a4c-630f5959f7fa\",\"type\":\"LinearAxis\"},{\"id\":\"d383134f-cb42-4bef-a584-a3466e83f20a\",\"type\":\"Grid\"},{\"id\":\"54941cc0-b0d7-47c1-865a-fb5c5cc12538\",\"type\":\"LinearAxis\"},{\"id\":\"da3a7dfa-0a61-41e0-a18f-5e33ca58d1c4\",\"type\":\"Grid\"},{\"id\":\"06ca8bdd-96ca-4731-9f3e-e5e3606ea1d2\",\"type\":\"BoxAnnotation\"},{\"id\":\"952baa2e-48d4-46a0-802c-f15592ba5f89\",\"type\":\"GlyphRenderer\"}],\"title\":{\"id\":\"3ee5d30e-123e-4fc5-b0c3-0cb686236d62\",\"type\":\"Title\"},\"tool_events\":{\"id\":\"4a79466a-00cb-4e6a-8a43-087050c82f2d\",\"type\":\"ToolEvents\"},\"toolbar\":{\"id\":\"5e7cf0d4-55b9-44fc-9ad9-9de983d13f23\",\"type\":\"Toolbar\"},\"x_range\":{\"id\":\"6189ba3e-0958-436f-95ad-a99f8407165a\",\"type\":\"DataRange1d\"},\"y_range\":{\"id\":\"e5e03503-18b8-471e-8bb4-83eafff90568\",\"type\":\"DataRange1d\"}},\"id\":\"3b5b0276-9496-4d68-a127-6955a69309b6\",\"subtype\":\"Figure\",\"type\":\"Plot\"},{\"attributes\":{\"plot\":{\"id\":\"3b5b0276-9496-4d68-a127-6955a69309b6\",\"subtype\":\"Figure\",\"type\":\"Plot\"}},\"id\":\"9cfdf401-c139-4f2d-9118-31a73e54609b\",\"type\":\"SaveTool\"},{\"attributes\":{},\"id\":\"4a79466a-00cb-4e6a-8a43-087050c82f2d\",\"type\":\"ToolEvents\"},{\"attributes\":{\"line_alpha\":{\"value\":0.1},\"line_color\":{\"value\":\"#1f77b4\"},\"line_width\":{\"value\":3},\"x\":{\"field\":\"x\"},\"y\":{\"field\":\"y\"}},\"id\":\"af712f01-4e7b-4048-a3f4-51cefb5265e6\",\"type\":\"Line\"},{\"attributes\":{\"active_drag\":\"auto\",\"active_scroll\":\"auto\",\"active_tap\":\"auto\",\"tools\":[{\"id\":\"53f05f78-a43a-492c-aaa8-46e07ca3120c\",\"type\":\"PanTool\"},{\"id\":\"1f95f030-dd96-4ab9-9375-6ea8eb16c753\",\"type\":\"WheelZoomTool\"},{\"id\":\"d5a1c39a-fb9d-4ae5-a41d-6ebacb7bfc3e\",\"type\":\"BoxZoomTool\"},{\"id\":\"9cfdf401-c139-4f2d-9118-31a73e54609b\",\"type\":\"SaveTool\"},{\"id\":\"4e6ba20f-ff88-4967-a869-51685af68d4b\",\"type\":\"ResetTool\"},{\"id\":\"026802c3-feb4-4cf6-8e61-abcc15c20723\",\"type\":\"HelpTool\"}]},\"id\":\"5e7cf0d4-55b9-44fc-9ad9-9de983d13f23\",\"type\":\"Toolbar\"},{\"attributes\":{},\"id\":\"5f632916-9d9c-4b05-8787-6d0850a876fb\",\"type\":\"BasicTickFormatter\"},{\"attributes\":{\"dimension\":1,\"plot\":{\"id\":\"3b5b0276-9496-4d68-a127-6955a69309b6\",\"subtype\":\"Figure\",\"type\":\"Plot\"},\"ticker\":{\"id\":\"ae571b13-a74a-44a5-a8f5-3c3eec78ebc2\",\"type\":\"BasicTicker\"}},\"id\":\"da3a7dfa-0a61-41e0-a18f-5e33ca58d1c4\",\"type\":\"Grid\"},{\"attributes\":{\"children\":[{\"id\":\"d4ced772-cc3a-4fe9-925b-bb3f63f67686\",\"type\":\"WidgetBox\"},{\"id\":\"3b5b0276-9496-4d68-a127-6955a69309b6\",\"subtype\":\"Figure\",\"type\":\"Plot\"}]},\"id\":\"34f6cf63-4a76-41b7-8e96-f6c974c26d03\",\"type\":\"Column\"},{\"attributes\":{\"plot\":null,\"text\":null},\"id\":\"3ee5d30e-123e-4fc5-b0c3-0cb686236d62\",\"type\":\"Title\"},{\"attributes\":{\"plot\":{\"id\":\"3b5b0276-9496-4d68-a127-6955a69309b6\",\"subtype\":\"Figure\",\"type\":\"Plot\"}},\"id\":\"4e6ba20f-ff88-4967-a869-51685af68d4b\",\"type\":\"ResetTool\"},{\"attributes\":{\"callback\":{\"id\":\"c314a41a-a548-4305-b194-a941ad828302\",\"type\":\"CustomJS\"},\"end\":4,\"start\":0.1,\"title\":\"power\",\"value\":1},\"id\":\"c19184af-2518-4a5f-b7dd-4ce0db5837b2\",\"type\":\"Slider\"},{\"attributes\":{},\"id\":\"ae571b13-a74a-44a5-a8f5-3c3eec78ebc2\",\"type\":\"BasicTicker\"},{\"attributes\":{},\"id\":\"6eda1939-ac9b-40fd-8b00-0f87038c38b0\",\"type\":\"BasicTickFormatter\"},{\"attributes\":{\"callback\":null},\"id\":\"e5e03503-18b8-471e-8bb4-83eafff90568\",\"type\":\"DataRange1d\"},{\"attributes\":{\"formatter\":{\"id\":\"5f632916-9d9c-4b05-8787-6d0850a876fb\",\"type\":\"BasicTickFormatter\"},\"plot\":{\"id\":\"3b5b0276-9496-4d68-a127-6955a69309b6\",\"subtype\":\"Figure\",\"type\":\"Plot\"},\"ticker\":{\"id\":\"ae571b13-a74a-44a5-a8f5-3c3eec78ebc2\",\"type\":\"BasicTicker\"}},\"id\":\"54941cc0-b0d7-47c1-865a-fb5c5cc12538\",\"type\":\"LinearAxis\"},{\"attributes\":{\"bottom_units\":\"screen\",\"fill_alpha\":{\"value\":0.5},\"fill_color\":{\"value\":\"lightgrey\"},\"left_units\":\"screen\",\"level\":\"overlay\",\"line_alpha\":{\"value\":1.0},\"line_color\":{\"value\":\"black\"},\"line_dash\":[4,4],\"line_width\":{\"value\":2},\"plot\":null,\"render_mode\":\"css\",\"right_units\":\"screen\",\"top_units\":\"screen\"},\"id\":\"06ca8bdd-96ca-4731-9f3e-e5e3606ea1d2\",\"type\":\"BoxAnnotation\"},{\"attributes\":{\"line_alpha\":{\"value\":0.6},\"line_color\":{\"value\":\"#1f77b4\"},\"line_width\":{\"value\":3},\"x\":{\"field\":\"x\"},\"y\":{\"field\":\"y\"}},\"id\":\"b4c8ce60-fd21-47ef-ab9d-f6b49cc79e23\",\"type\":\"Line\"},{\"attributes\":{\"overlay\":{\"id\":\"06ca8bdd-96ca-4731-9f3e-e5e3606ea1d2\",\"type\":\"BoxAnnotation\"},\"plot\":{\"id\":\"3b5b0276-9496-4d68-a127-6955a69309b6\",\"subtype\":\"Figure\",\"type\":\"Plot\"}},\"id\":\"d5a1c39a-fb9d-4ae5-a41d-6ebacb7bfc3e\",\"type\":\"BoxZoomTool\"},{\"attributes\":{\"plot\":{\"id\":\"3b5b0276-9496-4d68-a127-6955a69309b6\",\"subtype\":\"Figure\",\"type\":\"Plot\"},\"ticker\":{\"id\":\"52058d85-97f2-4472-b753-169ba3314e14\",\"type\":\"BasicTicker\"}},\"id\":\"d383134f-cb42-4bef-a584-a3466e83f20a\",\"type\":\"Grid\"}],\"root_ids\":[\"34f6cf63-4a76-41b7-8e96-f6c974c26d03\"]},\"title\":\"Bokeh Application\",\"version\":\"0.12.1\"}};\n",
       "            var render_items = [{\"docid\":\"ecea7b62-e61c-4d22-96ba-77b9557c9661\",\"elementid\":\"9dc27fd7-48de-47e8-b1b7-56a63fa25ba5\",\"modelid\":\"34f6cf63-4a76-41b7-8e96-f6c974c26d03\",\"notebook_comms_target\":\"be3e058b-7ad8-4873-92b2-fae753b7572b\"}];\n",
       "            \n",
       "            Bokeh.embed.embed_items(docs_json, render_items);\n",
       "        });\n",
       "      },\n",
       "      function(Bokeh) {\n",
       "      }\n",
       "    ];\n",
       "  \n",
       "    function run_inline_js() {\n",
       "      for (var i = 0; i < inline_js.length; i++) {\n",
       "        inline_js[i](window.Bokeh);\n",
       "      }\n",
       "    }\n",
       "  \n",
       "    if (window._bokeh_is_loading === 0) {\n",
       "      console.log(\"Bokeh: BokehJS loaded, going straight to plotting\");\n",
       "      run_inline_js();\n",
       "    } else {\n",
       "      load_libs(js_urls, function() {\n",
       "        console.log(\"Bokeh: BokehJS plotting callback run at\", now());\n",
       "        run_inline_js();\n",
       "      });\n",
       "    }\n",
       "  }(this));\n",
       "</script>"
      ]
     },
     "metadata": {},
     "output_type": "display_data"
    },
    {
     "data": {
      "text/html": [
       "<p><code>&lt;Bokeh Notebook handle for <strong>In[12]</strong>&gt;</code></p>"
      ],
      "text/plain": [
       "<bokeh.io._CommsHandle at 0x11352d350>"
      ]
     },
     "execution_count": 12,
     "metadata": {},
     "output_type": "execute_result"
    }
   ],
   "source": [
    "from bokeh.layouts import column\n",
    "from bokeh.models import CustomJS, ColumnDataSource, Slider\n",
    "\n",
    "x = [x*0.005 for x in range(0, 200)]\n",
    "y = x\n",
    "\n",
    "source = ColumnDataSource(data=dict(x=x, y=y))\n",
    "\n",
    "plot = figure(plot_width=400, plot_height=400)\n",
    "plot.line('x', 'y', source=source, line_width=3, line_alpha=0.6)\n",
    "\n",
    "callback = CustomJS(args=dict(source=source), code=\"\"\"\n",
    "    var data = source.get('data');\n",
    "    var f = cb_obj.get('value')\n",
    "    x = data['x']\n",
    "    y = data['y']\n",
    "    for (i = 0; i < x.length; i++) {\n",
    "        y[i] = Math.pow(x[i], f)\n",
    "    }\n",
    "    source.trigger('change');\n",
    "\"\"\")\n",
    "\n",
    "slider = Slider(start=0.1, end=4, value=1, step=.1, title=\"power\", callback=callback)\n",
    "\n",
    "layout = column(slider, plot)\n",
    "\n",
    "show(layout)"
   ]
  },
  {
   "cell_type": "markdown",
   "metadata": {},
   "source": [
    "## Calbacks for selections\n",
    "\n",
    "It's also possible to make JavaScript actions that execute whenever a user selection (e.g., box, point, lasso) changes. This is done by attaching the same kind of CustomJS object to whatever data source the selection is made on.\n",
    "\n",
    "The example below is a bit more sophisticated, and demonstrates updating one glyph's data source in response to another glyph's selection: "
   ]
  },
  {
   "cell_type": "code",
   "execution_count": 13,
   "metadata": {
    "collapsed": false
   },
   "outputs": [
    {
     "data": {
      "text/html": [
       "\n",
       "\n",
       "    <div class=\"bk-root\">\n",
       "        <div class=\"plotdiv\" id=\"d5fce30d-1c32-4ed9-990c-aca952f43a1a\"></div>\n",
       "    </div>\n",
       "<script type=\"text/javascript\">\n",
       "  \n",
       "  (function(global) {\n",
       "    function now() {\n",
       "      return new Date();\n",
       "    }\n",
       "  \n",
       "    var force = \"\";\n",
       "  \n",
       "    if (typeof (window._bokeh_onload_callbacks) === \"undefined\" || force !== \"\") {\n",
       "      window._bokeh_onload_callbacks = [];\n",
       "      window._bokeh_is_loading = undefined;\n",
       "    }\n",
       "  \n",
       "    function run_callbacks() {\n",
       "      window._bokeh_onload_callbacks.forEach(function(callback) { callback() });\n",
       "      delete window._bokeh_onload_callbacks\n",
       "      console.info(\"Bokeh: all callbacks have finished\");\n",
       "    }\n",
       "  \n",
       "    function load_libs(js_urls, callback) {\n",
       "      window._bokeh_onload_callbacks.push(callback);\n",
       "      if (window._bokeh_is_loading > 0) {\n",
       "        console.log(\"Bokeh: BokehJS is being loaded, scheduling callback at\", now());\n",
       "        return null;\n",
       "      }\n",
       "      if (js_urls == null || js_urls.length === 0) {\n",
       "        run_callbacks();\n",
       "        return null;\n",
       "      }\n",
       "      console.log(\"Bokeh: BokehJS not loaded, scheduling load and callback at\", now());\n",
       "      window._bokeh_is_loading = js_urls.length;\n",
       "      for (var i = 0; i < js_urls.length; i++) {\n",
       "        var url = js_urls[i];\n",
       "        var s = document.createElement('script');\n",
       "        s.src = url;\n",
       "        s.async = false;\n",
       "        s.onreadystatechange = s.onload = function() {\n",
       "          window._bokeh_is_loading--;\n",
       "          if (window._bokeh_is_loading === 0) {\n",
       "            console.log(\"Bokeh: all BokehJS libraries loaded\");\n",
       "            run_callbacks()\n",
       "          }\n",
       "        };\n",
       "        s.onerror = function() {\n",
       "          console.warn(\"failed to load library \" + url);\n",
       "        };\n",
       "        console.log(\"Bokeh: injecting script tag for BokehJS library: \", url);\n",
       "        document.getElementsByTagName(\"head\")[0].appendChild(s);\n",
       "      }\n",
       "    };var element = document.getElementById(\"d5fce30d-1c32-4ed9-990c-aca952f43a1a\");\n",
       "    if (element == null) {\n",
       "      console.log(\"Bokeh: ERROR: autoload.js configured with elementid 'd5fce30d-1c32-4ed9-990c-aca952f43a1a' but no matching script tag was found. \")\n",
       "      return false;\n",
       "    }\n",
       "  \n",
       "    var js_urls = [];\n",
       "  \n",
       "    var inline_js = [\n",
       "      function(Bokeh) {\n",
       "        Bokeh.$(function() {\n",
       "            var docs_json = {\"14b36fe3-d4c5-462b-9973-70ad3b052b88\":{\"roots\":{\"references\":[{\"attributes\":{\"fill_alpha\":{\"value\":0.4},\"fill_color\":{\"field\":\"color\"},\"line_alpha\":{\"value\":0.4},\"line_color\":{\"field\":\"color\"},\"size\":{\"units\":\"screen\",\"value\":8},\"x\":{\"field\":\"x\"},\"y\":{\"field\":\"y\"}},\"id\":\"e323f62b-9de8-4dd4-811a-2f418aef2b3a\",\"type\":\"Circle\"},{\"attributes\":{\"callback\":null,\"overlay\":{\"id\":\"a832335f-c2cb-4fa8-9349-f5923ef1f1f7\",\"type\":\"PolyAnnotation\"},\"plot\":{\"id\":\"e279a6a1-4187-4416-a5ed-bce40f760e1d\",\"subtype\":\"Figure\",\"type\":\"Plot\"}},\"id\":\"f9b190ae-6f3c-4c26-ab1f-9e2e747a145c\",\"type\":\"LassoSelectTool\"},{\"attributes\":{\"plot\":null,\"text\":\"Select Here\"},\"id\":\"a1792a0d-539c-4247-9d01-9356463254e0\",\"type\":\"Title\"},{\"attributes\":{\"callback\":null},\"id\":\"e482dd6e-6733-4981-94a8-03e220a9dfbc\",\"type\":\"DataRange1d\"},{\"attributes\":{\"callback\":{\"id\":\"a7e07cff-0cb4-48d8-9963-2a14beafc9c5\",\"type\":\"CustomJS\"},\"column_names\":[\"color\",\"y\",\"x\"],\"data\":{\"color\":[\"navy\",\"navy\",\"navy\",\"navy\",\"navy\",\"navy\",\"navy\",\"navy\",\"navy\",\"navy\",\"navy\",\"navy\",\"navy\",\"navy\",\"navy\",\"navy\",\"navy\",\"navy\",\"navy\",\"navy\",\"navy\",\"navy\",\"navy\",\"navy\",\"navy\",\"navy\",\"navy\",\"navy\",\"navy\",\"navy\",\"navy\",\"navy\",\"navy\",\"navy\",\"navy\",\"navy\",\"navy\",\"navy\",\"navy\",\"navy\",\"navy\",\"navy\",\"navy\",\"navy\",\"navy\",\"navy\",\"navy\",\"navy\",\"navy\",\"navy\",\"navy\",\"navy\",\"navy\",\"navy\",\"navy\",\"navy\",\"navy\",\"navy\",\"navy\",\"navy\",\"navy\",\"navy\",\"navy\",\"navy\",\"navy\",\"navy\",\"navy\",\"navy\",\"navy\",\"navy\",\"navy\",\"navy\",\"navy\",\"navy\",\"navy\",\"navy\",\"navy\",\"navy\",\"navy\",\"navy\",\"navy\",\"navy\",\"navy\",\"navy\",\"navy\",\"navy\",\"navy\",\"navy\",\"navy\",\"navy\",\"navy\",\"navy\",\"navy\",\"navy\",\"navy\",\"navy\",\"navy\",\"navy\",\"navy\",\"navy\",\"navy\",\"navy\",\"navy\",\"navy\",\"navy\",\"navy\",\"navy\",\"navy\",\"navy\",\"navy\",\"navy\",\"navy\",\"navy\",\"navy\",\"navy\",\"navy\",\"navy\",\"navy\",\"navy\",\"navy\",\"navy\",\"navy\",\"navy\",\"navy\",\"navy\",\"navy\",\"navy\",\"navy\",\"navy\",\"navy\",\"navy\",\"navy\",\"navy\",\"navy\",\"navy\",\"navy\",\"navy\",\"navy\",\"navy\",\"navy\",\"navy\",\"navy\",\"navy\",\"navy\",\"navy\",\"navy\",\"navy\",\"navy\",\"navy\",\"navy\",\"navy\",\"navy\",\"navy\",\"navy\",\"navy\",\"navy\",\"navy\",\"navy\",\"navy\",\"navy\",\"navy\",\"navy\",\"navy\",\"navy\",\"navy\",\"navy\",\"navy\",\"navy\",\"navy\",\"navy\",\"navy\",\"navy\",\"navy\",\"navy\",\"navy\",\"navy\",\"navy\",\"navy\",\"navy\",\"navy\",\"navy\",\"navy\",\"navy\",\"navy\",\"navy\",\"navy\",\"navy\",\"navy\",\"navy\",\"navy\",\"navy\",\"navy\",\"navy\",\"navy\",\"navy\",\"navy\",\"navy\",\"navy\",\"navy\",\"navy\",\"navy\",\"navy\",\"navy\",\"navy\",\"navy\",\"navy\",\"navy\",\"navy\",\"navy\",\"navy\",\"navy\",\"navy\",\"navy\",\"navy\",\"navy\",\"navy\",\"navy\",\"navy\",\"navy\",\"navy\",\"navy\",\"navy\",\"navy\",\"navy\",\"navy\",\"navy\",\"navy\",\"navy\",\"navy\",\"navy\",\"navy\",\"navy\",\"navy\",\"navy\",\"navy\",\"navy\",\"navy\",\"navy\",\"navy\",\"navy\",\"navy\",\"navy\",\"navy\",\"navy\",\"navy\",\"navy\",\"navy\",\"navy\",\"navy\",\"navy\",\"navy\",\"navy\",\"navy\",\"navy\",\"navy\",\"navy\",\"navy\",\"navy\",\"navy\",\"navy\",\"navy\",\"navy\",\"navy\",\"navy\",\"navy\",\"navy\",\"navy\",\"navy\",\"navy\",\"navy\",\"navy\",\"navy\",\"navy\",\"navy\",\"navy\",\"navy\",\"navy\",\"navy\",\"navy\",\"navy\",\"navy\",\"navy\",\"navy\",\"navy\",\"navy\",\"navy\",\"navy\",\"navy\",\"navy\",\"navy\",\"navy\",\"navy\",\"navy\",\"navy\",\"navy\",\"navy\",\"navy\",\"navy\",\"navy\",\"navy\",\"navy\",\"navy\",\"navy\",\"navy\",\"navy\",\"navy\",\"navy\",\"navy\",\"navy\",\"navy\",\"navy\",\"navy\",\"navy\",\"navy\",\"navy\",\"navy\",\"navy\",\"navy\",\"navy\",\"navy\",\"navy\",\"navy\",\"navy\",\"navy\",\"navy\",\"navy\",\"navy\",\"navy\",\"navy\",\"navy\",\"navy\",\"navy\",\"navy\",\"navy\",\"navy\",\"navy\",\"navy\",\"navy\",\"navy\",\"navy\",\"navy\",\"navy\",\"navy\",\"navy\",\"navy\",\"navy\",\"navy\",\"navy\",\"navy\",\"navy\",\"navy\",\"navy\",\"navy\",\"navy\",\"navy\",\"navy\",\"navy\",\"navy\",\"navy\",\"navy\",\"navy\",\"navy\",\"navy\",\"navy\",\"navy\",\"navy\",\"navy\",\"navy\",\"navy\",\"navy\",\"navy\",\"navy\",\"navy\",\"navy\",\"navy\",\"navy\",\"navy\",\"navy\",\"navy\",\"navy\",\"navy\",\"navy\",\"navy\",\"navy\",\"navy\",\"navy\",\"navy\",\"navy\",\"navy\",\"navy\",\"navy\",\"navy\",\"navy\",\"navy\",\"navy\",\"navy\",\"navy\",\"navy\",\"navy\",\"navy\",\"navy\",\"navy\",\"navy\",\"navy\",\"navy\",\"navy\",\"navy\",\"navy\",\"navy\",\"navy\",\"navy\",\"navy\",\"navy\",\"navy\",\"navy\",\"navy\",\"navy\",\"navy\",\"navy\",\"navy\",\"navy\",\"navy\",\"navy\",\"navy\",\"navy\",\"navy\",\"navy\",\"navy\",\"navy\",\"navy\",\"navy\",\"navy\",\"navy\",\"navy\",\"navy\",\"navy\",\"navy\",\"navy\",\"navy\",\"navy\",\"navy\",\"navy\",\"navy\",\"navy\",\"navy\",\"navy\",\"navy\",\"navy\",\"navy\",\"navy\",\"navy\",\"navy\",\"navy\",\"navy\",\"navy\",\"navy\",\"navy\",\"navy\",\"navy\",\"navy\",\"navy\",\"navy\",\"navy\",\"navy\",\"navy\",\"navy\",\"navy\",\"navy\",\"navy\",\"navy\",\"navy\",\"navy\",\"navy\",\"navy\",\"navy\",\"navy\",\"navy\",\"navy\",\"navy\",\"navy\",\"navy\",\"navy\",\"navy\",\"navy\",\"navy\",\"navy\",\"navy\",\"navy\",\"navy\",\"navy\",\"navy\",\"navy\",\"navy\",\"navy\",\"navy\",\"navy\",\"navy\",\"navy\",\"navy\",\"navy\"],\"x\":[0.9533318221391072,0.7230237246764283,0.11633942240107975,0.43143548971380075,0.29847372967668706,0.5142740989794046,0.13647025691822479,0.3597226221796156,0.5843223121554048,0.9386406287452779,0.11718419960318371,0.8914415376631545,0.8384589040108679,0.5393809777778035,0.444731685343681,0.1861620151034028,0.5291750779383579,0.9578617547993304,0.4195827407283059,0.0847898860202011,0.5041783099963666,0.19664609172656178,0.7475453352427462,0.05506990778450749,0.00660347932713079,0.380951186152788,0.9320255962886391,0.6464986703155033,0.2756898084877154,0.7965620268925716,0.7144497764696383,0.1966458794263175,0.464539572854055,0.4221100407428676,0.9285378055208375,0.14332178824648323,0.7898537147034849,0.9006248750296938,0.4346973684069956,0.6596894250371708,0.6842240910869754,0.7188717010237372,0.27752095119414943,0.9344486510950049,0.25315457805373,0.6934876984282041,0.427288741173557,0.09484604593225943,0.8172587285065566,0.7295979924078247,0.9615246558114552,0.5454484240308057,0.8106596356581391,0.36794526329707855,0.9203298924391138,0.4889451344286643,0.062074570666871276,0.028252762068345705,0.2738495143787193,0.09028542263128347,0.6133781330901981,0.5332167803107276,0.15371015746489858,0.7106030201778596,0.12545975577063573,0.5893754699226488,0.9404042682633438,0.707567792874785,0.4676002025340644,0.7951909131277783,0.5425197240197727,0.04753015296080143,0.2347242104251278,0.5992883482651322,0.9937749823096509,0.8882076038474407,0.0642777685625574,0.9730474401320981,0.20367559905490762,0.8563238171125205,0.6896900244526136,0.15146602292967015,0.16152672835308335,0.4534985861636446,0.062155512711778105,0.7749327012692051,0.6445699406631393,0.23596061581543082,0.3451968281071791,0.7218137083551451,0.3217207113704532,0.6027754336365867,0.24801254583119248,0.8903549849576797,0.7299519845502173,0.48520523697057993,0.7775755944725757,0.8201458905137623,0.3962612145242659,0.6802638268116256,0.9205350902785994,0.15974875736662797,0.7928213507913722,0.9554841486634611,0.5427382447499156,0.4041490868749309,0.3601440615477026,0.9284949389870673,0.24916634748975575,0.9586730352591475,0.7822642049802995,0.8474838230499591,0.008730949494177409,0.3564549885010935,0.21321669437692226,0.9350802119090752,0.16258488453416642,0.4070512734090401,0.7366172775685592,0.5048186842077754,0.9135601465128158,0.15473402682401993,0.19694175541214065,0.738813775409393,0.7100615920853036,0.6948500020178345,0.2192325740567299,0.5178996013552409,0.7053609810062396,0.6942789451049604,0.6805253639473704,0.5562385482096657,0.8745029260989405,0.03170289224407974,0.8638253920176588,0.7262735092066814,0.32527090610038756,0.9685816945044298,0.23241796444074825,0.8003507810637376,0.6270169287587778,0.42889647708309286,0.2501381965406384,0.6299748048479603,0.8867326147575061,0.9243143438035607,0.6078953758744442,0.12190144656909596,0.26658488474414066,0.5423953949819287,0.8915904769044786,0.44409670102066334,0.466689036113774,0.19005541078370403,0.3691088680588358,0.44225444870689323,0.29116654886063986,0.045226462025404146,0.6080961122095694,0.12340982913536258,0.36437805598721495,0.7589919385216083,0.10373885726706045,0.4575660364428985,0.10464160098850728,0.46540267319377093,0.8351392031836987,0.5120335024695942,0.6594450297041706,0.9708627158825086,0.9177737038305424,0.9124764162230573,0.7278424707239136,0.4649461120870756,0.42478873935978834,0.6694454137108065,0.4071490882876697,0.7216164765802674,0.5886896689528014,0.7631167923496628,0.6085221374357318,0.32535497637662025,0.8429056118881186,0.8306857469929255,0.4491781576363453,0.8204639567713525,0.06064218992001358,0.34750680678775725,0.4057426156418704,0.6703424157630778,0.6469081552309328,0.8813842968417577,0.13851375615599848,0.19281284811793975,0.5070635240975399,0.5817522496697756,0.5714333879617359,0.6693207452361029,0.6888977291054681,0.09737634487000268,0.39285593433604293,0.9862854895384989,0.9900650645715797,0.7578355919029636,0.9170021919972551,0.3497593541432793,0.12352243424645204,0.19538133414463388,0.3991068954148438,0.0020154673626966435,0.7150198504064904,0.9346282505756309,0.5917782575387633,0.13832560143573625,0.21130900649092865,0.6780890114776892,0.40441426781996703,0.3394856953561385,0.7483787986744834,0.24183733330185464,0.5061329150230068,0.4067880252233541,0.5081899350144625,0.0323935886614648,0.7432513981183271,0.743280963339885,0.631342992544883,0.2943372560642409,0.6366235090819238,0.30200650120933614,0.6567620067890088,0.33834715212725386,0.35970498207611545,0.4520381559364408,0.7104030980883178,0.9423625285429953,0.8582754926108612,0.7411565440283505,0.8229539897368693,0.4337602238192507,0.6977789916120527,0.5800208214788479,0.5638394987618436,0.4504478516050807,0.5876255893438619,0.12300525494638337,0.756719472047886,0.4987728227832037,0.011319801893243553,0.6269616579262931,0.7845237793052476,0.07548401393935178,0.6365758134852043,0.9350800142544048,0.853079063799039,0.6322231055340105,0.5902578938641084,0.1595307320335596,0.5221198785200691,0.6676985211516037,0.4924635880004167,0.7297123033592138,0.6709977981924102,0.7814510528128048,0.8332394701400685,0.6208467321033277,0.8033802725786174,0.05676869146991714,0.16535531718898044,0.6902775486004126,0.9122038611070338,0.7405822383439921,0.46116822112480815,0.16447746341409109,0.3365131527669909,0.037067681708953804,0.31383755538421776,0.5590551923708772,0.5781261684132647,0.7377066774494742,0.1549014030018262,0.1331018125968304,0.31775007986642223,0.8438956182873419,0.2969919825236351,0.49763872458233005,0.5446839923830005,0.7455497300256027,0.4679226543717082,0.347847016433813,0.6796286307735823,0.9453876163852163,0.0006003267387354461,0.6653660668808706,0.5260248742200018,0.48458130796480947,0.1366563610381123,0.6575240203995586,0.25835459740386446,0.07707748929300118,0.364081671789907,0.4623319881844441,0.8221153503907743,0.3992292197706029,0.6110534098255872,0.8904202590400669,0.6556808818154878,0.10997732017224349,0.6488830892316696,0.7777004450978744,0.8627804542296906,0.612055030508751,0.2897547660314942,0.9558783714764882,0.16960861056882715,0.7037776876716437,0.19722329641189573,0.774063648134569,0.05636631334731346,0.4079196970113733,0.16927538015354793,0.08378419888359245,0.2709287053273791,0.8542565877107396,0.7174747568583165,0.28211991585176344,0.423055813911672,0.11232656077448044,0.1671248273996715,0.05527047803190588,0.15682499746870704,0.8693778821807332,0.05798542875320356,0.4545803127904756,0.23724386709980105,0.5533369395814698,0.21075610426757974,0.0899793474689573,0.8330184822876956,0.1552041909543097,0.7652157427680354,0.2961890074352983,0.4196964800872772,0.11017348734014343,0.2093527053103149,0.23544422398789122,0.7396863278379264,0.3711503972665585,0.1984325465755029,0.9617381756181929,0.8752526336308496,0.7671347562359883,0.7175363607777064,0.945776220057524,0.5437214304605962,0.5622109494752171,0.991823693232688,0.3670611717848321,0.1844841410306366,0.6158825401811627,0.9684164212164538,0.4959931653109607,0.11208232705644516,0.9018394406971143,0.28119213206388505,0.9056850326070877,0.8151008187927364,0.444265393473778,0.7655545692002951,0.7521789537119248,0.6166362893418484,0.34027872847680707,0.15752574873093883,0.4350350195033391,0.15950586722432014,0.3906331182828223,0.5230974447443393,0.5086579137350082,0.48782574667912104,0.8486898154817202,0.05494855728930714,0.26738492550405335,0.2855162040846716,0.01246787110018388,0.8446875271416153,0.35820221397888863,0.29208389132793333,0.6518004161154097,0.0020361867940360545,0.5003149815674524,0.44627752171362267,0.041347120505737966,0.3109197547046473,0.6326826951435877,0.6336274972536285,0.09650738114793589,0.9226481868948123,0.8848125252519359,0.8011132836686499,0.3593837848405038,0.29087025406182754,0.7101945601015446,0.4588034280155123,0.7702504466463385,0.5753333580650537,0.013667137359261172,0.7839990776584173,0.44908892986596916,0.9658508125077097,0.9431896934877052,0.884961319681638,0.27346777307100534,0.5448179288653534,0.01979440253966047,0.4450527048645604,0.7356626999073465,0.5949789060423091,0.7207019002173116,0.2099244564543431,0.9368835485280306,0.9645272642668331,0.3204013795718005,0.699677758649323,0.7287646093872917,0.6468829549593099,0.09751910454946267,0.7603374147955116,0.0038527867588556974,0.11232966668545541,0.4496975353647935,0.24132198234485736,0.9011942793332576,0.5445155764673979,0.0440520750629243,0.4783694875885822,0.5267606433957821,0.3885315112063056,0.020470240148174668,0.41974435716751124,0.9958843837679021,0.863274310278926,0.8538711650339929,0.8496807582934849,0.21117426299992303,0.1510695302988151,0.7758793147363678,0.268519962601377,0.26409362106169676,0.5569073651381895,0.2497260562621324,0.4474477947126242,0.6885398052989457,0.833735674594685,0.3858061709864409,0.45187478775877077,0.5204447433142805,0.034185839854267375,0.7416056984477275,0.5307053099519182,0.022945270644850635,0.3581077557384542,0.9601114187123165,0.6809931203652754,0.4583259631113722,0.4021524141581301,0.11902362289758062,0.3840354274573864,0.4834887246011642,0.16269732407752346,0.015919943025138883,0.2540572106293274,0.15980663189811262,0.5645017053428479,0.331432486014944,0.0907488998684215,0.9952219134110617,0.991727603303439,0.9472289311705309,0.38313710251355937,0.24733950055797282,0.6591267804669846,0.06812346158567784,0.6338733381456574,0.5778344170295318,0.9116826408213455,0.06206794772602675,0.6331773875554088,0.5003764480047542,0.8195153694590486,0.6561476320852513,0.8706687300971118,0.4514912951896529,0.32028446203551864,0.16655224387983936,0.3591206141894927,0.08853921860849578,0.1549019736691376,0.18080470305023189,0.2725490029975097,0.7024938812702786],\"y\":[0.6934632124231198,0.057055312165484984,0.9625973293993058,0.48592733605786254,0.3080078634534791,0.5270311164649785,0.34398514042485495,0.00847065495981747,0.6527679663019796,0.972052910625095,0.9606127630074365,0.6412935178423527,0.6390877926125343,0.3615226356839454,0.6038211091890818,0.22033712467928213,0.9519734993767697,0.11089556647061616,0.06324208025214684,0.027122894544125642,0.20873791306426448,0.46892814397192095,0.9208525572275502,0.34027518639990406,0.42763897799493134,0.5021271904226156,0.635074162919713,0.055424205845699626,0.9214963982247335,0.24374173032991076,0.6223358903471973,0.016969604063188592,0.9789887918935571,0.753251784829904,0.28702042519006654,0.32501191510961247,0.6468538779204548,0.42694495982885605,0.7615404685406512,0.03571256475784568,0.9909796062795425,0.8447362536157537,0.571234517806404,0.20866996791004266,0.7896500068174331,0.3001722394440486,0.8269629549065659,0.707737519907584,0.5066726913160146,0.5203377496580254,0.7244342792051551,0.3350233192421206,0.010130114225033071,0.4421759676384671,0.011836913887486977,0.9542735136833674,0.35093396119159015,0.7111507008148018,0.3551636220260881,0.000703962781279377,0.19480306081671694,0.015871740184613348,0.5631453288575619,0.287740429123133,0.9673648824682959,0.1346626941112219,0.11958027637023583,0.6126283796917483,0.9782443459914594,0.27589499650872595,0.9460877235186258,0.41523634223384387,0.8791180781027671,0.15527912464058657,0.0933213473418879,0.527149320160171,0.19203320914172772,0.24238817406022706,0.0019235714612690913,0.33090910107430216,0.27810725847321094,0.8861556560579161,0.1429888219843981,0.5983699964791401,0.008119101722066535,0.07833531855919185,0.4649953893832176,0.7148077289521628,0.18405575840312993,0.7718494343514413,0.48077019524793674,0.801870316268818,0.5722173387604653,0.5276038921263039,0.006204887039758078,0.8865800779703757,0.3836598796312001,0.23506391554146755,0.9861344280809551,0.355020559986187,0.15489384304510045,0.035868764358985006,0.3483668649685111,0.6071857738643439,0.29232012330223023,0.08798183728519471,0.8313930026593066,0.0963348338792801,0.20817134780908442,0.9315542259306115,0.7610937160302386,0.7715107349404695,0.3951310477477621,0.9047026821683621,0.6779315343925086,0.747098498072308,0.5970327691421081,0.22677018447859842,0.046727062093757654,0.5128351652198276,0.298778122285862,0.6622246912154702,0.42392482250275876,0.5725106608403951,0.2533412693977457,0.9789626984206727,0.2434330008314065,0.18552927084962856,0.20900551030495484,0.19210217214566128,0.7032323890007296,0.15951503219516405,0.3098529174978788,0.13596670333825245,0.49217279730666286,0.8154826890092287,0.28067253274342563,0.3382653792837558,0.4792316965341227,0.8311146802359507,0.46446506774033425,0.3688525236135416,0.688058583025089,0.43950284607957746,0.6951468631137655,0.8330365640574843,0.2033177608685025,0.34006622265491404,0.006722907733522576,0.9443976594055323,0.13033358285548546,0.4938327439743272,0.19006099198351967,0.18279792078390467,0.3332352458537784,0.9086054761216625,0.08742443329254723,0.6447160723911632,0.5641990277024718,0.8449043527752312,0.8946964123036447,0.2006245197136598,0.1953732964103111,0.6224019684276508,0.47437997100537577,0.897968959262216,0.1611543687254614,0.18748535628946872,0.07015570422572537,0.048788086859045676,0.9989179172361619,0.0026028629569031514,0.7587530466615744,0.7023239222621804,0.9623018119057765,0.6958646491304162,0.40967924086012475,0.29953876882598096,0.5639512667809224,0.5358956115534625,0.10717811257411458,0.6505688065192973,0.06295109056391923,0.5597777645821793,0.9425111590345032,0.12847316228558914,0.7317778762632584,0.8733870997460007,0.7855231224661218,0.26314019076223805,0.7952190376830438,0.655764044922231,0.24260668630828597,0.17444770434266033,0.7335276401130909,0.6993867549932764,0.3964190324547925,0.05078776769152604,0.8000758270228073,0.6844651410572035,0.19829802698073717,0.9616307953511861,0.5193877959871228,0.2225879300637893,0.2729566773771199,0.391210957135377,0.6564498216227888,0.9385883759182507,0.5568815911796834,0.5031882573353034,0.6931880757999045,0.2198953136902556,0.1993224961230573,0.8206242336704422,0.9824353195869323,0.3994036887432765,0.4080840513048213,0.3877303085379391,0.8356870111522274,0.6326989689209984,0.5902254082725736,0.6179652431254206,0.12725381279227477,0.26999269765899625,0.03366032596288726,0.18817297593280735,0.6280035405121864,0.8471564766050459,0.08788582355536012,0.628011343317447,0.9421077773386762,0.8874993435081541,0.8984321973133204,0.4772215474054834,0.816938512715852,0.13516899944190108,0.768757037134035,0.25717695597052126,0.11635162254832865,0.2632627498901857,0.5065715573724389,0.03662513114942767,0.4206003253778865,0.5846685974838551,0.18542486161982863,0.1969078364060799,0.4081338456514174,0.5470087486475089,0.20758457818878484,0.05337726398015763,0.12888428002312824,0.8192553009014164,0.3628774391039886,0.3384770871190117,0.5330622305028464,0.12775948870738263,0.8082707155938271,0.2774768812402957,0.4400424151294402,0.6437678687923442,0.944476338951596,0.8128377664382156,0.3677722578263758,0.8834943797867821,0.9232365624235725,0.5024311314751008,0.7760469793752326,0.4543549605778544,0.632547242332763,0.061138286636216344,0.18058521546959438,0.8905596837406292,0.335632362843277,0.5308154024908648,0.10314050827545063,0.8002161848530345,0.44389318842916325,0.8447185710673154,0.7426956786197845,0.3623662017264241,0.26004122505038196,0.998376337349949,0.7201370893314126,0.4665295997957689,0.49247486880998037,0.8972285882974907,0.7867749079133335,0.25723501046081565,0.3593539505971953,0.20626867666993443,0.8826525234476227,0.49278375340932923,0.1393321071208442,0.16917835544115678,0.15625520735477283,0.48561092726065147,0.4899252297164618,0.8970816888530523,0.9570761925421879,0.4657814754350368,0.8763712209809835,0.12094834503852614,0.6941399022513899,0.59239103447326,0.7782379914131604,0.861001668730961,0.6686515704158241,0.12351231176380606,0.37077483154697366,0.7523166483438717,0.23745944840054234,0.8325316048117722,0.19902397685105278,0.6641068562580732,0.1599253474353829,0.48264196737912335,0.9400161972869479,0.17557056370143165,0.5008994154955227,0.472296677692404,0.32235474492564076,0.4674504161079539,0.815880626966667,0.05603928938106029,0.9178470491458809,0.3663144633807821,0.9879370095961629,0.8574454632206301,0.2722704953798707,0.6538001070225924,0.7635795040268981,0.7016441376760545,0.7672962660576901,0.31754513386366967,0.7250442200833587,0.9144703063197354,0.6351674131829802,0.3611026573107764,0.5803859189736871,0.8862271707494577,0.5587715616573111,0.4338788451749481,0.21454946310562506,0.4571517192185195,0.5909260913175315,0.41884454040507935,0.2590284642124703,0.17936762006706974,0.4124651922763314,0.14660918038834092,0.8161771466134126,0.3331766484877915,0.7992301856890411,0.6283067749754571,0.557956871999662,0.14264363410232206,0.37120334030160895,0.24025413393031347,0.381260050442791,0.367185854198245,0.5071985486459005,0.3631024476266892,0.6812682372692026,0.8175614118203809,0.3536418084851004,0.8077501301588071,0.9268161382993324,0.7609439023729765,0.3225412350670157,0.6605501659521472,0.15467391997512248,0.02830758267218092,0.42792348378056044,0.8552494421089951,0.9734233112552768,0.8400360108420408,0.685578454253633,0.5596421583193086,0.8330559520619073,0.4552389153988261,0.8490015017107317,0.3985957006264994,0.5504766821666081,0.5406048743747509,0.9136511732126148,0.34322744888899515,0.6240951882636484,0.5006421033192533,0.34435420893782387,0.13144672174645888,0.40141390173008873,0.9897900844352201,0.6365557965466977,0.7830980189068039,0.801868714664603,0.27947441610233237,0.31298264760503414,0.47992890214977235,0.50541685962195,0.8398250037149582,0.07046031439310174,0.12833822899724334,0.8013454620840706,0.6545142124430875,0.6102802975326811,0.5367897322984057,0.22934275419450956,0.016669639202928632,0.05092336453799451,0.26220327875689153,0.7942785979870869,0.21470854763872016,0.9334418769870029,0.0027186143826466447,0.6433549092610062,0.057478048343919896,0.832170482815914,0.016623239235135978,0.7136578839173202,0.8672630921296433,0.7725901426199232,0.8793073350326556,0.9411015029588111,0.09171655081845953,0.6068199584020566,0.5355038315731856,0.4432002258476223,0.6604977211938886,0.014075651576213932,0.9695615203138432,0.7297969430217581,0.8101198002893237,0.811782946603968,0.5701113538322867,0.9130740220160115,0.43278390626888796,0.36407107731121324,0.47686263640485427,0.45432264283919566,0.745356844826299,0.6918137335034068,0.45494616227689544,0.34654397876427157,0.6794269021198307,0.31468582127384115,0.6455497270219716,0.300515738191785,0.38156707983357185,0.7240393061237205,0.8331414972776117,0.7359207643321805,0.2873439371387593,0.8480067539786568,0.2994318775230792,0.6248207744456569,0.1972149045212238,0.013007121001745503,0.25723395609706423,0.5668635837492465,0.8099853415147175,0.37632137322330916,0.5146957929869749,0.6460429148663199,0.9044878382922861,0.9107234883975437,0.7182969883564199,0.6600925140389311,0.41265215473351635,0.09284974658375211,0.1664534563980461,0.7080455264584149,0.2939508184082896,0.35456907676008664,0.01350408734827846,0.44562304245837236,0.6287825457308942,0.6558459000432155,0.5568459147110948,0.4957208315476328,0.4169580515767145,0.2981236603364076,0.9738662955881444,0.11090609845342447,0.2351589712321671,0.7331329167317341,0.4812671954439065,0.8525933298482179,0.8277884253029025,0.3141730816598002,0.23406604694598332,0.782256870400205,0.4174736876682351,0.7767248544562676,0.02066943114128106,0.9480860378944393,0.15940477075612303,0.27457878034368577,0.3973852467758434,0.5039455619622144,0.7475438555952912]}},\"id\":\"177a052f-df75-4a76-92ff-eef96b44dd7e\",\"type\":\"ColumnDataSource\"},{\"attributes\":{\"plot\":{\"id\":\"e279a6a1-4187-4416-a5ed-bce40f760e1d\",\"subtype\":\"Figure\",\"type\":\"Plot\"},\"ticker\":{\"id\":\"7395ddc3-6f15-4aaa-8f7e-316611e77686\",\"type\":\"BasicTicker\"}},\"id\":\"69237310-aedf-4404-8e68-fec10407f61f\",\"type\":\"Grid\"},{\"attributes\":{\"callback\":null},\"id\":\"4b0ec430-2ea5-4a92-986e-b8ef2db33b49\",\"type\":\"DataRange1d\"},{\"attributes\":{\"active_drag\":\"auto\",\"active_scroll\":\"auto\",\"active_tap\":\"auto\",\"tools\":[{\"id\":\"f9b190ae-6f3c-4c26-ab1f-9e2e747a145c\",\"type\":\"LassoSelectTool\"}]},\"id\":\"96558bf2-9caf-4123-ae01-83ce6babbf63\",\"type\":\"Toolbar\"},{\"attributes\":{},\"id\":\"cf713ad9-7208-4002-aff8-2c33a2ffa475\",\"type\":\"BasicTickFormatter\"},{\"attributes\":{},\"id\":\"ef558c23-bddf-461a-b4d4-6d43280a6d40\",\"type\":\"BasicTickFormatter\"},{\"attributes\":{\"callback\":null,\"column_names\":[\"ym\",\"x\"],\"data\":{\"x\":[0,1],\"ym\":[0.5,0.5]}},\"id\":\"b8e78288-f532-4aa2-a687-e6df502f5a51\",\"type\":\"ColumnDataSource\"},{\"attributes\":{\"formatter\":{\"id\":\"cf713ad9-7208-4002-aff8-2c33a2ffa475\",\"type\":\"BasicTickFormatter\"},\"plot\":{\"id\":\"e279a6a1-4187-4416-a5ed-bce40f760e1d\",\"subtype\":\"Figure\",\"type\":\"Plot\"},\"ticker\":{\"id\":\"373d1a6f-e381-4929-9457-b49f9f5652e8\",\"type\":\"BasicTicker\"}},\"id\":\"49654325-05d8-421a-aba2-3dc611295525\",\"type\":\"LinearAxis\"},{\"attributes\":{\"data_source\":{\"id\":\"b8e78288-f532-4aa2-a687-e6df502f5a51\",\"type\":\"ColumnDataSource\"},\"glyph\":{\"id\":\"49209da6-a79f-4d36-a13a-feb221e1c4a9\",\"type\":\"Line\"},\"hover_glyph\":null,\"nonselection_glyph\":{\"id\":\"99f7a044-b9c4-401e-b486-b31ea8df9831\",\"type\":\"Line\"},\"selection_glyph\":null},\"id\":\"d82eb969-8e0d-49b7-975b-facfd610d4e0\",\"type\":\"GlyphRenderer\"},{\"attributes\":{\"line_alpha\":{\"value\":0.6},\"line_color\":{\"value\":\"orange\"},\"line_width\":{\"value\":5},\"x\":{\"field\":\"x\"},\"y\":{\"field\":\"ym\"}},\"id\":\"49209da6-a79f-4d36-a13a-feb221e1c4a9\",\"type\":\"Line\"},{\"attributes\":{\"fill_alpha\":{\"value\":0.1},\"fill_color\":{\"value\":\"#1f77b4\"},\"line_alpha\":{\"value\":0.1},\"line_color\":{\"value\":\"#1f77b4\"},\"size\":{\"units\":\"screen\",\"value\":8},\"x\":{\"field\":\"x\"},\"y\":{\"field\":\"y\"}},\"id\":\"e8fd5552-6b4f-4b32-a104-9194371bfc9f\",\"type\":\"Circle\"},{\"attributes\":{\"dimension\":1,\"plot\":{\"id\":\"e279a6a1-4187-4416-a5ed-bce40f760e1d\",\"subtype\":\"Figure\",\"type\":\"Plot\"},\"ticker\":{\"id\":\"373d1a6f-e381-4929-9457-b49f9f5652e8\",\"type\":\"BasicTicker\"}},\"id\":\"0b231ad5-00c8-43eb-8970-f8172f894688\",\"type\":\"Grid\"},{\"attributes\":{\"line_alpha\":{\"value\":0.1},\"line_color\":{\"value\":\"#1f77b4\"},\"line_width\":{\"value\":5},\"x\":{\"field\":\"x\"},\"y\":{\"field\":\"ym\"}},\"id\":\"99f7a044-b9c4-401e-b486-b31ea8df9831\",\"type\":\"Line\"},{\"attributes\":{},\"id\":\"cfa536b6-2223-4dc2-ad38-ef5ac78fd686\",\"type\":\"ToolEvents\"},{\"attributes\":{\"args\":{\"s2\":{\"id\":\"b8e78288-f532-4aa2-a687-e6df502f5a51\",\"type\":\"ColumnDataSource\"}},\"code\":\"\\n    var inds = cb_obj.get('selected')['1d'].indices;\\n    var d = cb_obj.get('data');\\n    var ym = 0\\n    \\n    if (inds.length == 0) { return; }\\n    \\n    for (i = 0; i < d['color'].length; i++) {\\n        d['color'][i] = \\\"navy\\\"\\n    }\\n    for (i = 0; i < inds.length; i++) {\\n        d['color'][inds[i]] = \\\"firebrick\\\"\\n        ym += d['y'][inds[i]]\\n    }\\n    \\n    ym /= inds.length\\n    s2.get('data')['ym'] = [ym, ym]\\n    \\n    cb_obj.trigger('change');\\n    s2.trigger('change');\\n\"},\"id\":\"a7e07cff-0cb4-48d8-9963-2a14beafc9c5\",\"type\":\"CustomJS\"},{\"attributes\":{\"data_source\":{\"id\":\"177a052f-df75-4a76-92ff-eef96b44dd7e\",\"type\":\"ColumnDataSource\"},\"glyph\":{\"id\":\"e323f62b-9de8-4dd4-811a-2f418aef2b3a\",\"type\":\"Circle\"},\"hover_glyph\":null,\"nonselection_glyph\":{\"id\":\"e8fd5552-6b4f-4b32-a104-9194371bfc9f\",\"type\":\"Circle\"},\"selection_glyph\":null},\"id\":\"69af26ac-5856-447d-9692-d60b7a6645f1\",\"type\":\"GlyphRenderer\"},{\"attributes\":{},\"id\":\"373d1a6f-e381-4929-9457-b49f9f5652e8\",\"type\":\"BasicTicker\"},{\"attributes\":{\"below\":[{\"id\":\"02b44d2b-c355-47a4-979e-e79e82c784c6\",\"type\":\"LinearAxis\"}],\"left\":[{\"id\":\"49654325-05d8-421a-aba2-3dc611295525\",\"type\":\"LinearAxis\"}],\"plot_height\":400,\"plot_width\":400,\"renderers\":[{\"id\":\"02b44d2b-c355-47a4-979e-e79e82c784c6\",\"type\":\"LinearAxis\"},{\"id\":\"69237310-aedf-4404-8e68-fec10407f61f\",\"type\":\"Grid\"},{\"id\":\"49654325-05d8-421a-aba2-3dc611295525\",\"type\":\"LinearAxis\"},{\"id\":\"0b231ad5-00c8-43eb-8970-f8172f894688\",\"type\":\"Grid\"},{\"id\":\"a832335f-c2cb-4fa8-9349-f5923ef1f1f7\",\"type\":\"PolyAnnotation\"},{\"id\":\"69af26ac-5856-447d-9692-d60b7a6645f1\",\"type\":\"GlyphRenderer\"},{\"id\":\"d82eb969-8e0d-49b7-975b-facfd610d4e0\",\"type\":\"GlyphRenderer\"}],\"title\":{\"id\":\"a1792a0d-539c-4247-9d01-9356463254e0\",\"type\":\"Title\"},\"tool_events\":{\"id\":\"cfa536b6-2223-4dc2-ad38-ef5ac78fd686\",\"type\":\"ToolEvents\"},\"toolbar\":{\"id\":\"96558bf2-9caf-4123-ae01-83ce6babbf63\",\"type\":\"Toolbar\"},\"x_range\":{\"id\":\"e482dd6e-6733-4981-94a8-03e220a9dfbc\",\"type\":\"DataRange1d\"},\"y_range\":{\"id\":\"4b0ec430-2ea5-4a92-986e-b8ef2db33b49\",\"type\":\"DataRange1d\"}},\"id\":\"e279a6a1-4187-4416-a5ed-bce40f760e1d\",\"subtype\":\"Figure\",\"type\":\"Plot\"},{\"attributes\":{},\"id\":\"7395ddc3-6f15-4aaa-8f7e-316611e77686\",\"type\":\"BasicTicker\"},{\"attributes\":{\"fill_alpha\":{\"value\":0.5},\"fill_color\":{\"value\":\"lightgrey\"},\"level\":\"overlay\",\"line_alpha\":{\"value\":1.0},\"line_color\":{\"value\":\"black\"},\"line_dash\":[4,4],\"line_width\":{\"value\":2},\"plot\":null,\"xs_units\":\"screen\",\"ys_units\":\"screen\"},\"id\":\"a832335f-c2cb-4fa8-9349-f5923ef1f1f7\",\"type\":\"PolyAnnotation\"},{\"attributes\":{\"formatter\":{\"id\":\"ef558c23-bddf-461a-b4d4-6d43280a6d40\",\"type\":\"BasicTickFormatter\"},\"plot\":{\"id\":\"e279a6a1-4187-4416-a5ed-bce40f760e1d\",\"subtype\":\"Figure\",\"type\":\"Plot\"},\"ticker\":{\"id\":\"7395ddc3-6f15-4aaa-8f7e-316611e77686\",\"type\":\"BasicTicker\"}},\"id\":\"02b44d2b-c355-47a4-979e-e79e82c784c6\",\"type\":\"LinearAxis\"}],\"root_ids\":[\"e279a6a1-4187-4416-a5ed-bce40f760e1d\"]},\"title\":\"Bokeh Application\",\"version\":\"0.12.1\"}};\n",
       "            var render_items = [{\"docid\":\"14b36fe3-d4c5-462b-9973-70ad3b052b88\",\"elementid\":\"d5fce30d-1c32-4ed9-990c-aca952f43a1a\",\"modelid\":\"e279a6a1-4187-4416-a5ed-bce40f760e1d\",\"notebook_comms_target\":\"42120996-ab5f-4416-9a22-de2c541168bb\"}];\n",
       "            \n",
       "            Bokeh.embed.embed_items(docs_json, render_items);\n",
       "        });\n",
       "      },\n",
       "      function(Bokeh) {\n",
       "      }\n",
       "    ];\n",
       "  \n",
       "    function run_inline_js() {\n",
       "      for (var i = 0; i < inline_js.length; i++) {\n",
       "        inline_js[i](window.Bokeh);\n",
       "      }\n",
       "    }\n",
       "  \n",
       "    if (window._bokeh_is_loading === 0) {\n",
       "      console.log(\"Bokeh: BokehJS loaded, going straight to plotting\");\n",
       "      run_inline_js();\n",
       "    } else {\n",
       "      load_libs(js_urls, function() {\n",
       "        console.log(\"Bokeh: BokehJS plotting callback run at\", now());\n",
       "        run_inline_js();\n",
       "      });\n",
       "    }\n",
       "  }(this));\n",
       "</script>"
      ]
     },
     "metadata": {},
     "output_type": "display_data"
    },
    {
     "data": {
      "text/html": [
       "<p><code>&lt;Bokeh Notebook handle for <strong>In[13]</strong>&gt;</code></p>"
      ],
      "text/plain": [
       "<bokeh.io._CommsHandle at 0x1134d4090>"
      ]
     },
     "execution_count": 13,
     "metadata": {},
     "output_type": "execute_result"
    }
   ],
   "source": [
    "from random import random\n",
    "\n",
    "x = [random() for x in range(500)]\n",
    "y = [random() for y in range(500)]\n",
    "color = [\"navy\"] * len(x)\n",
    "\n",
    "s = ColumnDataSource(data=dict(x=x, y=y, color=color))\n",
    "p = figure(plot_width=400, plot_height=400, tools=\"lasso_select\", title=\"Select Here\")\n",
    "p.circle('x', 'y', color='color', size=8, source=s, alpha=0.4)\n",
    "\n",
    "s2 = ColumnDataSource(data=dict(ym=[0.5, 0.5]))\n",
    "p.line(x=[0,1], y='ym', color=\"orange\", line_width=5, alpha=0.6, source=s2)\n",
    "\n",
    "s.callback = CustomJS(args=dict(s2=s2), code=\"\"\"\n",
    "    var inds = cb_obj.get('selected')['1d'].indices;\n",
    "    var d = cb_obj.get('data');\n",
    "    var ym = 0\n",
    "    \n",
    "    if (inds.length == 0) { return; }\n",
    "    \n",
    "    for (i = 0; i < d['color'].length; i++) {\n",
    "        d['color'][i] = \"navy\"\n",
    "    }\n",
    "    for (i = 0; i < inds.length; i++) {\n",
    "        d['color'][inds[i]] = \"firebrick\"\n",
    "        ym += d['y'][inds[i]]\n",
    "    }\n",
    "    \n",
    "    ym /= inds.length\n",
    "    s2.get('data')['ym'] = [ym, ym]\n",
    "    \n",
    "    cb_obj.trigger('change');\n",
    "    s2.trigger('change');\n",
    "\"\"\")\n",
    "\n",
    "show(p)"
   ]
  },
  {
   "cell_type": "markdown",
   "metadata": {
    "collapsed": true
   },
   "source": [
    "# More\n",
    "For more interactions, see the User Guide - http://bokeh.pydata.org/en/latest/docs/user_guide/interaction.html"
   ]
  },
  {
   "cell_type": "code",
   "execution_count": null,
   "metadata": {
    "collapsed": true
   },
   "outputs": [],
   "source": []
  }
 ],
 "metadata": {
  "anaconda-cloud": {},
  "kernelspec": {
   "display_name": "Python 2",
   "language": "python",
   "name": "python2"
  },
  "language_info": {
   "codemirror_mode": {
    "name": "ipython",
    "version": 2
   },
   "file_extension": ".py",
   "mimetype": "text/x-python",
   "name": "python",
   "nbconvert_exporter": "python",
   "pygments_lexer": "ipython2",
   "version": "2.7.12"
  },
  "widgets": {
   "state": {
    "335ae2c8ff80469e9adac668c2924989": {
     "views": [
      {
       "cell_index": 19
      }
     ]
    }
   },
   "version": "1.2.0"
  }
 },
 "nbformat": 4,
 "nbformat_minor": 0
}
