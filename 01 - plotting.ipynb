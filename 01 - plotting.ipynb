{
 "cells": [
  {
   "cell_type": "markdown",
   "metadata": {
    "collapsed": true
   },
   "source": [
    "<table style=\"float:left; border:none\">\n",
    "   <tr style=\"border:none\">\n",
    "       <td style=\"border:none\">\n",
    "           <a href=\"http://bokeh.pydata.org/\">     \n",
    "           <img \n",
    "               src=\"assets/images/bokeh-transparent.png\" \n",
    "               style=\"width:50px\"\n",
    "           >\n",
    "           </a>    \n",
    "       </td>\n",
    "       <td style=\"border:none\">\n",
    "           <h1>Bokeh Tutorial</h1>\n",
    "       </td>\n",
    "   </tr>\n",
    "</table>\n",
    "\n",
    "<div style=\"float:right;\"><h2>01. Basic Plotting Interface</h2></div>"
   ]
  },
  {
   "cell_type": "markdown",
   "metadata": {},
   "source": [
    "This section of the tutorial covers the [`bokeh.plotting`](http://bokeh.pydata.org/en/latest/docs/user_guide/plotting.html) \n",
    "interface. This interface is a \"mid-level\" interface, and the main idea can be described by the statement:\n",
    "\n",
    "**Starting from simple default figures (with sensible default tools, grids and axes), add markers and other shapes whose visual attributes are tied to directly data.**\n",
    "\n",
    "We will see that it is possible to customize and change all of the defaults, but having them means that it is possible to get up and running very quickly. "
   ]
  },
  {
   "cell_type": "markdown",
   "metadata": {},
   "source": [
    "# Imports and Setup\n",
    "\n",
    "When using the [`bokeh.plotting`](http://bokeh.pydata.org/en/latest/docs/user_guide/plotting.html) interface, there are a few common imports:\n",
    "* Use the [`figure`](http://bokeh.pydata.org/en/latest/docs/reference/plotting.html#bokeh.plotting.figure) function to  create new plot objects to work with. \n",
    "* Call the functions [`output_file`](http://bokeh.pydata.org/en/latest/docs/reference/resources_embedding.html#bokeh.io.output_file), [`output_notebook`](http://bokeh.pydata.org/en/latest/docs/reference/resources_embedding.html#bokeh.io.output_notebook), and [`output_server`](http://bokeh.pydata.org/en/latest/docs/reference/resources_embedding.html#bokeh.io.output_server) (possibly in combination) to tell Bokeh how to display or save output. \n",
    "* Execute [`show`](http://bokeh.pydata.org/en/latest/docs/reference/resources_embedding.html#bokeh.io.show) and  [`save`](http://bokeh.pydata.org/en/latest/docs/reference/resources_embedding.html#bokeh.io.save) to display or save plots and layouts."
   ]
  },
  {
   "cell_type": "code",
   "execution_count": 1,
   "metadata": {
    "collapsed": false
   },
   "outputs": [],
   "source": [
    "from bokeh.io import output_notebook, show\n",
    "from bokeh.plotting import figure"
   ]
  },
  {
   "cell_type": "code",
   "execution_count": null,
   "metadata": {
    "collapsed": true
   },
   "outputs": [],
   "source": []
  },
  {
   "cell_type": "markdown",
   "metadata": {},
   "source": [
    "In this case, we are in the Jupyter notebook, so call `output_notebook()`. We only need to call this once, and all subsequent calls to `show()` will display inline in the notebook."
   ]
  },
  {
   "cell_type": "code",
   "execution_count": 3,
   "metadata": {
    "collapsed": false
   },
   "outputs": [
    {
     "data": {
      "text/html": [
       "\n",
       "    <div class=\"bk-root\">\n",
       "        <a href=\"http://bokeh.pydata.org\" target=\"_blank\" class=\"bk-logo bk-logo-small bk-logo-notebook\"></a>\n",
       "        <span id=\"cc5914f2-5727-4f90-a68d-3397651a1655\">Loading BokehJS ...</span>\n",
       "    </div>"
      ]
     },
     "metadata": {},
     "output_type": "display_data"
    },
    {
     "data": {
      "application/javascript": [
       "\n",
       "(function(global) {\n",
       "  function now() {\n",
       "    return new Date();\n",
       "  }\n",
       "\n",
       "  var force = \"1\";\n",
       "\n",
       "  if (typeof (window._bokeh_onload_callbacks) === \"undefined\" || force !== \"\") {\n",
       "    window._bokeh_onload_callbacks = [];\n",
       "    window._bokeh_is_loading = undefined;\n",
       "  }\n",
       "\n",
       "  function run_callbacks() {\n",
       "    window._bokeh_onload_callbacks.forEach(function(callback) { callback() });\n",
       "    delete window._bokeh_onload_callbacks\n",
       "    console.info(\"Bokeh: all callbacks have finished\");\n",
       "  }\n",
       "\n",
       "  function load_libs(js_urls, callback) {\n",
       "    window._bokeh_onload_callbacks.push(callback);\n",
       "    if (window._bokeh_is_loading > 0) {\n",
       "      console.log(\"Bokeh: BokehJS is being loaded, scheduling callback at\", now());\n",
       "      return null;\n",
       "    }\n",
       "    if (js_urls == null || js_urls.length === 0) {\n",
       "      run_callbacks();\n",
       "      return null;\n",
       "    }\n",
       "    console.log(\"Bokeh: BokehJS not loaded, scheduling load and callback at\", now());\n",
       "    window._bokeh_is_loading = js_urls.length;\n",
       "    for (var i = 0; i < js_urls.length; i++) {\n",
       "      var url = js_urls[i];\n",
       "      var s = document.createElement('script');\n",
       "      s.src = url;\n",
       "      s.async = false;\n",
       "      s.onreadystatechange = s.onload = function() {\n",
       "        window._bokeh_is_loading--;\n",
       "        if (window._bokeh_is_loading === 0) {\n",
       "          console.log(\"Bokeh: all BokehJS libraries loaded\");\n",
       "          run_callbacks()\n",
       "        }\n",
       "      };\n",
       "      s.onerror = function() {\n",
       "        console.warn(\"failed to load library \" + url);\n",
       "      };\n",
       "      console.log(\"Bokeh: injecting script tag for BokehJS library: \", url);\n",
       "      document.getElementsByTagName(\"head\")[0].appendChild(s);\n",
       "    }\n",
       "  };\n",
       "\n",
       "  var js_urls = ['https://cdn.pydata.org/bokeh/release/bokeh-0.12.1.min.js', 'https://cdn.pydata.org/bokeh/release/bokeh-widgets-0.12.1.min.js', 'https://cdn.pydata.org/bokeh/release/bokeh-compiler-0.12.1.min.js'];\n",
       "\n",
       "  var inline_js = [\n",
       "    function(Bokeh) {\n",
       "      Bokeh.set_log_level(\"info\");\n",
       "    },\n",
       "    \n",
       "    function(Bokeh) {\n",
       "      \n",
       "      Bokeh.$(\"#cc5914f2-5727-4f90-a68d-3397651a1655\").text(\"BokehJS successfully loaded\");\n",
       "      var kernel = Jupyter.notebook.kernel\n",
       "      if (kernel.execute !== undefined) {\n",
       "          kernel.execute(\"import bokeh.io; bokeh.io._nb_loaded = True\");\n",
       "      }\n",
       "    },\n",
       "    function(Bokeh) {\n",
       "      console.log(\"Bokeh: injecting CSS: https://cdn.pydata.org/bokeh/release/bokeh-0.12.1.min.css\");\n",
       "      Bokeh.embed.inject_css(\"https://cdn.pydata.org/bokeh/release/bokeh-0.12.1.min.css\");\n",
       "      console.log(\"Bokeh: injecting CSS: https://cdn.pydata.org/bokeh/release/bokeh-widgets-0.12.1.min.css\");\n",
       "      Bokeh.embed.inject_css(\"https://cdn.pydata.org/bokeh/release/bokeh-widgets-0.12.1.min.css\");\n",
       "    }\n",
       "  ];\n",
       "\n",
       "  function run_inline_js() {\n",
       "    for (var i = 0; i < inline_js.length; i++) {\n",
       "      inline_js[i](window.Bokeh);\n",
       "    }\n",
       "  }\n",
       "\n",
       "  if (window._bokeh_is_loading === 0) {\n",
       "    console.log(\"Bokeh: BokehJS loaded, going straight to plotting\");\n",
       "    run_inline_js();\n",
       "  } else {\n",
       "    load_libs(js_urls, function() {\n",
       "      console.log(\"Bokeh: BokehJS plotting callback run at\", now());\n",
       "      run_inline_js();\n",
       "    });\n",
       "  }\n",
       "}(this));"
      ]
     },
     "metadata": {},
     "output_type": "display_data"
    }
   ],
   "source": [
    "output_notebook()"
   ]
  },
  {
   "cell_type": "markdown",
   "metadata": {},
   "source": [
    "# Some Basic Scatter Plots\n",
    "\n",
    "In this section you will see how to use Bokeh's various marker types to create simple scatter plots. "
   ]
  },
  {
   "cell_type": "code",
   "execution_count": 7,
   "metadata": {
    "collapsed": false
   },
   "outputs": [
    {
     "data": {
      "text/html": [
       "\n",
       "\n",
       "    <div class=\"bk-root\">\n",
       "        <div class=\"plotdiv\" id=\"2cc08f7f-950b-4a9b-ab21-42b6d89eb69e\"></div>\n",
       "    </div>\n",
       "<script type=\"text/javascript\">\n",
       "  \n",
       "  (function(global) {\n",
       "    function now() {\n",
       "      return new Date();\n",
       "    }\n",
       "  \n",
       "    var force = \"\";\n",
       "  \n",
       "    if (typeof (window._bokeh_onload_callbacks) === \"undefined\" || force !== \"\") {\n",
       "      window._bokeh_onload_callbacks = [];\n",
       "      window._bokeh_is_loading = undefined;\n",
       "    }\n",
       "  \n",
       "    function run_callbacks() {\n",
       "      window._bokeh_onload_callbacks.forEach(function(callback) { callback() });\n",
       "      delete window._bokeh_onload_callbacks\n",
       "      console.info(\"Bokeh: all callbacks have finished\");\n",
       "    }\n",
       "  \n",
       "    function load_libs(js_urls, callback) {\n",
       "      window._bokeh_onload_callbacks.push(callback);\n",
       "      if (window._bokeh_is_loading > 0) {\n",
       "        console.log(\"Bokeh: BokehJS is being loaded, scheduling callback at\", now());\n",
       "        return null;\n",
       "      }\n",
       "      if (js_urls == null || js_urls.length === 0) {\n",
       "        run_callbacks();\n",
       "        return null;\n",
       "      }\n",
       "      console.log(\"Bokeh: BokehJS not loaded, scheduling load and callback at\", now());\n",
       "      window._bokeh_is_loading = js_urls.length;\n",
       "      for (var i = 0; i < js_urls.length; i++) {\n",
       "        var url = js_urls[i];\n",
       "        var s = document.createElement('script');\n",
       "        s.src = url;\n",
       "        s.async = false;\n",
       "        s.onreadystatechange = s.onload = function() {\n",
       "          window._bokeh_is_loading--;\n",
       "          if (window._bokeh_is_loading === 0) {\n",
       "            console.log(\"Bokeh: all BokehJS libraries loaded\");\n",
       "            run_callbacks()\n",
       "          }\n",
       "        };\n",
       "        s.onerror = function() {\n",
       "          console.warn(\"failed to load library \" + url);\n",
       "        };\n",
       "        console.log(\"Bokeh: injecting script tag for BokehJS library: \", url);\n",
       "        document.getElementsByTagName(\"head\")[0].appendChild(s);\n",
       "      }\n",
       "    };var element = document.getElementById(\"2cc08f7f-950b-4a9b-ab21-42b6d89eb69e\");\n",
       "    if (element == null) {\n",
       "      console.log(\"Bokeh: ERROR: autoload.js configured with elementid '2cc08f7f-950b-4a9b-ab21-42b6d89eb69e' but no matching script tag was found. \")\n",
       "      return false;\n",
       "    }\n",
       "  \n",
       "    var js_urls = [];\n",
       "  \n",
       "    var inline_js = [\n",
       "      function(Bokeh) {\n",
       "        Bokeh.$(function() {\n",
       "            var docs_json = {\"15e87518-a16d-4777-88b4-3af44b0dae24\":{\"roots\":{\"references\":[{\"attributes\":{\"plot\":null,\"text\":null},\"id\":\"091cf999-65e2-4e4e-8244-414a22d72063\",\"type\":\"Title\"},{\"attributes\":{},\"id\":\"e8dd4d14-8152-4168-9188-fa0064aa54d7\",\"type\":\"BasicTickFormatter\"},{\"attributes\":{\"plot\":{\"id\":\"18663c8d-3d18-4fd4-99e6-d069d973603d\",\"subtype\":\"Figure\",\"type\":\"Plot\"}},\"id\":\"356390e1-652a-4257-9e23-ecb0dac0cd21\",\"type\":\"WheelZoomTool\"},{\"attributes\":{},\"id\":\"d893c811-fab7-4f59-851b-8dfda5a608e7\",\"type\":\"BasicTicker\"},{\"attributes\":{\"plot\":{\"id\":\"18663c8d-3d18-4fd4-99e6-d069d973603d\",\"subtype\":\"Figure\",\"type\":\"Plot\"}},\"id\":\"51d96ccd-a858-4a81-8da9-6c98551e5401\",\"type\":\"ResetTool\"},{\"attributes\":{\"active_drag\":\"auto\",\"active_scroll\":\"auto\",\"active_tap\":\"auto\",\"tools\":[{\"id\":\"2fc2f059-588f-4862-b702-17530269718c\",\"type\":\"PanTool\"},{\"id\":\"356390e1-652a-4257-9e23-ecb0dac0cd21\",\"type\":\"WheelZoomTool\"},{\"id\":\"27af3e0d-b3e0-4b01-be9d-ca2c5b0cf74b\",\"type\":\"BoxZoomTool\"},{\"id\":\"62e20ed8-7748-40d7-aba9-69e086499629\",\"type\":\"SaveTool\"},{\"id\":\"51d96ccd-a858-4a81-8da9-6c98551e5401\",\"type\":\"ResetTool\"},{\"id\":\"3854f00d-2319-427e-94eb-bdb8fea2d0a4\",\"type\":\"HelpTool\"}]},\"id\":\"2961aee5-c22d-4a90-8540-d72e2c4b1beb\",\"type\":\"Toolbar\"},{\"attributes\":{\"fill_alpha\":{\"value\":0.5},\"fill_color\":{\"value\":\"orange\"},\"line_color\":{\"value\":\"navy\"},\"size\":{\"units\":\"screen\",\"value\":15},\"x\":{\"field\":\"x\"},\"y\":{\"field\":\"y\"}},\"id\":\"be467978-935f-4913-96ca-e3c70d6c0856\",\"type\":\"Circle\"},{\"attributes\":{\"dimension\":1,\"plot\":{\"id\":\"18663c8d-3d18-4fd4-99e6-d069d973603d\",\"subtype\":\"Figure\",\"type\":\"Plot\"},\"ticker\":{\"id\":\"d893c811-fab7-4f59-851b-8dfda5a608e7\",\"type\":\"BasicTicker\"}},\"id\":\"21c9ebd8-0b78-48f8-abe6-d3fcb47b4a11\",\"type\":\"Grid\"},{\"attributes\":{\"data_source\":{\"id\":\"0ab5b5f1-822e-4dd6-978f-1387e6947966\",\"type\":\"ColumnDataSource\"},\"glyph\":{\"id\":\"be467978-935f-4913-96ca-e3c70d6c0856\",\"type\":\"Circle\"},\"hover_glyph\":null,\"nonselection_glyph\":{\"id\":\"4bdb345b-4cc6-496c-a8bc-644c0c057129\",\"type\":\"Circle\"},\"selection_glyph\":null},\"id\":\"1b44b53f-48c2-4c2c-bd04-acb7494c8efd\",\"type\":\"GlyphRenderer\"},{\"attributes\":{\"callback\":null,\"column_names\":[\"y\",\"x\"],\"data\":{\"x\":[1,2,3,4,5],\"y\":[6,7,2,4,5]}},\"id\":\"0ab5b5f1-822e-4dd6-978f-1387e6947966\",\"type\":\"ColumnDataSource\"},{\"attributes\":{\"overlay\":{\"id\":\"18399edf-502d-4365-8e2b-23238d045395\",\"type\":\"BoxAnnotation\"},\"plot\":{\"id\":\"18663c8d-3d18-4fd4-99e6-d069d973603d\",\"subtype\":\"Figure\",\"type\":\"Plot\"}},\"id\":\"27af3e0d-b3e0-4b01-be9d-ca2c5b0cf74b\",\"type\":\"BoxZoomTool\"},{\"attributes\":{},\"id\":\"455ffaf3-16ca-4774-99de-9f0c11477c30\",\"type\":\"ToolEvents\"},{\"attributes\":{\"formatter\":{\"id\":\"8cc27c92-ba30-47ba-b5fe-3fb9224e136a\",\"type\":\"BasicTickFormatter\"},\"plot\":{\"id\":\"18663c8d-3d18-4fd4-99e6-d069d973603d\",\"subtype\":\"Figure\",\"type\":\"Plot\"},\"ticker\":{\"id\":\"27b614cf-0691-48f7-bd56-91818d5a5e55\",\"type\":\"BasicTicker\"}},\"id\":\"d23c5c0b-58ff-4d5a-b0e4-7de15a4f0e11\",\"type\":\"LinearAxis\"},{\"attributes\":{\"below\":[{\"id\":\"d23c5c0b-58ff-4d5a-b0e4-7de15a4f0e11\",\"type\":\"LinearAxis\"}],\"left\":[{\"id\":\"8b7dfeb2-cacb-4d89-86e0-48e5647ffcd8\",\"type\":\"LinearAxis\"}],\"plot_height\":320,\"plot_width\":400,\"renderers\":[{\"id\":\"d23c5c0b-58ff-4d5a-b0e4-7de15a4f0e11\",\"type\":\"LinearAxis\"},{\"id\":\"2a8cf35b-a7a2-42ec-87de-17cace6721ab\",\"type\":\"Grid\"},{\"id\":\"8b7dfeb2-cacb-4d89-86e0-48e5647ffcd8\",\"type\":\"LinearAxis\"},{\"id\":\"21c9ebd8-0b78-48f8-abe6-d3fcb47b4a11\",\"type\":\"Grid\"},{\"id\":\"18399edf-502d-4365-8e2b-23238d045395\",\"type\":\"BoxAnnotation\"},{\"id\":\"1b44b53f-48c2-4c2c-bd04-acb7494c8efd\",\"type\":\"GlyphRenderer\"}],\"title\":{\"id\":\"091cf999-65e2-4e4e-8244-414a22d72063\",\"type\":\"Title\"},\"tool_events\":{\"id\":\"455ffaf3-16ca-4774-99de-9f0c11477c30\",\"type\":\"ToolEvents\"},\"toolbar\":{\"id\":\"2961aee5-c22d-4a90-8540-d72e2c4b1beb\",\"type\":\"Toolbar\"},\"x_range\":{\"id\":\"dc1eb52a-86a9-4556-92a9-dca762a524b1\",\"type\":\"DataRange1d\"},\"y_range\":{\"id\":\"bc17c1ca-6554-444a-94eb-c2fcb7e3b00d\",\"type\":\"DataRange1d\"}},\"id\":\"18663c8d-3d18-4fd4-99e6-d069d973603d\",\"subtype\":\"Figure\",\"type\":\"Plot\"},{\"attributes\":{\"plot\":{\"id\":\"18663c8d-3d18-4fd4-99e6-d069d973603d\",\"subtype\":\"Figure\",\"type\":\"Plot\"}},\"id\":\"2fc2f059-588f-4862-b702-17530269718c\",\"type\":\"PanTool\"},{\"attributes\":{\"plot\":{\"id\":\"18663c8d-3d18-4fd4-99e6-d069d973603d\",\"subtype\":\"Figure\",\"type\":\"Plot\"}},\"id\":\"3854f00d-2319-427e-94eb-bdb8fea2d0a4\",\"type\":\"HelpTool\"},{\"attributes\":{},\"id\":\"27b614cf-0691-48f7-bd56-91818d5a5e55\",\"type\":\"BasicTicker\"},{\"attributes\":{\"formatter\":{\"id\":\"e8dd4d14-8152-4168-9188-fa0064aa54d7\",\"type\":\"BasicTickFormatter\"},\"plot\":{\"id\":\"18663c8d-3d18-4fd4-99e6-d069d973603d\",\"subtype\":\"Figure\",\"type\":\"Plot\"},\"ticker\":{\"id\":\"d893c811-fab7-4f59-851b-8dfda5a608e7\",\"type\":\"BasicTicker\"}},\"id\":\"8b7dfeb2-cacb-4d89-86e0-48e5647ffcd8\",\"type\":\"LinearAxis\"},{\"attributes\":{},\"id\":\"8cc27c92-ba30-47ba-b5fe-3fb9224e136a\",\"type\":\"BasicTickFormatter\"},{\"attributes\":{\"callback\":null},\"id\":\"dc1eb52a-86a9-4556-92a9-dca762a524b1\",\"type\":\"DataRange1d\"},{\"attributes\":{\"bottom_units\":\"screen\",\"fill_alpha\":{\"value\":0.5},\"fill_color\":{\"value\":\"lightgrey\"},\"left_units\":\"screen\",\"level\":\"overlay\",\"line_alpha\":{\"value\":1.0},\"line_color\":{\"value\":\"black\"},\"line_dash\":[4,4],\"line_width\":{\"value\":2},\"plot\":null,\"render_mode\":\"css\",\"right_units\":\"screen\",\"top_units\":\"screen\"},\"id\":\"18399edf-502d-4365-8e2b-23238d045395\",\"type\":\"BoxAnnotation\"},{\"attributes\":{\"callback\":null},\"id\":\"bc17c1ca-6554-444a-94eb-c2fcb7e3b00d\",\"type\":\"DataRange1d\"},{\"attributes\":{\"fill_alpha\":{\"value\":0.1},\"fill_color\":{\"value\":\"#1f77b4\"},\"line_alpha\":{\"value\":0.1},\"line_color\":{\"value\":\"#1f77b4\"},\"size\":{\"units\":\"screen\",\"value\":15},\"x\":{\"field\":\"x\"},\"y\":{\"field\":\"y\"}},\"id\":\"4bdb345b-4cc6-496c-a8bc-644c0c057129\",\"type\":\"Circle\"},{\"attributes\":{\"plot\":{\"id\":\"18663c8d-3d18-4fd4-99e6-d069d973603d\",\"subtype\":\"Figure\",\"type\":\"Plot\"}},\"id\":\"62e20ed8-7748-40d7-aba9-69e086499629\",\"type\":\"SaveTool\"},{\"attributes\":{\"plot\":{\"id\":\"18663c8d-3d18-4fd4-99e6-d069d973603d\",\"subtype\":\"Figure\",\"type\":\"Plot\"},\"ticker\":{\"id\":\"27b614cf-0691-48f7-bd56-91818d5a5e55\",\"type\":\"BasicTicker\"}},\"id\":\"2a8cf35b-a7a2-42ec-87de-17cace6721ab\",\"type\":\"Grid\"}],\"root_ids\":[\"18663c8d-3d18-4fd4-99e6-d069d973603d\"]},\"title\":\"Bokeh Application\",\"version\":\"0.12.1\"}};\n",
       "            var render_items = [{\"docid\":\"15e87518-a16d-4777-88b4-3af44b0dae24\",\"elementid\":\"2cc08f7f-950b-4a9b-ab21-42b6d89eb69e\",\"modelid\":\"18663c8d-3d18-4fd4-99e6-d069d973603d\",\"notebook_comms_target\":\"03ddcb93-1fda-4e35-8831-591c32e11bc1\"}];\n",
       "            \n",
       "            Bokeh.embed.embed_items(docs_json, render_items);\n",
       "        });\n",
       "      },\n",
       "      function(Bokeh) {\n",
       "      }\n",
       "    ];\n",
       "  \n",
       "    function run_inline_js() {\n",
       "      for (var i = 0; i < inline_js.length; i++) {\n",
       "        inline_js[i](window.Bokeh);\n",
       "      }\n",
       "    }\n",
       "  \n",
       "    if (window._bokeh_is_loading === 0) {\n",
       "      console.log(\"Bokeh: BokehJS loaded, going straight to plotting\");\n",
       "      run_inline_js();\n",
       "    } else {\n",
       "      load_libs(js_urls, function() {\n",
       "        console.log(\"Bokeh: BokehJS plotting callback run at\", now());\n",
       "        run_inline_js();\n",
       "      });\n",
       "    }\n",
       "  }(this));\n",
       "</script>"
      ]
     },
     "metadata": {},
     "output_type": "display_data"
    },
    {
     "data": {
      "text/html": [
       "<p><code>&lt;Bokeh Notebook handle for <strong>In[7]</strong>&gt;</code></p>"
      ],
      "text/plain": [
       "<bokeh.io._CommsHandle at 0x104c7e210>"
      ]
     },
     "execution_count": 7,
     "metadata": {},
     "output_type": "execute_result"
    }
   ],
   "source": [
    "# create a new plot with default tools, using figure\n",
    "p = figure(plot_width=400, plot_height=320)\n",
    "\n",
    "# add a circle renderer with a size, color, and alpha\n",
    "p.circle([1, 2, 3, 4, 5], [6, 7, 2, 4, 5], size=15, line_color=\"navy\", fill_color=\"orange\", fill_alpha=0.5)\n",
    "\n",
    "show(p) # show the results"
   ]
  },
  {
   "cell_type": "markdown",
   "metadata": {},
   "source": [
    "All Bokeh markers accept `size` (measured in screen space units) as a property. Circles also have `radius` (measured in \"data\" space units). "
   ]
  },
  {
   "cell_type": "code",
   "execution_count": 5,
   "metadata": {
    "collapsed": true
   },
   "outputs": [],
   "source": [
    "# EXERCISE: Try changing the example above to set a `radius` value instead of `size`\n",
    "\n"
   ]
  },
  {
   "cell_type": "markdown",
   "metadata": {},
   "source": [
    "To scatter square markers instead of circles, you can use the `square` method on figures. "
   ]
  },
  {
   "cell_type": "code",
   "execution_count": 4,
   "metadata": {
    "collapsed": false
   },
   "outputs": [
    {
     "data": {
      "text/html": [
       "\n",
       "\n",
       "    <div class=\"bk-root\">\n",
       "        <div class=\"plotdiv\" id=\"89bd8dfb-b29b-4560-82cb-e4be0660e589\"></div>\n",
       "    </div>\n",
       "<script type=\"text/javascript\">\n",
       "  \n",
       "  (function(global) {\n",
       "    function now() {\n",
       "      return new Date();\n",
       "    }\n",
       "  \n",
       "    var force = \"\";\n",
       "  \n",
       "    if (typeof (window._bokeh_onload_callbacks) === \"undefined\" || force !== \"\") {\n",
       "      window._bokeh_onload_callbacks = [];\n",
       "      window._bokeh_is_loading = undefined;\n",
       "    }\n",
       "  \n",
       "    function run_callbacks() {\n",
       "      window._bokeh_onload_callbacks.forEach(function(callback) { callback() });\n",
       "      delete window._bokeh_onload_callbacks\n",
       "      console.info(\"Bokeh: all callbacks have finished\");\n",
       "    }\n",
       "  \n",
       "    function load_libs(js_urls, callback) {\n",
       "      window._bokeh_onload_callbacks.push(callback);\n",
       "      if (window._bokeh_is_loading > 0) {\n",
       "        console.log(\"Bokeh: BokehJS is being loaded, scheduling callback at\", now());\n",
       "        return null;\n",
       "      }\n",
       "      if (js_urls == null || js_urls.length === 0) {\n",
       "        run_callbacks();\n",
       "        return null;\n",
       "      }\n",
       "      console.log(\"Bokeh: BokehJS not loaded, scheduling load and callback at\", now());\n",
       "      window._bokeh_is_loading = js_urls.length;\n",
       "      for (var i = 0; i < js_urls.length; i++) {\n",
       "        var url = js_urls[i];\n",
       "        var s = document.createElement('script');\n",
       "        s.src = url;\n",
       "        s.async = false;\n",
       "        s.onreadystatechange = s.onload = function() {\n",
       "          window._bokeh_is_loading--;\n",
       "          if (window._bokeh_is_loading === 0) {\n",
       "            console.log(\"Bokeh: all BokehJS libraries loaded\");\n",
       "            run_callbacks()\n",
       "          }\n",
       "        };\n",
       "        s.onerror = function() {\n",
       "          console.warn(\"failed to load library \" + url);\n",
       "        };\n",
       "        console.log(\"Bokeh: injecting script tag for BokehJS library: \", url);\n",
       "        document.getElementsByTagName(\"head\")[0].appendChild(s);\n",
       "      }\n",
       "    };var element = document.getElementById(\"89bd8dfb-b29b-4560-82cb-e4be0660e589\");\n",
       "    if (element == null) {\n",
       "      console.log(\"Bokeh: ERROR: autoload.js configured with elementid '89bd8dfb-b29b-4560-82cb-e4be0660e589' but no matching script tag was found. \")\n",
       "      return false;\n",
       "    }\n",
       "  \n",
       "    var js_urls = [];\n",
       "  \n",
       "    var inline_js = [\n",
       "      function(Bokeh) {\n",
       "        Bokeh.$(function() {\n",
       "            var docs_json = {\"33406707-2903-4df5-9ff3-683bf259c5b2\":{\"roots\":{\"references\":[{\"attributes\":{\"plot\":{\"id\":\"49cd20d2-14ba-4383-a7c5-a819b7e63bda\",\"subtype\":\"Figure\",\"type\":\"Plot\"},\"ticker\":{\"id\":\"dbc9a87b-c82d-4ccc-8f6f-343f8527e908\",\"type\":\"BasicTicker\"}},\"id\":\"09498622-52a2-4051-957a-530cffe5a11d\",\"type\":\"Grid\"},{\"attributes\":{\"below\":[{\"id\":\"1c8d0106-6022-40f4-9ee5-e899e09596d4\",\"type\":\"LinearAxis\"}],\"left\":[{\"id\":\"3303841b-f237-4b0c-9058-e8b1f0c93962\",\"type\":\"LinearAxis\"}],\"plot_height\":400,\"plot_width\":400,\"renderers\":[{\"id\":\"1c8d0106-6022-40f4-9ee5-e899e09596d4\",\"type\":\"LinearAxis\"},{\"id\":\"09498622-52a2-4051-957a-530cffe5a11d\",\"type\":\"Grid\"},{\"id\":\"3303841b-f237-4b0c-9058-e8b1f0c93962\",\"type\":\"LinearAxis\"},{\"id\":\"9e348954-e351-430d-b9f9-3a0e52c52d46\",\"type\":\"Grid\"},{\"id\":\"d0f1bbb3-cf9e-49b8-8273-351623032790\",\"type\":\"BoxAnnotation\"},{\"id\":\"67af664b-5283-4ef1-8f41-692e035dffaa\",\"type\":\"GlyphRenderer\"}],\"title\":{\"id\":\"eeef99d3-4520-4475-a17e-3a51a017ac67\",\"type\":\"Title\"},\"tool_events\":{\"id\":\"58b55750-820c-48b6-9e80-49c649d708ac\",\"type\":\"ToolEvents\"},\"toolbar\":{\"id\":\"f1944611-ea6a-417f-b446-a8806beb2b91\",\"type\":\"Toolbar\"},\"x_range\":{\"id\":\"e19ee0a2-41ec-47e0-8d56-e2e27219260f\",\"type\":\"DataRange1d\"},\"y_range\":{\"id\":\"5c37520f-148d-4773-a6b8-a60bb2bc97b5\",\"type\":\"DataRange1d\"}},\"id\":\"49cd20d2-14ba-4383-a7c5-a819b7e63bda\",\"subtype\":\"Figure\",\"type\":\"Plot\"},{\"attributes\":{\"callback\":null},\"id\":\"5c37520f-148d-4773-a6b8-a60bb2bc97b5\",\"type\":\"DataRange1d\"},{\"attributes\":{\"active_drag\":\"auto\",\"active_scroll\":\"auto\",\"active_tap\":\"auto\",\"tools\":[{\"id\":\"87c7d764-ab51-47e5-bbf4-81a9207bcce1\",\"type\":\"PanTool\"},{\"id\":\"adfb1ba9-7d29-4998-887d-c3048b03774e\",\"type\":\"WheelZoomTool\"},{\"id\":\"72e2df69-2003-488c-8cd9-3de6b97d8009\",\"type\":\"BoxZoomTool\"},{\"id\":\"282fb9ad-28c8-4aac-a487-841424b6d1f8\",\"type\":\"SaveTool\"},{\"id\":\"522e6d46-72ee-4e85-8cef-b489d6bfc6a0\",\"type\":\"ResetTool\"},{\"id\":\"a0f395c7-8399-4144-853b-679c9dde9cf6\",\"type\":\"HelpTool\"}]},\"id\":\"f1944611-ea6a-417f-b446-a8806beb2b91\",\"type\":\"Toolbar\"},{\"attributes\":{\"plot\":{\"id\":\"49cd20d2-14ba-4383-a7c5-a819b7e63bda\",\"subtype\":\"Figure\",\"type\":\"Plot\"}},\"id\":\"522e6d46-72ee-4e85-8cef-b489d6bfc6a0\",\"type\":\"ResetTool\"},{\"attributes\":{},\"id\":\"eefeb745-ecf9-41cc-a8d1-8e35ebb3988e\",\"type\":\"BasicTickFormatter\"},{\"attributes\":{\"dimension\":1,\"plot\":{\"id\":\"49cd20d2-14ba-4383-a7c5-a819b7e63bda\",\"subtype\":\"Figure\",\"type\":\"Plot\"},\"ticker\":{\"id\":\"e9f50bfd-b130-4854-a266-10ddcf921384\",\"type\":\"BasicTicker\"}},\"id\":\"9e348954-e351-430d-b9f9-3a0e52c52d46\",\"type\":\"Grid\"},{\"attributes\":{\"fill_alpha\":{\"value\":0.1},\"fill_color\":{\"value\":\"#1f77b4\"},\"line_alpha\":{\"value\":0.1},\"line_color\":{\"value\":\"#1f77b4\"},\"size\":{\"field\":\"size\",\"units\":\"screen\"},\"x\":{\"field\":\"x\"},\"y\":{\"field\":\"y\"}},\"id\":\"bb446138-cc9d-4e50-8965-fcddf597ad25\",\"type\":\"Square\"},{\"attributes\":{\"plot\":{\"id\":\"49cd20d2-14ba-4383-a7c5-a819b7e63bda\",\"subtype\":\"Figure\",\"type\":\"Plot\"}},\"id\":\"a0f395c7-8399-4144-853b-679c9dde9cf6\",\"type\":\"HelpTool\"},{\"attributes\":{\"callback\":null,\"column_names\":[\"x\",\"y\",\"size\"],\"data\":{\"size\":[10,15,20,25,30],\"x\":[1,2,3,4,5],\"y\":[6,7,2,4,5]}},\"id\":\"5adfae13-ed35-40f6-af6b-5c964db9c0ae\",\"type\":\"ColumnDataSource\"},{\"attributes\":{},\"id\":\"e9f50bfd-b130-4854-a266-10ddcf921384\",\"type\":\"BasicTicker\"},{\"attributes\":{\"bottom_units\":\"screen\",\"fill_alpha\":{\"value\":0.5},\"fill_color\":{\"value\":\"lightgrey\"},\"left_units\":\"screen\",\"level\":\"overlay\",\"line_alpha\":{\"value\":1.0},\"line_color\":{\"value\":\"black\"},\"line_dash\":[4,4],\"line_width\":{\"value\":2},\"plot\":null,\"render_mode\":\"css\",\"right_units\":\"screen\",\"top_units\":\"screen\"},\"id\":\"d0f1bbb3-cf9e-49b8-8273-351623032790\",\"type\":\"BoxAnnotation\"},{\"attributes\":{\"formatter\":{\"id\":\"6092480f-42d7-45f2-96fa-568dd798cc9a\",\"type\":\"BasicTickFormatter\"},\"plot\":{\"id\":\"49cd20d2-14ba-4383-a7c5-a819b7e63bda\",\"subtype\":\"Figure\",\"type\":\"Plot\"},\"ticker\":{\"id\":\"e9f50bfd-b130-4854-a266-10ddcf921384\",\"type\":\"BasicTicker\"}},\"id\":\"3303841b-f237-4b0c-9058-e8b1f0c93962\",\"type\":\"LinearAxis\"},{\"attributes\":{\"data_source\":{\"id\":\"5adfae13-ed35-40f6-af6b-5c964db9c0ae\",\"type\":\"ColumnDataSource\"},\"glyph\":{\"id\":\"af743782-599e-4db1-ba13-e574ac93a366\",\"type\":\"Square\"},\"hover_glyph\":null,\"nonselection_glyph\":{\"id\":\"bb446138-cc9d-4e50-8965-fcddf597ad25\",\"type\":\"Square\"},\"selection_glyph\":null},\"id\":\"67af664b-5283-4ef1-8f41-692e035dffaa\",\"type\":\"GlyphRenderer\"},{\"attributes\":{\"formatter\":{\"id\":\"eefeb745-ecf9-41cc-a8d1-8e35ebb3988e\",\"type\":\"BasicTickFormatter\"},\"plot\":{\"id\":\"49cd20d2-14ba-4383-a7c5-a819b7e63bda\",\"subtype\":\"Figure\",\"type\":\"Plot\"},\"ticker\":{\"id\":\"dbc9a87b-c82d-4ccc-8f6f-343f8527e908\",\"type\":\"BasicTicker\"}},\"id\":\"1c8d0106-6022-40f4-9ee5-e899e09596d4\",\"type\":\"LinearAxis\"},{\"attributes\":{},\"id\":\"dbc9a87b-c82d-4ccc-8f6f-343f8527e908\",\"type\":\"BasicTicker\"},{\"attributes\":{\"callback\":null},\"id\":\"e19ee0a2-41ec-47e0-8d56-e2e27219260f\",\"type\":\"DataRange1d\"},{\"attributes\":{\"plot\":{\"id\":\"49cd20d2-14ba-4383-a7c5-a819b7e63bda\",\"subtype\":\"Figure\",\"type\":\"Plot\"}},\"id\":\"87c7d764-ab51-47e5-bbf4-81a9207bcce1\",\"type\":\"PanTool\"},{\"attributes\":{\"fill_alpha\":{\"value\":0.6},\"fill_color\":{\"value\":\"firebrick\"},\"line_alpha\":{\"value\":0.6},\"line_color\":{\"value\":\"firebrick\"},\"size\":{\"field\":\"size\",\"units\":\"screen\"},\"x\":{\"field\":\"x\"},\"y\":{\"field\":\"y\"}},\"id\":\"af743782-599e-4db1-ba13-e574ac93a366\",\"type\":\"Square\"},{\"attributes\":{},\"id\":\"6092480f-42d7-45f2-96fa-568dd798cc9a\",\"type\":\"BasicTickFormatter\"},{\"attributes\":{\"plot\":{\"id\":\"49cd20d2-14ba-4383-a7c5-a819b7e63bda\",\"subtype\":\"Figure\",\"type\":\"Plot\"}},\"id\":\"282fb9ad-28c8-4aac-a487-841424b6d1f8\",\"type\":\"SaveTool\"},{\"attributes\":{},\"id\":\"58b55750-820c-48b6-9e80-49c649d708ac\",\"type\":\"ToolEvents\"},{\"attributes\":{\"plot\":null,\"text\":null},\"id\":\"eeef99d3-4520-4475-a17e-3a51a017ac67\",\"type\":\"Title\"},{\"attributes\":{\"overlay\":{\"id\":\"d0f1bbb3-cf9e-49b8-8273-351623032790\",\"type\":\"BoxAnnotation\"},\"plot\":{\"id\":\"49cd20d2-14ba-4383-a7c5-a819b7e63bda\",\"subtype\":\"Figure\",\"type\":\"Plot\"}},\"id\":\"72e2df69-2003-488c-8cd9-3de6b97d8009\",\"type\":\"BoxZoomTool\"},{\"attributes\":{\"plot\":{\"id\":\"49cd20d2-14ba-4383-a7c5-a819b7e63bda\",\"subtype\":\"Figure\",\"type\":\"Plot\"}},\"id\":\"adfb1ba9-7d29-4998-887d-c3048b03774e\",\"type\":\"WheelZoomTool\"}],\"root_ids\":[\"49cd20d2-14ba-4383-a7c5-a819b7e63bda\"]},\"title\":\"Bokeh Application\",\"version\":\"0.12.1\"}};\n",
       "            var render_items = [{\"docid\":\"33406707-2903-4df5-9ff3-683bf259c5b2\",\"elementid\":\"89bd8dfb-b29b-4560-82cb-e4be0660e589\",\"modelid\":\"49cd20d2-14ba-4383-a7c5-a819b7e63bda\",\"notebook_comms_target\":\"f7efa9d2-31c5-46c4-bbd7-0789b2bf23bc\"}];\n",
       "            \n",
       "            Bokeh.embed.embed_items(docs_json, render_items);\n",
       "        });\n",
       "      },\n",
       "      function(Bokeh) {\n",
       "      }\n",
       "    ];\n",
       "  \n",
       "    function run_inline_js() {\n",
       "      for (var i = 0; i < inline_js.length; i++) {\n",
       "        inline_js[i](window.Bokeh);\n",
       "      }\n",
       "    }\n",
       "  \n",
       "    if (window._bokeh_is_loading === 0) {\n",
       "      console.log(\"Bokeh: BokehJS loaded, going straight to plotting\");\n",
       "      run_inline_js();\n",
       "    } else {\n",
       "      load_libs(js_urls, function() {\n",
       "        console.log(\"Bokeh: BokehJS plotting callback run at\", now());\n",
       "        run_inline_js();\n",
       "      });\n",
       "    }\n",
       "  }(this));\n",
       "</script>"
      ]
     },
     "metadata": {},
     "output_type": "display_data"
    },
    {
     "data": {
      "text/html": [
       "<p><code>&lt;Bokeh Notebook handle for <strong>In[4]</strong>&gt;</code></p>"
      ],
      "text/plain": [
       "<bokeh.io._CommsHandle at 0x1134ecad0>"
      ]
     },
     "execution_count": 4,
     "metadata": {},
     "output_type": "execute_result"
    }
   ],
   "source": [
    "# create a new plot using figure\n",
    "p = figure(plot_width=400, plot_height=400)\n",
    "\n",
    "# add a square renderer with a size, color, alpha, and sizes\n",
    "p.square([1, 2, 3, 4, 5], [6, 7, 2, 4, 5], size=[10, 15, 20, 25, 30], color=\"firebrick\", alpha=0.6)\n",
    "\n",
    "show(p) # show the results"
   ]
  },
  {
   "cell_type": "markdown",
   "metadata": {},
   "source": [
    "Note that in the example above, we are also specifying different sizes for each individual marker. ***In general, all of a glyph's properties can be \"vectorized\" in this fashion. ***  Also note that we have passed ``color`` as a shorthand to set both the line and fill colors easily at the same time. This is a convenience specific to ``bokeh.plotting``.\n",
    "\n",
    "</table><p>There are many marker types available in Bokeh, you can see details and\n",
    "example plots for all of them in the reference guide by clicking on entries in the list below:</p>\n",
    "<table class=\"hlist\" style=\"float:left\"><tr><td><ul>\n",
    "<li><a href=\"http://bokeh.pydata.org/en/latest/docs/reference/plotting.html#bokeh.plotting.Figure.asterisk\" title=\"bokeh.plotting.Figure.asterisk\"><code class=\"xref py py-func docutils literal\"><span class=\"pre\">asterisk()</span></code></a></li>\n",
    "<li><a href=\"http://bokeh.pydata.org/en/latest/docs/reference/plotting.html#bokeh.plotting.Figure.circle\" title=\"bokeh.plotting.Figure.circle\"><code class=\"xref py py-func docutils literal\"><span class=\"pre\">circle()</span></code></a></li>\n",
    "<li><a href=\"http://bokeh.pydata.org/en/latest/docs/reference/plotting.html#bokeh.plotting.Figure.circle_cross\" title=\"bokeh.plotting.Figure.circle_cross\"><code class=\"xref py py-func docutils literal\"><span class=\"pre\">circle_cross()</span></code></a></li>\n",
    "<li><a href=\"http://bokeh.pydata.org/en/latest/docs/reference/plotting.html#bokeh.plotting.Figure.circle_x\" title=\"bokeh.plotting.Figure.circle_x\"><code class=\"xref py py-func docutils literal\"><span class=\"pre\">circle_x()</span></code></a></li>\n",
    "<li><a href=\"http://bokeh.pydata.org/en/latest/docs/reference/plotting.html#bokeh.plotting.Figure.cross\" title=\"bokeh.plotting.Figure.cross\"><code class=\"xref py py-func docutils literal\"><span class=\"pre\">cross()</span></code></a></li>\n",
    "</ul>\n",
    "</td><td><ul>\n",
    "<li><a href=\"http://bokeh.pydata.org/en/latest/docs/reference/plotting.html#bokeh.plotting.Figure.diamond\" title=\"bokeh.plotting.Figure.diamond\"><code class=\"xref py py-func docutils literal\"><span class=\"pre\">diamond()</span></code></a></li>\n",
    "<li><a href=\"http://bokeh.pydata.org/en/latest/docs/reference/plotting.html#bokeh.plotting.Figure.diamond_cross\" title=\"bokeh.plotting.Figure.diamond_cross\"><code class=\"xref py py-func docutils literal\"><span class=\"pre\">diamond_cross()</span></code></a></li>\n",
    "<li><a href=\"http://bokeh.pydata.org/en/latest/docs/reference/plotting.html#bokeh.plotting.Figure.inverted_triangle\" title=\"bokeh.plotting.Figure.inverted_triangle\"><code class=\"xref py py-func docutils literal\"><span class=\"pre\">inverted_triangle()</span></code></a></li>\n",
    "<li><a href=\"http://bokeh.pydata.org/en/latest/docs/reference/plotting.html#bokeh.plotting.Figure.square\" title=\"bokeh.plotting.Figure.square\"><code class=\"xref py py-func docutils literal\"><span class=\"pre\">square()</span></code></a></li>\n",
    "</ul>\n",
    "</td><td><ul>\n",
    "<li><a href=\"http://bokeh.pydata.org/en/latest/docs/reference/plotting.html#bokeh.plotting.Figure.square_cross\" title=\"bokeh.plotting.Figure.square_cross\"><code class=\"xref py py-func docutils literal\"><span class=\"pre\">square_cross()</span></code></a></li>\n",
    "<li><a href=\"http://bokeh.pydata.org/en/latest/docs/reference/plotting.html#bokeh.plotting.Figure.square_x\" title=\"bokeh.plotting.Figure.square_x\"><code class=\"xref py py-func docutils literal\"><span class=\"pre\">square_x()</span></code></a></li>\n",
    "<li><a href=\"http://bokeh.pydata.org/en/latest/docs/reference/plotting.html#bokeh.plotting.Figure.triangle\" title=\"bokeh.plotting.Figure.triangle\"><code class=\"xref py py-func docutils literal\"><span class=\"pre\">triangle()</span></code></a></li>\n",
    "<li><a href=\"http://bokeh.pydata.org/en/latest/docs/reference/plotting.html#bokeh.plotting.Figure.x\" title=\"bokeh.plotting.Figure.x\"><code class=\"xref py py-func docutils literal\"><span class=\"pre\">x()</span></code></a></li>\n",
    "</ul>\n",
    "</td></tr></table>"
   ]
  },
  {
   "cell_type": "code",
   "execution_count": 15,
   "metadata": {
    "collapsed": false
   },
   "outputs": [
    {
     "data": {
      "text/html": [
       "\n",
       "\n",
       "    <div class=\"bk-root\">\n",
       "        <div class=\"plotdiv\" id=\"c8ede2c9-f933-4572-8ff3-065ad6253e7d\"></div>\n",
       "    </div>\n",
       "<script type=\"text/javascript\">\n",
       "  \n",
       "  (function(global) {\n",
       "    function now() {\n",
       "      return new Date();\n",
       "    }\n",
       "  \n",
       "    var force = \"\";\n",
       "  \n",
       "    if (typeof (window._bokeh_onload_callbacks) === \"undefined\" || force !== \"\") {\n",
       "      window._bokeh_onload_callbacks = [];\n",
       "      window._bokeh_is_loading = undefined;\n",
       "    }\n",
       "  \n",
       "    function run_callbacks() {\n",
       "      window._bokeh_onload_callbacks.forEach(function(callback) { callback() });\n",
       "      delete window._bokeh_onload_callbacks\n",
       "      console.info(\"Bokeh: all callbacks have finished\");\n",
       "    }\n",
       "  \n",
       "    function load_libs(js_urls, callback) {\n",
       "      window._bokeh_onload_callbacks.push(callback);\n",
       "      if (window._bokeh_is_loading > 0) {\n",
       "        console.log(\"Bokeh: BokehJS is being loaded, scheduling callback at\", now());\n",
       "        return null;\n",
       "      }\n",
       "      if (js_urls == null || js_urls.length === 0) {\n",
       "        run_callbacks();\n",
       "        return null;\n",
       "      }\n",
       "      console.log(\"Bokeh: BokehJS not loaded, scheduling load and callback at\", now());\n",
       "      window._bokeh_is_loading = js_urls.length;\n",
       "      for (var i = 0; i < js_urls.length; i++) {\n",
       "        var url = js_urls[i];\n",
       "        var s = document.createElement('script');\n",
       "        s.src = url;\n",
       "        s.async = false;\n",
       "        s.onreadystatechange = s.onload = function() {\n",
       "          window._bokeh_is_loading--;\n",
       "          if (window._bokeh_is_loading === 0) {\n",
       "            console.log(\"Bokeh: all BokehJS libraries loaded\");\n",
       "            run_callbacks()\n",
       "          }\n",
       "        };\n",
       "        s.onerror = function() {\n",
       "          console.warn(\"failed to load library \" + url);\n",
       "        };\n",
       "        console.log(\"Bokeh: injecting script tag for BokehJS library: \", url);\n",
       "        document.getElementsByTagName(\"head\")[0].appendChild(s);\n",
       "      }\n",
       "    };var element = document.getElementById(\"c8ede2c9-f933-4572-8ff3-065ad6253e7d\");\n",
       "    if (element == null) {\n",
       "      console.log(\"Bokeh: ERROR: autoload.js configured with elementid 'c8ede2c9-f933-4572-8ff3-065ad6253e7d' but no matching script tag was found. \")\n",
       "      return false;\n",
       "    }\n",
       "  \n",
       "    var js_urls = [];\n",
       "  \n",
       "    var inline_js = [\n",
       "      function(Bokeh) {\n",
       "        Bokeh.$(function() {\n",
       "            var docs_json = {\"5140374e-0551-4e83-a095-0564cef0073a\":{\"roots\":{\"references\":[{\"attributes\":{\"formatter\":{\"id\":\"9c77c7b1-a844-4ed2-81c2-7181f62c3ef1\",\"type\":\"BasicTickFormatter\"},\"plot\":{\"id\":\"d66d4e83-9c9e-4cac-b3f1-ea4a32b0b166\",\"subtype\":\"Figure\",\"type\":\"Plot\"},\"ticker\":{\"id\":\"d0813e2b-1179-4c85-8451-dbff16f2d5ce\",\"type\":\"BasicTicker\"}},\"id\":\"00d97900-fc19-44d0-a635-6ff976bc5394\",\"type\":\"LinearAxis\"},{\"attributes\":{},\"id\":\"9c77c7b1-a844-4ed2-81c2-7181f62c3ef1\",\"type\":\"BasicTickFormatter\"},{\"attributes\":{\"callback\":null,\"column_names\":[\"x\",\"y\",\"size\"],\"data\":{\"size\":[10,15,20,25,30],\"x\":[1,2,3,4,5],\"y\":[6,7,2,4,5]}},\"id\":\"431b4ddc-8439-4b27-897a-7f0ce73d1720\",\"type\":\"ColumnDataSource\"},{\"attributes\":{\"data_source\":{\"id\":\"94d66e01-7d72-43ec-9930-aa08297010d5\",\"type\":\"ColumnDataSource\"},\"glyph\":{\"id\":\"6bd42dab-af9f-4d57-8b4a-ac38428f2c21\",\"type\":\"Triangle\"},\"hover_glyph\":null,\"nonselection_glyph\":{\"id\":\"dbd74d9d-8b92-436f-8792-7b1961f20a12\",\"type\":\"Triangle\"},\"selection_glyph\":null},\"id\":\"fdb9dbb4-fcad-4c45-875b-81aa2dd0c1de\",\"type\":\"GlyphRenderer\"},{\"attributes\":{\"plot\":{\"id\":\"d66d4e83-9c9e-4cac-b3f1-ea4a32b0b166\",\"subtype\":\"Figure\",\"type\":\"Plot\"}},\"id\":\"6b5eb3b2-fb88-4dbf-be60-b88841bb7ed8\",\"type\":\"HelpTool\"},{\"attributes\":{\"plot\":{\"id\":\"d66d4e83-9c9e-4cac-b3f1-ea4a32b0b166\",\"subtype\":\"Figure\",\"type\":\"Plot\"}},\"id\":\"80d68260-a3a5-46a2-a32c-7cfcb31fc2d5\",\"type\":\"WheelZoomTool\"},{\"attributes\":{\"plot\":{\"id\":\"d66d4e83-9c9e-4cac-b3f1-ea4a32b0b166\",\"subtype\":\"Figure\",\"type\":\"Plot\"}},\"id\":\"cfebd3a1-146a-4cf6-84d0-66eef9773ccb\",\"type\":\"SaveTool\"},{\"attributes\":{\"fill_alpha\":{\"value\":0.6},\"fill_color\":{\"value\":\"green\"},\"line_alpha\":{\"value\":0.6},\"line_color\":{\"value\":\"green\"},\"size\":{\"field\":\"size\",\"units\":\"screen\"},\"x\":{\"field\":\"x\"},\"y\":{\"field\":\"y\"}},\"id\":\"c6a2a39f-eb7b-4588-bad4-2a7ea8b68f04\",\"type\":\"Diamond\"},{\"attributes\":{\"below\":[{\"id\":\"2822a330-0a88-4fec-95db-c0b12e899437\",\"type\":\"LinearAxis\"}],\"left\":[{\"id\":\"00d97900-fc19-44d0-a635-6ff976bc5394\",\"type\":\"LinearAxis\"}],\"plot_height\":400,\"plot_width\":400,\"renderers\":[{\"id\":\"2822a330-0a88-4fec-95db-c0b12e899437\",\"type\":\"LinearAxis\"},{\"id\":\"edfb9b0a-b754-4c63-8cd4-c31a244e7d3c\",\"type\":\"Grid\"},{\"id\":\"00d97900-fc19-44d0-a635-6ff976bc5394\",\"type\":\"LinearAxis\"},{\"id\":\"7e0674ed-f128-4f96-9a61-8cd2e0f7dae1\",\"type\":\"Grid\"},{\"id\":\"a02c9b00-6c76-4139-a1ed-4a84f3a16574\",\"type\":\"BoxAnnotation\"},{\"id\":\"39666003-388d-48c7-81da-4d1c2ad156d6\",\"type\":\"GlyphRenderer\"},{\"id\":\"fdb9dbb4-fcad-4c45-875b-81aa2dd0c1de\",\"type\":\"GlyphRenderer\"},{\"id\":\"46dedab1-f7ca-48cc-bd73-9727c0ad898e\",\"type\":\"GlyphRenderer\"}],\"title\":{\"id\":\"30d6ed70-3898-4a4c-b6d6-10078cc3bc31\",\"type\":\"Title\"},\"tool_events\":{\"id\":\"bf8f57c2-cdb9-489a-88c6-cfa4967ae517\",\"type\":\"ToolEvents\"},\"toolbar\":{\"id\":\"6409cf7c-cc0d-41c8-b07a-f34986934eac\",\"type\":\"Toolbar\"},\"x_range\":{\"id\":\"81df27e5-ab23-45d5-90e8-f8af5ddcfec9\",\"type\":\"DataRange1d\"},\"y_range\":{\"id\":\"6c9cf8b8-936f-482f-bce5-04830058b756\",\"type\":\"DataRange1d\"}},\"id\":\"d66d4e83-9c9e-4cac-b3f1-ea4a32b0b166\",\"subtype\":\"Figure\",\"type\":\"Plot\"},{\"attributes\":{},\"id\":\"70020388-7b83-417e-a6e7-4141c6a9a987\",\"type\":\"BasicTickFormatter\"},{\"attributes\":{\"bottom_units\":\"screen\",\"fill_alpha\":{\"value\":0.5},\"fill_color\":{\"value\":\"lightgrey\"},\"left_units\":\"screen\",\"level\":\"overlay\",\"line_alpha\":{\"value\":1.0},\"line_color\":{\"value\":\"black\"},\"line_dash\":[4,4],\"line_width\":{\"value\":2},\"plot\":null,\"render_mode\":\"css\",\"right_units\":\"screen\",\"top_units\":\"screen\"},\"id\":\"a02c9b00-6c76-4139-a1ed-4a84f3a16574\",\"type\":\"BoxAnnotation\"},{\"attributes\":{\"callback\":null,\"column_names\":[\"x\",\"y\",\"size\"],\"data\":{\"size\":[10,15,20,25,30],\"x\":[1,2,3,4,5],\"y\":[6,7,2,4,5]}},\"id\":\"e8259fb6-32d9-4d25-accd-1b50e21551ff\",\"type\":\"ColumnDataSource\"},{\"attributes\":{},\"id\":\"8d602a3c-d6bc-46b3-be64-38d22d5fb0db\",\"type\":\"BasicTicker\"},{\"attributes\":{},\"id\":\"bf8f57c2-cdb9-489a-88c6-cfa4967ae517\",\"type\":\"ToolEvents\"},{\"attributes\":{\"fill_alpha\":{\"value\":0.1},\"fill_color\":{\"value\":\"#1f77b4\"},\"line_alpha\":{\"value\":0.1},\"line_color\":{\"value\":\"#1f77b4\"},\"size\":{\"field\":\"size\",\"units\":\"screen\"},\"x\":{\"field\":\"x\"},\"y\":{\"field\":\"y\"}},\"id\":\"4e0d5411-da8a-4567-8b16-65560cbfce1c\",\"type\":\"Square\"},{\"attributes\":{\"callback\":null},\"id\":\"6c9cf8b8-936f-482f-bce5-04830058b756\",\"type\":\"DataRange1d\"},{\"attributes\":{\"active_drag\":\"auto\",\"active_scroll\":\"auto\",\"active_tap\":\"auto\",\"tools\":[{\"id\":\"70be3ebc-4fc2-410c-be92-7a8084d3d548\",\"type\":\"PanTool\"},{\"id\":\"80d68260-a3a5-46a2-a32c-7cfcb31fc2d5\",\"type\":\"WheelZoomTool\"},{\"id\":\"54950bd5-e1c0-4db3-994d-bee069cba96d\",\"type\":\"BoxZoomTool\"},{\"id\":\"cfebd3a1-146a-4cf6-84d0-66eef9773ccb\",\"type\":\"SaveTool\"},{\"id\":\"c907c76c-7834-479e-b973-d9855f36d619\",\"type\":\"ResetTool\"},{\"id\":\"6b5eb3b2-fb88-4dbf-be60-b88841bb7ed8\",\"type\":\"HelpTool\"}]},\"id\":\"6409cf7c-cc0d-41c8-b07a-f34986934eac\",\"type\":\"Toolbar\"},{\"attributes\":{\"callback\":null,\"column_names\":[\"x\",\"y\",\"size\"],\"data\":{\"size\":[10,15,20,25,30],\"x\":[6,7,2,3,6],\"y\":[1,2,3,4,5]}},\"id\":\"94d66e01-7d72-43ec-9930-aa08297010d5\",\"type\":\"ColumnDataSource\"},{\"attributes\":{\"formatter\":{\"id\":\"70020388-7b83-417e-a6e7-4141c6a9a987\",\"type\":\"BasicTickFormatter\"},\"plot\":{\"id\":\"d66d4e83-9c9e-4cac-b3f1-ea4a32b0b166\",\"subtype\":\"Figure\",\"type\":\"Plot\"},\"ticker\":{\"id\":\"8d602a3c-d6bc-46b3-be64-38d22d5fb0db\",\"type\":\"BasicTicker\"}},\"id\":\"2822a330-0a88-4fec-95db-c0b12e899437\",\"type\":\"LinearAxis\"},{\"attributes\":{\"callback\":null},\"id\":\"81df27e5-ab23-45d5-90e8-f8af5ddcfec9\",\"type\":\"DataRange1d\"},{\"attributes\":{\"plot\":{\"id\":\"d66d4e83-9c9e-4cac-b3f1-ea4a32b0b166\",\"subtype\":\"Figure\",\"type\":\"Plot\"}},\"id\":\"70be3ebc-4fc2-410c-be92-7a8084d3d548\",\"type\":\"PanTool\"},{\"attributes\":{\"data_source\":{\"id\":\"e8259fb6-32d9-4d25-accd-1b50e21551ff\",\"type\":\"ColumnDataSource\"},\"glyph\":{\"id\":\"c6a2a39f-eb7b-4588-bad4-2a7ea8b68f04\",\"type\":\"Diamond\"},\"hover_glyph\":null,\"nonselection_glyph\":{\"id\":\"00fcba89-c671-4471-8334-906e0e3c33ec\",\"type\":\"Diamond\"},\"selection_glyph\":null},\"id\":\"46dedab1-f7ca-48cc-bd73-9727c0ad898e\",\"type\":\"GlyphRenderer\"},{\"attributes\":{\"data_source\":{\"id\":\"431b4ddc-8439-4b27-897a-7f0ce73d1720\",\"type\":\"ColumnDataSource\"},\"glyph\":{\"id\":\"944a8053-77c5-4034-bee1-5d1f106358b0\",\"type\":\"Square\"},\"hover_glyph\":null,\"nonselection_glyph\":{\"id\":\"4e0d5411-da8a-4567-8b16-65560cbfce1c\",\"type\":\"Square\"},\"selection_glyph\":null},\"id\":\"39666003-388d-48c7-81da-4d1c2ad156d6\",\"type\":\"GlyphRenderer\"},{\"attributes\":{\"fill_alpha\":{\"value\":0.4},\"fill_color\":{\"value\":\"blue\"},\"line_alpha\":{\"value\":0.4},\"line_color\":{\"value\":\"blue\"},\"size\":{\"field\":\"size\",\"units\":\"screen\"},\"x\":{\"field\":\"x\"},\"y\":{\"field\":\"y\"}},\"id\":\"6bd42dab-af9f-4d57-8b4a-ac38428f2c21\",\"type\":\"Triangle\"},{\"attributes\":{\"fill_alpha\":{\"value\":0.1},\"fill_color\":{\"value\":\"#1f77b4\"},\"line_alpha\":{\"value\":0.1},\"line_color\":{\"value\":\"#1f77b4\"},\"size\":{\"field\":\"size\",\"units\":\"screen\"},\"x\":{\"field\":\"x\"},\"y\":{\"field\":\"y\"}},\"id\":\"dbd74d9d-8b92-436f-8792-7b1961f20a12\",\"type\":\"Triangle\"},{\"attributes\":{\"dimension\":1,\"plot\":{\"id\":\"d66d4e83-9c9e-4cac-b3f1-ea4a32b0b166\",\"subtype\":\"Figure\",\"type\":\"Plot\"},\"ticker\":{\"id\":\"d0813e2b-1179-4c85-8451-dbff16f2d5ce\",\"type\":\"BasicTicker\"}},\"id\":\"7e0674ed-f128-4f96-9a61-8cd2e0f7dae1\",\"type\":\"Grid\"},{\"attributes\":{\"plot\":{\"id\":\"d66d4e83-9c9e-4cac-b3f1-ea4a32b0b166\",\"subtype\":\"Figure\",\"type\":\"Plot\"}},\"id\":\"c907c76c-7834-479e-b973-d9855f36d619\",\"type\":\"ResetTool\"},{\"attributes\":{\"plot\":{\"id\":\"d66d4e83-9c9e-4cac-b3f1-ea4a32b0b166\",\"subtype\":\"Figure\",\"type\":\"Plot\"},\"ticker\":{\"id\":\"8d602a3c-d6bc-46b3-be64-38d22d5fb0db\",\"type\":\"BasicTicker\"}},\"id\":\"edfb9b0a-b754-4c63-8cd4-c31a244e7d3c\",\"type\":\"Grid\"},{\"attributes\":{\"overlay\":{\"id\":\"a02c9b00-6c76-4139-a1ed-4a84f3a16574\",\"type\":\"BoxAnnotation\"},\"plot\":{\"id\":\"d66d4e83-9c9e-4cac-b3f1-ea4a32b0b166\",\"subtype\":\"Figure\",\"type\":\"Plot\"}},\"id\":\"54950bd5-e1c0-4db3-994d-bee069cba96d\",\"type\":\"BoxZoomTool\"},{\"attributes\":{},\"id\":\"d0813e2b-1179-4c85-8451-dbff16f2d5ce\",\"type\":\"BasicTicker\"},{\"attributes\":{\"fill_alpha\":{\"value\":0.6},\"fill_color\":{\"value\":\"firebrick\"},\"line_alpha\":{\"value\":0.6},\"line_color\":{\"value\":\"firebrick\"},\"size\":{\"field\":\"size\",\"units\":\"screen\"},\"x\":{\"field\":\"x\"},\"y\":{\"field\":\"y\"}},\"id\":\"944a8053-77c5-4034-bee1-5d1f106358b0\",\"type\":\"Square\"},{\"attributes\":{\"fill_alpha\":{\"value\":0.1},\"fill_color\":{\"value\":\"#1f77b4\"},\"line_alpha\":{\"value\":0.1},\"line_color\":{\"value\":\"#1f77b4\"},\"size\":{\"field\":\"size\",\"units\":\"screen\"},\"x\":{\"field\":\"x\"},\"y\":{\"field\":\"y\"}},\"id\":\"00fcba89-c671-4471-8334-906e0e3c33ec\",\"type\":\"Diamond\"},{\"attributes\":{\"plot\":null,\"text\":null},\"id\":\"30d6ed70-3898-4a4c-b6d6-10078cc3bc31\",\"type\":\"Title\"}],\"root_ids\":[\"d66d4e83-9c9e-4cac-b3f1-ea4a32b0b166\"]},\"title\":\"Bokeh Application\",\"version\":\"0.12.1\"}};\n",
       "            var render_items = [{\"docid\":\"5140374e-0551-4e83-a095-0564cef0073a\",\"elementid\":\"c8ede2c9-f933-4572-8ff3-065ad6253e7d\",\"modelid\":\"d66d4e83-9c9e-4cac-b3f1-ea4a32b0b166\",\"notebook_comms_target\":\"07be5c67-aec3-4e71-90f8-6b622803b963\"}];\n",
       "            \n",
       "            Bokeh.embed.embed_items(docs_json, render_items);\n",
       "        });\n",
       "      },\n",
       "      function(Bokeh) {\n",
       "      }\n",
       "    ];\n",
       "  \n",
       "    function run_inline_js() {\n",
       "      for (var i = 0; i < inline_js.length; i++) {\n",
       "        inline_js[i](window.Bokeh);\n",
       "      }\n",
       "    }\n",
       "  \n",
       "    if (window._bokeh_is_loading === 0) {\n",
       "      console.log(\"Bokeh: BokehJS loaded, going straight to plotting\");\n",
       "      run_inline_js();\n",
       "    } else {\n",
       "      load_libs(js_urls, function() {\n",
       "        console.log(\"Bokeh: BokehJS plotting callback run at\", now());\n",
       "        run_inline_js();\n",
       "      });\n",
       "    }\n",
       "  }(this));\n",
       "</script>"
      ]
     },
     "metadata": {},
     "output_type": "display_data"
    },
    {
     "data": {
      "text/html": [
       "<p><code>&lt;Bokeh Notebook handle for <strong>In[15]</strong>&gt;</code></p>"
      ],
      "text/plain": [
       "<bokeh.io._CommsHandle at 0x1134da110>"
      ]
     },
     "execution_count": 15,
     "metadata": {},
     "output_type": "execute_result"
    }
   ],
   "source": [
    "# EXERCISE: Plot some different markers in this cell\n",
    "\n",
    "# create a new plot using figure\n",
    "p = figure(plot_width=400, plot_height=400)\n",
    "\n",
    "# add a square renderer with a size, color, alpha, and sizes\n",
    "p.square([1, 2, 3, 4, 5], [6, 7, 2, 4, 5], size=[10, 15, 20, 25, 30], color=\"firebrick\", alpha=0.6)\n",
    "\n",
    "# add a square renderer with a size, color, alpha, and sizes\n",
    "p.triangle([6, 7, 2, 3, 6],[1, 2, 3, 4, 5], size=[10, 15, 20, 25, 30], color=\"blue\", alpha=0.4) \n",
    "\n",
    "\n",
    "p.diamond([1, 2, 3, 4, 5], [6, 7, 2, 4, 5], size=[10, 15, 20, 25, 30], color=\"green\", alpha=0.6)\n",
    "\n",
    "show(p) # show the results"
   ]
  },
  {
   "cell_type": "markdown",
   "metadata": {},
   "source": [
    "# Basic Line Plots"
   ]
  },
  {
   "cell_type": "code",
   "execution_count": 8,
   "metadata": {
    "collapsed": false
   },
   "outputs": [
    {
     "data": {
      "text/html": [
       "\n",
       "\n",
       "    <div class=\"bk-root\">\n",
       "        <div class=\"plotdiv\" id=\"d567474d-2d60-4b54-92c9-4ef40e349e39\"></div>\n",
       "    </div>\n",
       "<script type=\"text/javascript\">\n",
       "  \n",
       "  (function(global) {\n",
       "    function now() {\n",
       "      return new Date();\n",
       "    }\n",
       "  \n",
       "    var force = \"\";\n",
       "  \n",
       "    if (typeof (window._bokeh_onload_callbacks) === \"undefined\" || force !== \"\") {\n",
       "      window._bokeh_onload_callbacks = [];\n",
       "      window._bokeh_is_loading = undefined;\n",
       "    }\n",
       "  \n",
       "    function run_callbacks() {\n",
       "      window._bokeh_onload_callbacks.forEach(function(callback) { callback() });\n",
       "      delete window._bokeh_onload_callbacks\n",
       "      console.info(\"Bokeh: all callbacks have finished\");\n",
       "    }\n",
       "  \n",
       "    function load_libs(js_urls, callback) {\n",
       "      window._bokeh_onload_callbacks.push(callback);\n",
       "      if (window._bokeh_is_loading > 0) {\n",
       "        console.log(\"Bokeh: BokehJS is being loaded, scheduling callback at\", now());\n",
       "        return null;\n",
       "      }\n",
       "      if (js_urls == null || js_urls.length === 0) {\n",
       "        run_callbacks();\n",
       "        return null;\n",
       "      }\n",
       "      console.log(\"Bokeh: BokehJS not loaded, scheduling load and callback at\", now());\n",
       "      window._bokeh_is_loading = js_urls.length;\n",
       "      for (var i = 0; i < js_urls.length; i++) {\n",
       "        var url = js_urls[i];\n",
       "        var s = document.createElement('script');\n",
       "        s.src = url;\n",
       "        s.async = false;\n",
       "        s.onreadystatechange = s.onload = function() {\n",
       "          window._bokeh_is_loading--;\n",
       "          if (window._bokeh_is_loading === 0) {\n",
       "            console.log(\"Bokeh: all BokehJS libraries loaded\");\n",
       "            run_callbacks()\n",
       "          }\n",
       "        };\n",
       "        s.onerror = function() {\n",
       "          console.warn(\"failed to load library \" + url);\n",
       "        };\n",
       "        console.log(\"Bokeh: injecting script tag for BokehJS library: \", url);\n",
       "        document.getElementsByTagName(\"head\")[0].appendChild(s);\n",
       "      }\n",
       "    };var element = document.getElementById(\"d567474d-2d60-4b54-92c9-4ef40e349e39\");\n",
       "    if (element == null) {\n",
       "      console.log(\"Bokeh: ERROR: autoload.js configured with elementid 'd567474d-2d60-4b54-92c9-4ef40e349e39' but no matching script tag was found. \")\n",
       "      return false;\n",
       "    }\n",
       "  \n",
       "    var js_urls = [];\n",
       "  \n",
       "    var inline_js = [\n",
       "      function(Bokeh) {\n",
       "        Bokeh.$(function() {\n",
       "            var docs_json = {\"01008970-42f5-4e25-ab1d-e3a512a46f94\":{\"roots\":{\"references\":[{\"attributes\":{\"plot\":{\"id\":\"e554bb4a-991f-4880-a168-7793cb40f4d5\",\"subtype\":\"Figure\",\"type\":\"Plot\"}},\"id\":\"bcdda168-71af-448f-bee2-f94b9e256720\",\"type\":\"HelpTool\"},{\"attributes\":{\"active_drag\":\"auto\",\"active_scroll\":\"auto\",\"active_tap\":\"auto\",\"tools\":[{\"id\":\"b29651ce-256b-4785-a110-916aefb18cac\",\"type\":\"PanTool\"},{\"id\":\"4a58bb13-295b-475e-9c89-6850a43a2baf\",\"type\":\"WheelZoomTool\"},{\"id\":\"5b517938-3581-4d27-aca4-41113bd624d2\",\"type\":\"BoxZoomTool\"},{\"id\":\"4d49dc11-9e30-4bc1-83e1-72b3b58bfc83\",\"type\":\"SaveTool\"},{\"id\":\"ddc25c4f-f5e0-4d00-9cd7-1d9c58c28ffc\",\"type\":\"ResetTool\"},{\"id\":\"bcdda168-71af-448f-bee2-f94b9e256720\",\"type\":\"HelpTool\"}]},\"id\":\"be4244eb-3644-4f89-a2fb-d6fced28c0d8\",\"type\":\"Toolbar\"},{\"attributes\":{\"plot\":{\"id\":\"e554bb4a-991f-4880-a168-7793cb40f4d5\",\"subtype\":\"Figure\",\"type\":\"Plot\"}},\"id\":\"b29651ce-256b-4785-a110-916aefb18cac\",\"type\":\"PanTool\"},{\"attributes\":{\"formatter\":{\"id\":\"95d78ed4-b0e6-4635-b6b9-9da248f3c628\",\"type\":\"BasicTickFormatter\"},\"plot\":{\"id\":\"e554bb4a-991f-4880-a168-7793cb40f4d5\",\"subtype\":\"Figure\",\"type\":\"Plot\"},\"ticker\":{\"id\":\"ffd886b0-31fb-48b7-b4f8-a6ecc3222ed3\",\"type\":\"BasicTicker\"}},\"id\":\"55ef2f6f-5049-4a9c-ae8e-25a269f5a99f\",\"type\":\"LinearAxis\"},{\"attributes\":{\"plot\":{\"id\":\"e554bb4a-991f-4880-a168-7793cb40f4d5\",\"subtype\":\"Figure\",\"type\":\"Plot\"}},\"id\":\"ddc25c4f-f5e0-4d00-9cd7-1d9c58c28ffc\",\"type\":\"ResetTool\"},{\"attributes\":{\"callback\":null},\"id\":\"1aeb57a5-b9f8-456f-a2c6-faf103d2471b\",\"type\":\"DataRange1d\"},{\"attributes\":{\"plot\":{\"id\":\"e554bb4a-991f-4880-a168-7793cb40f4d5\",\"subtype\":\"Figure\",\"type\":\"Plot\"},\"ticker\":{\"id\":\"01946a06-08c5-40ac-81ad-26d11d7c1ebd\",\"type\":\"BasicTicker\"}},\"id\":\"120a405d-3df7-4951-b938-a6441b268ff4\",\"type\":\"Grid\"},{\"attributes\":{\"plot\":null,\"text\":\"My Line Plot\"},\"id\":\"650d0088-8e31-47dd-afc0-4cf55d36fa61\",\"type\":\"Title\"},{\"attributes\":{\"callback\":null},\"id\":\"f41e57c1-939d-4df9-a056-b0bbef705c30\",\"type\":\"DataRange1d\"},{\"attributes\":{},\"id\":\"ffd886b0-31fb-48b7-b4f8-a6ecc3222ed3\",\"type\":\"BasicTicker\"},{\"attributes\":{\"below\":[{\"id\":\"4759b69a-aa61-4a29-b772-c7bf994cbae0\",\"type\":\"LinearAxis\"}],\"left\":[{\"id\":\"55ef2f6f-5049-4a9c-ae8e-25a269f5a99f\",\"type\":\"LinearAxis\"}],\"plot_height\":400,\"plot_width\":400,\"renderers\":[{\"id\":\"4759b69a-aa61-4a29-b772-c7bf994cbae0\",\"type\":\"LinearAxis\"},{\"id\":\"120a405d-3df7-4951-b938-a6441b268ff4\",\"type\":\"Grid\"},{\"id\":\"55ef2f6f-5049-4a9c-ae8e-25a269f5a99f\",\"type\":\"LinearAxis\"},{\"id\":\"372911ef-0932-4c3b-b5fe-09e0ce94a8d2\",\"type\":\"Grid\"},{\"id\":\"78fc5c26-fc1e-4e0e-a3fe-afa637da094c\",\"type\":\"BoxAnnotation\"},{\"id\":\"8e6f5b65-bc94-4979-908a-ee4c7a30056d\",\"type\":\"GlyphRenderer\"}],\"title\":{\"id\":\"650d0088-8e31-47dd-afc0-4cf55d36fa61\",\"type\":\"Title\"},\"tool_events\":{\"id\":\"74ce8933-7253-428b-9142-184e98b2f865\",\"type\":\"ToolEvents\"},\"toolbar\":{\"id\":\"be4244eb-3644-4f89-a2fb-d6fced28c0d8\",\"type\":\"Toolbar\"},\"x_range\":{\"id\":\"1aeb57a5-b9f8-456f-a2c6-faf103d2471b\",\"type\":\"DataRange1d\"},\"y_range\":{\"id\":\"f41e57c1-939d-4df9-a056-b0bbef705c30\",\"type\":\"DataRange1d\"}},\"id\":\"e554bb4a-991f-4880-a168-7793cb40f4d5\",\"subtype\":\"Figure\",\"type\":\"Plot\"},{\"attributes\":{\"line_color\":{\"value\":\"#1f77b4\"},\"line_width\":{\"value\":2},\"x\":{\"field\":\"x\"},\"y\":{\"field\":\"y\"}},\"id\":\"4d93f242-4de7-4446-85dd-966f1f513ffb\",\"type\":\"Line\"},{\"attributes\":{\"plot\":{\"id\":\"e554bb4a-991f-4880-a168-7793cb40f4d5\",\"subtype\":\"Figure\",\"type\":\"Plot\"}},\"id\":\"4a58bb13-295b-475e-9c89-6850a43a2baf\",\"type\":\"WheelZoomTool\"},{\"attributes\":{},\"id\":\"adda5d92-2452-4927-9a8e-720397fd91c5\",\"type\":\"BasicTickFormatter\"},{\"attributes\":{},\"id\":\"95d78ed4-b0e6-4635-b6b9-9da248f3c628\",\"type\":\"BasicTickFormatter\"},{\"attributes\":{\"dimension\":1,\"plot\":{\"id\":\"e554bb4a-991f-4880-a168-7793cb40f4d5\",\"subtype\":\"Figure\",\"type\":\"Plot\"},\"ticker\":{\"id\":\"ffd886b0-31fb-48b7-b4f8-a6ecc3222ed3\",\"type\":\"BasicTicker\"}},\"id\":\"372911ef-0932-4c3b-b5fe-09e0ce94a8d2\",\"type\":\"Grid\"},{\"attributes\":{\"bottom_units\":\"screen\",\"fill_alpha\":{\"value\":0.5},\"fill_color\":{\"value\":\"lightgrey\"},\"left_units\":\"screen\",\"level\":\"overlay\",\"line_alpha\":{\"value\":1.0},\"line_color\":{\"value\":\"black\"},\"line_dash\":[4,4],\"line_width\":{\"value\":2},\"plot\":null,\"render_mode\":\"css\",\"right_units\":\"screen\",\"top_units\":\"screen\"},\"id\":\"78fc5c26-fc1e-4e0e-a3fe-afa637da094c\",\"type\":\"BoxAnnotation\"},{\"attributes\":{\"data_source\":{\"id\":\"a03aa963-8d40-461d-aef9-9d9aa44661e8\",\"type\":\"ColumnDataSource\"},\"glyph\":{\"id\":\"4d93f242-4de7-4446-85dd-966f1f513ffb\",\"type\":\"Line\"},\"hover_glyph\":null,\"nonselection_glyph\":{\"id\":\"46326dca-2aac-47e5-8539-e47a967ea174\",\"type\":\"Line\"},\"selection_glyph\":null},\"id\":\"8e6f5b65-bc94-4979-908a-ee4c7a30056d\",\"type\":\"GlyphRenderer\"},{\"attributes\":{\"overlay\":{\"id\":\"78fc5c26-fc1e-4e0e-a3fe-afa637da094c\",\"type\":\"BoxAnnotation\"},\"plot\":{\"id\":\"e554bb4a-991f-4880-a168-7793cb40f4d5\",\"subtype\":\"Figure\",\"type\":\"Plot\"}},\"id\":\"5b517938-3581-4d27-aca4-41113bd624d2\",\"type\":\"BoxZoomTool\"},{\"attributes\":{\"plot\":{\"id\":\"e554bb4a-991f-4880-a168-7793cb40f4d5\",\"subtype\":\"Figure\",\"type\":\"Plot\"}},\"id\":\"4d49dc11-9e30-4bc1-83e1-72b3b58bfc83\",\"type\":\"SaveTool\"},{\"attributes\":{},\"id\":\"74ce8933-7253-428b-9142-184e98b2f865\",\"type\":\"ToolEvents\"},{\"attributes\":{},\"id\":\"01946a06-08c5-40ac-81ad-26d11d7c1ebd\",\"type\":\"BasicTicker\"},{\"attributes\":{\"formatter\":{\"id\":\"adda5d92-2452-4927-9a8e-720397fd91c5\",\"type\":\"BasicTickFormatter\"},\"plot\":{\"id\":\"e554bb4a-991f-4880-a168-7793cb40f4d5\",\"subtype\":\"Figure\",\"type\":\"Plot\"},\"ticker\":{\"id\":\"01946a06-08c5-40ac-81ad-26d11d7c1ebd\",\"type\":\"BasicTicker\"}},\"id\":\"4759b69a-aa61-4a29-b772-c7bf994cbae0\",\"type\":\"LinearAxis\"},{\"attributes\":{\"line_alpha\":{\"value\":0.1},\"line_color\":{\"value\":\"#1f77b4\"},\"line_width\":{\"value\":2},\"x\":{\"field\":\"x\"},\"y\":{\"field\":\"y\"}},\"id\":\"46326dca-2aac-47e5-8539-e47a967ea174\",\"type\":\"Line\"},{\"attributes\":{\"callback\":null,\"column_names\":[\"y\",\"x\"],\"data\":{\"x\":[1,2,3,4,5],\"y\":[6,7,2,4,5]}},\"id\":\"a03aa963-8d40-461d-aef9-9d9aa44661e8\",\"type\":\"ColumnDataSource\"}],\"root_ids\":[\"e554bb4a-991f-4880-a168-7793cb40f4d5\"]},\"title\":\"Bokeh Application\",\"version\":\"0.12.1\"}};\n",
       "            var render_items = [{\"docid\":\"01008970-42f5-4e25-ab1d-e3a512a46f94\",\"elementid\":\"d567474d-2d60-4b54-92c9-4ef40e349e39\",\"modelid\":\"e554bb4a-991f-4880-a168-7793cb40f4d5\",\"notebook_comms_target\":\"27f46398-8526-4b77-b270-1ac0afc06722\"}];\n",
       "            \n",
       "            Bokeh.embed.embed_items(docs_json, render_items);\n",
       "        });\n",
       "      },\n",
       "      function(Bokeh) {\n",
       "      }\n",
       "    ];\n",
       "  \n",
       "    function run_inline_js() {\n",
       "      for (var i = 0; i < inline_js.length; i++) {\n",
       "        inline_js[i](window.Bokeh);\n",
       "      }\n",
       "    }\n",
       "  \n",
       "    if (window._bokeh_is_loading === 0) {\n",
       "      console.log(\"Bokeh: BokehJS loaded, going straight to plotting\");\n",
       "      run_inline_js();\n",
       "    } else {\n",
       "      load_libs(js_urls, function() {\n",
       "        console.log(\"Bokeh: BokehJS plotting callback run at\", now());\n",
       "        run_inline_js();\n",
       "      });\n",
       "    }\n",
       "  }(this));\n",
       "</script>"
      ]
     },
     "metadata": {},
     "output_type": "display_data"
    },
    {
     "data": {
      "text/html": [
       "<p><code>&lt;Bokeh Notebook handle for <strong>In[8]</strong>&gt;</code></p>"
      ],
      "text/plain": [
       "<bokeh.io._CommsHandle at 0x1134cd690>"
      ]
     },
     "execution_count": 8,
     "metadata": {},
     "output_type": "execute_result"
    }
   ],
   "source": [
    "# create a new plot (with a title) using figure\n",
    "p = figure(plot_width=400, plot_height=400, title=\"My Line Plot\")\n",
    "\n",
    "# add a line renderer\n",
    "p.line([1, 2, 3, 4, 5], [6, 7, 2, 4, 5], line_width=2)\n",
    "\n",
    "show(p) # show the results"
   ]
  },
  {
   "cell_type": "code",
   "execution_count": 16,
   "metadata": {
    "collapsed": false
   },
   "outputs": [
    {
     "data": {
      "text/html": [
       "\n",
       "\n",
       "    <div class=\"bk-root\">\n",
       "        <div class=\"plotdiv\" id=\"e0379e63-dcdb-4ac7-9c40-0a4af81eb339\"></div>\n",
       "    </div>\n",
       "<script type=\"text/javascript\">\n",
       "  \n",
       "  (function(global) {\n",
       "    function now() {\n",
       "      return new Date();\n",
       "    }\n",
       "  \n",
       "    var force = \"\";\n",
       "  \n",
       "    if (typeof (window._bokeh_onload_callbacks) === \"undefined\" || force !== \"\") {\n",
       "      window._bokeh_onload_callbacks = [];\n",
       "      window._bokeh_is_loading = undefined;\n",
       "    }\n",
       "  \n",
       "    function run_callbacks() {\n",
       "      window._bokeh_onload_callbacks.forEach(function(callback) { callback() });\n",
       "      delete window._bokeh_onload_callbacks\n",
       "      console.info(\"Bokeh: all callbacks have finished\");\n",
       "    }\n",
       "  \n",
       "    function load_libs(js_urls, callback) {\n",
       "      window._bokeh_onload_callbacks.push(callback);\n",
       "      if (window._bokeh_is_loading > 0) {\n",
       "        console.log(\"Bokeh: BokehJS is being loaded, scheduling callback at\", now());\n",
       "        return null;\n",
       "      }\n",
       "      if (js_urls == null || js_urls.length === 0) {\n",
       "        run_callbacks();\n",
       "        return null;\n",
       "      }\n",
       "      console.log(\"Bokeh: BokehJS not loaded, scheduling load and callback at\", now());\n",
       "      window._bokeh_is_loading = js_urls.length;\n",
       "      for (var i = 0; i < js_urls.length; i++) {\n",
       "        var url = js_urls[i];\n",
       "        var s = document.createElement('script');\n",
       "        s.src = url;\n",
       "        s.async = false;\n",
       "        s.onreadystatechange = s.onload = function() {\n",
       "          window._bokeh_is_loading--;\n",
       "          if (window._bokeh_is_loading === 0) {\n",
       "            console.log(\"Bokeh: all BokehJS libraries loaded\");\n",
       "            run_callbacks()\n",
       "          }\n",
       "        };\n",
       "        s.onerror = function() {\n",
       "          console.warn(\"failed to load library \" + url);\n",
       "        };\n",
       "        console.log(\"Bokeh: injecting script tag for BokehJS library: \", url);\n",
       "        document.getElementsByTagName(\"head\")[0].appendChild(s);\n",
       "      }\n",
       "    };var element = document.getElementById(\"e0379e63-dcdb-4ac7-9c40-0a4af81eb339\");\n",
       "    if (element == null) {\n",
       "      console.log(\"Bokeh: ERROR: autoload.js configured with elementid 'e0379e63-dcdb-4ac7-9c40-0a4af81eb339' but no matching script tag was found. \")\n",
       "      return false;\n",
       "    }\n",
       "  \n",
       "    var js_urls = [];\n",
       "  \n",
       "    var inline_js = [\n",
       "      function(Bokeh) {\n",
       "        Bokeh.$(function() {\n",
       "            var docs_json = {\"8b04eda7-7d23-4bb0-876d-6b7f86c67925\":{\"roots\":{\"references\":[{\"attributes\":{\"active_drag\":\"auto\",\"active_scroll\":\"auto\",\"active_tap\":\"auto\",\"tools\":[{\"id\":\"59e34cd9-737b-4401-9679-cc02e8da7d16\",\"type\":\"PanTool\"},{\"id\":\"1d6b80a1-45c4-4e5c-8c2d-b56a1d66ceb5\",\"type\":\"WheelZoomTool\"},{\"id\":\"626b5ab0-1766-4bde-a622-fd6c16173be2\",\"type\":\"BoxZoomTool\"},{\"id\":\"0adf3060-3213-4b18-a156-d018fe709838\",\"type\":\"SaveTool\"},{\"id\":\"58d6bfc3-4d39-42dd-a655-2cc571e9ae29\",\"type\":\"ResetTool\"},{\"id\":\"8830b3fb-201c-4b8d-96a9-342fbeea74c0\",\"type\":\"HelpTool\"}]},\"id\":\"0c5698d8-ee08-4cfa-aaf6-548cd2fecd7e\",\"type\":\"Toolbar\"},{\"attributes\":{\"fill_alpha\":{\"value\":0.1},\"fill_color\":{\"value\":\"#1f77b4\"},\"line_alpha\":{\"value\":0.1},\"line_color\":{\"value\":\"#1f77b4\"},\"size\":{\"units\":\"screen\",\"value\":10},\"x\":{\"field\":\"x\"},\"y\":{\"field\":\"y\"}},\"id\":\"80aa85ce-585f-461a-89d9-757ecb937489\",\"type\":\"Diamond\"},{\"attributes\":{\"line_alpha\":{\"value\":0.1},\"line_color\":{\"value\":\"#1f77b4\"},\"line_width\":{\"value\":2},\"x\":{\"field\":\"x\"},\"y\":{\"field\":\"y\"}},\"id\":\"fba1a2f8-7a57-480c-b39b-8f8295f5a0c4\",\"type\":\"Line\"},{\"attributes\":{\"line_color\":{\"value\":\"#1f77b4\"},\"line_width\":{\"value\":2},\"x\":{\"field\":\"x\"},\"y\":{\"field\":\"y\"}},\"id\":\"539dd0d4-afbd-4709-b8e3-355f7db31962\",\"type\":\"Line\"},{\"attributes\":{},\"id\":\"1ca1deb1-e062-421c-8780-343db72ce5bf\",\"type\":\"BasicTicker\"},{\"attributes\":{\"overlay\":{\"id\":\"a1d0e2d1-ef3b-4225-8735-655c14085075\",\"type\":\"BoxAnnotation\"},\"plot\":{\"id\":\"4d5999a7-a841-4115-b8e2-5eb142e25181\",\"subtype\":\"Figure\",\"type\":\"Plot\"}},\"id\":\"626b5ab0-1766-4bde-a622-fd6c16173be2\",\"type\":\"BoxZoomTool\"},{\"attributes\":{\"fill_color\":{\"value\":\"yellow\"},\"line_color\":{\"value\":\"#1f77b4\"},\"size\":{\"units\":\"screen\",\"value\":10},\"x\":{\"field\":\"x\"},\"y\":{\"field\":\"y\"}},\"id\":\"98c8d89e-fd23-480b-94ee-e42566dafcde\",\"type\":\"Diamond\"},{\"attributes\":{\"dimension\":1,\"plot\":{\"id\":\"4d5999a7-a841-4115-b8e2-5eb142e25181\",\"subtype\":\"Figure\",\"type\":\"Plot\"},\"ticker\":{\"id\":\"a9a55850-242c-4072-9c43-820c11cd1a04\",\"type\":\"BasicTicker\"}},\"id\":\"776a753a-cc70-48a1-9484-a9672ac2c7a9\",\"type\":\"Grid\"},{\"attributes\":{},\"id\":\"afb7517d-53a1-42d4-b147-6e48b2ea2899\",\"type\":\"BasicTickFormatter\"},{\"attributes\":{\"plot\":{\"id\":\"4d5999a7-a841-4115-b8e2-5eb142e25181\",\"subtype\":\"Figure\",\"type\":\"Plot\"}},\"id\":\"0adf3060-3213-4b18-a156-d018fe709838\",\"type\":\"SaveTool\"},{\"attributes\":{\"formatter\":{\"id\":\"85ce078e-ed93-437c-b737-b9839ae2eaef\",\"type\":\"BasicTickFormatter\"},\"plot\":{\"id\":\"4d5999a7-a841-4115-b8e2-5eb142e25181\",\"subtype\":\"Figure\",\"type\":\"Plot\"},\"ticker\":{\"id\":\"a9a55850-242c-4072-9c43-820c11cd1a04\",\"type\":\"BasicTicker\"}},\"id\":\"eb23398f-4095-47b3-9a3f-bad5b75aada6\",\"type\":\"LinearAxis\"},{\"attributes\":{\"plot\":{\"id\":\"4d5999a7-a841-4115-b8e2-5eb142e25181\",\"subtype\":\"Figure\",\"type\":\"Plot\"}},\"id\":\"8830b3fb-201c-4b8d-96a9-342fbeea74c0\",\"type\":\"HelpTool\"},{\"attributes\":{\"below\":[{\"id\":\"750f2e69-6d49-4a6c-835a-18bd0df99948\",\"type\":\"LinearAxis\"}],\"left\":[{\"id\":\"eb23398f-4095-47b3-9a3f-bad5b75aada6\",\"type\":\"LinearAxis\"}],\"plot_height\":400,\"plot_width\":400,\"renderers\":[{\"id\":\"750f2e69-6d49-4a6c-835a-18bd0df99948\",\"type\":\"LinearAxis\"},{\"id\":\"82b371b0-721f-46ba-b97e-f7d27916dac6\",\"type\":\"Grid\"},{\"id\":\"eb23398f-4095-47b3-9a3f-bad5b75aada6\",\"type\":\"LinearAxis\"},{\"id\":\"776a753a-cc70-48a1-9484-a9672ac2c7a9\",\"type\":\"Grid\"},{\"id\":\"a1d0e2d1-ef3b-4225-8735-655c14085075\",\"type\":\"BoxAnnotation\"},{\"id\":\"c7a8dd5c-82f9-4ed5-9bd9-8c2a126e4f27\",\"type\":\"GlyphRenderer\"},{\"id\":\"3a9551c4-ff7e-4996-9a72-287ec9753fb9\",\"type\":\"GlyphRenderer\"}],\"title\":{\"id\":\"0a6bd072-ac39-40ca-bc9c-632b81e7e1f6\",\"type\":\"Title\"},\"tool_events\":{\"id\":\"4a99684e-6d06-4b8c-bee5-56a600da8218\",\"type\":\"ToolEvents\"},\"toolbar\":{\"id\":\"0c5698d8-ee08-4cfa-aaf6-548cd2fecd7e\",\"type\":\"Toolbar\"},\"x_range\":{\"id\":\"c906ea65-662e-435b-9874-203c0d33e4fa\",\"type\":\"DataRange1d\"},\"y_range\":{\"id\":\"445f5222-9e2d-427d-afdd-9a0006faffa9\",\"type\":\"DataRange1d\"}},\"id\":\"4d5999a7-a841-4115-b8e2-5eb142e25181\",\"subtype\":\"Figure\",\"type\":\"Plot\"},{\"attributes\":{\"plot\":{\"id\":\"4d5999a7-a841-4115-b8e2-5eb142e25181\",\"subtype\":\"Figure\",\"type\":\"Plot\"},\"ticker\":{\"id\":\"1ca1deb1-e062-421c-8780-343db72ce5bf\",\"type\":\"BasicTicker\"}},\"id\":\"82b371b0-721f-46ba-b97e-f7d27916dac6\",\"type\":\"Grid\"},{\"attributes\":{\"data_source\":{\"id\":\"dc74fb1b-3bad-4526-bda4-ffcaa9bce5d2\",\"type\":\"ColumnDataSource\"},\"glyph\":{\"id\":\"539dd0d4-afbd-4709-b8e3-355f7db31962\",\"type\":\"Line\"},\"hover_glyph\":null,\"nonselection_glyph\":{\"id\":\"fba1a2f8-7a57-480c-b39b-8f8295f5a0c4\",\"type\":\"Line\"},\"selection_glyph\":null},\"id\":\"c7a8dd5c-82f9-4ed5-9bd9-8c2a126e4f27\",\"type\":\"GlyphRenderer\"},{\"attributes\":{\"bottom_units\":\"screen\",\"fill_alpha\":{\"value\":0.5},\"fill_color\":{\"value\":\"lightgrey\"},\"left_units\":\"screen\",\"level\":\"overlay\",\"line_alpha\":{\"value\":1.0},\"line_color\":{\"value\":\"black\"},\"line_dash\":[4,4],\"line_width\":{\"value\":2},\"plot\":null,\"render_mode\":\"css\",\"right_units\":\"screen\",\"top_units\":\"screen\"},\"id\":\"a1d0e2d1-ef3b-4225-8735-655c14085075\",\"type\":\"BoxAnnotation\"},{\"attributes\":{\"data_source\":{\"id\":\"88e8436e-9593-4319-8654-b66a279cf88f\",\"type\":\"ColumnDataSource\"},\"glyph\":{\"id\":\"98c8d89e-fd23-480b-94ee-e42566dafcde\",\"type\":\"Diamond\"},\"hover_glyph\":null,\"nonselection_glyph\":{\"id\":\"80aa85ce-585f-461a-89d9-757ecb937489\",\"type\":\"Diamond\"},\"selection_glyph\":null},\"id\":\"3a9551c4-ff7e-4996-9a72-287ec9753fb9\",\"type\":\"GlyphRenderer\"},{\"attributes\":{\"callback\":null,\"column_names\":[\"y\",\"x\"],\"data\":{\"x\":[1,2,3,4,5],\"y\":[6,7,2,4,5]}},\"id\":\"88e8436e-9593-4319-8654-b66a279cf88f\",\"type\":\"ColumnDataSource\"},{\"attributes\":{\"callback\":null},\"id\":\"c906ea65-662e-435b-9874-203c0d33e4fa\",\"type\":\"DataRange1d\"},{\"attributes\":{\"callback\":null,\"column_names\":[\"y\",\"x\"],\"data\":{\"x\":[1,2,3,4,5],\"y\":[6,7,2,4,5]}},\"id\":\"dc74fb1b-3bad-4526-bda4-ffcaa9bce5d2\",\"type\":\"ColumnDataSource\"},{\"attributes\":{\"plot\":{\"id\":\"4d5999a7-a841-4115-b8e2-5eb142e25181\",\"subtype\":\"Figure\",\"type\":\"Plot\"}},\"id\":\"1d6b80a1-45c4-4e5c-8c2d-b56a1d66ceb5\",\"type\":\"WheelZoomTool\"},{\"attributes\":{},\"id\":\"85ce078e-ed93-437c-b737-b9839ae2eaef\",\"type\":\"BasicTickFormatter\"},{\"attributes\":{},\"id\":\"4a99684e-6d06-4b8c-bee5-56a600da8218\",\"type\":\"ToolEvents\"},{\"attributes\":{\"plot\":{\"id\":\"4d5999a7-a841-4115-b8e2-5eb142e25181\",\"subtype\":\"Figure\",\"type\":\"Plot\"}},\"id\":\"59e34cd9-737b-4401-9679-cc02e8da7d16\",\"type\":\"PanTool\"},{\"attributes\":{\"plot\":{\"id\":\"4d5999a7-a841-4115-b8e2-5eb142e25181\",\"subtype\":\"Figure\",\"type\":\"Plot\"}},\"id\":\"58d6bfc3-4d39-42dd-a655-2cc571e9ae29\",\"type\":\"ResetTool\"},{\"attributes\":{\"plot\":null,\"text\":\"My Line Plot\"},\"id\":\"0a6bd072-ac39-40ca-bc9c-632b81e7e1f6\",\"type\":\"Title\"},{\"attributes\":{},\"id\":\"a9a55850-242c-4072-9c43-820c11cd1a04\",\"type\":\"BasicTicker\"},{\"attributes\":{\"formatter\":{\"id\":\"afb7517d-53a1-42d4-b147-6e48b2ea2899\",\"type\":\"BasicTickFormatter\"},\"plot\":{\"id\":\"4d5999a7-a841-4115-b8e2-5eb142e25181\",\"subtype\":\"Figure\",\"type\":\"Plot\"},\"ticker\":{\"id\":\"1ca1deb1-e062-421c-8780-343db72ce5bf\",\"type\":\"BasicTicker\"}},\"id\":\"750f2e69-6d49-4a6c-835a-18bd0df99948\",\"type\":\"LinearAxis\"},{\"attributes\":{\"callback\":null},\"id\":\"445f5222-9e2d-427d-afdd-9a0006faffa9\",\"type\":\"DataRange1d\"}],\"root_ids\":[\"4d5999a7-a841-4115-b8e2-5eb142e25181\"]},\"title\":\"Bokeh Application\",\"version\":\"0.12.1\"}};\n",
       "            var render_items = [{\"docid\":\"8b04eda7-7d23-4bb0-876d-6b7f86c67925\",\"elementid\":\"e0379e63-dcdb-4ac7-9c40-0a4af81eb339\",\"modelid\":\"4d5999a7-a841-4115-b8e2-5eb142e25181\",\"notebook_comms_target\":\"8b9f5594-4c35-4353-bf1b-d2ec3829f1c3\"}];\n",
       "            \n",
       "            Bokeh.embed.embed_items(docs_json, render_items);\n",
       "        });\n",
       "      },\n",
       "      function(Bokeh) {\n",
       "      }\n",
       "    ];\n",
       "  \n",
       "    function run_inline_js() {\n",
       "      for (var i = 0; i < inline_js.length; i++) {\n",
       "        inline_js[i](window.Bokeh);\n",
       "      }\n",
       "    }\n",
       "  \n",
       "    if (window._bokeh_is_loading === 0) {\n",
       "      console.log(\"Bokeh: BokehJS loaded, going straight to plotting\");\n",
       "      run_inline_js();\n",
       "    } else {\n",
       "      load_libs(js_urls, function() {\n",
       "        console.log(\"Bokeh: BokehJS plotting callback run at\", now());\n",
       "        run_inline_js();\n",
       "      });\n",
       "    }\n",
       "  }(this));\n",
       "</script>"
      ]
     },
     "metadata": {},
     "output_type": "display_data"
    },
    {
     "data": {
      "text/html": [
       "<p><code>&lt;Bokeh Notebook handle for <strong>In[16]</strong>&gt;</code></p>"
      ],
      "text/plain": [
       "<bokeh.io._CommsHandle at 0x11362c290>"
      ]
     },
     "execution_count": 16,
     "metadata": {},
     "output_type": "execute_result"
    }
   ],
   "source": [
    "# We can also add markers to the line\n",
    "# create a new plot (with a title) using figure\n",
    "p = figure(plot_width=400, plot_height=400, title=\"My Line Plot\")\n",
    "\n",
    "# add a line renderer\n",
    "p.line([1, 2, 3, 4, 5], [6, 7, 2, 4, 5], line_width=2)\n",
    "p.diamond([1, 2, 3, 4, 5], [6, 7, 2, 4, 5], size=10, fill_color='yellow')\n",
    "\n",
    "show(p) # show the results"
   ]
  },
  {
   "cell_type": "markdown",
   "metadata": {},
   "source": [
    "# Images"
   ]
  },
  {
   "cell_type": "markdown",
   "metadata": {},
   "source": [
    "The example below shows how to use the `image_rgba` method to display raw RGBA data. \n",
    "\n",
    "**Note**: This example makes use of the NumPy library "
   ]
  },
  {
   "cell_type": "markdown",
   "metadata": {},
   "source": [
    "# Other Kinds of Glyphs\n",
    "\n",
    "Bokeh supports many other kinds of glyphs. You can click on the User Guide links below to see how to create plots with these glyphs using the [`bokeh.plotting`](http://bokeh.pydata.org/en/latest/docs/user_guide/plotting.html) interface.\n",
    "\n",
    "* [Rectangles and Ovals](http://bokeh.pydata.org/en/latest/docs/user_guide/plotting.html#rectangles-and-ovals)\n",
    "* [Segments and Rays](http://bokeh.pydata.org/en/latest/docs/user_guide/plotting.html#segments-and-rays)\n",
    "* [Wedges and Arcs](http://bokeh.pydata.org/en/latest/docs/user_guide/plotting.html#wedges-and-arcs)\n",
    "* [Specialized Curves](http://bokeh.pydata.org/en/latest/docs/user_guide/plotting.html#specialized-curves)\n"
   ]
  },
  {
   "cell_type": "code",
   "execution_count": 10,
   "metadata": {
    "collapsed": true
   },
   "outputs": [],
   "source": [
    "# EXERCISE: Plot some of the other glyph types, following the examples in the User Guide. \n",
    "\n"
   ]
  },
  {
   "cell_type": "markdown",
   "metadata": {},
   "source": [
    "# Plots with Multiple Glyphs \n",
    "\n",
    "It is possible to combine more than one glyph on a single figure. You just need to call multiple glyph methods on one figure object:"
   ]
  },
  {
   "cell_type": "code",
   "execution_count": 17,
   "metadata": {
    "collapsed": false
   },
   "outputs": [
    {
     "data": {
      "text/html": [
       "\n",
       "\n",
       "    <div class=\"bk-root\">\n",
       "        <div class=\"plotdiv\" id=\"3e9801ea-76bd-47e8-8fec-b228d8cace24\"></div>\n",
       "    </div>\n",
       "<script type=\"text/javascript\">\n",
       "  \n",
       "  (function(global) {\n",
       "    function now() {\n",
       "      return new Date();\n",
       "    }\n",
       "  \n",
       "    var force = \"\";\n",
       "  \n",
       "    if (typeof (window._bokeh_onload_callbacks) === \"undefined\" || force !== \"\") {\n",
       "      window._bokeh_onload_callbacks = [];\n",
       "      window._bokeh_is_loading = undefined;\n",
       "    }\n",
       "  \n",
       "    function run_callbacks() {\n",
       "      window._bokeh_onload_callbacks.forEach(function(callback) { callback() });\n",
       "      delete window._bokeh_onload_callbacks\n",
       "      console.info(\"Bokeh: all callbacks have finished\");\n",
       "    }\n",
       "  \n",
       "    function load_libs(js_urls, callback) {\n",
       "      window._bokeh_onload_callbacks.push(callback);\n",
       "      if (window._bokeh_is_loading > 0) {\n",
       "        console.log(\"Bokeh: BokehJS is being loaded, scheduling callback at\", now());\n",
       "        return null;\n",
       "      }\n",
       "      if (js_urls == null || js_urls.length === 0) {\n",
       "        run_callbacks();\n",
       "        return null;\n",
       "      }\n",
       "      console.log(\"Bokeh: BokehJS not loaded, scheduling load and callback at\", now());\n",
       "      window._bokeh_is_loading = js_urls.length;\n",
       "      for (var i = 0; i < js_urls.length; i++) {\n",
       "        var url = js_urls[i];\n",
       "        var s = document.createElement('script');\n",
       "        s.src = url;\n",
       "        s.async = false;\n",
       "        s.onreadystatechange = s.onload = function() {\n",
       "          window._bokeh_is_loading--;\n",
       "          if (window._bokeh_is_loading === 0) {\n",
       "            console.log(\"Bokeh: all BokehJS libraries loaded\");\n",
       "            run_callbacks()\n",
       "          }\n",
       "        };\n",
       "        s.onerror = function() {\n",
       "          console.warn(\"failed to load library \" + url);\n",
       "        };\n",
       "        console.log(\"Bokeh: injecting script tag for BokehJS library: \", url);\n",
       "        document.getElementsByTagName(\"head\")[0].appendChild(s);\n",
       "      }\n",
       "    };var element = document.getElementById(\"3e9801ea-76bd-47e8-8fec-b228d8cace24\");\n",
       "    if (element == null) {\n",
       "      console.log(\"Bokeh: ERROR: autoload.js configured with elementid '3e9801ea-76bd-47e8-8fec-b228d8cace24' but no matching script tag was found. \")\n",
       "      return false;\n",
       "    }\n",
       "  \n",
       "    var js_urls = [];\n",
       "  \n",
       "    var inline_js = [\n",
       "      function(Bokeh) {\n",
       "        Bokeh.$(function() {\n",
       "            var docs_json = {\"d3f042e1-abd3-47f7-b312-cf3cb9966078\":{\"roots\":{\"references\":[{\"attributes\":{\"data_source\":{\"id\":\"eeda7e43-6b8e-4783-9108-3bc517f31806\",\"type\":\"ColumnDataSource\"},\"glyph\":{\"id\":\"52c7da1d-2b93-4869-9ab1-1f31d0ea5c1f\",\"type\":\"Circle\"},\"hover_glyph\":null,\"nonselection_glyph\":{\"id\":\"87af013f-c648-452c-971a-e0eb36ff55b1\",\"type\":\"Circle\"},\"selection_glyph\":null},\"id\":\"f9e27a1c-d4e2-43a3-8bb7-eda0aa0a3725\",\"type\":\"GlyphRenderer\"},{\"attributes\":{\"callback\":null,\"column_names\":[\"y\",\"x\"],\"data\":{\"x\":[1,2,3,4,5],\"y\":[6,7,8,7,3]}},\"id\":\"eeda7e43-6b8e-4783-9108-3bc517f31806\",\"type\":\"ColumnDataSource\"},{\"attributes\":{\"fill_alpha\":{\"value\":0.1},\"fill_color\":{\"value\":\"#1f77b4\"},\"line_alpha\":{\"value\":0.1},\"line_color\":{\"value\":\"#1f77b4\"},\"size\":{\"units\":\"screen\",\"value\":8},\"x\":{\"field\":\"x\"},\"y\":{\"field\":\"y\"}},\"id\":\"87af013f-c648-452c-971a-e0eb36ff55b1\",\"type\":\"Circle\"},{\"attributes\":{\"callback\":null},\"id\":\"5b413e86-44ec-44ab-99f0-63a30672a7e7\",\"type\":\"DataRange1d\"},{\"attributes\":{\"dimension\":1,\"plot\":{\"id\":\"cb8171ec-3f00-47c0-8027-6ece82ab7d38\",\"subtype\":\"Figure\",\"type\":\"Plot\"},\"ticker\":{\"id\":\"562aff76-2179-47be-9124-c897a167a7ba\",\"type\":\"BasicTicker\"}},\"id\":\"4c3fac3a-1ed7-4c76-95c7-635b902d5001\",\"type\":\"Grid\"},{\"attributes\":{\"plot\":{\"id\":\"cb8171ec-3f00-47c0-8027-6ece82ab7d38\",\"subtype\":\"Figure\",\"type\":\"Plot\"}},\"id\":\"5f871232-a035-47e4-81ff-dcfc457d78b1\",\"type\":\"PanTool\"},{\"attributes\":{\"bottom_units\":\"screen\",\"fill_alpha\":{\"value\":0.5},\"fill_color\":{\"value\":\"lightgrey\"},\"left_units\":\"screen\",\"level\":\"overlay\",\"line_alpha\":{\"value\":1.0},\"line_color\":{\"value\":\"black\"},\"line_dash\":[4,4],\"line_width\":{\"value\":2},\"plot\":null,\"render_mode\":\"css\",\"right_units\":\"screen\",\"top_units\":\"screen\"},\"id\":\"53e0f534-6acf-4f0c-9975-36c7514f013d\",\"type\":\"BoxAnnotation\"},{\"attributes\":{\"formatter\":{\"id\":\"9738b5cc-aa83-41fb-a861-d1e9e9193f37\",\"type\":\"BasicTickFormatter\"},\"plot\":{\"id\":\"cb8171ec-3f00-47c0-8027-6ece82ab7d38\",\"subtype\":\"Figure\",\"type\":\"Plot\"},\"ticker\":{\"id\":\"562aff76-2179-47be-9124-c897a167a7ba\",\"type\":\"BasicTicker\"}},\"id\":\"7cc7d34d-71f6-4a1e-8d64-0c4854a0cf0d\",\"type\":\"LinearAxis\"},{\"attributes\":{\"plot\":{\"id\":\"cb8171ec-3f00-47c0-8027-6ece82ab7d38\",\"subtype\":\"Figure\",\"type\":\"Plot\"}},\"id\":\"0017d242-7634-4ac1-ad30-d06469f621b4\",\"type\":\"HelpTool\"},{\"attributes\":{\"formatter\":{\"id\":\"e19418db-d8fd-42db-8302-301c531fdd09\",\"type\":\"BasicTickFormatter\"},\"plot\":{\"id\":\"cb8171ec-3f00-47c0-8027-6ece82ab7d38\",\"subtype\":\"Figure\",\"type\":\"Plot\"},\"ticker\":{\"id\":\"ece4cb68-a55e-4cf9-848d-c39fc3e73f8f\",\"type\":\"BasicTicker\"}},\"id\":\"d4296b05-cc7c-4a34-b7a8-88ba965ea030\",\"type\":\"LinearAxis\"},{\"attributes\":{\"line_color\":{\"value\":\"#1f77b4\"},\"line_width\":{\"value\":2},\"x\":{\"field\":\"x\"},\"y\":{\"field\":\"y\"}},\"id\":\"aab82dc6-32d8-4f44-9242-e6046ed3706e\",\"type\":\"Line\"},{\"attributes\":{\"plot\":{\"id\":\"cb8171ec-3f00-47c0-8027-6ece82ab7d38\",\"subtype\":\"Figure\",\"type\":\"Plot\"}},\"id\":\"550c34c4-e691-44e4-9dc1-a44909a6bad2\",\"type\":\"SaveTool\"},{\"attributes\":{\"callback\":null,\"column_names\":[\"y\",\"x\"],\"data\":{\"x\":[1,2,3,4,5],\"y\":[6,7,8,7,3]}},\"id\":\"f761007e-3638-4dc9-9c84-c2d39861cdb9\",\"type\":\"ColumnDataSource\"},{\"attributes\":{\"plot\":{\"id\":\"cb8171ec-3f00-47c0-8027-6ece82ab7d38\",\"subtype\":\"Figure\",\"type\":\"Plot\"}},\"id\":\"27a883c9-f190-4871-89b7-ccb12737ae55\",\"type\":\"ResetTool\"},{\"attributes\":{\"fill_color\":{\"value\":\"white\"},\"line_color\":{\"value\":\"#1f77b4\"},\"size\":{\"units\":\"screen\",\"value\":8},\"x\":{\"field\":\"x\"},\"y\":{\"field\":\"y\"}},\"id\":\"52c7da1d-2b93-4869-9ab1-1f31d0ea5c1f\",\"type\":\"Circle\"},{\"attributes\":{\"plot\":{\"id\":\"cb8171ec-3f00-47c0-8027-6ece82ab7d38\",\"subtype\":\"Figure\",\"type\":\"Plot\"}},\"id\":\"c4546b1d-1925-4e04-8579-7b1d4a39b8a0\",\"type\":\"WheelZoomTool\"},{\"attributes\":{},\"id\":\"80a5a6a9-ebe7-48b1-ace4-968355e79c92\",\"type\":\"ToolEvents\"},{\"attributes\":{},\"id\":\"ece4cb68-a55e-4cf9-848d-c39fc3e73f8f\",\"type\":\"BasicTicker\"},{\"attributes\":{},\"id\":\"562aff76-2179-47be-9124-c897a167a7ba\",\"type\":\"BasicTicker\"},{\"attributes\":{\"below\":[{\"id\":\"d4296b05-cc7c-4a34-b7a8-88ba965ea030\",\"type\":\"LinearAxis\"}],\"left\":[{\"id\":\"7cc7d34d-71f6-4a1e-8d64-0c4854a0cf0d\",\"type\":\"LinearAxis\"}],\"plot_height\":400,\"plot_width\":400,\"renderers\":[{\"id\":\"d4296b05-cc7c-4a34-b7a8-88ba965ea030\",\"type\":\"LinearAxis\"},{\"id\":\"9b24ae42-13ba-4cf7-896b-b3144e26b1ae\",\"type\":\"Grid\"},{\"id\":\"7cc7d34d-71f6-4a1e-8d64-0c4854a0cf0d\",\"type\":\"LinearAxis\"},{\"id\":\"4c3fac3a-1ed7-4c76-95c7-635b902d5001\",\"type\":\"Grid\"},{\"id\":\"53e0f534-6acf-4f0c-9975-36c7514f013d\",\"type\":\"BoxAnnotation\"},{\"id\":\"70b41249-95f1-4328-a014-82473edddc97\",\"type\":\"GlyphRenderer\"},{\"id\":\"f9e27a1c-d4e2-43a3-8bb7-eda0aa0a3725\",\"type\":\"GlyphRenderer\"}],\"title\":{\"id\":\"e8999143-446a-4fa7-88ea-c22a2b85fda0\",\"type\":\"Title\"},\"tool_events\":{\"id\":\"80a5a6a9-ebe7-48b1-ace4-968355e79c92\",\"type\":\"ToolEvents\"},\"toolbar\":{\"id\":\"c7019c58-e72a-4315-8799-ae8157ef19cd\",\"type\":\"Toolbar\"},\"x_range\":{\"id\":\"b7ba0e31-9e70-450e-b664-c1b9b9a7ae12\",\"type\":\"DataRange1d\"},\"y_range\":{\"id\":\"5b413e86-44ec-44ab-99f0-63a30672a7e7\",\"type\":\"DataRange1d\"}},\"id\":\"cb8171ec-3f00-47c0-8027-6ece82ab7d38\",\"subtype\":\"Figure\",\"type\":\"Plot\"},{\"attributes\":{\"line_alpha\":{\"value\":0.1},\"line_color\":{\"value\":\"#1f77b4\"},\"line_width\":{\"value\":2},\"x\":{\"field\":\"x\"},\"y\":{\"field\":\"y\"}},\"id\":\"2927fe79-b08c-49c8-b75c-725be577b439\",\"type\":\"Line\"},{\"attributes\":{\"plot\":{\"id\":\"cb8171ec-3f00-47c0-8027-6ece82ab7d38\",\"subtype\":\"Figure\",\"type\":\"Plot\"},\"ticker\":{\"id\":\"ece4cb68-a55e-4cf9-848d-c39fc3e73f8f\",\"type\":\"BasicTicker\"}},\"id\":\"9b24ae42-13ba-4cf7-896b-b3144e26b1ae\",\"type\":\"Grid\"},{\"attributes\":{},\"id\":\"9738b5cc-aa83-41fb-a861-d1e9e9193f37\",\"type\":\"BasicTickFormatter\"},{\"attributes\":{\"plot\":null,\"text\":null},\"id\":\"e8999143-446a-4fa7-88ea-c22a2b85fda0\",\"type\":\"Title\"},{\"attributes\":{\"data_source\":{\"id\":\"f761007e-3638-4dc9-9c84-c2d39861cdb9\",\"type\":\"ColumnDataSource\"},\"glyph\":{\"id\":\"aab82dc6-32d8-4f44-9242-e6046ed3706e\",\"type\":\"Line\"},\"hover_glyph\":null,\"nonselection_glyph\":{\"id\":\"2927fe79-b08c-49c8-b75c-725be577b439\",\"type\":\"Line\"},\"selection_glyph\":null},\"id\":\"70b41249-95f1-4328-a014-82473edddc97\",\"type\":\"GlyphRenderer\"},{\"attributes\":{},\"id\":\"e19418db-d8fd-42db-8302-301c531fdd09\",\"type\":\"BasicTickFormatter\"},{\"attributes\":{\"overlay\":{\"id\":\"53e0f534-6acf-4f0c-9975-36c7514f013d\",\"type\":\"BoxAnnotation\"},\"plot\":{\"id\":\"cb8171ec-3f00-47c0-8027-6ece82ab7d38\",\"subtype\":\"Figure\",\"type\":\"Plot\"}},\"id\":\"e38d1865-bc22-4b2f-9725-55666644a3d6\",\"type\":\"BoxZoomTool\"},{\"attributes\":{\"active_drag\":\"auto\",\"active_scroll\":\"auto\",\"active_tap\":\"auto\",\"tools\":[{\"id\":\"5f871232-a035-47e4-81ff-dcfc457d78b1\",\"type\":\"PanTool\"},{\"id\":\"c4546b1d-1925-4e04-8579-7b1d4a39b8a0\",\"type\":\"WheelZoomTool\"},{\"id\":\"e38d1865-bc22-4b2f-9725-55666644a3d6\",\"type\":\"BoxZoomTool\"},{\"id\":\"550c34c4-e691-44e4-9dc1-a44909a6bad2\",\"type\":\"SaveTool\"},{\"id\":\"27a883c9-f190-4871-89b7-ccb12737ae55\",\"type\":\"ResetTool\"},{\"id\":\"0017d242-7634-4ac1-ad30-d06469f621b4\",\"type\":\"HelpTool\"}]},\"id\":\"c7019c58-e72a-4315-8799-ae8157ef19cd\",\"type\":\"Toolbar\"},{\"attributes\":{\"callback\":null},\"id\":\"b7ba0e31-9e70-450e-b664-c1b9b9a7ae12\",\"type\":\"DataRange1d\"}],\"root_ids\":[\"cb8171ec-3f00-47c0-8027-6ece82ab7d38\"]},\"title\":\"Bokeh Application\",\"version\":\"0.12.1\"}};\n",
       "            var render_items = [{\"docid\":\"d3f042e1-abd3-47f7-b312-cf3cb9966078\",\"elementid\":\"3e9801ea-76bd-47e8-8fec-b228d8cace24\",\"modelid\":\"cb8171ec-3f00-47c0-8027-6ece82ab7d38\",\"notebook_comms_target\":\"64cec222-3259-480f-b8b4-4a88e83c8380\"}];\n",
       "            \n",
       "            Bokeh.embed.embed_items(docs_json, render_items);\n",
       "        });\n",
       "      },\n",
       "      function(Bokeh) {\n",
       "      }\n",
       "    ];\n",
       "  \n",
       "    function run_inline_js() {\n",
       "      for (var i = 0; i < inline_js.length; i++) {\n",
       "        inline_js[i](window.Bokeh);\n",
       "      }\n",
       "    }\n",
       "  \n",
       "    if (window._bokeh_is_loading === 0) {\n",
       "      console.log(\"Bokeh: BokehJS loaded, going straight to plotting\");\n",
       "      run_inline_js();\n",
       "    } else {\n",
       "      load_libs(js_urls, function() {\n",
       "        console.log(\"Bokeh: BokehJS plotting callback run at\", now());\n",
       "        run_inline_js();\n",
       "      });\n",
       "    }\n",
       "  }(this));\n",
       "</script>"
      ]
     },
     "metadata": {},
     "output_type": "display_data"
    },
    {
     "data": {
      "text/html": [
       "<p><code>&lt;Bokeh Notebook handle for <strong>In[26]</strong>&gt;</code></p>"
      ],
      "text/plain": [
       "<bokeh.io._CommsHandle at 0x1134ec410>"
      ]
     },
     "execution_count": 17,
     "metadata": {},
     "output_type": "execute_result"
    }
   ],
   "source": [
    "# set up some data\n",
    "x = [1, 2, 3, 4, 5]\n",
    "y = [6, 7, 8, 7, 3]\n",
    "\n",
    "# create a new plot with figure\n",
    "p = figure(plot_width=400, plot_height=400)\n",
    "\n",
    "# add both a line and circles on the same plot\n",
    "p.line(x, y, line_width=2)\n",
    "p.circle(x, y, fill_color=\"white\", size=8)\n",
    "\n",
    "show(p) # show the results"
   ]
  },
  {
   "cell_type": "code",
   "execution_count": 12,
   "metadata": {
    "collapsed": true
   },
   "outputs": [],
   "source": [
    "# EXERCISE: create your own plot combining multiple glyphs together\n",
    "\n"
   ]
  }
 ],
 "metadata": {
  "anaconda-cloud": {},
  "kernelspec": {
   "display_name": "Python 2",
   "language": "python",
   "name": "python2"
  },
  "language_info": {
   "codemirror_mode": {
    "name": "ipython",
    "version": 2
   },
   "file_extension": ".py",
   "mimetype": "text/x-python",
   "name": "python",
   "nbconvert_exporter": "python",
   "pygments_lexer": "ipython2",
   "version": "2.7.12"
  }
 },
 "nbformat": 4,
 "nbformat_minor": 0
}
