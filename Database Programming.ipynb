{
 "cells": [
  {
   "cell_type": "code",
   "execution_count": 17,
   "metadata": {
    "collapsed": false
   },
   "outputs": [
    {
     "name": "stdout",
     "output_type": "stream",
     "text": [
      "(1, u'John', 97)\n",
      "(2, u'Smith', 100)\n"
     ]
    }
   ],
   "source": [
    "import sqlite3\n",
    "\n",
    "db = sqlite3.connect(\"Student.db\")\n",
    "db.execute(\"drop table if exists grades\")\n",
    "db.execute(\"create table grades(id int, name text, score int)\")\n",
    "db.execute(\"insert into grades(id, name, score) values(1,'John', 97)\")\n",
    "db.execute(\"insert into grades(id, name, score) values(2, 'Smith', 100)\")\n",
    "db.commit()\n",
    "\n",
    "results = db.execute(\"select * from grades order by id\")\n",
    "\n",
    "for row in results:\n",
    "    print row\n",
    "    \n",
    "    #print row.decode('unicode_escape').encode('ascii','ignore')"
   ]
  },
  {
   "cell_type": "code",
   "execution_count": 16,
   "metadata": {
    "collapsed": false
   },
   "outputs": [],
   "source": [
    "import sqlite3\n",
    "\n",
    "db = sqlite3.connect(\"Student.db\")\n",
    "db.execute(\"drop table if exists grades\")\n",
    "db.execute(\"create table grades(id int, name text, score int)\")\n",
    "db.execute(\"insert into grades(id, name, score) values(1,'John', 97)\")\n",
    "db.execute(\"insert into grades(id, name, score) values(2, 'Smith', 100)\")\n",
    "db.execute(\"insert into grades(id, name, score) values(3,'Jane', 98)\")\n",
    "db.execute(\"insert into grades(id, name, score) values(4, 'Doe', 90)\")\n",
    "db.execute(\"insert into grades(id, name, score) values(5,'James', 85)\")\n",
    "db.execute(\"insert into grades(id, name, score) values(6, 'Tom', 82)\")\n",
    "db.commit()"
   ]
  },
  {
   "cell_type": "code",
   "execution_count": 19,
   "metadata": {
    "collapsed": false
   },
   "outputs": [
    {
     "name": "stdout",
     "output_type": "stream",
     "text": [
      "(1, u'John', 97)\n",
      "(2, u'Smith', 100)\n",
      "(3, u'Jane', 98)\n",
      "(4, u'Doe', 90)\n",
      "(5, u'James', 85)\n",
      "(6, u'Tom', 82)\n"
     ]
    }
   ],
   "source": [
    "results = db.execute(\"select * from grades order by id\")\n",
    "\n",
    "for row in results:\n",
    "    print row"
   ]
  },
  {
   "cell_type": "code",
   "execution_count": 6,
   "metadata": {
    "collapsed": false
   },
   "outputs": [
    {
     "name": "stdout",
     "output_type": "stream",
     "text": [
      "(3, u'Jane')\n"
     ]
    }
   ],
   "source": [
    "results = db.execute(\"select id, name from grades where name = 'Jane'\")\n",
    "\n",
    "for row in results:\n",
    "    print row"
   ]
  },
  {
   "cell_type": "code",
   "execution_count": 33,
   "metadata": {
    "collapsed": false
   },
   "outputs": [
    {
     "name": "stdout",
     "output_type": "stream",
     "text": [
      "(6, u'Tom', 82)\n"
     ]
    }
   ],
   "source": [
    "results = db.execute(\"select * from grades where score < 85\")\n",
    "\n",
    "for row in results:\n",
    "    print row"
   ]
  },
  {
   "cell_type": "code",
   "execution_count": 42,
   "metadata": {
    "collapsed": false
   },
   "outputs": [
    {
     "name": "stdout",
     "output_type": "stream",
     "text": [
      "(u'John', 97)\n",
      "(u'Smith', 100)\n",
      "(u'Jane', 98)\n",
      "(u'Doe', 90)\n",
      "(u'James', 85)\n",
      "(u'Tom', 82)\n"
     ]
    }
   ],
   "source": [
    "results = db.execute(\"select name, score from grades\")\n",
    "\n",
    "for row in results:\n",
    "    print row"
   ]
  },
  {
   "cell_type": "code",
   "execution_count": 16,
   "metadata": {
    "collapsed": false
   },
   "outputs": [],
   "source": [
    "import sqlite3\n",
    "\n",
    "db = sqlite3.connect(\"Student.db\")\n",
    "db.execute(\"drop table if exists grades\")\n",
    "db.execute(\"create table grades(id int, name text, score int)\")\n",
    "db.execute(\"insert into grades(id, name, score) values(1,'John', 97)\")\n",
    "db.execute(\"insert into grades(id, name, score) values(2, 'Smith', 100)\")\n",
    "db.execute(\"insert into grades(id, name, score) values(3,'Jane', 98)\")\n",
    "db.execute(\"insert into grades(id, name, score) values(4, 'Doe', 90)\")\n",
    "db.execute(\"insert into grades(id, name, score) values(5,'James', 85)\")\n",
    "db.execute(\"insert into grades(id, name, score) values(6, 'Tom', 82)\")\n",
    "db.commit()\n",
    "\n",
    "db.execute(\"update grades set name='Jack' where score=82\")\n",
    "db.commit()\n",
    "\n"
   ]
  },
  {
   "cell_type": "code",
   "execution_count": 18,
   "metadata": {
    "collapsed": false
   },
   "outputs": [
    {
     "data": {
      "text/html": [
       "<div>\n",
       "<table border=\"1\" class=\"dataframe\">\n",
       "  <thead>\n",
       "    <tr style=\"text-align: right;\">\n",
       "      <th></th>\n",
       "      <th>id</th>\n",
       "      <th>name</th>\n",
       "      <th>score</th>\n",
       "    </tr>\n",
       "  </thead>\n",
       "  <tbody>\n",
       "    <tr>\n",
       "      <th>0</th>\n",
       "      <td>1</td>\n",
       "      <td>John</td>\n",
       "      <td>97</td>\n",
       "    </tr>\n",
       "    <tr>\n",
       "      <th>1</th>\n",
       "      <td>2</td>\n",
       "      <td>Smith</td>\n",
       "      <td>100</td>\n",
       "    </tr>\n",
       "    <tr>\n",
       "      <th>2</th>\n",
       "      <td>3</td>\n",
       "      <td>Jane</td>\n",
       "      <td>98</td>\n",
       "    </tr>\n",
       "    <tr>\n",
       "      <th>3</th>\n",
       "      <td>4</td>\n",
       "      <td>Doe</td>\n",
       "      <td>90</td>\n",
       "    </tr>\n",
       "    <tr>\n",
       "      <th>4</th>\n",
       "      <td>5</td>\n",
       "      <td>James</td>\n",
       "      <td>85</td>\n",
       "    </tr>\n",
       "    <tr>\n",
       "      <th>5</th>\n",
       "      <td>6</td>\n",
       "      <td>Jack</td>\n",
       "      <td>82</td>\n",
       "    </tr>\n",
       "  </tbody>\n",
       "</table>\n",
       "</div>"
      ],
      "text/plain": [
       "   id   name  score\n",
       "0   1   John     97\n",
       "1   2  Smith    100\n",
       "2   3   Jane     98\n",
       "3   4    Doe     90\n",
       "4   5  James     85\n",
       "5   6   Jack     82"
      ]
     },
     "execution_count": 18,
     "metadata": {},
     "output_type": "execute_result"
    }
   ],
   "source": [
    "import pandas as pd\n",
    "\n",
    "con = sqlite3.connect(\"Student.db\")\n",
    "q = \"Select * from grades\"\n",
    "df = pd.read_sql(q, con)\n",
    "df"
   ]
  },
  {
   "cell_type": "code",
   "execution_count": 4,
   "metadata": {
    "collapsed": false
   },
   "outputs": [
    {
     "ename": "NameError",
     "evalue": "name 'pwd' is not defined",
     "output_type": "error",
     "traceback": [
      "\u001b[0;31m---------------------------------------------------------------------------\u001b[0m",
      "\u001b[0;31mNameError\u001b[0m                                 Traceback (most recent call last)",
      "\u001b[0;32m<ipython-input-4-970fe9bd17b6>\u001b[0m in \u001b[0;36m<module>\u001b[0;34m()\u001b[0m\n\u001b[0;32m----> 1\u001b[0;31m \u001b[0mpwd\u001b[0m\u001b[0;34m\u001b[0m\u001b[0m\n\u001b[0m\u001b[1;32m      2\u001b[0m \u001b[0;32mimport\u001b[0m \u001b[0mpandas\u001b[0m\u001b[0;34m\u001b[0m\u001b[0m\n\u001b[1;32m      3\u001b[0m \u001b[0mpandas\u001b[0m\u001b[0;34m.\u001b[0m\u001b[0mread_sql_table\u001b[0m\u001b[0;34m(\u001b[0m\u001b[0mgrades\u001b[0m\u001b[0;34m,\u001b[0m \u001b[0mdb\u001b[0m\u001b[0;34m,\u001b[0m \u001b[0mschema\u001b[0m\u001b[0;34m=\u001b[0m\u001b[0mNone\u001b[0m\u001b[0;34m,\u001b[0m \u001b[0mindex_col\u001b[0m\u001b[0;34m=\u001b[0m\u001b[0mNone\u001b[0m\u001b[0;34m,\u001b[0m \u001b[0mcoerce_float\u001b[0m\u001b[0;34m=\u001b[0m\u001b[0mTrue\u001b[0m\u001b[0;34m,\u001b[0m \u001b[0mparse_dates\u001b[0m\u001b[0;34m=\u001b[0m\u001b[0mNone\u001b[0m\u001b[0;34m,\u001b[0m \u001b[0mcolumns\u001b[0m\u001b[0;34m=\u001b[0m\u001b[0mNone\u001b[0m\u001b[0;34m,\u001b[0m \u001b[0mchunksize\u001b[0m\u001b[0;34m=\u001b[0m\u001b[0mNone\u001b[0m\u001b[0;34m)\u001b[0m\u001b[0;34m\u001b[0m\u001b[0m\n",
      "\u001b[0;31mNameError\u001b[0m: name 'pwd' is not defined"
     ]
    }
   ],
   "source": [
    "\n",
    "import pandas\n",
    "pandas.read_sql_table(grades, db, schema=None, index_col=None, coerce_float=True, parse_dates=None, columns=None, chunksize=None)"
   ]
  },
  {
   "cell_type": "code",
   "execution_count": 5,
   "metadata": {
    "collapsed": false
   },
   "outputs": [
    {
     "data": {
      "text/plain": [
       "u'/Users/samishumiye'"
      ]
     },
     "execution_count": 5,
     "metadata": {},
     "output_type": "execute_result"
    }
   ],
   "source": [
    "pwd"
   ]
  },
  {
   "cell_type": "code",
   "execution_count": 11,
   "metadata": {
    "collapsed": false
   },
   "outputs": [
    {
     "name": "stdout",
     "output_type": "stream",
     "text": [
      "(1, u'John', 97)\n",
      "(2, u'Smith', 100)\n"
     ]
    }
   ],
   "source": [
    "import sqlite3\n",
    "\n",
    "db = sqlite3.connect(\"Student1.db\")\n",
    "db.execute(\"drop table if exists grades1\")\n",
    "db.execute(\"create table grades1(id int, name text, score int)\")\n",
    "db.execute(\"insert into grades1(id, name, score) values(1,'John', 97)\")\n",
    "db.execute(\"insert into grades1(id, name, score) values(2, 'Smith', 100)\")\n",
    "db.commit()\n",
    "\n",
    "results = db.execute(\"select * from grades1 order by id\")\n",
    "\n",
    "for row in results:\n",
    "    print row"
   ]
  },
  {
   "cell_type": "code",
   "execution_count": 14,
   "metadata": {
    "collapsed": false
   },
   "outputs": [],
   "source": [
    "con = sqlite3.connect('Student1.sqlite')\n",
    "\n",
    "dataset = pandas.read_sql_query(\"SELECT * FROM grades1\", con)"
   ]
  },
  {
   "cell_type": "code",
   "execution_count": 15,
   "metadata": {
    "collapsed": false
   },
   "outputs": [
    {
     "data": {
      "text/html": [
       "<div>\n",
       "<table border=\"1\" class=\"dataframe\">\n",
       "  <thead>\n",
       "    <tr style=\"text-align: right;\">\n",
       "      <th></th>\n",
       "      <th>id</th>\n",
       "      <th>name</th>\n",
       "      <th>score</th>\n",
       "    </tr>\n",
       "  </thead>\n",
       "  <tbody>\n",
       "    <tr>\n",
       "      <th>0</th>\n",
       "      <td>1</td>\n",
       "      <td>John</td>\n",
       "      <td>97</td>\n",
       "    </tr>\n",
       "    <tr>\n",
       "      <th>1</th>\n",
       "      <td>2</td>\n",
       "      <td>Smith</td>\n",
       "      <td>100</td>\n",
       "    </tr>\n",
       "  </tbody>\n",
       "</table>\n",
       "</div>"
      ],
      "text/plain": [
       "   id   name  score\n",
       "0   1   John     97\n",
       "1   2  Smith    100"
      ]
     },
     "execution_count": 15,
     "metadata": {},
     "output_type": "execute_result"
    }
   ],
   "source": [
    "dataset"
   ]
  },
  {
   "cell_type": "code",
   "execution_count": null,
   "metadata": {
    "collapsed": true
   },
   "outputs": [],
   "source": [
    "# http://pandas.pydata.org/pandas-docs/stable/generated/pandas.read_sql_table.html#pandas.read_sql_table"
   ]
  },
  {
   "cell_type": "code",
   "execution_count": 28,
   "metadata": {
    "collapsed": false
   },
   "outputs": [],
   "source": [
    "import sqlite3\n",
    "\n",
    "db = sqlite3.connect(\"StudentList.db\")\n",
    "db.execute(\"drop table if exists student_info\")\n",
    "db.execute(\"create table student_info(id int, name text, score int , grade int, state text)\")\n",
    "db.execute(\"insert into student_info(id, name, score, grade, state) values(1,'John',97,11,'CA')\")\n",
    "db.execute(\"insert into student_info(id, name, score,grade,state) values(2, 'Smith',87,12,'NY')\")\n",
    "db.execute(\"insert into student_info(id, name, score, grade, state) values(3,'Jane',97,10,'SF')\")\n",
    "db.execute(\"insert into student_info(id, name, score,grade,state) values(4, 'Julie',87,9,'LA')\")\n",
    "db.execute(\"insert into student_info(id, name, score, grade, state) values(5,'Jack',97,7,'VA')\")\n",
    "db.execute(\"insert into student_info(id, name, score,grade,state) values(6, 'Karen',99,12,'DC')\")\n",
    "db.execute(\"insert into student_info(id, name, score, grade, state) values(7,'Lucy',63,11,'NC')\")\n",
    "db.execute(\"insert into student_info(id, name, score,grade,state) values(8, 'Mark',81,10,'CT')\")\n",
    "db.execute(\"insert into student_info(id, name, score, grade, state) values(9,'Terry',67,8,'AZ')\")\n",
    "db.execute(\"insert into student_info(id, name, score,grade,state) values(10, 'Newman',77,9,'MD')\")\n",
    "db.execute(\"insert into student_info(id, name, score, grade, state) values(11,'Kevin',67,2,'NJ')\")\n",
    "db.execute(\"insert into student_info(id, name, score,grade,state) values(12, 'Sami',81,3,'SC')\")\n",
    "db.execute(\"insert into student_info(id, name, score, grade, state) values(13,'Paul',92,4,'PA')\")\n",
    "db.execute(\"insert into student_info(id, name, score,grade,state) values(14, 'Jamie',86,5,'LV')\")\n",
    "db.execute(\"insert into student_info(id, name, score, grade, state) values(15,'Jackie',57,6,'TX')\")\n",
    "db.execute(\"insert into student_info(id, name, score,grade,state) values(16, 'Maria',90,7,'UT')\")\n",
    "db.execute(\"insert into student_info(id, name, score, grade, state) values(17,'Marta',69,8,'MA')\")\n",
    "db.execute(\"insert into student_info(id, name, score,grade,state) values(18, 'Muller',88,10,'CT')\")\n",
    "db.execute(\"insert into student_info(id, name, score, grade, state) values(19,'Tiara',77,8,'AZ')\")\n",
    "db.execute(\"insert into student_info(id, name, score,grade,state) values(20, 'James',79,9,'MD')\")\n",
    "db.commit()\n",
    "\n",
    "#db.execute(\"update grades set name='Jack' where score=82\")\n",
    "#db.commit()"
   ]
  },
  {
   "cell_type": "code",
   "execution_count": 29,
   "metadata": {
    "collapsed": false
   },
   "outputs": [
    {
     "name": "stdout",
     "output_type": "stream",
     "text": [
      "(1, u'John', 97, 11, u'CA')\n",
      "(2, u'Smith', 87, 12, u'NY')\n",
      "(3, u'Jane', 97, 10, u'SF')\n",
      "(4, u'Julie', 87, 9, u'LA')\n",
      "(5, u'Jack', 97, 7, u'VA')\n",
      "(6, u'Karen', 99, 12, u'DC')\n",
      "(7, u'Lucy', 63, 11, u'NC')\n",
      "(8, u'Mark', 81, 10, u'CT')\n",
      "(9, u'Terry', 67, 8, u'AZ')\n",
      "(10, u'Newman', 77, 9, u'MD')\n",
      "(11, u'Kevin', 67, 2, u'NJ')\n",
      "(12, u'Sami', 81, 3, u'SC')\n",
      "(13, u'Paul', 92, 4, u'PA')\n",
      "(14, u'Jamie', 86, 5, u'LV')\n",
      "(15, u'Jackie', 57, 6, u'TX')\n",
      "(16, u'Maria', 90, 7, u'UT')\n",
      "(17, u'Marta', 69, 8, u'MA')\n",
      "(18, u'Muller', 88, 10, u'CT')\n",
      "(19, u'Tiara', 77, 8, u'AZ')\n",
      "(20, u'James', 79, 9, u'MD')\n"
     ]
    }
   ],
   "source": [
    "results = db.execute(\"select * from student_info order by id\")\n",
    "\n",
    "for row in results:\n",
    "    print row"
   ]
  },
  {
   "cell_type": "code",
   "execution_count": 30,
   "metadata": {
    "collapsed": true
   },
   "outputs": [],
   "source": [
    "con = sqlite3.connect('StudentList.db')\n",
    "\n",
    "dframe = pandas.read_sql_query(\"SELECT * FROM student_info\", con)"
   ]
  },
  {
   "cell_type": "code",
   "execution_count": 31,
   "metadata": {
    "collapsed": false
   },
   "outputs": [
    {
     "data": {
      "text/html": [
       "<div>\n",
       "<table border=\"1\" class=\"dataframe\">\n",
       "  <thead>\n",
       "    <tr style=\"text-align: right;\">\n",
       "      <th></th>\n",
       "      <th>id</th>\n",
       "      <th>name</th>\n",
       "      <th>score</th>\n",
       "      <th>grade</th>\n",
       "      <th>state</th>\n",
       "    </tr>\n",
       "  </thead>\n",
       "  <tbody>\n",
       "    <tr>\n",
       "      <th>0</th>\n",
       "      <td>1</td>\n",
       "      <td>John</td>\n",
       "      <td>97</td>\n",
       "      <td>11</td>\n",
       "      <td>CA</td>\n",
       "    </tr>\n",
       "    <tr>\n",
       "      <th>1</th>\n",
       "      <td>2</td>\n",
       "      <td>Smith</td>\n",
       "      <td>87</td>\n",
       "      <td>12</td>\n",
       "      <td>NY</td>\n",
       "    </tr>\n",
       "    <tr>\n",
       "      <th>2</th>\n",
       "      <td>3</td>\n",
       "      <td>Jane</td>\n",
       "      <td>97</td>\n",
       "      <td>10</td>\n",
       "      <td>SF</td>\n",
       "    </tr>\n",
       "    <tr>\n",
       "      <th>3</th>\n",
       "      <td>4</td>\n",
       "      <td>Julie</td>\n",
       "      <td>87</td>\n",
       "      <td>9</td>\n",
       "      <td>LA</td>\n",
       "    </tr>\n",
       "    <tr>\n",
       "      <th>4</th>\n",
       "      <td>5</td>\n",
       "      <td>Jack</td>\n",
       "      <td>97</td>\n",
       "      <td>7</td>\n",
       "      <td>VA</td>\n",
       "    </tr>\n",
       "    <tr>\n",
       "      <th>5</th>\n",
       "      <td>6</td>\n",
       "      <td>Karen</td>\n",
       "      <td>99</td>\n",
       "      <td>12</td>\n",
       "      <td>DC</td>\n",
       "    </tr>\n",
       "    <tr>\n",
       "      <th>6</th>\n",
       "      <td>7</td>\n",
       "      <td>Lucy</td>\n",
       "      <td>63</td>\n",
       "      <td>11</td>\n",
       "      <td>NC</td>\n",
       "    </tr>\n",
       "    <tr>\n",
       "      <th>7</th>\n",
       "      <td>8</td>\n",
       "      <td>Mark</td>\n",
       "      <td>81</td>\n",
       "      <td>10</td>\n",
       "      <td>CT</td>\n",
       "    </tr>\n",
       "    <tr>\n",
       "      <th>8</th>\n",
       "      <td>9</td>\n",
       "      <td>Terry</td>\n",
       "      <td>67</td>\n",
       "      <td>8</td>\n",
       "      <td>AZ</td>\n",
       "    </tr>\n",
       "    <tr>\n",
       "      <th>9</th>\n",
       "      <td>10</td>\n",
       "      <td>Newman</td>\n",
       "      <td>77</td>\n",
       "      <td>9</td>\n",
       "      <td>MD</td>\n",
       "    </tr>\n",
       "    <tr>\n",
       "      <th>10</th>\n",
       "      <td>11</td>\n",
       "      <td>Kevin</td>\n",
       "      <td>67</td>\n",
       "      <td>2</td>\n",
       "      <td>NJ</td>\n",
       "    </tr>\n",
       "    <tr>\n",
       "      <th>11</th>\n",
       "      <td>12</td>\n",
       "      <td>Sami</td>\n",
       "      <td>81</td>\n",
       "      <td>3</td>\n",
       "      <td>SC</td>\n",
       "    </tr>\n",
       "    <tr>\n",
       "      <th>12</th>\n",
       "      <td>13</td>\n",
       "      <td>Paul</td>\n",
       "      <td>92</td>\n",
       "      <td>4</td>\n",
       "      <td>PA</td>\n",
       "    </tr>\n",
       "    <tr>\n",
       "      <th>13</th>\n",
       "      <td>14</td>\n",
       "      <td>Jamie</td>\n",
       "      <td>86</td>\n",
       "      <td>5</td>\n",
       "      <td>LV</td>\n",
       "    </tr>\n",
       "    <tr>\n",
       "      <th>14</th>\n",
       "      <td>15</td>\n",
       "      <td>Jackie</td>\n",
       "      <td>57</td>\n",
       "      <td>6</td>\n",
       "      <td>TX</td>\n",
       "    </tr>\n",
       "    <tr>\n",
       "      <th>15</th>\n",
       "      <td>16</td>\n",
       "      <td>Maria</td>\n",
       "      <td>90</td>\n",
       "      <td>7</td>\n",
       "      <td>UT</td>\n",
       "    </tr>\n",
       "    <tr>\n",
       "      <th>16</th>\n",
       "      <td>17</td>\n",
       "      <td>Marta</td>\n",
       "      <td>69</td>\n",
       "      <td>8</td>\n",
       "      <td>MA</td>\n",
       "    </tr>\n",
       "    <tr>\n",
       "      <th>17</th>\n",
       "      <td>18</td>\n",
       "      <td>Muller</td>\n",
       "      <td>88</td>\n",
       "      <td>10</td>\n",
       "      <td>CT</td>\n",
       "    </tr>\n",
       "    <tr>\n",
       "      <th>18</th>\n",
       "      <td>19</td>\n",
       "      <td>Tiara</td>\n",
       "      <td>77</td>\n",
       "      <td>8</td>\n",
       "      <td>AZ</td>\n",
       "    </tr>\n",
       "    <tr>\n",
       "      <th>19</th>\n",
       "      <td>20</td>\n",
       "      <td>James</td>\n",
       "      <td>79</td>\n",
       "      <td>9</td>\n",
       "      <td>MD</td>\n",
       "    </tr>\n",
       "  </tbody>\n",
       "</table>\n",
       "</div>"
      ],
      "text/plain": [
       "    id    name  score  grade state\n",
       "0    1    John     97     11    CA\n",
       "1    2   Smith     87     12    NY\n",
       "2    3    Jane     97     10    SF\n",
       "3    4   Julie     87      9    LA\n",
       "4    5    Jack     97      7    VA\n",
       "5    6   Karen     99     12    DC\n",
       "6    7    Lucy     63     11    NC\n",
       "7    8    Mark     81     10    CT\n",
       "8    9   Terry     67      8    AZ\n",
       "9   10  Newman     77      9    MD\n",
       "10  11   Kevin     67      2    NJ\n",
       "11  12    Sami     81      3    SC\n",
       "12  13    Paul     92      4    PA\n",
       "13  14   Jamie     86      5    LV\n",
       "14  15  Jackie     57      6    TX\n",
       "15  16   Maria     90      7    UT\n",
       "16  17   Marta     69      8    MA\n",
       "17  18  Muller     88     10    CT\n",
       "18  19   Tiara     77      8    AZ\n",
       "19  20   James     79      9    MD"
      ]
     },
     "execution_count": 31,
     "metadata": {},
     "output_type": "execute_result"
    }
   ],
   "source": [
    "dframe"
   ]
  },
  {
   "cell_type": "code",
   "execution_count": 32,
   "metadata": {
    "collapsed": false
   },
   "outputs": [
    {
     "data": {
      "text/html": [
       "<div>\n",
       "<table border=\"1\" class=\"dataframe\">\n",
       "  <thead>\n",
       "    <tr style=\"text-align: right;\">\n",
       "      <th></th>\n",
       "      <th>id</th>\n",
       "      <th>name</th>\n",
       "      <th>score</th>\n",
       "    </tr>\n",
       "  </thead>\n",
       "  <tbody>\n",
       "    <tr>\n",
       "      <th>0</th>\n",
       "      <td>1</td>\n",
       "      <td>John</td>\n",
       "      <td>97</td>\n",
       "    </tr>\n",
       "    <tr>\n",
       "      <th>1</th>\n",
       "      <td>2</td>\n",
       "      <td>Smith</td>\n",
       "      <td>87</td>\n",
       "    </tr>\n",
       "    <tr>\n",
       "      <th>2</th>\n",
       "      <td>3</td>\n",
       "      <td>Jane</td>\n",
       "      <td>97</td>\n",
       "    </tr>\n",
       "    <tr>\n",
       "      <th>3</th>\n",
       "      <td>4</td>\n",
       "      <td>Julie</td>\n",
       "      <td>87</td>\n",
       "    </tr>\n",
       "    <tr>\n",
       "      <th>4</th>\n",
       "      <td>5</td>\n",
       "      <td>Jack</td>\n",
       "      <td>97</td>\n",
       "    </tr>\n",
       "  </tbody>\n",
       "</table>\n",
       "</div>"
      ],
      "text/plain": [
       "   id   name  score\n",
       "0   1   John     97\n",
       "1   2  Smith     87\n",
       "2   3   Jane     97\n",
       "3   4  Julie     87\n",
       "4   5   Jack     97"
      ]
     },
     "execution_count": 32,
     "metadata": {},
     "output_type": "execute_result"
    }
   ],
   "source": [
    "#Select just a few columns\n",
    "\n",
    "\n",
    "dframe = pd.read_sql_query('SELECT id, name, score FROM student_info', con)\n",
    "dframe.head()"
   ]
  },
  {
   "cell_type": "code",
   "execution_count": null,
   "metadata": {
    "collapsed": true
   },
   "outputs": [],
   "source": [
    "#Select just a few columns\n",
    "# LIMIT the number of rows that are retrieved\n",
    "# Filter rows with WHERE\n",
    "# Filter multiple values in a column with WHERE and IN\n",
    "# Filter multiple values in a column with WHERE and IN and ORDER BY --\n",
    "# Find the unique values in a column with DISTINCT\n",
    "#Query value counts with COUNT(*) and GROUP BY\n"
   ]
  },
  {
   "cell_type": "code",
   "execution_count": 34,
   "metadata": {
    "collapsed": false
   },
   "outputs": [
    {
     "data": {
      "text/html": [
       "<div>\n",
       "<table border=\"1\" class=\"dataframe\">\n",
       "  <thead>\n",
       "    <tr style=\"text-align: right;\">\n",
       "      <th></th>\n",
       "      <th>id</th>\n",
       "      <th>name</th>\n",
       "      <th>score</th>\n",
       "    </tr>\n",
       "  </thead>\n",
       "  <tbody>\n",
       "    <tr>\n",
       "      <th>0</th>\n",
       "      <td>1</td>\n",
       "      <td>John</td>\n",
       "      <td>97</td>\n",
       "    </tr>\n",
       "    <tr>\n",
       "      <th>1</th>\n",
       "      <td>2</td>\n",
       "      <td>Smith</td>\n",
       "      <td>87</td>\n",
       "    </tr>\n",
       "    <tr>\n",
       "      <th>2</th>\n",
       "      <td>3</td>\n",
       "      <td>Jane</td>\n",
       "      <td>97</td>\n",
       "    </tr>\n",
       "    <tr>\n",
       "      <th>3</th>\n",
       "      <td>4</td>\n",
       "      <td>Julie</td>\n",
       "      <td>87</td>\n",
       "    </tr>\n",
       "  </tbody>\n",
       "</table>\n",
       "</div>"
      ],
      "text/plain": [
       "   id   name  score\n",
       "0   1   John     97\n",
       "1   2  Smith     87\n",
       "2   3   Jane     97\n",
       "3   4  Julie     87"
      ]
     },
     "execution_count": 34,
     "metadata": {},
     "output_type": "execute_result"
    }
   ],
   "source": [
    "# LIMIT the number of rows that are retrieved\n",
    "\n",
    "dframe = pd.read_sql_query('SELECT id, name, score FROM student_info LIMIT 4', con)\n",
    "dframe.head()"
   ]
  },
  {
   "cell_type": "code",
   "execution_count": null,
   "metadata": {
    "collapsed": true
   },
   "outputs": [],
   "source": [
    "dframe = pd.read_sql_query('SELECT id, name, score FROM student_info', con)\n",
    "dframe.head()"
   ]
  },
  {
   "cell_type": "code",
   "execution_count": 27,
   "metadata": {
    "collapsed": false
   },
   "outputs": [
    {
     "data": {
      "text/html": [
       "<div>\n",
       "<table border=\"1\" class=\"dataframe\">\n",
       "  <thead>\n",
       "    <tr style=\"text-align: right;\">\n",
       "      <th></th>\n",
       "      <th>id</th>\n",
       "      <th>name</th>\n",
       "      <th>score</th>\n",
       "    </tr>\n",
       "  </thead>\n",
       "  <tbody>\n",
       "    <tr>\n",
       "      <th>0</th>\n",
       "      <td>1</td>\n",
       "      <td>John</td>\n",
       "      <td>97</td>\n",
       "    </tr>\n",
       "    <tr>\n",
       "      <th>1</th>\n",
       "      <td>7</td>\n",
       "      <td>Lucy</td>\n",
       "      <td>63</td>\n",
       "    </tr>\n",
       "  </tbody>\n",
       "</table>\n",
       "</div>"
      ],
      "text/plain": [
       "   id  name  score\n",
       "0   1  John     97\n",
       "1   7  Lucy     63"
      ]
     },
     "execution_count": 27,
     "metadata": {},
     "output_type": "execute_result"
    }
   ],
   "source": [
    "# Filter rows with WHERE\n",
    "\n",
    "dframe = pd.read_sql_query('SELECT id, name, score FROM student_info WHERE grade = 11', con)\n",
    "dframe"
   ]
  },
  {
   "cell_type": "code",
   "execution_count": 35,
   "metadata": {
    "collapsed": false
   },
   "outputs": [
    {
     "data": {
      "text/html": [
       "<div>\n",
       "<table border=\"1\" class=\"dataframe\">\n",
       "  <thead>\n",
       "    <tr style=\"text-align: right;\">\n",
       "      <th></th>\n",
       "      <th>id</th>\n",
       "      <th>name</th>\n",
       "      <th>score</th>\n",
       "      <th>grade</th>\n",
       "      <th>state</th>\n",
       "    </tr>\n",
       "  </thead>\n",
       "  <tbody>\n",
       "    <tr>\n",
       "      <th>0</th>\n",
       "      <td>9</td>\n",
       "      <td>Terry</td>\n",
       "      <td>67</td>\n",
       "      <td>8</td>\n",
       "      <td>AZ</td>\n",
       "    </tr>\n",
       "    <tr>\n",
       "      <th>1</th>\n",
       "      <td>10</td>\n",
       "      <td>Newman</td>\n",
       "      <td>77</td>\n",
       "      <td>9</td>\n",
       "      <td>MD</td>\n",
       "    </tr>\n",
       "    <tr>\n",
       "      <th>2</th>\n",
       "      <td>12</td>\n",
       "      <td>Sami</td>\n",
       "      <td>81</td>\n",
       "      <td>3</td>\n",
       "      <td>SC</td>\n",
       "    </tr>\n",
       "    <tr>\n",
       "      <th>3</th>\n",
       "      <td>19</td>\n",
       "      <td>Tiara</td>\n",
       "      <td>77</td>\n",
       "      <td>8</td>\n",
       "      <td>AZ</td>\n",
       "    </tr>\n",
       "    <tr>\n",
       "      <th>4</th>\n",
       "      <td>20</td>\n",
       "      <td>James</td>\n",
       "      <td>79</td>\n",
       "      <td>9</td>\n",
       "      <td>MD</td>\n",
       "    </tr>\n",
       "  </tbody>\n",
       "</table>\n",
       "</div>"
      ],
      "text/plain": [
       "   id    name  score  grade state\n",
       "0   9   Terry     67      8    AZ\n",
       "1  10  Newman     77      9    MD\n",
       "2  12    Sami     81      3    SC\n",
       "3  19   Tiara     77      8    AZ\n",
       "4  20   James     79      9    MD"
      ]
     },
     "execution_count": 35,
     "metadata": {},
     "output_type": "execute_result"
    }
   ],
   "source": [
    "# Filter multiple values in a column with WHERE and IN\n",
    "\n",
    "dframe = pd.read_sql_query('SELECT * FROM student_info WHERE state IN (\"MD\",\"AZ\",\"SC\")', con)\n",
    "dframe"
   ]
  },
  {
   "cell_type": "code",
   "execution_count": 38,
   "metadata": {
    "collapsed": false
   },
   "outputs": [
    {
     "data": {
      "text/html": [
       "<div>\n",
       "<table border=\"1\" class=\"dataframe\">\n",
       "  <thead>\n",
       "    <tr style=\"text-align: right;\">\n",
       "      <th></th>\n",
       "      <th>id</th>\n",
       "      <th>name</th>\n",
       "      <th>score</th>\n",
       "      <th>grade</th>\n",
       "      <th>state</th>\n",
       "    </tr>\n",
       "  </thead>\n",
       "  <tbody>\n",
       "    <tr>\n",
       "      <th>0</th>\n",
       "      <td>1</td>\n",
       "      <td>John</td>\n",
       "      <td>97</td>\n",
       "      <td>11</td>\n",
       "      <td>CA</td>\n",
       "    </tr>\n",
       "    <tr>\n",
       "      <th>1</th>\n",
       "      <td>2</td>\n",
       "      <td>Smith</td>\n",
       "      <td>87</td>\n",
       "      <td>12</td>\n",
       "      <td>NY</td>\n",
       "    </tr>\n",
       "    <tr>\n",
       "      <th>2</th>\n",
       "      <td>6</td>\n",
       "      <td>Karen</td>\n",
       "      <td>99</td>\n",
       "      <td>12</td>\n",
       "      <td>DC</td>\n",
       "    </tr>\n",
       "    <tr>\n",
       "      <th>3</th>\n",
       "      <td>7</td>\n",
       "      <td>Lucy</td>\n",
       "      <td>63</td>\n",
       "      <td>11</td>\n",
       "      <td>NC</td>\n",
       "    </tr>\n",
       "    <tr>\n",
       "      <th>4</th>\n",
       "      <td>9</td>\n",
       "      <td>Terry</td>\n",
       "      <td>67</td>\n",
       "      <td>8</td>\n",
       "      <td>AZ</td>\n",
       "    </tr>\n",
       "    <tr>\n",
       "      <th>5</th>\n",
       "      <td>17</td>\n",
       "      <td>Marta</td>\n",
       "      <td>69</td>\n",
       "      <td>8</td>\n",
       "      <td>MA</td>\n",
       "    </tr>\n",
       "    <tr>\n",
       "      <th>6</th>\n",
       "      <td>19</td>\n",
       "      <td>Tiara</td>\n",
       "      <td>77</td>\n",
       "      <td>8</td>\n",
       "      <td>AZ</td>\n",
       "    </tr>\n",
       "  </tbody>\n",
       "</table>\n",
       "</div>"
      ],
      "text/plain": [
       "   id   name  score  grade state\n",
       "0   1   John     97     11    CA\n",
       "1   2  Smith     87     12    NY\n",
       "2   6  Karen     99     12    DC\n",
       "3   7   Lucy     63     11    NC\n",
       "4   9  Terry     67      8    AZ\n",
       "5  17  Marta     69      8    MA\n",
       "6  19  Tiara     77      8    AZ"
      ]
     },
     "execution_count": 38,
     "metadata": {},
     "output_type": "execute_result"
    }
   ],
   "source": [
    "# Filter multiple values in a column with WHERE and IN\n",
    "\n",
    "dframe = pd.read_sql_query('SELECT * FROM student_info WHERE grade IN (8, 11, 12)', con)\n",
    "dframe"
   ]
  },
  {
   "cell_type": "code",
   "execution_count": 39,
   "metadata": {
    "collapsed": false
   },
   "outputs": [
    {
     "data": {
      "text/html": [
       "<div>\n",
       "<table border=\"1\" class=\"dataframe\">\n",
       "  <thead>\n",
       "    <tr style=\"text-align: right;\">\n",
       "      <th></th>\n",
       "      <th>id</th>\n",
       "      <th>name</th>\n",
       "      <th>score</th>\n",
       "      <th>grade</th>\n",
       "      <th>state</th>\n",
       "    </tr>\n",
       "  </thead>\n",
       "  <tbody>\n",
       "    <tr>\n",
       "      <th>0</th>\n",
       "      <td>9</td>\n",
       "      <td>Terry</td>\n",
       "      <td>67</td>\n",
       "      <td>8</td>\n",
       "      <td>AZ</td>\n",
       "    </tr>\n",
       "    <tr>\n",
       "      <th>1</th>\n",
       "      <td>17</td>\n",
       "      <td>Marta</td>\n",
       "      <td>69</td>\n",
       "      <td>8</td>\n",
       "      <td>MA</td>\n",
       "    </tr>\n",
       "    <tr>\n",
       "      <th>2</th>\n",
       "      <td>19</td>\n",
       "      <td>Tiara</td>\n",
       "      <td>77</td>\n",
       "      <td>8</td>\n",
       "      <td>AZ</td>\n",
       "    </tr>\n",
       "    <tr>\n",
       "      <th>3</th>\n",
       "      <td>1</td>\n",
       "      <td>John</td>\n",
       "      <td>97</td>\n",
       "      <td>11</td>\n",
       "      <td>CA</td>\n",
       "    </tr>\n",
       "    <tr>\n",
       "      <th>4</th>\n",
       "      <td>7</td>\n",
       "      <td>Lucy</td>\n",
       "      <td>63</td>\n",
       "      <td>11</td>\n",
       "      <td>NC</td>\n",
       "    </tr>\n",
       "    <tr>\n",
       "      <th>5</th>\n",
       "      <td>2</td>\n",
       "      <td>Smith</td>\n",
       "      <td>87</td>\n",
       "      <td>12</td>\n",
       "      <td>NY</td>\n",
       "    </tr>\n",
       "    <tr>\n",
       "      <th>6</th>\n",
       "      <td>6</td>\n",
       "      <td>Karen</td>\n",
       "      <td>99</td>\n",
       "      <td>12</td>\n",
       "      <td>DC</td>\n",
       "    </tr>\n",
       "  </tbody>\n",
       "</table>\n",
       "</div>"
      ],
      "text/plain": [
       "   id   name  score  grade state\n",
       "0   9  Terry     67      8    AZ\n",
       "1  17  Marta     69      8    MA\n",
       "2  19  Tiara     77      8    AZ\n",
       "3   1   John     97     11    CA\n",
       "4   7   Lucy     63     11    NC\n",
       "5   2  Smith     87     12    NY\n",
       "6   6  Karen     99     12    DC"
      ]
     },
     "execution_count": 39,
     "metadata": {},
     "output_type": "execute_result"
    }
   ],
   "source": [
    "# Filter multiple values in a column with WHERE and IN and ORDER BY --\n",
    "\n",
    "dframe = pd.read_sql_query('SELECT * FROM student_info WHERE grade IN (8, 11, 12) ORDER BY grade', con)\n",
    "dframe"
   ]
  },
  {
   "cell_type": "code",
   "execution_count": 36,
   "metadata": {
    "collapsed": false
   },
   "outputs": [
    {
     "data": {
      "text/html": [
       "<div>\n",
       "<table border=\"1\" class=\"dataframe\">\n",
       "  <thead>\n",
       "    <tr style=\"text-align: right;\">\n",
       "      <th></th>\n",
       "      <th>state</th>\n",
       "    </tr>\n",
       "  </thead>\n",
       "  <tbody>\n",
       "    <tr>\n",
       "      <th>0</th>\n",
       "      <td>CA</td>\n",
       "    </tr>\n",
       "    <tr>\n",
       "      <th>1</th>\n",
       "      <td>NY</td>\n",
       "    </tr>\n",
       "    <tr>\n",
       "      <th>2</th>\n",
       "      <td>SF</td>\n",
       "    </tr>\n",
       "    <tr>\n",
       "      <th>3</th>\n",
       "      <td>LA</td>\n",
       "    </tr>\n",
       "    <tr>\n",
       "      <th>4</th>\n",
       "      <td>VA</td>\n",
       "    </tr>\n",
       "    <tr>\n",
       "      <th>5</th>\n",
       "      <td>DC</td>\n",
       "    </tr>\n",
       "    <tr>\n",
       "      <th>6</th>\n",
       "      <td>NC</td>\n",
       "    </tr>\n",
       "    <tr>\n",
       "      <th>7</th>\n",
       "      <td>CT</td>\n",
       "    </tr>\n",
       "    <tr>\n",
       "      <th>8</th>\n",
       "      <td>AZ</td>\n",
       "    </tr>\n",
       "    <tr>\n",
       "      <th>9</th>\n",
       "      <td>MD</td>\n",
       "    </tr>\n",
       "    <tr>\n",
       "      <th>10</th>\n",
       "      <td>NJ</td>\n",
       "    </tr>\n",
       "    <tr>\n",
       "      <th>11</th>\n",
       "      <td>SC</td>\n",
       "    </tr>\n",
       "    <tr>\n",
       "      <th>12</th>\n",
       "      <td>PA</td>\n",
       "    </tr>\n",
       "    <tr>\n",
       "      <th>13</th>\n",
       "      <td>LV</td>\n",
       "    </tr>\n",
       "    <tr>\n",
       "      <th>14</th>\n",
       "      <td>TX</td>\n",
       "    </tr>\n",
       "    <tr>\n",
       "      <th>15</th>\n",
       "      <td>UT</td>\n",
       "    </tr>\n",
       "    <tr>\n",
       "      <th>16</th>\n",
       "      <td>MA</td>\n",
       "    </tr>\n",
       "  </tbody>\n",
       "</table>\n",
       "</div>"
      ],
      "text/plain": [
       "   state\n",
       "0     CA\n",
       "1     NY\n",
       "2     SF\n",
       "3     LA\n",
       "4     VA\n",
       "5     DC\n",
       "6     NC\n",
       "7     CT\n",
       "8     AZ\n",
       "9     MD\n",
       "10    NJ\n",
       "11    SC\n",
       "12    PA\n",
       "13    LV\n",
       "14    TX\n",
       "15    UT\n",
       "16    MA"
      ]
     },
     "execution_count": 36,
     "metadata": {},
     "output_type": "execute_result"
    }
   ],
   "source": [
    "# Find the unique values in a column with DISTINCT\n",
    "\n",
    "dframe = pd.read_sql_query('SELECT DISTINCT  state FROM student_info', con)\n",
    "dframe"
   ]
  },
  {
   "cell_type": "code",
   "execution_count": 37,
   "metadata": {
    "collapsed": false
   },
   "outputs": [
    {
     "data": {
      "text/html": [
       "<div>\n",
       "<table border=\"1\" class=\"dataframe\">\n",
       "  <thead>\n",
       "    <tr style=\"text-align: right;\">\n",
       "      <th></th>\n",
       "      <th>state</th>\n",
       "      <th>num_of_studs</th>\n",
       "    </tr>\n",
       "  </thead>\n",
       "  <tbody>\n",
       "    <tr>\n",
       "      <th>0</th>\n",
       "      <td>AZ</td>\n",
       "      <td>2</td>\n",
       "    </tr>\n",
       "    <tr>\n",
       "      <th>1</th>\n",
       "      <td>CA</td>\n",
       "      <td>1</td>\n",
       "    </tr>\n",
       "    <tr>\n",
       "      <th>2</th>\n",
       "      <td>CT</td>\n",
       "      <td>2</td>\n",
       "    </tr>\n",
       "    <tr>\n",
       "      <th>3</th>\n",
       "      <td>DC</td>\n",
       "      <td>1</td>\n",
       "    </tr>\n",
       "    <tr>\n",
       "      <th>4</th>\n",
       "      <td>LA</td>\n",
       "      <td>1</td>\n",
       "    </tr>\n",
       "    <tr>\n",
       "      <th>5</th>\n",
       "      <td>LV</td>\n",
       "      <td>1</td>\n",
       "    </tr>\n",
       "    <tr>\n",
       "      <th>6</th>\n",
       "      <td>MA</td>\n",
       "      <td>1</td>\n",
       "    </tr>\n",
       "    <tr>\n",
       "      <th>7</th>\n",
       "      <td>MD</td>\n",
       "      <td>2</td>\n",
       "    </tr>\n",
       "    <tr>\n",
       "      <th>8</th>\n",
       "      <td>NC</td>\n",
       "      <td>1</td>\n",
       "    </tr>\n",
       "    <tr>\n",
       "      <th>9</th>\n",
       "      <td>NJ</td>\n",
       "      <td>1</td>\n",
       "    </tr>\n",
       "    <tr>\n",
       "      <th>10</th>\n",
       "      <td>NY</td>\n",
       "      <td>1</td>\n",
       "    </tr>\n",
       "    <tr>\n",
       "      <th>11</th>\n",
       "      <td>PA</td>\n",
       "      <td>1</td>\n",
       "    </tr>\n",
       "    <tr>\n",
       "      <th>12</th>\n",
       "      <td>SC</td>\n",
       "      <td>1</td>\n",
       "    </tr>\n",
       "    <tr>\n",
       "      <th>13</th>\n",
       "      <td>SF</td>\n",
       "      <td>1</td>\n",
       "    </tr>\n",
       "    <tr>\n",
       "      <th>14</th>\n",
       "      <td>TX</td>\n",
       "      <td>1</td>\n",
       "    </tr>\n",
       "    <tr>\n",
       "      <th>15</th>\n",
       "      <td>UT</td>\n",
       "      <td>1</td>\n",
       "    </tr>\n",
       "    <tr>\n",
       "      <th>16</th>\n",
       "      <td>VA</td>\n",
       "      <td>1</td>\n",
       "    </tr>\n",
       "  </tbody>\n",
       "</table>\n",
       "</div>"
      ],
      "text/plain": [
       "   state  num_of_studs\n",
       "0     AZ             2\n",
       "1     CA             1\n",
       "2     CT             2\n",
       "3     DC             1\n",
       "4     LA             1\n",
       "5     LV             1\n",
       "6     MA             1\n",
       "7     MD             2\n",
       "8     NC             1\n",
       "9     NJ             1\n",
       "10    NY             1\n",
       "11    PA             1\n",
       "12    SC             1\n",
       "13    SF             1\n",
       "14    TX             1\n",
       "15    UT             1\n",
       "16    VA             1"
      ]
     },
     "execution_count": 37,
     "metadata": {},
     "output_type": "execute_result"
    }
   ],
   "source": [
    "#Query value counts with COUNT(*) and GROUP BY\n",
    "dframe = pd.read_sql_query(\"SELECT state, COUNT(*) as 'num_of_studs' FROM student_info GROUP BY state\", con)\n",
    "dframe"
   ]
  },
  {
   "cell_type": "code",
   "execution_count": null,
   "metadata": {
    "collapsed": true
   },
   "outputs": [],
   "source": []
  },
  {
   "cell_type": "code",
   "execution_count": null,
   "metadata": {
    "collapsed": true
   },
   "outputs": [],
   "source": []
  },
  {
   "cell_type": "code",
   "execution_count": null,
   "metadata": {
    "collapsed": true
   },
   "outputs": [],
   "source": []
  },
  {
   "cell_type": "code",
   "execution_count": null,
   "metadata": {
    "collapsed": true
   },
   "outputs": [],
   "source": []
  },
  {
   "cell_type": "code",
   "execution_count": null,
   "metadata": {
    "collapsed": true
   },
   "outputs": [],
   "source": []
  },
  {
   "cell_type": "code",
   "execution_count": null,
   "metadata": {
    "collapsed": true
   },
   "outputs": [],
   "source": []
  },
  {
   "cell_type": "code",
   "execution_count": null,
   "metadata": {
    "collapsed": true
   },
   "outputs": [],
   "source": []
  },
  {
   "cell_type": "code",
   "execution_count": null,
   "metadata": {
    "collapsed": true
   },
   "outputs": [],
   "source": []
  },
  {
   "cell_type": "code",
   "execution_count": 11,
   "metadata": {
    "collapsed": false
   },
   "outputs": [
    {
     "name": "stdout",
     "output_type": "stream",
     "text": [
      "(1, u'John', 97)\n",
      "(1, u'John', 97)\n",
      "(2, u'Smith', 100)\n",
      "(2, u'Smith', 100)\n"
     ]
    }
   ],
   "source": [
    "import sqlite3\n",
    "\n",
    "db = sqlite3.connect(\"Student.lite\")\n",
    "db.execute(\"drop table if exists grades\")\n",
    "db.execute(\"create table grades(id int, name text, score int)\")\n",
    "db.execute(\"insert into grades(id, name, score) values(1,'John', 97)\")\n",
    "db.execute(\"insert into grades(id, name, score) values(2, 'Smith', 100)\")\n",
    "db.commit()\n",
    "\n",
    "results = db.execute(\"select * from grades order by id\")\n",
    "\n",
    "for row in results:\n",
    "    print row\n",
    "    print str(row)"
   ]
  },
  {
   "cell_type": "code",
   "execution_count": null,
   "metadata": {
    "collapsed": true
   },
   "outputs": [],
   "source": []
  },
  {
   "cell_type": "code",
   "execution_count": null,
   "metadata": {
    "collapsed": true
   },
   "outputs": [],
   "source": []
  }
 ],
 "metadata": {
  "kernelspec": {
   "display_name": "Python 2",
   "language": "python",
   "name": "python2"
  },
  "language_info": {
   "codemirror_mode": {
    "name": "ipython",
    "version": 2
   },
   "file_extension": ".py",
   "mimetype": "text/x-python",
   "name": "python",
   "nbconvert_exporter": "python",
   "pygments_lexer": "ipython2",
   "version": "2.7.12"
  }
 },
 "nbformat": 4,
 "nbformat_minor": 0
}
