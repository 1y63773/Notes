{
  "nbformat": 4,
  "nbformat_minor": 0,
  "metadata": {
    "celltoolbar": "Raw Cell Format",
    "kernelspec": {
      "display_name": "Python 3.6",
      "language": "python",
      "name": "python3"
    },
    "language_info": {
      "codemirror_mode": {
        "name": "ipython",
        "version": 3
      },
      "file_extension": ".py",
      "mimetype": "text/x-python",
      "name": "python",
      "nbconvert_exporter": "python",
      "pygments_lexer": "ipython3",
      "version": "3.6.9"
    },
    "colab": {
      "name": "machine learning.ipynb",
      "provenance": [],
      "include_colab_link": true
    }
  },
  "cells": [
    {
      "cell_type": "markdown",
      "metadata": {
        "id": "view-in-github",
        "colab_type": "text"
      },
      "source": [
        "<a href=\"https://colab.research.google.com/github/1y63773/Notes/blob/master/machine_learning.ipynb\" target=\"_parent\"><img src=\"https://colab.research.google.com/assets/colab-badge.svg\" alt=\"Open In Colab\"/></a>"
      ]
    },
    {
      "cell_type": "markdown",
      "metadata": {
        "id": "9oRz_SEJOU8P"
      },
      "source": [
        "# Build and test your first machine learning model using python and scikit-learn\n",
        "\n",
        "There are many users of online trading platforms and these companies would like to run analytics on and predict churn based on user activity on the platform. Since competition is rife, keeping customers happy so they do not move their investments elsewhere is key to maintaining profitability.\n",
        "\n",
        "In this notebook, we'll use scikit-learn to predict classes. scikit-learn provides implementations of many classification algorithms. In here, we have chosen the random forest classification algorithm to walk through all the different steps.\n",
        "\n",
        "To help visualize what we are doing, we'll use 2D and 3D charts to show how the classes look (with 3 selected dimensions) with matplotlib and scikitplot python libraries.\n",
        "\n",
        "<a id=\"top\"></a>\n",
        "## Table of Contents\n",
        "\n",
        "1. [Load libraries](#load_libraries)\n",
        "2. [Data exploration](#explore_data)\n",
        "2. [Prepare data for building classification model](#prepare_data)\n",
        "3. [Split data into train and test sets](#split_data)\n",
        "4. [Helper methods for graph generation](#helper_methods)\n",
        "5. [Prepare Random Forest classification model](#prepare_model)\n",
        "6. [Train Random Forest classification model](#train_model)\n",
        "7. [Test Random Forest classification model](#test_model)\n",
        "8. [Evaluate Random Forest classification model](#evaluate_model)"
      ]
    },
    {
      "cell_type": "markdown",
      "metadata": {
        "id": "5OGoKkRWOU8X"
      },
      "source": [
        "### Quick set of instructions to work through the notebook\n",
        "\n",
        "If you are new to Notebooks, here's a quick overview of how to work in this environment.\n",
        "\n",
        "1. The notebook has 2 types of cells - markdown (text) such as this and code such as the one below. \n",
        "2. Each cell with code can be executed independently or together (see options under the Cell menu). When working in this notebook, we will be running one cell at a time because we need to make code changes to some of the cells.\n",
        "3. To run the cell, position cursor in the code cell and click the Run (arrow) icon. The cell is running when you see the * next to it. Some cells have printable output.\n",
        "4. Work through this notebook by reading the instructions and executing code cell by cell. Some cells will require modifications before you run them. "
      ]
    },
    {
      "cell_type": "markdown",
      "metadata": {
        "id": "VsS5iHioOU8Y"
      },
      "source": [
        "<a id=\"load_libraries\"></a>\n",
        "## 1. Load libraries\n",
        "[Top](#top)\n",
        "\n",
        "\n",
        "Install python modules\n",
        "NOTE! Some pip installs require a kernel restart.\n",
        "The shell command pip install is used to install Python modules. Some installs require a kernel restart to complete. To avoid confusing errors, run the following cell once and then use the Kernel menu to restart the kernel before proceeding."
      ]
    },
    {
      "cell_type": "code",
      "metadata": {
        "id": "exipVM_fOU8Y",
        "outputId": "c7100d0b-8eba-44a3-9dfa-53bf4d34b8d2"
      },
      "source": [
        "!pip install pandas==0.24.2\n",
        "!pip install --user pandas_ml==0.6.1\n",
        "#downgrade matplotlib to bypass issue with confusion matrix being chopped out\n",
        "!pip install matplotlib==3.1.0\n",
        "!pip install --user scikit-learn==0.21.3\n",
        "!pip install -q scikit-plot"
      ],
      "execution_count": null,
      "outputs": [
        {
          "output_type": "stream",
          "text": [
            "Collecting pandas==0.24.2\n",
            "\u001b[?25l  Downloading https://files.pythonhosted.org/packages/19/74/e50234bc82c553fecdbd566d8650801e3fe2d6d8c8d940638e3d8a7c5522/pandas-0.24.2-cp36-cp36m-manylinux1_x86_64.whl (10.1MB)\n",
            "\u001b[K     |████████████████████████████████| 10.1MB 6.7MB/s eta 0:00:01\n",
            "\u001b[?25hRequirement already satisfied: pytz>=2011k in /opt/conda/envs/Python36/lib/python3.6/site-packages (from pandas==0.24.2) (2018.9)\n",
            "Requirement already satisfied: python-dateutil>=2.5.0 in /opt/conda/envs/Python36/lib/python3.6/site-packages (from pandas==0.24.2) (2.7.5)\n",
            "Requirement already satisfied: numpy>=1.12.0 in /opt/conda/envs/Python36/lib/python3.6/site-packages (from pandas==0.24.2) (1.15.4)\n",
            "Requirement already satisfied: six>=1.5 in /opt/conda/envs/Python36/lib/python3.6/site-packages (from python-dateutil>=2.5.0->pandas==0.24.2) (1.12.0)\n",
            "\u001b[31mERROR: autoai-libs 1.10.5 has requirement numpy>=1.16.4, but you'll have numpy 1.15.4 which is incompatible.\u001b[0m\n",
            "Installing collected packages: pandas\n",
            "  Found existing installation: pandas 0.24.1\n",
            "    Uninstalling pandas-0.24.1:\n",
            "      Successfully uninstalled pandas-0.24.1\n",
            "Successfully installed pandas-0.24.2\n",
            "Collecting pandas_ml==0.6.1\n",
            "\u001b[?25l  Downloading https://files.pythonhosted.org/packages/ae/72/6d90debfcb9ea74ec00927fa7ed0204dcc560b1f9ffcd8b239daa7fd106d/pandas_ml-0.6.1-py3-none-any.whl (100kB)\n",
            "\u001b[K     |████████████████████████████████| 102kB 10.2MB/s ta 0:00:01\n",
            "\u001b[?25hCollecting enum34 (from pandas_ml==0.6.1)\n",
            "  Downloading https://files.pythonhosted.org/packages/63/f6/ccb1c83687756aeabbf3ca0f213508fcfb03883ff200d201b3a4c60cedcc/enum34-1.1.10-py3-none-any.whl\n",
            "Requirement already satisfied: pandas>=0.19.0 in /opt/conda/envs/Python36/lib/python3.6/site-packages (from pandas_ml==0.6.1) (0.24.2)\n",
            "Requirement already satisfied: numpy>=1.12.0 in /opt/conda/envs/Python36/lib/python3.6/site-packages (from pandas>=0.19.0->pandas_ml==0.6.1) (1.15.4)\n",
            "Requirement already satisfied: python-dateutil>=2.5.0 in /opt/conda/envs/Python36/lib/python3.6/site-packages (from pandas>=0.19.0->pandas_ml==0.6.1) (2.7.5)\n",
            "Requirement already satisfied: pytz>=2011k in /opt/conda/envs/Python36/lib/python3.6/site-packages (from pandas>=0.19.0->pandas_ml==0.6.1) (2018.9)\n",
            "Requirement already satisfied: six>=1.5 in /opt/conda/envs/Python36/lib/python3.6/site-packages (from python-dateutil>=2.5.0->pandas>=0.19.0->pandas_ml==0.6.1) (1.12.0)\n",
            "Installing collected packages: enum34, pandas-ml\n",
            "Successfully installed enum34-1.1.10 pandas-ml-0.6.1\n",
            "Collecting matplotlib==3.1.0\n",
            "\u001b[?25l  Downloading https://files.pythonhosted.org/packages/da/83/d989ee20c78117c737ab40e0318ea221f1aed4e3f5a40b4f93541b369b93/matplotlib-3.1.0-cp36-cp36m-manylinux1_x86_64.whl (13.1MB)\n",
            "\u001b[K     |████████████████████████████████| 13.1MB 15.3MB/s eta 0:00:01\n",
            "\u001b[?25hRequirement already satisfied: cycler>=0.10 in /opt/conda/envs/Python36/lib/python3.6/site-packages (from matplotlib==3.1.0) (0.10.0)\n",
            "Requirement already satisfied: numpy>=1.11 in /opt/conda/envs/Python36/lib/python3.6/site-packages (from matplotlib==3.1.0) (1.15.4)\n",
            "Requirement already satisfied: kiwisolver>=1.0.1 in /opt/conda/envs/Python36/lib/python3.6/site-packages (from matplotlib==3.1.0) (1.0.1)\n",
            "Requirement already satisfied: python-dateutil>=2.1 in /opt/conda/envs/Python36/lib/python3.6/site-packages (from matplotlib==3.1.0) (2.7.5)\n",
            "Requirement already satisfied: pyparsing!=2.0.4,!=2.1.2,!=2.1.6,>=2.0.1 in /opt/conda/envs/Python36/lib/python3.6/site-packages (from matplotlib==3.1.0) (2.3.1)\n",
            "Requirement already satisfied: six in /opt/conda/envs/Python36/lib/python3.6/site-packages (from cycler>=0.10->matplotlib==3.1.0) (1.12.0)\n",
            "Requirement already satisfied: setuptools in /opt/conda/envs/Python36/lib/python3.6/site-packages (from kiwisolver>=1.0.1->matplotlib==3.1.0) (40.8.0)\n",
            "Installing collected packages: matplotlib\n",
            "  Found existing installation: matplotlib 3.0.2\n",
            "    Uninstalling matplotlib-3.0.2:\n",
            "      Successfully uninstalled matplotlib-3.0.2\n",
            "Successfully installed matplotlib-3.1.0\n",
            "Collecting scikit-learn==0.21.3\n",
            "\u001b[?25l  Downloading https://files.pythonhosted.org/packages/a0/c5/d2238762d780dde84a20b8c761f563fe882b88c5a5fb03c056547c442a19/scikit_learn-0.21.3-cp36-cp36m-manylinux1_x86_64.whl (6.7MB)\n",
            "\u001b[K     |████████████████████████████████| 6.7MB 7.1MB/s eta 0:00:01    |▎                               | 51kB 6.2MB/s eta 0:00:02\n",
            "\u001b[?25hRequirement already satisfied: numpy>=1.11.0 in /opt/conda/envs/Python36/lib/python3.6/site-packages (from scikit-learn==0.21.3) (1.15.4)\n",
            "Requirement already satisfied: scipy>=0.17.0 in /opt/conda/envs/Python36/lib/python3.6/site-packages (from scikit-learn==0.21.3) (1.2.0)\n",
            "Collecting joblib>=0.11 (from scikit-learn==0.21.3)\n",
            "\u001b[?25l  Downloading https://files.pythonhosted.org/packages/34/5b/bd0f0fb5564183884d8e35b81d06d7ec06a20d1a0c8b4c407f1554691dce/joblib-1.0.0-py3-none-any.whl (302kB)\n",
            "\u001b[K     |████████████████████████████████| 307kB 34.7MB/s eta 0:00:01\n",
            "\u001b[31mERROR: autoai-libs 1.10.5 has requirement numpy>=1.16.4, but you'll have numpy 1.15.4 which is incompatible.\u001b[0m\n",
            "\u001b[31mERROR: autoai-libs 1.10.5 has requirement scikit-learn==0.20.3, but you'll have scikit-learn 0.21.3 which is incompatible.\u001b[0m\n",
            "\u001b[?25hInstalling collected packages: joblib, scikit-learn\n",
            "Successfully installed joblib-1.0.0 scikit-learn-0.21.3\n"
          ],
          "name": "stdout"
        }
      ]
    },
    {
      "cell_type": "code",
      "metadata": {
        "id": "AEosE2TkOU8Z"
      },
      "source": [
        "from sklearn.preprocessing import LabelEncoder, OneHotEncoder\n",
        "from sklearn.impute import SimpleImputer\n",
        "from sklearn.preprocessing import MinMaxScaler\n",
        "from sklearn.preprocessing import StandardScaler\n",
        "from sklearn.compose import ColumnTransformer, make_column_transformer\n",
        "from sklearn.pipeline import Pipeline\n",
        "\n",
        "from sklearn.model_selection import train_test_split\n",
        "from sklearn.metrics import accuracy_score, classification_report\n",
        "\n",
        "import pandas as pd, numpy as np\n",
        "\n",
        "import matplotlib.pyplot as plt\n",
        "from mpl_toolkits.mplot3d import Axes3D\n",
        "import matplotlib.colors as mcolors\n",
        "import matplotlib.patches as mpatches\n",
        "import scikitplot as skplt"
      ],
      "execution_count": null,
      "outputs": []
    },
    {
      "cell_type": "markdown",
      "metadata": {
        "id": "f9SqzdqQOU8Z"
      },
      "source": [
        "<a id=\"explore_data\"></a>\n",
        "## 2. Data exploration\n",
        "[Top](#top)\n",
        "\n",
        "Data can be easily loaded within IBM Watson Studio. Instructions to load data within IBM Watson Studio can be found [here](https://ibmdev1.rtp.raleigh.ibm.com/tutorials/watson-studio-using-jupyter-notebook/). The data set can be located by its name and inserted into the notebook as a pandas DataFrame as shown below.\n",
        "\n",
        "![insert_spark_dataframe.png](https://raw.githubusercontent.com/IBM/icp4d-customer-churn-classifier/master/doc/source/images/insert_spark_dataframe.png)\n",
        "\n",
        "The generated code comes up with a generic name and it is good practice to rename the dataframe to match the use case context.\n"
      ]
    },
    {
      "cell_type": "code",
      "metadata": {
        "id": "prHv9iycOU8a",
        "outputId": "6a7208fb-e106-4b15-ee4b-cbab08f452a0"
      },
      "source": [
        "df_churn_pd = pd.read_csv(\n",
        "    \"https://raw.githubusercontent.com/IBM/ml-learning-path-assets/master/data/mergedcustomers_missing_values_GENDER.csv\")\n",
        "df_churn_pd.head()"
      ],
      "execution_count": null,
      "outputs": [
        {
          "output_type": "execute_result",
          "data": {
            "text/html": [
              "<div>\n",
              "<style scoped>\n",
              "    .dataframe tbody tr th:only-of-type {\n",
              "        vertical-align: middle;\n",
              "    }\n",
              "\n",
              "    .dataframe tbody tr th {\n",
              "        vertical-align: top;\n",
              "    }\n",
              "\n",
              "    .dataframe thead th {\n",
              "        text-align: right;\n",
              "    }\n",
              "</style>\n",
              "<table border=\"1\" class=\"dataframe\">\n",
              "  <thead>\n",
              "    <tr style=\"text-align: right;\">\n",
              "      <th></th>\n",
              "      <th>ID</th>\n",
              "      <th>CHURNRISK</th>\n",
              "      <th>GENDER</th>\n",
              "      <th>STATUS</th>\n",
              "      <th>CHILDREN</th>\n",
              "      <th>ESTINCOME</th>\n",
              "      <th>HOMEOWNER</th>\n",
              "      <th>AGE</th>\n",
              "      <th>TOTALDOLLARVALUETRADED</th>\n",
              "      <th>TOTALUNITSTRADED</th>\n",
              "      <th>LARGESTSINGLETRANSACTION</th>\n",
              "      <th>SMALLESTSINGLETRANSACTION</th>\n",
              "      <th>PERCENTCHANGECALCULATION</th>\n",
              "      <th>DAYSSINCELASTLOGIN</th>\n",
              "      <th>DAYSSINCELASTTRADE</th>\n",
              "      <th>NETREALIZEDGAINS_YTD</th>\n",
              "      <th>NETREALIZEDLOSSES_YTD</th>\n",
              "    </tr>\n",
              "  </thead>\n",
              "  <tbody>\n",
              "    <tr>\n",
              "      <th>0</th>\n",
              "      <td>1703</td>\n",
              "      <td>Medium</td>\n",
              "      <td>NaN</td>\n",
              "      <td>M</td>\n",
              "      <td>2</td>\n",
              "      <td>28766.9</td>\n",
              "      <td>N</td>\n",
              "      <td>47</td>\n",
              "      <td>6110.61</td>\n",
              "      <td>58</td>\n",
              "      <td>1527.6525</td>\n",
              "      <td>152.76525</td>\n",
              "      <td>8.70</td>\n",
              "      <td>2</td>\n",
              "      <td>13</td>\n",
              "      <td>0.0000</td>\n",
              "      <td>152.76525</td>\n",
              "    </tr>\n",
              "    <tr>\n",
              "      <th>1</th>\n",
              "      <td>1704</td>\n",
              "      <td>Low</td>\n",
              "      <td>NaN</td>\n",
              "      <td>M</td>\n",
              "      <td>2</td>\n",
              "      <td>91272.2</td>\n",
              "      <td>Y</td>\n",
              "      <td>25</td>\n",
              "      <td>26992.70</td>\n",
              "      <td>13</td>\n",
              "      <td>13496.3500</td>\n",
              "      <td>1349.63500</td>\n",
              "      <td>3.25</td>\n",
              "      <td>4</td>\n",
              "      <td>10</td>\n",
              "      <td>1349.6350</td>\n",
              "      <td>0.00000</td>\n",
              "    </tr>\n",
              "    <tr>\n",
              "      <th>2</th>\n",
              "      <td>1705</td>\n",
              "      <td>Low</td>\n",
              "      <td>NaN</td>\n",
              "      <td>S</td>\n",
              "      <td>0</td>\n",
              "      <td>73228.3</td>\n",
              "      <td>N</td>\n",
              "      <td>42</td>\n",
              "      <td>22472.25</td>\n",
              "      <td>28</td>\n",
              "      <td>11236.1250</td>\n",
              "      <td>1123.61250</td>\n",
              "      <td>7.00</td>\n",
              "      <td>4</td>\n",
              "      <td>5</td>\n",
              "      <td>1123.6125</td>\n",
              "      <td>0.00000</td>\n",
              "    </tr>\n",
              "    <tr>\n",
              "      <th>3</th>\n",
              "      <td>1706</td>\n",
              "      <td>High</td>\n",
              "      <td>M</td>\n",
              "      <td>M</td>\n",
              "      <td>1</td>\n",
              "      <td>64792.3</td>\n",
              "      <td>N</td>\n",
              "      <td>52</td>\n",
              "      <td>13051.31</td>\n",
              "      <td>36</td>\n",
              "      <td>6525.6550</td>\n",
              "      <td>652.56550</td>\n",
              "      <td>9.00</td>\n",
              "      <td>3</td>\n",
              "      <td>6</td>\n",
              "      <td>0.0000</td>\n",
              "      <td>652.56550</td>\n",
              "    </tr>\n",
              "    <tr>\n",
              "      <th>4</th>\n",
              "      <td>1707</td>\n",
              "      <td>High</td>\n",
              "      <td>F</td>\n",
              "      <td>S</td>\n",
              "      <td>0</td>\n",
              "      <td>93322.1</td>\n",
              "      <td>Y</td>\n",
              "      <td>40</td>\n",
              "      <td>29922.99</td>\n",
              "      <td>8</td>\n",
              "      <td>14961.4950</td>\n",
              "      <td>1496.14950</td>\n",
              "      <td>2.00</td>\n",
              "      <td>4</td>\n",
              "      <td>9</td>\n",
              "      <td>0.0000</td>\n",
              "      <td>1496.14950</td>\n",
              "    </tr>\n",
              "  </tbody>\n",
              "</table>\n",
              "</div>"
            ],
            "text/plain": [
              "     ID CHURNRISK GENDER STATUS  CHILDREN  ESTINCOME HOMEOWNER  AGE  \\\n",
              "0  1703    Medium    NaN      M         2    28766.9         N   47   \n",
              "1  1704       Low    NaN      M         2    91272.2         Y   25   \n",
              "2  1705       Low    NaN      S         0    73228.3         N   42   \n",
              "3  1706      High      M      M         1    64792.3         N   52   \n",
              "4  1707      High      F      S         0    93322.1         Y   40   \n",
              "\n",
              "   TOTALDOLLARVALUETRADED  TOTALUNITSTRADED  LARGESTSINGLETRANSACTION  \\\n",
              "0                 6110.61                58                 1527.6525   \n",
              "1                26992.70                13                13496.3500   \n",
              "2                22472.25                28                11236.1250   \n",
              "3                13051.31                36                 6525.6550   \n",
              "4                29922.99                 8                14961.4950   \n",
              "\n",
              "   SMALLESTSINGLETRANSACTION  PERCENTCHANGECALCULATION  DAYSSINCELASTLOGIN  \\\n",
              "0                  152.76525                      8.70                   2   \n",
              "1                 1349.63500                      3.25                   4   \n",
              "2                 1123.61250                      7.00                   4   \n",
              "3                  652.56550                      9.00                   3   \n",
              "4                 1496.14950                      2.00                   4   \n",
              "\n",
              "   DAYSSINCELASTTRADE  NETREALIZEDGAINS_YTD  NETREALIZEDLOSSES_YTD  \n",
              "0                  13                0.0000              152.76525  \n",
              "1                  10             1349.6350                0.00000  \n",
              "2                   5             1123.6125                0.00000  \n",
              "3                   6                0.0000              652.56550  \n",
              "4                   9                0.0000             1496.14950  "
            ]
          },
          "metadata": {
            "tags": []
          },
          "execution_count": 3
        }
      ]
    },
    {
      "cell_type": "code",
      "metadata": {
        "id": "H3WlAPmtOU8a",
        "outputId": "7929e286-32cc-4023-c97b-bfbb6308a4d1"
      },
      "source": [
        "\n",
        "print(\"The dataset contains columns of the following data types : \\n\" +str(df_churn_pd.dtypes))\n"
      ],
      "execution_count": null,
      "outputs": [
        {
          "output_type": "stream",
          "text": [
            "The dataset contains columns of the following data types : \n",
            "ID                             int64\n",
            "CHURNRISK                     object\n",
            "GENDER                        object\n",
            "STATUS                        object\n",
            "CHILDREN                       int64\n",
            "ESTINCOME                    float64\n",
            "HOMEOWNER                     object\n",
            "AGE                            int64\n",
            "TOTALDOLLARVALUETRADED       float64\n",
            "TOTALUNITSTRADED               int64\n",
            "LARGESTSINGLETRANSACTION     float64\n",
            "SMALLESTSINGLETRANSACTION    float64\n",
            "PERCENTCHANGECALCULATION     float64\n",
            "DAYSSINCELASTLOGIN             int64\n",
            "DAYSSINCELASTTRADE             int64\n",
            "NETREALIZEDGAINS_YTD         float64\n",
            "NETREALIZEDLOSSES_YTD        float64\n",
            "dtype: object\n"
          ],
          "name": "stdout"
        }
      ]
    },
    {
      "cell_type": "markdown",
      "metadata": {
        "id": "c7EmhWGEOU8b"
      },
      "source": [
        "Notice below that Gender has three missing values. This will be handled in one of the preprocessing steps that is to follow. "
      ]
    },
    {
      "cell_type": "code",
      "metadata": {
        "id": "AuEd5zj6OU8b",
        "outputId": "f1348d0b-f5b4-4716-e2d5-d082c7f7ecf7"
      },
      "source": [
        "\n",
        "print(\"The dataset contains following number of records for each of the columns : \\n\" +str(df_churn_pd.count()))\n"
      ],
      "execution_count": null,
      "outputs": [
        {
          "output_type": "stream",
          "text": [
            "The dataset contains following number of records for each of the columns : \n",
            "ID                           2066\n",
            "CHURNRISK                    2066\n",
            "GENDER                       2063\n",
            "STATUS                       2066\n",
            "CHILDREN                     2066\n",
            "ESTINCOME                    2066\n",
            "HOMEOWNER                    2066\n",
            "AGE                          2066\n",
            "TOTALDOLLARVALUETRADED       2066\n",
            "TOTALUNITSTRADED             2066\n",
            "LARGESTSINGLETRANSACTION     2066\n",
            "SMALLESTSINGLETRANSACTION    2066\n",
            "PERCENTCHANGECALCULATION     2066\n",
            "DAYSSINCELASTLOGIN           2066\n",
            "DAYSSINCELASTTRADE           2066\n",
            "NETREALIZEDGAINS_YTD         2066\n",
            "NETREALIZEDLOSSES_YTD        2066\n",
            "dtype: int64\n"
          ],
          "name": "stdout"
        }
      ]
    },
    {
      "cell_type": "code",
      "metadata": {
        "id": "UaVpvPbgOU8b",
        "outputId": "f62a867f-7b76-49f9-e15e-1c106c6ede42"
      },
      "source": [
        "print( \"Each category within the churnrisk column has the following count : \")\n",
        "print(df_churn_pd.groupby(['CHURNRISK']).size())\n",
        "#bar chart to show split of data\n",
        "index = ['High','Medium','Low']\n",
        "churn_plot = df_churn_pd['CHURNRISK'].value_counts(sort=True, ascending=False).plot(kind='bar',\n",
        "            figsize=(4,4),title=\"Total number for occurences of churn risk \" \n",
        "            + str(df_churn_pd['CHURNRISK'].count()), color=['#BB6B5A','#8CCB9B','#E5E88B'])\n",
        "churn_plot.set_xlabel(\"Churn Risk\")\n",
        "churn_plot.set_ylabel(\"Frequency\")"
      ],
      "execution_count": null,
      "outputs": [
        {
          "output_type": "stream",
          "text": [
            "Each category within the churnrisk column has the following count : \n",
            "CHURNRISK\n",
            "High      983\n",
            "Low       699\n",
            "Medium    384\n",
            "dtype: int64\n"
          ],
          "name": "stdout"
        },
        {
          "output_type": "execute_result",
          "data": {
            "text/plain": [
              "Text(0, 0.5, 'Frequency')"
            ]
          },
          "metadata": {
            "tags": []
          },
          "execution_count": 6
        },
        {
          "output_type": "display_data",
          "data": {
            "image/png": "[encoded data removed]",
            "text/plain": [
              "<Figure size 288x288 with 1 Axes>"
            ]
          },
          "metadata": {
            "tags": [],
            "needs_background": "light"
          }
        }
      ]
    },
    {
      "cell_type": "markdown",
      "metadata": {
        "id": "Ozn5KlfpOU8c"
      },
      "source": [
        "<a id=\"prepare_data\"></a>\n",
        "## 3. Data preparation\n",
        "[Top](#top)\n",
        "\n",
        "Data preparation is a very important step in machine learning model building. This is because the model can perform well only when the data it is trained on is good and well prepared. Hence, this step consumes the bulk of a data scientist's time spent building models.\n",
        "\n",
        "During this process, we identify categorical columns in the dataset. Categories need to be indexed, which means the string labels are converted to label indices. These label indices are encoded using One-hot encoding to a binary vector with at most a single value indicating the presence of a specific feature value from among the set of all feature values. This encoding allows algorithms which expect continuous features to use categorical features.\n"
      ]
    },
    {
      "cell_type": "code",
      "metadata": {
        "scrolled": true,
        "id": "p-X3KHLVOU8c",
        "outputId": "11966218-00fd-4488-f564-e2f59da7df8a"
      },
      "source": [
        "\n",
        "#remove columns that are not required\n",
        "df_churn_pd = df_churn_pd.drop(['ID'], axis=1)\n",
        "\n",
        "df_churn_pd.head()\n",
        "\n"
      ],
      "execution_count": null,
      "outputs": [
        {
          "output_type": "execute_result",
          "data": {
            "text/html": [
              "<div>\n",
              "<style scoped>\n",
              "    .dataframe tbody tr th:only-of-type {\n",
              "        vertical-align: middle;\n",
              "    }\n",
              "\n",
              "    .dataframe tbody tr th {\n",
              "        vertical-align: top;\n",
              "    }\n",
              "\n",
              "    .dataframe thead th {\n",
              "        text-align: right;\n",
              "    }\n",
              "</style>\n",
              "<table border=\"1\" class=\"dataframe\">\n",
              "  <thead>\n",
              "    <tr style=\"text-align: right;\">\n",
              "      <th></th>\n",
              "      <th>CHURNRISK</th>\n",
              "      <th>GENDER</th>\n",
              "      <th>STATUS</th>\n",
              "      <th>CHILDREN</th>\n",
              "      <th>ESTINCOME</th>\n",
              "      <th>HOMEOWNER</th>\n",
              "      <th>AGE</th>\n",
              "      <th>TOTALDOLLARVALUETRADED</th>\n",
              "      <th>TOTALUNITSTRADED</th>\n",
              "      <th>LARGESTSINGLETRANSACTION</th>\n",
              "      <th>SMALLESTSINGLETRANSACTION</th>\n",
              "      <th>PERCENTCHANGECALCULATION</th>\n",
              "      <th>DAYSSINCELASTLOGIN</th>\n",
              "      <th>DAYSSINCELASTTRADE</th>\n",
              "      <th>NETREALIZEDGAINS_YTD</th>\n",
              "      <th>NETREALIZEDLOSSES_YTD</th>\n",
              "    </tr>\n",
              "  </thead>\n",
              "  <tbody>\n",
              "    <tr>\n",
              "      <th>0</th>\n",
              "      <td>Medium</td>\n",
              "      <td>NaN</td>\n",
              "      <td>M</td>\n",
              "      <td>2</td>\n",
              "      <td>28766.9</td>\n",
              "      <td>N</td>\n",
              "      <td>47</td>\n",
              "      <td>6110.61</td>\n",
              "      <td>58</td>\n",
              "      <td>1527.6525</td>\n",
              "      <td>152.76525</td>\n",
              "      <td>8.70</td>\n",
              "      <td>2</td>\n",
              "      <td>13</td>\n",
              "      <td>0.0000</td>\n",
              "      <td>152.76525</td>\n",
              "    </tr>\n",
              "    <tr>\n",
              "      <th>1</th>\n",
              "      <td>Low</td>\n",
              "      <td>NaN</td>\n",
              "      <td>M</td>\n",
              "      <td>2</td>\n",
              "      <td>91272.2</td>\n",
              "      <td>Y</td>\n",
              "      <td>25</td>\n",
              "      <td>26992.70</td>\n",
              "      <td>13</td>\n",
              "      <td>13496.3500</td>\n",
              "      <td>1349.63500</td>\n",
              "      <td>3.25</td>\n",
              "      <td>4</td>\n",
              "      <td>10</td>\n",
              "      <td>1349.6350</td>\n",
              "      <td>0.00000</td>\n",
              "    </tr>\n",
              "    <tr>\n",
              "      <th>2</th>\n",
              "      <td>Low</td>\n",
              "      <td>NaN</td>\n",
              "      <td>S</td>\n",
              "      <td>0</td>\n",
              "      <td>73228.3</td>\n",
              "      <td>N</td>\n",
              "      <td>42</td>\n",
              "      <td>22472.25</td>\n",
              "      <td>28</td>\n",
              "      <td>11236.1250</td>\n",
              "      <td>1123.61250</td>\n",
              "      <td>7.00</td>\n",
              "      <td>4</td>\n",
              "      <td>5</td>\n",
              "      <td>1123.6125</td>\n",
              "      <td>0.00000</td>\n",
              "    </tr>\n",
              "    <tr>\n",
              "      <th>3</th>\n",
              "      <td>High</td>\n",
              "      <td>M</td>\n",
              "      <td>M</td>\n",
              "      <td>1</td>\n",
              "      <td>64792.3</td>\n",
              "      <td>N</td>\n",
              "      <td>52</td>\n",
              "      <td>13051.31</td>\n",
              "      <td>36</td>\n",
              "      <td>6525.6550</td>\n",
              "      <td>652.56550</td>\n",
              "      <td>9.00</td>\n",
              "      <td>3</td>\n",
              "      <td>6</td>\n",
              "      <td>0.0000</td>\n",
              "      <td>652.56550</td>\n",
              "    </tr>\n",
              "    <tr>\n",
              "      <th>4</th>\n",
              "      <td>High</td>\n",
              "      <td>F</td>\n",
              "      <td>S</td>\n",
              "      <td>0</td>\n",
              "      <td>93322.1</td>\n",
              "      <td>Y</td>\n",
              "      <td>40</td>\n",
              "      <td>29922.99</td>\n",
              "      <td>8</td>\n",
              "      <td>14961.4950</td>\n",
              "      <td>1496.14950</td>\n",
              "      <td>2.00</td>\n",
              "      <td>4</td>\n",
              "      <td>9</td>\n",
              "      <td>0.0000</td>\n",
              "      <td>1496.14950</td>\n",
              "    </tr>\n",
              "  </tbody>\n",
              "</table>\n",
              "</div>"
            ],
            "text/plain": [
              "  CHURNRISK GENDER STATUS  CHILDREN  ESTINCOME HOMEOWNER  AGE  \\\n",
              "0    Medium    NaN      M         2    28766.9         N   47   \n",
              "1       Low    NaN      M         2    91272.2         Y   25   \n",
              "2       Low    NaN      S         0    73228.3         N   42   \n",
              "3      High      M      M         1    64792.3         N   52   \n",
              "4      High      F      S         0    93322.1         Y   40   \n",
              "\n",
              "   TOTALDOLLARVALUETRADED  TOTALUNITSTRADED  LARGESTSINGLETRANSACTION  \\\n",
              "0                 6110.61                58                 1527.6525   \n",
              "1                26992.70                13                13496.3500   \n",
              "2                22472.25                28                11236.1250   \n",
              "3                13051.31                36                 6525.6550   \n",
              "4                29922.99                 8                14961.4950   \n",
              "\n",
              "   SMALLESTSINGLETRANSACTION  PERCENTCHANGECALCULATION  DAYSSINCELASTLOGIN  \\\n",
              "0                  152.76525                      8.70                   2   \n",
              "1                 1349.63500                      3.25                   4   \n",
              "2                 1123.61250                      7.00                   4   \n",
              "3                  652.56550                      9.00                   3   \n",
              "4                 1496.14950                      2.00                   4   \n",
              "\n",
              "   DAYSSINCELASTTRADE  NETREALIZEDGAINS_YTD  NETREALIZEDLOSSES_YTD  \n",
              "0                  13                0.0000              152.76525  \n",
              "1                  10             1349.6350                0.00000  \n",
              "2                   5             1123.6125                0.00000  \n",
              "3                   6                0.0000              652.56550  \n",
              "4                   9                0.0000             1496.14950  "
            ]
          },
          "metadata": {
            "tags": []
          },
          "execution_count": 7
        }
      ]
    },
    {
      "cell_type": "code",
      "metadata": {
        "id": "jXiGQai6OU8d",
        "outputId": "7bb9b73c-b3fd-417f-f572-e140cb3ac3a1"
      },
      "source": [
        "# Defining the categorical columns \n",
        "categoricalColumns = ['GENDER', 'STATUS', 'HOMEOWNER']\n",
        "\n",
        "print(\"Categorical columns : \" )\n",
        "print(categoricalColumns)\n",
        "\n",
        "impute_categorical = SimpleImputer(strategy=\"most_frequent\")\n",
        "\n",
        "onehot_categorical =  OneHotEncoder(handle_unknown='ignore')\n",
        "\n",
        "categorical_transformer = Pipeline(steps=[('impute',impute_categorical),('onehot',onehot_categorical)])"
      ],
      "execution_count": null,
      "outputs": [
        {
          "output_type": "stream",
          "text": [
            "Categorical columns : \n",
            "['GENDER', 'STATUS', 'HOMEOWNER']\n"
          ],
          "name": "stdout"
        }
      ]
    },
    {
      "cell_type": "code",
      "metadata": {
        "id": "d7BLRBocOU8d",
        "outputId": "0cf132b8-8bd8-4de7-e59e-544f1ff2730d"
      },
      "source": [
        "# Defining the numerical columns \n",
        "numericalColumns = df_churn_pd.select_dtypes(include=[np.float,np.int]).columns\n",
        "\n",
        "print(\"Numerical columns : \" )\n",
        "print(numericalColumns)\n",
        "\n",
        "scaler_numerical = StandardScaler()\n",
        "\n",
        "numerical_transformer = Pipeline(steps=[('scale',scaler_numerical)])\n"
      ],
      "execution_count": null,
      "outputs": [
        {
          "output_type": "stream",
          "text": [
            "Numerical columns : \n",
            "Index(['CHILDREN', 'ESTINCOME', 'AGE', 'TOTALDOLLARVALUETRADED',\n",
            "       'TOTALUNITSTRADED', 'LARGESTSINGLETRANSACTION',\n",
            "       'SMALLESTSINGLETRANSACTION', 'PERCENTCHANGECALCULATION',\n",
            "       'DAYSSINCELASTLOGIN', 'DAYSSINCELASTTRADE', 'NETREALIZEDGAINS_YTD',\n",
            "       'NETREALIZEDLOSSES_YTD'],\n",
            "      dtype='object')\n"
          ],
          "name": "stdout"
        }
      ]
    },
    {
      "cell_type": "code",
      "metadata": {
        "id": "PMwUkbydOU8e",
        "outputId": "4574df71-5ac3-4497-bf5b-72edf643615a"
      },
      "source": [
        "preprocessorForCategoricalColumns = ColumnTransformer(transformers=[('cat', categorical_transformer, \n",
        "                                                                     categoricalColumns)],\n",
        "                                            remainder=\"passthrough\")\n",
        "preprocessorForAllColumns = ColumnTransformer(transformers=[('cat', categorical_transformer, categoricalColumns),\n",
        "                                                            ('num',numerical_transformer,numericalColumns)],\n",
        "                                            remainder=\"passthrough\")\n",
        "\n",
        "\n",
        "# The transformation happens in the pipeline. Temporarily done here to show what intermediate value looks like.\n",
        "df_churn_pd_temp = preprocessorForCategoricalColumns.fit_transform(df_churn_pd)\n",
        "print(\"Data after transforming :\")\n",
        "print(df_churn_pd_temp)\n",
        "\n",
        "df_churn_pd_temp_2 = preprocessorForAllColumns.fit_transform(df_churn_pd)\n",
        "print(\"Data after transforming :\")\n",
        "print(df_churn_pd_temp_2)"
      ],
      "execution_count": null,
      "outputs": [
        {
          "output_type": "stream",
          "text": [
            "Data after transforming :\n",
            "[[1.0 0.0 0.0 ... 13 0.0 152.76525]\n",
            " [1.0 0.0 0.0 ... 10 1349.635 0.0]\n",
            " [1.0 0.0 0.0 ... 5 1123.6125 0.0]\n",
            " ...\n",
            " [1.0 0.0 0.0 ... 11 0.0 82.50825]\n",
            " [1.0 0.0 0.0 ... 5 930.093 0.0]\n",
            " [0.0 1.0 0.0 ... 8 1041.604 0.0]]\n",
            "Data after transforming :\n",
            "[[1.0 0.0 0.0 ... -0.6792731303453047 -0.5106065181930338 'Medium']\n",
            " [1.0 0.0 0.0 ... 1.8354629319820521 -0.7959345330293706 'Low']\n",
            " [1.0 0.0 0.0 ... 1.4143217110983428 -0.7959345330293706 'Low']\n",
            " ...\n",
            " [1.0 0.0 0.0 ... -0.6792731303453047 -0.6418293606808149 'Medium']\n",
            " [1.0 0.0 0.0 ... 1.053742394902809 -0.7959345330293706 'Low']\n",
            " [0.0 1.0 0.0 ... 1.261517632686496 -0.7959345330293706 'Low']]\n"
          ],
          "name": "stdout"
        }
      ]
    },
    {
      "cell_type": "code",
      "metadata": {
        "scrolled": true,
        "id": "L06agEoLOU8e",
        "outputId": "bdc3b5ae-6523-4046-c1d5-2715508a9881"
      },
      "source": [
        "# prepare data frame for splitting data into train and test datasets\n",
        "\n",
        "features = []\n",
        "features = df_churn_pd.drop(['CHURNRISK'], axis=1)\n",
        "\n",
        "label_churn = pd.DataFrame(df_churn_pd, columns = ['CHURNRISK']) \n",
        "label_encoder = LabelEncoder()\n",
        "label = df_churn_pd['CHURNRISK']\n",
        "\n",
        "label = label_encoder.fit_transform(label)\n",
        "print(\"Encoded value of Churnrisk after applying label encoder : \" + str(label))\n"
      ],
      "execution_count": null,
      "outputs": [
        {
          "output_type": "stream",
          "text": [
            "Encoded value of Churnrisk after applying label encoder : [2 1 1 ... 2 1 1]\n"
          ],
          "name": "stdout"
        }
      ]
    },
    {
      "cell_type": "code",
      "metadata": {
        "id": "rjVyO4hoOU8e"
      },
      "source": [
        "area = 75\n",
        "x = df_churn_pd['ESTINCOME']\n",
        "y = df_churn_pd['DAYSSINCELASTTRADE']\n",
        "z = df_churn_pd['TOTALDOLLARVALUETRADED']\n",
        "\n",
        "pop_a = mpatches.Patch(color='#BB6B5A', label='High')\n",
        "pop_b = mpatches.Patch(color='#E5E88B', label='Medium')\n",
        "pop_c = mpatches.Patch(color='#8CCB9B', label='Low')\n",
        "def colormap(risk_list):\n",
        "    cols=[]\n",
        "    for l in risk_list:\n",
        "        if l==0:\n",
        "            cols.append('#BB6B5A')\n",
        "        elif l==2:\n",
        "            cols.append('#E5E88B')\n",
        "        elif l==1:\n",
        "            cols.append('#8CCB9B')\n",
        "    return cols\n",
        "\n",
        "fig = plt.figure(figsize=(12,6))\n",
        "fig.suptitle('2D and 3D view of churnrisk data')\n",
        "\n",
        "# First subplot\n",
        "ax = fig.add_subplot(1, 2,1)\n",
        "\n",
        "ax.scatter(x, y, alpha=0.8, c=colormap(label), s= area)\n",
        "ax.set_ylabel('DAYS SINCE LAST TRADE')\n",
        "ax.set_xlabel('ESTIMATED INCOME')\n",
        "\n",
        "plt.legend(handles=[pop_a,pop_b,pop_c])\n",
        "\n",
        "# Second subplot\n",
        "ax = fig.add_subplot(1,2,2, projection='3d')\n",
        "\n",
        "ax.scatter(z, x, y, c=colormap(label), marker='o')\n",
        "\n",
        "ax.set_xlabel('TOTAL DOLLAR VALUE TRADED')\n",
        "ax.set_ylabel('ESTIMATED INCOME')\n",
        "ax.set_zlabel('DAYS SINCE LAST TRADE')\n",
        "\n",
        "plt.legend(handles=[pop_a,pop_b,pop_c])\n",
        "\n",
        "plt.show()"
      ],
      "execution_count": null,
      "outputs": []
    },
    {
      "cell_type": "markdown",
      "metadata": {
        "id": "G-PWem_yOU8f"
      },
      "source": [
        "\n",
        "<a id=\"split_data\"></a>\n",
        "## 4. Split data into test and train\n",
        "[Top](#top)\n",
        "\n",
        "Scikit-learn provides in built API to split the original dataset into train and test datasets. random_state is set to a number to be able to reproduce the same data split combination through multiple runs. "
      ]
    },
    {
      "cell_type": "code",
      "metadata": {
        "id": "O02oJCMMOU8f",
        "outputId": "8f7f7d10-1779-40a6-eeb3-521c07aa68f7"
      },
      "source": [
        "\n",
        "X_train, X_test, y_train, y_test = train_test_split(features,label , random_state=0)\n",
        "print(\"Dimensions of datasets that will be used for training : Input features\"+str(X_train.shape)+ \n",
        "      \" Output label\" + str(y_train.shape))\n",
        "print(\"Dimensions of datasets that will be used for testing : Input features\"+str(X_test.shape)+ \n",
        "      \" Output label\" + str(y_test.shape))\n"
      ],
      "execution_count": null,
      "outputs": [
        {
          "output_type": "stream",
          "text": [
            "Dimensions of datasets that will be used for training : Input features(1549, 15) Output label(1549,)\n",
            "Dimensions of datasets that will be used for testing : Input features(517, 15) Output label(517,)\n"
          ],
          "name": "stdout"
        }
      ]
    },
    {
      "cell_type": "markdown",
      "metadata": {
        "id": "VedrI5B6OU8f"
      },
      "source": [
        "<a id=\"helper_methods\"></a>\n",
        "## 5. Helper methods for graph generation\n",
        "[Top](#top)\n"
      ]
    },
    {
      "cell_type": "code",
      "metadata": {
        "id": "-dzxnbYFOU8g"
      },
      "source": [
        "def colormap(risk_list):\n",
        "    cols=[]\n",
        "    for l in risk_list:\n",
        "        if l==0:\n",
        "            cols.append('#BB6B5A')\n",
        "        elif l==2:\n",
        "            cols.append('#E5E88B')\n",
        "        elif l==1:\n",
        "            cols.append('#8CCB9B')\n",
        "    return cols\n",
        "\n",
        "def two_d_compare(y_test,y_pred,model_name):\n",
        "    #y_pred = label_encoder.fit_transform(y_pred)\n",
        "    #y_test = label_encoder.fit_transform(y_test)\n",
        "    area = (12 * np.random.rand(40))**2 \n",
        "    plt.subplots(ncols=2, figsize=(10,4))\n",
        "    plt.suptitle('Actual vs Predicted data : ' +model_name + '. Accuracy : %.2f' % accuracy_score(y_test, y_pred))\n",
        "\n",
        "    plt.subplot(121)\n",
        "    plt.scatter(X_test['ESTINCOME'], X_test['DAYSSINCELASTTRADE'], alpha=0.8, c=colormap(y_test))\n",
        "    plt.title('Actual')\n",
        "    plt.legend(handles=[pop_a,pop_b,pop_c])\n",
        "\n",
        "    plt.subplot(122)\n",
        "    plt.scatter(X_test['ESTINCOME'], X_test['DAYSSINCELASTTRADE'],alpha=0.8, c=colormap(y_pred))\n",
        "    plt.title('Predicted')\n",
        "    plt.legend(handles=[pop_a,pop_b,pop_c])\n",
        "\n",
        "    plt.show()\n",
        "    \n",
        "x = X_test['TOTALDOLLARVALUETRADED']\n",
        "y = X_test['ESTINCOME']\n",
        "z = X_test['DAYSSINCELASTTRADE']\n",
        "\n",
        "pop_a = mpatches.Patch(color='#BB6B5A', label='High')\n",
        "pop_b = mpatches.Patch(color='#E5E88B', label='Medium')\n",
        "pop_c = mpatches.Patch(color='#8CCB9B', label='Low')\n",
        "\n",
        "def three_d_compare(y_test,y_pred,model_name):\n",
        "    fig = plt.figure(figsize=(12,10))\n",
        "    fig.suptitle('Actual vs Predicted (3D) data : ' +model_name + '. Accuracy : %.2f' % accuracy_score(y_test, y_pred))\n",
        "    \n",
        "    ax = fig.add_subplot(121, projection='3d')\n",
        "    ax.scatter(x, y, z, c=colormap(y_test), marker='o')\n",
        "    ax.set_xlabel('TOTAL DOLLAR VALUE TRADED')\n",
        "    ax.set_ylabel('ESTIMATED INCOME')\n",
        "    ax.set_zlabel('DAYS SINCE LAST TRADE')\n",
        "    plt.legend(handles=[pop_a,pop_b,pop_c])\n",
        "    plt.title('Actual')\n",
        "\n",
        "    ax = fig.add_subplot(122, projection='3d')\n",
        "    ax.scatter(x, y, z, c=colormap(y_pred), marker='o')\n",
        "    ax.set_xlabel('TOTAL DOLLAR VALUE TRADED')\n",
        "    ax.set_ylabel('ESTIMATED INCOME')\n",
        "    ax.set_zlabel('DAYS SINCE LAST TRADE')\n",
        "    plt.legend(handles=[pop_a,pop_b,pop_c])\n",
        "    plt.title('Predicted')\n",
        "\n",
        "    plt.show()\n",
        "    \n",
        "\n",
        "def model_metrics(y_test,y_pred):\n",
        "    print(\"Decoded values of Churnrisk after applying inverse of label encoder : \" + str(np.unique(y_pred)))\n",
        "\n",
        "    skplt.metrics.plot_confusion_matrix(y_test,y_pred,text_fontsize=\"small\",cmap='Greens',figsize=(6,4))\n",
        "    plt.show()\n",
        "    \n",
        "    print(\"The classification report for the model : \\n\\n\"+ classification_report(y_test, y_pred))\n"
      ],
      "execution_count": null,
      "outputs": []
    },
    {
      "cell_type": "markdown",
      "metadata": {
        "id": "gJk5bvICOU8g"
      },
      "source": [
        "<a id=\"prepare_model\"></a>\n",
        "## 6. Prepare Random Forest classification model\n",
        "[Top](#top)"
      ]
    },
    {
      "cell_type": "markdown",
      "metadata": {
        "id": "8-Ckda9aOU8g"
      },
      "source": [
        "We instantiate a decision-tree based classification algorithm, namely, RandomForestClassifier. Next we define a pipeline to chain together the various transformers and estimators defined during the data preparation step before. \n",
        "Scikit-learn provides APIs that make it easier to combine multiple algorithms into a single pipeline.\n",
        "\n",
        "We fit the pipeline to training data and apply the trained model to transform test data and generate churn risk class prediction."
      ]
    },
    {
      "cell_type": "code",
      "metadata": {
        "id": "Mj7HA3nZOU8g"
      },
      "source": [
        "from sklearn.ensemble import RandomForestClassifier\n",
        "\n",
        "model_name = \"Random Forest Classifier\"\n",
        "\n",
        "randomForestClassifier = RandomForestClassifier(n_estimators=100, max_depth=2,random_state=0)\n"
      ],
      "execution_count": null,
      "outputs": []
    },
    {
      "cell_type": "code",
      "metadata": {
        "id": "nGA-LIcfOU8h"
      },
      "source": [
        "rfc_model = Pipeline(steps=[('preprocessorAll',preprocessorForAllColumns),('classifier', randomForestClassifier)])"
      ],
      "execution_count": null,
      "outputs": []
    },
    {
      "cell_type": "markdown",
      "metadata": {
        "id": "7uk_X9UUOU8h"
      },
      "source": [
        "<a id=\"train_model\"></a>\n",
        "## 7. Train Random Forest classification model\n",
        "[Top](#top)"
      ]
    },
    {
      "cell_type": "code",
      "metadata": {
        "scrolled": false,
        "id": "Ru3ySfz-OU8h",
        "outputId": "0e368a08-f4e2-4d48-e3e5-4230a7168391"
      },
      "source": [
        "# Build models\n",
        "\n",
        "rfc_model.fit(X_train,y_train)\n"
      ],
      "execution_count": null,
      "outputs": [
        {
          "output_type": "execute_result",
          "data": {
            "text/plain": [
              "Pipeline(memory=None,\n",
              "         steps=[('preprocessorAll',\n",
              "                 ColumnTransformer(n_jobs=None, remainder='passthrough',\n",
              "                                   sparse_threshold=0.3,\n",
              "                                   transformer_weights=None,\n",
              "                                   transformers=[('cat',\n",
              "                                                  Pipeline(memory=None,\n",
              "                                                           steps=[('impute',\n",
              "                                                                   SimpleImputer(add_indicator=False,\n",
              "                                                                                 copy=True,\n",
              "                                                                                 fill_value=None,\n",
              "                                                                                 missing_values=nan,\n",
              "                                                                                 strategy='most_frequent',\n",
              "                                                                                 verbose=0)),\n",
              "                                                                  ('onehot',\n",
              "                                                                   OneHotEncoder(cate...\n",
              "                ('classifier',\n",
              "                 RandomForestClassifier(bootstrap=True, class_weight=None,\n",
              "                                        criterion='gini', max_depth=2,\n",
              "                                        max_features='auto',\n",
              "                                        max_leaf_nodes=None,\n",
              "                                        min_impurity_decrease=0.0,\n",
              "                                        min_impurity_split=None,\n",
              "                                        min_samples_leaf=1, min_samples_split=2,\n",
              "                                        min_weight_fraction_leaf=0.0,\n",
              "                                        n_estimators=100, n_jobs=None,\n",
              "                                        oob_score=False, random_state=0,\n",
              "                                        verbose=0, warm_start=False))],\n",
              "         verbose=False)"
            ]
          },
          "metadata": {
            "tags": []
          },
          "execution_count": 16
        }
      ]
    },
    {
      "cell_type": "markdown",
      "metadata": {
        "id": "MyT4atteOU8h"
      },
      "source": [
        "<a id=\"test_model\"></a>\n",
        "## 8. Test Random Forest classification model\n",
        "[Top](#top)"
      ]
    },
    {
      "cell_type": "code",
      "metadata": {
        "id": "vet-cD_9OU8i"
      },
      "source": [
        "\n",
        "y_pred_rfc = rfc_model.predict(X_test)\n"
      ],
      "execution_count": null,
      "outputs": []
    },
    {
      "cell_type": "markdown",
      "metadata": {
        "id": "qHYbXpROOU8i"
      },
      "source": [
        "<a id=\"evaluate_model\"></a>\n",
        "## 9. Evaluate Random Forest classification model\n",
        "[Top](#top)"
      ]
    },
    {
      "cell_type": "markdown",
      "metadata": {
        "id": "SEHBeiAiOU8i"
      },
      "source": [
        "### Model results\n",
        "\n",
        "In a supervised classification problem such as churn risk classification, we have a true output and a model-generated predicted output for each data point. For this reason, the results for each data point can be assigned to one of four categories:\n",
        "\n",
        "1. True Positive (TP) - label is positive and prediction is also positive\n",
        "2. True Negative (TN) - label is negative and prediction is also negative\n",
        "3. False Positive (FP) - label is negative but prediction is positive\n",
        "4. False Negative (FN) - label is positive but prediction is negative\n",
        "\n",
        "These four numbers are the building blocks for most classifier evaluation metrics. A fundamental point when considering classifier evaluation is that pure accuracy (i.e. was the prediction correct or incorrect) is not generally a good metric. The reason for this is because a dataset may be highly unbalanced. For example, if a model is designed to predict fraud from a dataset where 95% of the data points are not fraud and 5% of the data points are fraud, then a naive classifier that predicts not fraud, regardless of input, will be 95% accurate. For this reason, metrics like precision and recall are typically used because they take into account the type of error. In most applications there is some desired balance between precision and recall, which can be captured by combining the two into a single metric, called the F-measure.\n",
        "\n"
      ]
    },
    {
      "cell_type": "code",
      "metadata": {
        "id": "E3H2r9XZOU8i",
        "outputId": "75b24451-2380-4ff1-fa64-5210613c7027"
      },
      "source": [
        "two_d_compare(y_test,y_pred_rfc,model_name)\n",
        "\n",
        "# three_d_compare(y_test,y_pred_rfc,model_name)"
      ],
      "execution_count": null,
      "outputs": [
        {
          "output_type": "display_data",
          "data": {
            "image/png": "[encoded data removed]",
            "text/plain": [
              "<Figure size 720x288 with 2 Axes>"
            ]
          },
          "metadata": {
            "tags": [],
            "needs_background": "light"
          }
        }
      ]
    },
    {
      "cell_type": "markdown",
      "metadata": {
        "id": "qx20o-7BOU8j"
      },
      "source": [
        "### Confusion matrix \n",
        "\n",
        "In the graph below we have printed a confusion matrix and a self-explanotary classification report.\n",
        "\n",
        "The confusion matrix shows that, 42 mediums were wrongly predicted as high, 2 mediums were wrongly predicted as low and 52 mediums were accurately predicted as mediums."
      ]
    },
    {
      "cell_type": "code",
      "metadata": {
        "id": "d_cDrCAhOU8j",
        "outputId": "1021a7ad-9180-47e7-b861-5221614062f2"
      },
      "source": [
        "y_test = label_encoder.inverse_transform(y_test)\n",
        "y_pred_rfc = label_encoder.inverse_transform(y_pred_rfc)\n",
        "model_metrics(y_test,y_pred_rfc)"
      ],
      "execution_count": null,
      "outputs": [
        {
          "output_type": "stream",
          "text": [
            "Decoded values of Churnrisk after applying inverse of label encoder : ['High' 'Low' 'Medium']\n"
          ],
          "name": "stdout"
        },
        {
          "output_type": "display_data",
          "data": {
            "image/png": "[encoded data removed]",
            "text/plain": [
              "<Figure size 432x288 with 2 Axes>"
            ]
          },
          "metadata": {
            "tags": [],
            "needs_background": "light"
          }
        },
        {
          "output_type": "stream",
          "text": [
            "The classification report for the model : \n",
            "\n",
            "              precision    recall  f1-score   support\n",
            "\n",
            "        High       0.86      1.00      0.92       251\n",
            "         Low       0.99      1.00      0.99       170\n",
            "      Medium       1.00      0.54      0.70        96\n",
            "\n",
            "    accuracy                           0.91       517\n",
            "   macro avg       0.95      0.85      0.87       517\n",
            "weighted avg       0.93      0.91      0.91       517\n",
            "\n"
          ],
          "name": "stdout"
        }
      ]
    },
    {
      "cell_type": "markdown",
      "metadata": {
        "id": "ZSJ-c-NgOU8j"
      },
      "source": [
        "### Comparative study\n",
        "In the bar chart below, we have compared the random forest classification algorithm output classes against the actual values. "
      ]
    },
    {
      "cell_type": "code",
      "metadata": {
        "id": "YIhe8o9aOU8j",
        "outputId": "fe7d65ab-80c9-4c69-b309-0e2131545ae2"
      },
      "source": [
        "uniqueValues, occurCount = np.unique(y_test, return_counts=True)\n",
        "frequency_actual = (occurCount[0],occurCount[2],occurCount[1])\n",
        "\n",
        "uniqueValues, occurCount = np.unique(y_pred_rfc, return_counts=True)\n",
        "frequency_predicted_rfc = (occurCount[0],occurCount[2],occurCount[1])\n",
        "\n",
        "n_groups = 3\n",
        "fig, ax = plt.subplots(figsize=(10,5))\n",
        "index = np.arange(n_groups)\n",
        "bar_width = 0.1\n",
        "opacity = 0.8\n",
        "\n",
        "rects1 = plt.bar(index, frequency_actual, bar_width,\n",
        "alpha=opacity,\n",
        "color='g',\n",
        "label='Actual')\n",
        "\n",
        "rects6 = plt.bar(index + bar_width, frequency_predicted_rfc, bar_width,\n",
        "alpha=opacity,\n",
        "color='purple',\n",
        "label='Random Forest - Predicted')\n",
        "\n",
        "plt.xlabel('Churn Risk')\n",
        "plt.ylabel('Frequency')\n",
        "plt.title('Actual vs Predicted frequency.')\n",
        "plt.xticks(index + bar_width, ('High', 'Medium', 'Low'))\n",
        "plt.legend()\n",
        "\n",
        "plt.tight_layout()\n",
        "plt.show()"
      ],
      "execution_count": null,
      "outputs": [
        {
          "output_type": "display_data",
          "data": {
            "image/png": "[encoded data removed]",
            "text/plain": [
              "<Figure size 720x360 with 1 Axes>"
            ]
          },
          "metadata": {
            "tags": [],
            "needs_background": "light"
          }
        }
      ]
    },
    {
      "cell_type": "markdown",
      "metadata": {
        "id": "vKlCYImwOU8k"
      },
      "source": [
        "<p><font size=-1 color=gray>\n",
        "&copy; Copyright 2019 IBM Corp. All Rights Reserved.\n",
        "<p>\n",
        "Licensed under the Apache License, Version 2.0 (the \"License\"); you may not use this file\n",
        "except in compliance with the License. You may obtain a copy of the License at\n",
        "https://www.apache.org/licenses/LICENSE-2.0\n",
        "Unless required by applicable law or agreed to in writing, software distributed under the\n",
        "License is distributed on an \"AS IS\" BASIS, WITHOUT WARRANTIES OR CONDITIONS OF ANY KIND, either\n",
        "express or implied. See the License for the specific language governing permissions and\n",
        "limitations under the License.\n",
        "</font></p>"
      ]
    }
  ]
}