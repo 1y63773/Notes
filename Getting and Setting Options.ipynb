{
 "cells": [
  {
   "cell_type": "code",
   "execution_count": 3,
   "metadata": {
    "collapsed": false
   },
   "outputs": [],
   "source": [
    "import pandas as pd\n",
    "import numpy as np\n",
    "from pandas import Series, DataFrame"
   ]
  },
  {
   "cell_type": "code",
   "execution_count": null,
   "metadata": {
    "collapsed": true
   },
   "outputs": [],
   "source": [
    "#get_option and reset_option"
   ]
  },
  {
   "cell_type": "code",
   "execution_count": 4,
   "metadata": {
    "collapsed": false
   },
   "outputs": [
    {
     "data": {
      "text/plain": [
       "60"
      ]
     },
     "execution_count": 4,
     "metadata": {},
     "output_type": "execute_result"
    }
   ],
   "source": [
    "pd.get_option('display.max_rows')"
   ]
  },
  {
   "cell_type": "code",
   "execution_count": 5,
   "metadata": {
    "collapsed": true
   },
   "outputs": [],
   "source": [
    "pd.set_option('display.max_rows', 120)"
   ]
  },
  {
   "cell_type": "code",
   "execution_count": 6,
   "metadata": {
    "collapsed": false
   },
   "outputs": [
    {
     "data": {
      "text/plain": [
       "120"
      ]
     },
     "execution_count": 6,
     "metadata": {},
     "output_type": "execute_result"
    }
   ],
   "source": [
    "pd.get_option('display.max_rows')"
   ]
  },
  {
   "cell_type": "code",
   "execution_count": 7,
   "metadata": {
    "collapsed": true
   },
   "outputs": [],
   "source": [
    "pd.reset_option('display.max_rows')"
   ]
  },
  {
   "cell_type": "code",
   "execution_count": 8,
   "metadata": {
    "collapsed": false
   },
   "outputs": [
    {
     "data": {
      "text/plain": [
       "60"
      ]
     },
     "execution_count": 8,
     "metadata": {},
     "output_type": "execute_result"
    }
   ],
   "source": [
    "pd.get_option('display.max_rows')"
   ]
  },
  {
   "cell_type": "code",
   "execution_count": null,
   "metadata": {
    "collapsed": true
   },
   "outputs": [],
   "source": []
  },
  {
   "cell_type": "code",
   "execution_count": null,
   "metadata": {
    "collapsed": true
   },
   "outputs": [],
   "source": [
    "# Frequently used options in pandas"
   ]
  },
  {
   "cell_type": "code",
   "execution_count": null,
   "metadata": {
    "collapsed": true
   },
   "outputs": [],
   "source": [
    "# max_rows"
   ]
  },
  {
   "cell_type": "code",
   "execution_count": 9,
   "metadata": {
    "collapsed": true
   },
   "outputs": [],
   "source": [
    "dframe = pd.DataFrame(np.random.randn(10,2))"
   ]
  },
  {
   "cell_type": "code",
   "execution_count": 10,
   "metadata": {
    "collapsed": false
   },
   "outputs": [
    {
     "data": {
      "text/html": [
       "<div>\n",
       "<table border=\"1\" class=\"dataframe\">\n",
       "  <thead>\n",
       "    <tr style=\"text-align: right;\">\n",
       "      <th></th>\n",
       "      <th>0</th>\n",
       "      <th>1</th>\n",
       "    </tr>\n",
       "  </thead>\n",
       "  <tbody>\n",
       "    <tr>\n",
       "      <th>0</th>\n",
       "      <td>-0.354981</td>\n",
       "      <td>0.547634</td>\n",
       "    </tr>\n",
       "    <tr>\n",
       "      <th>1</th>\n",
       "      <td>1.066492</td>\n",
       "      <td>-0.184402</td>\n",
       "    </tr>\n",
       "    <tr>\n",
       "      <th>2</th>\n",
       "      <td>0.182972</td>\n",
       "      <td>-1.754146</td>\n",
       "    </tr>\n",
       "    <tr>\n",
       "      <th>3</th>\n",
       "      <td>1.073393</td>\n",
       "      <td>0.301859</td>\n",
       "    </tr>\n",
       "    <tr>\n",
       "      <th>4</th>\n",
       "      <td>-0.569386</td>\n",
       "      <td>0.686943</td>\n",
       "    </tr>\n",
       "    <tr>\n",
       "      <th>5</th>\n",
       "      <td>0.332243</td>\n",
       "      <td>0.350023</td>\n",
       "    </tr>\n",
       "    <tr>\n",
       "      <th>6</th>\n",
       "      <td>-0.134567</td>\n",
       "      <td>0.638994</td>\n",
       "    </tr>\n",
       "    <tr>\n",
       "      <th>7</th>\n",
       "      <td>-0.300023</td>\n",
       "      <td>-0.127278</td>\n",
       "    </tr>\n",
       "    <tr>\n",
       "      <th>8</th>\n",
       "      <td>-0.957225</td>\n",
       "      <td>-1.793876</td>\n",
       "    </tr>\n",
       "    <tr>\n",
       "      <th>9</th>\n",
       "      <td>-0.490547</td>\n",
       "      <td>-0.019640</td>\n",
       "    </tr>\n",
       "  </tbody>\n",
       "</table>\n",
       "</div>"
      ],
      "text/plain": [
       "          0         1\n",
       "0 -0.354981  0.547634\n",
       "1  1.066492 -0.184402\n",
       "2  0.182972 -1.754146\n",
       "3  1.073393  0.301859\n",
       "4 -0.569386  0.686943\n",
       "5  0.332243  0.350023\n",
       "6 -0.134567  0.638994\n",
       "7 -0.300023 -0.127278\n",
       "8 -0.957225 -1.793876\n",
       "9 -0.490547 -0.019640"
      ]
     },
     "execution_count": 10,
     "metadata": {},
     "output_type": "execute_result"
    }
   ],
   "source": [
    "dframe"
   ]
  },
  {
   "cell_type": "code",
   "execution_count": 11,
   "metadata": {
    "collapsed": true
   },
   "outputs": [],
   "source": [
    "pd.set_option('max_rows', 6)"
   ]
  },
  {
   "cell_type": "code",
   "execution_count": 12,
   "metadata": {
    "collapsed": false
   },
   "outputs": [
    {
     "data": {
      "text/html": [
       "<div>\n",
       "<table border=\"1\" class=\"dataframe\">\n",
       "  <thead>\n",
       "    <tr style=\"text-align: right;\">\n",
       "      <th></th>\n",
       "      <th>0</th>\n",
       "      <th>1</th>\n",
       "    </tr>\n",
       "  </thead>\n",
       "  <tbody>\n",
       "    <tr>\n",
       "      <th>0</th>\n",
       "      <td>-0.354981</td>\n",
       "      <td>0.547634</td>\n",
       "    </tr>\n",
       "    <tr>\n",
       "      <th>1</th>\n",
       "      <td>1.066492</td>\n",
       "      <td>-0.184402</td>\n",
       "    </tr>\n",
       "    <tr>\n",
       "      <th>2</th>\n",
       "      <td>0.182972</td>\n",
       "      <td>-1.754146</td>\n",
       "    </tr>\n",
       "    <tr>\n",
       "      <th>...</th>\n",
       "      <td>...</td>\n",
       "      <td>...</td>\n",
       "    </tr>\n",
       "    <tr>\n",
       "      <th>7</th>\n",
       "      <td>-0.300023</td>\n",
       "      <td>-0.127278</td>\n",
       "    </tr>\n",
       "    <tr>\n",
       "      <th>8</th>\n",
       "      <td>-0.957225</td>\n",
       "      <td>-1.793876</td>\n",
       "    </tr>\n",
       "    <tr>\n",
       "      <th>9</th>\n",
       "      <td>-0.490547</td>\n",
       "      <td>-0.019640</td>\n",
       "    </tr>\n",
       "  </tbody>\n",
       "</table>\n",
       "<p>10 rows × 2 columns</p>\n",
       "</div>"
      ],
      "text/plain": [
       "           0         1\n",
       "0  -0.354981  0.547634\n",
       "1   1.066492 -0.184402\n",
       "2   0.182972 -1.754146\n",
       "..       ...       ...\n",
       "7  -0.300023 -0.127278\n",
       "8  -0.957225 -1.793876\n",
       "9  -0.490547 -0.019640\n",
       "\n",
       "[10 rows x 2 columns]"
      ]
     },
     "execution_count": 12,
     "metadata": {},
     "output_type": "execute_result"
    }
   ],
   "source": [
    "dframe"
   ]
  },
  {
   "cell_type": "code",
   "execution_count": 13,
   "metadata": {
    "collapsed": true
   },
   "outputs": [],
   "source": [
    "pd.reset_option('max_rows')"
   ]
  },
  {
   "cell_type": "code",
   "execution_count": null,
   "metadata": {
    "collapsed": true
   },
   "outputs": [],
   "source": [
    "# expand_frame_repr"
   ]
  },
  {
   "cell_type": "code",
   "execution_count": 20,
   "metadata": {
    "collapsed": true
   },
   "outputs": [],
   "source": [
    "dframe = pd.DataFrame(np.random.randn(12,12))"
   ]
  },
  {
   "cell_type": "code",
   "execution_count": 21,
   "metadata": {
    "collapsed": false
   },
   "outputs": [
    {
     "data": {
      "text/html": [
       "<div>\n",
       "<table border=\"1\" class=\"dataframe\">\n",
       "  <thead>\n",
       "    <tr style=\"text-align: right;\">\n",
       "      <th></th>\n",
       "      <th>0</th>\n",
       "      <th>1</th>\n",
       "      <th>2</th>\n",
       "      <th>3</th>\n",
       "      <th>4</th>\n",
       "      <th>5</th>\n",
       "      <th>6</th>\n",
       "      <th>7</th>\n",
       "      <th>8</th>\n",
       "      <th>9</th>\n",
       "      <th>10</th>\n",
       "      <th>11</th>\n",
       "    </tr>\n",
       "  </thead>\n",
       "  <tbody>\n",
       "    <tr>\n",
       "      <th>0</th>\n",
       "      <td>0.426023</td>\n",
       "      <td>-1.214637</td>\n",
       "      <td>0.096357</td>\n",
       "      <td>-0.767768</td>\n",
       "      <td>0.814698</td>\n",
       "      <td>-0.664924</td>\n",
       "      <td>0.286941</td>\n",
       "      <td>0.832047</td>\n",
       "      <td>0.446430</td>\n",
       "      <td>-2.267758</td>\n",
       "      <td>-0.509551</td>\n",
       "      <td>-0.078937</td>\n",
       "    </tr>\n",
       "    <tr>\n",
       "      <th>1</th>\n",
       "      <td>3.856982</td>\n",
       "      <td>-0.482218</td>\n",
       "      <td>0.963279</td>\n",
       "      <td>1.681353</td>\n",
       "      <td>-0.352975</td>\n",
       "      <td>0.372185</td>\n",
       "      <td>-1.112150</td>\n",
       "      <td>-0.168681</td>\n",
       "      <td>1.407150</td>\n",
       "      <td>0.049005</td>\n",
       "      <td>0.259235</td>\n",
       "      <td>0.196941</td>\n",
       "    </tr>\n",
       "    <tr>\n",
       "      <th>2</th>\n",
       "      <td>1.399108</td>\n",
       "      <td>-1.668243</td>\n",
       "      <td>1.224249</td>\n",
       "      <td>0.745478</td>\n",
       "      <td>-0.673926</td>\n",
       "      <td>1.225790</td>\n",
       "      <td>-0.714761</td>\n",
       "      <td>-0.485901</td>\n",
       "      <td>-0.196774</td>\n",
       "      <td>0.085787</td>\n",
       "      <td>0.565394</td>\n",
       "      <td>-0.490198</td>\n",
       "    </tr>\n",
       "    <tr>\n",
       "      <th>3</th>\n",
       "      <td>-0.881104</td>\n",
       "      <td>-1.106259</td>\n",
       "      <td>1.253563</td>\n",
       "      <td>1.470701</td>\n",
       "      <td>-0.515523</td>\n",
       "      <td>-0.588521</td>\n",
       "      <td>-1.101138</td>\n",
       "      <td>-1.161008</td>\n",
       "      <td>-1.598123</td>\n",
       "      <td>0.218882</td>\n",
       "      <td>0.761292</td>\n",
       "      <td>-2.653189</td>\n",
       "    </tr>\n",
       "    <tr>\n",
       "      <th>4</th>\n",
       "      <td>-0.349465</td>\n",
       "      <td>-0.132195</td>\n",
       "      <td>1.311347</td>\n",
       "      <td>-1.124651</td>\n",
       "      <td>-0.073663</td>\n",
       "      <td>0.418904</td>\n",
       "      <td>0.245131</td>\n",
       "      <td>-1.429222</td>\n",
       "      <td>0.277574</td>\n",
       "      <td>-0.199492</td>\n",
       "      <td>0.472831</td>\n",
       "      <td>1.853008</td>\n",
       "    </tr>\n",
       "    <tr>\n",
       "      <th>5</th>\n",
       "      <td>0.770931</td>\n",
       "      <td>0.801684</td>\n",
       "      <td>-0.714568</td>\n",
       "      <td>0.474796</td>\n",
       "      <td>0.011784</td>\n",
       "      <td>-0.633806</td>\n",
       "      <td>-0.620409</td>\n",
       "      <td>2.526826</td>\n",
       "      <td>0.784408</td>\n",
       "      <td>0.828745</td>\n",
       "      <td>0.139958</td>\n",
       "      <td>0.256690</td>\n",
       "    </tr>\n",
       "    <tr>\n",
       "      <th>6</th>\n",
       "      <td>0.274792</td>\n",
       "      <td>-0.457073</td>\n",
       "      <td>-0.230814</td>\n",
       "      <td>-0.506224</td>\n",
       "      <td>-1.436562</td>\n",
       "      <td>0.241451</td>\n",
       "      <td>-0.106079</td>\n",
       "      <td>-0.561860</td>\n",
       "      <td>-0.595311</td>\n",
       "      <td>0.166587</td>\n",
       "      <td>-2.000363</td>\n",
       "      <td>0.459579</td>\n",
       "    </tr>\n",
       "    <tr>\n",
       "      <th>7</th>\n",
       "      <td>-0.397472</td>\n",
       "      <td>-1.121803</td>\n",
       "      <td>-1.619107</td>\n",
       "      <td>1.044145</td>\n",
       "      <td>-1.117540</td>\n",
       "      <td>-0.449634</td>\n",
       "      <td>0.891611</td>\n",
       "      <td>-1.025607</td>\n",
       "      <td>0.821520</td>\n",
       "      <td>-0.723528</td>\n",
       "      <td>1.416284</td>\n",
       "      <td>-0.055389</td>\n",
       "    </tr>\n",
       "    <tr>\n",
       "      <th>8</th>\n",
       "      <td>-0.792626</td>\n",
       "      <td>0.634611</td>\n",
       "      <td>-0.592694</td>\n",
       "      <td>0.797367</td>\n",
       "      <td>-1.266617</td>\n",
       "      <td>-0.950289</td>\n",
       "      <td>0.665272</td>\n",
       "      <td>0.516582</td>\n",
       "      <td>-0.261898</td>\n",
       "      <td>-0.953222</td>\n",
       "      <td>0.007746</td>\n",
       "      <td>0.622463</td>\n",
       "    </tr>\n",
       "    <tr>\n",
       "      <th>9</th>\n",
       "      <td>-0.154661</td>\n",
       "      <td>2.175667</td>\n",
       "      <td>-0.313300</td>\n",
       "      <td>0.241249</td>\n",
       "      <td>0.146302</td>\n",
       "      <td>0.676144</td>\n",
       "      <td>1.290675</td>\n",
       "      <td>-0.312790</td>\n",
       "      <td>0.524388</td>\n",
       "      <td>0.511989</td>\n",
       "      <td>-0.626036</td>\n",
       "      <td>0.821947</td>\n",
       "    </tr>\n",
       "    <tr>\n",
       "      <th>10</th>\n",
       "      <td>-1.048603</td>\n",
       "      <td>-0.823243</td>\n",
       "      <td>-0.647480</td>\n",
       "      <td>1.878092</td>\n",
       "      <td>-0.412022</td>\n",
       "      <td>1.552599</td>\n",
       "      <td>1.221490</td>\n",
       "      <td>0.921302</td>\n",
       "      <td>0.123635</td>\n",
       "      <td>-1.724455</td>\n",
       "      <td>0.645895</td>\n",
       "      <td>-0.812089</td>\n",
       "    </tr>\n",
       "    <tr>\n",
       "      <th>11</th>\n",
       "      <td>-0.502367</td>\n",
       "      <td>-0.079138</td>\n",
       "      <td>0.643028</td>\n",
       "      <td>0.240536</td>\n",
       "      <td>-0.854740</td>\n",
       "      <td>-0.350898</td>\n",
       "      <td>-0.103979</td>\n",
       "      <td>-1.330529</td>\n",
       "      <td>1.502480</td>\n",
       "      <td>1.734092</td>\n",
       "      <td>0.345694</td>\n",
       "      <td>-0.141752</td>\n",
       "    </tr>\n",
       "  </tbody>\n",
       "</table>\n",
       "</div>"
      ],
      "text/plain": [
       "          0         1         2         3         4         5         6         7         8         9         10        11\n",
       "0   0.426023 -1.214637  0.096357 -0.767768  0.814698 -0.664924  0.286941  0.832047  0.446430 -2.267758 -0.509551 -0.078937\n",
       "1   3.856982 -0.482218  0.963279  1.681353 -0.352975  0.372185 -1.112150 -0.168681  1.407150  0.049005  0.259235  0.196941\n",
       "2   1.399108 -1.668243  1.224249  0.745478 -0.673926  1.225790 -0.714761 -0.485901 -0.196774  0.085787  0.565394 -0.490198\n",
       "3  -0.881104 -1.106259  1.253563  1.470701 -0.515523 -0.588521 -1.101138 -1.161008 -1.598123  0.218882  0.761292 -2.653189\n",
       "4  -0.349465 -0.132195  1.311347 -1.124651 -0.073663  0.418904  0.245131 -1.429222  0.277574 -0.199492  0.472831  1.853008\n",
       "5   0.770931  0.801684 -0.714568  0.474796  0.011784 -0.633806 -0.620409  2.526826  0.784408  0.828745  0.139958  0.256690\n",
       "6   0.274792 -0.457073 -0.230814 -0.506224 -1.436562  0.241451 -0.106079 -0.561860 -0.595311  0.166587 -2.000363  0.459579\n",
       "7  -0.397472 -1.121803 -1.619107  1.044145 -1.117540 -0.449634  0.891611 -1.025607  0.821520 -0.723528  1.416284 -0.055389\n",
       "8  -0.792626  0.634611 -0.592694  0.797367 -1.266617 -0.950289  0.665272  0.516582 -0.261898 -0.953222  0.007746  0.622463\n",
       "9  -0.154661  2.175667 -0.313300  0.241249  0.146302  0.676144  1.290675 -0.312790  0.524388  0.511989 -0.626036  0.821947\n",
       "10 -1.048603 -0.823243 -0.647480  1.878092 -0.412022  1.552599  1.221490  0.921302  0.123635 -1.724455  0.645895 -0.812089\n",
       "11 -0.502367 -0.079138  0.643028  0.240536 -0.854740 -0.350898 -0.103979 -1.330529  1.502480  1.734092  0.345694 -0.141752"
      ]
     },
     "execution_count": 21,
     "metadata": {},
     "output_type": "execute_result"
    }
   ],
   "source": [
    "dframe"
   ]
  },
  {
   "cell_type": "code",
   "execution_count": null,
   "metadata": {
    "collapsed": false
   },
   "outputs": [],
   "source": []
  },
  {
   "cell_type": "code",
   "execution_count": null,
   "metadata": {
    "collapsed": false
   },
   "outputs": [],
   "source": [
    "# max_columns"
   ]
  },
  {
   "cell_type": "code",
   "execution_count": 35,
   "metadata": {
    "collapsed": true
   },
   "outputs": [],
   "source": [
    "dframe = pd.DataFrame(np.random.randn(4,15))"
   ]
  },
  {
   "cell_type": "code",
   "execution_count": 36,
   "metadata": {
    "collapsed": false
   },
   "outputs": [
    {
     "data": {
      "text/html": [
       "<div>\n",
       "<table border=\"1\" class=\"dataframe\">\n",
       "  <thead>\n",
       "    <tr style=\"text-align: right;\">\n",
       "      <th></th>\n",
       "      <th>0</th>\n",
       "      <th>1</th>\n",
       "      <th>2</th>\n",
       "      <th>3</th>\n",
       "      <th>4</th>\n",
       "      <th>5</th>\n",
       "      <th>6</th>\n",
       "      <th>7</th>\n",
       "      <th>8</th>\n",
       "      <th>9</th>\n",
       "      <th>10</th>\n",
       "      <th>11</th>\n",
       "      <th>12</th>\n",
       "      <th>13</th>\n",
       "      <th>14</th>\n",
       "    </tr>\n",
       "  </thead>\n",
       "  <tbody>\n",
       "    <tr>\n",
       "      <th>0</th>\n",
       "      <td>-0.873929</td>\n",
       "      <td>-0.654073</td>\n",
       "      <td>-0.453022</td>\n",
       "      <td>-1.730790</td>\n",
       "      <td>-0.943844</td>\n",
       "      <td>-0.472094</td>\n",
       "      <td>-1.264486</td>\n",
       "      <td>0.441780</td>\n",
       "      <td>-0.745352</td>\n",
       "      <td>-0.602587</td>\n",
       "      <td>-1.281153</td>\n",
       "      <td>2.515651</td>\n",
       "      <td>-1.075031</td>\n",
       "      <td>-2.295341</td>\n",
       "      <td>-0.158184</td>\n",
       "    </tr>\n",
       "    <tr>\n",
       "      <th>1</th>\n",
       "      <td>-1.351835</td>\n",
       "      <td>-1.495194</td>\n",
       "      <td>0.079756</td>\n",
       "      <td>1.301577</td>\n",
       "      <td>-0.217385</td>\n",
       "      <td>-0.446869</td>\n",
       "      <td>0.621291</td>\n",
       "      <td>0.572719</td>\n",
       "      <td>0.697149</td>\n",
       "      <td>-0.808528</td>\n",
       "      <td>0.777195</td>\n",
       "      <td>1.863243</td>\n",
       "      <td>-0.036493</td>\n",
       "      <td>0.649646</td>\n",
       "      <td>1.444357</td>\n",
       "    </tr>\n",
       "    <tr>\n",
       "      <th>2</th>\n",
       "      <td>0.256439</td>\n",
       "      <td>-0.729050</td>\n",
       "      <td>-0.859640</td>\n",
       "      <td>-1.294954</td>\n",
       "      <td>0.078790</td>\n",
       "      <td>1.502212</td>\n",
       "      <td>1.204579</td>\n",
       "      <td>-1.340131</td>\n",
       "      <td>-1.660609</td>\n",
       "      <td>0.247448</td>\n",
       "      <td>-0.440839</td>\n",
       "      <td>-2.070385</td>\n",
       "      <td>-0.241543</td>\n",
       "      <td>1.093422</td>\n",
       "      <td>-0.430548</td>\n",
       "    </tr>\n",
       "    <tr>\n",
       "      <th>3</th>\n",
       "      <td>-0.145156</td>\n",
       "      <td>-0.672897</td>\n",
       "      <td>-1.112268</td>\n",
       "      <td>-1.256190</td>\n",
       "      <td>0.955354</td>\n",
       "      <td>-0.184359</td>\n",
       "      <td>2.016950</td>\n",
       "      <td>0.431910</td>\n",
       "      <td>0.786593</td>\n",
       "      <td>2.232556</td>\n",
       "      <td>0.187788</td>\n",
       "      <td>-0.485785</td>\n",
       "      <td>0.464289</td>\n",
       "      <td>0.301766</td>\n",
       "      <td>0.530734</td>\n",
       "    </tr>\n",
       "  </tbody>\n",
       "</table>\n",
       "</div>"
      ],
      "text/plain": [
       "         0         1         2         3         4         5         6         7         8         9         10        11        12        13        14\n",
       "0 -0.873929 -0.654073 -0.453022 -1.730790 -0.943844 -0.472094 -1.264486  0.441780 -0.745352 -0.602587 -1.281153  2.515651 -1.075031 -2.295341 -0.158184\n",
       "1 -1.351835 -1.495194  0.079756  1.301577 -0.217385 -0.446869  0.621291  0.572719  0.697149 -0.808528  0.777195  1.863243 -0.036493  0.649646  1.444357\n",
       "2  0.256439 -0.729050 -0.859640 -1.294954  0.078790  1.502212  1.204579 -1.340131 -1.660609  0.247448 -0.440839 -2.070385 -0.241543  1.093422 -0.430548\n",
       "3 -0.145156 -0.672897 -1.112268 -1.256190  0.955354 -0.184359  2.016950  0.431910  0.786593  2.232556  0.187788 -0.485785  0.464289  0.301766  0.530734"
      ]
     },
     "execution_count": 36,
     "metadata": {},
     "output_type": "execute_result"
    }
   ],
   "source": [
    "dframe"
   ]
  },
  {
   "cell_type": "code",
   "execution_count": 37,
   "metadata": {
    "collapsed": false
   },
   "outputs": [],
   "source": [
    "pd.set_option('max_columns', 6)"
   ]
  },
  {
   "cell_type": "code",
   "execution_count": 38,
   "metadata": {
    "collapsed": false
   },
   "outputs": [
    {
     "data": {
      "text/html": [
       "<div>\n",
       "<table border=\"1\" class=\"dataframe\">\n",
       "  <thead>\n",
       "    <tr style=\"text-align: right;\">\n",
       "      <th></th>\n",
       "      <th>0</th>\n",
       "      <th>1</th>\n",
       "      <th>2</th>\n",
       "      <th>...</th>\n",
       "      <th>12</th>\n",
       "      <th>13</th>\n",
       "      <th>14</th>\n",
       "    </tr>\n",
       "  </thead>\n",
       "  <tbody>\n",
       "    <tr>\n",
       "      <th>0</th>\n",
       "      <td>-0.873929</td>\n",
       "      <td>-0.654073</td>\n",
       "      <td>-0.453022</td>\n",
       "      <td>...</td>\n",
       "      <td>-1.075031</td>\n",
       "      <td>-2.295341</td>\n",
       "      <td>-0.158184</td>\n",
       "    </tr>\n",
       "    <tr>\n",
       "      <th>1</th>\n",
       "      <td>-1.351835</td>\n",
       "      <td>-1.495194</td>\n",
       "      <td>0.079756</td>\n",
       "      <td>...</td>\n",
       "      <td>-0.036493</td>\n",
       "      <td>0.649646</td>\n",
       "      <td>1.444357</td>\n",
       "    </tr>\n",
       "    <tr>\n",
       "      <th>2</th>\n",
       "      <td>0.256439</td>\n",
       "      <td>-0.729050</td>\n",
       "      <td>-0.859640</td>\n",
       "      <td>...</td>\n",
       "      <td>-0.241543</td>\n",
       "      <td>1.093422</td>\n",
       "      <td>-0.430548</td>\n",
       "    </tr>\n",
       "    <tr>\n",
       "      <th>3</th>\n",
       "      <td>-0.145156</td>\n",
       "      <td>-0.672897</td>\n",
       "      <td>-1.112268</td>\n",
       "      <td>...</td>\n",
       "      <td>0.464289</td>\n",
       "      <td>0.301766</td>\n",
       "      <td>0.530734</td>\n",
       "    </tr>\n",
       "  </tbody>\n",
       "</table>\n",
       "<p>4 rows × 15 columns</p>\n",
       "</div>"
      ],
      "text/plain": [
       "         0         1         2     ...           12        13        14\n",
       "0 -0.873929 -0.654073 -0.453022    ...    -1.075031 -2.295341 -0.158184\n",
       "1 -1.351835 -1.495194  0.079756    ...    -0.036493  0.649646  1.444357\n",
       "2  0.256439 -0.729050 -0.859640    ...    -0.241543  1.093422 -0.430548\n",
       "3 -0.145156 -0.672897 -1.112268    ...     0.464289  0.301766  0.530734\n",
       "\n",
       "[4 rows x 15 columns]"
      ]
     },
     "execution_count": 38,
     "metadata": {},
     "output_type": "execute_result"
    }
   ],
   "source": [
    "dframe"
   ]
  },
  {
   "cell_type": "code",
   "execution_count": 39,
   "metadata": {
    "collapsed": true
   },
   "outputs": [],
   "source": [
    "pd.reset_option('max_columns')"
   ]
  },
  {
   "cell_type": "code",
   "execution_count": 40,
   "metadata": {
    "collapsed": false
   },
   "outputs": [
    {
     "data": {
      "text/html": [
       "<div>\n",
       "<table border=\"1\" class=\"dataframe\">\n",
       "  <thead>\n",
       "    <tr style=\"text-align: right;\">\n",
       "      <th></th>\n",
       "      <th>0</th>\n",
       "      <th>1</th>\n",
       "      <th>2</th>\n",
       "      <th>3</th>\n",
       "      <th>4</th>\n",
       "      <th>5</th>\n",
       "      <th>6</th>\n",
       "      <th>7</th>\n",
       "      <th>8</th>\n",
       "      <th>9</th>\n",
       "      <th>10</th>\n",
       "      <th>11</th>\n",
       "      <th>12</th>\n",
       "      <th>13</th>\n",
       "      <th>14</th>\n",
       "    </tr>\n",
       "  </thead>\n",
       "  <tbody>\n",
       "    <tr>\n",
       "      <th>0</th>\n",
       "      <td>-0.873929</td>\n",
       "      <td>-0.654073</td>\n",
       "      <td>-0.453022</td>\n",
       "      <td>-1.730790</td>\n",
       "      <td>-0.943844</td>\n",
       "      <td>-0.472094</td>\n",
       "      <td>-1.264486</td>\n",
       "      <td>0.441780</td>\n",
       "      <td>-0.745352</td>\n",
       "      <td>-0.602587</td>\n",
       "      <td>-1.281153</td>\n",
       "      <td>2.515651</td>\n",
       "      <td>-1.075031</td>\n",
       "      <td>-2.295341</td>\n",
       "      <td>-0.158184</td>\n",
       "    </tr>\n",
       "    <tr>\n",
       "      <th>1</th>\n",
       "      <td>-1.351835</td>\n",
       "      <td>-1.495194</td>\n",
       "      <td>0.079756</td>\n",
       "      <td>1.301577</td>\n",
       "      <td>-0.217385</td>\n",
       "      <td>-0.446869</td>\n",
       "      <td>0.621291</td>\n",
       "      <td>0.572719</td>\n",
       "      <td>0.697149</td>\n",
       "      <td>-0.808528</td>\n",
       "      <td>0.777195</td>\n",
       "      <td>1.863243</td>\n",
       "      <td>-0.036493</td>\n",
       "      <td>0.649646</td>\n",
       "      <td>1.444357</td>\n",
       "    </tr>\n",
       "    <tr>\n",
       "      <th>2</th>\n",
       "      <td>0.256439</td>\n",
       "      <td>-0.729050</td>\n",
       "      <td>-0.859640</td>\n",
       "      <td>-1.294954</td>\n",
       "      <td>0.078790</td>\n",
       "      <td>1.502212</td>\n",
       "      <td>1.204579</td>\n",
       "      <td>-1.340131</td>\n",
       "      <td>-1.660609</td>\n",
       "      <td>0.247448</td>\n",
       "      <td>-0.440839</td>\n",
       "      <td>-2.070385</td>\n",
       "      <td>-0.241543</td>\n",
       "      <td>1.093422</td>\n",
       "      <td>-0.430548</td>\n",
       "    </tr>\n",
       "    <tr>\n",
       "      <th>3</th>\n",
       "      <td>-0.145156</td>\n",
       "      <td>-0.672897</td>\n",
       "      <td>-1.112268</td>\n",
       "      <td>-1.256190</td>\n",
       "      <td>0.955354</td>\n",
       "      <td>-0.184359</td>\n",
       "      <td>2.016950</td>\n",
       "      <td>0.431910</td>\n",
       "      <td>0.786593</td>\n",
       "      <td>2.232556</td>\n",
       "      <td>0.187788</td>\n",
       "      <td>-0.485785</td>\n",
       "      <td>0.464289</td>\n",
       "      <td>0.301766</td>\n",
       "      <td>0.530734</td>\n",
       "    </tr>\n",
       "  </tbody>\n",
       "</table>\n",
       "</div>"
      ],
      "text/plain": [
       "         0         1         2         3         4         5         6         7         8         9         10        11        12        13        14\n",
       "0 -0.873929 -0.654073 -0.453022 -1.730790 -0.943844 -0.472094 -1.264486  0.441780 -0.745352 -0.602587 -1.281153  2.515651 -1.075031 -2.295341 -0.158184\n",
       "1 -1.351835 -1.495194  0.079756  1.301577 -0.217385 -0.446869  0.621291  0.572719  0.697149 -0.808528  0.777195  1.863243 -0.036493  0.649646  1.444357\n",
       "2  0.256439 -0.729050 -0.859640 -1.294954  0.078790  1.502212  1.204579 -1.340131 -1.660609  0.247448 -0.440839 -2.070385 -0.241543  1.093422 -0.430548\n",
       "3 -0.145156 -0.672897 -1.112268 -1.256190  0.955354 -0.184359  2.016950  0.431910  0.786593  2.232556  0.187788 -0.485785  0.464289  0.301766  0.530734"
      ]
     },
     "execution_count": 40,
     "metadata": {},
     "output_type": "execute_result"
    }
   ],
   "source": [
    "dframe"
   ]
  },
  {
   "cell_type": "code",
   "execution_count": null,
   "metadata": {
    "collapsed": true
   },
   "outputs": [],
   "source": []
  },
  {
   "cell_type": "code",
   "execution_count": null,
   "metadata": {
    "collapsed": true
   },
   "outputs": [],
   "source": []
  },
  {
   "cell_type": "code",
   "execution_count": null,
   "metadata": {
    "collapsed": true
   },
   "outputs": [],
   "source": [
    "#max_colwidth"
   ]
  },
  {
   "cell_type": "code",
   "execution_count": 41,
   "metadata": {
    "collapsed": true
   },
   "outputs": [],
   "source": [
    "dframe = pd.DataFrame(np.array([['state','city','country','some very long name here'],\n",
    "                               ['soccer','bball','hockey','vball']]))"
   ]
  },
  {
   "cell_type": "code",
   "execution_count": 42,
   "metadata": {
    "collapsed": false
   },
   "outputs": [
    {
     "data": {
      "text/html": [
       "<div>\n",
       "<table border=\"1\" class=\"dataframe\">\n",
       "  <thead>\n",
       "    <tr style=\"text-align: right;\">\n",
       "      <th></th>\n",
       "      <th>0</th>\n",
       "      <th>1</th>\n",
       "      <th>2</th>\n",
       "      <th>3</th>\n",
       "    </tr>\n",
       "  </thead>\n",
       "  <tbody>\n",
       "    <tr>\n",
       "      <th>0</th>\n",
       "      <td>state</td>\n",
       "      <td>city</td>\n",
       "      <td>country</td>\n",
       "      <td>some very long name here</td>\n",
       "    </tr>\n",
       "    <tr>\n",
       "      <th>1</th>\n",
       "      <td>soccer</td>\n",
       "      <td>bball</td>\n",
       "      <td>hockey</td>\n",
       "      <td>vball</td>\n",
       "    </tr>\n",
       "  </tbody>\n",
       "</table>\n",
       "</div>"
      ],
      "text/plain": [
       "        0      1        2                         3\n",
       "0   state   city  country  some very long name here\n",
       "1  soccer  bball   hockey                     vball"
      ]
     },
     "execution_count": 42,
     "metadata": {},
     "output_type": "execute_result"
    }
   ],
   "source": [
    "dframe"
   ]
  },
  {
   "cell_type": "code",
   "execution_count": 43,
   "metadata": {
    "collapsed": true
   },
   "outputs": [],
   "source": [
    "pd.set_option('max_colwidth', 12)"
   ]
  },
  {
   "cell_type": "code",
   "execution_count": 44,
   "metadata": {
    "collapsed": false
   },
   "outputs": [
    {
     "data": {
      "text/html": [
       "<div>\n",
       "<table border=\"1\" class=\"dataframe\">\n",
       "  <thead>\n",
       "    <tr style=\"text-align: right;\">\n",
       "      <th></th>\n",
       "      <th>0</th>\n",
       "      <th>1</th>\n",
       "      <th>2</th>\n",
       "      <th>3</th>\n",
       "    </tr>\n",
       "  </thead>\n",
       "  <tbody>\n",
       "    <tr>\n",
       "      <th>0</th>\n",
       "      <td>state</td>\n",
       "      <td>city</td>\n",
       "      <td>country</td>\n",
       "      <td>some ver...</td>\n",
       "    </tr>\n",
       "    <tr>\n",
       "      <th>1</th>\n",
       "      <td>soccer</td>\n",
       "      <td>bball</td>\n",
       "      <td>hockey</td>\n",
       "      <td>vball</td>\n",
       "    </tr>\n",
       "  </tbody>\n",
       "</table>\n",
       "</div>"
      ],
      "text/plain": [
       "        0      1        2            3\n",
       "0   state   city  country  some ver...\n",
       "1  soccer  bball   hockey        vball"
      ]
     },
     "execution_count": 44,
     "metadata": {},
     "output_type": "execute_result"
    }
   ],
   "source": [
    "dframe"
   ]
  },
  {
   "cell_type": "code",
   "execution_count": 45,
   "metadata": {
    "collapsed": true
   },
   "outputs": [],
   "source": [
    "pd.reset_option('max_colwidth')"
   ]
  },
  {
   "cell_type": "code",
   "execution_count": 46,
   "metadata": {
    "collapsed": false
   },
   "outputs": [
    {
     "data": {
      "text/html": [
       "<div>\n",
       "<table border=\"1\" class=\"dataframe\">\n",
       "  <thead>\n",
       "    <tr style=\"text-align: right;\">\n",
       "      <th></th>\n",
       "      <th>0</th>\n",
       "      <th>1</th>\n",
       "      <th>2</th>\n",
       "      <th>3</th>\n",
       "    </tr>\n",
       "  </thead>\n",
       "  <tbody>\n",
       "    <tr>\n",
       "      <th>0</th>\n",
       "      <td>state</td>\n",
       "      <td>city</td>\n",
       "      <td>country</td>\n",
       "      <td>some very long name here</td>\n",
       "    </tr>\n",
       "    <tr>\n",
       "      <th>1</th>\n",
       "      <td>soccer</td>\n",
       "      <td>bball</td>\n",
       "      <td>hockey</td>\n",
       "      <td>vball</td>\n",
       "    </tr>\n",
       "  </tbody>\n",
       "</table>\n",
       "</div>"
      ],
      "text/plain": [
       "        0      1        2                         3\n",
       "0   state   city  country  some very long name here\n",
       "1  soccer  bball   hockey                     vball"
      ]
     },
     "execution_count": 46,
     "metadata": {},
     "output_type": "execute_result"
    }
   ],
   "source": [
    "dframe"
   ]
  },
  {
   "cell_type": "code",
   "execution_count": 47,
   "metadata": {
    "collapsed": true
   },
   "outputs": [],
   "source": [
    "pd.set_option('max_colwidth', 5)"
   ]
  },
  {
   "cell_type": "code",
   "execution_count": 48,
   "metadata": {
    "collapsed": false
   },
   "outputs": [
    {
     "data": {
      "text/html": [
       "<div>\n",
       "<table border=\"1\" class=\"dataframe\">\n",
       "  <thead>\n",
       "    <tr style=\"text-align: right;\">\n",
       "      <th></th>\n",
       "      <th>0</th>\n",
       "      <th>1</th>\n",
       "      <th>2</th>\n",
       "      <th>3</th>\n",
       "    </tr>\n",
       "  </thead>\n",
       "  <tbody>\n",
       "    <tr>\n",
       "      <th>0</th>\n",
       "      <td>s...</td>\n",
       "      <td>city</td>\n",
       "      <td>c...</td>\n",
       "      <td>s...</td>\n",
       "    </tr>\n",
       "    <tr>\n",
       "      <th>1</th>\n",
       "      <td>s...</td>\n",
       "      <td>b...</td>\n",
       "      <td>h...</td>\n",
       "      <td>v...</td>\n",
       "    </tr>\n",
       "  </tbody>\n",
       "</table>\n",
       "</div>"
      ],
      "text/plain": [
       "      0     1     2     3\n",
       "0  s...  city  c...  s...\n",
       "1  s...  b...  h...  v..."
      ]
     },
     "execution_count": 48,
     "metadata": {},
     "output_type": "execute_result"
    }
   ],
   "source": [
    "dframe"
   ]
  },
  {
   "cell_type": "code",
   "execution_count": 50,
   "metadata": {
    "collapsed": true
   },
   "outputs": [],
   "source": [
    "pd.reset_option('max_colwidth')"
   ]
  },
  {
   "cell_type": "code",
   "execution_count": 51,
   "metadata": {
    "collapsed": false
   },
   "outputs": [
    {
     "data": {
      "text/html": [
       "<div>\n",
       "<table border=\"1\" class=\"dataframe\">\n",
       "  <thead>\n",
       "    <tr style=\"text-align: right;\">\n",
       "      <th></th>\n",
       "      <th>0</th>\n",
       "      <th>1</th>\n",
       "      <th>2</th>\n",
       "      <th>3</th>\n",
       "    </tr>\n",
       "  </thead>\n",
       "  <tbody>\n",
       "    <tr>\n",
       "      <th>0</th>\n",
       "      <td>state</td>\n",
       "      <td>city</td>\n",
       "      <td>country</td>\n",
       "      <td>some very long name here</td>\n",
       "    </tr>\n",
       "    <tr>\n",
       "      <th>1</th>\n",
       "      <td>soccer</td>\n",
       "      <td>bball</td>\n",
       "      <td>hockey</td>\n",
       "      <td>vball</td>\n",
       "    </tr>\n",
       "  </tbody>\n",
       "</table>\n",
       "</div>"
      ],
      "text/plain": [
       "        0      1        2                         3\n",
       "0   state   city  country  some very long name here\n",
       "1  soccer  bball   hockey                     vball"
      ]
     },
     "execution_count": 51,
     "metadata": {},
     "output_type": "execute_result"
    }
   ],
   "source": [
    "dframe"
   ]
  },
  {
   "cell_type": "code",
   "execution_count": null,
   "metadata": {
    "collapsed": true
   },
   "outputs": [],
   "source": [
    "#colheader_justify"
   ]
  },
  {
   "cell_type": "code",
   "execution_count": 67,
   "metadata": {
    "collapsed": true
   },
   "outputs": [],
   "source": [
    "pd.set_option('colheader_justify', 'right')"
   ]
  },
  {
   "cell_type": "code",
   "execution_count": 57,
   "metadata": {
    "collapsed": false
   },
   "outputs": [
    {
     "data": {
      "text/html": [
       "<div>\n",
       "<table border=\"1\" class=\"dataframe\">\n",
       "  <thead>\n",
       "    <tr style=\"text-align: left;\">\n",
       "      <th></th>\n",
       "      <th>0</th>\n",
       "      <th>1</th>\n",
       "      <th>2</th>\n",
       "      <th>3</th>\n",
       "    </tr>\n",
       "  </thead>\n",
       "  <tbody>\n",
       "    <tr>\n",
       "      <th>0</th>\n",
       "      <td>state</td>\n",
       "      <td>city</td>\n",
       "      <td>country</td>\n",
       "      <td>some very long name here</td>\n",
       "    </tr>\n",
       "    <tr>\n",
       "      <th>1</th>\n",
       "      <td>soccer</td>\n",
       "      <td>bball</td>\n",
       "      <td>hockey</td>\n",
       "      <td>vball</td>\n",
       "    </tr>\n",
       "  </tbody>\n",
       "</table>\n",
       "</div>"
      ],
      "text/plain": [
       "  0       1      2        3                        \n",
       "0   state   city  country  some very long name here\n",
       "1  soccer  bball   hockey                     vball"
      ]
     },
     "execution_count": 57,
     "metadata": {},
     "output_type": "execute_result"
    }
   ],
   "source": [
    "dframe"
   ]
  },
  {
   "cell_type": "code",
   "execution_count": 60,
   "metadata": {
    "collapsed": false
   },
   "outputs": [],
   "source": [
    "dframe2 = pd.DataFrame(np.array([['state','city','country','some very long name here'],\n",
    "                               ['soccer','bball','hockey','vball']]), columns = ['A','B','C','D'])"
   ]
  },
  {
   "cell_type": "code",
   "execution_count": 68,
   "metadata": {
    "collapsed": false
   },
   "outputs": [
    {
     "data": {
      "text/html": [
       "<div>\n",
       "<table border=\"1\" class=\"dataframe\">\n",
       "  <thead>\n",
       "    <tr style=\"text-align: right;\">\n",
       "      <th></th>\n",
       "      <th>A</th>\n",
       "      <th>B</th>\n",
       "      <th>C</th>\n",
       "      <th>D</th>\n",
       "    </tr>\n",
       "  </thead>\n",
       "  <tbody>\n",
       "    <tr>\n",
       "      <th>0</th>\n",
       "      <td>state</td>\n",
       "      <td>city</td>\n",
       "      <td>country</td>\n",
       "      <td>some very long name here</td>\n",
       "    </tr>\n",
       "    <tr>\n",
       "      <th>1</th>\n",
       "      <td>soccer</td>\n",
       "      <td>bball</td>\n",
       "      <td>hockey</td>\n",
       "      <td>vball</td>\n",
       "    </tr>\n",
       "  </tbody>\n",
       "</table>\n",
       "</div>"
      ],
      "text/plain": [
       "        A      B        C                         D\n",
       "0   state   city  country  some very long name here\n",
       "1  soccer  bball   hockey                     vball"
      ]
     },
     "execution_count": 68,
     "metadata": {},
     "output_type": "execute_result"
    }
   ],
   "source": [
    "dframe2"
   ]
  },
  {
   "cell_type": "code",
   "execution_count": null,
   "metadata": {
    "collapsed": true
   },
   "outputs": [],
   "source": []
  },
  {
   "cell_type": "code",
   "execution_count": null,
   "metadata": {
    "collapsed": true
   },
   "outputs": [],
   "source": [
    "# precision"
   ]
  },
  {
   "cell_type": "code",
   "execution_count": 69,
   "metadata": {
    "collapsed": true
   },
   "outputs": [],
   "source": [
    "dframe2 = pd.DataFrame(np.random.randn(7,7))"
   ]
  },
  {
   "cell_type": "code",
   "execution_count": 70,
   "metadata": {
    "collapsed": false
   },
   "outputs": [
    {
     "data": {
      "text/html": [
       "<div>\n",
       "<table border=\"1\" class=\"dataframe\">\n",
       "  <thead>\n",
       "    <tr style=\"text-align: right;\">\n",
       "      <th></th>\n",
       "      <th>0</th>\n",
       "      <th>1</th>\n",
       "      <th>2</th>\n",
       "      <th>3</th>\n",
       "      <th>4</th>\n",
       "      <th>5</th>\n",
       "      <th>6</th>\n",
       "    </tr>\n",
       "  </thead>\n",
       "  <tbody>\n",
       "    <tr>\n",
       "      <th>0</th>\n",
       "      <td>0.285763</td>\n",
       "      <td>0.845331</td>\n",
       "      <td>-1.010562</td>\n",
       "      <td>0.855794</td>\n",
       "      <td>-0.580935</td>\n",
       "      <td>-0.189157</td>\n",
       "      <td>-0.325058</td>\n",
       "    </tr>\n",
       "    <tr>\n",
       "      <th>1</th>\n",
       "      <td>-1.403006</td>\n",
       "      <td>-1.481937</td>\n",
       "      <td>-0.568078</td>\n",
       "      <td>0.660964</td>\n",
       "      <td>-0.369103</td>\n",
       "      <td>0.310172</td>\n",
       "      <td>-1.656225</td>\n",
       "    </tr>\n",
       "    <tr>\n",
       "      <th>2</th>\n",
       "      <td>2.252925</td>\n",
       "      <td>-0.534810</td>\n",
       "      <td>-1.271303</td>\n",
       "      <td>0.022841</td>\n",
       "      <td>1.035662</td>\n",
       "      <td>-0.356847</td>\n",
       "      <td>0.314561</td>\n",
       "    </tr>\n",
       "    <tr>\n",
       "      <th>3</th>\n",
       "      <td>-0.879445</td>\n",
       "      <td>0.734230</td>\n",
       "      <td>-0.387731</td>\n",
       "      <td>-0.663104</td>\n",
       "      <td>0.362134</td>\n",
       "      <td>0.630876</td>\n",
       "      <td>1.457765</td>\n",
       "    </tr>\n",
       "    <tr>\n",
       "      <th>4</th>\n",
       "      <td>-1.209173</td>\n",
       "      <td>-1.672084</td>\n",
       "      <td>-0.975520</td>\n",
       "      <td>-0.968337</td>\n",
       "      <td>-0.000919</td>\n",
       "      <td>-0.360207</td>\n",
       "      <td>0.503778</td>\n",
       "    </tr>\n",
       "    <tr>\n",
       "      <th>5</th>\n",
       "      <td>-0.082821</td>\n",
       "      <td>2.098152</td>\n",
       "      <td>0.854747</td>\n",
       "      <td>2.465040</td>\n",
       "      <td>0.500095</td>\n",
       "      <td>0.150385</td>\n",
       "      <td>-0.007851</td>\n",
       "    </tr>\n",
       "    <tr>\n",
       "      <th>6</th>\n",
       "      <td>0.273324</td>\n",
       "      <td>-0.530575</td>\n",
       "      <td>0.813331</td>\n",
       "      <td>-0.135550</td>\n",
       "      <td>0.243505</td>\n",
       "      <td>0.594981</td>\n",
       "      <td>0.002193</td>\n",
       "    </tr>\n",
       "  </tbody>\n",
       "</table>\n",
       "</div>"
      ],
      "text/plain": [
       "          0         1         2         3         4         5         6\n",
       "0  0.285763  0.845331 -1.010562  0.855794 -0.580935 -0.189157 -0.325058\n",
       "1 -1.403006 -1.481937 -0.568078  0.660964 -0.369103  0.310172 -1.656225\n",
       "2  2.252925 -0.534810 -1.271303  0.022841  1.035662 -0.356847  0.314561\n",
       "3 -0.879445  0.734230 -0.387731 -0.663104  0.362134  0.630876  1.457765\n",
       "4 -1.209173 -1.672084 -0.975520 -0.968337 -0.000919 -0.360207  0.503778\n",
       "5 -0.082821  2.098152  0.854747  2.465040  0.500095  0.150385 -0.007851\n",
       "6  0.273324 -0.530575  0.813331 -0.135550  0.243505  0.594981  0.002193"
      ]
     },
     "execution_count": 70,
     "metadata": {},
     "output_type": "execute_result"
    }
   ],
   "source": [
    "dframe2"
   ]
  },
  {
   "cell_type": "code",
   "execution_count": 71,
   "metadata": {
    "collapsed": true
   },
   "outputs": [],
   "source": [
    "pd.set_option('precision',3)"
   ]
  },
  {
   "cell_type": "code",
   "execution_count": 72,
   "metadata": {
    "collapsed": false
   },
   "outputs": [
    {
     "data": {
      "text/html": [
       "<div>\n",
       "<table border=\"1\" class=\"dataframe\">\n",
       "  <thead>\n",
       "    <tr style=\"text-align: right;\">\n",
       "      <th></th>\n",
       "      <th>0</th>\n",
       "      <th>1</th>\n",
       "      <th>2</th>\n",
       "      <th>3</th>\n",
       "      <th>4</th>\n",
       "      <th>5</th>\n",
       "      <th>6</th>\n",
       "    </tr>\n",
       "  </thead>\n",
       "  <tbody>\n",
       "    <tr>\n",
       "      <th>0</th>\n",
       "      <td>0.286</td>\n",
       "      <td>0.845</td>\n",
       "      <td>-1.011</td>\n",
       "      <td>0.856</td>\n",
       "      <td>-5.809e-01</td>\n",
       "      <td>-0.189</td>\n",
       "      <td>-0.325</td>\n",
       "    </tr>\n",
       "    <tr>\n",
       "      <th>1</th>\n",
       "      <td>-1.403</td>\n",
       "      <td>-1.482</td>\n",
       "      <td>-0.568</td>\n",
       "      <td>0.661</td>\n",
       "      <td>-3.691e-01</td>\n",
       "      <td>0.310</td>\n",
       "      <td>-1.656</td>\n",
       "    </tr>\n",
       "    <tr>\n",
       "      <th>2</th>\n",
       "      <td>2.253</td>\n",
       "      <td>-0.535</td>\n",
       "      <td>-1.271</td>\n",
       "      <td>0.023</td>\n",
       "      <td>1.036e+00</td>\n",
       "      <td>-0.357</td>\n",
       "      <td>0.315</td>\n",
       "    </tr>\n",
       "    <tr>\n",
       "      <th>3</th>\n",
       "      <td>-0.879</td>\n",
       "      <td>0.734</td>\n",
       "      <td>-0.388</td>\n",
       "      <td>-0.663</td>\n",
       "      <td>3.621e-01</td>\n",
       "      <td>0.631</td>\n",
       "      <td>1.458</td>\n",
       "    </tr>\n",
       "    <tr>\n",
       "      <th>4</th>\n",
       "      <td>-1.209</td>\n",
       "      <td>-1.672</td>\n",
       "      <td>-0.976</td>\n",
       "      <td>-0.968</td>\n",
       "      <td>-9.187e-04</td>\n",
       "      <td>-0.360</td>\n",
       "      <td>0.504</td>\n",
       "    </tr>\n",
       "    <tr>\n",
       "      <th>5</th>\n",
       "      <td>-0.083</td>\n",
       "      <td>2.098</td>\n",
       "      <td>0.855</td>\n",
       "      <td>2.465</td>\n",
       "      <td>5.001e-01</td>\n",
       "      <td>0.150</td>\n",
       "      <td>-0.008</td>\n",
       "    </tr>\n",
       "    <tr>\n",
       "      <th>6</th>\n",
       "      <td>0.273</td>\n",
       "      <td>-0.531</td>\n",
       "      <td>0.813</td>\n",
       "      <td>-0.136</td>\n",
       "      <td>2.435e-01</td>\n",
       "      <td>0.595</td>\n",
       "      <td>0.002</td>\n",
       "    </tr>\n",
       "  </tbody>\n",
       "</table>\n",
       "</div>"
      ],
      "text/plain": [
       "       0      1      2      3          4      5      6\n",
       "0  0.286  0.845 -1.011  0.856 -5.809e-01 -0.189 -0.325\n",
       "1 -1.403 -1.482 -0.568  0.661 -3.691e-01  0.310 -1.656\n",
       "2  2.253 -0.535 -1.271  0.023  1.036e+00 -0.357  0.315\n",
       "3 -0.879  0.734 -0.388 -0.663  3.621e-01  0.631  1.458\n",
       "4 -1.209 -1.672 -0.976 -0.968 -9.187e-04 -0.360  0.504\n",
       "5 -0.083  2.098  0.855  2.465  5.001e-01  0.150 -0.008\n",
       "6  0.273 -0.531  0.813 -0.136  2.435e-01  0.595  0.002"
      ]
     },
     "execution_count": 72,
     "metadata": {},
     "output_type": "execute_result"
    }
   ],
   "source": [
    "dframe2"
   ]
  },
  {
   "cell_type": "code",
   "execution_count": 73,
   "metadata": {
    "collapsed": true
   },
   "outputs": [],
   "source": [
    "pd.set_option('precision', 8)"
   ]
  },
  {
   "cell_type": "code",
   "execution_count": 74,
   "metadata": {
    "collapsed": false
   },
   "outputs": [
    {
     "data": {
      "text/html": [
       "<div>\n",
       "<table border=\"1\" class=\"dataframe\">\n",
       "  <thead>\n",
       "    <tr style=\"text-align: right;\">\n",
       "      <th></th>\n",
       "      <th>0</th>\n",
       "      <th>1</th>\n",
       "      <th>2</th>\n",
       "      <th>3</th>\n",
       "      <th>4</th>\n",
       "      <th>5</th>\n",
       "      <th>6</th>\n",
       "    </tr>\n",
       "  </thead>\n",
       "  <tbody>\n",
       "    <tr>\n",
       "      <th>0</th>\n",
       "      <td>0.28576278</td>\n",
       "      <td>0.84533088</td>\n",
       "      <td>-1.01056153</td>\n",
       "      <td>0.85579383</td>\n",
       "      <td>-0.58093490</td>\n",
       "      <td>-0.18915692</td>\n",
       "      <td>-0.32505764</td>\n",
       "    </tr>\n",
       "    <tr>\n",
       "      <th>1</th>\n",
       "      <td>-1.40300625</td>\n",
       "      <td>-1.48193676</td>\n",
       "      <td>-0.56807832</td>\n",
       "      <td>0.66096449</td>\n",
       "      <td>-0.36910319</td>\n",
       "      <td>0.31017245</td>\n",
       "      <td>-1.65622504</td>\n",
       "    </tr>\n",
       "    <tr>\n",
       "      <th>2</th>\n",
       "      <td>2.25292459</td>\n",
       "      <td>-0.53480982</td>\n",
       "      <td>-1.27130350</td>\n",
       "      <td>0.02284092</td>\n",
       "      <td>1.03566190</td>\n",
       "      <td>-0.35684658</td>\n",
       "      <td>0.31456061</td>\n",
       "    </tr>\n",
       "    <tr>\n",
       "      <th>3</th>\n",
       "      <td>-0.87944543</td>\n",
       "      <td>0.73423047</td>\n",
       "      <td>-0.38773127</td>\n",
       "      <td>-0.66310353</td>\n",
       "      <td>0.36213424</td>\n",
       "      <td>0.63087567</td>\n",
       "      <td>1.45776498</td>\n",
       "    </tr>\n",
       "    <tr>\n",
       "      <th>4</th>\n",
       "      <td>-1.20917286</td>\n",
       "      <td>-1.67208421</td>\n",
       "      <td>-0.97552029</td>\n",
       "      <td>-0.96833747</td>\n",
       "      <td>-0.00091875</td>\n",
       "      <td>-0.36020690</td>\n",
       "      <td>0.50377785</td>\n",
       "    </tr>\n",
       "    <tr>\n",
       "      <th>5</th>\n",
       "      <td>-0.08282120</td>\n",
       "      <td>2.09815186</td>\n",
       "      <td>0.85474654</td>\n",
       "      <td>2.46504016</td>\n",
       "      <td>0.50009459</td>\n",
       "      <td>0.15038468</td>\n",
       "      <td>-0.00785127</td>\n",
       "    </tr>\n",
       "    <tr>\n",
       "      <th>6</th>\n",
       "      <td>0.27332403</td>\n",
       "      <td>-0.53057532</td>\n",
       "      <td>0.81333056</td>\n",
       "      <td>-0.13554998</td>\n",
       "      <td>0.24350457</td>\n",
       "      <td>0.59498146</td>\n",
       "      <td>0.00219279</td>\n",
       "    </tr>\n",
       "  </tbody>\n",
       "</table>\n",
       "</div>"
      ],
      "text/plain": [
       "            0           1           2           3           4           5           6\n",
       "0  0.28576278  0.84533088 -1.01056153  0.85579383 -0.58093490 -0.18915692 -0.32505764\n",
       "1 -1.40300625 -1.48193676 -0.56807832  0.66096449 -0.36910319  0.31017245 -1.65622504\n",
       "2  2.25292459 -0.53480982 -1.27130350  0.02284092  1.03566190 -0.35684658  0.31456061\n",
       "3 -0.87944543  0.73423047 -0.38773127 -0.66310353  0.36213424  0.63087567  1.45776498\n",
       "4 -1.20917286 -1.67208421 -0.97552029 -0.96833747 -0.00091875 -0.36020690  0.50377785\n",
       "5 -0.08282120  2.09815186  0.85474654  2.46504016  0.50009459  0.15038468 -0.00785127\n",
       "6  0.27332403 -0.53057532  0.81333056 -0.13554998  0.24350457  0.59498146  0.00219279"
      ]
     },
     "execution_count": 74,
     "metadata": {},
     "output_type": "execute_result"
    }
   ],
   "source": [
    "dframe2"
   ]
  },
  {
   "cell_type": "code",
   "execution_count": 75,
   "metadata": {
    "collapsed": true
   },
   "outputs": [],
   "source": [
    "pd.reset_option('precision')"
   ]
  },
  {
   "cell_type": "code",
   "execution_count": 76,
   "metadata": {
    "collapsed": false
   },
   "outputs": [
    {
     "data": {
      "text/html": [
       "<div>\n",
       "<table border=\"1\" class=\"dataframe\">\n",
       "  <thead>\n",
       "    <tr style=\"text-align: right;\">\n",
       "      <th></th>\n",
       "      <th>0</th>\n",
       "      <th>1</th>\n",
       "      <th>2</th>\n",
       "      <th>3</th>\n",
       "      <th>4</th>\n",
       "      <th>5</th>\n",
       "      <th>6</th>\n",
       "    </tr>\n",
       "  </thead>\n",
       "  <tbody>\n",
       "    <tr>\n",
       "      <th>0</th>\n",
       "      <td>0.285763</td>\n",
       "      <td>0.845331</td>\n",
       "      <td>-1.010562</td>\n",
       "      <td>0.855794</td>\n",
       "      <td>-0.580935</td>\n",
       "      <td>-0.189157</td>\n",
       "      <td>-0.325058</td>\n",
       "    </tr>\n",
       "    <tr>\n",
       "      <th>1</th>\n",
       "      <td>-1.403006</td>\n",
       "      <td>-1.481937</td>\n",
       "      <td>-0.568078</td>\n",
       "      <td>0.660964</td>\n",
       "      <td>-0.369103</td>\n",
       "      <td>0.310172</td>\n",
       "      <td>-1.656225</td>\n",
       "    </tr>\n",
       "    <tr>\n",
       "      <th>2</th>\n",
       "      <td>2.252925</td>\n",
       "      <td>-0.534810</td>\n",
       "      <td>-1.271303</td>\n",
       "      <td>0.022841</td>\n",
       "      <td>1.035662</td>\n",
       "      <td>-0.356847</td>\n",
       "      <td>0.314561</td>\n",
       "    </tr>\n",
       "    <tr>\n",
       "      <th>3</th>\n",
       "      <td>-0.879445</td>\n",
       "      <td>0.734230</td>\n",
       "      <td>-0.387731</td>\n",
       "      <td>-0.663104</td>\n",
       "      <td>0.362134</td>\n",
       "      <td>0.630876</td>\n",
       "      <td>1.457765</td>\n",
       "    </tr>\n",
       "    <tr>\n",
       "      <th>4</th>\n",
       "      <td>-1.209173</td>\n",
       "      <td>-1.672084</td>\n",
       "      <td>-0.975520</td>\n",
       "      <td>-0.968337</td>\n",
       "      <td>-0.000919</td>\n",
       "      <td>-0.360207</td>\n",
       "      <td>0.503778</td>\n",
       "    </tr>\n",
       "    <tr>\n",
       "      <th>5</th>\n",
       "      <td>-0.082821</td>\n",
       "      <td>2.098152</td>\n",
       "      <td>0.854747</td>\n",
       "      <td>2.465040</td>\n",
       "      <td>0.500095</td>\n",
       "      <td>0.150385</td>\n",
       "      <td>-0.007851</td>\n",
       "    </tr>\n",
       "    <tr>\n",
       "      <th>6</th>\n",
       "      <td>0.273324</td>\n",
       "      <td>-0.530575</td>\n",
       "      <td>0.813331</td>\n",
       "      <td>-0.135550</td>\n",
       "      <td>0.243505</td>\n",
       "      <td>0.594981</td>\n",
       "      <td>0.002193</td>\n",
       "    </tr>\n",
       "  </tbody>\n",
       "</table>\n",
       "</div>"
      ],
      "text/plain": [
       "          0         1         2         3         4         5         6\n",
       "0  0.285763  0.845331 -1.010562  0.855794 -0.580935 -0.189157 -0.325058\n",
       "1 -1.403006 -1.481937 -0.568078  0.660964 -0.369103  0.310172 -1.656225\n",
       "2  2.252925 -0.534810 -1.271303  0.022841  1.035662 -0.356847  0.314561\n",
       "3 -0.879445  0.734230 -0.387731 -0.663104  0.362134  0.630876  1.457765\n",
       "4 -1.209173 -1.672084 -0.975520 -0.968337 -0.000919 -0.360207  0.503778\n",
       "5 -0.082821  2.098152  0.854747  2.465040  0.500095  0.150385 -0.007851\n",
       "6  0.273324 -0.530575  0.813331 -0.135550  0.243505  0.594981  0.002193"
      ]
     },
     "execution_count": 76,
     "metadata": {},
     "output_type": "execute_result"
    }
   ],
   "source": [
    "dframe2"
   ]
  },
  {
   "cell_type": "code",
   "execution_count": null,
   "metadata": {
    "collapsed": true
   },
   "outputs": [],
   "source": []
  },
  {
   "cell_type": "code",
   "execution_count": null,
   "metadata": {
    "collapsed": true
   },
   "outputs": [],
   "source": []
  },
  {
   "cell_type": "code",
   "execution_count": null,
   "metadata": {
    "collapsed": true
   },
   "outputs": [],
   "source": []
  },
  {
   "cell_type": "code",
   "execution_count": null,
   "metadata": {
    "collapsed": true
   },
   "outputs": [],
   "source": []
  },
  {
   "cell_type": "code",
   "execution_count": null,
   "metadata": {
    "collapsed": true
   },
   "outputs": [],
   "source": []
  }
 ],
 "metadata": {
  "kernelspec": {
   "display_name": "Python 2",
   "language": "python",
   "name": "python2"
  },
  "language_info": {
   "codemirror_mode": {
    "name": "ipython",
    "version": 2
   },
   "file_extension": ".py",
   "mimetype": "text/x-python",
   "name": "python",
   "nbconvert_exporter": "python",
   "pygments_lexer": "ipython2",
   "version": "2.7.12"
  }
 },
 "nbformat": 4,
 "nbformat_minor": 0
}
