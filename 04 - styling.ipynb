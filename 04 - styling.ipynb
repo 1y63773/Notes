{
 "cells": [
  {
   "cell_type": "markdown",
   "metadata": {},
   "source": [
    "<table style=\"float:left; border:none\">\n",
    "   <tr style=\"border:none\">\n",
    "       <td style=\"border:none\">\n",
    "           <a href=\"http://bokeh.pydata.org/\">     \n",
    "           <img \n",
    "               src=\"assets/images/bokeh-transparent.png\" \n",
    "               style=\"width:50px\"\n",
    "           >\n",
    "           </a>    \n",
    "       </td>\n",
    "       <td style=\"border:none\">\n",
    "           <h1>Bokeh Tutorial</h1>\n",
    "       </td>\n",
    "   </tr>\n",
    "</table>\n",
    "\n",
    "<div style=\"float:right;\"><h2>04. Styling Visual Attributes</h2></div>"
   ]
  },
  {
   "cell_type": "code",
   "execution_count": 1,
   "metadata": {
    "collapsed": false
   },
   "outputs": [],
   "source": [
    "from bokeh.io import output_notebook, show\n",
    "from bokeh.plotting import figure"
   ]
  },
  {
   "cell_type": "code",
   "execution_count": 2,
   "metadata": {
    "collapsed": false
   },
   "outputs": [
    {
     "data": {
      "text/html": [
       "\n",
       "    <div class=\"bk-root\">\n",
       "        <a href=\"http://bokeh.pydata.org\" target=\"_blank\" class=\"bk-logo bk-logo-small bk-logo-notebook\"></a>\n",
       "        <span id=\"a1500349-870c-40e3-83de-8c0a3f64e4d0\">Loading BokehJS ...</span>\n",
       "    </div>"
      ]
     },
     "metadata": {},
     "output_type": "display_data"
    },
    {
     "data": {
      "application/javascript": [
       "\n",
       "(function(global) {\n",
       "  function now() {\n",
       "    return new Date();\n",
       "  }\n",
       "\n",
       "  var force = \"1\";\n",
       "\n",
       "  if (typeof (window._bokeh_onload_callbacks) === \"undefined\" || force !== \"\") {\n",
       "    window._bokeh_onload_callbacks = [];\n",
       "    window._bokeh_is_loading = undefined;\n",
       "  }\n",
       "\n",
       "  function run_callbacks() {\n",
       "    window._bokeh_onload_callbacks.forEach(function(callback) { callback() });\n",
       "    delete window._bokeh_onload_callbacks\n",
       "    console.info(\"Bokeh: all callbacks have finished\");\n",
       "  }\n",
       "\n",
       "  function load_libs(js_urls, callback) {\n",
       "    window._bokeh_onload_callbacks.push(callback);\n",
       "    if (window._bokeh_is_loading > 0) {\n",
       "      console.log(\"Bokeh: BokehJS is being loaded, scheduling callback at\", now());\n",
       "      return null;\n",
       "    }\n",
       "    if (js_urls == null || js_urls.length === 0) {\n",
       "      run_callbacks();\n",
       "      return null;\n",
       "    }\n",
       "    console.log(\"Bokeh: BokehJS not loaded, scheduling load and callback at\", now());\n",
       "    window._bokeh_is_loading = js_urls.length;\n",
       "    for (var i = 0; i < js_urls.length; i++) {\n",
       "      var url = js_urls[i];\n",
       "      var s = document.createElement('script');\n",
       "      s.src = url;\n",
       "      s.async = false;\n",
       "      s.onreadystatechange = s.onload = function() {\n",
       "        window._bokeh_is_loading--;\n",
       "        if (window._bokeh_is_loading === 0) {\n",
       "          console.log(\"Bokeh: all BokehJS libraries loaded\");\n",
       "          run_callbacks()\n",
       "        }\n",
       "      };\n",
       "      s.onerror = function() {\n",
       "        console.warn(\"failed to load library \" + url);\n",
       "      };\n",
       "      console.log(\"Bokeh: injecting script tag for BokehJS library: \", url);\n",
       "      document.getElementsByTagName(\"head\")[0].appendChild(s);\n",
       "    }\n",
       "  };\n",
       "\n",
       "  var js_urls = ['https://cdn.pydata.org/bokeh/release/bokeh-0.12.1.min.js', 'https://cdn.pydata.org/bokeh/release/bokeh-widgets-0.12.1.min.js', 'https://cdn.pydata.org/bokeh/release/bokeh-compiler-0.12.1.min.js'];\n",
       "\n",
       "  var inline_js = [\n",
       "    function(Bokeh) {\n",
       "      Bokeh.set_log_level(\"info\");\n",
       "    },\n",
       "    \n",
       "    function(Bokeh) {\n",
       "      \n",
       "      Bokeh.$(\"#a1500349-870c-40e3-83de-8c0a3f64e4d0\").text(\"BokehJS successfully loaded\");\n",
       "      var kernel = Jupyter.notebook.kernel\n",
       "      if (kernel.execute !== undefined) {\n",
       "          kernel.execute(\"import bokeh.io; bokeh.io._nb_loaded = True\");\n",
       "      }\n",
       "    },\n",
       "    function(Bokeh) {\n",
       "      console.log(\"Bokeh: injecting CSS: https://cdn.pydata.org/bokeh/release/bokeh-0.12.1.min.css\");\n",
       "      Bokeh.embed.inject_css(\"https://cdn.pydata.org/bokeh/release/bokeh-0.12.1.min.css\");\n",
       "      console.log(\"Bokeh: injecting CSS: https://cdn.pydata.org/bokeh/release/bokeh-widgets-0.12.1.min.css\");\n",
       "      Bokeh.embed.inject_css(\"https://cdn.pydata.org/bokeh/release/bokeh-widgets-0.12.1.min.css\");\n",
       "    }\n",
       "  ];\n",
       "\n",
       "  function run_inline_js() {\n",
       "    for (var i = 0; i < inline_js.length; i++) {\n",
       "      inline_js[i](window.Bokeh);\n",
       "    }\n",
       "  }\n",
       "\n",
       "  if (window._bokeh_is_loading === 0) {\n",
       "    console.log(\"Bokeh: BokehJS loaded, going straight to plotting\");\n",
       "    run_inline_js();\n",
       "  } else {\n",
       "    load_libs(js_urls, function() {\n",
       "      console.log(\"Bokeh: BokehJS plotting callback run at\", now());\n",
       "      run_inline_js();\n",
       "    });\n",
       "  }\n",
       "}(this));"
      ]
     },
     "metadata": {},
     "output_type": "display_data"
    }
   ],
   "source": [
    "output_notebook()"
   ]
  },
  {
   "cell_type": "markdown",
   "metadata": {},
   "source": [
    "# Colors and Properties"
   ]
  },
  {
   "cell_type": "markdown",
   "metadata": {},
   "source": [
    "## Colors\n",
    "\n",
    "There are many places where you may need to specify colors. Bokeh can accept colors in a variety of different ways:\n",
    "\n",
    "* any of the [147 named CSS colors](http://www.w3schools.com/cssref/css_colornames.asp), e.g ``'green'``, ``'indigo'``\n",
    "* an RGB(A) hex value, e.g., ``'#FF0000'``, ``'#44444444'``\n",
    "* a 3-tuple of integers *(r,g,b)* between 0 and 255\n",
    "*  a 4-tuple of *(r,g,b,a)* where *r*, *g*, *b* are integers between 0 and 255 and *a* is a floating point value between 0 and 1\n",
    "\n"
   ]
  },
  {
   "cell_type": "markdown",
   "metadata": {
    "collapsed": true
   },
   "source": [
    "## Properties\n",
    "\n",
    "Regardless of what API (``models``, ``plotting``, or ``charts``) is used to create a Bokeh plot, styling the visual aspects of the plot can always be accomplished by setting attributes on the Bokeh model objects that comprise the resulting plot. Visual properties come in three kinds: line, fill, and text properties. For full information with code and examples see the [Styling Visual Properties](http://bokeh.pydata.org/en/latest/docs/user_guide/styling.html) section of the user guide. \n",
    "\n",
    "----\n",
    "\n",
    "### Line Properties\n",
    "\n",
    "Set the visual appearance of lines. The most common are ``line_color``, ``line_alpha``, ``line_width`` and ``line_dash``.\n",
    "\n",
    "### Fill Properties\n",
    "\n",
    "Set the visual appearance of filled areas: ``fill_color`` and ``fill_alpha``.\n",
    "\n",
    "### Text Properties\n",
    "\n",
    "Set the visual appearance of lines of text. The most common are ``text_font``, ``text_font_size``, ``text_color``, and ``text_alpha``.\n",
    "\n",
    "----\n",
    "\n",
    "Sometimes a prefix is used with property names, e.g. to distinguish between different line properties on the same object, or to give a more meaningful name. For example, to set the line width of the plot outline, you would say ``myplot.outline_line_width = 2``. "
   ]
  },
  {
   "cell_type": "markdown",
   "metadata": {},
   "source": [
    "# Plots\n",
    "\n",
    "Many top-level attributes of plots (outline, border, etc.) can be configured. See the [Plots](http://bokeh.pydata.org/en/latest/docs/user_guide/styling.html#plots) section of the styling guide for full information. \n",
    "\n",
    "Here is an example that tweaks the plot outline:"
   ]
  },
  {
   "cell_type": "code",
   "execution_count": 3,
   "metadata": {
    "collapsed": false,
    "scrolled": false
   },
   "outputs": [
    {
     "data": {
      "text/html": [
       "\n",
       "\n",
       "    <div class=\"bk-root\">\n",
       "        <div class=\"plotdiv\" id=\"35a20eb9-60b8-4626-ba18-ad11413d80a8\"></div>\n",
       "    </div>\n",
       "<script type=\"text/javascript\">\n",
       "  \n",
       "  (function(global) {\n",
       "    function now() {\n",
       "      return new Date();\n",
       "    }\n",
       "  \n",
       "    var force = \"\";\n",
       "  \n",
       "    if (typeof (window._bokeh_onload_callbacks) === \"undefined\" || force !== \"\") {\n",
       "      window._bokeh_onload_callbacks = [];\n",
       "      window._bokeh_is_loading = undefined;\n",
       "    }\n",
       "  \n",
       "    function run_callbacks() {\n",
       "      window._bokeh_onload_callbacks.forEach(function(callback) { callback() });\n",
       "      delete window._bokeh_onload_callbacks\n",
       "      console.info(\"Bokeh: all callbacks have finished\");\n",
       "    }\n",
       "  \n",
       "    function load_libs(js_urls, callback) {\n",
       "      window._bokeh_onload_callbacks.push(callback);\n",
       "      if (window._bokeh_is_loading > 0) {\n",
       "        console.log(\"Bokeh: BokehJS is being loaded, scheduling callback at\", now());\n",
       "        return null;\n",
       "      }\n",
       "      if (js_urls == null || js_urls.length === 0) {\n",
       "        run_callbacks();\n",
       "        return null;\n",
       "      }\n",
       "      console.log(\"Bokeh: BokehJS not loaded, scheduling load and callback at\", now());\n",
       "      window._bokeh_is_loading = js_urls.length;\n",
       "      for (var i = 0; i < js_urls.length; i++) {\n",
       "        var url = js_urls[i];\n",
       "        var s = document.createElement('script');\n",
       "        s.src = url;\n",
       "        s.async = false;\n",
       "        s.onreadystatechange = s.onload = function() {\n",
       "          window._bokeh_is_loading--;\n",
       "          if (window._bokeh_is_loading === 0) {\n",
       "            console.log(\"Bokeh: all BokehJS libraries loaded\");\n",
       "            run_callbacks()\n",
       "          }\n",
       "        };\n",
       "        s.onerror = function() {\n",
       "          console.warn(\"failed to load library \" + url);\n",
       "        };\n",
       "        console.log(\"Bokeh: injecting script tag for BokehJS library: \", url);\n",
       "        document.getElementsByTagName(\"head\")[0].appendChild(s);\n",
       "      }\n",
       "    };var element = document.getElementById(\"35a20eb9-60b8-4626-ba18-ad11413d80a8\");\n",
       "    if (element == null) {\n",
       "      console.log(\"Bokeh: ERROR: autoload.js configured with elementid '35a20eb9-60b8-4626-ba18-ad11413d80a8' but no matching script tag was found. \")\n",
       "      return false;\n",
       "    }\n",
       "  \n",
       "    var js_urls = [];\n",
       "  \n",
       "    var inline_js = [\n",
       "      function(Bokeh) {\n",
       "        Bokeh.$(function() {\n",
       "            var docs_json = {\"e6973b1a-4499-4c64-9c26-f8a5b33e091e\":{\"roots\":{\"references\":[{\"attributes\":{\"overlay\":{\"id\":\"f552b72b-66f5-4ee3-8d03-99db2f393907\",\"type\":\"BoxAnnotation\"},\"plot\":{\"id\":\"494412f6-a4d9-4283-aef6-7c1e38f1a723\",\"subtype\":\"Figure\",\"type\":\"Plot\"}},\"id\":\"7842ff94-4e98-4567-8ff7-f4085b5d2cad\",\"type\":\"BoxZoomTool\"},{\"attributes\":{\"data_source\":{\"id\":\"6274a8b3-6368-4fc4-8932-c580f55395d7\",\"type\":\"ColumnDataSource\"},\"glyph\":{\"id\":\"b60d0192-26cd-407d-aed9-0a39aec08ffb\",\"type\":\"Circle\"},\"hover_glyph\":null,\"nonselection_glyph\":{\"id\":\"869724f7-9683-407e-979c-fd337d7f23a2\",\"type\":\"Circle\"},\"selection_glyph\":null},\"id\":\"112d8d05-8dfb-4325-a5a2-22dc78de9af4\",\"type\":\"GlyphRenderer\"},{\"attributes\":{\"dimension\":1,\"plot\":{\"id\":\"494412f6-a4d9-4283-aef6-7c1e38f1a723\",\"subtype\":\"Figure\",\"type\":\"Plot\"},\"ticker\":{\"id\":\"71abe0ee-1f59-4860-8548-d88d18e49261\",\"type\":\"BasicTicker\"}},\"id\":\"92ce143a-1ad7-4e1a-8677-f2cb7e99a022\",\"type\":\"Grid\"},{\"attributes\":{\"bottom_units\":\"screen\",\"fill_alpha\":{\"value\":0.5},\"fill_color\":{\"value\":\"lightgrey\"},\"left_units\":\"screen\",\"level\":\"overlay\",\"line_alpha\":{\"value\":1.0},\"line_color\":{\"value\":\"black\"},\"line_dash\":[4,4],\"line_width\":{\"value\":2},\"plot\":null,\"render_mode\":\"css\",\"right_units\":\"screen\",\"top_units\":\"screen\"},\"id\":\"f552b72b-66f5-4ee3-8d03-99db2f393907\",\"type\":\"BoxAnnotation\"},{\"attributes\":{\"plot\":{\"id\":\"494412f6-a4d9-4283-aef6-7c1e38f1a723\",\"subtype\":\"Figure\",\"type\":\"Plot\"}},\"id\":\"ca7ba19d-e0e7-4ec8-9919-897bb6eb2522\",\"type\":\"ResetTool\"},{\"attributes\":{},\"id\":\"a38b2145-1fea-41af-aba5-dfe7248441c3\",\"type\":\"ToolEvents\"},{\"attributes\":{\"formatter\":{\"id\":\"44d2ca61-15f7-40f1-8348-141cd00dce52\",\"type\":\"BasicTickFormatter\"},\"plot\":{\"id\":\"494412f6-a4d9-4283-aef6-7c1e38f1a723\",\"subtype\":\"Figure\",\"type\":\"Plot\"},\"ticker\":{\"id\":\"71abe0ee-1f59-4860-8548-d88d18e49261\",\"type\":\"BasicTicker\"}},\"id\":\"f224474a-1061-447a-8e07-9cf5ffb6bd68\",\"type\":\"LinearAxis\"},{\"attributes\":{\"plot\":{\"id\":\"494412f6-a4d9-4283-aef6-7c1e38f1a723\",\"subtype\":\"Figure\",\"type\":\"Plot\"}},\"id\":\"67f7a258-01e6-41f0-99d3-e88ba583ff24\",\"type\":\"WheelZoomTool\"},{\"attributes\":{},\"id\":\"9b2bc786-1d45-461d-9367-2d07221e3c1f\",\"type\":\"BasicTicker\"},{\"attributes\":{},\"id\":\"44d2ca61-15f7-40f1-8348-141cd00dce52\",\"type\":\"BasicTickFormatter\"},{\"attributes\":{\"callback\":null},\"id\":\"707e8d2b-0bff-44f6-92d5-cda89e36c2dc\",\"type\":\"DataRange1d\"},{\"attributes\":{\"plot\":{\"id\":\"494412f6-a4d9-4283-aef6-7c1e38f1a723\",\"subtype\":\"Figure\",\"type\":\"Plot\"}},\"id\":\"bd4fcf33-b160-47a3-b296-44c028b04365\",\"type\":\"HelpTool\"},{\"attributes\":{\"plot\":null,\"text\":null},\"id\":\"ce0299da-e988-44e5-b507-929a0e2f8012\",\"type\":\"Title\"},{\"attributes\":{},\"id\":\"35035362-9802-4b65-b7e9-64224db76fca\",\"type\":\"BasicTickFormatter\"},{\"attributes\":{\"callback\":null},\"id\":\"22160e65-7172-47ef-8194-e33e5707066a\",\"type\":\"DataRange1d\"},{\"attributes\":{\"plot\":{\"id\":\"494412f6-a4d9-4283-aef6-7c1e38f1a723\",\"subtype\":\"Figure\",\"type\":\"Plot\"},\"ticker\":{\"id\":\"9b2bc786-1d45-461d-9367-2d07221e3c1f\",\"type\":\"BasicTicker\"}},\"id\":\"cd0771c5-7b7d-48eb-9d2e-2aa4017da1bc\",\"type\":\"Grid\"},{\"attributes\":{\"plot\":{\"id\":\"494412f6-a4d9-4283-aef6-7c1e38f1a723\",\"subtype\":\"Figure\",\"type\":\"Plot\"}},\"id\":\"7e111a2d-6a75-4945-9426-91aec2178970\",\"type\":\"PanTool\"},{\"attributes\":{\"plot\":{\"id\":\"494412f6-a4d9-4283-aef6-7c1e38f1a723\",\"subtype\":\"Figure\",\"type\":\"Plot\"}},\"id\":\"409165e1-9584-4814-8b49-dfda3cdd9e69\",\"type\":\"SaveTool\"},{\"attributes\":{\"formatter\":{\"id\":\"35035362-9802-4b65-b7e9-64224db76fca\",\"type\":\"BasicTickFormatter\"},\"plot\":{\"id\":\"494412f6-a4d9-4283-aef6-7c1e38f1a723\",\"subtype\":\"Figure\",\"type\":\"Plot\"},\"ticker\":{\"id\":\"9b2bc786-1d45-461d-9367-2d07221e3c1f\",\"type\":\"BasicTicker\"}},\"id\":\"532f1344-9e92-4ab7-9a0a-48d069cb1fe9\",\"type\":\"LinearAxis\"},{\"attributes\":{\"fill_alpha\":{\"value\":0.1},\"fill_color\":{\"value\":\"#1f77b4\"},\"line_alpha\":{\"value\":0.1},\"line_color\":{\"value\":\"#1f77b4\"},\"size\":{\"units\":\"screen\",\"value\":10},\"x\":{\"field\":\"x\"},\"y\":{\"field\":\"y\"}},\"id\":\"869724f7-9683-407e-979c-fd337d7f23a2\",\"type\":\"Circle\"},{\"attributes\":{},\"id\":\"71abe0ee-1f59-4860-8548-d88d18e49261\",\"type\":\"BasicTicker\"},{\"attributes\":{\"fill_color\":{\"value\":\"#1f77b4\"},\"line_color\":{\"value\":\"#1f77b4\"},\"size\":{\"units\":\"screen\",\"value\":10},\"x\":{\"field\":\"x\"},\"y\":{\"field\":\"y\"}},\"id\":\"b60d0192-26cd-407d-aed9-0a39aec08ffb\",\"type\":\"Circle\"},{\"attributes\":{\"active_drag\":\"auto\",\"active_scroll\":\"auto\",\"active_tap\":\"auto\",\"tools\":[{\"id\":\"7e111a2d-6a75-4945-9426-91aec2178970\",\"type\":\"PanTool\"},{\"id\":\"67f7a258-01e6-41f0-99d3-e88ba583ff24\",\"type\":\"WheelZoomTool\"},{\"id\":\"7842ff94-4e98-4567-8ff7-f4085b5d2cad\",\"type\":\"BoxZoomTool\"},{\"id\":\"409165e1-9584-4814-8b49-dfda3cdd9e69\",\"type\":\"SaveTool\"},{\"id\":\"ca7ba19d-e0e7-4ec8-9919-897bb6eb2522\",\"type\":\"ResetTool\"},{\"id\":\"bd4fcf33-b160-47a3-b296-44c028b04365\",\"type\":\"HelpTool\"}]},\"id\":\"ce897282-7027-41fb-a521-7ef4ed4706a0\",\"type\":\"Toolbar\"},{\"attributes\":{\"below\":[{\"id\":\"532f1344-9e92-4ab7-9a0a-48d069cb1fe9\",\"type\":\"LinearAxis\"}],\"left\":[{\"id\":\"f224474a-1061-447a-8e07-9cf5ffb6bd68\",\"type\":\"LinearAxis\"}],\"outline_line_alpha\":{\"value\":0.3},\"outline_line_color\":{\"value\":\"navy\"},\"outline_line_width\":{\"value\":7},\"plot_height\":400,\"plot_width\":400,\"renderers\":[{\"id\":\"532f1344-9e92-4ab7-9a0a-48d069cb1fe9\",\"type\":\"LinearAxis\"},{\"id\":\"cd0771c5-7b7d-48eb-9d2e-2aa4017da1bc\",\"type\":\"Grid\"},{\"id\":\"f224474a-1061-447a-8e07-9cf5ffb6bd68\",\"type\":\"LinearAxis\"},{\"id\":\"92ce143a-1ad7-4e1a-8677-f2cb7e99a022\",\"type\":\"Grid\"},{\"id\":\"f552b72b-66f5-4ee3-8d03-99db2f393907\",\"type\":\"BoxAnnotation\"},{\"id\":\"112d8d05-8dfb-4325-a5a2-22dc78de9af4\",\"type\":\"GlyphRenderer\"}],\"title\":{\"id\":\"ce0299da-e988-44e5-b507-929a0e2f8012\",\"type\":\"Title\"},\"tool_events\":{\"id\":\"a38b2145-1fea-41af-aba5-dfe7248441c3\",\"type\":\"ToolEvents\"},\"toolbar\":{\"id\":\"ce897282-7027-41fb-a521-7ef4ed4706a0\",\"type\":\"Toolbar\"},\"x_range\":{\"id\":\"707e8d2b-0bff-44f6-92d5-cda89e36c2dc\",\"type\":\"DataRange1d\"},\"y_range\":{\"id\":\"22160e65-7172-47ef-8194-e33e5707066a\",\"type\":\"DataRange1d\"}},\"id\":\"494412f6-a4d9-4283-aef6-7c1e38f1a723\",\"subtype\":\"Figure\",\"type\":\"Plot\"},{\"attributes\":{\"callback\":null,\"column_names\":[\"y\",\"x\"],\"data\":{\"x\":[1,2,3,4,5],\"y\":[2,5,8,2,7]}},\"id\":\"6274a8b3-6368-4fc4-8932-c580f55395d7\",\"type\":\"ColumnDataSource\"}],\"root_ids\":[\"494412f6-a4d9-4283-aef6-7c1e38f1a723\"]},\"title\":\"Bokeh Application\",\"version\":\"0.12.1\"}};\n",
       "            var render_items = [{\"docid\":\"e6973b1a-4499-4c64-9c26-f8a5b33e091e\",\"elementid\":\"35a20eb9-60b8-4626-ba18-ad11413d80a8\",\"modelid\":\"494412f6-a4d9-4283-aef6-7c1e38f1a723\",\"notebook_comms_target\":\"ee18a525-86bd-4cad-b0ef-f2d9a8218aa3\"}];\n",
       "            \n",
       "            Bokeh.embed.embed_items(docs_json, render_items);\n",
       "        });\n",
       "      },\n",
       "      function(Bokeh) {\n",
       "      }\n",
       "    ];\n",
       "  \n",
       "    function run_inline_js() {\n",
       "      for (var i = 0; i < inline_js.length; i++) {\n",
       "        inline_js[i](window.Bokeh);\n",
       "      }\n",
       "    }\n",
       "  \n",
       "    if (window._bokeh_is_loading === 0) {\n",
       "      console.log(\"Bokeh: BokehJS loaded, going straight to plotting\");\n",
       "      run_inline_js();\n",
       "    } else {\n",
       "      load_libs(js_urls, function() {\n",
       "        console.log(\"Bokeh: BokehJS plotting callback run at\", now());\n",
       "        run_inline_js();\n",
       "      });\n",
       "    }\n",
       "  }(this));\n",
       "</script>"
      ]
     },
     "metadata": {},
     "output_type": "display_data"
    },
    {
     "data": {
      "text/html": [
       "<p><code>&lt;Bokeh Notebook handle for <strong>In[3]</strong>&gt;</code></p>"
      ],
      "text/plain": [
       "<bokeh.io._CommsHandle at 0x11352c450>"
      ]
     },
     "execution_count": 3,
     "metadata": {},
     "output_type": "execute_result"
    }
   ],
   "source": [
    "# create a new plot with a title\n",
    "p = figure(plot_width=400, plot_height=400)\n",
    "p.outline_line_width = 7\n",
    "p.outline_line_alpha = 0.3\n",
    "p.outline_line_color = \"navy\"\n",
    "\n",
    "p.circle([1,2,3,4,5], [2,5,8,2,7], size=10)\n",
    "\n",
    "show(p)"
   ]
  },
  {
   "cell_type": "code",
   "execution_count": 4,
   "metadata": {
    "collapsed": true
   },
   "outputs": [],
   "source": [
    "# EXERCISE Create a plot of your own and customize several plot-level properties\n",
    "\n"
   ]
  },
  {
   "cell_type": "markdown",
   "metadata": {},
   "source": [
    "# Glyphs\n",
    "\n",
    "It's also possible to style the visual properties of glyphs. When using `bokeh.plotting` this is often done when calling the glyph methods:\n",
    "```python\n",
    "p.circle(line_color=\"red\", fill_alpha=0.2, ...)\n",
    "```\n",
    "But it is also possible to set these properties directly on glyph objects. Glyph objects are found on `GlyphRenderer` objects, which are returned by the `Plot.add_glyph` and `bokeh.plotting` glyph methods like `circle`, `rect`, etc. Let's look at an example:"
   ]
  },
  {
   "cell_type": "code",
   "execution_count": 4,
   "metadata": {
    "collapsed": false
   },
   "outputs": [
    {
     "data": {
      "text/html": [
       "\n",
       "\n",
       "    <div class=\"bk-root\">\n",
       "        <div class=\"plotdiv\" id=\"26f596b4-7c38-4da2-bf27-0eadff549320\"></div>\n",
       "    </div>\n",
       "<script type=\"text/javascript\">\n",
       "  \n",
       "  (function(global) {\n",
       "    function now() {\n",
       "      return new Date();\n",
       "    }\n",
       "  \n",
       "    var force = \"\";\n",
       "  \n",
       "    if (typeof (window._bokeh_onload_callbacks) === \"undefined\" || force !== \"\") {\n",
       "      window._bokeh_onload_callbacks = [];\n",
       "      window._bokeh_is_loading = undefined;\n",
       "    }\n",
       "  \n",
       "    function run_callbacks() {\n",
       "      window._bokeh_onload_callbacks.forEach(function(callback) { callback() });\n",
       "      delete window._bokeh_onload_callbacks\n",
       "      console.info(\"Bokeh: all callbacks have finished\");\n",
       "    }\n",
       "  \n",
       "    function load_libs(js_urls, callback) {\n",
       "      window._bokeh_onload_callbacks.push(callback);\n",
       "      if (window._bokeh_is_loading > 0) {\n",
       "        console.log(\"Bokeh: BokehJS is being loaded, scheduling callback at\", now());\n",
       "        return null;\n",
       "      }\n",
       "      if (js_urls == null || js_urls.length === 0) {\n",
       "        run_callbacks();\n",
       "        return null;\n",
       "      }\n",
       "      console.log(\"Bokeh: BokehJS not loaded, scheduling load and callback at\", now());\n",
       "      window._bokeh_is_loading = js_urls.length;\n",
       "      for (var i = 0; i < js_urls.length; i++) {\n",
       "        var url = js_urls[i];\n",
       "        var s = document.createElement('script');\n",
       "        s.src = url;\n",
       "        s.async = false;\n",
       "        s.onreadystatechange = s.onload = function() {\n",
       "          window._bokeh_is_loading--;\n",
       "          if (window._bokeh_is_loading === 0) {\n",
       "            console.log(\"Bokeh: all BokehJS libraries loaded\");\n",
       "            run_callbacks()\n",
       "          }\n",
       "        };\n",
       "        s.onerror = function() {\n",
       "          console.warn(\"failed to load library \" + url);\n",
       "        };\n",
       "        console.log(\"Bokeh: injecting script tag for BokehJS library: \", url);\n",
       "        document.getElementsByTagName(\"head\")[0].appendChild(s);\n",
       "      }\n",
       "    };var element = document.getElementById(\"26f596b4-7c38-4da2-bf27-0eadff549320\");\n",
       "    if (element == null) {\n",
       "      console.log(\"Bokeh: ERROR: autoload.js configured with elementid '26f596b4-7c38-4da2-bf27-0eadff549320' but no matching script tag was found. \")\n",
       "      return false;\n",
       "    }\n",
       "  \n",
       "    var js_urls = [];\n",
       "  \n",
       "    var inline_js = [\n",
       "      function(Bokeh) {\n",
       "        Bokeh.$(function() {\n",
       "            var docs_json = {\"5ef85a0d-3171-43f2-8dc2-467abd952dde\":{\"roots\":{\"references\":[{\"attributes\":{\"callback\":null,\"column_names\":[\"y\",\"x\"],\"data\":{\"x\":[1,2,3,4,5],\"y\":[2,5,8,2,7]}},\"id\":\"48e7ec4e-35ec-4c59-bd56-8cc13570d6b7\",\"type\":\"ColumnDataSource\"},{\"attributes\":{\"plot\":{\"id\":\"c1909503-3b13-4ae4-a9fc-0d2f8c915361\",\"subtype\":\"Figure\",\"type\":\"Plot\"}},\"id\":\"5d45f63e-111f-4079-a1de-ed1ec00209da\",\"type\":\"ResetTool\"},{\"attributes\":{\"callback\":null},\"id\":\"a4868094-1488-4210-be4c-ac819c5862e1\",\"type\":\"DataRange1d\"},{\"attributes\":{\"plot\":{\"id\":\"c1909503-3b13-4ae4-a9fc-0d2f8c915361\",\"subtype\":\"Figure\",\"type\":\"Plot\"}},\"id\":\"4cd05275-b9f0-4023-86a4-301786317ed9\",\"type\":\"HelpTool\"},{\"attributes\":{\"fill_alpha\":{\"value\":0.1},\"fill_color\":{\"value\":\"#1f77b4\"},\"line_alpha\":{\"value\":0.1},\"line_color\":{\"value\":\"#1f77b4\"},\"x\":{\"field\":\"x\"},\"y\":{\"field\":\"y\"}},\"id\":\"955951d7-3ba5-4717-88b3-bf8786e7f074\",\"type\":\"Circle\"},{\"attributes\":{\"below\":[{\"id\":\"7043dae8-24e2-4e72-b0fd-f00651d26cb0\",\"type\":\"LinearAxis\"}],\"left\":[{\"id\":\"1b46a469-39a7-4050-95b3-59d41022f1ce\",\"type\":\"LinearAxis\"}],\"plot_height\":400,\"plot_width\":400,\"renderers\":[{\"id\":\"7043dae8-24e2-4e72-b0fd-f00651d26cb0\",\"type\":\"LinearAxis\"},{\"id\":\"205f29ae-51c3-4dcd-8a65-15c05c67297f\",\"type\":\"Grid\"},{\"id\":\"1b46a469-39a7-4050-95b3-59d41022f1ce\",\"type\":\"LinearAxis\"},{\"id\":\"e834a3a6-1a0a-4756-9184-3b722297e39e\",\"type\":\"Grid\"},{\"id\":\"9f14c120-caf6-4b98-b0ce-5a3c0b0a5753\",\"type\":\"BoxAnnotation\"},{\"id\":\"f20268ca-d895-40d2-92e0-10c5d09cdb5b\",\"type\":\"GlyphRenderer\"}],\"title\":{\"id\":\"42a66aeb-0a0e-42d2-a2f3-497f17ea6ffa\",\"type\":\"Title\"},\"tool_events\":{\"id\":\"84d23f33-dbc7-4892-b11b-26ccd2fba0b6\",\"type\":\"ToolEvents\"},\"toolbar\":{\"id\":\"5767639e-1e27-4ee5-a73c-83f2e4c677cd\",\"type\":\"Toolbar\"},\"x_range\":{\"id\":\"a4868094-1488-4210-be4c-ac819c5862e1\",\"type\":\"DataRange1d\"},\"y_range\":{\"id\":\"12e8d877-7e41-4d2b-890c-eafeaaf5f756\",\"type\":\"DataRange1d\"}},\"id\":\"c1909503-3b13-4ae4-a9fc-0d2f8c915361\",\"subtype\":\"Figure\",\"type\":\"Plot\"},{\"attributes\":{\"formatter\":{\"id\":\"b149bec4-fd25-496d-91c3-6479fc544b39\",\"type\":\"BasicTickFormatter\"},\"plot\":{\"id\":\"c1909503-3b13-4ae4-a9fc-0d2f8c915361\",\"subtype\":\"Figure\",\"type\":\"Plot\"},\"ticker\":{\"id\":\"0db31c03-a9c1-4aae-95be-46929b1b65f8\",\"type\":\"BasicTicker\"}},\"id\":\"7043dae8-24e2-4e72-b0fd-f00651d26cb0\",\"type\":\"LinearAxis\"},{\"attributes\":{\"dimension\":1,\"plot\":{\"id\":\"c1909503-3b13-4ae4-a9fc-0d2f8c915361\",\"subtype\":\"Figure\",\"type\":\"Plot\"},\"ticker\":{\"id\":\"56933126-2db1-4f98-9241-c34d597653c9\",\"type\":\"BasicTicker\"}},\"id\":\"e834a3a6-1a0a-4756-9184-3b722297e39e\",\"type\":\"Grid\"},{\"attributes\":{\"fill_alpha\":{\"value\":0.2},\"fill_color\":{\"value\":\"#1f77b4\"},\"line_color\":{\"value\":\"firebrick\"},\"line_dash\":[5,1],\"line_width\":{\"value\":2},\"size\":{\"units\":\"screen\",\"value\":50},\"x\":{\"field\":\"x\"},\"y\":{\"field\":\"y\"}},\"id\":\"626f508c-1535-407b-872d-823df496afa8\",\"type\":\"Circle\"},{\"attributes\":{\"active_drag\":\"auto\",\"active_scroll\":\"auto\",\"active_tap\":\"auto\",\"tools\":[{\"id\":\"c2589dbc-7c9f-4aaa-adc4-e27b7c0cb652\",\"type\":\"PanTool\"},{\"id\":\"76ea896e-aad4-436b-9b03-7868729afa15\",\"type\":\"WheelZoomTool\"},{\"id\":\"87136411-c337-42fd-b305-dfd042840951\",\"type\":\"BoxZoomTool\"},{\"id\":\"3d1f099a-715f-4798-97a9-b767ad0192a1\",\"type\":\"SaveTool\"},{\"id\":\"5d45f63e-111f-4079-a1de-ed1ec00209da\",\"type\":\"ResetTool\"},{\"id\":\"4cd05275-b9f0-4023-86a4-301786317ed9\",\"type\":\"HelpTool\"}]},\"id\":\"5767639e-1e27-4ee5-a73c-83f2e4c677cd\",\"type\":\"Toolbar\"},{\"attributes\":{\"plot\":null,\"text\":null},\"id\":\"42a66aeb-0a0e-42d2-a2f3-497f17ea6ffa\",\"type\":\"Title\"},{\"attributes\":{},\"id\":\"b4d33a90-0295-43c1-9ab7-0e6299263982\",\"type\":\"BasicTickFormatter\"},{\"attributes\":{},\"id\":\"84d23f33-dbc7-4892-b11b-26ccd2fba0b6\",\"type\":\"ToolEvents\"},{\"attributes\":{\"plot\":{\"id\":\"c1909503-3b13-4ae4-a9fc-0d2f8c915361\",\"subtype\":\"Figure\",\"type\":\"Plot\"}},\"id\":\"76ea896e-aad4-436b-9b03-7868729afa15\",\"type\":\"WheelZoomTool\"},{\"attributes\":{\"formatter\":{\"id\":\"b4d33a90-0295-43c1-9ab7-0e6299263982\",\"type\":\"BasicTickFormatter\"},\"plot\":{\"id\":\"c1909503-3b13-4ae4-a9fc-0d2f8c915361\",\"subtype\":\"Figure\",\"type\":\"Plot\"},\"ticker\":{\"id\":\"56933126-2db1-4f98-9241-c34d597653c9\",\"type\":\"BasicTicker\"}},\"id\":\"1b46a469-39a7-4050-95b3-59d41022f1ce\",\"type\":\"LinearAxis\"},{\"attributes\":{\"callback\":null},\"id\":\"12e8d877-7e41-4d2b-890c-eafeaaf5f756\",\"type\":\"DataRange1d\"},{\"attributes\":{},\"id\":\"0db31c03-a9c1-4aae-95be-46929b1b65f8\",\"type\":\"BasicTicker\"},{\"attributes\":{\"plot\":{\"id\":\"c1909503-3b13-4ae4-a9fc-0d2f8c915361\",\"subtype\":\"Figure\",\"type\":\"Plot\"}},\"id\":\"c2589dbc-7c9f-4aaa-adc4-e27b7c0cb652\",\"type\":\"PanTool\"},{\"attributes\":{},\"id\":\"b149bec4-fd25-496d-91c3-6479fc544b39\",\"type\":\"BasicTickFormatter\"},{\"attributes\":{\"overlay\":{\"id\":\"9f14c120-caf6-4b98-b0ce-5a3c0b0a5753\",\"type\":\"BoxAnnotation\"},\"plot\":{\"id\":\"c1909503-3b13-4ae4-a9fc-0d2f8c915361\",\"subtype\":\"Figure\",\"type\":\"Plot\"}},\"id\":\"87136411-c337-42fd-b305-dfd042840951\",\"type\":\"BoxZoomTool\"},{\"attributes\":{\"plot\":{\"id\":\"c1909503-3b13-4ae4-a9fc-0d2f8c915361\",\"subtype\":\"Figure\",\"type\":\"Plot\"}},\"id\":\"3d1f099a-715f-4798-97a9-b767ad0192a1\",\"type\":\"SaveTool\"},{\"attributes\":{\"bottom_units\":\"screen\",\"fill_alpha\":{\"value\":0.5},\"fill_color\":{\"value\":\"lightgrey\"},\"left_units\":\"screen\",\"level\":\"overlay\",\"line_alpha\":{\"value\":1.0},\"line_color\":{\"value\":\"black\"},\"line_dash\":[4,4],\"line_width\":{\"value\":2},\"plot\":null,\"render_mode\":\"css\",\"right_units\":\"screen\",\"top_units\":\"screen\"},\"id\":\"9f14c120-caf6-4b98-b0ce-5a3c0b0a5753\",\"type\":\"BoxAnnotation\"},{\"attributes\":{\"data_source\":{\"id\":\"48e7ec4e-35ec-4c59-bd56-8cc13570d6b7\",\"type\":\"ColumnDataSource\"},\"glyph\":{\"id\":\"626f508c-1535-407b-872d-823df496afa8\",\"type\":\"Circle\"},\"hover_glyph\":null,\"nonselection_glyph\":{\"id\":\"955951d7-3ba5-4717-88b3-bf8786e7f074\",\"type\":\"Circle\"},\"selection_glyph\":null},\"id\":\"f20268ca-d895-40d2-92e0-10c5d09cdb5b\",\"type\":\"GlyphRenderer\"},{\"attributes\":{\"plot\":{\"id\":\"c1909503-3b13-4ae4-a9fc-0d2f8c915361\",\"subtype\":\"Figure\",\"type\":\"Plot\"},\"ticker\":{\"id\":\"0db31c03-a9c1-4aae-95be-46929b1b65f8\",\"type\":\"BasicTicker\"}},\"id\":\"205f29ae-51c3-4dcd-8a65-15c05c67297f\",\"type\":\"Grid\"},{\"attributes\":{},\"id\":\"56933126-2db1-4f98-9241-c34d597653c9\",\"type\":\"BasicTicker\"}],\"root_ids\":[\"c1909503-3b13-4ae4-a9fc-0d2f8c915361\"]},\"title\":\"Bokeh Application\",\"version\":\"0.12.1\"}};\n",
       "            var render_items = [{\"docid\":\"5ef85a0d-3171-43f2-8dc2-467abd952dde\",\"elementid\":\"26f596b4-7c38-4da2-bf27-0eadff549320\",\"modelid\":\"c1909503-3b13-4ae4-a9fc-0d2f8c915361\",\"notebook_comms_target\":\"11e3a8e7-105a-4339-98b9-d2e6044b2387\"}];\n",
       "            \n",
       "            Bokeh.embed.embed_items(docs_json, render_items);\n",
       "        });\n",
       "      },\n",
       "      function(Bokeh) {\n",
       "      }\n",
       "    ];\n",
       "  \n",
       "    function run_inline_js() {\n",
       "      for (var i = 0; i < inline_js.length; i++) {\n",
       "        inline_js[i](window.Bokeh);\n",
       "      }\n",
       "    }\n",
       "  \n",
       "    if (window._bokeh_is_loading === 0) {\n",
       "      console.log(\"Bokeh: BokehJS loaded, going straight to plotting\");\n",
       "      run_inline_js();\n",
       "    } else {\n",
       "      load_libs(js_urls, function() {\n",
       "        console.log(\"Bokeh: BokehJS plotting callback run at\", now());\n",
       "        run_inline_js();\n",
       "      });\n",
       "    }\n",
       "  }(this));\n",
       "</script>"
      ]
     },
     "metadata": {},
     "output_type": "display_data"
    },
    {
     "data": {
      "text/html": [
       "<p><code>&lt;Bokeh Notebook handle for <strong>In[4]</strong>&gt;</code></p>"
      ],
      "text/plain": [
       "<bokeh.io._CommsHandle at 0x11352c850>"
      ]
     },
     "execution_count": 4,
     "metadata": {},
     "output_type": "execute_result"
    }
   ],
   "source": [
    "p = figure(plot_width=400, plot_height=400)\n",
    "\n",
    "# keep a reference to the returned GlyphRenderer\n",
    "\n",
    "# once you save your circle fig in some var eg r, you can\n",
    "# set various properties like glyph size, line color and so on as below\n",
    "r = p.circle([1,2,3,4,5], [2,5,8,2,7])\n",
    "\n",
    "r.glyph.size = 50\n",
    "r.glyph.fill_alpha = 0.2\n",
    "r.glyph.line_color = \"firebrick\"\n",
    "r.glyph.line_dash = [5, 1]\n",
    "r.glyph.line_width = 2\n",
    "\n",
    "show(p)"
   ]
  },
  {
   "cell_type": "markdown",
   "metadata": {},
   "source": [
    "### Selection and non-selection visuals\n",
    "\n",
    "You can also control how glyphs look when there are selections involved. The set of \"selected\" points is displayed according to the optional `.selection_glyph` property of a `GlyphRenderer`:\n",
    "```python\n",
    "r.selection_glyph = Circle(fill_alpha=1, fill_color=\"firebrick\", line_color=None) \n",
    "```\n",
    "When there is a non-empty selection, the set of \"unselected: points is displayed according to the optional  `.nonselection_glyph` property of a `GlyphRenderer`:\n",
    "```python\n",
    "r.nonselection_glyph = Circle(fill_alpha=0.2, fill_color=\"grey\", line_color=None) \n",
    "```\n",
    "\n",
    "When using the `bokeh.plotting` interface, it is easier to pass these visual properties to the glyph methods as shown below. The glyph method will create the selection or nonselection glyphs and attach them to the renderer for you. "
   ]
  },
  {
   "cell_type": "code",
   "execution_count": 5,
   "metadata": {
    "collapsed": false
   },
   "outputs": [
    {
     "data": {
      "text/html": [
       "\n",
       "\n",
       "    <div class=\"bk-root\">\n",
       "        <div class=\"plotdiv\" id=\"569999c9-b416-4215-96e6-d54e84e031ab\"></div>\n",
       "    </div>\n",
       "<script type=\"text/javascript\">\n",
       "  \n",
       "  (function(global) {\n",
       "    function now() {\n",
       "      return new Date();\n",
       "    }\n",
       "  \n",
       "    var force = \"\";\n",
       "  \n",
       "    if (typeof (window._bokeh_onload_callbacks) === \"undefined\" || force !== \"\") {\n",
       "      window._bokeh_onload_callbacks = [];\n",
       "      window._bokeh_is_loading = undefined;\n",
       "    }\n",
       "  \n",
       "    function run_callbacks() {\n",
       "      window._bokeh_onload_callbacks.forEach(function(callback) { callback() });\n",
       "      delete window._bokeh_onload_callbacks\n",
       "      console.info(\"Bokeh: all callbacks have finished\");\n",
       "    }\n",
       "  \n",
       "    function load_libs(js_urls, callback) {\n",
       "      window._bokeh_onload_callbacks.push(callback);\n",
       "      if (window._bokeh_is_loading > 0) {\n",
       "        console.log(\"Bokeh: BokehJS is being loaded, scheduling callback at\", now());\n",
       "        return null;\n",
       "      }\n",
       "      if (js_urls == null || js_urls.length === 0) {\n",
       "        run_callbacks();\n",
       "        return null;\n",
       "      }\n",
       "      console.log(\"Bokeh: BokehJS not loaded, scheduling load and callback at\", now());\n",
       "      window._bokeh_is_loading = js_urls.length;\n",
       "      for (var i = 0; i < js_urls.length; i++) {\n",
       "        var url = js_urls[i];\n",
       "        var s = document.createElement('script');\n",
       "        s.src = url;\n",
       "        s.async = false;\n",
       "        s.onreadystatechange = s.onload = function() {\n",
       "          window._bokeh_is_loading--;\n",
       "          if (window._bokeh_is_loading === 0) {\n",
       "            console.log(\"Bokeh: all BokehJS libraries loaded\");\n",
       "            run_callbacks()\n",
       "          }\n",
       "        };\n",
       "        s.onerror = function() {\n",
       "          console.warn(\"failed to load library \" + url);\n",
       "        };\n",
       "        console.log(\"Bokeh: injecting script tag for BokehJS library: \", url);\n",
       "        document.getElementsByTagName(\"head\")[0].appendChild(s);\n",
       "      }\n",
       "    };var element = document.getElementById(\"569999c9-b416-4215-96e6-d54e84e031ab\");\n",
       "    if (element == null) {\n",
       "      console.log(\"Bokeh: ERROR: autoload.js configured with elementid '569999c9-b416-4215-96e6-d54e84e031ab' but no matching script tag was found. \")\n",
       "      return false;\n",
       "    }\n",
       "  \n",
       "    var js_urls = [];\n",
       "  \n",
       "    var inline_js = [\n",
       "      function(Bokeh) {\n",
       "        Bokeh.$(function() {\n",
       "            var docs_json = {\"ab8638cb-3d5e-4fd1-89d2-e2e222693880\":{\"roots\":{\"references\":[{\"attributes\":{\"formatter\":{\"id\":\"01a97030-4ed7-4467-a174-cb6b3d0ea98b\",\"type\":\"BasicTickFormatter\"},\"plot\":{\"id\":\"ff5a7c35-705a-4ecf-9805-7d5f25d42d8d\",\"subtype\":\"Figure\",\"type\":\"Plot\"},\"ticker\":{\"id\":\"c1346191-e523-474d-9840-b5a8284dfbc7\",\"type\":\"BasicTicker\"}},\"id\":\"499af86d-89f3-4597-a281-92e397161a35\",\"type\":\"LinearAxis\"},{\"attributes\":{\"data_source\":{\"id\":\"0581701e-9191-4d34-9bc8-cf949be14ccb\",\"type\":\"ColumnDataSource\"},\"glyph\":{\"id\":\"2d8649b0-dc63-4fa5-a741-848c5fb12ba0\",\"type\":\"Circle\"},\"hover_glyph\":null,\"nonselection_glyph\":{\"id\":\"dc14435c-4af1-487a-8ca7-66faea06562f\",\"type\":\"Circle\"},\"selection_glyph\":{\"id\":\"5a7b96ee-b687-4c0a-b94e-451c4bf47d1b\",\"type\":\"Circle\"}},\"id\":\"744ba595-19ee-4162-81c6-e0334de4541e\",\"type\":\"GlyphRenderer\"},{\"attributes\":{\"fill_color\":{\"value\":\"#1f77b4\"},\"line_color\":{\"value\":\"#1f77b4\"},\"size\":{\"units\":\"screen\",\"value\":50},\"x\":{\"field\":\"x\"},\"y\":{\"field\":\"y\"}},\"id\":\"2d8649b0-dc63-4fa5-a741-848c5fb12ba0\",\"type\":\"Circle\"},{\"attributes\":{\"callback\":null},\"id\":\"cb5c5fe5-d88a-4b6d-bbf4-6153d52a1ac9\",\"type\":\"DataRange1d\"},{\"attributes\":{},\"id\":\"01a97030-4ed7-4467-a174-cb6b3d0ea98b\",\"type\":\"BasicTickFormatter\"},{\"attributes\":{\"dimension\":1,\"plot\":{\"id\":\"ff5a7c35-705a-4ecf-9805-7d5f25d42d8d\",\"subtype\":\"Figure\",\"type\":\"Plot\"},\"ticker\":{\"id\":\"c1346191-e523-474d-9840-b5a8284dfbc7\",\"type\":\"BasicTicker\"}},\"id\":\"0dd0e396-22e6-42b3-a9ac-b5d00d46dfc1\",\"type\":\"Grid\"},{\"attributes\":{\"callback\":null,\"column_names\":[\"x\",\"y\"],\"data\":{\"x\":[1,2,3,4,5],\"y\":[2,5,8,2,7]}},\"id\":\"0581701e-9191-4d34-9bc8-cf949be14ccb\",\"type\":\"ColumnDataSource\"},{\"attributes\":{},\"id\":\"a8edcb76-ffbc-4594-b712-f4a58e597592\",\"type\":\"BasicTicker\"},{\"attributes\":{},\"id\":\"ddaa214c-4113-4dc6-b70b-63530f78c512\",\"type\":\"BasicTickFormatter\"},{\"attributes\":{\"fill_color\":{\"value\":\"firebrick\"},\"line_color\":{\"value\":\"firebrick\"},\"size\":{\"units\":\"screen\",\"value\":50},\"x\":{\"field\":\"x\"},\"y\":{\"field\":\"y\"}},\"id\":\"5a7b96ee-b687-4c0a-b94e-451c4bf47d1b\",\"type\":\"Circle\"},{\"attributes\":{},\"id\":\"c1346191-e523-474d-9840-b5a8284dfbc7\",\"type\":\"BasicTicker\"},{\"attributes\":{\"below\":[{\"id\":\"9716b9cb-ae21-476d-9c59-5e77d18a3d8e\",\"type\":\"LinearAxis\"}],\"left\":[{\"id\":\"499af86d-89f3-4597-a281-92e397161a35\",\"type\":\"LinearAxis\"}],\"plot_height\":400,\"plot_width\":400,\"renderers\":[{\"id\":\"9716b9cb-ae21-476d-9c59-5e77d18a3d8e\",\"type\":\"LinearAxis\"},{\"id\":\"75945e0a-7384-4a73-8ed8-79062fcc46fe\",\"type\":\"Grid\"},{\"id\":\"499af86d-89f3-4597-a281-92e397161a35\",\"type\":\"LinearAxis\"},{\"id\":\"0dd0e396-22e6-42b3-a9ac-b5d00d46dfc1\",\"type\":\"Grid\"},{\"id\":\"744ba595-19ee-4162-81c6-e0334de4541e\",\"type\":\"GlyphRenderer\"}],\"title\":{\"id\":\"fd94b045-e405-41ea-b940-4fed88fba9ae\",\"type\":\"Title\"},\"tool_events\":{\"id\":\"4787f159-833b-436e-bcb1-afa08c3d100d\",\"type\":\"ToolEvents\"},\"toolbar\":{\"id\":\"11dab760-f9dd-4efd-8765-a45e3cbc9448\",\"type\":\"Toolbar\"},\"x_range\":{\"id\":\"cb5c5fe5-d88a-4b6d-bbf4-6153d52a1ac9\",\"type\":\"DataRange1d\"},\"y_range\":{\"id\":\"4b83869b-5979-4000-8300-0484bbf8d5d8\",\"type\":\"DataRange1d\"}},\"id\":\"ff5a7c35-705a-4ecf-9805-7d5f25d42d8d\",\"subtype\":\"Figure\",\"type\":\"Plot\"},{\"attributes\":{\"plot\":{\"id\":\"ff5a7c35-705a-4ecf-9805-7d5f25d42d8d\",\"subtype\":\"Figure\",\"type\":\"Plot\"},\"ticker\":{\"id\":\"a8edcb76-ffbc-4594-b712-f4a58e597592\",\"type\":\"BasicTicker\"}},\"id\":\"75945e0a-7384-4a73-8ed8-79062fcc46fe\",\"type\":\"Grid\"},{\"attributes\":{\"callback\":null,\"plot\":{\"id\":\"ff5a7c35-705a-4ecf-9805-7d5f25d42d8d\",\"subtype\":\"Figure\",\"type\":\"Plot\"}},\"id\":\"a7d4d6ba-1994-4de6-9276-6f1082f7c833\",\"type\":\"TapTool\"},{\"attributes\":{\"plot\":null,\"text\":\"Select a circle\"},\"id\":\"fd94b045-e405-41ea-b940-4fed88fba9ae\",\"type\":\"Title\"},{\"attributes\":{},\"id\":\"4787f159-833b-436e-bcb1-afa08c3d100d\",\"type\":\"ToolEvents\"},{\"attributes\":{\"callback\":null},\"id\":\"4b83869b-5979-4000-8300-0484bbf8d5d8\",\"type\":\"DataRange1d\"},{\"attributes\":{\"active_drag\":\"auto\",\"active_scroll\":\"auto\",\"active_tap\":\"auto\",\"tools\":[{\"id\":\"a7d4d6ba-1994-4de6-9276-6f1082f7c833\",\"type\":\"TapTool\"}]},\"id\":\"11dab760-f9dd-4efd-8765-a45e3cbc9448\",\"type\":\"Toolbar\"},{\"attributes\":{\"fill_alpha\":{\"value\":0.2},\"fill_color\":{\"value\":\"grey\"},\"line_color\":{\"value\":\"firebrick\"},\"size\":{\"units\":\"screen\",\"value\":50},\"x\":{\"field\":\"x\"},\"y\":{\"field\":\"y\"}},\"id\":\"dc14435c-4af1-487a-8ca7-66faea06562f\",\"type\":\"Circle\"},{\"attributes\":{\"formatter\":{\"id\":\"ddaa214c-4113-4dc6-b70b-63530f78c512\",\"type\":\"BasicTickFormatter\"},\"plot\":{\"id\":\"ff5a7c35-705a-4ecf-9805-7d5f25d42d8d\",\"subtype\":\"Figure\",\"type\":\"Plot\"},\"ticker\":{\"id\":\"a8edcb76-ffbc-4594-b712-f4a58e597592\",\"type\":\"BasicTicker\"}},\"id\":\"9716b9cb-ae21-476d-9c59-5e77d18a3d8e\",\"type\":\"LinearAxis\"}],\"root_ids\":[\"ff5a7c35-705a-4ecf-9805-7d5f25d42d8d\"]},\"title\":\"Bokeh Application\",\"version\":\"0.12.1\"}};\n",
       "            var render_items = [{\"docid\":\"ab8638cb-3d5e-4fd1-89d2-e2e222693880\",\"elementid\":\"569999c9-b416-4215-96e6-d54e84e031ab\",\"modelid\":\"ff5a7c35-705a-4ecf-9805-7d5f25d42d8d\",\"notebook_comms_target\":\"7c644999-dfc2-46ba-8c02-0516aa658f2d\"}];\n",
       "            \n",
       "            Bokeh.embed.embed_items(docs_json, render_items);\n",
       "        });\n",
       "      },\n",
       "      function(Bokeh) {\n",
       "      }\n",
       "    ];\n",
       "  \n",
       "    function run_inline_js() {\n",
       "      for (var i = 0; i < inline_js.length; i++) {\n",
       "        inline_js[i](window.Bokeh);\n",
       "      }\n",
       "    }\n",
       "  \n",
       "    if (window._bokeh_is_loading === 0) {\n",
       "      console.log(\"Bokeh: BokehJS loaded, going straight to plotting\");\n",
       "      run_inline_js();\n",
       "    } else {\n",
       "      load_libs(js_urls, function() {\n",
       "        console.log(\"Bokeh: BokehJS plotting callback run at\", now());\n",
       "        run_inline_js();\n",
       "      });\n",
       "    }\n",
       "  }(this));\n",
       "</script>"
      ]
     },
     "metadata": {},
     "output_type": "display_data"
    },
    {
     "data": {
      "text/html": [
       "<p><code>&lt;Bokeh Notebook handle for <strong>In[5]</strong>&gt;</code></p>"
      ],
      "text/plain": [
       "<bokeh.io._CommsHandle at 0x11350d710>"
      ]
     },
     "execution_count": 5,
     "metadata": {},
     "output_type": "execute_result"
    }
   ],
   "source": [
    "p = figure(plot_width=400, plot_height=400, tools=\"tap\", title=\"Select a circle\")\n",
    "renderer = p.circle([1, 2, 3, 4, 5], [2, 5, 8, 2, 7], size=50,\n",
    "\n",
    "                    # set visual properties for selected glyphs\n",
    "                    selection_color=\"firebrick\",\n",
    "\n",
    "                    # set visual properties for non-selected glyphs\n",
    "                    nonselection_fill_alpha=0.2,\n",
    "                    nonselection_fill_color=\"grey\",\n",
    "                    nonselection_line_color=\"firebrick\",\n",
    "                    nonselection_line_alpha=1.0)\n",
    "\n",
    "show(p)"
   ]
  },
  {
   "cell_type": "markdown",
   "metadata": {},
   "source": [
    "It is also possible to specify the visual appearance of glyphs when they are \"inspected\", e.g. by a hover tool. This is accomplished by setting an optional `hover_glyph` on the glyph renderer:\n",
    "```python\n",
    "r.hover_glyph = Circle(fill_alpha=1, fill_color=\"firebrick\", line_color=None) \n",
    "```\n",
    "Or if using `bokeh.plotting` glyph methods, by passing `hover_fill_alpha`, etc. to the glyph method. Lets look at an example that works together with a `HoverTool` configured for \"hline\" hit-testing."
   ]
  },
  {
   "cell_type": "code",
   "execution_count": 8,
   "metadata": {
    "collapsed": true
   },
   "outputs": [],
   "source": [
    "# EXERCISE: experiment with standard, selected, hover glyph visual properties\n"
   ]
  },
  {
   "cell_type": "markdown",
   "metadata": {},
   "source": [
    "# Axes\n",
    "\n",
    "[Axes](http://bokeh.pydata.org/en/latest/docs/user_guide/styling.html#axes)\n",
    "\n",
    "To style axes, you first must get ahold of `Axis` objects. The simplest way is to use some convenience methods on `Plot`: [axis](http://bokeh.pydata.org/en/latest/docs/reference/plotting.html#bokeh.plotting.Figure.axis), [xaxis](http://bokeh.pydata.org/en/latest/docs/reference/plotting.html#bokeh.plotting.Figure.xaxis), and [yaxis](http://bokeh.pydata.org/en/latest/docs/reference/plotting.html#bokeh.plotting.Figure.yaxis). These methods return lists of axis objects:\n",
    "\n",
    "```\n",
    ">>> p.xaxis\n",
    "[<bokeh.models.axes.LinearAxis at 0x106fa2390>]\n",
    "```\n",
    "However, you can set properties on all the elements of the list as if it was a single object:\n",
    "```\n",
    "p.xaxis.axis_label = \"Temperature\"\n",
    "p.axis.major_label_text_color = \"orange\"\n",
    "```\n",
    "These are referred to as \"splattable\" lists, and tab completion works on them as well. \n"
   ]
  },
  {
   "cell_type": "code",
   "execution_count": 9,
   "metadata": {
    "collapsed": true
   },
   "outputs": [],
   "source": [
    "# EXERCISE Try out tab completion. Type p.xaxis.<press tab key> to see a list of attributes that can be set.\n",
    "\n"
   ]
  },
  {
   "cell_type": "markdown",
   "metadata": {},
   "source": [
    "* **axis** \n",
    " - [line properties](http://bokeh.pydata.org/en/latest/docs/user_guide/styling.html#line-properties)\n",
    "* **axis_label** \n",
    " - [text properties](http://bokeh.pydata.org/en/latest/docs/user_guide/styling.html#text-properties)\n",
    " - ``axis_label_standoff``\n",
    "* **major_label** \n",
    " - [text properties](http://bokeh.pydata.org/en/latest/docs/user_guide/styling.html#text-properties)\n",
    " - ``orientation``\n",
    "* **major_tick** \n",
    " - [line_properties](http://bokeh.pydata.org/en/latest/docs/user_guide/styling.html#line-properties)\n",
    " - ``major_tick_in`` \n",
    " - ``major_tick_out``\n",
    "* **minor_tick** \n",
    " - [line properties](http://bokeh.pydata.org/en/latest/docs/user_guide/styling.html#line-properties)\n",
    " - ``minor_tick_in``\n",
    " - ``minor_tick_out``\n",
    "\n",
    "As a simple first example, let's change the orientation of the major tick labels on both axes of a plot:"
   ]
  },
  {
   "cell_type": "code",
   "execution_count": 8,
   "metadata": {
    "collapsed": false
   },
   "outputs": [
    {
     "data": {
      "text/html": [
       "\n",
       "\n",
       "    <div class=\"bk-root\">\n",
       "        <div class=\"plotdiv\" id=\"c5b607ca-b55c-4923-bf08-76037cf4894b\"></div>\n",
       "    </div>\n",
       "<script type=\"text/javascript\">\n",
       "  \n",
       "  (function(global) {\n",
       "    function now() {\n",
       "      return new Date();\n",
       "    }\n",
       "  \n",
       "    var force = \"\";\n",
       "  \n",
       "    if (typeof (window._bokeh_onload_callbacks) === \"undefined\" || force !== \"\") {\n",
       "      window._bokeh_onload_callbacks = [];\n",
       "      window._bokeh_is_loading = undefined;\n",
       "    }\n",
       "  \n",
       "    function run_callbacks() {\n",
       "      window._bokeh_onload_callbacks.forEach(function(callback) { callback() });\n",
       "      delete window._bokeh_onload_callbacks\n",
       "      console.info(\"Bokeh: all callbacks have finished\");\n",
       "    }\n",
       "  \n",
       "    function load_libs(js_urls, callback) {\n",
       "      window._bokeh_onload_callbacks.push(callback);\n",
       "      if (window._bokeh_is_loading > 0) {\n",
       "        console.log(\"Bokeh: BokehJS is being loaded, scheduling callback at\", now());\n",
       "        return null;\n",
       "      }\n",
       "      if (js_urls == null || js_urls.length === 0) {\n",
       "        run_callbacks();\n",
       "        return null;\n",
       "      }\n",
       "      console.log(\"Bokeh: BokehJS not loaded, scheduling load and callback at\", now());\n",
       "      window._bokeh_is_loading = js_urls.length;\n",
       "      for (var i = 0; i < js_urls.length; i++) {\n",
       "        var url = js_urls[i];\n",
       "        var s = document.createElement('script');\n",
       "        s.src = url;\n",
       "        s.async = false;\n",
       "        s.onreadystatechange = s.onload = function() {\n",
       "          window._bokeh_is_loading--;\n",
       "          if (window._bokeh_is_loading === 0) {\n",
       "            console.log(\"Bokeh: all BokehJS libraries loaded\");\n",
       "            run_callbacks()\n",
       "          }\n",
       "        };\n",
       "        s.onerror = function() {\n",
       "          console.warn(\"failed to load library \" + url);\n",
       "        };\n",
       "        console.log(\"Bokeh: injecting script tag for BokehJS library: \", url);\n",
       "        document.getElementsByTagName(\"head\")[0].appendChild(s);\n",
       "      }\n",
       "    };var element = document.getElementById(\"c5b607ca-b55c-4923-bf08-76037cf4894b\");\n",
       "    if (element == null) {\n",
       "      console.log(\"Bokeh: ERROR: autoload.js configured with elementid 'c5b607ca-b55c-4923-bf08-76037cf4894b' but no matching script tag was found. \")\n",
       "      return false;\n",
       "    }\n",
       "  \n",
       "    var js_urls = [];\n",
       "  \n",
       "    var inline_js = [\n",
       "      function(Bokeh) {\n",
       "        Bokeh.$(function() {\n",
       "            var docs_json = {\"ca4821dc-088d-455e-9990-ae8c13a3b6d3\":{\"roots\":{\"references\":[{\"attributes\":{\"plot\":{\"id\":\"2d6fed8a-7cb6-44c7-9ea3-61f3053277dd\",\"subtype\":\"Figure\",\"type\":\"Plot\"}},\"id\":\"a8eb1f32-338b-4bdb-a427-115e1931e608\",\"type\":\"SaveTool\"},{\"attributes\":{\"plot\":{\"id\":\"2d6fed8a-7cb6-44c7-9ea3-61f3053277dd\",\"subtype\":\"Figure\",\"type\":\"Plot\"}},\"id\":\"70b6335d-8646-473d-afaa-4968a49aed27\",\"type\":\"PanTool\"},{\"attributes\":{\"callback\":null,\"column_names\":[\"y\",\"x\"],\"data\":{\"x\":[1,2,3,4,5],\"y\":[2,5,8,2,7]}},\"id\":\"06cd77ed-097f-426d-99b2-e129ac31f38a\",\"type\":\"ColumnDataSource\"},{\"attributes\":{},\"id\":\"21349067-4769-4f63-9e37-05ff27c9b1b8\",\"type\":\"BasicTickFormatter\"},{\"attributes\":{\"below\":[{\"id\":\"dcdab7fe-62b9-4f85-9cec-ecfc537e797a\",\"type\":\"LinearAxis\"}],\"left\":[{\"id\":\"50b824de-cea3-417d-8e85-a4f7c668c0fe\",\"type\":\"LinearAxis\"}],\"plot_height\":400,\"plot_width\":400,\"renderers\":[{\"id\":\"dcdab7fe-62b9-4f85-9cec-ecfc537e797a\",\"type\":\"LinearAxis\"},{\"id\":\"1a2a8c0f-82e7-4f9e-83ed-2d56294c325f\",\"type\":\"Grid\"},{\"id\":\"50b824de-cea3-417d-8e85-a4f7c668c0fe\",\"type\":\"LinearAxis\"},{\"id\":\"ced91f6d-cab1-484c-a299-525562423c80\",\"type\":\"Grid\"},{\"id\":\"01c3291b-3752-4bd5-ba35-2c430df13fc3\",\"type\":\"BoxAnnotation\"},{\"id\":\"c00f1747-28f2-45d2-9e17-d540155523dc\",\"type\":\"GlyphRenderer\"}],\"title\":{\"id\":\"6e1ca8cf-1e95-42c4-91c9-1783c3e59b4d\",\"type\":\"Title\"},\"tool_events\":{\"id\":\"69a73c31-785b-49fb-ac13-b8f1abe51764\",\"type\":\"ToolEvents\"},\"toolbar\":{\"id\":\"7ca4ebed-b186-4fb4-9414-4620f46dd55b\",\"type\":\"Toolbar\"},\"x_range\":{\"id\":\"d9853a82-9485-4811-98c5-2f050d23ba91\",\"type\":\"DataRange1d\"},\"y_range\":{\"id\":\"617265bd-69ff-4a59-b717-5e658e6e73ab\",\"type\":\"DataRange1d\"}},\"id\":\"2d6fed8a-7cb6-44c7-9ea3-61f3053277dd\",\"subtype\":\"Figure\",\"type\":\"Plot\"},{\"attributes\":{},\"id\":\"b4b3be3c-0919-47ea-b771-19e055d9426b\",\"type\":\"BasicTicker\"},{\"attributes\":{},\"id\":\"b12cef8d-57de-471b-90bd-9893e45c1e9a\",\"type\":\"BasicTicker\"},{\"attributes\":{\"bottom_units\":\"screen\",\"fill_alpha\":{\"value\":0.5},\"fill_color\":{\"value\":\"lightgrey\"},\"left_units\":\"screen\",\"level\":\"overlay\",\"line_alpha\":{\"value\":1.0},\"line_color\":{\"value\":\"black\"},\"line_dash\":[4,4],\"line_width\":{\"value\":2},\"plot\":null,\"render_mode\":\"css\",\"right_units\":\"screen\",\"top_units\":\"screen\"},\"id\":\"01c3291b-3752-4bd5-ba35-2c430df13fc3\",\"type\":\"BoxAnnotation\"},{\"attributes\":{},\"id\":\"69a73c31-785b-49fb-ac13-b8f1abe51764\",\"type\":\"ToolEvents\"},{\"attributes\":{\"plot\":{\"id\":\"2d6fed8a-7cb6-44c7-9ea3-61f3053277dd\",\"subtype\":\"Figure\",\"type\":\"Plot\"}},\"id\":\"93239b3e-1973-4881-a040-f9811a7044ed\",\"type\":\"WheelZoomTool\"},{\"attributes\":{\"data_source\":{\"id\":\"06cd77ed-097f-426d-99b2-e129ac31f38a\",\"type\":\"ColumnDataSource\"},\"glyph\":{\"id\":\"fa025d7b-5fb6-4ed5-8f6d-2a51a3d31516\",\"type\":\"X\"},\"hover_glyph\":null,\"nonselection_glyph\":{\"id\":\"caf70922-5e54-4f70-b9c7-87a116e4acb6\",\"type\":\"X\"},\"selection_glyph\":null},\"id\":\"c00f1747-28f2-45d2-9e17-d540155523dc\",\"type\":\"GlyphRenderer\"},{\"attributes\":{\"formatter\":{\"id\":\"21349067-4769-4f63-9e37-05ff27c9b1b8\",\"type\":\"BasicTickFormatter\"},\"major_label_orientation\":\"vertical\",\"plot\":{\"id\":\"2d6fed8a-7cb6-44c7-9ea3-61f3053277dd\",\"subtype\":\"Figure\",\"type\":\"Plot\"},\"ticker\":{\"id\":\"b12cef8d-57de-471b-90bd-9893e45c1e9a\",\"type\":\"BasicTicker\"}},\"id\":\"50b824de-cea3-417d-8e85-a4f7c668c0fe\",\"type\":\"LinearAxis\"},{\"attributes\":{\"dimension\":1,\"plot\":{\"id\":\"2d6fed8a-7cb6-44c7-9ea3-61f3053277dd\",\"subtype\":\"Figure\",\"type\":\"Plot\"},\"ticker\":{\"id\":\"b12cef8d-57de-471b-90bd-9893e45c1e9a\",\"type\":\"BasicTicker\"}},\"id\":\"ced91f6d-cab1-484c-a299-525562423c80\",\"type\":\"Grid\"},{\"attributes\":{\"plot\":{\"id\":\"2d6fed8a-7cb6-44c7-9ea3-61f3053277dd\",\"subtype\":\"Figure\",\"type\":\"Plot\"},\"ticker\":{\"id\":\"b4b3be3c-0919-47ea-b771-19e055d9426b\",\"type\":\"BasicTicker\"}},\"id\":\"1a2a8c0f-82e7-4f9e-83ed-2d56294c325f\",\"type\":\"Grid\"},{\"attributes\":{\"overlay\":{\"id\":\"01c3291b-3752-4bd5-ba35-2c430df13fc3\",\"type\":\"BoxAnnotation\"},\"plot\":{\"id\":\"2d6fed8a-7cb6-44c7-9ea3-61f3053277dd\",\"subtype\":\"Figure\",\"type\":\"Plot\"}},\"id\":\"7fdd4c87-5567-464c-8950-64c5008af3f1\",\"type\":\"BoxZoomTool\"},{\"attributes\":{\"plot\":null,\"text\":null},\"id\":\"6e1ca8cf-1e95-42c4-91c9-1783c3e59b4d\",\"type\":\"Title\"},{\"attributes\":{\"plot\":{\"id\":\"2d6fed8a-7cb6-44c7-9ea3-61f3053277dd\",\"subtype\":\"Figure\",\"type\":\"Plot\"}},\"id\":\"8ac1b7bc-95bd-4e51-b893-ef6db825469a\",\"type\":\"ResetTool\"},{\"attributes\":{\"plot\":{\"id\":\"2d6fed8a-7cb6-44c7-9ea3-61f3053277dd\",\"subtype\":\"Figure\",\"type\":\"Plot\"}},\"id\":\"a1051c2b-73a0-4451-b56f-6a70e0a287be\",\"type\":\"HelpTool\"},{\"attributes\":{\"fill_alpha\":{\"value\":0.1},\"fill_color\":{\"value\":\"#1f77b4\"},\"line_alpha\":{\"value\":0.1},\"line_color\":{\"value\":\"#1f77b4\"},\"line_width\":{\"value\":2},\"size\":{\"units\":\"screen\",\"value\":10},\"x\":{\"field\":\"x\"},\"y\":{\"field\":\"y\"}},\"id\":\"caf70922-5e54-4f70-b9c7-87a116e4acb6\",\"type\":\"X\"},{\"attributes\":{},\"id\":\"7eff3cc3-650b-42d8-a0aa-2c431327147a\",\"type\":\"BasicTickFormatter\"},{\"attributes\":{\"fill_color\":{\"value\":\"#1f77b4\"},\"line_color\":{\"value\":\"#1f77b4\"},\"line_width\":{\"value\":2},\"size\":{\"units\":\"screen\",\"value\":10},\"x\":{\"field\":\"x\"},\"y\":{\"field\":\"y\"}},\"id\":\"fa025d7b-5fb6-4ed5-8f6d-2a51a3d31516\",\"type\":\"X\"},{\"attributes\":{\"active_drag\":\"auto\",\"active_scroll\":\"auto\",\"active_tap\":\"auto\",\"tools\":[{\"id\":\"70b6335d-8646-473d-afaa-4968a49aed27\",\"type\":\"PanTool\"},{\"id\":\"93239b3e-1973-4881-a040-f9811a7044ed\",\"type\":\"WheelZoomTool\"},{\"id\":\"7fdd4c87-5567-464c-8950-64c5008af3f1\",\"type\":\"BoxZoomTool\"},{\"id\":\"a8eb1f32-338b-4bdb-a427-115e1931e608\",\"type\":\"SaveTool\"},{\"id\":\"8ac1b7bc-95bd-4e51-b893-ef6db825469a\",\"type\":\"ResetTool\"},{\"id\":\"a1051c2b-73a0-4451-b56f-6a70e0a287be\",\"type\":\"HelpTool\"}]},\"id\":\"7ca4ebed-b186-4fb4-9414-4620f46dd55b\",\"type\":\"Toolbar\"},{\"attributes\":{\"callback\":null},\"id\":\"617265bd-69ff-4a59-b717-5e658e6e73ab\",\"type\":\"DataRange1d\"},{\"attributes\":{\"callback\":null},\"id\":\"d9853a82-9485-4811-98c5-2f050d23ba91\",\"type\":\"DataRange1d\"},{\"attributes\":{\"formatter\":{\"id\":\"7eff3cc3-650b-42d8-a0aa-2c431327147a\",\"type\":\"BasicTickFormatter\"},\"major_label_orientation\":0.7853981633974483,\"plot\":{\"id\":\"2d6fed8a-7cb6-44c7-9ea3-61f3053277dd\",\"subtype\":\"Figure\",\"type\":\"Plot\"},\"ticker\":{\"id\":\"b4b3be3c-0919-47ea-b771-19e055d9426b\",\"type\":\"BasicTicker\"}},\"id\":\"dcdab7fe-62b9-4f85-9cec-ecfc537e797a\",\"type\":\"LinearAxis\"}],\"root_ids\":[\"2d6fed8a-7cb6-44c7-9ea3-61f3053277dd\"]},\"title\":\"Bokeh Application\",\"version\":\"0.12.1\"}};\n",
       "            var render_items = [{\"docid\":\"ca4821dc-088d-455e-9990-ae8c13a3b6d3\",\"elementid\":\"c5b607ca-b55c-4923-bf08-76037cf4894b\",\"modelid\":\"2d6fed8a-7cb6-44c7-9ea3-61f3053277dd\",\"notebook_comms_target\":\"3f16422b-5aea-432a-b085-b6c0c1a99edf\"}];\n",
       "            \n",
       "            Bokeh.embed.embed_items(docs_json, render_items);\n",
       "        });\n",
       "      },\n",
       "      function(Bokeh) {\n",
       "      }\n",
       "    ];\n",
       "  \n",
       "    function run_inline_js() {\n",
       "      for (var i = 0; i < inline_js.length; i++) {\n",
       "        inline_js[i](window.Bokeh);\n",
       "      }\n",
       "    }\n",
       "  \n",
       "    if (window._bokeh_is_loading === 0) {\n",
       "      console.log(\"Bokeh: BokehJS loaded, going straight to plotting\");\n",
       "      run_inline_js();\n",
       "    } else {\n",
       "      load_libs(js_urls, function() {\n",
       "        console.log(\"Bokeh: BokehJS plotting callback run at\", now());\n",
       "        run_inline_js();\n",
       "      });\n",
       "    }\n",
       "  }(this));\n",
       "</script>"
      ]
     },
     "metadata": {},
     "output_type": "display_data"
    },
    {
     "data": {
      "text/html": [
       "<p><code>&lt;Bokeh Notebook handle for <strong>In[8]</strong>&gt;</code></p>"
      ],
      "text/plain": [
       "<bokeh.io._CommsHandle at 0x11357d510>"
      ]
     },
     "execution_count": 8,
     "metadata": {},
     "output_type": "execute_result"
    }
   ],
   "source": [
    "from math import pi\n",
    "\n",
    "p = figure(plot_width=400, plot_height=400)\n",
    "p.x([1,2,3,4,5], [2,5,8,2,7], size=10, line_width=2)\n",
    "\n",
    "p.xaxis.major_label_orientation = pi/4\n",
    "p.yaxis.major_label_orientation = \"vertical\"\n",
    "\n",
    "show(p)"
   ]
  },
  {
   "cell_type": "markdown",
   "metadata": {},
   "source": [
    "The next example shows customizations on several of the different Axis properties at once:"
   ]
  },
  {
   "cell_type": "code",
   "execution_count": 14,
   "metadata": {
    "collapsed": false
   },
   "outputs": [
    {
     "data": {
      "text/html": [
       "\n",
       "\n",
       "    <div class=\"bk-root\">\n",
       "        <div class=\"plotdiv\" id=\"f9069d3b-b18a-489f-98ac-1c07bca2cc06\"></div>\n",
       "    </div>\n",
       "<script type=\"text/javascript\">\n",
       "  \n",
       "  (function(global) {\n",
       "    function now() {\n",
       "      return new Date();\n",
       "    }\n",
       "  \n",
       "    var force = \"\";\n",
       "  \n",
       "    if (typeof (window._bokeh_onload_callbacks) === \"undefined\" || force !== \"\") {\n",
       "      window._bokeh_onload_callbacks = [];\n",
       "      window._bokeh_is_loading = undefined;\n",
       "    }\n",
       "  \n",
       "    function run_callbacks() {\n",
       "      window._bokeh_onload_callbacks.forEach(function(callback) { callback() });\n",
       "      delete window._bokeh_onload_callbacks\n",
       "      console.info(\"Bokeh: all callbacks have finished\");\n",
       "    }\n",
       "  \n",
       "    function load_libs(js_urls, callback) {\n",
       "      window._bokeh_onload_callbacks.push(callback);\n",
       "      if (window._bokeh_is_loading > 0) {\n",
       "        console.log(\"Bokeh: BokehJS is being loaded, scheduling callback at\", now());\n",
       "        return null;\n",
       "      }\n",
       "      if (js_urls == null || js_urls.length === 0) {\n",
       "        run_callbacks();\n",
       "        return null;\n",
       "      }\n",
       "      console.log(\"Bokeh: BokehJS not loaded, scheduling load and callback at\", now());\n",
       "      window._bokeh_is_loading = js_urls.length;\n",
       "      for (var i = 0; i < js_urls.length; i++) {\n",
       "        var url = js_urls[i];\n",
       "        var s = document.createElement('script');\n",
       "        s.src = url;\n",
       "        s.async = false;\n",
       "        s.onreadystatechange = s.onload = function() {\n",
       "          window._bokeh_is_loading--;\n",
       "          if (window._bokeh_is_loading === 0) {\n",
       "            console.log(\"Bokeh: all BokehJS libraries loaded\");\n",
       "            run_callbacks()\n",
       "          }\n",
       "        };\n",
       "        s.onerror = function() {\n",
       "          console.warn(\"failed to load library \" + url);\n",
       "        };\n",
       "        console.log(\"Bokeh: injecting script tag for BokehJS library: \", url);\n",
       "        document.getElementsByTagName(\"head\")[0].appendChild(s);\n",
       "      }\n",
       "    };var element = document.getElementById(\"f9069d3b-b18a-489f-98ac-1c07bca2cc06\");\n",
       "    if (element == null) {\n",
       "      console.log(\"Bokeh: ERROR: autoload.js configured with elementid 'f9069d3b-b18a-489f-98ac-1c07bca2cc06' but no matching script tag was found. \")\n",
       "      return false;\n",
       "    }\n",
       "  \n",
       "    var js_urls = [];\n",
       "  \n",
       "    var inline_js = [\n",
       "      function(Bokeh) {\n",
       "        Bokeh.$(function() {\n",
       "            var docs_json = {\"e42bd466-1863-4364-8713-c07da88f85b7\":{\"roots\":{\"references\":[{\"attributes\":{},\"id\":\"26040f42-5cae-4b65-b17b-7105948886ca\",\"type\":\"BasicTickFormatter\"},{\"attributes\":{\"axis_label\":\"Pressure\",\"formatter\":{\"id\":\"091da5d3-205f-44be-8f00-cd6d0292d9c1\",\"type\":\"BasicTickFormatter\"},\"major_label_orientation\":\"vertical\",\"major_label_text_color\":{\"value\":\"orange\"},\"minor_tick_in\":-3,\"minor_tick_out\":6,\"plot\":{\"id\":\"29cc3d53-3e14-4c62-94aa-c140990b99ed\",\"subtype\":\"Figure\",\"type\":\"Plot\"},\"ticker\":{\"id\":\"fbe4b0f6-9d03-4f23-a6b4-9a00191bf9ab\",\"type\":\"BasicTicker\"}},\"id\":\"bf366d60-2317-4706-9008-b15dee085a82\",\"type\":\"LinearAxis\"},{\"attributes\":{\"active_drag\":\"auto\",\"active_scroll\":\"auto\",\"active_tap\":\"auto\",\"tools\":[{\"id\":\"e9455eec-f29d-45c9-9c3a-4312986f5b28\",\"type\":\"PanTool\"},{\"id\":\"201c3923-959f-4938-9439-090e8afb3985\",\"type\":\"WheelZoomTool\"},{\"id\":\"0f7fef5d-61fe-4ac0-ac24-86d5cb178054\",\"type\":\"BoxZoomTool\"},{\"id\":\"716efbcb-22fc-4095-abb9-6423a2149ee9\",\"type\":\"SaveTool\"},{\"id\":\"fd87ce42-002f-497b-a711-86946a21be2d\",\"type\":\"ResetTool\"},{\"id\":\"850ac25a-c8b8-45ec-91c9-22813f3236df\",\"type\":\"HelpTool\"}]},\"id\":\"683e6b6a-51ab-4883-a4b2-ea6e432ea2cb\",\"type\":\"Toolbar\"},{\"attributes\":{\"below\":[{\"id\":\"59eb89f4-b7d8-4b94-9984-17d8a1b33bda\",\"type\":\"LinearAxis\"}],\"left\":[{\"id\":\"bf366d60-2317-4706-9008-b15dee085a82\",\"type\":\"LinearAxis\"}],\"plot_height\":400,\"plot_width\":400,\"renderers\":[{\"id\":\"59eb89f4-b7d8-4b94-9984-17d8a1b33bda\",\"type\":\"LinearAxis\"},{\"id\":\"e67c9c81-1829-45c4-8c02-65ce653105ef\",\"type\":\"Grid\"},{\"id\":\"bf366d60-2317-4706-9008-b15dee085a82\",\"type\":\"LinearAxis\"},{\"id\":\"ae0d589a-2b17-4f09-a218-591426e18911\",\"type\":\"Grid\"},{\"id\":\"a88a6f71-93b7-4742-8433-88887b3be0b9\",\"type\":\"BoxAnnotation\"},{\"id\":\"00fddffb-becd-435e-afa8-80a8a7c004a4\",\"type\":\"GlyphRenderer\"}],\"title\":{\"id\":\"dacb3885-a768-4d71-9287-5de35e5e1a5a\",\"type\":\"Title\"},\"tool_events\":{\"id\":\"d32d147b-81a2-4709-93a6-d64f9b27823e\",\"type\":\"ToolEvents\"},\"toolbar\":{\"id\":\"683e6b6a-51ab-4883-a4b2-ea6e432ea2cb\",\"type\":\"Toolbar\"},\"x_range\":{\"id\":\"4f037d98-6336-4978-8479-d90ae3c17ff8\",\"type\":\"DataRange1d\"},\"y_range\":{\"id\":\"39ccb43a-eb1c-4f6e-8746-5f488f0a5e48\",\"type\":\"DataRange1d\"}},\"id\":\"29cc3d53-3e14-4c62-94aa-c140990b99ed\",\"subtype\":\"Figure\",\"type\":\"Plot\"},{\"attributes\":{\"callback\":null},\"id\":\"4f037d98-6336-4978-8479-d90ae3c17ff8\",\"type\":\"DataRange1d\"},{\"attributes\":{\"plot\":null,\"text\":null},\"id\":\"dacb3885-a768-4d71-9287-5de35e5e1a5a\",\"type\":\"Title\"},{\"attributes\":{\"axis_label\":\"Temp\",\"axis_line_color\":{\"value\":\"red\"},\"axis_line_width\":{\"value\":3},\"formatter\":{\"id\":\"26040f42-5cae-4b65-b17b-7105948886ca\",\"type\":\"BasicTickFormatter\"},\"minor_tick_in\":-3,\"minor_tick_out\":6,\"plot\":{\"id\":\"29cc3d53-3e14-4c62-94aa-c140990b99ed\",\"subtype\":\"Figure\",\"type\":\"Plot\"},\"ticker\":{\"id\":\"116e1366-a509-4eb1-b0c0-e0ed16bef0af\",\"type\":\"BasicTicker\"}},\"id\":\"59eb89f4-b7d8-4b94-9984-17d8a1b33bda\",\"type\":\"LinearAxis\"},{\"attributes\":{},\"id\":\"091da5d3-205f-44be-8f00-cd6d0292d9c1\",\"type\":\"BasicTickFormatter\"},{\"attributes\":{\"plot\":{\"id\":\"29cc3d53-3e14-4c62-94aa-c140990b99ed\",\"subtype\":\"Figure\",\"type\":\"Plot\"}},\"id\":\"201c3923-959f-4938-9439-090e8afb3985\",\"type\":\"WheelZoomTool\"},{\"attributes\":{},\"id\":\"fbe4b0f6-9d03-4f23-a6b4-9a00191bf9ab\",\"type\":\"BasicTicker\"},{\"attributes\":{\"overlay\":{\"id\":\"a88a6f71-93b7-4742-8433-88887b3be0b9\",\"type\":\"BoxAnnotation\"},\"plot\":{\"id\":\"29cc3d53-3e14-4c62-94aa-c140990b99ed\",\"subtype\":\"Figure\",\"type\":\"Plot\"}},\"id\":\"0f7fef5d-61fe-4ac0-ac24-86d5cb178054\",\"type\":\"BoxZoomTool\"},{\"attributes\":{\"fill_color\":{\"value\":\"olive\"},\"line_color\":{\"value\":\"olive\"},\"size\":{\"units\":\"screen\",\"value\":12},\"x\":{\"field\":\"x\"},\"y\":{\"field\":\"y\"}},\"id\":\"da4701ee-0889-49fa-ac87-3827f4b77bd6\",\"type\":\"Asterisk\"},{\"attributes\":{\"callback\":null,\"column_names\":[\"y\",\"x\"],\"data\":{\"x\":[1,2,3,4,5],\"y\":[2,5,8,2,7]}},\"id\":\"b9c3ffff-fb73-49ab-a9b0-528969624e71\",\"type\":\"ColumnDataSource\"},{\"attributes\":{},\"id\":\"116e1366-a509-4eb1-b0c0-e0ed16bef0af\",\"type\":\"BasicTicker\"},{\"attributes\":{},\"id\":\"d32d147b-81a2-4709-93a6-d64f9b27823e\",\"type\":\"ToolEvents\"},{\"attributes\":{\"bottom_units\":\"screen\",\"fill_alpha\":{\"value\":0.5},\"fill_color\":{\"value\":\"lightgrey\"},\"left_units\":\"screen\",\"level\":\"overlay\",\"line_alpha\":{\"value\":1.0},\"line_color\":{\"value\":\"black\"},\"line_dash\":[4,4],\"line_width\":{\"value\":2},\"plot\":null,\"render_mode\":\"css\",\"right_units\":\"screen\",\"top_units\":\"screen\"},\"id\":\"a88a6f71-93b7-4742-8433-88887b3be0b9\",\"type\":\"BoxAnnotation\"},{\"attributes\":{\"plot\":{\"id\":\"29cc3d53-3e14-4c62-94aa-c140990b99ed\",\"subtype\":\"Figure\",\"type\":\"Plot\"}},\"id\":\"716efbcb-22fc-4095-abb9-6423a2149ee9\",\"type\":\"SaveTool\"},{\"attributes\":{\"plot\":{\"id\":\"29cc3d53-3e14-4c62-94aa-c140990b99ed\",\"subtype\":\"Figure\",\"type\":\"Plot\"}},\"id\":\"e9455eec-f29d-45c9-9c3a-4312986f5b28\",\"type\":\"PanTool\"},{\"attributes\":{\"callback\":null},\"id\":\"39ccb43a-eb1c-4f6e-8746-5f488f0a5e48\",\"type\":\"DataRange1d\"},{\"attributes\":{\"plot\":{\"id\":\"29cc3d53-3e14-4c62-94aa-c140990b99ed\",\"subtype\":\"Figure\",\"type\":\"Plot\"},\"ticker\":{\"id\":\"116e1366-a509-4eb1-b0c0-e0ed16bef0af\",\"type\":\"BasicTicker\"}},\"id\":\"e67c9c81-1829-45c4-8c02-65ce653105ef\",\"type\":\"Grid\"},{\"attributes\":{\"dimension\":1,\"plot\":{\"id\":\"29cc3d53-3e14-4c62-94aa-c140990b99ed\",\"subtype\":\"Figure\",\"type\":\"Plot\"},\"ticker\":{\"id\":\"fbe4b0f6-9d03-4f23-a6b4-9a00191bf9ab\",\"type\":\"BasicTicker\"}},\"id\":\"ae0d589a-2b17-4f09-a218-591426e18911\",\"type\":\"Grid\"},{\"attributes\":{\"fill_alpha\":{\"value\":0.1},\"fill_color\":{\"value\":\"#1f77b4\"},\"line_alpha\":{\"value\":0.1},\"line_color\":{\"value\":\"#1f77b4\"},\"size\":{\"units\":\"screen\",\"value\":12},\"x\":{\"field\":\"x\"},\"y\":{\"field\":\"y\"}},\"id\":\"f2621876-2e6b-462d-b879-e4b900327780\",\"type\":\"Asterisk\"},{\"attributes\":{\"plot\":{\"id\":\"29cc3d53-3e14-4c62-94aa-c140990b99ed\",\"subtype\":\"Figure\",\"type\":\"Plot\"}},\"id\":\"fd87ce42-002f-497b-a711-86946a21be2d\",\"type\":\"ResetTool\"},{\"attributes\":{\"plot\":{\"id\":\"29cc3d53-3e14-4c62-94aa-c140990b99ed\",\"subtype\":\"Figure\",\"type\":\"Plot\"}},\"id\":\"850ac25a-c8b8-45ec-91c9-22813f3236df\",\"type\":\"HelpTool\"},{\"attributes\":{\"data_source\":{\"id\":\"b9c3ffff-fb73-49ab-a9b0-528969624e71\",\"type\":\"ColumnDataSource\"},\"glyph\":{\"id\":\"da4701ee-0889-49fa-ac87-3827f4b77bd6\",\"type\":\"Asterisk\"},\"hover_glyph\":null,\"nonselection_glyph\":{\"id\":\"f2621876-2e6b-462d-b879-e4b900327780\",\"type\":\"Asterisk\"},\"selection_glyph\":null},\"id\":\"00fddffb-becd-435e-afa8-80a8a7c004a4\",\"type\":\"GlyphRenderer\"}],\"root_ids\":[\"29cc3d53-3e14-4c62-94aa-c140990b99ed\"]},\"title\":\"Bokeh Application\",\"version\":\"0.12.1\"}};\n",
       "            var render_items = [{\"docid\":\"e42bd466-1863-4364-8713-c07da88f85b7\",\"elementid\":\"f9069d3b-b18a-489f-98ac-1c07bca2cc06\",\"modelid\":\"29cc3d53-3e14-4c62-94aa-c140990b99ed\",\"notebook_comms_target\":\"409442d8-8de5-45fb-8109-1f0670d3916d\"}];\n",
       "            \n",
       "            Bokeh.embed.embed_items(docs_json, render_items);\n",
       "        });\n",
       "      },\n",
       "      function(Bokeh) {\n",
       "      }\n",
       "    ];\n",
       "  \n",
       "    function run_inline_js() {\n",
       "      for (var i = 0; i < inline_js.length; i++) {\n",
       "        inline_js[i](window.Bokeh);\n",
       "      }\n",
       "    }\n",
       "  \n",
       "    if (window._bokeh_is_loading === 0) {\n",
       "      console.log(\"Bokeh: BokehJS loaded, going straight to plotting\");\n",
       "      run_inline_js();\n",
       "    } else {\n",
       "      load_libs(js_urls, function() {\n",
       "        console.log(\"Bokeh: BokehJS plotting callback run at\", now());\n",
       "        run_inline_js();\n",
       "      });\n",
       "    }\n",
       "  }(this));\n",
       "</script>"
      ]
     },
     "metadata": {},
     "output_type": "display_data"
    },
    {
     "data": {
      "text/html": [
       "<p><code>&lt;Bokeh Notebook handle for <strong>In[14]</strong>&gt;</code></p>"
      ],
      "text/plain": [
       "<bokeh.io._CommsHandle at 0x104b3cd50>"
      ]
     },
     "execution_count": 14,
     "metadata": {},
     "output_type": "execute_result"
    }
   ],
   "source": [
    "p = figure(plot_width=400, plot_height=400)\n",
    "p.asterisk([1,2,3,4,5], [2,5,8,2,7], size=12, color=\"olive\")\n",
    "\n",
    "# change just some things about the x-axes\n",
    "p.xaxis.axis_label = \"Temp\"\n",
    "p.xaxis.axis_line_width = 3\n",
    "p.xaxis.axis_line_color = \"red\"\n",
    "\n",
    "# change just some things about the y-axes\n",
    "p.yaxis.axis_label = \"Pressure\"\n",
    "p.yaxis.major_label_text_color = \"orange\"\n",
    "p.yaxis.major_label_orientation = \"vertical\"\n",
    "\n",
    "# change things on all axes\n",
    "p.axis.minor_tick_in = -3\n",
    "p.axis.minor_tick_out = 6\n",
    "\n",
    "show(p)"
   ]
  },
  {
   "cell_type": "code",
   "execution_count": 12,
   "metadata": {
    "collapsed": true
   },
   "outputs": [],
   "source": [
    "# EXERCISE Create a plot of your own and customize several axis properties\n",
    "\n"
   ]
  },
  {
   "cell_type": "markdown",
   "metadata": {},
   "source": [
    "There are further customizations possible. See the [User Guide](http://bokeh.pydata.org/en/latest/docs/user_guide.html) for more information on topics such as [tick label formatting](http://bokeh.pydata.org/en/latest/docs/user_guide/styling.html#tick-label-formats) or [limiting axis bounds](http://bokeh.pydata.org/en/latest/docs/user_guide/styling.html#bounds)."
   ]
  },
  {
   "cell_type": "markdown",
   "metadata": {},
   "source": [
    "# Grids\n",
    "\n",
    "[Grids](http://bokeh.pydata.org/en/latest/docs/user_guide/styling.html#grids)\n",
    "\n",
    "* **grid** [line properties](http://bokeh.pydata.org/en/latest/docs/user_guide/styling.html#line-properties)\n",
    "* **band** [fill properties]()"
   ]
  },
  {
   "cell_type": "code",
   "execution_count": 15,
   "metadata": {
    "collapsed": false
   },
   "outputs": [
    {
     "data": {
      "text/html": [
       "\n",
       "\n",
       "    <div class=\"bk-root\">\n",
       "        <div class=\"plotdiv\" id=\"6c4ed677-b210-4f02-b760-265e9c85220f\"></div>\n",
       "    </div>\n",
       "<script type=\"text/javascript\">\n",
       "  \n",
       "  (function(global) {\n",
       "    function now() {\n",
       "      return new Date();\n",
       "    }\n",
       "  \n",
       "    var force = \"\";\n",
       "  \n",
       "    if (typeof (window._bokeh_onload_callbacks) === \"undefined\" || force !== \"\") {\n",
       "      window._bokeh_onload_callbacks = [];\n",
       "      window._bokeh_is_loading = undefined;\n",
       "    }\n",
       "  \n",
       "    function run_callbacks() {\n",
       "      window._bokeh_onload_callbacks.forEach(function(callback) { callback() });\n",
       "      delete window._bokeh_onload_callbacks\n",
       "      console.info(\"Bokeh: all callbacks have finished\");\n",
       "    }\n",
       "  \n",
       "    function load_libs(js_urls, callback) {\n",
       "      window._bokeh_onload_callbacks.push(callback);\n",
       "      if (window._bokeh_is_loading > 0) {\n",
       "        console.log(\"Bokeh: BokehJS is being loaded, scheduling callback at\", now());\n",
       "        return null;\n",
       "      }\n",
       "      if (js_urls == null || js_urls.length === 0) {\n",
       "        run_callbacks();\n",
       "        return null;\n",
       "      }\n",
       "      console.log(\"Bokeh: BokehJS not loaded, scheduling load and callback at\", now());\n",
       "      window._bokeh_is_loading = js_urls.length;\n",
       "      for (var i = 0; i < js_urls.length; i++) {\n",
       "        var url = js_urls[i];\n",
       "        var s = document.createElement('script');\n",
       "        s.src = url;\n",
       "        s.async = false;\n",
       "        s.onreadystatechange = s.onload = function() {\n",
       "          window._bokeh_is_loading--;\n",
       "          if (window._bokeh_is_loading === 0) {\n",
       "            console.log(\"Bokeh: all BokehJS libraries loaded\");\n",
       "            run_callbacks()\n",
       "          }\n",
       "        };\n",
       "        s.onerror = function() {\n",
       "          console.warn(\"failed to load library \" + url);\n",
       "        };\n",
       "        console.log(\"Bokeh: injecting script tag for BokehJS library: \", url);\n",
       "        document.getElementsByTagName(\"head\")[0].appendChild(s);\n",
       "      }\n",
       "    };var element = document.getElementById(\"6c4ed677-b210-4f02-b760-265e9c85220f\");\n",
       "    if (element == null) {\n",
       "      console.log(\"Bokeh: ERROR: autoload.js configured with elementid '6c4ed677-b210-4f02-b760-265e9c85220f' but no matching script tag was found. \")\n",
       "      return false;\n",
       "    }\n",
       "  \n",
       "    var js_urls = [];\n",
       "  \n",
       "    var inline_js = [\n",
       "      function(Bokeh) {\n",
       "        Bokeh.$(function() {\n",
       "            var docs_json = {\"13611697-f54f-4011-b802-4ca712567e18\":{\"roots\":{\"references\":[{\"attributes\":{\"bottom_units\":\"screen\",\"fill_alpha\":{\"value\":0.5},\"fill_color\":{\"value\":\"lightgrey\"},\"left_units\":\"screen\",\"level\":\"overlay\",\"line_alpha\":{\"value\":1.0},\"line_color\":{\"value\":\"black\"},\"line_dash\":[4,4],\"line_width\":{\"value\":2},\"plot\":null,\"render_mode\":\"css\",\"right_units\":\"screen\",\"top_units\":\"screen\"},\"id\":\"8ce9b489-aa27-465a-abd1-7ea9a28f92db\",\"type\":\"BoxAnnotation\"},{\"attributes\":{\"grid_line_color\":{\"value\":null},\"plot\":{\"id\":\"06a2ada6-964d-4333-a46b-9a412d1f9fdd\",\"subtype\":\"Figure\",\"type\":\"Plot\"},\"ticker\":{\"id\":\"df750335-3918-4879-aa02-e126038892f8\",\"type\":\"BasicTicker\"}},\"id\":\"bbcaae96-c1d7-48d1-af38-4c2ae4409987\",\"type\":\"Grid\"},{\"attributes\":{},\"id\":\"241433d4-f286-4466-bb7f-a3347822e315\",\"type\":\"BasicTickFormatter\"},{\"attributes\":{\"plot\":{\"id\":\"06a2ada6-964d-4333-a46b-9a412d1f9fdd\",\"subtype\":\"Figure\",\"type\":\"Plot\"}},\"id\":\"4e28a6de-f6e8-48e3-881a-4b928b17991c\",\"type\":\"PanTool\"},{\"attributes\":{\"plot\":{\"id\":\"06a2ada6-964d-4333-a46b-9a412d1f9fdd\",\"subtype\":\"Figure\",\"type\":\"Plot\"}},\"id\":\"95281988-8245-4e8a-ba45-3bd20084dd72\",\"type\":\"SaveTool\"},{\"attributes\":{\"plot\":{\"id\":\"06a2ada6-964d-4333-a46b-9a412d1f9fdd\",\"subtype\":\"Figure\",\"type\":\"Plot\"}},\"id\":\"acd301b2-c559-4761-ae53-b2ba60d90b7e\",\"type\":\"ResetTool\"},{\"attributes\":{},\"id\":\"53072148-382e-48ab-be74-c700841a514a\",\"type\":\"BasicTicker\"},{\"attributes\":{\"callback\":null},\"id\":\"1107f370-c824-45d5-981d-1319d2459fc1\",\"type\":\"DataRange1d\"},{\"attributes\":{\"active_drag\":\"auto\",\"active_scroll\":\"auto\",\"active_tap\":\"auto\",\"tools\":[{\"id\":\"4e28a6de-f6e8-48e3-881a-4b928b17991c\",\"type\":\"PanTool\"},{\"id\":\"a08c5caa-45bd-498c-a7dc-c025c80a9bbc\",\"type\":\"WheelZoomTool\"},{\"id\":\"eb5074f6-2d91-4ef8-96cc-4114ab0631ef\",\"type\":\"BoxZoomTool\"},{\"id\":\"95281988-8245-4e8a-ba45-3bd20084dd72\",\"type\":\"SaveTool\"},{\"id\":\"acd301b2-c559-4761-ae53-b2ba60d90b7e\",\"type\":\"ResetTool\"},{\"id\":\"7b52ff21-e66b-47f7-a2b8-d2b5dfd617bc\",\"type\":\"HelpTool\"}]},\"id\":\"414d9d0b-f6a8-40b3-8727-6bee75418490\",\"type\":\"Toolbar\"},{\"attributes\":{},\"id\":\"df750335-3918-4879-aa02-e126038892f8\",\"type\":\"BasicTicker\"},{\"attributes\":{\"fill_alpha\":{\"value\":0.1},\"fill_color\":{\"value\":\"#1f77b4\"},\"line_alpha\":{\"value\":0.1},\"line_color\":{\"value\":\"#1f77b4\"},\"size\":{\"units\":\"screen\",\"value\":10},\"x\":{\"field\":\"x\"},\"y\":{\"field\":\"y\"}},\"id\":\"29024b18-caa2-4bee-8d3b-f2ee0e209015\",\"type\":\"Circle\"},{\"attributes\":{\"plot\":null,\"text\":null},\"id\":\"84748c8c-7956-4b4f-b7ed-65c7595db3bc\",\"type\":\"Title\"},{\"attributes\":{},\"id\":\"7fe9e8d0-5ef1-462f-8b53-1b15da73e560\",\"type\":\"ToolEvents\"},{\"attributes\":{\"fill_color\":{\"value\":\"#1f77b4\"},\"line_color\":{\"value\":\"#1f77b4\"},\"size\":{\"units\":\"screen\",\"value\":10},\"x\":{\"field\":\"x\"},\"y\":{\"field\":\"y\"}},\"id\":\"2e28736e-d4bb-462f-a0ab-ce9f4fc5880b\",\"type\":\"Circle\"},{\"attributes\":{\"plot\":{\"id\":\"06a2ada6-964d-4333-a46b-9a412d1f9fdd\",\"subtype\":\"Figure\",\"type\":\"Plot\"}},\"id\":\"a08c5caa-45bd-498c-a7dc-c025c80a9bbc\",\"type\":\"WheelZoomTool\"},{\"attributes\":{\"callback\":null},\"id\":\"6092b02b-4c12-4625-8fd8-681c7a0c7b66\",\"type\":\"DataRange1d\"},{\"attributes\":{\"data_source\":{\"id\":\"27afb54e-a001-4449-ae9a-cd279f9b042f\",\"type\":\"ColumnDataSource\"},\"glyph\":{\"id\":\"2e28736e-d4bb-462f-a0ab-ce9f4fc5880b\",\"type\":\"Circle\"},\"hover_glyph\":null,\"nonselection_glyph\":{\"id\":\"29024b18-caa2-4bee-8d3b-f2ee0e209015\",\"type\":\"Circle\"},\"selection_glyph\":null},\"id\":\"f5978a20-49d9-4524-8295-1c0a974660b3\",\"type\":\"GlyphRenderer\"},{\"attributes\":{\"callback\":null,\"column_names\":[\"y\",\"x\"],\"data\":{\"x\":[1,2,3,4,5],\"y\":[2,5,8,2,7]}},\"id\":\"27afb54e-a001-4449-ae9a-cd279f9b042f\",\"type\":\"ColumnDataSource\"},{\"attributes\":{},\"id\":\"3a7eef15-fae9-4a6e-ab68-df17dddbb0be\",\"type\":\"BasicTickFormatter\"},{\"attributes\":{\"dimension\":1,\"grid_line_alpha\":{\"value\":0.5},\"grid_line_dash\":[6,4],\"plot\":{\"id\":\"06a2ada6-964d-4333-a46b-9a412d1f9fdd\",\"subtype\":\"Figure\",\"type\":\"Plot\"},\"ticker\":{\"id\":\"53072148-382e-48ab-be74-c700841a514a\",\"type\":\"BasicTicker\"}},\"id\":\"d01895ab-0660-46b2-8831-e9107ea4a3eb\",\"type\":\"Grid\"},{\"attributes\":{\"below\":[{\"id\":\"41478ecf-dcbb-48be-b9e5-473671c3b4c4\",\"type\":\"LinearAxis\"}],\"left\":[{\"id\":\"3901c545-7eaf-4fa2-8ac3-e617186465f1\",\"type\":\"LinearAxis\"}],\"plot_height\":400,\"plot_width\":400,\"renderers\":[{\"id\":\"41478ecf-dcbb-48be-b9e5-473671c3b4c4\",\"type\":\"LinearAxis\"},{\"id\":\"bbcaae96-c1d7-48d1-af38-4c2ae4409987\",\"type\":\"Grid\"},{\"id\":\"3901c545-7eaf-4fa2-8ac3-e617186465f1\",\"type\":\"LinearAxis\"},{\"id\":\"d01895ab-0660-46b2-8831-e9107ea4a3eb\",\"type\":\"Grid\"},{\"id\":\"8ce9b489-aa27-465a-abd1-7ea9a28f92db\",\"type\":\"BoxAnnotation\"},{\"id\":\"f5978a20-49d9-4524-8295-1c0a974660b3\",\"type\":\"GlyphRenderer\"}],\"title\":{\"id\":\"84748c8c-7956-4b4f-b7ed-65c7595db3bc\",\"type\":\"Title\"},\"tool_events\":{\"id\":\"7fe9e8d0-5ef1-462f-8b53-1b15da73e560\",\"type\":\"ToolEvents\"},\"toolbar\":{\"id\":\"414d9d0b-f6a8-40b3-8727-6bee75418490\",\"type\":\"Toolbar\"},\"x_range\":{\"id\":\"6092b02b-4c12-4625-8fd8-681c7a0c7b66\",\"type\":\"DataRange1d\"},\"y_range\":{\"id\":\"1107f370-c824-45d5-981d-1319d2459fc1\",\"type\":\"DataRange1d\"}},\"id\":\"06a2ada6-964d-4333-a46b-9a412d1f9fdd\",\"subtype\":\"Figure\",\"type\":\"Plot\"},{\"attributes\":{\"plot\":{\"id\":\"06a2ada6-964d-4333-a46b-9a412d1f9fdd\",\"subtype\":\"Figure\",\"type\":\"Plot\"}},\"id\":\"7b52ff21-e66b-47f7-a2b8-d2b5dfd617bc\",\"type\":\"HelpTool\"},{\"attributes\":{\"formatter\":{\"id\":\"241433d4-f286-4466-bb7f-a3347822e315\",\"type\":\"BasicTickFormatter\"},\"plot\":{\"id\":\"06a2ada6-964d-4333-a46b-9a412d1f9fdd\",\"subtype\":\"Figure\",\"type\":\"Plot\"},\"ticker\":{\"id\":\"53072148-382e-48ab-be74-c700841a514a\",\"type\":\"BasicTicker\"}},\"id\":\"3901c545-7eaf-4fa2-8ac3-e617186465f1\",\"type\":\"LinearAxis\"},{\"attributes\":{\"formatter\":{\"id\":\"3a7eef15-fae9-4a6e-ab68-df17dddbb0be\",\"type\":\"BasicTickFormatter\"},\"plot\":{\"id\":\"06a2ada6-964d-4333-a46b-9a412d1f9fdd\",\"subtype\":\"Figure\",\"type\":\"Plot\"},\"ticker\":{\"id\":\"df750335-3918-4879-aa02-e126038892f8\",\"type\":\"BasicTicker\"}},\"id\":\"41478ecf-dcbb-48be-b9e5-473671c3b4c4\",\"type\":\"LinearAxis\"},{\"attributes\":{\"overlay\":{\"id\":\"8ce9b489-aa27-465a-abd1-7ea9a28f92db\",\"type\":\"BoxAnnotation\"},\"plot\":{\"id\":\"06a2ada6-964d-4333-a46b-9a412d1f9fdd\",\"subtype\":\"Figure\",\"type\":\"Plot\"}},\"id\":\"eb5074f6-2d91-4ef8-96cc-4114ab0631ef\",\"type\":\"BoxZoomTool\"}],\"root_ids\":[\"06a2ada6-964d-4333-a46b-9a412d1f9fdd\"]},\"title\":\"Bokeh Application\",\"version\":\"0.12.1\"}};\n",
       "            var render_items = [{\"docid\":\"13611697-f54f-4011-b802-4ca712567e18\",\"elementid\":\"6c4ed677-b210-4f02-b760-265e9c85220f\",\"modelid\":\"06a2ada6-964d-4333-a46b-9a412d1f9fdd\",\"notebook_comms_target\":\"47f57833-87ad-417f-9723-787af23cbcd2\"}];\n",
       "            \n",
       "            Bokeh.embed.embed_items(docs_json, render_items);\n",
       "        });\n",
       "      },\n",
       "      function(Bokeh) {\n",
       "      }\n",
       "    ];\n",
       "  \n",
       "    function run_inline_js() {\n",
       "      for (var i = 0; i < inline_js.length; i++) {\n",
       "        inline_js[i](window.Bokeh);\n",
       "      }\n",
       "    }\n",
       "  \n",
       "    if (window._bokeh_is_loading === 0) {\n",
       "      console.log(\"Bokeh: BokehJS loaded, going straight to plotting\");\n",
       "      run_inline_js();\n",
       "    } else {\n",
       "      load_libs(js_urls, function() {\n",
       "        console.log(\"Bokeh: BokehJS plotting callback run at\", now());\n",
       "        run_inline_js();\n",
       "      });\n",
       "    }\n",
       "  }(this));\n",
       "</script>"
      ]
     },
     "metadata": {},
     "output_type": "display_data"
    },
    {
     "data": {
      "text/html": [
       "<p><code>&lt;Bokeh Notebook handle for <strong>In[15]</strong>&gt;</code></p>"
      ],
      "text/plain": [
       "<bokeh.io._CommsHandle at 0x11356c390>"
      ]
     },
     "execution_count": 15,
     "metadata": {},
     "output_type": "execute_result"
    }
   ],
   "source": [
    "p = figure(plot_width=400, plot_height=400)\n",
    "p.circle([1,2,3,4,5], [2,5,8,2,7], size=10)\n",
    "\n",
    "# change just some things about the x-grid\n",
    "p.xgrid.grid_line_color = None\n",
    "\n",
    "# change just some things about the y-grid\n",
    "p.ygrid.grid_line_alpha = 0.5\n",
    "p.ygrid.grid_line_dash = [6, 4]\n",
    "\n",
    "show(p)"
   ]
  },
  {
   "cell_type": "code",
   "execution_count": 10,
   "metadata": {
    "collapsed": false
   },
   "outputs": [
    {
     "data": {
      "text/html": [
       "\n",
       "\n",
       "    <div class=\"bk-root\">\n",
       "        <div class=\"plotdiv\" id=\"fdbe164d-795d-42b0-9d40-b8c8c3ba1236\"></div>\n",
       "    </div>\n",
       "<script type=\"text/javascript\">\n",
       "  \n",
       "  (function(global) {\n",
       "    function now() {\n",
       "      return new Date();\n",
       "    }\n",
       "  \n",
       "    var force = \"\";\n",
       "  \n",
       "    if (typeof (window._bokeh_onload_callbacks) === \"undefined\" || force !== \"\") {\n",
       "      window._bokeh_onload_callbacks = [];\n",
       "      window._bokeh_is_loading = undefined;\n",
       "    }\n",
       "  \n",
       "    function run_callbacks() {\n",
       "      window._bokeh_onload_callbacks.forEach(function(callback) { callback() });\n",
       "      delete window._bokeh_onload_callbacks\n",
       "      console.info(\"Bokeh: all callbacks have finished\");\n",
       "    }\n",
       "  \n",
       "    function load_libs(js_urls, callback) {\n",
       "      window._bokeh_onload_callbacks.push(callback);\n",
       "      if (window._bokeh_is_loading > 0) {\n",
       "        console.log(\"Bokeh: BokehJS is being loaded, scheduling callback at\", now());\n",
       "        return null;\n",
       "      }\n",
       "      if (js_urls == null || js_urls.length === 0) {\n",
       "        run_callbacks();\n",
       "        return null;\n",
       "      }\n",
       "      console.log(\"Bokeh: BokehJS not loaded, scheduling load and callback at\", now());\n",
       "      window._bokeh_is_loading = js_urls.length;\n",
       "      for (var i = 0; i < js_urls.length; i++) {\n",
       "        var url = js_urls[i];\n",
       "        var s = document.createElement('script');\n",
       "        s.src = url;\n",
       "        s.async = false;\n",
       "        s.onreadystatechange = s.onload = function() {\n",
       "          window._bokeh_is_loading--;\n",
       "          if (window._bokeh_is_loading === 0) {\n",
       "            console.log(\"Bokeh: all BokehJS libraries loaded\");\n",
       "            run_callbacks()\n",
       "          }\n",
       "        };\n",
       "        s.onerror = function() {\n",
       "          console.warn(\"failed to load library \" + url);\n",
       "        };\n",
       "        console.log(\"Bokeh: injecting script tag for BokehJS library: \", url);\n",
       "        document.getElementsByTagName(\"head\")[0].appendChild(s);\n",
       "      }\n",
       "    };var element = document.getElementById(\"fdbe164d-795d-42b0-9d40-b8c8c3ba1236\");\n",
       "    if (element == null) {\n",
       "      console.log(\"Bokeh: ERROR: autoload.js configured with elementid 'fdbe164d-795d-42b0-9d40-b8c8c3ba1236' but no matching script tag was found. \")\n",
       "      return false;\n",
       "    }\n",
       "  \n",
       "    var js_urls = [];\n",
       "  \n",
       "    var inline_js = [\n",
       "      function(Bokeh) {\n",
       "        Bokeh.$(function() {\n",
       "            var docs_json = {\"a272c7c0-a9c9-4cd5-aa52-bd7c5e5e7b97\":{\"roots\":{\"references\":[{\"attributes\":{},\"id\":\"06095247-a62b-4c31-bc07-c7b9ec377d82\",\"type\":\"BasicTicker\"},{\"attributes\":{\"bottom_units\":\"screen\",\"fill_alpha\":{\"value\":0.5},\"fill_color\":{\"value\":\"lightgrey\"},\"left_units\":\"screen\",\"level\":\"overlay\",\"line_alpha\":{\"value\":1.0},\"line_color\":{\"value\":\"black\"},\"line_dash\":[4,4],\"line_width\":{\"value\":2},\"plot\":null,\"render_mode\":\"css\",\"right_units\":\"screen\",\"top_units\":\"screen\"},\"id\":\"232e87cb-f0db-4f02-a738-a130dc6c7178\",\"type\":\"BoxAnnotation\"},{\"attributes\":{\"callback\":null},\"id\":\"aac330cf-62f7-4798-bf58-347bdf5a5c61\",\"type\":\"DataRange1d\"},{\"attributes\":{\"formatter\":{\"id\":\"131dd734-8392-4b37-8902-18aa616fc6d8\",\"type\":\"BasicTickFormatter\"},\"plot\":{\"id\":\"81c7cd0b-a850-4b56-b476-c21bf9a72db8\",\"subtype\":\"Figure\",\"type\":\"Plot\"},\"ticker\":{\"id\":\"06095247-a62b-4c31-bc07-c7b9ec377d82\",\"type\":\"BasicTicker\"}},\"id\":\"46e1c926-64e6-4005-801c-3b691cbd1073\",\"type\":\"LinearAxis\"},{\"attributes\":{\"active_drag\":\"auto\",\"active_scroll\":\"auto\",\"active_tap\":\"auto\",\"tools\":[{\"id\":\"d2171e80-b257-4c00-a146-043782f71380\",\"type\":\"PanTool\"},{\"id\":\"5feebc61-9169-4880-897e-0d2130fa06fc\",\"type\":\"WheelZoomTool\"},{\"id\":\"a9592801-7ad2-4204-af5c-74745b54e193\",\"type\":\"BoxZoomTool\"},{\"id\":\"884dddeb-30ba-409d-a7bc-726cfc3dba24\",\"type\":\"SaveTool\"},{\"id\":\"08507421-ad37-4f97-990e-27bb31ccf754\",\"type\":\"ResetTool\"},{\"id\":\"3fa031da-bdd3-482b-be70-ff7744e7d70b\",\"type\":\"HelpTool\"}]},\"id\":\"33bda200-5622-49b8-953f-88fdffcef4aa\",\"type\":\"Toolbar\"},{\"attributes\":{\"plot\":{\"id\":\"81c7cd0b-a850-4b56-b476-c21bf9a72db8\",\"subtype\":\"Figure\",\"type\":\"Plot\"}},\"id\":\"3fa031da-bdd3-482b-be70-ff7744e7d70b\",\"type\":\"HelpTool\"},{\"attributes\":{\"plot\":{\"id\":\"81c7cd0b-a850-4b56-b476-c21bf9a72db8\",\"subtype\":\"Figure\",\"type\":\"Plot\"}},\"id\":\"d2171e80-b257-4c00-a146-043782f71380\",\"type\":\"PanTool\"},{\"attributes\":{\"callback\":null},\"id\":\"168a93c6-d030-411a-aaaf-dfa31ccbe568\",\"type\":\"DataRange1d\"},{\"attributes\":{},\"id\":\"131dd734-8392-4b37-8902-18aa616fc6d8\",\"type\":\"BasicTickFormatter\"},{\"attributes\":{\"plot\":{\"id\":\"81c7cd0b-a850-4b56-b476-c21bf9a72db8\",\"subtype\":\"Figure\",\"type\":\"Plot\"}},\"id\":\"08507421-ad37-4f97-990e-27bb31ccf754\",\"type\":\"ResetTool\"},{\"attributes\":{},\"id\":\"59ab30ed-ac09-43a8-82a5-5ec4d2ff07c0\",\"type\":\"BasicTickFormatter\"},{\"attributes\":{\"below\":[{\"id\":\"f48e4be0-f0d8-49ad-8eae-eb8237858634\",\"type\":\"LinearAxis\"}],\"left\":[{\"id\":\"46e1c926-64e6-4005-801c-3b691cbd1073\",\"type\":\"LinearAxis\"}],\"plot_height\":400,\"plot_width\":400,\"renderers\":[{\"id\":\"f48e4be0-f0d8-49ad-8eae-eb8237858634\",\"type\":\"LinearAxis\"},{\"id\":\"af22ef73-1b06-4962-bd79-7380d8954843\",\"type\":\"Grid\"},{\"id\":\"46e1c926-64e6-4005-801c-3b691cbd1073\",\"type\":\"LinearAxis\"},{\"id\":\"fa819011-5c65-48ef-8f5c-7d62a6762866\",\"type\":\"Grid\"},{\"id\":\"232e87cb-f0db-4f02-a738-a130dc6c7178\",\"type\":\"BoxAnnotation\"},{\"id\":\"b6783cb8-d23a-453e-bc1f-cafc7e3f64e7\",\"type\":\"GlyphRenderer\"}],\"title\":{\"id\":\"9d136078-cdae-4031-8612-b9115d2b7ab2\",\"type\":\"Title\"},\"tool_events\":{\"id\":\"d530b78a-1e40-40b2-a59a-39e18ace957c\",\"type\":\"ToolEvents\"},\"toolbar\":{\"id\":\"33bda200-5622-49b8-953f-88fdffcef4aa\",\"type\":\"Toolbar\"},\"x_range\":{\"id\":\"aac330cf-62f7-4798-bf58-347bdf5a5c61\",\"type\":\"DataRange1d\"},\"y_range\":{\"id\":\"168a93c6-d030-411a-aaaf-dfa31ccbe568\",\"type\":\"DataRange1d\"}},\"id\":\"81c7cd0b-a850-4b56-b476-c21bf9a72db8\",\"subtype\":\"Figure\",\"type\":\"Plot\"},{\"attributes\":{},\"id\":\"3c5c044e-f73b-48de-ba68-96ba3e3d1f19\",\"type\":\"BasicTicker\"},{\"attributes\":{\"callback\":null,\"column_names\":[\"y\",\"x\"],\"data\":{\"x\":[1,2,3,4,5],\"y\":[2,5,8,2,7]}},\"id\":\"9d7437e8-3ab1-44c1-b486-d3f428107768\",\"type\":\"ColumnDataSource\"},{\"attributes\":{\"grid_line_color\":{\"value\":null},\"plot\":{\"id\":\"81c7cd0b-a850-4b56-b476-c21bf9a72db8\",\"subtype\":\"Figure\",\"type\":\"Plot\"},\"ticker\":{\"id\":\"3c5c044e-f73b-48de-ba68-96ba3e3d1f19\",\"type\":\"BasicTicker\"}},\"id\":\"af22ef73-1b06-4962-bd79-7380d8954843\",\"type\":\"Grid\"},{\"attributes\":{\"plot\":null,\"text\":null},\"id\":\"9d136078-cdae-4031-8612-b9115d2b7ab2\",\"type\":\"Title\"},{\"attributes\":{\"fill_color\":{\"value\":\"#1f77b4\"},\"line_color\":{\"value\":\"#1f77b4\"},\"size\":{\"units\":\"screen\",\"value\":10},\"x\":{\"field\":\"x\"},\"y\":{\"field\":\"y\"}},\"id\":\"f87732e4-7537-4923-a169-a36d429ac3ca\",\"type\":\"Circle\"},{\"attributes\":{\"band_fill_alpha\":{\"value\":0.1},\"band_fill_color\":{\"value\":\"navy\"},\"dimension\":1,\"plot\":{\"id\":\"81c7cd0b-a850-4b56-b476-c21bf9a72db8\",\"subtype\":\"Figure\",\"type\":\"Plot\"},\"ticker\":{\"id\":\"06095247-a62b-4c31-bc07-c7b9ec377d82\",\"type\":\"BasicTicker\"}},\"id\":\"fa819011-5c65-48ef-8f5c-7d62a6762866\",\"type\":\"Grid\"},{\"attributes\":{\"overlay\":{\"id\":\"232e87cb-f0db-4f02-a738-a130dc6c7178\",\"type\":\"BoxAnnotation\"},\"plot\":{\"id\":\"81c7cd0b-a850-4b56-b476-c21bf9a72db8\",\"subtype\":\"Figure\",\"type\":\"Plot\"}},\"id\":\"a9592801-7ad2-4204-af5c-74745b54e193\",\"type\":\"BoxZoomTool\"},{\"attributes\":{\"plot\":{\"id\":\"81c7cd0b-a850-4b56-b476-c21bf9a72db8\",\"subtype\":\"Figure\",\"type\":\"Plot\"}},\"id\":\"5feebc61-9169-4880-897e-0d2130fa06fc\",\"type\":\"WheelZoomTool\"},{\"attributes\":{\"plot\":{\"id\":\"81c7cd0b-a850-4b56-b476-c21bf9a72db8\",\"subtype\":\"Figure\",\"type\":\"Plot\"}},\"id\":\"884dddeb-30ba-409d-a7bc-726cfc3dba24\",\"type\":\"SaveTool\"},{\"attributes\":{\"data_source\":{\"id\":\"9d7437e8-3ab1-44c1-b486-d3f428107768\",\"type\":\"ColumnDataSource\"},\"glyph\":{\"id\":\"f87732e4-7537-4923-a169-a36d429ac3ca\",\"type\":\"Circle\"},\"hover_glyph\":null,\"nonselection_glyph\":{\"id\":\"519e4521-4b39-44f7-860a-f0e8b99d4200\",\"type\":\"Circle\"},\"selection_glyph\":null},\"id\":\"b6783cb8-d23a-453e-bc1f-cafc7e3f64e7\",\"type\":\"GlyphRenderer\"},{\"attributes\":{},\"id\":\"d530b78a-1e40-40b2-a59a-39e18ace957c\",\"type\":\"ToolEvents\"},{\"attributes\":{\"formatter\":{\"id\":\"59ab30ed-ac09-43a8-82a5-5ec4d2ff07c0\",\"type\":\"BasicTickFormatter\"},\"plot\":{\"id\":\"81c7cd0b-a850-4b56-b476-c21bf9a72db8\",\"subtype\":\"Figure\",\"type\":\"Plot\"},\"ticker\":{\"id\":\"3c5c044e-f73b-48de-ba68-96ba3e3d1f19\",\"type\":\"BasicTicker\"}},\"id\":\"f48e4be0-f0d8-49ad-8eae-eb8237858634\",\"type\":\"LinearAxis\"},{\"attributes\":{\"fill_alpha\":{\"value\":0.1},\"fill_color\":{\"value\":\"#1f77b4\"},\"line_alpha\":{\"value\":0.1},\"line_color\":{\"value\":\"#1f77b4\"},\"size\":{\"units\":\"screen\",\"value\":10},\"x\":{\"field\":\"x\"},\"y\":{\"field\":\"y\"}},\"id\":\"519e4521-4b39-44f7-860a-f0e8b99d4200\",\"type\":\"Circle\"}],\"root_ids\":[\"81c7cd0b-a850-4b56-b476-c21bf9a72db8\"]},\"title\":\"Bokeh Application\",\"version\":\"0.12.1\"}};\n",
       "            var render_items = [{\"docid\":\"a272c7c0-a9c9-4cd5-aa52-bd7c5e5e7b97\",\"elementid\":\"fdbe164d-795d-42b0-9d40-b8c8c3ba1236\",\"modelid\":\"81c7cd0b-a850-4b56-b476-c21bf9a72db8\",\"notebook_comms_target\":\"1d94c91b-5c22-47c3-958a-5f3bce9b57b6\"}];\n",
       "            \n",
       "            Bokeh.embed.embed_items(docs_json, render_items);\n",
       "        });\n",
       "      },\n",
       "      function(Bokeh) {\n",
       "      }\n",
       "    ];\n",
       "  \n",
       "    function run_inline_js() {\n",
       "      for (var i = 0; i < inline_js.length; i++) {\n",
       "        inline_js[i](window.Bokeh);\n",
       "      }\n",
       "    }\n",
       "  \n",
       "    if (window._bokeh_is_loading === 0) {\n",
       "      console.log(\"Bokeh: BokehJS loaded, going straight to plotting\");\n",
       "      run_inline_js();\n",
       "    } else {\n",
       "      load_libs(js_urls, function() {\n",
       "        console.log(\"Bokeh: BokehJS plotting callback run at\", now());\n",
       "        run_inline_js();\n",
       "      });\n",
       "    }\n",
       "  }(this));\n",
       "</script>"
      ]
     },
     "metadata": {},
     "output_type": "display_data"
    },
    {
     "data": {
      "text/html": [
       "<p><code>&lt;Bokeh Notebook handle for <strong>In[10]</strong>&gt;</code></p>"
      ],
      "text/plain": [
       "<bokeh.io._CommsHandle at 0x11356c950>"
      ]
     },
     "execution_count": 10,
     "metadata": {},
     "output_type": "execute_result"
    }
   ],
   "source": [
    "p = figure(plot_width=400, plot_height=400)\n",
    "p.circle([1,2,3,4,5], [2,5,8,2,7], size=10)\n",
    "\n",
    "# change just some things about the x-grid\n",
    "p.xgrid.grid_line_color = None\n",
    "\n",
    "# change just some things about the y-grid\n",
    "p.ygrid.band_fill_alpha = 0.1\n",
    "p.ygrid.band_fill_color = \"navy\"\n",
    "\n",
    "show(p)"
   ]
  },
  {
   "cell_type": "code",
   "execution_count": 15,
   "metadata": {
    "collapsed": true
   },
   "outputs": [],
   "source": [
    "# EXERCISE Create a plot of your own and customize several grid properties\n",
    "\n"
   ]
  },
  {
   "cell_type": "markdown",
   "metadata": {},
   "source": [
    "# Legends\n",
    "\n",
    "[Legends](http://bokeh.pydata.org/en/latest/docs/user_guide/styling.html#legends)"
   ]
  },
  {
   "cell_type": "code",
   "execution_count": 26,
   "metadata": {
    "collapsed": false
   },
   "outputs": [
    {
     "data": {
      "text/html": [
       "\n",
       "\n",
       "    <div class=\"bk-root\">\n",
       "        <div class=\"plotdiv\" id=\"03947d68-a1a2-44a6-b7e2-9c6cc51561ba\"></div>\n",
       "    </div>\n",
       "<script type=\"text/javascript\">\n",
       "  \n",
       "  (function(global) {\n",
       "    function now() {\n",
       "      return new Date();\n",
       "    }\n",
       "  \n",
       "    var force = \"\";\n",
       "  \n",
       "    if (typeof (window._bokeh_onload_callbacks) === \"undefined\" || force !== \"\") {\n",
       "      window._bokeh_onload_callbacks = [];\n",
       "      window._bokeh_is_loading = undefined;\n",
       "    }\n",
       "  \n",
       "    function run_callbacks() {\n",
       "      window._bokeh_onload_callbacks.forEach(function(callback) { callback() });\n",
       "      delete window._bokeh_onload_callbacks\n",
       "      console.info(\"Bokeh: all callbacks have finished\");\n",
       "    }\n",
       "  \n",
       "    function load_libs(js_urls, callback) {\n",
       "      window._bokeh_onload_callbacks.push(callback);\n",
       "      if (window._bokeh_is_loading > 0) {\n",
       "        console.log(\"Bokeh: BokehJS is being loaded, scheduling callback at\", now());\n",
       "        return null;\n",
       "      }\n",
       "      if (js_urls == null || js_urls.length === 0) {\n",
       "        run_callbacks();\n",
       "        return null;\n",
       "      }\n",
       "      console.log(\"Bokeh: BokehJS not loaded, scheduling load and callback at\", now());\n",
       "      window._bokeh_is_loading = js_urls.length;\n",
       "      for (var i = 0; i < js_urls.length; i++) {\n",
       "        var url = js_urls[i];\n",
       "        var s = document.createElement('script');\n",
       "        s.src = url;\n",
       "        s.async = false;\n",
       "        s.onreadystatechange = s.onload = function() {\n",
       "          window._bokeh_is_loading--;\n",
       "          if (window._bokeh_is_loading === 0) {\n",
       "            console.log(\"Bokeh: all BokehJS libraries loaded\");\n",
       "            run_callbacks()\n",
       "          }\n",
       "        };\n",
       "        s.onerror = function() {\n",
       "          console.warn(\"failed to load library \" + url);\n",
       "        };\n",
       "        console.log(\"Bokeh: injecting script tag for BokehJS library: \", url);\n",
       "        document.getElementsByTagName(\"head\")[0].appendChild(s);\n",
       "      }\n",
       "    };var element = document.getElementById(\"03947d68-a1a2-44a6-b7e2-9c6cc51561ba\");\n",
       "    if (element == null) {\n",
       "      console.log(\"Bokeh: ERROR: autoload.js configured with elementid '03947d68-a1a2-44a6-b7e2-9c6cc51561ba' but no matching script tag was found. \")\n",
       "      return false;\n",
       "    }\n",
       "  \n",
       "    var js_urls = [];\n",
       "  \n",
       "    var inline_js = [\n",
       "      function(Bokeh) {\n",
       "        Bokeh.$(function() {\n",
       "            var docs_json = {\"105626f4-8404-4791-97df-f76e50d39687\":{\"roots\":{\"references\":[{\"attributes\":{\"formatter\":{\"id\":\"92315a76-bbd2-4419-bae4-7de44e988999\",\"type\":\"BasicTickFormatter\"},\"plot\":{\"id\":\"a4d3f050-dc92-4a44-b390-fbab0b4d06fe\",\"subtype\":\"Figure\",\"type\":\"Plot\"},\"ticker\":{\"id\":\"444042e2-241e-4da6-98d7-49864c048637\",\"type\":\"BasicTicker\"}},\"id\":\"e8922d3d-e20c-4474-9513-1ebddad18921\",\"type\":\"LinearAxis\"},{\"attributes\":{\"callback\":null,\"column_names\":[\"y\",\"x\"],\"data\":{\"x\":[0.0,0.17649396930279737,0.35298793860559474,0.5294819079083921,0.7059758772111895,0.8824698465139869,1.0589638158167842,1.2354577851195816,1.411951754422379,1.5884457237251763,1.7649396930279737,1.941433662330771,2.1179276316335685,2.294421600936366,2.470915570239163,2.6474095395419606,2.823903508844758,3.0003974781475553,3.1768914474503527,3.35338541675315,3.5298793860559474,3.706373355358745,3.882867324661542,4.05936129396434,4.235855263267137,4.412349232569934,4.588843201872732,4.7653371711755295,4.941831140478326,5.118325109781123,5.294819079083921,5.471313048386719,5.647807017689516,5.824300986992313,6.000794956295111,6.177288925597908,6.353782894900705,6.530276864203502,6.7067708335063,6.883264802809098,7.059758772111895,7.236252741414692,7.41274671071749,7.589240680020287,7.765734649323084,7.942228618625881,8.11872258792868,8.295216557231477,8.471710526534274,8.64820449583707,8.824698465139868,9.001192434442666,9.177686403745463,9.35418037304826,9.530674342351059,9.707168311653856,9.883662280956653,10.06015625025945,10.236650219562247,10.413144188865045,10.589638158167842,10.76613212747064,10.942626096773438,11.119120066076235,11.295614035379032,11.472108004681829,11.648601973984626,11.825095943287424,12.001589912590221,12.178083881893018,12.354577851195817,12.531071820498614,12.70756578980141,12.884059759104208,13.060553728407005,13.237047697709803,13.4135416670126,13.590035636315397,13.766529605618196,13.943023574920993,14.11951754422379,14.296011513526587,14.472505482829384,14.648999452132182,14.82549342143498,15.001987390737776,15.178481360040575,15.354975329343372,15.531469298646169,15.707963267948966],\"y\":[2.0,1.9689306557231667,1.876687927046459,1.7261377350641682,1.5219575755219354,1.2704911920910773,0.9795514804124569,0.65817774655202,0.31635486168860805,-0.03529696128625716,-0.3858521308189936,-0.724419127659365,-1.0404788972217642,-1.3242116697136006,-1.566802053943705,-1.7607129257461827,-1.8999196014859816,-1.9800970210289086,-1.9987541245239564,-1.9553112479994288,-1.8511181331424422,-1.689411991709764,-1.4752169274812446,-1.2151878406497973,-0.9174036644361812,-0.591116357931369,-0.24646345379431753,0.10584690824032698,0.4548686762422126,0.7897579727411816,1.1001100068896825,1.376282344491738,1.6096944921106515,1.7930944873736565,1.9207842126875585,1.9887964320159641,1.9950180503015276,1.9392557659437766,1.8232420765530837,1.6505814513859545,1.4266383428487606,1.1583705164790676,0.8541128777327521,0.5233185119368806,0.17626498312720368,-0.17626498312720248,-0.5233185119368827,-0.8541128777327525,-1.1583705164790667,-1.4266383428487597,-1.6505814513859538,-1.823242076553084,-1.9392557659437764,-1.9950180503015276,-1.988796432015964,-1.9207842126875583,-1.7930944873736572,-1.609694492110652,-1.376282344491739,-1.100110006889682,-0.7897579727411828,-0.45486867624221383,-0.10584690824032465,0.24646345379431808,0.5911163579313677,0.91740366443618,1.2151878406497962,1.4752169274812452,1.6894119917097639,1.8511181331424418,1.955311247999429,1.9987541245239564,1.9800970210289088,1.899919601485982,1.7607129257461835,1.5668020539437046,1.324211669713601,1.0404788972217653,0.7244191276593637,0.3858521308189931,0.0352969612862575,-0.3163548616886069,-0.658177746552018,-0.9795514804124572,-1.2704911920910769,-1.5219575755219346,-1.726137735064169,-1.8766879270464591,-1.9689306557231665,-2.0]}},\"id\":\"5371272f-5c0f-424e-bb59-6ccacbc0fa53\",\"type\":\"ColumnDataSource\"},{\"attributes\":{\"data_source\":{\"id\":\"ae520f03-f9df-4979-a7cc-70086668acb3\",\"type\":\"ColumnDataSource\"},\"glyph\":{\"id\":\"39515c2c-7f33-42f5-adaa-723646a3f570\",\"type\":\"Line\"},\"hover_glyph\":null,\"nonselection_glyph\":{\"id\":\"1d88d7f9-7591-47d6-8b37-664c7200ae00\",\"type\":\"Line\"},\"selection_glyph\":null},\"id\":\"97ce798a-a821-4749-a684-b8a829064ec3\",\"type\":\"GlyphRenderer\"},{\"attributes\":{\"line_alpha\":{\"value\":0.1},\"line_color\":{\"value\":\"#1f77b4\"},\"x\":{\"field\":\"x\"},\"y\":{\"field\":\"y\"}},\"id\":\"dfba2ffc-3fb5-485a-9e00-bc9c5bff96a6\",\"type\":\"Line\"},{\"attributes\":{\"fill_alpha\":{\"value\":0.1},\"fill_color\":{\"value\":\"#1f77b4\"},\"line_alpha\":{\"value\":0.1},\"line_color\":{\"value\":\"#1f77b4\"},\"x\":{\"field\":\"x\"},\"y\":{\"field\":\"y\"}},\"id\":\"588ea261-7ee1-490e-9081-7925d28ca44d\",\"type\":\"Square\"},{\"attributes\":{\"legends\":[[\"cos(x)\",[{\"id\":\"0693889f-d8cd-460b-be42-aff259402a5c\",\"type\":\"GlyphRenderer\"},{\"id\":\"97ce798a-a821-4749-a684-b8a829064ec3\",\"type\":\"GlyphRenderer\"}]],[\"1.5*cos(x)\",[{\"id\":\"43420114-abb4-4322-a084-3be1230dc1f5\",\"type\":\"GlyphRenderer\"}]],[\"2*cos(x)\",[{\"id\":\"dd9cd0b8-cf9f-4c61-99ff-77b2490415d6\",\"type\":\"GlyphRenderer\"},{\"id\":\"91b46f79-e5d6-41c7-bbf5-401b40e00d75\",\"type\":\"GlyphRenderer\"}]]],\"location\":\"bottom_left\",\"plot\":{\"id\":\"a4d3f050-dc92-4a44-b390-fbab0b4d06fe\",\"subtype\":\"Figure\",\"type\":\"Plot\"}},\"id\":\"e0a5129d-ef21-4b63-b981-244f9d90915f\",\"type\":\"Legend\"},{\"attributes\":{\"fill_alpha\":{\"value\":0.1},\"fill_color\":{\"value\":\"#1f77b4\"},\"line_alpha\":{\"value\":0.1},\"line_color\":{\"value\":\"#1f77b4\"},\"x\":{\"field\":\"x\"},\"y\":{\"field\":\"y\"}},\"id\":\"765a207b-a5b5-4105-b91e-4c639082e840\",\"type\":\"Circle\"},{\"attributes\":{},\"id\":\"a5a71fac-71cb-4164-a0c3-a90e21ef33bb\",\"type\":\"BasicTickFormatter\"},{\"attributes\":{\"line_color\":{\"value\":\"red\"},\"x\":{\"field\":\"x\"},\"y\":{\"field\":\"y\"}},\"id\":\"3738769b-7e0a-4857-b349-ff1c90a06554\",\"type\":\"Line\"},{\"attributes\":{\"fill_color\":{\"value\":\"#1f77b4\"},\"line_color\":{\"value\":\"#1f77b4\"},\"x\":{\"field\":\"x\"},\"y\":{\"field\":\"y\"}},\"id\":\"5d38d5f0-49ba-467c-8eda-804f37f1cb3e\",\"type\":\"Circle\"},{\"attributes\":{\"data_source\":{\"id\":\"8398c8f9-d2aa-4ebd-8d0b-da5c9ba6b494\",\"type\":\"ColumnDataSource\"},\"glyph\":{\"id\":\"5d38d5f0-49ba-467c-8eda-804f37f1cb3e\",\"type\":\"Circle\"},\"hover_glyph\":null,\"nonselection_glyph\":{\"id\":\"765a207b-a5b5-4105-b91e-4c639082e840\",\"type\":\"Circle\"},\"selection_glyph\":null},\"id\":\"0693889f-d8cd-460b-be42-aff259402a5c\",\"type\":\"GlyphRenderer\"},{\"attributes\":{\"data_source\":{\"id\":\"5371272f-5c0f-424e-bb59-6ccacbc0fa53\",\"type\":\"ColumnDataSource\"},\"glyph\":{\"id\":\"3738769b-7e0a-4857-b349-ff1c90a06554\",\"type\":\"Line\"},\"hover_glyph\":null,\"nonselection_glyph\":{\"id\":\"dfba2ffc-3fb5-485a-9e00-bc9c5bff96a6\",\"type\":\"Line\"},\"selection_glyph\":null},\"id\":\"dd9cd0b8-cf9f-4c61-99ff-77b2490415d6\",\"type\":\"GlyphRenderer\"},{\"attributes\":{},\"id\":\"444042e2-241e-4da6-98d7-49864c048637\",\"type\":\"BasicTicker\"},{\"attributes\":{\"data_source\":{\"id\":\"07167a5d-12e7-4814-aa25-1dca73a850c7\",\"type\":\"ColumnDataSource\"},\"glyph\":{\"id\":\"e430a596-ac09-42ba-8e2a-a4b768c1fbd0\",\"type\":\"Line\"},\"hover_glyph\":null,\"nonselection_glyph\":{\"id\":\"e5af1051-1307-459b-8f89-372612e0fd69\",\"type\":\"Line\"},\"selection_glyph\":null},\"id\":\"43420114-abb4-4322-a084-3be1230dc1f5\",\"type\":\"GlyphRenderer\"},{\"attributes\":{\"plot\":{\"id\":\"a4d3f050-dc92-4a44-b390-fbab0b4d06fe\",\"subtype\":\"Figure\",\"type\":\"Plot\"}},\"id\":\"4ad37f64-de35-4ba6-8445-03d123f1573b\",\"type\":\"ResetTool\"},{\"attributes\":{\"overlay\":{\"id\":\"545899e5-8780-41bf-bf3b-539e51df573c\",\"type\":\"BoxAnnotation\"},\"plot\":{\"id\":\"a4d3f050-dc92-4a44-b390-fbab0b4d06fe\",\"subtype\":\"Figure\",\"type\":\"Plot\"}},\"id\":\"a9f9ac46-16d7-4716-9e41-d7a9fe9db6e4\",\"type\":\"BoxZoomTool\"},{\"attributes\":{\"plot\":null,\"text\":null},\"id\":\"29de9e95-eb02-424d-bcd7-2e35ca3fbcc8\",\"type\":\"Title\"},{\"attributes\":{\"line_alpha\":{\"value\":0.1},\"line_color\":{\"value\":\"#1f77b4\"},\"x\":{\"field\":\"x\"},\"y\":{\"field\":\"y\"}},\"id\":\"1d88d7f9-7591-47d6-8b37-664c7200ae00\",\"type\":\"Line\"},{\"attributes\":{\"plot\":{\"id\":\"a4d3f050-dc92-4a44-b390-fbab0b4d06fe\",\"subtype\":\"Figure\",\"type\":\"Plot\"},\"ticker\":{\"id\":\"13701335-2529-4fa5-8864-df53ab8d610d\",\"type\":\"BasicTicker\"}},\"id\":\"c6995334-0eb4-47e8-ba2b-a92188870580\",\"type\":\"Grid\"},{\"attributes\":{},\"id\":\"aa0041ee-856e-4989-adde-49a5edf719d6\",\"type\":\"ToolEvents\"},{\"attributes\":{\"callback\":null,\"column_names\":[\"y\",\"x\"],\"data\":{\"x\":[0.0,0.17649396930279737,0.35298793860559474,0.5294819079083921,0.7059758772111895,0.8824698465139869,1.0589638158167842,1.2354577851195816,1.411951754422379,1.5884457237251763,1.7649396930279737,1.941433662330771,2.1179276316335685,2.294421600936366,2.470915570239163,2.6474095395419606,2.823903508844758,3.0003974781475553,3.1768914474503527,3.35338541675315,3.5298793860559474,3.706373355358745,3.882867324661542,4.05936129396434,4.235855263267137,4.412349232569934,4.588843201872732,4.7653371711755295,4.941831140478326,5.118325109781123,5.294819079083921,5.471313048386719,5.647807017689516,5.824300986992313,6.000794956295111,6.177288925597908,6.353782894900705,6.530276864203502,6.7067708335063,6.883264802809098,7.059758772111895,7.236252741414692,7.41274671071749,7.589240680020287,7.765734649323084,7.942228618625881,8.11872258792868,8.295216557231477,8.471710526534274,8.64820449583707,8.824698465139868,9.001192434442666,9.177686403745463,9.35418037304826,9.530674342351059,9.707168311653856,9.883662280956653,10.06015625025945,10.236650219562247,10.413144188865045,10.589638158167842,10.76613212747064,10.942626096773438,11.119120066076235,11.295614035379032,11.472108004681829,11.648601973984626,11.825095943287424,12.001589912590221,12.178083881893018,12.354577851195817,12.531071820498614,12.70756578980141,12.884059759104208,13.060553728407005,13.237047697709803,13.4135416670126,13.590035636315397,13.766529605618196,13.943023574920993,14.11951754422379,14.296011513526587,14.472505482829384,14.648999452132182,14.82549342143498,15.001987390737776,15.178481360040575,15.354975329343372,15.531469298646169,15.707963267948966],\"y\":[1.0,0.9844653278615834,0.9383439635232295,0.8630688675320841,0.7609787877609677,0.6352455960455387,0.48977574020622844,0.32908887327601,0.15817743084430402,-0.01764848064312858,-0.1929260654094968,-0.3622095638296825,-0.5202394486108821,-0.6621058348568003,-0.7834010269718525,-0.8803564628730913,-0.9499598007429908,-0.9900485105144543,-0.9993770622619782,-0.9776556239997144,-0.9255590665712211,-0.844705995854882,-0.7376084637406223,-0.6075939203248987,-0.4587018322180906,-0.2955581789656845,-0.12323172689715876,0.05292345412016349,0.2274343381211063,0.3948789863705908,0.5500550034448413,0.688141172245869,0.8048472460553258,0.8965472436868283,0.9603921063437793,0.9943982160079821,0.9975090251507638,0.9696278829718883,0.9116210382765418,0.8252907256929772,0.7133191714243803,0.5791852582395338,0.42705643886637606,0.2616592559684403,0.08813249156360184,-0.08813249156360124,-0.26165925596844136,-0.42705643886637623,-0.5791852582395334,-0.7133191714243798,-0.8252907256929769,-0.911621038276542,-0.9696278829718882,-0.9975090251507638,-0.994398216007982,-0.9603921063437791,-0.8965472436868286,-0.804847246055326,-0.6881411722458695,-0.550055003444841,-0.3948789863705914,-0.22743433812110692,-0.052923454120162326,0.12323172689715904,0.29555817896568387,0.45870183221809,0.6075939203248981,0.7376084637406226,0.8447059958548819,0.9255590665712209,0.9776556239997145,0.9993770622619782,0.9900485105144544,0.949959800742991,0.8803564628730918,0.7834010269718523,0.6621058348568005,0.5202394486108827,0.36220956382968184,0.19292606540949656,0.01764848064312875,-0.15817743084430344,-0.329088873276009,-0.4897757402062286,-0.6352455960455384,-0.7609787877609673,-0.8630688675320844,-0.9383439635232296,-0.9844653278615833,-1.0]}},\"id\":\"ae520f03-f9df-4979-a7cc-70086668acb3\",\"type\":\"ColumnDataSource\"},{\"attributes\":{\"active_drag\":\"auto\",\"active_scroll\":\"auto\",\"active_tap\":\"auto\",\"tools\":[{\"id\":\"2bda1d2d-fdc4-460c-ac63-742eb00e989b\",\"type\":\"PanTool\"},{\"id\":\"7123464c-ef25-48e1-b7e2-1ac1a5f92181\",\"type\":\"WheelZoomTool\"},{\"id\":\"a9f9ac46-16d7-4716-9e41-d7a9fe9db6e4\",\"type\":\"BoxZoomTool\"},{\"id\":\"24ae6981-9d5b-41f4-88e9-272ce92da4af\",\"type\":\"SaveTool\"},{\"id\":\"4ad37f64-de35-4ba6-8445-03d123f1573b\",\"type\":\"ResetTool\"},{\"id\":\"b9b688f6-e7ee-40fb-bc6e-27ef2291b12d\",\"type\":\"HelpTool\"}]},\"id\":\"2be6908b-2cc1-4ebf-b70e-f2fb3540cd5e\",\"type\":\"Toolbar\"},{\"attributes\":{\"callback\":null},\"id\":\"6b27adea-0728-4a30-a458-3a0516ff47c7\",\"type\":\"DataRange1d\"},{\"attributes\":{\"callback\":null},\"id\":\"bd3d77c4-3726-4015-ac1b-b24591a4b3f0\",\"type\":\"DataRange1d\"},{\"attributes\":{\"line_color\":{\"value\":\"#1f77b4\"},\"x\":{\"field\":\"x\"},\"y\":{\"field\":\"y\"}},\"id\":\"39515c2c-7f33-42f5-adaa-723646a3f570\",\"type\":\"Line\"},{\"attributes\":{\"plot\":{\"id\":\"a4d3f050-dc92-4a44-b390-fbab0b4d06fe\",\"subtype\":\"Figure\",\"type\":\"Plot\"}},\"id\":\"b9b688f6-e7ee-40fb-bc6e-27ef2291b12d\",\"type\":\"HelpTool\"},{\"attributes\":{\"formatter\":{\"id\":\"a5a71fac-71cb-4164-a0c3-a90e21ef33bb\",\"type\":\"BasicTickFormatter\"},\"plot\":{\"id\":\"a4d3f050-dc92-4a44-b390-fbab0b4d06fe\",\"subtype\":\"Figure\",\"type\":\"Plot\"},\"ticker\":{\"id\":\"13701335-2529-4fa5-8864-df53ab8d610d\",\"type\":\"BasicTicker\"}},\"id\":\"79ece9b3-2c01-47b2-b29f-df2b7850c873\",\"type\":\"LinearAxis\"},{\"attributes\":{\"below\":[{\"id\":\"79ece9b3-2c01-47b2-b29f-df2b7850c873\",\"type\":\"LinearAxis\"}],\"left\":[{\"id\":\"e8922d3d-e20c-4474-9513-1ebddad18921\",\"type\":\"LinearAxis\"}],\"renderers\":[{\"id\":\"79ece9b3-2c01-47b2-b29f-df2b7850c873\",\"type\":\"LinearAxis\"},{\"id\":\"c6995334-0eb4-47e8-ba2b-a92188870580\",\"type\":\"Grid\"},{\"id\":\"e8922d3d-e20c-4474-9513-1ebddad18921\",\"type\":\"LinearAxis\"},{\"id\":\"cce1c08c-ee72-4878-8224-704a4d690a09\",\"type\":\"Grid\"},{\"id\":\"545899e5-8780-41bf-bf3b-539e51df573c\",\"type\":\"BoxAnnotation\"},{\"id\":\"e0a5129d-ef21-4b63-b981-244f9d90915f\",\"type\":\"Legend\"},{\"id\":\"0693889f-d8cd-460b-be42-aff259402a5c\",\"type\":\"GlyphRenderer\"},{\"id\":\"97ce798a-a821-4749-a684-b8a829064ec3\",\"type\":\"GlyphRenderer\"},{\"id\":\"43420114-abb4-4322-a084-3be1230dc1f5\",\"type\":\"GlyphRenderer\"},{\"id\":\"dd9cd0b8-cf9f-4c61-99ff-77b2490415d6\",\"type\":\"GlyphRenderer\"},{\"id\":\"91b46f79-e5d6-41c7-bbf5-401b40e00d75\",\"type\":\"GlyphRenderer\"}],\"title\":{\"id\":\"29de9e95-eb02-424d-bcd7-2e35ca3fbcc8\",\"type\":\"Title\"},\"tool_events\":{\"id\":\"aa0041ee-856e-4989-adde-49a5edf719d6\",\"type\":\"ToolEvents\"},\"toolbar\":{\"id\":\"2be6908b-2cc1-4ebf-b70e-f2fb3540cd5e\",\"type\":\"Toolbar\"},\"x_range\":{\"id\":\"6b27adea-0728-4a30-a458-3a0516ff47c7\",\"type\":\"DataRange1d\"},\"y_range\":{\"id\":\"bd3d77c4-3726-4015-ac1b-b24591a4b3f0\",\"type\":\"DataRange1d\"}},\"id\":\"a4d3f050-dc92-4a44-b390-fbab0b4d06fe\",\"subtype\":\"Figure\",\"type\":\"Plot\"},{\"attributes\":{\"line_alpha\":{\"value\":0.1},\"line_color\":{\"value\":\"#1f77b4\"},\"line_dash\":[4,4],\"line_width\":{\"value\":2.5},\"x\":{\"field\":\"x\"},\"y\":{\"field\":\"y\"}},\"id\":\"e5af1051-1307-459b-8f89-372612e0fd69\",\"type\":\"Line\"},{\"attributes\":{\"plot\":{\"id\":\"a4d3f050-dc92-4a44-b390-fbab0b4d06fe\",\"subtype\":\"Figure\",\"type\":\"Plot\"}},\"id\":\"2bda1d2d-fdc4-460c-ac63-742eb00e989b\",\"type\":\"PanTool\"},{\"attributes\":{\"callback\":null,\"column_names\":[\"y\",\"x\"],\"data\":{\"x\":[0.0,0.17649396930279737,0.35298793860559474,0.5294819079083921,0.7059758772111895,0.8824698465139869,1.0589638158167842,1.2354577851195816,1.411951754422379,1.5884457237251763,1.7649396930279737,1.941433662330771,2.1179276316335685,2.294421600936366,2.470915570239163,2.6474095395419606,2.823903508844758,3.0003974781475553,3.1768914474503527,3.35338541675315,3.5298793860559474,3.706373355358745,3.882867324661542,4.05936129396434,4.235855263267137,4.412349232569934,4.588843201872732,4.7653371711755295,4.941831140478326,5.118325109781123,5.294819079083921,5.471313048386719,5.647807017689516,5.824300986992313,6.000794956295111,6.177288925597908,6.353782894900705,6.530276864203502,6.7067708335063,6.883264802809098,7.059758772111895,7.236252741414692,7.41274671071749,7.589240680020287,7.765734649323084,7.942228618625881,8.11872258792868,8.295216557231477,8.471710526534274,8.64820449583707,8.824698465139868,9.001192434442666,9.177686403745463,9.35418037304826,9.530674342351059,9.707168311653856,9.883662280956653,10.06015625025945,10.236650219562247,10.413144188865045,10.589638158167842,10.76613212747064,10.942626096773438,11.119120066076235,11.295614035379032,11.472108004681829,11.648601973984626,11.825095943287424,12.001589912590221,12.178083881893018,12.354577851195817,12.531071820498614,12.70756578980141,12.884059759104208,13.060553728407005,13.237047697709803,13.4135416670126,13.590035636315397,13.766529605618196,13.943023574920993,14.11951754422379,14.296011513526587,14.472505482829384,14.648999452132182,14.82549342143498,15.001987390737776,15.178481360040575,15.354975329343372,15.531469298646169,15.707963267948966],\"y\":[1.5,1.476697991792375,1.4075159452848442,1.2946033012981262,1.1414681816414516,0.952868394068308,0.7346636103093427,0.493633309914015,0.23726614626645604,-0.02647272096469287,-0.2893890981142452,-0.5433143457445238,-0.7803591729163232,-0.9931587522852005,-1.1751015404577787,-1.320534694309637,-1.4249397011144862,-1.4850727657716813,-1.4990655933929673,-1.4664834359995715,-1.3883385998568316,-1.2670589937823231,-1.1064126956109335,-0.9113908804873481,-0.6880527483271359,-0.4433372684485267,-0.18484759034573814,0.07938518118024523,0.34115150718165943,0.5923184795558862,0.8250825051672619,1.0322117583688035,1.2072708690829885,1.3448208655302425,1.4405881595156689,1.491597324011973,1.4962635377261457,1.4544418244578323,1.3674315574148128,1.237936088539466,1.0699787571365704,0.8687778873593007,0.6405846582995641,0.39248888395266046,0.13219873734540277,-0.13219873734540186,-0.392488883952662,-0.6405846582995643,-0.8687778873593001,-1.0699787571365698,-1.2379360885394655,-1.3674315574148128,-1.4544418244578323,-1.4962635377261457,-1.4915973240119729,-1.4405881595156687,-1.344820865530243,-1.207270869082989,-1.0322117583688042,-0.8250825051672616,-0.5923184795558871,-0.3411515071816604,-0.07938518118024349,0.18484759034573855,0.44333726844852583,0.688052748327135,0.9113908804873472,1.106412695610934,1.267058993782323,1.3883385998568314,1.4664834359995718,1.4990655933929673,1.4850727657716816,1.4249397011144866,1.3205346943096377,1.1751015404577785,0.9931587522852008,0.780359172916324,0.5433143457445228,0.28938909811424485,0.026472720964693122,-0.23726614626645515,-0.4936333099140135,-0.7346636103093429,-0.9528683940683076,-1.141468181641451,-1.2946033012981266,-1.4075159452848442,-1.4766979917923748,-1.5]}},\"id\":\"07167a5d-12e7-4814-aa25-1dca73a850c7\",\"type\":\"ColumnDataSource\"},{\"attributes\":{\"plot\":{\"id\":\"a4d3f050-dc92-4a44-b390-fbab0b4d06fe\",\"subtype\":\"Figure\",\"type\":\"Plot\"}},\"id\":\"7123464c-ef25-48e1-b7e2-1ac1a5f92181\",\"type\":\"WheelZoomTool\"},{\"attributes\":{\"plot\":{\"id\":\"a4d3f050-dc92-4a44-b390-fbab0b4d06fe\",\"subtype\":\"Figure\",\"type\":\"Plot\"}},\"id\":\"24ae6981-9d5b-41f4-88e9-272ce92da4af\",\"type\":\"SaveTool\"},{\"attributes\":{\"line_color\":{\"value\":\"violet\"},\"line_dash\":[4,4],\"line_width\":{\"value\":2.5},\"x\":{\"field\":\"x\"},\"y\":{\"field\":\"y\"}},\"id\":\"e430a596-ac09-42ba-8e2a-a4b768c1fbd0\",\"type\":\"Line\"},{\"attributes\":{\"callback\":null,\"column_names\":[\"y\",\"x\"],\"data\":{\"x\":[0.0,0.17649396930279737,0.35298793860559474,0.5294819079083921,0.7059758772111895,0.8824698465139869,1.0589638158167842,1.2354577851195816,1.411951754422379,1.5884457237251763,1.7649396930279737,1.941433662330771,2.1179276316335685,2.294421600936366,2.470915570239163,2.6474095395419606,2.823903508844758,3.0003974781475553,3.1768914474503527,3.35338541675315,3.5298793860559474,3.706373355358745,3.882867324661542,4.05936129396434,4.235855263267137,4.412349232569934,4.588843201872732,4.7653371711755295,4.941831140478326,5.118325109781123,5.294819079083921,5.471313048386719,5.647807017689516,5.824300986992313,6.000794956295111,6.177288925597908,6.353782894900705,6.530276864203502,6.7067708335063,6.883264802809098,7.059758772111895,7.236252741414692,7.41274671071749,7.589240680020287,7.765734649323084,7.942228618625881,8.11872258792868,8.295216557231477,8.471710526534274,8.64820449583707,8.824698465139868,9.001192434442666,9.177686403745463,9.35418037304826,9.530674342351059,9.707168311653856,9.883662280956653,10.06015625025945,10.236650219562247,10.413144188865045,10.589638158167842,10.76613212747064,10.942626096773438,11.119120066076235,11.295614035379032,11.472108004681829,11.648601973984626,11.825095943287424,12.001589912590221,12.178083881893018,12.354577851195817,12.531071820498614,12.70756578980141,12.884059759104208,13.060553728407005,13.237047697709803,13.4135416670126,13.590035636315397,13.766529605618196,13.943023574920993,14.11951754422379,14.296011513526587,14.472505482829384,14.648999452132182,14.82549342143498,15.001987390737776,15.178481360040575,15.354975329343372,15.531469298646169,15.707963267948966],\"y\":[1.0,0.9844653278615834,0.9383439635232295,0.8630688675320841,0.7609787877609677,0.6352455960455387,0.48977574020622844,0.32908887327601,0.15817743084430402,-0.01764848064312858,-0.1929260654094968,-0.3622095638296825,-0.5202394486108821,-0.6621058348568003,-0.7834010269718525,-0.8803564628730913,-0.9499598007429908,-0.9900485105144543,-0.9993770622619782,-0.9776556239997144,-0.9255590665712211,-0.844705995854882,-0.7376084637406223,-0.6075939203248987,-0.4587018322180906,-0.2955581789656845,-0.12323172689715876,0.05292345412016349,0.2274343381211063,0.3948789863705908,0.5500550034448413,0.688141172245869,0.8048472460553258,0.8965472436868283,0.9603921063437793,0.9943982160079821,0.9975090251507638,0.9696278829718883,0.9116210382765418,0.8252907256929772,0.7133191714243803,0.5791852582395338,0.42705643886637606,0.2616592559684403,0.08813249156360184,-0.08813249156360124,-0.26165925596844136,-0.42705643886637623,-0.5791852582395334,-0.7133191714243798,-0.8252907256929769,-0.911621038276542,-0.9696278829718882,-0.9975090251507638,-0.994398216007982,-0.9603921063437791,-0.8965472436868286,-0.804847246055326,-0.6881411722458695,-0.550055003444841,-0.3948789863705914,-0.22743433812110692,-0.052923454120162326,0.12323172689715904,0.29555817896568387,0.45870183221809,0.6075939203248981,0.7376084637406226,0.8447059958548819,0.9255590665712209,0.9776556239997145,0.9993770622619782,0.9900485105144544,0.949959800742991,0.8803564628730918,0.7834010269718523,0.6621058348568005,0.5202394486108827,0.36220956382968184,0.19292606540949656,0.01764848064312875,-0.15817743084430344,-0.329088873276009,-0.4897757402062286,-0.6352455960455384,-0.7609787877609673,-0.8630688675320844,-0.9383439635232296,-0.9844653278615833,-1.0]}},\"id\":\"8398c8f9-d2aa-4ebd-8d0b-da5c9ba6b494\",\"type\":\"ColumnDataSource\"},{\"attributes\":{\"data_source\":{\"id\":\"19a27aac-1b2f-4ff5-8882-bc6d34c7ea3d\",\"type\":\"ColumnDataSource\"},\"glyph\":{\"id\":\"8bb09a49-8a33-4e02-9d6b-d93bc23133d7\",\"type\":\"Square\"},\"hover_glyph\":null,\"nonselection_glyph\":{\"id\":\"588ea261-7ee1-490e-9081-7925d28ca44d\",\"type\":\"Square\"},\"selection_glyph\":null},\"id\":\"91b46f79-e5d6-41c7-bbf5-401b40e00d75\",\"type\":\"GlyphRenderer\"},{\"attributes\":{\"fill_color\":{\"value\":\"white\"},\"line_color\":{\"value\":\"indigo\"},\"x\":{\"field\":\"x\"},\"y\":{\"field\":\"y\"}},\"id\":\"8bb09a49-8a33-4e02-9d6b-d93bc23133d7\",\"type\":\"Square\"},{\"attributes\":{},\"id\":\"92315a76-bbd2-4419-bae4-7de44e988999\",\"type\":\"BasicTickFormatter\"},{\"attributes\":{},\"id\":\"13701335-2529-4fa5-8864-df53ab8d610d\",\"type\":\"BasicTicker\"},{\"attributes\":{\"callback\":null,\"column_names\":[\"y\",\"x\"],\"data\":{\"x\":[0.0,0.17649396930279737,0.35298793860559474,0.5294819079083921,0.7059758772111895,0.8824698465139869,1.0589638158167842,1.2354577851195816,1.411951754422379,1.5884457237251763,1.7649396930279737,1.941433662330771,2.1179276316335685,2.294421600936366,2.470915570239163,2.6474095395419606,2.823903508844758,3.0003974781475553,3.1768914474503527,3.35338541675315,3.5298793860559474,3.706373355358745,3.882867324661542,4.05936129396434,4.235855263267137,4.412349232569934,4.588843201872732,4.7653371711755295,4.941831140478326,5.118325109781123,5.294819079083921,5.471313048386719,5.647807017689516,5.824300986992313,6.000794956295111,6.177288925597908,6.353782894900705,6.530276864203502,6.7067708335063,6.883264802809098,7.059758772111895,7.236252741414692,7.41274671071749,7.589240680020287,7.765734649323084,7.942228618625881,8.11872258792868,8.295216557231477,8.471710526534274,8.64820449583707,8.824698465139868,9.001192434442666,9.177686403745463,9.35418037304826,9.530674342351059,9.707168311653856,9.883662280956653,10.06015625025945,10.236650219562247,10.413144188865045,10.589638158167842,10.76613212747064,10.942626096773438,11.119120066076235,11.295614035379032,11.472108004681829,11.648601973984626,11.825095943287424,12.001589912590221,12.178083881893018,12.354577851195817,12.531071820498614,12.70756578980141,12.884059759104208,13.060553728407005,13.237047697709803,13.4135416670126,13.590035636315397,13.766529605618196,13.943023574920993,14.11951754422379,14.296011513526587,14.472505482829384,14.648999452132182,14.82549342143498,15.001987390737776,15.178481360040575,15.354975329343372,15.531469298646169,15.707963267948966],\"y\":[2.0,1.9689306557231667,1.876687927046459,1.7261377350641682,1.5219575755219354,1.2704911920910773,0.9795514804124569,0.65817774655202,0.31635486168860805,-0.03529696128625716,-0.3858521308189936,-0.724419127659365,-1.0404788972217642,-1.3242116697136006,-1.566802053943705,-1.7607129257461827,-1.8999196014859816,-1.9800970210289086,-1.9987541245239564,-1.9553112479994288,-1.8511181331424422,-1.689411991709764,-1.4752169274812446,-1.2151878406497973,-0.9174036644361812,-0.591116357931369,-0.24646345379431753,0.10584690824032698,0.4548686762422126,0.7897579727411816,1.1001100068896825,1.376282344491738,1.6096944921106515,1.7930944873736565,1.9207842126875585,1.9887964320159641,1.9950180503015276,1.9392557659437766,1.8232420765530837,1.6505814513859545,1.4266383428487606,1.1583705164790676,0.8541128777327521,0.5233185119368806,0.17626498312720368,-0.17626498312720248,-0.5233185119368827,-0.8541128777327525,-1.1583705164790667,-1.4266383428487597,-1.6505814513859538,-1.823242076553084,-1.9392557659437764,-1.9950180503015276,-1.988796432015964,-1.9207842126875583,-1.7930944873736572,-1.609694492110652,-1.376282344491739,-1.100110006889682,-0.7897579727411828,-0.45486867624221383,-0.10584690824032465,0.24646345379431808,0.5911163579313677,0.91740366443618,1.2151878406497962,1.4752169274812452,1.6894119917097639,1.8511181331424418,1.955311247999429,1.9987541245239564,1.9800970210289088,1.899919601485982,1.7607129257461835,1.5668020539437046,1.324211669713601,1.0404788972217653,0.7244191276593637,0.3858521308189931,0.0352969612862575,-0.3163548616886069,-0.658177746552018,-0.9795514804124572,-1.2704911920910769,-1.5219575755219346,-1.726137735064169,-1.8766879270464591,-1.9689306557231665,-2.0]}},\"id\":\"19a27aac-1b2f-4ff5-8882-bc6d34c7ea3d\",\"type\":\"ColumnDataSource\"},{\"attributes\":{\"dimension\":1,\"plot\":{\"id\":\"a4d3f050-dc92-4a44-b390-fbab0b4d06fe\",\"subtype\":\"Figure\",\"type\":\"Plot\"},\"ticker\":{\"id\":\"444042e2-241e-4da6-98d7-49864c048637\",\"type\":\"BasicTicker\"}},\"id\":\"cce1c08c-ee72-4878-8224-704a4d690a09\",\"type\":\"Grid\"},{\"attributes\":{\"bottom_units\":\"screen\",\"fill_alpha\":{\"value\":0.5},\"fill_color\":{\"value\":\"lightgrey\"},\"left_units\":\"screen\",\"level\":\"overlay\",\"line_alpha\":{\"value\":1.0},\"line_color\":{\"value\":\"black\"},\"line_dash\":[4,4],\"line_width\":{\"value\":2},\"plot\":null,\"render_mode\":\"css\",\"right_units\":\"screen\",\"top_units\":\"screen\"},\"id\":\"545899e5-8780-41bf-bf3b-539e51df573c\",\"type\":\"BoxAnnotation\"}],\"root_ids\":[\"a4d3f050-dc92-4a44-b390-fbab0b4d06fe\"]},\"title\":\"Bokeh Application\",\"version\":\"0.12.1\"}};\n",
       "            var render_items = [{\"docid\":\"105626f4-8404-4791-97df-f76e50d39687\",\"elementid\":\"03947d68-a1a2-44a6-b7e2-9c6cc51561ba\",\"modelid\":\"a4d3f050-dc92-4a44-b390-fbab0b4d06fe\",\"notebook_comms_target\":\"aee06e61-4550-4b9d-8080-ae120c7d3f32\"}];\n",
       "            \n",
       "            Bokeh.embed.embed_items(docs_json, render_items);\n",
       "        });\n",
       "      },\n",
       "      function(Bokeh) {\n",
       "      }\n",
       "    ];\n",
       "  \n",
       "    function run_inline_js() {\n",
       "      for (var i = 0; i < inline_js.length; i++) {\n",
       "        inline_js[i](window.Bokeh);\n",
       "      }\n",
       "    }\n",
       "  \n",
       "    if (window._bokeh_is_loading === 0) {\n",
       "      console.log(\"Bokeh: BokehJS loaded, going straight to plotting\");\n",
       "      run_inline_js();\n",
       "    } else {\n",
       "      load_libs(js_urls, function() {\n",
       "        console.log(\"Bokeh: BokehJS plotting callback run at\", now());\n",
       "        run_inline_js();\n",
       "      });\n",
       "    }\n",
       "  }(this));\n",
       "</script>"
      ]
     },
     "metadata": {},
     "output_type": "display_data"
    },
    {
     "data": {
      "text/html": [
       "<p><code>&lt;Bokeh Notebook handle for <strong>In[26]</strong>&gt;</code></p>"
      ],
      "text/plain": [
       "<bokeh.io._CommsHandle at 0x11375b690>"
      ]
     },
     "execution_count": 26,
     "metadata": {},
     "output_type": "execute_result"
    }
   ],
   "source": [
    "\n",
    "# The values are ready to go and already changed!\n",
    "\n",
    "import numpy as np\n",
    "\n",
    "x = np.linspace(0, 5*np.pi, 90)\n",
    "y = np.cos(x)\n",
    "\n",
    "p = figure()\n",
    "\n",
    "p.circle(x, y, legend=\"cos(x)\")\n",
    "p.line(x, y, legend=\"cos(x)\")\n",
    "\n",
    "p.line(x, 1.5*y, legend=\"1.5*cos(x)\", line_dash=[4, 4], line_color=\"violet\", line_width=2.5)\n",
    "\n",
    "p.line(x, 2*y, legend=\"2*cos(x)\", line_color=\"red\")\n",
    "p.square(x, 2*y, legend=\"2*cos(x)\", fill_color=\"white\", line_color=\"indigo\")\n",
    "\n",
    "p.legend.location = \"bottom_left\"\n",
    "\n",
    "show(p)"
   ]
  },
  {
   "cell_type": "code",
   "execution_count": 17,
   "metadata": {
    "collapsed": true
   },
   "outputs": [],
   "source": [
    "# EXERCISE Create a plot of your own and add a legend\n",
    "\n"
   ]
  }
 ],
 "metadata": {
  "kernelspec": {
   "display_name": "Python 2",
   "language": "python",
   "name": "python2"
  },
  "language_info": {
   "codemirror_mode": {
    "name": "ipython",
    "version": 2
   },
   "file_extension": ".py",
   "mimetype": "text/x-python",
   "name": "python",
   "nbconvert_exporter": "python",
   "pygments_lexer": "ipython2",
   "version": "2.7.12"
  }
 },
 "nbformat": 4,
 "nbformat_minor": 0
}
